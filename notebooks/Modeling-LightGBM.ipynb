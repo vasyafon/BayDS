{
 "cells": [
  {
   "cell_type": "code",
   "execution_count": 1,
   "metadata": {
    "ExecuteTime": {
     "end_time": "2019-09-01T07:37:35.670157Z",
     "start_time": "2019-09-01T07:37:28.358604Z"
    }
   },
   "outputs": [
    {
     "data": {
      "text/plain": [
       "RendererRegistry.enable('notebook')"
      ]
     },
     "execution_count": 1,
     "metadata": {},
     "output_type": "execute_result"
    }
   ],
   "source": [
    "%load_ext autoreload\n",
    "%autoreload 2\n",
    "\n",
    "import numpy as np\n",
    "import pandas as pd\n",
    "import os\n",
    "\n",
    "import matplotlib.pyplot as plt\n",
    "%matplotlib inline\n",
    "from tqdm import tqdm_notebook\n",
    "from sklearn.preprocessing import StandardScaler\n",
    "from sklearn.svm import NuSVR, SVR\n",
    "from sklearn.metrics import mean_absolute_error\n",
    "pd.options.display.precision = 15\n",
    "\n",
    "import lightgbm as lgb\n",
    "import xgboost as xgb\n",
    "import time\n",
    "import datetime\n",
    "from catboost import CatBoostRegressor\n",
    "from sklearn.preprocessing import LabelEncoder\n",
    "from sklearn.model_selection import StratifiedKFold, KFold, RepeatedKFold, GroupKFold, GridSearchCV, train_test_split, TimeSeriesSplit\n",
    "from sklearn import metrics\n",
    "from sklearn import linear_model\n",
    "import gc\n",
    "import seaborn as sns\n",
    "import warnings\n",
    "warnings.filterwarnings(\"ignore\")\n",
    "\n",
    "import eli5\n",
    "import shap\n",
    "from IPython.display import HTML\n",
    "import json\n",
    "import altair as alt\n",
    "import pickle\n",
    "\n",
    "import networkx as nx\n",
    "import matplotlib.pyplot as plt\n",
    "%matplotlib inline\n",
    "\n",
    "alt.renderers.enable('notebook')"
   ]
  },
  {
   "cell_type": "code",
   "execution_count": 2,
   "metadata": {
    "ExecuteTime": {
     "end_time": "2019-09-01T07:37:35.784143Z",
     "start_time": "2019-09-01T07:37:35.672146Z"
    }
   },
   "outputs": [],
   "source": [
    "main_path = r'../..'"
   ]
  },
  {
   "cell_type": "code",
   "execution_count": 33,
   "metadata": {
    "ExecuteTime": {
     "end_time": "2019-09-01T09:29:17.986972Z",
     "start_time": "2019-09-01T09:29:17.866969Z"
    }
   },
   "outputs": [
    {
     "ename": "ModuleNotFoundError",
     "evalue": "No module named 'lib.training'",
     "output_type": "error",
     "traceback": [
      "\u001b[1;31m---------------------------------------------------------------------------\u001b[0m",
      "\u001b[1;31mModuleNotFoundError\u001b[0m                       Traceback (most recent call last)",
      "\u001b[1;32m<ipython-input-33-02f3c5fd87ed>\u001b[0m in \u001b[0;36m<module>\u001b[1;34m\u001b[0m\n\u001b[0;32m      2\u001b[0m \u001b[0msys\u001b[0m\u001b[1;33m.\u001b[0m\u001b[0mpath\u001b[0m\u001b[1;33m.\u001b[0m\u001b[0mappend\u001b[0m\u001b[1;33m(\u001b[0m\u001b[0mmain_path\u001b[0m\u001b[1;33m)\u001b[0m\u001b[1;33m\u001b[0m\u001b[0m\n\u001b[0;32m      3\u001b[0m \u001b[1;32mfrom\u001b[0m \u001b[0mBayDS\u001b[0m \u001b[1;32mimport\u001b[0m \u001b[1;33m*\u001b[0m\u001b[1;33m\u001b[0m\u001b[0m\n\u001b[1;32m----> 4\u001b[1;33m \u001b[1;32mfrom\u001b[0m \u001b[0mlib\u001b[0m\u001b[1;33m.\u001b[0m\u001b[0mtraining\u001b[0m \u001b[1;32mimport\u001b[0m \u001b[0mplot_importance\u001b[0m\u001b[1;33m\u001b[0m\u001b[0m\n\u001b[0m",
      "\u001b[1;31mModuleNotFoundError\u001b[0m: No module named 'lib.training'"
     ]
    }
   ],
   "source": [
    "import sys\n",
    "sys.path.append(main_path)\n",
    "from BayDS import *\n",
    "# from lib.training import plot_importance"
   ]
  },
  {
   "cell_type": "code",
   "execution_count": 4,
   "metadata": {
    "ExecuteTime": {
     "end_time": "2019-09-01T07:37:36.911752Z",
     "start_time": "2019-09-01T07:37:36.790747Z"
    }
   },
   "outputs": [],
   "source": [
    "experiment_name = '31.08'\n",
    "main_learning_folder = main_path+'/Snapshots/'+experiment_name\n"
   ]
  },
  {
   "cell_type": "code",
   "execution_count": 5,
   "metadata": {
    "ExecuteTime": {
     "end_time": "2019-09-01T07:37:52.634164Z",
     "start_time": "2019-09-01T07:37:36.913747Z"
    }
   },
   "outputs": [],
   "source": [
    "train = pd.read_pickle(f'{main_learning_folder}/train.pkl')\n",
    "test = pd.read_pickle(f'{main_learning_folder}/test.pkl')\n"
   ]
  },
  {
   "cell_type": "code",
   "execution_count": 6,
   "metadata": {
    "ExecuteTime": {
     "end_time": "2019-09-01T07:38:11.002141Z",
     "start_time": "2019-09-01T07:37:52.635151Z"
    }
   },
   "outputs": [
    {
     "data": {
      "text/plain": [
       "28"
      ]
     },
     "execution_count": 6,
     "metadata": {},
     "output_type": "execute_result"
    }
   ],
   "source": [
    "X = train.sort_values('TransactionDT').drop(['isFraud', 'TransactionDT'], axis=1)\n",
    "y = train.sort_values('TransactionDT')['isFraud'].astype(np.uint8)\n",
    "test = test.sort_values('TransactionDT').drop(['TransactionDT'], axis=1)\n",
    "\n",
    "X.drop('Date', axis=1, inplace=True)\n",
    "X=X.astype(np.float32)\n",
    "test.drop('Date', axis=1, inplace=True)\n",
    "test=test.astype(np.float32)\n",
    "del train\n",
    "gc.collect()"
   ]
  },
  {
   "cell_type": "code",
   "execution_count": 41,
   "metadata": {
    "ExecuteTime": {
     "end_time": "2019-09-01T09:32:04.965631Z",
     "start_time": "2019-09-01T09:32:04.747645Z"
    }
   },
   "outputs": [],
   "source": [
    "space_lgb = {\n",
    "    'num_leaves': np.arange(10, 100, 30),\n",
    "    'min_child_weight': np.arange(1, 300, 80),\n",
    "    'learning_rate': [np.float32(0.01)],\n",
    "    'max_bin': np.arange(9, 40, 1),\n",
    "    'lambda_l1': np.arange(0, 3, 1), \n",
    "    'lambda_l2': np.arange(0, 3, 1),\n",
    "    'min_data_in_leaf' : np.arange(5, 250, 90),\n",
    "    'min_sum_hessian_in_leaf' : np.arange(0.0001, 0.01, 0.005),\n",
    "    'bagging_fraction' : np.arange(0.1, 0.9, 0.3),\n",
    "    'max_bin': np.arange(10, 30, 10),\n",
    "    'feature_fraction' : np.arange(0.1, 0.9, 0.3),\n",
    "    'bagging_freq' : np.arange(200, 1000, 400),\n",
    "    'min_gain_to_split': np.arange(0.1, 1, 0.3),     \n",
    "}\n",
    "import itertools\n",
    "result = list(itertools.product(*space_lgb.values()))\n",
    "import random\n",
    "random.seed(77)\n",
    "random.shuffle(result)"
   ]
  },
  {
   "cell_type": "code",
   "execution_count": null,
   "metadata": {
    "ExecuteTime": {
     "start_time": "2019-09-01T09:32:24.748Z"
    }
   },
   "outputs": [
    {
     "name": "stdout",
     "output_type": "stream",
     "text": [
      "######################\n",
      "0/69984\n",
      "{'num_leaves': 40, 'min_child_weight': 241, 'learning_rate': 0.009999999776482582, 'max_bin': 20, 'lambda_l1': 1, 'lambda_l2': 1, 'min_data_in_leaf': 185, 'min_sum_hessian_in_leaf': 0.0051, 'bagging_fraction': 0.1, 'feature_fraction': 0.1, 'bagging_freq': 200, 'min_gain_to_split': 0.1}\n",
      "Fold 1 started at Sun Sep  1 12:32:27 2019\n",
      "Training until validation scores don't improve for 500 rounds.\n"
     ]
    }
   ],
   "source": [
    "num_experiments = len(result)\n",
    "for it,r in enumerate(result):\n",
    "    gc.collect()\n",
    "    print(f'######################\\n{it}/{num_experiments}')\n",
    "    tuned_params_lgb = {k:r[i].item() for i,k in enumerate(space_lgb.keys())}\n",
    "    print(tuned_params_lgb)\n",
    "    # Setting model_folder\n",
    "    model_name = 'lightgbm-%04d'%it\n",
    "    model_folder = f'{main_learning_folder}/{model_name}'\n",
    "    if not os.path.exists(model_folder):\n",
    "        os.makedirs(model_folder)\n",
    "    n_fold = 5\n",
    "    # folds = TimeSeriesSplit(n_splits=n_fold)\n",
    "    folds = KFold(n_splits=n_fold)\n",
    "    # folds = GroupKFold(n_splits=5)\n",
    "    # groups = pd.read_pickle('./groups.pkl').values\n",
    "    \n",
    "    params = { **tuned_params_lgb,\n",
    "          'objective': 'binary',\n",
    "          'max_depth': -1,\n",
    "          \"boosting_type\": \"gbdt\",\n",
    "          \"bagging_seed\": 11,\n",
    "          \"metric\": 'auc',\n",
    "          \"verbosity\": -1,\n",
    "          'reg_alpha': 0.3899927210061127,\n",
    "          'reg_lambda': 0.6485237330340494,\n",
    "          'random_state': 47,\n",
    "#           'device': 'gpu'\n",
    "         }\n",
    "    train_options = {\n",
    "        \"model_type\":'lgb',\n",
    "        \"params\": params,\n",
    "        \"eval_metric\":'auc',\n",
    "        'early_stopping_rounds': 500,\n",
    "        'n_estimators': 10000,\n",
    "        'averaging': 'usual',\n",
    "        'use_groups': False,\n",
    "        'fold_name': folds.__class__.__name__,\n",
    "        'n_splits': n_fold\n",
    "    }\n",
    "    with open(f'{model_folder}/training_params.json', 'w') as f:\n",
    "        q = json.dumps(train_options,indent=2)\n",
    "        f.write(q)\n",
    "    \n",
    "    result_dict_lgb = train_model_classification(X=X, X_test=test, y=y, params=params, folds=folds,\n",
    "                                             model_type=train_options['model_type'], \n",
    "                                             eval_metric=train_options['eval_metric'],\n",
    "                                             plot_feature_importance=True,\n",
    "                                             verbose=500, early_stopping_rounds=train_options['early_stopping_rounds'],\n",
    "                                             n_estimators=train_options['n_estimators'], \n",
    "                                             averaging=train_options['averaging'],\n",
    "                                             n_jobs=-1, groups=None)\n",
    "    # plt.savefig(f'{learning_folder}/feature_importance.png')\n",
    "\n",
    "    plot_importance(result_dict_lgb,f'{model_folder}/feature_importance.png')\n",
    "    \n",
    "    with open(f'{model_folder}/results_dict.pkl', 'wb') as f:\n",
    "    #     q = json.dumps(result_dict_lgb,indent=2)\n",
    "        pickle.dump(result_dict_lgb,f)\n",
    "    #     f.write(q)"
   ]
  },
  {
   "cell_type": "code",
   "execution_count": 14,
   "metadata": {
    "ExecuteTime": {
     "end_time": "2019-08-31T14:23:39.241598Z",
     "start_time": "2019-08-31T14:23:39.022155Z"
    }
   },
   "outputs": [],
   "source": []
  }
 ],
 "metadata": {
  "kernelspec": {
   "display_name": "Python 3",
   "language": "python",
   "name": "python3"
  },
  "language_info": {
   "codemirror_mode": {
    "name": "ipython",
    "version": 3
   },
   "file_extension": ".py",
   "mimetype": "text/x-python",
   "name": "python",
   "nbconvert_exporter": "python",
   "pygments_lexer": "ipython3",
   "version": "3.6.5"
  },
  "toc": {
   "base_numbering": 1,
   "nav_menu": {},
   "number_sections": true,
   "sideBar": true,
   "skip_h1_title": false,
   "title_cell": "Table of Contents",
   "title_sidebar": "Contents",
   "toc_cell": false,
   "toc_position": {},
   "toc_section_display": true,
   "toc_window_display": false
  },
  "varInspector": {
   "cols": {
    "lenName": 16,
    "lenType": 16,
    "lenVar": 40
   },
   "kernels_config": {
    "python": {
     "delete_cmd_postfix": "",
     "delete_cmd_prefix": "del ",
     "library": "var_list.py",
     "varRefreshCmd": "print(var_dic_list())"
    },
    "r": {
     "delete_cmd_postfix": ") ",
     "delete_cmd_prefix": "rm(",
     "library": "var_list.r",
     "varRefreshCmd": "cat(var_dic_list()) "
    }
   },
   "position": {
    "height": "754px",
    "left": "1522px",
    "right": "20px",
    "top": "120px",
    "width": "344px"
   },
   "types_to_exclude": [
    "module",
    "function",
    "builtin_function_or_method",
    "instance",
    "_Feature"
   ],
   "window_display": true
  }
 },
 "nbformat": 4,
 "nbformat_minor": 4
}
