{
 "cells": [
  {
   "cell_type": "code",
   "execution_count": 4,
   "metadata": {
    "ExecuteTime": {
     "end_time": "2019-09-02T20:18:15.113116Z",
     "start_time": "2019-09-02T20:18:14.843117Z"
    }
   },
   "outputs": [
    {
     "name": "stdout",
     "output_type": "stream",
     "text": [
      "The autoreload extension is already loaded. To reload it, use:\n",
      "  %reload_ext autoreload\n"
     ]
    },
    {
     "data": {
      "text/plain": [
       "348"
      ]
     },
     "execution_count": 4,
     "metadata": {},
     "output_type": "execute_result"
    }
   ],
   "source": [
    "%load_ext autoreload\n",
    "%autoreload 2\n",
    "\n",
    "import numpy as np\n",
    "import pandas as pd\n",
    "import os\n",
    "\n",
    "from keras.layers import Concatenate, Input, Dense, Embedding, Flatten, Dropout, BatchNormalization, SpatialDropout1D\n",
    "from keras.callbacks import ModelCheckpoint, ReduceLROnPlateau\n",
    "from keras.models import Model\n",
    "from keras.optimizers import  Adam\n",
    "import keras.backend as k\n",
    "\n",
    "# import matplotlib.pyplot as plt\n",
    "# %matplotlib inline\n",
    "# from tqdm import tqdm_notebook\n",
    "from sklearn.preprocessing import StandardScaler\n",
    "# from sklearn.svm import NuSVR, SVR\n",
    "from sklearn.metrics import mean_absolute_error\n",
    "# pd.options.display.precision = 15\n",
    "from category_encoders.cat_boost import CatBoostEncoder\n",
    "\n",
    "# import lightgbm as lgb\n",
    "# import xgboost as xgb\n",
    "# import time\n",
    "# import datetime\n",
    "# from catboost import CatBoostRegressor\n",
    "# from sklearn.preprocessing import LabelEncoder\n",
    "# from sklearn.model_selection import StratifiedKFold, KFold, RepeatedKFold, GroupKFold, GridSearchCV, train_test_split, TimeSeriesSplit\n",
    "# from sklearn import metrics\n",
    "# from sklearn import linear_model\n",
    "import gc\n",
    "import pickle\n",
    "# import seaborn as sns\n",
    "# import warnings\n",
    "# warnings.filterwarnings(\"ignore\")\n",
    "\n",
    "# import eli5\n",
    "# import shap\n",
    "# from IPython.display import HTML\n",
    "# import json\n",
    "# import altair as alt\n",
    "\n",
    "# import networkx as nx\n",
    "# import matplotlib.pyplot as plt\n",
    "\n",
    "gc.collect()\n",
    "# alt.renderers.enable('notebook')"
   ]
  },
  {
   "cell_type": "code",
   "execution_count": 3,
   "metadata": {
    "ExecuteTime": {
     "end_time": "2019-09-02T20:18:08.432542Z",
     "start_time": "2019-09-02T20:18:08.224527Z"
    }
   },
   "outputs": [],
   "source": [
    "main_path = r'd:\\Documents\\Private\\Kaggle\\IEEEFraud'"
   ]
  },
  {
   "cell_type": "code",
   "execution_count": 5,
   "metadata": {
    "ExecuteTime": {
     "end_time": "2019-09-02T20:18:19.667038Z",
     "start_time": "2019-09-02T20:18:18.155127Z"
    }
   },
   "outputs": [],
   "source": [
    "import sys\n",
    "sys.path.append(main_path)\n",
    "from BayDS import *"
   ]
  },
  {
   "cell_type": "code",
   "execution_count": 6,
   "metadata": {
    "ExecuteTime": {
     "end_time": "2019-09-02T20:18:23.477808Z",
     "start_time": "2019-09-02T20:18:23.236782Z"
    }
   },
   "outputs": [],
   "source": [
    "experiment_name = '31.08'\n",
    "main_learning_folder = main_path+'/Snapshots/'+experiment_name\n"
   ]
  },
  {
   "cell_type": "code",
   "execution_count": null,
   "metadata": {
    "ExecuteTime": {
     "end_time": "2019-09-01T16:28:31.840483Z",
     "start_time": "2019-09-01T16:28:26.730472Z"
    }
   },
   "outputs": [],
   "source": [
    "train = pd.read_pickle(f'{main_learning_folder}/train.pkl')\n",
    "test = pd.read_pickle(f'{main_learning_folder}/test.pkl')\n"
   ]
  },
  {
   "cell_type": "code",
   "execution_count": null,
   "metadata": {
    "ExecuteTime": {
     "end_time": "2019-09-01T16:28:53.594573Z",
     "start_time": "2019-09-01T16:28:31.842452Z"
    }
   },
   "outputs": [],
   "source": [
    "X = train.sort_values('TransactionDT').drop(['isFraud', 'TransactionDT'], axis=1)\n",
    "y = train.sort_values('TransactionDT')['isFraud'].astype(np.uint8)\n",
    "test = test.sort_values('TransactionDT').drop(['TransactionDT'], axis=1)\n",
    "\n",
    "X.drop('Date', axis=1, inplace=True)\n",
    "X=X.astype(np.float32)\n",
    "test.drop('Date', axis=1, inplace=True)\n",
    "test=test.astype(np.float32)\n",
    "del train"
   ]
  },
  {
   "cell_type": "code",
   "execution_count": null,
   "metadata": {
    "ExecuteTime": {
     "end_time": "2019-09-01T16:28:53.926571Z",
     "start_time": "2019-09-01T16:28:53.597572Z"
    }
   },
   "outputs": [],
   "source": [
    "gc.collect()"
   ]
  },
  {
   "cell_type": "code",
   "execution_count": null,
   "metadata": {
    "ExecuteTime": {
     "end_time": "2019-09-01T16:29:00.626777Z",
     "start_time": "2019-09-01T16:28:53.929571Z"
    }
   },
   "outputs": [],
   "source": [
    "merg = pd.read_pickle(f'{main_learning_folder}/catboostencoder.pkl')"
   ]
  },
  {
   "cell_type": "code",
   "execution_count": null,
   "metadata": {
    "ExecuteTime": {
     "end_time": "2019-09-01T17:06:49.862187Z",
     "start_time": "2019-09-01T17:06:49.620003Z"
    }
   },
   "outputs": [],
   "source": [
    "cat_anya = ['ProductCD', 'card4', 'card6', 'P_emaildomain', 'R_emaildomain', 'M1',\n",
    "       'M2', 'M3', 'M4', 'M5', 'M6', 'M7', 'M8', 'M9', 'id_12', 'id_15',\n",
    "       'id_16', 'id_23', 'id_27', 'id_28', 'id_29', 'id_30', 'id_31', 'id_33',\n",
    "       'id_34', 'id_35', 'id_36', 'id_37', 'id_38', 'DeviceType', 'DeviceInfo',\n",
    "       'P_emaildomain_bin', 'P_emaildomain_suffix', 'R_emaildomain_bin',\n",
    "       'R_emaildomain_suffix', 'device_name', 'device_version', 'OS_id_30',\n",
    "       'version_id_30', 'browser_id_31', 'version_id_31', 'screen_width',\n",
    "       'screen_height', 'uid', 'uid2', 'uid3']"
   ]
  },
  {
   "cell_type": "code",
   "execution_count": null,
   "metadata": {
    "ExecuteTime": {
     "end_time": "2019-09-01T17:06:53.087084Z",
     "start_time": "2019-09-01T17:06:52.836019Z"
    }
   },
   "outputs": [],
   "source": [
    "cat_vasya = [\"id_13\", \"id_14\", \"id_17\", \"id_18\", \"id_19\", \"id_20\", \"id_21\", \"id_22\", \"id_23\", \n",
    " \"id_24\", \"id_25\", \"id_26\", \"id_27\", \"id_30\", \"id_31\", \"id_33\", \"DeviceType\", \n",
    " \"DeviceInfo\", \"P_emaildomain\", \"R_emaildomain\", \"card1\", \"card2\", \"card3\", \n",
    " \"card5\", \"addr1\", \"addr2\", \"P_emaildomain_bin\", \"P_emaildomain_suffix\", \n",
    " \"R_emaildomain_bin\", \"R_emaildomain_suffix\", \"M1\", \"M2\", \"M3\", \"M4\", \"M5\", \n",
    " \"M6\", \"M7\", \"M8\", \"M9\", \"card4\", \"card6\", \"ProductCD\", \"id_12\", \"id_15\", \n",
    " \"id_16\", \"id_28\", \"id_29\", \"id_32\", \"id_34\", \"id_35\", \"id_36\", \"id_37\", \"id_38\"]"
   ]
  },
  {
   "cell_type": "code",
   "execution_count": null,
   "metadata": {
    "ExecuteTime": {
     "end_time": "2019-09-01T17:06:56.299513Z",
     "start_time": "2019-09-01T17:06:56.052524Z"
    }
   },
   "outputs": [],
   "source": [
    "cat_features = list(set(cat_vasya) | set(cat_anya))"
   ]
  },
  {
   "cell_type": "code",
   "execution_count": null,
   "metadata": {
    "ExecuteTime": {
     "end_time": "2019-09-01T17:06:59.857571Z",
     "start_time": "2019-09-01T17:06:59.256556Z"
    }
   },
   "outputs": [],
   "source": [
    "num_features = list(set(X.columns) - set(cat_features))"
   ]
  },
  {
   "cell_type": "code",
   "execution_count": null,
   "metadata": {
    "ExecuteTime": {
     "end_time": "2019-09-01T16:29:23.142159Z",
     "start_time": "2019-09-01T16:29:22.891144Z"
    }
   },
   "outputs": [],
   "source": [
    "num_features"
   ]
  },
  {
   "cell_type": "code",
   "execution_count": null,
   "metadata": {
    "ExecuteTime": {
     "end_time": "2019-09-01T16:29:40.617444Z",
     "start_time": "2019-09-01T16:29:32.517727Z"
    },
    "scrolled": true
   },
   "outputs": [],
   "source": [
    "# for col in cat_features:\n",
    "#     alld = pd.concat([X[col],test[col]])\n",
    "#     num_values = len(alld.unique()) \n",
    "#     if num_values > 20:\n",
    "#         print(col, '- Big categroical')\n",
    "#         X[col] = merg[col].loc[X.index]\n",
    "#         test[col]= merg[col].loc[test.index]\n",
    "#     elif num_values>2:\n",
    "#         print(col,'- one-hot')\n",
    "#         temp = pd.get_dummies(alld,prefix=f'{col}_')\n",
    "#         X=pd.concat([X,temp.loc[X.index]],axis=1)\n",
    "#         X.drop([col],axis=1,inplace=True)\n",
    "#         test=pd.concat([test,temp.loc[test.index]],axis=1)\n",
    "#         test.drop([col],axis=1,inplace=True)\n",
    "        \n",
    "# X.to_pickle(f'{main_learning_folder}/X_After_encoding.pkl')\n",
    "# test.to_pickle(f'{main_learning_folder}/test_after_encoding.pkl')\n",
    "\n",
    "X = pd.read_pickle(f'{main_learning_folder}/X_After_encoding.pkl')\n",
    "test = pd.read_pickle(f'{main_learning_folder}/test_after_encoding.pkl')\n",
    "\n",
    "    "
   ]
  },
  {
   "cell_type": "code",
   "execution_count": null,
   "metadata": {
    "ExecuteTime": {
     "end_time": "2019-09-01T17:01:49.519729Z",
     "start_time": "2019-09-01T17:01:48.361694Z"
    }
   },
   "outputs": [],
   "source": [
    "del merg\n",
    "gc.collect()"
   ]
  },
  {
   "cell_type": "code",
   "execution_count": null,
   "metadata": {
    "ExecuteTime": {
     "end_time": "2019-09-01T16:32:13.247999Z",
     "start_time": "2019-09-01T16:29:53.096212Z"
    },
    "scrolled": true
   },
   "outputs": [],
   "source": [
    "for column in num_features:\n",
    "    print(column)\n",
    "    col = pd.concat([X[column],test[column]])\n",
    "    filtered = col[~col.isin([np.inf, -np.inf])].dropna()\n",
    "    vmax = filtered.max()\n",
    "    vmin = filtered.min()\n",
    "    vmean = filtered.mean()\n",
    "    col = col.replace({\n",
    "        np.inf:vmax,\n",
    "        -np.inf:vmin\n",
    "       }).fillna(vmean)\n",
    "    if vmax > 100 and vmin >= 0:\n",
    "        col = np.log1p(col)\n",
    "    \n",
    "    scaler = StandardScaler()\n",
    "    col.values[...] = scaler.fit_transform(col.values.reshape(-1,1)).flatten()\n",
    "    \n",
    "    X[column] = col[X.index]\n",
    "    test[column] = col[test.index]\n",
    "    \n",
    "    "
   ]
  },
  {
   "cell_type": "code",
   "execution_count": null,
   "metadata": {
    "ExecuteTime": {
     "end_time": "2019-09-01T17:05:34.751422Z",
     "start_time": "2019-09-01T17:05:34.465426Z"
    }
   },
   "outputs": [],
   "source": []
  },
  {
   "cell_type": "code",
   "execution_count": null,
   "metadata": {
    "ExecuteTime": {
     "end_time": "2019-09-01T16:32:37.687099Z",
     "start_time": "2019-09-01T16:32:21.152017Z"
    }
   },
   "outputs": [],
   "source": [
    "X.to_pickle(f'{main_learning_folder}/X_encoded_scaled.pkl')\n",
    "y.to_pickle(f'{main_learning_folder}/y.pkl')\n",
    "test.to_pickle(f'{main_learning_folder}/test_encoded_scaled.pkl')"
   ]
  },
  {
   "cell_type": "code",
   "execution_count": 7,
   "metadata": {
    "ExecuteTime": {
     "end_time": "2019-09-02T20:18:40.377119Z",
     "start_time": "2019-09-02T20:18:26.877802Z"
    }
   },
   "outputs": [
    {
     "data": {
      "text/plain": [
       "7"
      ]
     },
     "execution_count": 7,
     "metadata": {},
     "output_type": "execute_result"
    }
   ],
   "source": [
    "#start here\n",
    "y = pd.read_pickle(f'{main_learning_folder}/y.pkl')\n",
    "X = pd.read_pickle(f'{main_learning_folder}/X_encoded_scaled.pkl').astype(np.float32)\n",
    "test = pd.read_pickle(f'{main_learning_folder}/test_encoded_scaled.pkl').astype(np.float32)\n",
    "gc.collect()"
   ]
  },
  {
   "cell_type": "code",
   "execution_count": 8,
   "metadata": {
    "ExecuteTime": {
     "end_time": "2019-09-02T20:18:46.010708Z",
     "start_time": "2019-09-02T20:18:45.760152Z"
    }
   },
   "outputs": [],
   "source": [
    "# Setting model_folder\n",
    "model_name = 'keras-3'\n",
    "model_folder = f'{main_learning_folder}/{model_name}'\n",
    "if not os.path.exists(model_folder):\n",
    "    os.makedirs(model_folder)"
   ]
  },
  {
   "cell_type": "code",
   "execution_count": 9,
   "metadata": {
    "ExecuteTime": {
     "end_time": "2019-09-02T20:18:51.098647Z",
     "start_time": "2019-09-02T20:18:50.862601Z"
    }
   },
   "outputs": [],
   "source": [
    "n_fold = 5\n",
    "# folds = TimeSeriesSplit(n_splits=n_fold)\n",
    "folds = KFold(n_splits=n_fold)\n",
    "# folds = GroupKFold(n_splits=5)\n",
    "# groups = pd.read_pickle('./groups.pkl').values"
   ]
  },
  {
   "cell_type": "code",
   "execution_count": 10,
   "metadata": {
    "ExecuteTime": {
     "end_time": "2019-09-02T20:18:56.156608Z",
     "start_time": "2019-09-02T20:18:55.900609Z"
    }
   },
   "outputs": [
    {
     "data": {
      "text/plain": [
       "0    569877\n",
       "1     20663\n",
       "Name: isFraud, dtype: int64"
      ]
     },
     "execution_count": 10,
     "metadata": {},
     "output_type": "execute_result"
    }
   ],
   "source": [
    "y.value_counts()"
   ]
  },
  {
   "cell_type": "code",
   "execution_count": 11,
   "metadata": {
    "ExecuteTime": {
     "end_time": "2019-09-02T20:19:01.582553Z",
     "start_time": "2019-09-02T20:19:01.303549Z"
    }
   },
   "outputs": [],
   "source": [
    "def NNModel_maker():\n",
    "    k.clear_session()\n",
    "    \n",
    "#     categorical_inputs = []\n",
    "#     for cat in categorical:\n",
    "#         categorical_inputs.append(Input(shape=[1], name=cat))\n",
    "\n",
    "#     categorical_embeddings = []\n",
    "#     for i, cat in enumerate(categorical):\n",
    "#         categorical_embeddings.append(\n",
    "#             Embedding(category_counts[cat], int(np.log1p(category_counts[cat]) + 1), name = cat + \\\n",
    "#                       \"_embed\")(categorical_inputs[i]))\n",
    "\n",
    "#     categorical_logits = Concatenate(name = \"categorical_conc\")([Flatten()(SpatialDropout1D(.1)(cat_emb)) for cat_emb in categorical_embeddings])\n",
    "# \n",
    "    numerical_inputs = Input(shape=[X.shape[1]], name = 'all')\n",
    "    numerical_logits = Dropout(.3)(numerical_inputs)\n",
    "  \n",
    "    x = numerical_logits\n",
    "\n",
    "    x = Dense(200, activation = 'relu')(x)\n",
    "    x = Dropout(.3)(x)\n",
    "    x = Dense(100, activation = 'relu')(x)\n",
    "    x = Dropout(.3)(x)\n",
    "    out = Dense(1, activation = 'sigmoid')(x)    \n",
    "\n",
    "    model = Model(inputs= [numerical_inputs],outputs=out)\n",
    "    loss = \"binary_crossentropy\"\n",
    "    model.compile(optimizer=Adam(lr = 0.0003), loss = loss)\n",
    "    return model\n",
    "\n",
    "\n",
    "params = {\n",
    "    'batch_size': 8000,\n",
    "    'epochs': 30,\n",
    "    'verbose': True,\n",
    "         }\n",
    "train_options = {\n",
    "    \"model_type\":'keras',\n",
    "    \"params\": params,\n",
    "    \"eval_metric\":'auc',\n",
    "    'averaging': 'usual',\n",
    "    'use_groups': False,\n",
    "    'fold_name': folds.__class__.__name__,\n",
    "    'n_splits': n_fold\n",
    "   \n",
    "}"
   ]
  },
  {
   "cell_type": "code",
   "execution_count": 12,
   "metadata": {
    "ExecuteTime": {
     "end_time": "2019-09-02T20:19:06.910889Z",
     "start_time": "2019-09-02T20:19:06.672867Z"
    }
   },
   "outputs": [],
   "source": [
    "with open(f'{model_folder}/training_params.json', 'w') as f:\n",
    "    q = json.dumps(train_options,indent=2)\n",
    "    f.write(q)\n"
   ]
  },
  {
   "cell_type": "code",
   "execution_count": 20,
   "metadata": {
    "ExecuteTime": {
     "end_time": "2019-09-03T16:00:38.194743Z",
     "start_time": "2019-09-03T16:00:37.647568Z"
    }
   },
   "outputs": [],
   "source": [
    "NNModel_maker().save(f'{model_folder}/keras.mdl')"
   ]
  },
  {
   "cell_type": "code",
   "execution_count": null,
   "metadata": {
    "ExecuteTime": {
     "end_time": "2019-09-02T20:17:05.242898Z",
     "start_time": "2019-09-02T20:17:04.964846Z"
    }
   },
   "outputs": [],
   "source": []
  },
  {
   "cell_type": "code",
   "execution_count": 13,
   "metadata": {
    "ExecuteTime": {
     "end_time": "2019-09-02T20:58:14.409587Z",
     "start_time": "2019-09-02T20:19:11.791277Z"
    }
   },
   "outputs": [
    {
     "name": "stdout",
     "output_type": "stream",
     "text": [
      "Fold 1 started at Mon Sep  2 23:19:13 2019\n",
      "WARNING:tensorflow:From c:\\python37\\lib\\site-packages\\keras\\backend\\tensorflow_backend.py:107: The name tf.reset_default_graph is deprecated. Please use tf.compat.v1.reset_default_graph instead.\n",
      "\n",
      "WARNING:tensorflow:From c:\\python37\\lib\\site-packages\\keras\\backend\\tensorflow_backend.py:111: The name tf.placeholder_with_default is deprecated. Please use tf.compat.v1.placeholder_with_default instead.\n",
      "\n",
      "WARNING:tensorflow:From c:\\python37\\lib\\site-packages\\keras\\backend\\tensorflow_backend.py:66: The name tf.get_default_graph is deprecated. Please use tf.compat.v1.get_default_graph instead.\n",
      "\n",
      "WARNING:tensorflow:From c:\\python37\\lib\\site-packages\\keras\\backend\\tensorflow_backend.py:541: The name tf.placeholder is deprecated. Please use tf.compat.v1.placeholder instead.\n",
      "\n",
      "WARNING:tensorflow:From c:\\python37\\lib\\site-packages\\keras\\backend\\tensorflow_backend.py:3733: calling dropout (from tensorflow.python.ops.nn_ops) with keep_prob is deprecated and will be removed in a future version.\n",
      "Instructions for updating:\n",
      "Please use `rate` instead of `keep_prob`. Rate should be set to `rate = 1 - keep_prob`.\n",
      "WARNING:tensorflow:From c:\\python37\\lib\\site-packages\\keras\\backend\\tensorflow_backend.py:4432: The name tf.random_uniform is deprecated. Please use tf.random.uniform instead.\n",
      "\n",
      "WARNING:tensorflow:From c:\\python37\\lib\\site-packages\\keras\\optimizers.py:793: The name tf.train.Optimizer is deprecated. Please use tf.compat.v1.train.Optimizer instead.\n",
      "\n",
      "WARNING:tensorflow:From c:\\python37\\lib\\site-packages\\tensorflow\\python\\ops\\nn_impl.py:180: add_dispatch_support.<locals>.wrapper (from tensorflow.python.ops.array_ops) is deprecated and will be removed in a future version.\n",
      "Instructions for updating:\n",
      "Use tf.where in 2.0, which has the same broadcast rule as np.where\n",
      "Train on 472432 samples, validate on 118108 samples\n",
      "Epoch 1/30\n",
      "472432/472432 [==============================] - 21s 45us/step - loss: 0.2038 - val_loss: 0.1118\n",
      "Epoch 2/30\n",
      "472432/472432 [==============================] - 14s 30us/step - loss: 0.1311 - val_loss: 0.1154\n",
      "Epoch 3/30\n",
      "472432/472432 [==============================] - 15s 31us/step - loss: 0.1241 - val_loss: 0.1163\n",
      "Epoch 4/30\n",
      "472432/472432 [==============================] - 14s 30us/step - loss: 0.1192 - val_loss: 0.1106\n",
      "Epoch 5/30\n",
      "472432/472432 [==============================] - 14s 30us/step - loss: 0.1153 - val_loss: 0.1059\n",
      "Epoch 6/30\n",
      "472432/472432 [==============================] - 14s 30us/step - loss: 0.1126 - val_loss: 0.1059\n",
      "Epoch 7/30\n",
      "472432/472432 [==============================] - 15s 31us/step - loss: 0.1103 - val_loss: 0.1006\n",
      "Epoch 8/30\n",
      "472432/472432 [==============================] - 15s 32us/step - loss: 0.1080 - val_loss: 0.0997\n",
      "Epoch 9/30\n",
      "472432/472432 [==============================] - 15s 32us/step - loss: 0.1063 - val_loss: 0.0981\n",
      "Epoch 10/30\n",
      "472432/472432 [==============================] - 15s 32us/step - loss: 0.1043 - val_loss: 0.0945\n",
      "Epoch 11/30\n",
      "472432/472432 [==============================] - 15s 32us/step - loss: 0.1027 - val_loss: 0.0912\n",
      "Epoch 12/30\n",
      "472432/472432 [==============================] - 15s 32us/step - loss: 0.1018 - val_loss: 0.0900\n",
      "Epoch 13/30\n",
      "472432/472432 [==============================] - 15s 32us/step - loss: 0.1000 - val_loss: 0.0888\n",
      "Epoch 14/30\n",
      "472432/472432 [==============================] - 15s 32us/step - loss: 0.0989 - val_loss: 0.0870\n",
      "Epoch 15/30\n",
      "472432/472432 [==============================] - 15s 32us/step - loss: 0.0969 - val_loss: 0.0853\n",
      "Epoch 16/30\n",
      "472432/472432 [==============================] - 15s 32us/step - loss: 0.0961 - val_loss: 0.0823\n",
      "Epoch 17/30\n",
      "472432/472432 [==============================] - 16s 34us/step - loss: 0.0950 - val_loss: 0.0812\n",
      "Epoch 18/30\n",
      "472432/472432 [==============================] - 15s 33us/step - loss: 0.0934 - val_loss: 0.0802\n",
      "Epoch 19/30\n",
      "472432/472432 [==============================] - 15s 32us/step - loss: 0.0928 - val_loss: 0.0792\n",
      "Epoch 20/30\n",
      "472432/472432 [==============================] - 15s 32us/step - loss: 0.0911 - val_loss: 0.0784\n",
      "Epoch 21/30\n",
      "472432/472432 [==============================] - 15s 32us/step - loss: 0.0906 - val_loss: 0.0778\n",
      "Epoch 22/30\n",
      "472432/472432 [==============================] - 15s 32us/step - loss: 0.0900 - val_loss: 0.0756\n",
      "Epoch 23/30\n",
      "472432/472432 [==============================] - 15s 32us/step - loss: 0.0894 - val_loss: 0.0751\n",
      "Epoch 24/30\n",
      "472432/472432 [==============================] - 16s 34us/step - loss: 0.0883 - val_loss: 0.0756\n",
      "Epoch 25/30\n",
      "472432/472432 [==============================] - 15s 33us/step - loss: 0.0878 - val_loss: 0.0734\n",
      "Epoch 26/30\n",
      "472432/472432 [==============================] - 15s 32us/step - loss: 0.0865 - val_loss: 0.0722\n",
      "Epoch 27/30\n",
      "472432/472432 [==============================] - 15s 33us/step - loss: 0.0862 - val_loss: 0.0733\n",
      "Epoch 28/30\n",
      "472432/472432 [==============================] - 15s 31us/step - loss: 0.0857 - val_loss: 0.0718\n",
      "Epoch 29/30\n",
      "472432/472432 [==============================] - 15s 31us/step - loss: 0.0852 - val_loss: 0.0708\n",
      "Epoch 30/30\n",
      "472432/472432 [==============================] - 15s 31us/step - loss: 0.0844 - val_loss: 0.0716\n",
      "118108/118108 [==============================] - 1s 6us/step\n",
      "Fold 0. auc: 0.9238.\n",
      "Fold 2 started at Mon Sep  2 23:27:10 2019\n",
      "Train on 472432 samples, validate on 118108 samples\n",
      "Epoch 1/30\n",
      "472432/472432 [==============================] - 15s 32us/step - loss: 0.2524 - val_loss: 0.1286\n",
      "Epoch 2/30\n",
      "472432/472432 [==============================] - 14s 31us/step - loss: 0.1257 - val_loss: 0.1197\n",
      "Epoch 3/30\n",
      "472432/472432 [==============================] - 14s 31us/step - loss: 0.1187 - val_loss: 0.1157\n",
      "Epoch 4/30\n",
      "472432/472432 [==============================] - 14s 31us/step - loss: 0.1139 - val_loss: 0.1124\n",
      "Epoch 5/30\n",
      "472432/472432 [==============================] - 14s 31us/step - loss: 0.1105 - val_loss: 0.1097\n",
      "Epoch 6/30\n",
      "472432/472432 [==============================] - 14s 31us/step - loss: 0.1077 - val_loss: 0.1076\n",
      "Epoch 7/30\n",
      "472432/472432 [==============================] - 15s 31us/step - loss: 0.1054 - val_loss: 0.1060\n",
      "Epoch 8/30\n",
      "472432/472432 [==============================] - 15s 33us/step - loss: 0.1033 - val_loss: 0.1043\n",
      "Epoch 9/30\n",
      "472432/472432 [==============================] - 14s 31us/step - loss: 0.1014 - val_loss: 0.1024\n",
      "Epoch 10/30\n",
      "472432/472432 [==============================] - 15s 32us/step - loss: 0.1000 - val_loss: 0.1012\n",
      "Epoch 11/30\n",
      "472432/472432 [==============================] - 15s 32us/step - loss: 0.0983 - val_loss: 0.0994\n",
      "Epoch 12/30\n",
      "472432/472432 [==============================] - 15s 32us/step - loss: 0.0968 - val_loss: 0.0983\n",
      "Epoch 13/30\n",
      "472432/472432 [==============================] - 15s 31us/step - loss: 0.0950 - val_loss: 0.0971\n",
      "Epoch 14/30\n",
      "472432/472432 [==============================] - 15s 31us/step - loss: 0.0943 - val_loss: 0.0960\n",
      "Epoch 15/30\n",
      "472432/472432 [==============================] - 15s 31us/step - loss: 0.0923 - val_loss: 0.0946\n",
      "Epoch 16/30\n",
      "472432/472432 [==============================] - 15s 31us/step - loss: 0.0918 - val_loss: 0.0928\n",
      "Epoch 17/30\n",
      "472432/472432 [==============================] - 15s 31us/step - loss: 0.0905 - val_loss: 0.0920\n",
      "Epoch 18/30\n",
      "472432/472432 [==============================] - 15s 31us/step - loss: 0.0896 - val_loss: 0.0912\n",
      "Epoch 19/30\n",
      "472432/472432 [==============================] - 15s 31us/step - loss: 0.0883 - val_loss: 0.0908\n",
      "Epoch 20/30\n",
      "472432/472432 [==============================] - 15s 31us/step - loss: 0.0871 - val_loss: 0.0890\n",
      "Epoch 21/30\n",
      "472432/472432 [==============================] - 15s 31us/step - loss: 0.0861 - val_loss: 0.0873\n",
      "Epoch 22/30\n",
      "472432/472432 [==============================] - 15s 31us/step - loss: 0.0863 - val_loss: 0.0879\n",
      "Epoch 23/30\n",
      "472432/472432 [==============================] - 15s 31us/step - loss: 0.0848 - val_loss: 0.0866\n",
      "Epoch 24/30\n",
      "472432/472432 [==============================] - 15s 31us/step - loss: 0.0842 - val_loss: 0.0863\n",
      "Epoch 25/30\n",
      "472432/472432 [==============================] - 15s 32us/step - loss: 0.0833 - val_loss: 0.0853\n",
      "Epoch 26/30\n",
      "472432/472432 [==============================] - 15s 31us/step - loss: 0.0830 - val_loss: 0.0853\n",
      "Epoch 27/30\n",
      "472432/472432 [==============================] - 15s 31us/step - loss: 0.0819 - val_loss: 0.0841\n",
      "Epoch 28/30\n",
      "472432/472432 [==============================] - 15s 31us/step - loss: 0.0820 - val_loss: 0.0839\n",
      "Epoch 29/30\n",
      "472432/472432 [==============================] - 15s 31us/step - loss: 0.0810 - val_loss: 0.0845\n",
      "Epoch 30/30\n",
      "472432/472432 [==============================] - 15s 31us/step - loss: 0.0808 - val_loss: 0.0827\n",
      "118108/118108 [==============================] - 1s 5us/step\n",
      "Fold 1. auc: 0.9341.\n",
      "Fold 3 started at Mon Sep  2 23:34:53 2019\n",
      "Train on 472432 samples, validate on 118108 samples\n",
      "Epoch 1/30\n",
      "472432/472432 [==============================] - 15s 32us/step - loss: 0.1692 - val_loss: 0.1170\n",
      "Epoch 2/30\n",
      "472432/472432 [==============================] - 15s 31us/step - loss: 0.1205 - val_loss: 0.1119\n",
      "Epoch 3/30\n",
      "472432/472432 [==============================] - 15s 31us/step - loss: 0.1150 - val_loss: 0.1088\n",
      "Epoch 4/30\n",
      "472432/472432 [==============================] - 15s 31us/step - loss: 0.1097 - val_loss: 0.1061\n",
      "Epoch 5/30\n",
      "472432/472432 [==============================] - 15s 31us/step - loss: 0.1065 - val_loss: 0.1038\n",
      "Epoch 6/30\n",
      "472432/472432 [==============================] - 15s 31us/step - loss: 0.1038 - val_loss: 0.1019\n",
      "Epoch 7/30\n",
      "472432/472432 [==============================] - 15s 31us/step - loss: 0.1016 - val_loss: 0.1001\n",
      "Epoch 8/30\n",
      "472432/472432 [==============================] - 15s 31us/step - loss: 0.0992 - val_loss: 0.0983\n",
      "Epoch 9/30\n",
      "472432/472432 [==============================] - 15s 31us/step - loss: 0.0978 - val_loss: 0.0969\n",
      "Epoch 10/30\n",
      "472432/472432 [==============================] - 15s 31us/step - loss: 0.0966 - val_loss: 0.0960\n",
      "Epoch 11/30\n",
      "472432/472432 [==============================] - 15s 31us/step - loss: 0.0946 - val_loss: 0.0941\n",
      "Epoch 12/30\n",
      "472432/472432 [==============================] - 15s 31us/step - loss: 0.0930 - val_loss: 0.0928\n",
      "Epoch 13/30\n",
      "472432/472432 [==============================] - 15s 31us/step - loss: 0.0916 - val_loss: 0.0917\n",
      "Epoch 14/30\n",
      "472432/472432 [==============================] - 15s 31us/step - loss: 0.0903 - val_loss: 0.0904\n",
      "Epoch 15/30\n",
      "472432/472432 [==============================] - 15s 31us/step - loss: 0.0890 - val_loss: 0.0897\n",
      "Epoch 16/30\n",
      "472432/472432 [==============================] - 15s 31us/step - loss: 0.0883 - val_loss: 0.0880\n",
      "Epoch 17/30\n",
      "472432/472432 [==============================] - 15s 31us/step - loss: 0.0871 - val_loss: 0.0873\n",
      "Epoch 18/30\n",
      "472432/472432 [==============================] - 15s 31us/step - loss: 0.0860 - val_loss: 0.0862\n",
      "Epoch 19/30\n",
      "472432/472432 [==============================] - 15s 31us/step - loss: 0.0850 - val_loss: 0.0856\n",
      "Epoch 20/30\n",
      "472432/472432 [==============================] - 15s 31us/step - loss: 0.0842 - val_loss: 0.0852\n",
      "Epoch 21/30\n",
      "472432/472432 [==============================] - 15s 31us/step - loss: 0.0828 - val_loss: 0.0839\n",
      "Epoch 22/30\n",
      "472432/472432 [==============================] - 15s 31us/step - loss: 0.0825 - val_loss: 0.0836\n",
      "Epoch 23/30\n",
      "472432/472432 [==============================] - 15s 31us/step - loss: 0.0818 - val_loss: 0.0830\n",
      "Epoch 24/30\n",
      "472432/472432 [==============================] - 15s 31us/step - loss: 0.0812 - val_loss: 0.0827\n",
      "Epoch 25/30\n",
      "472432/472432 [==============================] - 15s 31us/step - loss: 0.0807 - val_loss: 0.0820\n",
      "Epoch 26/30\n",
      "472432/472432 [==============================] - 15s 31us/step - loss: 0.0803 - val_loss: 0.0815\n",
      "Epoch 27/30\n",
      "472432/472432 [==============================] - 15s 31us/step - loss: 0.0792 - val_loss: 0.0812\n",
      "Epoch 28/30\n",
      "472432/472432 [==============================] - 15s 31us/step - loss: 0.0785 - val_loss: 0.0811\n",
      "Epoch 29/30\n",
      "472432/472432 [==============================] - 15s 31us/step - loss: 0.0787 - val_loss: 0.0804\n",
      "Epoch 30/30\n",
      "472432/472432 [==============================] - 15s 31us/step - loss: 0.0782 - val_loss: 0.0807\n",
      "118108/118108 [==============================] - 1s 6us/step\n",
      "Fold 2. auc: 0.9281.\n",
      "Fold 4 started at Mon Sep  2 23:42:35 2019\n",
      "Train on 472432 samples, validate on 118108 samples\n",
      "Epoch 1/30\n",
      "472432/472432 [==============================] - 15s 32us/step - loss: 0.1771 - val_loss: 0.1167\n",
      "Epoch 2/30\n",
      "472432/472432 [==============================] - 14s 31us/step - loss: 0.1199 - val_loss: 0.1116\n",
      "Epoch 3/30\n",
      "472432/472432 [==============================] - 15s 31us/step - loss: 0.1136 - val_loss: 0.1078\n",
      "Epoch 4/30\n",
      "472432/472432 [==============================] - 15s 31us/step - loss: 0.1091 - val_loss: 0.1055\n",
      "Epoch 5/30\n",
      "472432/472432 [==============================] - 15s 31us/step - loss: 0.1064 - val_loss: 0.1032\n",
      "Epoch 6/30\n",
      "472432/472432 [==============================] - 16s 34us/step - loss: 0.1034 - val_loss: 0.1012\n",
      "Epoch 7/30\n",
      "472432/472432 [==============================] - 16s 33us/step - loss: 0.1012 - val_loss: 0.0996\n",
      "Epoch 8/30\n",
      "472432/472432 [==============================] - 16s 34us/step - loss: 0.0991 - val_loss: 0.0980\n",
      "Epoch 9/30\n",
      "472432/472432 [==============================] - 16s 34us/step - loss: 0.0979 - val_loss: 0.0964\n",
      "Epoch 10/30\n",
      "472432/472432 [==============================] - 16s 33us/step - loss: 0.0962 - val_loss: 0.0951\n",
      "Epoch 11/30\n",
      "472432/472432 [==============================] - 15s 31us/step - loss: 0.0945 - val_loss: 0.0936\n",
      "Epoch 12/30\n",
      "472432/472432 [==============================] - 15s 31us/step - loss: 0.0930 - val_loss: 0.0923\n",
      "Epoch 13/30\n",
      "472432/472432 [==============================] - 15s 31us/step - loss: 0.0920 - val_loss: 0.0914\n",
      "Epoch 14/30\n",
      "472432/472432 [==============================] - 15s 31us/step - loss: 0.0906 - val_loss: 0.0902\n",
      "Epoch 15/30\n",
      "472432/472432 [==============================] - 15s 31us/step - loss: 0.0890 - val_loss: 0.0894\n",
      "Epoch 16/30\n",
      "472432/472432 [==============================] - 15s 31us/step - loss: 0.0881 - val_loss: 0.0884\n",
      "Epoch 17/30\n",
      "472432/472432 [==============================] - 15s 31us/step - loss: 0.0873 - val_loss: 0.0874\n",
      "Epoch 18/30\n",
      "472432/472432 [==============================] - 15s 31us/step - loss: 0.0863 - val_loss: 0.0860\n",
      "Epoch 19/30\n",
      "472432/472432 [==============================] - 15s 31us/step - loss: 0.0852 - val_loss: 0.0855\n",
      "Epoch 20/30\n",
      "472432/472432 [==============================] - 15s 31us/step - loss: 0.0844 - val_loss: 0.0850\n",
      "Epoch 21/30\n",
      "472432/472432 [==============================] - 15s 31us/step - loss: 0.0834 - val_loss: 0.0841\n",
      "Epoch 22/30\n",
      "472432/472432 [==============================] - 15s 31us/step - loss: 0.0829 - val_loss: 0.0841\n",
      "Epoch 23/30\n",
      "472432/472432 [==============================] - 15s 31us/step - loss: 0.0825 - val_loss: 0.0833\n",
      "Epoch 24/30\n",
      "472432/472432 [==============================] - 15s 31us/step - loss: 0.0816 - val_loss: 0.0826\n",
      "Epoch 25/30\n",
      "472432/472432 [==============================] - 15s 31us/step - loss: 0.0808 - val_loss: 0.0820\n",
      "Epoch 26/30\n",
      "472432/472432 [==============================] - 15s 31us/step - loss: 0.0804 - val_loss: 0.0820\n",
      "Epoch 27/30\n",
      "472432/472432 [==============================] - 15s 31us/step - loss: 0.0794 - val_loss: 0.0818\n",
      "Epoch 28/30\n",
      "472432/472432 [==============================] - 15s 31us/step - loss: 0.0791 - val_loss: 0.0812\n",
      "Epoch 29/30\n",
      "472432/472432 [==============================] - 15s 31us/step - loss: 0.0789 - val_loss: 0.0810\n",
      "Epoch 30/30\n",
      "472432/472432 [==============================] - 15s 31us/step - loss: 0.0785 - val_loss: 0.0804\n",
      "118108/118108 [==============================] - 1s 6us/step\n",
      "Fold 3. auc: 0.9420.\n",
      "Fold 5 started at Mon Sep  2 23:50:25 2019\n",
      "Train on 472432 samples, validate on 118108 samples\n",
      "Epoch 1/30\n",
      "472432/472432 [==============================] - 15s 32us/step - loss: 0.2258 - val_loss: 0.1140\n",
      "Epoch 2/30\n",
      "472432/472432 [==============================] - 15s 33us/step - loss: 0.1281 - val_loss: 0.1081\n",
      "Epoch 3/30\n",
      "472432/472432 [==============================] - 15s 31us/step - loss: 0.1200 - val_loss: 0.1059\n",
      "Epoch 4/30\n",
      "472432/472432 [==============================] - 15s 31us/step - loss: 0.1144 - val_loss: 0.1049\n",
      "Epoch 5/30\n",
      "472432/472432 [==============================] - 15s 31us/step - loss: 0.1114 - val_loss: 0.1041\n",
      "Epoch 6/30\n",
      "472432/472432 [==============================] - 15s 31us/step - loss: 0.1089 - val_loss: 0.1027\n",
      "Epoch 7/30\n"
     ]
    },
    {
     "name": "stdout",
     "output_type": "stream",
     "text": [
      "472432/472432 [==============================] - 15s 31us/step - loss: 0.1059 - val_loss: 0.1012\n",
      "Epoch 8/30\n",
      "472432/472432 [==============================] - 15s 31us/step - loss: 0.1038 - val_loss: 0.0999\n",
      "Epoch 9/30\n",
      "472432/472432 [==============================] - 15s 31us/step - loss: 0.1020 - val_loss: 0.0988\n",
      "Epoch 10/30\n",
      "472432/472432 [==============================] - 15s 32us/step - loss: 0.1003 - val_loss: 0.0976\n",
      "Epoch 11/30\n",
      "472432/472432 [==============================] - 15s 32us/step - loss: 0.0986 - val_loss: 0.0965\n",
      "Epoch 12/30\n",
      "472432/472432 [==============================] - 15s 32us/step - loss: 0.0970 - val_loss: 0.0969\n",
      "Epoch 13/30\n",
      "472432/472432 [==============================] - 15s 31us/step - loss: 0.0954 - val_loss: 0.0950\n",
      "Epoch 14/30\n",
      "472432/472432 [==============================] - 15s 32us/step - loss: 0.0945 - val_loss: 0.0937\n",
      "Epoch 15/30\n",
      "472432/472432 [==============================] - 15s 32us/step - loss: 0.0932 - val_loss: 0.0930\n",
      "Epoch 16/30\n",
      "472432/472432 [==============================] - 15s 31us/step - loss: 0.0921 - val_loss: 0.0925\n",
      "Epoch 17/30\n",
      "472432/472432 [==============================] - 15s 31us/step - loss: 0.0907 - val_loss: 0.0913\n",
      "Epoch 18/30\n",
      "472432/472432 [==============================] - 15s 33us/step - loss: 0.0899 - val_loss: 0.0904\n",
      "Epoch 19/30\n",
      "472432/472432 [==============================] - 15s 32us/step - loss: 0.0884 - val_loss: 0.0900\n",
      "Epoch 20/30\n",
      "472432/472432 [==============================] - 15s 32us/step - loss: 0.0878 - val_loss: 0.0885\n",
      "Epoch 21/30\n",
      "472432/472432 [==============================] - 15s 31us/step - loss: 0.0869 - val_loss: 0.0880\n",
      "Epoch 22/30\n",
      "472432/472432 [==============================] - 15s 32us/step - loss: 0.0859 - val_loss: 0.0877\n",
      "Epoch 23/30\n",
      "472432/472432 [==============================] - 15s 32us/step - loss: 0.0857 - val_loss: 0.0873\n",
      "Epoch 24/30\n",
      "472432/472432 [==============================] - 15s 32us/step - loss: 0.0843 - val_loss: 0.0865\n",
      "Epoch 25/30\n",
      "472432/472432 [==============================] - 15s 31us/step - loss: 0.0837 - val_loss: 0.0863\n",
      "Epoch 26/30\n",
      "472432/472432 [==============================] - 15s 31us/step - loss: 0.0830 - val_loss: 0.0867\n",
      "Epoch 27/30\n",
      "472432/472432 [==============================] - 15s 31us/step - loss: 0.0826 - val_loss: 0.0856\n",
      "Epoch 28/30\n",
      "472432/472432 [==============================] - 15s 31us/step - loss: 0.0828 - val_loss: 0.0852\n",
      "Epoch 29/30\n",
      "472432/472432 [==============================] - 15s 31us/step - loss: 0.0817 - val_loss: 0.0853\n",
      "Epoch 30/30\n",
      "472432/472432 [==============================] - 15s 31us/step - loss: 0.0805 - val_loss: 0.0856\n",
      "118108/118108 [==============================] - 1s 5us/step\n",
      "Fold 4. auc: 0.9174.\n",
      "CV mean score: 0.9291, std: 0.0085.\n"
     ]
    }
   ],
   "source": [
    "gc.collect()\n",
    "result_dict_keras = train_model_classification(model=NNModel_maker, \n",
    "                                             X=X,\n",
    "                                             X_test=test,\n",
    "                                             y=y, params=params, folds=folds,\n",
    "                                             model_type=train_options['model_type'], \n",
    "                                             eval_metric=train_options['eval_metric'],\n",
    "                                             plot_feature_importance=True,\n",
    "                                             averaging=train_options['averaging'],\n",
    "                                             groups=None)"
   ]
  },
  {
   "cell_type": "code",
   "execution_count": null,
   "metadata": {},
   "outputs": [],
   "source": []
  },
  {
   "cell_type": "code",
   "execution_count": 14,
   "metadata": {
    "ExecuteTime": {
     "end_time": "2019-09-02T20:58:19.714422Z",
     "start_time": "2019-09-02T20:58:19.377037Z"
    }
   },
   "outputs": [],
   "source": [
    "sub = pd.read_csv(f'../../data/sample_submission.csv')"
   ]
  },
  {
   "cell_type": "code",
   "execution_count": 15,
   "metadata": {
    "ExecuteTime": {
     "end_time": "2019-09-02T20:58:26.661786Z",
     "start_time": "2019-09-02T20:58:24.600684Z"
    }
   },
   "outputs": [],
   "source": [
    "sub['isFraud'] = result_dict_keras['prediction']\n",
    "sub.to_csv('ieee_nn.csv', index=False)"
   ]
  },
  {
   "cell_type": "code",
   "execution_count": 16,
   "metadata": {
    "ExecuteTime": {
     "end_time": "2019-09-02T20:58:32.238716Z",
     "start_time": "2019-09-02T20:58:31.975717Z"
    }
   },
   "outputs": [
    {
     "data": {
      "text/plain": [
       "(506691, 1)"
      ]
     },
     "execution_count": 16,
     "metadata": {},
     "output_type": "execute_result"
    }
   ],
   "source": [
    "result_dict_keras['prediction'].shape"
   ]
  },
  {
   "cell_type": "code",
   "execution_count": 17,
   "metadata": {
    "ExecuteTime": {
     "end_time": "2019-09-02T20:58:37.620777Z",
     "start_time": "2019-09-02T20:58:37.376737Z"
    }
   },
   "outputs": [
    {
     "data": {
      "text/plain": [
       "(506691, 789)"
      ]
     },
     "execution_count": 17,
     "metadata": {},
     "output_type": "execute_result"
    }
   ],
   "source": [
    "test.shape"
   ]
  },
  {
   "cell_type": "code",
   "execution_count": 18,
   "metadata": {
    "ExecuteTime": {
     "end_time": "2019-09-02T20:58:42.833280Z",
     "start_time": "2019-09-02T20:58:42.574468Z"
    }
   },
   "outputs": [],
   "source": [
    "import pickle\n",
    "with open(f'{model_folder}/results_dict.pkl', 'wb') as f:\n",
    "#     q = json.dumps(result_dict_lgb,indent=2)\n",
    "    pickle.dump(result_dict_keras,f)\n",
    "#     f.write(q)"
   ]
  }
 ],
 "metadata": {
  "kernelspec": {
   "display_name": "Python 3",
   "language": "python",
   "name": "python3"
  },
  "language_info": {
   "codemirror_mode": {
    "name": "ipython",
    "version": 3
   },
   "file_extension": ".py",
   "mimetype": "text/x-python",
   "name": "python",
   "nbconvert_exporter": "python",
   "pygments_lexer": "ipython3",
   "version": "3.7.4"
  },
  "toc": {
   "base_numbering": 1,
   "nav_menu": {},
   "number_sections": true,
   "sideBar": true,
   "skip_h1_title": false,
   "title_cell": "Table of Contents",
   "title_sidebar": "Contents",
   "toc_cell": false,
   "toc_position": {},
   "toc_section_display": true,
   "toc_window_display": false
  },
  "varInspector": {
   "cols": {
    "lenName": 16,
    "lenType": 16,
    "lenVar": 40
   },
   "kernels_config": {
    "python": {
     "delete_cmd_postfix": "",
     "delete_cmd_prefix": "del ",
     "library": "var_list.py",
     "varRefreshCmd": "print(var_dic_list())"
    },
    "r": {
     "delete_cmd_postfix": ") ",
     "delete_cmd_prefix": "rm(",
     "library": "var_list.r",
     "varRefreshCmd": "cat(var_dic_list()) "
    }
   },
   "position": {
    "height": "754px",
    "left": "1526px",
    "right": "20px",
    "top": "96px",
    "width": "344px"
   },
   "types_to_exclude": [
    "module",
    "function",
    "builtin_function_or_method",
    "instance",
    "_Feature"
   ],
   "window_display": false
  }
 },
 "nbformat": 4,
 "nbformat_minor": 4
}
