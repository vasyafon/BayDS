{
 "cells": [
  {
   "cell_type": "code",
   "execution_count": 2,
   "metadata": {
    "ExecuteTime": {
     "end_time": "2019-09-13T04:51:15.733829Z",
     "start_time": "2019-09-13T04:51:10.366112Z"
    },
    "code_folding": [
     31,
     65
    ]
   },
   "outputs": [],
   "source": [
    "from time import time\n",
    "import lightgbm as lgb\n",
    "import numpy as np\n",
    "import sys\n",
    "# sys.path.append('..\\Python Scripts\\pipeline')\n",
    "import warnings\n",
    "warnings.filterwarnings('ignore') \n",
    "import seaborn as sns\n",
    "from sklearn import preprocessing\n",
    "from matplotlib import pyplot as plt\n",
    "from sklearn.preprocessing import StandardScaler\n",
    "import pickle\n",
    "from sklearn.model_selection import KFold, TimeSeriesSplit\n",
    "from scipy.stats import uniform\n",
    "import datetime\n",
    "from sklearn.ensemble import RandomForestClassifier\n",
    "import lightgbm\n",
    "from sklearn.feature_selection import RFECV\n",
    "\n",
    "from scipy import stats\n",
    "# from hyperopt import hp, tpe\n",
    "# from hyperopt.fmin import fmin\n",
    "from sklearn.model_selection import cross_val_score, StratifiedKFold\n",
    "import pandas as pd\n",
    "from sklearn.tree import DecisionTreeClassifier\n",
    "from sklearn.linear_model import LogisticRegression\n",
    "from sklearn.model_selection import train_test_split, StratifiedKFold, cross_val_score, GridSearchCV, validation_curve, KFold\n",
    "from sklearn.metrics import roc_auc_score\n",
    "import seaborn as sns\n",
    "%matplotlib inline\n",
    "import gc\n",
    "def reduce_memory_usage(df):\n",
    "    '''\n",
    "    iterate through all the columns of a dataframe and modify the data type\n",
    "    to reduce memory usage.\n",
    "    '''\n",
    "    start_mem = df.memory_usage().sum()/1024**2\n",
    "    \n",
    "    for col in df.columns:\n",
    "        col_type = df[col].dtype\n",
    "        \n",
    "        if (col_type != object) & (col_type != 'datetime64[ns]'):\n",
    "            c_min = df[col].min()\n",
    "            c_max = df[col].max()\n",
    "            if str(col_type)[:3] == 'int':\n",
    "                if c_min > np.iinfo(np.int8).min and c_max < np.iinfo(np.int8).max:\n",
    "                    df[col] = df[col].astype(np.int8)\n",
    "                elif c_min > np.iinfo(np.int16).min and c_max < np.iinfo(np.int16).max:\n",
    "                    df[col] = df[col].astype(np.int16)\n",
    "                elif c_min > np.iinfo(np.int32).min and c_max < np.iinfo(np.int32).max:\n",
    "                    df[col] = df[col].astype(np.int32)\n",
    "                elif c_min > np.iinfo(np.int64).min and c_max < np.iinfo(np.int64).max:\n",
    "                    df[col] = df[col].astype(np.int64)  \n",
    "            else:\n",
    "                if c_min > np.finfo(np.float16).min and c_max < np.finfo(np.float16).max:\n",
    "                    df[col] = df[col].astype(np.float16)\n",
    "                elif c_min > np.finfo(np.float32).min and c_max < np.finfo(np.float32).max:\n",
    "                    df[col] = df[col].astype(np.float32)\n",
    "                else:\n",
    "                    df[col] = df[col].astype(np.float64)\n",
    "\n",
    "    end_mem = df.memory_usage().sum()/1024**2\n",
    "    print('Memory usage: Before|{:.2f} MB || After|{:.2f} MB || Decreased|{:.1f}%'.format(start_mem, end_mem, 100*(1 - end_mem/start_mem)))\n",
    "    \n",
    "    return df \n",
    "def missing_values_table(df):\n",
    "    '''\n",
    "    Функция возвращает таблицу с количеством и долей пропущенных значений в датафрейме\n",
    "    '''\n",
    "    mis_val = df.isnull().sum()\n",
    "    mis_val_percent = 100 * df.isnull().sum() / len(df)\n",
    "\n",
    "    mis_val_table = pd.concat([mis_val, mis_val_percent], axis=1)\n",
    "\n",
    "    mis_val_table_ren_columns = mis_val_table.rename(\n",
    "    columns = {0 : 'Missing Values', 1 : '% of Total Values'})\n",
    "\n",
    "    mis_val_table_ren_columns = mis_val_table_ren_columns[\n",
    "        mis_val_table_ren_columns.iloc[:,1] != 0].sort_values(\n",
    "    '% of Total Values', ascending=False).round(1)\n",
    "\n",
    "    print (\"Your selected dataframe has \" + str(df.shape[1]) + \" columns.\\n\"      \n",
    "        \"There are \" + str(mis_val_table_ren_columns.shape[0]) +\n",
    "          \" columns that have missing values.\")\n",
    "    return mis_val_table_ren_columns"
   ]
  },
  {
   "cell_type": "code",
   "execution_count": 3,
   "metadata": {
    "ExecuteTime": {
     "end_time": "2019-09-13T04:51:21.034846Z",
     "start_time": "2019-09-13T04:51:15.747831Z"
    }
   },
   "outputs": [
    {
     "name": "stderr",
     "output_type": "stream",
     "text": [
      "Using TensorFlow backend.\n"
     ]
    }
   ],
   "source": [
    "main_path = r'../..'\n",
    "\n",
    "import sys\n",
    "sys.path.append(main_path)\n",
    "from BayDS import *"
   ]
  },
  {
   "cell_type": "code",
   "execution_count": 4,
   "metadata": {
    "ExecuteTime": {
     "end_time": "2019-09-13T04:52:56.514748Z",
     "start_time": "2019-09-13T04:51:21.046818Z"
    }
   },
   "outputs": [],
   "source": [
    "train_ = pd.read_csv(r'..\\..\\Data\\X_score_agg.csv').set_index('TransactionID')\n",
    "test_ = pd.read_csv(r'..\\..\\Data\\test_aggs.csv').set_index('TransactionID')\n",
    "\n",
    "with pd.HDFStore('F:\\my\\Prog\\kaggle\\Fraud\\hdf\\pre-aggregate-no-duplicates.h5') as store:\n",
    "    data = store[f'data']\n",
    "\n",
    "train = data[data['isFraud'] != -1]\n",
    "test = data[data['isFraud'] == -1]\n",
    "\n",
    "del data\n",
    "gc.collect()\n",
    "\n",
    "train_.drop('score', axis=1, inplace=True)\n",
    "\n",
    "feats = pd.read_csv('..\\..\\Data\\list_time_aggs_v1.csv')\n",
    "features = feats.iloc[:, 1].tolist()[1:]\n",
    "\n",
    "X = pd.concat([train, train_[features]], axis=1).drop('isFraud', axis=1)\n",
    "del train, train_\n",
    "gc.collect()\n",
    "\n",
    "test = pd.concat([test, test_[features]], axis=1).drop('isFraud', axis=1)\n",
    "\n",
    "del test_\n",
    "gc.collect()\n",
    "\n",
    "test.drop(3577539, inplace=True)\n",
    "\n",
    "y = pd.read_pickle(f'f:/my/Prog/kaggle/Baydin/Data/y.pkl')\n",
    "\n",
    "X.drop('Date', axis=1, inplace=True)\n",
    "test.drop('Date', axis=1, inplace=True)\n",
    "\n",
    "# del test\n",
    "# gc.collect()"
   ]
  },
  {
   "cell_type": "code",
   "execution_count": 5,
   "metadata": {
    "ExecuteTime": {
     "end_time": "2019-09-13T04:52:57.025747Z",
     "start_time": "2019-09-13T04:52:57.020748Z"
    }
   },
   "outputs": [],
   "source": [
    "params = {'num_leaves': 491,\n",
    "          'min_child_weight': 0.03454472573214212,\n",
    "          'feature_fraction': 0.3797454081646243,\n",
    "          'bagging_fraction': 0.4181193142567742,\n",
    "          'min_data_in_leaf': 106,\n",
    "          'objective': 'binary',\n",
    "          'max_depth': -1,\n",
    "          'learning_rate': 0.006883242363721497,\n",
    "          \"boosting_type\": \"gbdt\",\n",
    "          \"bagging_seed\": 11,\n",
    "          \"metric\": 'auc',\n",
    "          \"verbosity\": -1,\n",
    "          'reg_alpha': 0.3899927210061127,\n",
    "          'reg_lambda': 0.6485237330340494,\n",
    "          'random_state': 47, \n",
    "          'n_jobs': -1\n",
    "         }"
   ]
  },
  {
   "cell_type": "code",
   "execution_count": 9,
   "metadata": {
    "ExecuteTime": {
     "end_time": "2019-09-12T18:07:46.960272Z",
     "start_time": "2019-09-12T16:39:14.571498Z"
    }
   },
   "outputs": [
    {
     "name": "stdout",
     "output_type": "stream",
     "text": [
      "fit RFE\n",
      "Fitting estimator with 628 features.\n",
      "Fitting estimator with 566 features.\n",
      "Fitting estimator with 504 features.\n",
      "Fitting estimator with 442 features.\n",
      "Fitting estimator with 380 features.\n",
      "Fitting estimator with 318 features.\n",
      "Fitting estimator with 256 features.\n",
      "Fitting estimator with 194 features.\n",
      "Fitting estimator with 132 features.\n",
      "Fitting estimator with 70 features.\n",
      "Fitting estimator with 8 features.\n",
      "Fitting estimator with 628 features.\n",
      "Fitting estimator with 566 features.\n",
      "Fitting estimator with 504 features.\n",
      "Fitting estimator with 442 features.\n",
      "Fitting estimator with 380 features.\n",
      "Fitting estimator with 318 features.\n",
      "Fitting estimator with 256 features.\n",
      "Fitting estimator with 194 features.\n",
      "Fitting estimator with 132 features.\n",
      "Fitting estimator with 70 features.\n",
      "Fitting estimator with 8 features.\n",
      "Fitting estimator with 628 features.\n",
      "Fitting estimator with 566 features.\n",
      "Fitting estimator with 504 features.\n",
      "Fitting estimator with 442 features.\n",
      "Fitting estimator with 380 features.\n",
      "Fitting estimator with 318 features.\n",
      "Fitting estimator with 256 features.\n",
      "Fitting estimator with 194 features.\n",
      "Fitting estimator with 132 features.\n",
      "Fitting estimator with 70 features.\n",
      "Fitting estimator with 8 features.\n",
      "Fitting estimator with 628 features.\n",
      "Fitting estimator with 566 features.\n",
      "Fitting estimator with 504 features.\n",
      "Fitting estimator with 442 features.\n",
      "Fitting estimator with 380 features.\n",
      "Fitting estimator with 318 features.\n",
      "Fitting estimator with 256 features.\n",
      "Fitting estimator with 194 features.\n",
      "Fitting estimator with 132 features.\n",
      "Fitting estimator with 70 features.\n",
      "Fitting estimator with 8 features.\n",
      "Fitting estimator with 628 features.\n",
      "Fitting estimator with 566 features.\n",
      "Fitting estimator with 504 features.\n",
      "Fitting estimator with 442 features.\n",
      "Fitting estimator with 380 features.\n",
      "Fitting estimator with 318 features.\n",
      "Fitting estimator with 256 features.\n",
      "Fitting estimator with 194 features.\n",
      "Fitting estimator with 132 features.\n",
      "Fitting estimator with 70 features.\n",
      "Fitting estimator with 8 features.\n",
      "Fitting estimator with 628 features.\n",
      "Fitting estimator with 566 features.\n",
      "Fitting estimator with 504 features.\n",
      "Fitting estimator with 442 features.\n",
      "Fitting estimator with 380 features.\n"
     ]
    },
    {
     "data": {
      "text/plain": [
       "RFECV(cv=KFold(n_splits=5, random_state=None, shuffle=False),\n",
       "      estimator=LGBMClassifier(bagging_fraction=0.4181193142567742,\n",
       "                               bagging_seed=11, boosting_type='gbdt',\n",
       "                               class_weight=None, colsample_bytree=1.0,\n",
       "                               feature_fraction=0.3797454081646243,\n",
       "                               importance_type='split',\n",
       "                               learning_rate=0.006883242363721497, max_depth=-1,\n",
       "                               metric='auc', min_child_samples=20,\n",
       "                               min_child_we...03454472573214212,\n",
       "                               min_data_in_leaf=106, min_split_gain=0.0,\n",
       "                               n_estimators=100, n_jobs=-1, num_leaves=491,\n",
       "                               objective='binary', random_state=47,\n",
       "                               reg_alpha=0.3899927210061127,\n",
       "                               reg_lambda=0.6485237330340494, silent=True,\n",
       "                               subsample=1.0, subsample_for_bin=200000,\n",
       "                               subsample_freq=0, verbosity=-1),\n",
       "      min_features_to_select=1, n_jobs=None, scoring='roc_auc', step=0.1,\n",
       "      verbose=2)"
      ]
     },
     "execution_count": 9,
     "metadata": {},
     "output_type": "execute_result"
    }
   ],
   "source": [
    "X.replace(np.inf, -999, inplace=True)\n",
    "X.replace(-np.inf, -999, inplace=True)\n",
    "X = X.fillna(-999)\n",
    "\n",
    "\n",
    "clf = lgb.LGBMClassifier(**params)\n",
    "rfe = RFECV(estimator=clf, step=0.1, cv=KFold(n_splits=5, shuffle=False), scoring='roc_auc', verbose=2)\n",
    "\n",
    "print('fit RFE')\n",
    "rfe.fit(X, y)"
   ]
  },
  {
   "cell_type": "code",
   "execution_count": 11,
   "metadata": {
    "ExecuteTime": {
     "end_time": "2019-09-12T18:09:16.471161Z",
     "start_time": "2019-09-12T18:09:16.441156Z"
    }
   },
   "outputs": [
    {
     "name": "stdout",
     "output_type": "stream",
     "text": [
      "Optimal number of features: 318\n",
      "TransactionAmt\n",
      "ProductCD\n",
      "card1\n",
      "card2\n",
      "card3\n",
      "card4\n",
      "card5\n",
      "card6\n",
      "addr1\n",
      "dist1\n",
      "C1\n",
      "C2\n",
      "C4\n",
      "C5\n",
      "C6\n",
      "C8\n",
      "C9\n",
      "C10\n",
      "C11\n",
      "C12\n",
      "C13\n",
      "C14\n",
      "D1\n",
      "D2\n",
      "D3\n",
      "D4\n",
      "D5\n",
      "D8\n",
      "D10\n",
      "D11\n",
      "D15\n",
      "M3\n",
      "M4\n",
      "M5\n",
      "M6\n",
      "V20\n",
      "V38\n",
      "V45\n",
      "V53\n",
      "V54\n",
      "V56\n",
      "V61\n",
      "V62\n",
      "V70\n",
      "V78\n",
      "V83\n",
      "V87\n",
      "V126\n",
      "V127\n",
      "V128\n",
      "V130\n",
      "V131\n",
      "V143\n",
      "V165\n",
      "V187\n",
      "V189\n",
      "V201\n",
      "V207\n",
      "V217\n",
      "V258\n",
      "V266\n",
      "V277\n",
      "V279\n",
      "V280\n",
      "V282\n",
      "V283\n",
      "V285\n",
      "V291\n",
      "V294\n",
      "V306\n",
      "V307\n",
      "V308\n",
      "V310\n",
      "V312\n",
      "V313\n",
      "V314\n",
      "V315\n",
      "V317\n",
      "V323\n",
      "NanTransactionCount\n",
      "id_02\n",
      "id_05\n",
      "id_06\n",
      "id_13\n",
      "id_19\n",
      "id_20\n",
      "id_33\n",
      "DeviceType\n",
      "DeviceInfo\n",
      "_Hours\n",
      "_Days\n",
      "P_emaildomain_bin\n",
      "R_emaildomain_bin\n",
      "OSVersion\n",
      "device_version\n",
      "screen_height\n",
      "card_id\n",
      "TransactionAmt_decimal\n",
      "card1_count_full\n",
      "id_02__id_20\n",
      "D11__device_name\n",
      "device_name__P_emaildomain_bin\n",
      "P_emaildomain_bin__C2\n",
      "card2__dist1\n",
      "card1__card5\n",
      "card2__id_20\n",
      "card5__P_emaildomain_bin\n",
      "addr1__card1\n",
      "id_01_count_full\n",
      "TransactionAmt_by_card_id_ws1d_to_mean\n",
      "TransactionAmt_by_card_id_ws1d_to_std\n",
      "TransactionAmt_by_card_id_ws2d_to_mean\n",
      "TransactionAmt_by_card_id_ws2d_to_std\n",
      "TransactionAmt_by_card_id_ws3d_to_mean\n",
      "TransactionAmt_by_card_id_ws3d_to_std\n",
      "TransactionAmt_by_card_id_ws7d_to_mean\n",
      "TransactionAmt_by_card_id_ws7d_to_std\n",
      "TransactionAmt_by_card_id_ws30d_to_mean\n",
      "TransactionAmt_by_card_id_ws30d_to_std\n",
      "TransactionAmt_by_card_id_ws5_to_mean\n",
      "TransactionAmt_by_card_id_ws5_to_std\n",
      "TransactionAmt_by_card_id_ws10_to_mean\n",
      "TransactionAmt_by_card_id_ws10_to_std\n",
      "TransactionAmt_by_card_id_ws100_to_mean\n",
      "TransactionAmt_by_card_id_ws100_to_std\n",
      "C1_by_card_id_ws1d_to_mean\n",
      "C1_by_card_id_ws1d_to_std\n",
      "C1_by_card_id_ws2d_to_mean\n",
      "C1_by_card_id_ws2d_to_std\n",
      "C1_by_card_id_ws3d_to_mean\n",
      "C1_by_card_id_ws3d_to_std\n",
      "C1_by_card_id_ws7d_to_mean\n",
      "C1_by_card_id_ws7d_to_std\n",
      "C1_by_card_id_ws30d_to_mean\n",
      "C1_by_card_id_ws30d_to_std\n",
      "C1_by_card_id_ws5_to_mean\n",
      "C1_by_card_id_ws5_to_std\n",
      "C1_by_card_id_ws10_to_mean\n",
      "C1_by_card_id_ws10_to_std\n",
      "C1_by_card_id_ws100_to_mean\n",
      "C1_by_card_id_ws100_to_std\n",
      "C2_by_card_id_ws1d_to_mean\n",
      "C2_by_card_id_ws1d_to_std\n",
      "C2_by_card_id_ws2d_to_mean\n",
      "C2_by_card_id_ws2d_to_std\n",
      "C2_by_card_id_ws3d_to_mean\n",
      "C2_by_card_id_ws3d_to_std\n",
      "C2_by_card_id_ws7d_to_mean\n",
      "C2_by_card_id_ws7d_to_std\n",
      "C2_by_card_id_ws30d_to_mean\n",
      "C2_by_card_id_ws30d_to_std\n",
      "C2_by_card_id_ws5_to_std\n",
      "C2_by_card_id_ws10_to_mean\n",
      "C2_by_card_id_ws10_to_std\n",
      "C2_by_card_id_ws100_to_mean\n",
      "C2_by_card_id_ws100_to_std\n",
      "C5_by_card_id_ws30d_to_mean\n",
      "C4_by_card_id_ws7d_to_mean\n",
      "C4_by_card_id_ws30d_to_mean\n",
      "C4_by_card_id_ws5_to_std\n",
      "C4_by_card_id_ws100_to_mean\n",
      "C4_by_card_id_ws100_to_std\n",
      "C6_by_card_id_ws1d_to_mean\n",
      "C6_by_card_id_ws1d_to_std\n",
      "C6_by_card_id_ws2d_to_mean\n",
      "C6_by_card_id_ws2d_to_std\n",
      "C6_by_card_id_ws3d_to_mean\n",
      "C6_by_card_id_ws3d_to_std\n",
      "C6_by_card_id_ws7d_to_mean\n",
      "C6_by_card_id_ws7d_to_std\n",
      "C6_by_card_id_ws30d_to_mean\n",
      "C6_by_card_id_ws30d_to_std\n",
      "C6_by_card_id_ws5_to_mean\n",
      "C6_by_card_id_ws5_to_std\n",
      "C6_by_card_id_ws10_to_mean\n",
      "C6_by_card_id_ws10_to_std\n",
      "C6_by_card_id_ws100_to_mean\n",
      "C6_by_card_id_ws100_to_std\n",
      "C7_by_card_id_ws2d_to_std\n",
      "C7_by_card_id_ws3d_to_std\n",
      "C7_by_card_id_ws7d_to_std\n",
      "C7_by_card_id_ws30d_to_mean\n",
      "C7_by_card_id_ws30d_to_std\n",
      "C7_by_card_id_ws10_to_std\n",
      "C7_by_card_id_ws100_to_std\n",
      "C8_by_card_id_ws2d_to_mean\n",
      "C8_by_card_id_ws7d_to_std\n",
      "C8_by_card_id_ws30d_to_mean\n",
      "C8_by_card_id_ws10_to_mean\n",
      "C8_by_card_id_ws10_to_std\n",
      "C8_by_card_id_ws100_to_mean\n",
      "C8_by_card_id_ws100_to_std\n",
      "C9_by_card_id_ws1d_to_std\n",
      "C9_by_card_id_ws3d_to_mean\n",
      "C9_by_card_id_ws3d_to_std\n",
      "C9_by_card_id_ws7d_to_mean\n",
      "C9_by_card_id_ws7d_to_std\n",
      "C9_by_card_id_ws30d_to_mean\n",
      "C9_by_card_id_ws30d_to_std\n",
      "C9_by_card_id_ws10_to_mean\n",
      "C9_by_card_id_ws10_to_std\n",
      "C9_by_card_id_ws100_to_mean\n",
      "C9_by_card_id_ws100_to_std\n",
      "C10_by_card_id_ws30d_to_mean\n",
      "C10_by_card_id_ws30d_to_std\n",
      "C10_by_card_id_ws10_to_std\n",
      "C10_by_card_id_ws100_to_mean\n",
      "C10_by_card_id_ws100_to_std\n",
      "C11_by_card_id_ws1d_to_mean\n",
      "C11_by_card_id_ws1d_to_std\n",
      "C11_by_card_id_ws2d_to_std\n",
      "C11_by_card_id_ws3d_to_mean\n",
      "C11_by_card_id_ws3d_to_std\n",
      "C11_by_card_id_ws7d_to_mean\n",
      "C11_by_card_id_ws7d_to_std\n",
      "C11_by_card_id_ws30d_to_mean\n",
      "C11_by_card_id_ws30d_to_std\n",
      "C11_by_card_id_ws5_to_mean\n",
      "C11_by_card_id_ws5_to_std\n",
      "C11_by_card_id_ws10_to_mean\n",
      "C11_by_card_id_ws10_to_std\n",
      "C11_by_card_id_ws100_to_mean\n",
      "C11_by_card_id_ws100_to_std\n",
      "C12_by_card_id_ws2d_to_std\n",
      "C12_by_card_id_ws7d_to_mean\n",
      "C12_by_card_id_ws7d_to_std\n",
      "C12_by_card_id_ws30d_to_mean\n",
      "C12_by_card_id_ws30d_to_std\n",
      "C12_by_card_id_ws5_to_std\n",
      "C12_by_card_id_ws10_to_mean\n",
      "C12_by_card_id_ws10_to_std\n",
      "C12_by_card_id_ws100_to_mean\n",
      "C12_by_card_id_ws100_to_std\n",
      "C13_by_card_id_ws1d_to_mean\n",
      "C13_by_card_id_ws1d_to_std\n",
      "C13_by_card_id_ws2d_to_mean\n",
      "C13_by_card_id_ws2d_to_std\n",
      "C13_by_card_id_ws3d_to_mean\n",
      "C13_by_card_id_ws3d_to_std\n",
      "C13_by_card_id_ws7d_to_mean\n",
      "C13_by_card_id_ws7d_to_std\n",
      "C13_by_card_id_ws30d_to_mean\n",
      "C13_by_card_id_ws30d_to_std\n",
      "C13_by_card_id_ws5_to_mean\n",
      "C13_by_card_id_ws5_to_std\n",
      "C13_by_card_id_ws10_to_mean\n",
      "C13_by_card_id_ws10_to_std\n",
      "C13_by_card_id_ws100_to_mean\n",
      "C13_by_card_id_ws100_to_std\n",
      "C14_by_card_id_ws1d_to_mean\n",
      "C14_by_card_id_ws1d_to_std\n",
      "C14_by_card_id_ws2d_to_mean\n",
      "C14_by_card_id_ws2d_to_std\n",
      "C14_by_card_id_ws3d_to_mean\n",
      "C14_by_card_id_ws3d_to_std\n",
      "C14_by_card_id_ws7d_to_mean\n",
      "C14_by_card_id_ws7d_to_std\n",
      "C14_by_card_id_ws30d_to_mean\n",
      "C14_by_card_id_ws30d_to_std\n",
      "C14_by_card_id_ws5_to_mean\n",
      "C14_by_card_id_ws5_to_std\n",
      "C14_by_card_id_ws10_to_std\n",
      "C14_by_card_id_ws100_to_mean\n",
      "C14_by_card_id_ws100_to_std\n",
      "id_02_by_card_id_ws30d_to_mean\n",
      "id_02_by_card_id_ws30d_to_std\n",
      "id_02_by_card_id_ws100_to_mean\n",
      "id_02_by_card_id_ws100_to_std\n",
      "dist1_by_card_id_ws30d_to_mean\n",
      "dist1_by_card_id_ws100_to_mean\n",
      "D1_by_card_id_ws2d_to_std\n",
      "D1_by_card_id_ws3d_to_mean\n",
      "D1_by_card_id_ws7d_to_mean\n",
      "D1_by_card_id_ws7d_to_std\n",
      "D1_by_card_id_ws30d_to_mean\n",
      "D1_by_card_id_ws30d_to_std\n",
      "D1_by_card_id_ws10_to_std\n",
      "D1_by_card_id_ws100_to_mean\n",
      "D1_by_card_id_ws100_to_std\n",
      "D2_by_card_id_ws3d_to_mean\n",
      "D2_by_card_id_ws3d_to_std\n",
      "D2_by_card_id_ws7d_to_std\n",
      "D2_by_card_id_ws30d_to_mean\n",
      "D2_by_card_id_ws30d_to_std\n",
      "D2_by_card_id_ws10_to_std\n",
      "D2_by_card_id_ws100_to_mean\n",
      "D2_by_card_id_ws100_to_std\n",
      "D3_by_card_id_ws30d_to_mean\n",
      "D4_by_card_id_ws1d_to_mean\n",
      "D4_by_card_id_ws2d_to_mean\n",
      "D4_by_card_id_ws7d_to_std\n",
      "D4_by_card_id_ws30d_to_mean\n",
      "D4_by_card_id_ws30d_to_std\n",
      "D4_by_card_id_ws100_to_mean\n",
      "D4_by_card_id_ws100_to_std\n",
      "D8_by_card_id_ws30d_to_mean\n",
      "D8_by_card_id_ws30d_to_std\n",
      "D8_by_card_id_ws100_to_mean\n",
      "D10_by_card_id_ws7d_to_mean\n",
      "D10_by_card_id_ws7d_to_std\n",
      "D10_by_card_id_ws30d_to_mean\n",
      "D10_by_card_id_ws30d_to_std\n",
      "D10_by_card_id_ws100_to_mean\n",
      "D10_by_card_id_ws100_to_std\n",
      "D11_by_card_id_ws30d_to_mean\n",
      "D11_by_card_id_ws30d_to_std\n",
      "D15_by_card_id_ws1d_to_mean\n",
      "D15_by_card_id_ws2d_to_mean\n",
      "D15_by_card_id_ws2d_to_std\n",
      "D15_by_card_id_ws3d_to_mean\n",
      "D15_by_card_id_ws7d_to_mean\n",
      "D15_by_card_id_ws7d_to_std\n",
      "D15_by_card_id_ws30d_to_mean\n",
      "D15_by_card_id_ws30d_to_std\n",
      "D15_by_card_id_ws10_to_mean\n",
      "D15_by_card_id_ws10_to_std\n",
      "D15_by_card_id_ws100_to_mean\n",
      "D15_by_card_id_ws100_to_std\n"
     ]
    }
   ],
   "source": [
    "print('Optimal number of features:', rfe.n_features_)\n",
    "\n",
    "lst_time_aggs = []\n",
    "\n",
    "for col in X.columns[rfe.ranking_ == 1]:\n",
    "    lst_time_aggs.append(col)\n",
    "    print(col)"
   ]
  },
  {
   "cell_type": "code",
   "execution_count": 13,
   "metadata": {
    "ExecuteTime": {
     "end_time": "2019-09-12T18:09:55.407713Z",
     "start_time": "2019-09-12T18:09:55.208152Z"
    }
   },
   "outputs": [],
   "source": [
    "pd.DataFrame(lst_time_aggs).to_csv('..\\..\\Data\\MEGARFE.csv')"
   ]
  },
  {
   "cell_type": "code",
   "execution_count": 19,
   "metadata": {
    "ExecuteTime": {
     "end_time": "2019-09-12T18:12:18.437721Z",
     "start_time": "2019-09-12T18:12:18.424720Z"
    }
   },
   "outputs": [],
   "source": [
    "pd.DataFrame(rfe.ranking_).to_csv('..\\..\\Data\\MEGARFE_ranking.csv')"
   ]
  },
  {
   "cell_type": "code",
   "execution_count": 25,
   "metadata": {
    "ExecuteTime": {
     "end_time": "2019-09-12T18:14:41.068819Z",
     "start_time": "2019-09-12T18:14:40.928807Z"
    }
   },
   "outputs": [
    {
     "data": {
      "image/png": "[encoded data removed]",
      "text/plain": [
       "<Figure size 1008x576 with 1 Axes>"
      ]
     },
     "metadata": {
      "needs_background": "light"
     },
     "output_type": "display_data"
    }
   ],
   "source": [
    "plt.figure(figsize=(14, 8))\n",
    "plt.xlabel(\"Number of features selected\")\n",
    "plt.ylabel(\"Cross validation score\")\n",
    "plt.plot(range(1, len(rfe.grid_scores_) + 1), rfe.grid_scores_)\n",
    "plt.show()"
   ]
  },
  {
   "cell_type": "code",
   "execution_count": 26,
   "metadata": {
    "ExecuteTime": {
     "end_time": "2019-09-12T18:15:06.213277Z",
     "start_time": "2019-09-12T18:15:06.208288Z"
    }
   },
   "outputs": [
    {
     "data": {
      "text/plain": [
       "array([1, 1, 1, 1, 1, 1, 1, 1, 1, 5, 1, 1, 1, 1, 1, 1, 3, 1, 1, 1, 1, 1,\n",
       "       1, 1, 1, 1, 1, 1, 1, 2, 1, 3, 1, 1, 4, 3, 3, 1, 4, 1, 1, 1, 1, 6,\n",
       "       5, 5, 6, 5, 4, 6, 6, 6, 6, 6, 6, 3, 2, 5, 3, 1, 4, 5, 5, 6, 4, 2,\n",
       "       5, 1, 5, 3, 1, 6, 2, 5, 5, 6, 4, 1, 1, 1, 4, 5, 5, 1, 1, 6, 6, 3,\n",
       "       1, 6, 6, 4, 4, 2, 2, 1, 6, 4, 2, 1, 6, 5, 1, 3, 3, 6, 5, 4, 4, 2,\n",
       "       3, 2, 5, 1, 1, 1, 1, 1, 6, 5, 5, 1, 5, 5, 5, 2, 6, 6, 5, 6, 3, 6,\n",
       "       5, 3, 4, 2, 4, 5, 1, 5, 6, 4, 3, 4, 5, 6, 5, 6, 6, 5, 5, 6, 5, 1,\n",
       "       5, 1, 5, 5, 4, 1, 4, 3, 5, 4, 4, 1, 2, 4, 4, 5, 5, 6, 5, 5, 1, 4,\n",
       "       5, 5, 5, 4, 5, 5, 5, 6, 5, 6, 4, 5, 4, 5, 5, 5, 4, 4, 5, 4, 5, 5,\n",
       "       3, 4, 5, 2, 1, 6, 4, 4, 5, 4, 4, 1, 4, 3, 5, 4, 4, 4, 2, 4, 4, 1,\n",
       "       3, 1, 1, 1, 1, 1, 2, 5, 2, 1, 4, 1, 6, 6, 1, 1, 1, 1, 1, 1, 1, 1,\n",
       "       1, 2, 1, 2, 6, 6, 4, 4, 2, 4, 5, 6, 1, 2, 1, 4, 6, 1, 1, 6, 6, 3,\n",
       "       6, 6, 6, 1, 4, 5, 4, 3, 3, 1, 1, 6, 6, 6, 6, 6, 6, 6, 6, 6, 3, 1,\n",
       "       5, 6, 6, 6, 4, 1, 1, 3, 3, 1, 1, 1, 4, 1, 6, 6, 6, 6, 3, 1, 3, 1,\n",
       "       1, 3, 1, 1, 1, 1, 4, 1, 1, 1, 1, 1, 1, 1, 1, 1, 2, 6, 6, 6, 1, 1,\n",
       "       1, 1, 1, 1, 1, 1, 1, 1, 1, 1, 1, 1, 1, 1, 1, 1, 1, 1, 1, 1, 1, 1,\n",
       "       1, 1, 1, 1, 1, 1, 1, 1, 1, 1, 1, 1, 1, 1, 1, 1, 1, 1, 3, 1, 1, 1,\n",
       "       1, 1, 2, 1, 4, 3, 3, 4, 3, 2, 1, 2, 1, 1, 2, 1, 1, 1, 1, 1, 1, 1,\n",
       "       1, 1, 1, 1, 1, 1, 1, 1, 1, 1, 1, 2, 1, 1, 3, 1, 1, 1, 2, 1, 2, 1,\n",
       "       3, 4, 1, 2, 3, 3, 2, 1, 1, 3, 3, 3, 1, 1, 1, 1, 2, 1, 2, 2, 1, 1,\n",
       "       1, 1, 1, 1, 2, 1, 1, 1, 1, 2, 3, 3, 3, 2, 4, 1, 1, 3, 3, 1, 1, 1,\n",
       "       1, 1, 2, 1, 1, 1, 1, 1, 1, 1, 1, 1, 1, 1, 1, 1, 1, 3, 2, 1, 1, 1,\n",
       "       1, 1, 1, 1, 1, 1, 1, 1, 1, 1, 1, 1, 1, 1, 1, 1, 1, 1, 1, 1, 1, 1,\n",
       "       1, 1, 1, 1, 1, 1, 1, 1, 1, 1, 1, 1, 2, 1, 1, 1, 3, 3, 3, 1, 1, 2,\n",
       "       1, 1, 3, 2, 1, 2, 1, 3, 2, 2, 2, 1, 1, 2, 1, 1, 1, 1, 2, 1, 1, 1,\n",
       "       2, 2, 2, 2, 1, 1, 1, 1, 1, 2, 1, 1, 1, 5, 4, 4, 4, 1, 4, 4, 3, 1,\n",
       "       1, 3, 2, 1, 1, 1, 2, 1, 1, 3, 4, 4, 3, 4, 2, 5, 3, 3, 1, 1, 2, 1,\n",
       "       2, 2, 3, 3, 3, 3, 2, 1, 1, 1, 1, 3, 2, 1, 1, 1, 1, 3, 2, 5, 1, 3,\n",
       "       1, 1, 1, 2, 1, 1, 1, 1, 1, 1, 1, 1])"
      ]
     },
     "execution_count": 26,
     "metadata": {},
     "output_type": "execute_result"
    }
   ],
   "source": [
    "rfe.ranking_"
   ]
  },
  {
   "cell_type": "code",
   "execution_count": 28,
   "metadata": {
    "ExecuteTime": {
     "end_time": "2019-09-12T18:16:38.814807Z",
     "start_time": "2019-09-12T18:16:38.080822Z"
    }
   },
   "outputs": [],
   "source": [
    "X_rfe = X.iloc[:, rfe.support_]"
   ]
  },
  {
   "cell_type": "code",
   "execution_count": 34,
   "metadata": {
    "ExecuteTime": {
     "end_time": "2019-09-12T18:23:07.958358Z",
     "start_time": "2019-09-12T18:23:07.665350Z"
    }
   },
   "outputs": [
    {
     "data": {
      "text/plain": [
       "35"
      ]
     },
     "execution_count": 34,
     "metadata": {},
     "output_type": "execute_result"
    }
   ],
   "source": [
    "del X\n",
    "gc.collect()"
   ]
  },
  {
   "cell_type": "code",
   "execution_count": 33,
   "metadata": {
    "ExecuteTime": {
     "end_time": "2019-09-12T18:22:56.661169Z",
     "start_time": "2019-09-12T18:22:56.130166Z"
    }
   },
   "outputs": [],
   "source": [
    "test_rfe = test.iloc[:, rfe.support_]"
   ]
  },
  {
   "cell_type": "code",
   "execution_count": 35,
   "metadata": {
    "ExecuteTime": {
     "end_time": "2019-09-12T18:23:11.402355Z",
     "start_time": "2019-09-12T18:23:11.139352Z"
    }
   },
   "outputs": [
    {
     "data": {
      "text/plain": [
       "7"
      ]
     },
     "execution_count": 35,
     "metadata": {},
     "output_type": "execute_result"
    }
   ],
   "source": [
    "del test\n",
    "gc.collect()"
   ]
  },
  {
   "cell_type": "code",
   "execution_count": null,
   "metadata": {
    "ExecuteTime": {
     "end_time": "2019-09-13T04:56:49.245745Z",
     "start_time": "2019-09-13T04:56:49.078731Z"
    }
   },
   "outputs": [],
   "source": []
  },
  {
   "cell_type": "code",
   "execution_count": null,
   "metadata": {},
   "outputs": [],
   "source": []
  },
  {
   "cell_type": "code",
   "execution_count": null,
   "metadata": {},
   "outputs": [],
   "source": []
  },
  {
   "cell_type": "code",
   "execution_count": 13,
   "metadata": {
    "ExecuteTime": {
     "end_time": "2019-09-13T04:55:17.324700Z",
     "start_time": "2019-09-13T04:55:17.317685Z"
    }
   },
   "outputs": [],
   "source": [
    "list_features = pd.read_csv('..\\..\\Data\\MEGARFE.csv').iloc[:,1].tolist()"
   ]
  },
  {
   "cell_type": "code",
   "execution_count": 34,
   "metadata": {
    "ExecuteTime": {
     "end_time": "2019-09-13T05:02:24.491016Z",
     "start_time": "2019-09-13T05:02:24.488026Z"
    }
   },
   "outputs": [],
   "source": [
    "list_all_std_mean = []\n",
    "for item in X.columns:\n",
    "    if 'std' in item or 'mean' in item:\n",
    "        list_all_std_mean.append(item)"
   ]
  },
  {
   "cell_type": "code",
   "execution_count": 36,
   "metadata": {
    "ExecuteTime": {
     "end_time": "2019-09-13T05:02:36.938682Z",
     "start_time": "2019-09-13T05:02:36.934668Z"
    }
   },
   "outputs": [
    {
     "data": {
      "text/plain": [
       "300"
      ]
     },
     "execution_count": 36,
     "metadata": {},
     "output_type": "execute_result"
    }
   ],
   "source": [
    "len(list_all_std_mean)"
   ]
  },
  {
   "cell_type": "code",
   "execution_count": 17,
   "metadata": {
    "ExecuteTime": {
     "end_time": "2019-09-13T04:56:35.520512Z",
     "start_time": "2019-09-13T04:56:35.518511Z"
    }
   },
   "outputs": [],
   "source": [
    "list_std_mean = []\n",
    "for item in list_features:\n",
    "    if 'std' in item or 'mean' in item:\n",
    "        list_std_mean.append(item)"
   ]
  },
  {
   "cell_type": "code",
   "execution_count": 42,
   "metadata": {
    "ExecuteTime": {
     "end_time": "2019-09-13T05:03:42.641688Z",
     "start_time": "2019-09-13T05:03:42.638687Z"
    }
   },
   "outputs": [],
   "source": [
    "f = set(list_all_std_mean) - set(list_std_mean)  "
   ]
  },
  {
   "cell_type": "code",
   "execution_count": 32,
   "metadata": {
    "ExecuteTime": {
     "end_time": "2019-09-13T05:01:18.317842Z",
     "start_time": "2019-09-13T05:01:06.830735Z"
    }
   },
   "outputs": [
    {
     "data": {
      "text/plain": [
       "Index(['TransactionID', 'TransactionAmt', 'ProductCD', 'card1', 'card2',\n",
       "       'card3', 'card4', 'card5', 'card6', 'addr1',\n",
       "       ...\n",
       "       'uid_DT_W', 'uid2_DT_W', 'uid3_DT_W', 'card1_DT_D', 'card2_DT_D',\n",
       "       'card3_DT_D', 'card5_DT_D', 'uid_DT_D', 'uid2_DT_D', 'uid3_DT_D'],\n",
       "      dtype='object', length=581)"
      ]
     },
     "execution_count": 32,
     "metadata": {},
     "output_type": "execute_result"
    }
   ],
   "source": [
    "temp = pd.read_pickle(r'..\\..\\Data\\train_09457.pickle')\n",
    "\n",
    "old_features = temp.drop(['isFraud', 'Date', 'TransactionDT'], axis=1).columns\n",
    "\n",
    "old_features"
   ]
  },
  {
   "cell_type": "code",
   "execution_count": 46,
   "metadata": {
    "ExecuteTime": {
     "end_time": "2019-09-13T05:04:21.489965Z",
     "start_time": "2019-09-13T05:04:20.532966Z"
    },
    "scrolled": true
   },
   "outputs": [],
   "source": [
    "X_time = X.drop(list(f), axis=1)"
   ]
  },
  {
   "cell_type": "code",
   "execution_count": 47,
   "metadata": {
    "ExecuteTime": {
     "end_time": "2019-09-13T05:04:37.264774Z",
     "start_time": "2019-09-13T05:04:36.294622Z"
    }
   },
   "outputs": [],
   "source": [
    "test_time = test.drop(list(f), axis=1)"
   ]
  },
  {
   "cell_type": "code",
   "execution_count": 48,
   "metadata": {
    "ExecuteTime": {
     "end_time": "2019-09-13T05:05:00.044130Z",
     "start_time": "2019-09-13T05:04:59.790129Z"
    }
   },
   "outputs": [
    {
     "data": {
      "text/plain": [
       "8199"
      ]
     },
     "execution_count": 48,
     "metadata": {},
     "output_type": "execute_result"
    }
   ],
   "source": [
    "del X, test\n",
    "gc.collect()"
   ]
  },
  {
   "cell_type": "code",
   "execution_count": 49,
   "metadata": {
    "ExecuteTime": {
     "end_time": "2019-09-13T05:05:15.502915Z",
     "start_time": "2019-09-13T05:05:15.245915Z"
    }
   },
   "outputs": [
    {
     "data": {
      "text/plain": [
       "14"
      ]
     },
     "execution_count": 49,
     "metadata": {},
     "output_type": "execute_result"
    }
   ],
   "source": [
    "del temp\n",
    "gc.collect()"
   ]
  },
  {
   "cell_type": "code",
   "execution_count": 50,
   "metadata": {
    "ExecuteTime": {
     "end_time": "2019-09-13T10:05:24.160469Z",
     "start_time": "2019-09-13T05:05:42.015929Z"
    }
   },
   "outputs": [
    {
     "name": "stdout",
     "output_type": "stream",
     "text": [
      "Fold 1 started at Fri Sep 13 08:05:42 2019\n",
      "Training until validation scores don't improve for 200 rounds.\n",
      "[500]\ttraining's auc: 0.990204\ttraining's auc: 0.990204\tvalid_1's auc: 0.887014\tvalid_1's auc: 0.887014\n",
      "[1000]\ttraining's auc: 0.999485\ttraining's auc: 0.999485\tvalid_1's auc: 0.89491\tvalid_1's auc: 0.89491\n",
      "[1500]\ttraining's auc: 0.999956\ttraining's auc: 0.999956\tvalid_1's auc: 0.897814\tvalid_1's auc: 0.897814\n",
      "[2000]\ttraining's auc: 0.999998\ttraining's auc: 0.999998\tvalid_1's auc: 0.899206\tvalid_1's auc: 0.899206\n",
      "[2500]\ttraining's auc: 1\ttraining's auc: 1\tvalid_1's auc: 0.900109\tvalid_1's auc: 0.900109\n",
      "[3000]\ttraining's auc: 1\ttraining's auc: 1\tvalid_1's auc: 0.900831\tvalid_1's auc: 0.900831\n",
      "Early stopping, best iteration is:\n",
      "[3231]\ttraining's auc: 1\ttraining's auc: 1\tvalid_1's auc: 0.901011\tvalid_1's auc: 0.901011\n",
      "Fold 2 started at Fri Sep 13 09:22:59 2019\n",
      "Training until validation scores don't improve for 200 rounds.\n",
      "[500]\ttraining's auc: 0.990191\ttraining's auc: 0.990191\tvalid_1's auc: 0.91665\tvalid_1's auc: 0.91665\n",
      "[1000]\ttraining's auc: 0.999601\ttraining's auc: 0.999601\tvalid_1's auc: 0.925919\tvalid_1's auc: 0.925919\n",
      "[1500]\ttraining's auc: 0.999971\ttraining's auc: 0.999971\tvalid_1's auc: 0.928652\tvalid_1's auc: 0.928652\n",
      "[2000]\ttraining's auc: 0.999999\ttraining's auc: 0.999999\tvalid_1's auc: 0.92954\tvalid_1's auc: 0.92954\n",
      "[2500]\ttraining's auc: 1\ttraining's auc: 1\tvalid_1's auc: 0.929782\tvalid_1's auc: 0.929782\n",
      "[3000]\ttraining's auc: 1\ttraining's auc: 1\tvalid_1's auc: 0.929776\tvalid_1's auc: 0.929776\n",
      "Early stopping, best iteration is:\n",
      "[2829]\ttraining's auc: 1\ttraining's auc: 1\tvalid_1's auc: 0.929894\tvalid_1's auc: 0.929894\n",
      "Fold 3 started at Fri Sep 13 10:30:16 2019\n",
      "Training until validation scores don't improve for 200 rounds.\n",
      "[500]\ttraining's auc: 0.990512\ttraining's auc: 0.990512\tvalid_1's auc: 0.916321\tvalid_1's auc: 0.916321\n",
      "[1000]\ttraining's auc: 0.999565\ttraining's auc: 0.999565\tvalid_1's auc: 0.922542\tvalid_1's auc: 0.922542\n",
      "[1500]\ttraining's auc: 0.999971\ttraining's auc: 0.999971\tvalid_1's auc: 0.923899\tvalid_1's auc: 0.923899\n",
      "[2000]\ttraining's auc: 0.999999\ttraining's auc: 0.999999\tvalid_1's auc: 0.924308\tvalid_1's auc: 0.924308\n",
      "Early stopping, best iteration is:\n",
      "[2245]\ttraining's auc: 1\ttraining's auc: 1\tvalid_1's auc: 0.924413\tvalid_1's auc: 0.924413\n",
      "Fold 4 started at Fri Sep 13 11:25:33 2019\n",
      "Training until validation scores don't improve for 200 rounds.\n",
      "[500]\ttraining's auc: 0.990175\ttraining's auc: 0.990175\tvalid_1's auc: 0.933471\tvalid_1's auc: 0.933471\n",
      "[1000]\ttraining's auc: 0.999538\ttraining's auc: 0.999538\tvalid_1's auc: 0.941128\tvalid_1's auc: 0.941128\n",
      "[1500]\ttraining's auc: 0.999968\ttraining's auc: 0.999968\tvalid_1's auc: 0.942883\tvalid_1's auc: 0.942883\n",
      "[2000]\ttraining's auc: 0.999999\ttraining's auc: 0.999999\tvalid_1's auc: 0.94322\tvalid_1's auc: 0.94322\n",
      "Early stopping, best iteration is:\n",
      "[1950]\ttraining's auc: 0.999998\ttraining's auc: 0.999998\tvalid_1's auc: 0.943268\tvalid_1's auc: 0.943268\n",
      "Fold 5 started at Fri Sep 13 12:14:10 2019\n",
      "Training until validation scores don't improve for 200 rounds.\n",
      "[500]\ttraining's auc: 0.990084\ttraining's auc: 0.990084\tvalid_1's auc: 0.910919\tvalid_1's auc: 0.910919\n",
      "[1000]\ttraining's auc: 0.999552\ttraining's auc: 0.999552\tvalid_1's auc: 0.918191\tvalid_1's auc: 0.918191\n",
      "[1500]\ttraining's auc: 0.999973\ttraining's auc: 0.999973\tvalid_1's auc: 0.919229\tvalid_1's auc: 0.919229\n",
      "[2000]\ttraining's auc: 0.999999\ttraining's auc: 0.999999\tvalid_1's auc: 0.919948\tvalid_1's auc: 0.919948\n",
      "Early stopping, best iteration is:\n",
      "[2063]\ttraining's auc: 1\ttraining's auc: 1\tvalid_1's auc: 0.92003\tvalid_1's auc: 0.92003\n",
      "CV mean score: 0.9237, std: 0.0138.\n"
     ]
    },
    {
     "data": {
      "image/png": "[encoded data removed]",
      "text/plain": [
       "<Figure size 1152x864 with 1 Axes>"
      ]
     },
     "metadata": {
      "needs_background": "light"
     },
     "output_type": "display_data"
    }
   ],
   "source": [
    "params = {'num_leaves': 491,\n",
    "          'min_child_weight': 0.03454472573214212,\n",
    "          'feature_fraction': 0.3797454081646243,\n",
    "          'bagging_fraction': 0.4181193142567742,\n",
    "          'min_data_in_leaf': 106,\n",
    "          'objective': 'binary',\n",
    "          'max_depth': -1,\n",
    "          'learning_rate': 0.006883242363721497,\n",
    "          \"boosting_type\": \"gbdt\",\n",
    "          \"bagging_seed\": 11,\n",
    "          \"metric\": 'auc',\n",
    "          \"verbosity\": -1,\n",
    "          'reg_alpha': 0.3899927210061127,\n",
    "          'reg_lambda': 0.6485237330340494,\n",
    "          'random_state': 47, \n",
    "         }\n",
    "\n",
    "n_fold = 5\n",
    "folds = KFold(n_splits=n_fold)\n",
    "train_options = {\n",
    "    \"model_type\":'lgb',\n",
    "    \"params\": params,\n",
    "    \"eval_metric\":'auc',\n",
    "    'early_stopping_rounds': 200,\n",
    "    'n_estimators': 10000,\n",
    "    'averaging': 'usual',\n",
    "    'use_groups': False,\n",
    "    'fold_name': folds.__class__.__name__,\n",
    "    'n_splits': n_fold\n",
    "    \n",
    "}\n",
    "result_dict_lgb_after_rfe = train_model_classification(X=X_time, X_test=test_time, y=y, params=params, folds=folds,\n",
    "                                             model_type=train_options['model_type'], \n",
    "                                             eval_metric=train_options['eval_metric'],\n",
    "                                             plot_feature_importance=True,\n",
    "                                             verbose=500, early_stopping_rounds=train_options['early_stopping_rounds'],\n",
    "                                             n_estimators=train_options['n_estimators'], \n",
    "                                             averaging=train_options['averaging'],\n",
    "                                             n_jobs=-1, groups=None)"
   ]
  },
  {
   "cell_type": "code",
   "execution_count": null,
   "metadata": {},
   "outputs": [],
   "source": []
  },
  {
   "cell_type": "code",
   "execution_count": null,
   "metadata": {},
   "outputs": [],
   "source": []
  },
  {
   "cell_type": "code",
   "execution_count": null,
   "metadata": {},
   "outputs": [],
   "source": []
  },
  {
   "cell_type": "code",
   "execution_count": null,
   "metadata": {},
   "outputs": [],
   "source": []
  },
  {
   "cell_type": "code",
   "execution_count": null,
   "metadata": {},
   "outputs": [],
   "source": []
  },
  {
   "cell_type": "code",
   "execution_count": null,
   "metadata": {},
   "outputs": [],
   "source": []
  },
  {
   "cell_type": "code",
   "execution_count": 31,
   "metadata": {
    "ExecuteTime": {
     "end_time": "2019-09-12T05:02:07.996636Z",
     "start_time": "2019-09-11T20:02:51.448820Z"
    }
   },
   "outputs": [
    {
     "name": "stdout",
     "output_type": "stream",
     "text": [
      "Fold 1 started at Wed Sep 11 23:02:53 2019\n",
      "Training until validation scores don't improve for 200 rounds.\n",
      "[500]\ttraining's auc: 0.990626\ttraining's auc: 0.990626\tvalid_1's auc: 0.886545\tvalid_1's auc: 0.886545\n",
      "[1000]\ttraining's auc: 0.999545\ttraining's auc: 0.999545\tvalid_1's auc: 0.894716\tvalid_1's auc: 0.894716\n",
      "[1500]\ttraining's auc: 0.999962\ttraining's auc: 0.999962\tvalid_1's auc: 0.897291\tvalid_1's auc: 0.897291\n",
      "[2000]\ttraining's auc: 0.999998\ttraining's auc: 0.999998\tvalid_1's auc: 0.898614\tvalid_1's auc: 0.898614\n",
      "[2500]\ttraining's auc: 1\ttraining's auc: 1\tvalid_1's auc: 0.899675\tvalid_1's auc: 0.899675\n",
      "[3000]\ttraining's auc: 1\ttraining's auc: 1\tvalid_1's auc: 0.900367\tvalid_1's auc: 0.900367\n",
      "Early stopping, best iteration is:\n",
      "[3119]\ttraining's auc: 1\ttraining's auc: 1\tvalid_1's auc: 0.900362\tvalid_1's auc: 0.900362\n",
      "Fold 2 started at Thu Sep 12 01:24:17 2019\n",
      "Training until validation scores don't improve for 200 rounds.\n",
      "[500]\ttraining's auc: 0.990709\ttraining's auc: 0.990709\tvalid_1's auc: 0.916591\tvalid_1's auc: 0.916591\n",
      "[1000]\ttraining's auc: 0.999629\ttraining's auc: 0.999629\tvalid_1's auc: 0.925683\tvalid_1's auc: 0.925683\n",
      "[1500]\ttraining's auc: 0.999975\ttraining's auc: 0.999975\tvalid_1's auc: 0.928228\tvalid_1's auc: 0.928228\n",
      "[2000]\ttraining's auc: 0.999999\ttraining's auc: 0.999999\tvalid_1's auc: 0.929374\tvalid_1's auc: 0.929374\n",
      "Early stopping, best iteration is:\n",
      "[2218]\ttraining's auc: 1\ttraining's auc: 1\tvalid_1's auc: 0.929513\tvalid_1's auc: 0.929513\n",
      "Fold 3 started at Thu Sep 12 03:10:38 2019\n",
      "Training until validation scores don't improve for 200 rounds.\n",
      "[500]\ttraining's auc: 0.990872\ttraining's auc: 0.990872\tvalid_1's auc: 0.91507\tvalid_1's auc: 0.91507\n",
      "[1000]\ttraining's auc: 0.999601\ttraining's auc: 0.999601\tvalid_1's auc: 0.921789\tvalid_1's auc: 0.921789\n",
      "[1500]\ttraining's auc: 0.999974\ttraining's auc: 0.999974\tvalid_1's auc: 0.922848\tvalid_1's auc: 0.922848\n",
      "[2000]\ttraining's auc: 0.999999\ttraining's auc: 0.999999\tvalid_1's auc: 0.923314\tvalid_1's auc: 0.923314\n",
      "[2500]\ttraining's auc: 1\ttraining's auc: 1\tvalid_1's auc: 0.923381\tvalid_1's auc: 0.923381\n",
      "Early stopping, best iteration is:\n",
      "[2308]\ttraining's auc: 1\ttraining's auc: 1\tvalid_1's auc: 0.923388\tvalid_1's auc: 0.923388\n",
      "Fold 4 started at Thu Sep 12 04:59:50 2019\n",
      "Training until validation scores don't improve for 200 rounds.\n",
      "[500]\ttraining's auc: 0.990664\ttraining's auc: 0.990664\tvalid_1's auc: 0.932656\tvalid_1's auc: 0.932656\n",
      "[1000]\ttraining's auc: 0.99958\ttraining's auc: 0.99958\tvalid_1's auc: 0.940221\tvalid_1's auc: 0.940221\n",
      "[1500]\ttraining's auc: 0.999972\ttraining's auc: 0.999972\tvalid_1's auc: 0.941597\tvalid_1's auc: 0.941597\n",
      "[2000]\ttraining's auc: 0.999999\ttraining's auc: 0.999999\tvalid_1's auc: 0.941865\tvalid_1's auc: 0.941865\n",
      "Early stopping, best iteration is:\n",
      "[2071]\ttraining's auc: 1\ttraining's auc: 1\tvalid_1's auc: 0.941919\tvalid_1's auc: 0.941919\n",
      "Fold 5 started at Thu Sep 12 06:33:52 2019\n",
      "Training until validation scores don't improve for 200 rounds.\n",
      "[500]\ttraining's auc: 0.990387\ttraining's auc: 0.990387\tvalid_1's auc: 0.910439\tvalid_1's auc: 0.910439\n",
      "[1000]\ttraining's auc: 0.999584\ttraining's auc: 0.999584\tvalid_1's auc: 0.917874\tvalid_1's auc: 0.917874\n",
      "[1500]\ttraining's auc: 0.999975\ttraining's auc: 0.999975\tvalid_1's auc: 0.919236\tvalid_1's auc: 0.919236\n",
      "[2000]\ttraining's auc: 1\ttraining's auc: 1\tvalid_1's auc: 0.919881\tvalid_1's auc: 0.919881\n",
      "Early stopping, best iteration is:\n",
      "[2247]\ttraining's auc: 1\ttraining's auc: 1\tvalid_1's auc: 0.92004\tvalid_1's auc: 0.92004\n",
      "CV mean score: 0.9230, std: 0.0136.\n"
     ]
    },
    {
     "data": {
      "image/png": "[encoded data removed]",
      "text/plain": [
       "<Figure size 1152x864 with 1 Axes>"
      ]
     },
     "metadata": {
      "needs_background": "light"
     },
     "output_type": "display_data"
    }
   ],
   "source": [
    "params = {'num_leaves': 491,\n",
    "          'min_child_weight': 0.03454472573214212,\n",
    "          'feature_fraction': 0.3797454081646243,\n",
    "          'bagging_fraction': 0.4181193142567742,\n",
    "          'min_data_in_leaf': 106,\n",
    "          'objective': 'binary',\n",
    "          'max_depth': -1,\n",
    "          'learning_rate': 0.006883242363721497,\n",
    "          \"boosting_type\": \"gbdt\",\n",
    "          \"bagging_seed\": 11,\n",
    "          \"metric\": 'auc',\n",
    "          \"verbosity\": -1,\n",
    "          'reg_alpha': 0.3899927210061127,\n",
    "          'reg_lambda': 0.6485237330340494,\n",
    "          'random_state': 47, \n",
    "         }\n",
    "\n",
    "n_fold = 5\n",
    "folds = KFold(n_splits=n_fold)\n",
    "train_options = {\n",
    "    \"model_type\":'lgb',\n",
    "    \"params\": params,\n",
    "    \"eval_metric\":'auc',\n",
    "    'early_stopping_rounds': 200,\n",
    "    'n_estimators': 10000,\n",
    "    'averaging': 'usual',\n",
    "    'use_groups': False,\n",
    "    'fold_name': folds.__class__.__name__,\n",
    "    'n_splits': n_fold\n",
    "    \n",
    "}\n",
    "\n",
    "result_dict_lgb = train_model_classification(X=X, X_test=test, y=y, params=params, folds=folds,\n",
    "                                             model_type=train_options['model_type'], \n",
    "                                             eval_metric=train_options['eval_metric'],\n",
    "                                             plot_feature_importance=True,\n",
    "                                             verbose=500, early_stopping_rounds=train_options['early_stopping_rounds'],\n",
    "                                             n_estimators=train_options['n_estimators'], \n",
    "                                             averaging=train_options['averaging'],\n",
    "                                             n_jobs=-1, groups=None)"
   ]
  },
  {
   "cell_type": "code",
   "execution_count": 32,
   "metadata": {
    "ExecuteTime": {
     "end_time": "2019-09-12T05:02:19.931634Z",
     "start_time": "2019-09-12T05:02:14.517643Z"
    }
   },
   "outputs": [],
   "source": [
    "X = X.drop(features, axis=1)\n",
    "test = test.drop(features, axis=1)"
   ]
  },
  {
   "cell_type": "code",
   "execution_count": 33,
   "metadata": {
    "ExecuteTime": {
     "end_time": "2019-09-12T05:18:17.987750Z",
     "start_time": "2019-09-12T05:02:21.592640Z"
    }
   },
   "outputs": [
    {
     "name": "stdout",
     "output_type": "stream",
     "text": [
      "Fold 1 started at Thu Sep 12 08:02:23 2019\n",
      "Training until validation scores don't improve for 200 rounds.\n",
      "[500]\ttraining's auc: 0.980766\ttraining's auc: 0.980766\tvalid_1's auc: 0.902296\tvalid_1's auc: 0.902296\n"
     ]
    },
    {
     "ename": "KeyboardInterrupt",
     "evalue": "",
     "output_type": "error",
     "traceback": [
      "\u001b[1;31m---------------------------------------------------------------------------\u001b[0m",
      "\u001b[1;31mKeyboardInterrupt\u001b[0m                         Traceback (most recent call last)",
      "\u001b[1;32m<ipython-input-33-9ec1196faa8a>\u001b[0m in \u001b[0;36m<module>\u001b[1;34m\u001b[0m\n\u001b[0;32m      6\u001b[0m                                              \u001b[0mn_estimators\u001b[0m\u001b[1;33m=\u001b[0m\u001b[0mtrain_options\u001b[0m\u001b[1;33m[\u001b[0m\u001b[1;34m'n_estimators'\u001b[0m\u001b[1;33m]\u001b[0m\u001b[1;33m,\u001b[0m\u001b[1;33m\u001b[0m\u001b[0m\n\u001b[0;32m      7\u001b[0m                                              \u001b[0maveraging\u001b[0m\u001b[1;33m=\u001b[0m\u001b[0mtrain_options\u001b[0m\u001b[1;33m[\u001b[0m\u001b[1;34m'averaging'\u001b[0m\u001b[1;33m]\u001b[0m\u001b[1;33m,\u001b[0m\u001b[1;33m\u001b[0m\u001b[0m\n\u001b[1;32m----> 8\u001b[1;33m                                              n_jobs=-1, groups=None)\n\u001b[0m",
      "\u001b[1;32mf:\\my\\Prog\\kaggle\\Baydin\\BayDS\\training\\third_party.py\u001b[0m in \u001b[0;36mtrain_model_classification\u001b[1;34m(X, X_test, y, params, folds, model_type, eval_metric, columns, plot_feature_importance, model, verbose, early_stopping_rounds, n_estimators, splits, averaging, n_jobs, groups)\u001b[0m\n\u001b[0;32m    146\u001b[0m                       \u001b[0meval_set\u001b[0m\u001b[1;33m=\u001b[0m\u001b[1;33m[\u001b[0m\u001b[1;33m(\u001b[0m\u001b[0mX_train\u001b[0m\u001b[1;33m,\u001b[0m \u001b[0my_train\u001b[0m\u001b[1;33m)\u001b[0m\u001b[1;33m,\u001b[0m \u001b[1;33m(\u001b[0m\u001b[0mX_valid\u001b[0m\u001b[1;33m,\u001b[0m \u001b[0my_valid\u001b[0m\u001b[1;33m)\u001b[0m\u001b[1;33m]\u001b[0m\u001b[1;33m,\u001b[0m\u001b[1;33m\u001b[0m\u001b[0m\n\u001b[0;32m    147\u001b[0m                       \u001b[0meval_metric\u001b[0m\u001b[1;33m=\u001b[0m\u001b[0mmetrics_dict\u001b[0m\u001b[1;33m[\u001b[0m\u001b[0meval_metric\u001b[0m\u001b[1;33m]\u001b[0m\u001b[1;33m[\u001b[0m\u001b[1;34m'lgb_metric_name'\u001b[0m\u001b[1;33m]\u001b[0m\u001b[1;33m,\u001b[0m\u001b[1;33m\u001b[0m\u001b[0m\n\u001b[1;32m--> 148\u001b[1;33m                       verbose=verbose, early_stopping_rounds=early_stopping_rounds)\n\u001b[0m\u001b[0;32m    149\u001b[0m \u001b[1;33m\u001b[0m\u001b[0m\n\u001b[0;32m    150\u001b[0m             \u001b[0my_pred_valid\u001b[0m \u001b[1;33m=\u001b[0m \u001b[0mmodel\u001b[0m\u001b[1;33m.\u001b[0m\u001b[0mpredict_proba\u001b[0m\u001b[1;33m(\u001b[0m\u001b[0mX_valid\u001b[0m\u001b[1;33m)\u001b[0m\u001b[1;33m[\u001b[0m\u001b[1;33m:\u001b[0m\u001b[1;33m,\u001b[0m \u001b[1;36m1\u001b[0m\u001b[1;33m]\u001b[0m\u001b[1;33m\u001b[0m\u001b[0m\n",
      "\u001b[1;32mc:\\python36\\lib\\site-packages\\lightgbm\\sklearn.py\u001b[0m in \u001b[0;36mfit\u001b[1;34m(self, X, y, sample_weight, init_score, eval_set, eval_names, eval_sample_weight, eval_class_weight, eval_init_score, eval_metric, early_stopping_rounds, verbose, feature_name, categorical_feature, callbacks)\u001b[0m\n\u001b[0;32m    742\u001b[0m                                         \u001b[0mverbose\u001b[0m\u001b[1;33m=\u001b[0m\u001b[0mverbose\u001b[0m\u001b[1;33m,\u001b[0m \u001b[0mfeature_name\u001b[0m\u001b[1;33m=\u001b[0m\u001b[0mfeature_name\u001b[0m\u001b[1;33m,\u001b[0m\u001b[1;33m\u001b[0m\u001b[0m\n\u001b[0;32m    743\u001b[0m                                         \u001b[0mcategorical_feature\u001b[0m\u001b[1;33m=\u001b[0m\u001b[0mcategorical_feature\u001b[0m\u001b[1;33m,\u001b[0m\u001b[1;33m\u001b[0m\u001b[0m\n\u001b[1;32m--> 744\u001b[1;33m                                         callbacks=callbacks)\n\u001b[0m\u001b[0;32m    745\u001b[0m         \u001b[1;32mreturn\u001b[0m \u001b[0mself\u001b[0m\u001b[1;33m\u001b[0m\u001b[0m\n\u001b[0;32m    746\u001b[0m \u001b[1;33m\u001b[0m\u001b[0m\n",
      "\u001b[1;32mc:\\python36\\lib\\site-packages\\lightgbm\\sklearn.py\u001b[0m in \u001b[0;36mfit\u001b[1;34m(self, X, y, sample_weight, init_score, group, eval_set, eval_names, eval_sample_weight, eval_class_weight, eval_init_score, eval_group, eval_metric, early_stopping_rounds, verbose, feature_name, categorical_feature, callbacks)\u001b[0m\n\u001b[0;32m    542\u001b[0m                               \u001b[0mverbose_eval\u001b[0m\u001b[1;33m=\u001b[0m\u001b[0mverbose\u001b[0m\u001b[1;33m,\u001b[0m \u001b[0mfeature_name\u001b[0m\u001b[1;33m=\u001b[0m\u001b[0mfeature_name\u001b[0m\u001b[1;33m,\u001b[0m\u001b[1;33m\u001b[0m\u001b[0m\n\u001b[0;32m    543\u001b[0m                               \u001b[0mcategorical_feature\u001b[0m\u001b[1;33m=\u001b[0m\u001b[0mcategorical_feature\u001b[0m\u001b[1;33m,\u001b[0m\u001b[1;33m\u001b[0m\u001b[0m\n\u001b[1;32m--> 544\u001b[1;33m                               callbacks=callbacks)\n\u001b[0m\u001b[0;32m    545\u001b[0m \u001b[1;33m\u001b[0m\u001b[0m\n\u001b[0;32m    546\u001b[0m         \u001b[1;32mif\u001b[0m \u001b[0mevals_result\u001b[0m\u001b[1;33m:\u001b[0m\u001b[1;33m\u001b[0m\u001b[0m\n",
      "\u001b[1;32mc:\\python36\\lib\\site-packages\\lightgbm\\engine.py\u001b[0m in \u001b[0;36mtrain\u001b[1;34m(params, train_set, num_boost_round, valid_sets, valid_names, fobj, feval, init_model, feature_name, categorical_feature, early_stopping_rounds, evals_result, verbose_eval, learning_rates, keep_training_booster, callbacks)\u001b[0m\n\u001b[0;32m    223\u001b[0m             \u001b[1;32mif\u001b[0m \u001b[0mis_valid_contain_train\u001b[0m\u001b[1;33m:\u001b[0m\u001b[1;33m\u001b[0m\u001b[0m\n\u001b[0;32m    224\u001b[0m                 \u001b[0mevaluation_result_list\u001b[0m\u001b[1;33m.\u001b[0m\u001b[0mextend\u001b[0m\u001b[1;33m(\u001b[0m\u001b[0mbooster\u001b[0m\u001b[1;33m.\u001b[0m\u001b[0meval_train\u001b[0m\u001b[1;33m(\u001b[0m\u001b[0mfeval\u001b[0m\u001b[1;33m)\u001b[0m\u001b[1;33m)\u001b[0m\u001b[1;33m\u001b[0m\u001b[0m\n\u001b[1;32m--> 225\u001b[1;33m             \u001b[0mevaluation_result_list\u001b[0m\u001b[1;33m.\u001b[0m\u001b[0mextend\u001b[0m\u001b[1;33m(\u001b[0m\u001b[0mbooster\u001b[0m\u001b[1;33m.\u001b[0m\u001b[0meval_valid\u001b[0m\u001b[1;33m(\u001b[0m\u001b[0mfeval\u001b[0m\u001b[1;33m)\u001b[0m\u001b[1;33m)\u001b[0m\u001b[1;33m\u001b[0m\u001b[0m\n\u001b[0m\u001b[0;32m    226\u001b[0m         \u001b[1;32mtry\u001b[0m\u001b[1;33m:\u001b[0m\u001b[1;33m\u001b[0m\u001b[0m\n\u001b[0;32m    227\u001b[0m             \u001b[1;32mfor\u001b[0m \u001b[0mcb\u001b[0m \u001b[1;32min\u001b[0m \u001b[0mcallbacks_after_iter\u001b[0m\u001b[1;33m:\u001b[0m\u001b[1;33m\u001b[0m\u001b[0m\n",
      "\u001b[1;32mc:\\python36\\lib\\site-packages\\lightgbm\\basic.py\u001b[0m in \u001b[0;36meval_valid\u001b[1;34m(self, feval)\u001b[0m\n\u001b[0;32m   1975\u001b[0m             \u001b[0mList\u001b[0m \u001b[1;32mwith\u001b[0m \u001b[0mevaluation\u001b[0m \u001b[0mresults\u001b[0m\u001b[1;33m.\u001b[0m\u001b[1;33m\u001b[0m\u001b[0m\n\u001b[0;32m   1976\u001b[0m         \"\"\"\n\u001b[1;32m-> 1977\u001b[1;33m         return [item for i in range_(1, self.__num_dataset)\n\u001b[0m\u001b[0;32m   1978\u001b[0m                 for item in self.__inner_eval(self.name_valid_sets[i - 1], i, feval)]\n\u001b[0;32m   1979\u001b[0m \u001b[1;33m\u001b[0m\u001b[0m\n",
      "\u001b[1;32mc:\\python36\\lib\\site-packages\\lightgbm\\basic.py\u001b[0m in \u001b[0;36m<listcomp>\u001b[1;34m(.0)\u001b[0m\n\u001b[0;32m   1976\u001b[0m         \"\"\"\n\u001b[0;32m   1977\u001b[0m         return [item for i in range_(1, self.__num_dataset)\n\u001b[1;32m-> 1978\u001b[1;33m                 for item in self.__inner_eval(self.name_valid_sets[i - 1], i, feval)]\n\u001b[0m\u001b[0;32m   1979\u001b[0m \u001b[1;33m\u001b[0m\u001b[0m\n\u001b[0;32m   1980\u001b[0m     \u001b[1;32mdef\u001b[0m \u001b[0msave_model\u001b[0m\u001b[1;33m(\u001b[0m\u001b[0mself\u001b[0m\u001b[1;33m,\u001b[0m \u001b[0mfilename\u001b[0m\u001b[1;33m,\u001b[0m \u001b[0mnum_iteration\u001b[0m\u001b[1;33m=\u001b[0m\u001b[1;32mNone\u001b[0m\u001b[1;33m,\u001b[0m \u001b[0mstart_iteration\u001b[0m\u001b[1;33m=\u001b[0m\u001b[1;36m0\u001b[0m\u001b[1;33m)\u001b[0m\u001b[1;33m:\u001b[0m\u001b[1;33m\u001b[0m\u001b[0m\n",
      "\u001b[1;32mc:\\python36\\lib\\site-packages\\lightgbm\\basic.py\u001b[0m in \u001b[0;36m__inner_eval\u001b[1;34m(self, data_name, data_idx, feval)\u001b[0m\n\u001b[0;32m   2373\u001b[0m             \u001b[1;32melse\u001b[0m\u001b[1;33m:\u001b[0m\u001b[1;33m\u001b[0m\u001b[0m\n\u001b[0;32m   2374\u001b[0m                 \u001b[0mcur_data\u001b[0m \u001b[1;33m=\u001b[0m \u001b[0mself\u001b[0m\u001b[1;33m.\u001b[0m\u001b[0mvalid_sets\u001b[0m\u001b[1;33m[\u001b[0m\u001b[0mdata_idx\u001b[0m \u001b[1;33m-\u001b[0m \u001b[1;36m1\u001b[0m\u001b[1;33m]\u001b[0m\u001b[1;33m\u001b[0m\u001b[0m\n\u001b[1;32m-> 2375\u001b[1;33m             \u001b[0mfeval_ret\u001b[0m \u001b[1;33m=\u001b[0m \u001b[0mfeval\u001b[0m\u001b[1;33m(\u001b[0m\u001b[0mself\u001b[0m\u001b[1;33m.\u001b[0m\u001b[0m__inner_predict\u001b[0m\u001b[1;33m(\u001b[0m\u001b[0mdata_idx\u001b[0m\u001b[1;33m)\u001b[0m\u001b[1;33m,\u001b[0m \u001b[0mcur_data\u001b[0m\u001b[1;33m)\u001b[0m\u001b[1;33m\u001b[0m\u001b[0m\n\u001b[0m\u001b[0;32m   2376\u001b[0m             \u001b[1;32mif\u001b[0m \u001b[0misinstance\u001b[0m\u001b[1;33m(\u001b[0m\u001b[0mfeval_ret\u001b[0m\u001b[1;33m,\u001b[0m \u001b[0mlist\u001b[0m\u001b[1;33m)\u001b[0m\u001b[1;33m:\u001b[0m\u001b[1;33m\u001b[0m\u001b[0m\n\u001b[0;32m   2377\u001b[0m                 \u001b[1;32mfor\u001b[0m \u001b[0meval_name\u001b[0m\u001b[1;33m,\u001b[0m \u001b[0mval\u001b[0m\u001b[1;33m,\u001b[0m \u001b[0mis_higher_better\u001b[0m \u001b[1;32min\u001b[0m \u001b[0mfeval_ret\u001b[0m\u001b[1;33m:\u001b[0m\u001b[1;33m\u001b[0m\u001b[0m\n",
      "\u001b[1;32mc:\\python36\\lib\\site-packages\\lightgbm\\sklearn.py\u001b[0m in \u001b[0;36minner\u001b[1;34m(preds, dataset)\u001b[0m\n\u001b[0;32m    121\u001b[0m         \u001b[0margc\u001b[0m \u001b[1;33m=\u001b[0m \u001b[0margc_\u001b[0m\u001b[1;33m(\u001b[0m\u001b[0mfunc\u001b[0m\u001b[1;33m)\u001b[0m\u001b[1;33m\u001b[0m\u001b[0m\n\u001b[0;32m    122\u001b[0m         \u001b[1;32mif\u001b[0m \u001b[0margc\u001b[0m \u001b[1;33m==\u001b[0m \u001b[1;36m2\u001b[0m\u001b[1;33m:\u001b[0m\u001b[1;33m\u001b[0m\u001b[0m\n\u001b[1;32m--> 123\u001b[1;33m             \u001b[1;32mreturn\u001b[0m \u001b[0mfunc\u001b[0m\u001b[1;33m(\u001b[0m\u001b[0mlabels\u001b[0m\u001b[1;33m,\u001b[0m \u001b[0mpreds\u001b[0m\u001b[1;33m)\u001b[0m\u001b[1;33m\u001b[0m\u001b[0m\n\u001b[0m\u001b[0;32m    124\u001b[0m         \u001b[1;32melif\u001b[0m \u001b[0margc\u001b[0m \u001b[1;33m==\u001b[0m \u001b[1;36m3\u001b[0m\u001b[1;33m:\u001b[0m\u001b[1;33m\u001b[0m\u001b[0m\n\u001b[0;32m    125\u001b[0m             \u001b[1;32mreturn\u001b[0m \u001b[0mfunc\u001b[0m\u001b[1;33m(\u001b[0m\u001b[0mlabels\u001b[0m\u001b[1;33m,\u001b[0m \u001b[0mpreds\u001b[0m\u001b[1;33m,\u001b[0m \u001b[0mdataset\u001b[0m\u001b[1;33m.\u001b[0m\u001b[0mget_weight\u001b[0m\u001b[1;33m(\u001b[0m\u001b[1;33m)\u001b[0m\u001b[1;33m)\u001b[0m\u001b[1;33m\u001b[0m\u001b[0m\n",
      "\u001b[1;32mf:\\my\\Prog\\kaggle\\Baydin\\BayDS\\training\\third_party.py\u001b[0m in \u001b[0;36meval_auc\u001b[1;34m(y_true, y_pred)\u001b[0m\n\u001b[0;32m     49\u001b[0m     \u001b[0mFast\u001b[0m \u001b[0mauc\u001b[0m \u001b[0meval\u001b[0m \u001b[0mfunction\u001b[0m \u001b[1;32mfor\u001b[0m \u001b[0mlgb\u001b[0m\u001b[1;33m.\u001b[0m\u001b[1;33m\u001b[0m\u001b[0m\n\u001b[0;32m     50\u001b[0m     \"\"\"\n\u001b[1;32m---> 51\u001b[1;33m     \u001b[1;32mreturn\u001b[0m \u001b[1;34m'auc'\u001b[0m\u001b[1;33m,\u001b[0m \u001b[0mfast_auc\u001b[0m\u001b[1;33m(\u001b[0m\u001b[0my_true\u001b[0m\u001b[1;33m,\u001b[0m \u001b[0my_pred\u001b[0m\u001b[1;33m)\u001b[0m\u001b[1;33m,\u001b[0m \u001b[1;32mTrue\u001b[0m\u001b[1;33m\u001b[0m\u001b[0m\n\u001b[0m\u001b[0;32m     52\u001b[0m \u001b[1;33m\u001b[0m\u001b[0m\n\u001b[0;32m     53\u001b[0m \u001b[1;33m\u001b[0m\u001b[0m\n",
      "\u001b[1;31mKeyboardInterrupt\u001b[0m: "
     ]
    }
   ],
   "source": [
    "result_dict_lgb_ = train_model_classification(X=X, X_test=test, y=y, params=params, folds=folds,\n",
    "                                             model_type=train_options['model_type'], \n",
    "                                             eval_metric=train_options['eval_metric'],\n",
    "                                             plot_feature_importance=True,\n",
    "                                             verbose=500, early_stopping_rounds=train_options['early_stopping_rounds'],\n",
    "                                             n_estimators=train_options['n_estimators'], \n",
    "                                             averaging=train_options['averaging'],\n",
    "                                             n_jobs=-1, groups=None)"
   ]
  },
  {
   "cell_type": "code",
   "execution_count": 38,
   "metadata": {
    "ExecuteTime": {
     "end_time": "2019-09-12T05:19:18.407752Z",
     "start_time": "2019-09-12T05:19:16.289749Z"
    }
   },
   "outputs": [],
   "source": [
    "pd.DataFrame(result_dict_lgb['prediction'], index=test.index, columns=['isFraud']).to_csv('ieee-with-time-aggs-v2.csv')"
   ]
  },
  {
   "cell_type": "code",
   "execution_count": 35,
   "metadata": {
    "ExecuteTime": {
     "end_time": "2019-09-12T05:18:47.735763Z",
     "start_time": "2019-09-12T05:18:47.730750Z"
    }
   },
   "outputs": [
    {
     "data": {
      "text/plain": [
       "array([[0.00034721],\n",
       "       [0.000725  ],\n",
       "       [0.00274554],\n",
       "       ...,\n",
       "       [0.00214056],\n",
       "       [0.00151192],\n",
       "       [0.00105652]])"
      ]
     },
     "execution_count": 35,
     "metadata": {},
     "output_type": "execute_result"
    }
   ],
   "source": [
    "result_dict_lgb['prediction']"
   ]
  },
  {
   "cell_type": "code",
   "execution_count": 62,
   "metadata": {
    "ExecuteTime": {
     "end_time": "2019-09-12T05:50:36.380294Z",
     "start_time": "2019-09-12T05:36:34.270775Z"
    }
   },
   "outputs": [],
   "source": [
    "corrs = X.corr()"
   ]
  },
  {
   "cell_type": "code",
   "execution_count": 63,
   "metadata": {
    "ExecuteTime": {
     "end_time": "2019-09-12T05:50:38.128286Z",
     "start_time": "2019-09-12T05:50:38.080279Z"
    }
   },
   "outputs": [
    {
     "data": {
      "text/html": [
       "<div>\n",
       "<style scoped>\n",
       "    .dataframe tbody tr th:only-of-type {\n",
       "        vertical-align: middle;\n",
       "    }\n",
       "\n",
       "    .dataframe tbody tr th {\n",
       "        vertical-align: top;\n",
       "    }\n",
       "\n",
       "    .dataframe thead th {\n",
       "        text-align: right;\n",
       "    }\n",
       "</style>\n",
       "<table border=\"1\" class=\"dataframe\">\n",
       "  <thead>\n",
       "    <tr style=\"text-align: right;\">\n",
       "      <th></th>\n",
       "      <th>C10_by_card_id_ws2d_to_mean</th>\n",
       "      <th>C10_by_card_id_ws2d_to_std</th>\n",
       "      <th>C10_by_card_id_ws3d_to_std</th>\n",
       "      <th>C10_by_card_id_ws7d_to_mean</th>\n",
       "      <th>C10_by_card_id_ws7d_to_std</th>\n",
       "      <th>C10_by_card_id_ws30d_to_mean</th>\n",
       "      <th>C10_by_card_id_ws30d_to_std</th>\n",
       "      <th>C10_by_card_id_ws5_to_std</th>\n",
       "      <th>C10_by_card_id_ws10_to_mean</th>\n",
       "      <th>C10_by_card_id_ws10_to_std</th>\n",
       "    </tr>\n",
       "    <tr>\n",
       "      <th>TransactionID</th>\n",
       "      <th></th>\n",
       "      <th></th>\n",
       "      <th></th>\n",
       "      <th></th>\n",
       "      <th></th>\n",
       "      <th></th>\n",
       "      <th></th>\n",
       "      <th></th>\n",
       "      <th></th>\n",
       "      <th></th>\n",
       "    </tr>\n",
       "  </thead>\n",
       "  <tbody>\n",
       "    <tr>\n",
       "      <th>2987000</th>\n",
       "      <td>NaN</td>\n",
       "      <td>NaN</td>\n",
       "      <td>NaN</td>\n",
       "      <td>NaN</td>\n",
       "      <td>NaN</td>\n",
       "      <td>NaN</td>\n",
       "      <td>NaN</td>\n",
       "      <td>NaN</td>\n",
       "      <td>NaN</td>\n",
       "      <td>NaN</td>\n",
       "    </tr>\n",
       "    <tr>\n",
       "      <th>2987001</th>\n",
       "      <td>NaN</td>\n",
       "      <td>NaN</td>\n",
       "      <td>NaN</td>\n",
       "      <td>NaN</td>\n",
       "      <td>NaN</td>\n",
       "      <td>NaN</td>\n",
       "      <td>NaN</td>\n",
       "      <td>NaN</td>\n",
       "      <td>NaN</td>\n",
       "      <td>NaN</td>\n",
       "    </tr>\n",
       "    <tr>\n",
       "      <th>2987002</th>\n",
       "      <td>NaN</td>\n",
       "      <td>NaN</td>\n",
       "      <td>NaN</td>\n",
       "      <td>NaN</td>\n",
       "      <td>NaN</td>\n",
       "      <td>NaN</td>\n",
       "      <td>NaN</td>\n",
       "      <td>NaN</td>\n",
       "      <td>NaN</td>\n",
       "      <td>NaN</td>\n",
       "    </tr>\n",
       "    <tr>\n",
       "      <th>2987003</th>\n",
       "      <td>NaN</td>\n",
       "      <td>NaN</td>\n",
       "      <td>NaN</td>\n",
       "      <td>NaN</td>\n",
       "      <td>NaN</td>\n",
       "      <td>NaN</td>\n",
       "      <td>NaN</td>\n",
       "      <td>NaN</td>\n",
       "      <td>NaN</td>\n",
       "      <td>NaN</td>\n",
       "    </tr>\n",
       "    <tr>\n",
       "      <th>2987004</th>\n",
       "      <td>1.0000</td>\n",
       "      <td>NaN</td>\n",
       "      <td>NaN</td>\n",
       "      <td>1.000</td>\n",
       "      <td>NaN</td>\n",
       "      <td>1.000</td>\n",
       "      <td>NaN</td>\n",
       "      <td>NaN</td>\n",
       "      <td>1.0000</td>\n",
       "      <td>NaN</td>\n",
       "    </tr>\n",
       "    <tr>\n",
       "      <th>2987005</th>\n",
       "      <td>NaN</td>\n",
       "      <td>NaN</td>\n",
       "      <td>NaN</td>\n",
       "      <td>NaN</td>\n",
       "      <td>NaN</td>\n",
       "      <td>NaN</td>\n",
       "      <td>NaN</td>\n",
       "      <td>NaN</td>\n",
       "      <td>NaN</td>\n",
       "      <td>NaN</td>\n",
       "    </tr>\n",
       "    <tr>\n",
       "      <th>2987006</th>\n",
       "      <td>NaN</td>\n",
       "      <td>NaN</td>\n",
       "      <td>NaN</td>\n",
       "      <td>NaN</td>\n",
       "      <td>NaN</td>\n",
       "      <td>NaN</td>\n",
       "      <td>NaN</td>\n",
       "      <td>NaN</td>\n",
       "      <td>NaN</td>\n",
       "      <td>NaN</td>\n",
       "    </tr>\n",
       "    <tr>\n",
       "      <th>2987007</th>\n",
       "      <td>NaN</td>\n",
       "      <td>NaN</td>\n",
       "      <td>NaN</td>\n",
       "      <td>NaN</td>\n",
       "      <td>NaN</td>\n",
       "      <td>NaN</td>\n",
       "      <td>NaN</td>\n",
       "      <td>NaN</td>\n",
       "      <td>NaN</td>\n",
       "      <td>NaN</td>\n",
       "    </tr>\n",
       "    <tr>\n",
       "      <th>2987008</th>\n",
       "      <td>1.0000</td>\n",
       "      <td>NaN</td>\n",
       "      <td>NaN</td>\n",
       "      <td>1.000</td>\n",
       "      <td>NaN</td>\n",
       "      <td>1.000</td>\n",
       "      <td>NaN</td>\n",
       "      <td>NaN</td>\n",
       "      <td>1.0000</td>\n",
       "      <td>NaN</td>\n",
       "    </tr>\n",
       "    <tr>\n",
       "      <th>2987009</th>\n",
       "      <td>NaN</td>\n",
       "      <td>NaN</td>\n",
       "      <td>NaN</td>\n",
       "      <td>NaN</td>\n",
       "      <td>NaN</td>\n",
       "      <td>NaN</td>\n",
       "      <td>NaN</td>\n",
       "      <td>NaN</td>\n",
       "      <td>NaN</td>\n",
       "      <td>NaN</td>\n",
       "    </tr>\n",
       "    <tr>\n",
       "      <th>2987010</th>\n",
       "      <td>1.0000</td>\n",
       "      <td>NaN</td>\n",
       "      <td>NaN</td>\n",
       "      <td>1.000</td>\n",
       "      <td>NaN</td>\n",
       "      <td>1.000</td>\n",
       "      <td>NaN</td>\n",
       "      <td>NaN</td>\n",
       "      <td>1.0000</td>\n",
       "      <td>NaN</td>\n",
       "    </tr>\n",
       "    <tr>\n",
       "      <th>2987011</th>\n",
       "      <td>1.0000</td>\n",
       "      <td>NaN</td>\n",
       "      <td>NaN</td>\n",
       "      <td>1.000</td>\n",
       "      <td>NaN</td>\n",
       "      <td>1.000</td>\n",
       "      <td>NaN</td>\n",
       "      <td>NaN</td>\n",
       "      <td>1.0000</td>\n",
       "      <td>NaN</td>\n",
       "    </tr>\n",
       "    <tr>\n",
       "      <th>2987012</th>\n",
       "      <td>NaN</td>\n",
       "      <td>NaN</td>\n",
       "      <td>NaN</td>\n",
       "      <td>NaN</td>\n",
       "      <td>NaN</td>\n",
       "      <td>NaN</td>\n",
       "      <td>NaN</td>\n",
       "      <td>NaN</td>\n",
       "      <td>NaN</td>\n",
       "      <td>NaN</td>\n",
       "    </tr>\n",
       "    <tr>\n",
       "      <th>2987013</th>\n",
       "      <td>NaN</td>\n",
       "      <td>NaN</td>\n",
       "      <td>NaN</td>\n",
       "      <td>NaN</td>\n",
       "      <td>NaN</td>\n",
       "      <td>NaN</td>\n",
       "      <td>NaN</td>\n",
       "      <td>NaN</td>\n",
       "      <td>NaN</td>\n",
       "      <td>NaN</td>\n",
       "    </tr>\n",
       "    <tr>\n",
       "      <th>2987014</th>\n",
       "      <td>NaN</td>\n",
       "      <td>NaN</td>\n",
       "      <td>NaN</td>\n",
       "      <td>NaN</td>\n",
       "      <td>NaN</td>\n",
       "      <td>NaN</td>\n",
       "      <td>NaN</td>\n",
       "      <td>NaN</td>\n",
       "      <td>NaN</td>\n",
       "      <td>NaN</td>\n",
       "    </tr>\n",
       "    <tr>\n",
       "      <th>2987015</th>\n",
       "      <td>NaN</td>\n",
       "      <td>NaN</td>\n",
       "      <td>NaN</td>\n",
       "      <td>NaN</td>\n",
       "      <td>NaN</td>\n",
       "      <td>NaN</td>\n",
       "      <td>NaN</td>\n",
       "      <td>NaN</td>\n",
       "      <td>NaN</td>\n",
       "      <td>NaN</td>\n",
       "    </tr>\n",
       "    <tr>\n",
       "      <th>2987016</th>\n",
       "      <td>1.0000</td>\n",
       "      <td>NaN</td>\n",
       "      <td>NaN</td>\n",
       "      <td>1.000</td>\n",
       "      <td>NaN</td>\n",
       "      <td>1.000</td>\n",
       "      <td>NaN</td>\n",
       "      <td>NaN</td>\n",
       "      <td>1.0000</td>\n",
       "      <td>NaN</td>\n",
       "    </tr>\n",
       "    <tr>\n",
       "      <th>2987017</th>\n",
       "      <td>1.0000</td>\n",
       "      <td>NaN</td>\n",
       "      <td>NaN</td>\n",
       "      <td>1.000</td>\n",
       "      <td>NaN</td>\n",
       "      <td>1.000</td>\n",
       "      <td>NaN</td>\n",
       "      <td>NaN</td>\n",
       "      <td>1.0000</td>\n",
       "      <td>NaN</td>\n",
       "    </tr>\n",
       "    <tr>\n",
       "      <th>2987018</th>\n",
       "      <td>NaN</td>\n",
       "      <td>NaN</td>\n",
       "      <td>NaN</td>\n",
       "      <td>NaN</td>\n",
       "      <td>NaN</td>\n",
       "      <td>NaN</td>\n",
       "      <td>NaN</td>\n",
       "      <td>NaN</td>\n",
       "      <td>NaN</td>\n",
       "      <td>NaN</td>\n",
       "    </tr>\n",
       "    <tr>\n",
       "      <th>2987019</th>\n",
       "      <td>NaN</td>\n",
       "      <td>NaN</td>\n",
       "      <td>NaN</td>\n",
       "      <td>NaN</td>\n",
       "      <td>NaN</td>\n",
       "      <td>NaN</td>\n",
       "      <td>NaN</td>\n",
       "      <td>NaN</td>\n",
       "      <td>NaN</td>\n",
       "      <td>NaN</td>\n",
       "    </tr>\n",
       "    <tr>\n",
       "      <th>2987020</th>\n",
       "      <td>NaN</td>\n",
       "      <td>NaN</td>\n",
       "      <td>NaN</td>\n",
       "      <td>NaN</td>\n",
       "      <td>NaN</td>\n",
       "      <td>NaN</td>\n",
       "      <td>NaN</td>\n",
       "      <td>NaN</td>\n",
       "      <td>NaN</td>\n",
       "      <td>NaN</td>\n",
       "    </tr>\n",
       "    <tr>\n",
       "      <th>2987021</th>\n",
       "      <td>NaN</td>\n",
       "      <td>NaN</td>\n",
       "      <td>NaN</td>\n",
       "      <td>NaN</td>\n",
       "      <td>NaN</td>\n",
       "      <td>NaN</td>\n",
       "      <td>NaN</td>\n",
       "      <td>NaN</td>\n",
       "      <td>NaN</td>\n",
       "      <td>NaN</td>\n",
       "    </tr>\n",
       "    <tr>\n",
       "      <th>2987022</th>\n",
       "      <td>NaN</td>\n",
       "      <td>NaN</td>\n",
       "      <td>NaN</td>\n",
       "      <td>NaN</td>\n",
       "      <td>NaN</td>\n",
       "      <td>NaN</td>\n",
       "      <td>NaN</td>\n",
       "      <td>NaN</td>\n",
       "      <td>NaN</td>\n",
       "      <td>NaN</td>\n",
       "    </tr>\n",
       "    <tr>\n",
       "      <th>2987023</th>\n",
       "      <td>NaN</td>\n",
       "      <td>NaN</td>\n",
       "      <td>NaN</td>\n",
       "      <td>NaN</td>\n",
       "      <td>NaN</td>\n",
       "      <td>NaN</td>\n",
       "      <td>NaN</td>\n",
       "      <td>NaN</td>\n",
       "      <td>NaN</td>\n",
       "      <td>NaN</td>\n",
       "    </tr>\n",
       "    <tr>\n",
       "      <th>2987024</th>\n",
       "      <td>NaN</td>\n",
       "      <td>NaN</td>\n",
       "      <td>NaN</td>\n",
       "      <td>NaN</td>\n",
       "      <td>NaN</td>\n",
       "      <td>NaN</td>\n",
       "      <td>NaN</td>\n",
       "      <td>NaN</td>\n",
       "      <td>NaN</td>\n",
       "      <td>NaN</td>\n",
       "    </tr>\n",
       "    <tr>\n",
       "      <th>2987025</th>\n",
       "      <td>NaN</td>\n",
       "      <td>NaN</td>\n",
       "      <td>NaN</td>\n",
       "      <td>NaN</td>\n",
       "      <td>NaN</td>\n",
       "      <td>NaN</td>\n",
       "      <td>NaN</td>\n",
       "      <td>NaN</td>\n",
       "      <td>NaN</td>\n",
       "      <td>NaN</td>\n",
       "    </tr>\n",
       "    <tr>\n",
       "      <th>2987026</th>\n",
       "      <td>NaN</td>\n",
       "      <td>NaN</td>\n",
       "      <td>NaN</td>\n",
       "      <td>NaN</td>\n",
       "      <td>NaN</td>\n",
       "      <td>NaN</td>\n",
       "      <td>NaN</td>\n",
       "      <td>NaN</td>\n",
       "      <td>NaN</td>\n",
       "      <td>NaN</td>\n",
       "    </tr>\n",
       "    <tr>\n",
       "      <th>2987027</th>\n",
       "      <td>NaN</td>\n",
       "      <td>NaN</td>\n",
       "      <td>NaN</td>\n",
       "      <td>NaN</td>\n",
       "      <td>NaN</td>\n",
       "      <td>NaN</td>\n",
       "      <td>NaN</td>\n",
       "      <td>NaN</td>\n",
       "      <td>NaN</td>\n",
       "      <td>NaN</td>\n",
       "    </tr>\n",
       "    <tr>\n",
       "      <th>2987028</th>\n",
       "      <td>NaN</td>\n",
       "      <td>NaN</td>\n",
       "      <td>NaN</td>\n",
       "      <td>NaN</td>\n",
       "      <td>NaN</td>\n",
       "      <td>NaN</td>\n",
       "      <td>NaN</td>\n",
       "      <td>NaN</td>\n",
       "      <td>NaN</td>\n",
       "      <td>NaN</td>\n",
       "    </tr>\n",
       "    <tr>\n",
       "      <th>2987029</th>\n",
       "      <td>NaN</td>\n",
       "      <td>NaN</td>\n",
       "      <td>NaN</td>\n",
       "      <td>NaN</td>\n",
       "      <td>NaN</td>\n",
       "      <td>NaN</td>\n",
       "      <td>NaN</td>\n",
       "      <td>NaN</td>\n",
       "      <td>NaN</td>\n",
       "      <td>NaN</td>\n",
       "    </tr>\n",
       "    <tr>\n",
       "      <th>...</th>\n",
       "      <td>...</td>\n",
       "      <td>...</td>\n",
       "      <td>...</td>\n",
       "      <td>...</td>\n",
       "      <td>...</td>\n",
       "      <td>...</td>\n",
       "      <td>...</td>\n",
       "      <td>...</td>\n",
       "      <td>...</td>\n",
       "      <td>...</td>\n",
       "    </tr>\n",
       "    <tr>\n",
       "      <th>3577510</th>\n",
       "      <td>0.0000</td>\n",
       "      <td>0.000000000000000</td>\n",
       "      <td>0.000000000000000</td>\n",
       "      <td>0.000</td>\n",
       "      <td>0.000000000000000</td>\n",
       "      <td>0.000</td>\n",
       "      <td>0.000000000000000</td>\n",
       "      <td>NaN</td>\n",
       "      <td>NaN</td>\n",
       "      <td>NaN</td>\n",
       "    </tr>\n",
       "    <tr>\n",
       "      <th>3577511</th>\n",
       "      <td>NaN</td>\n",
       "      <td>NaN</td>\n",
       "      <td>NaN</td>\n",
       "      <td>NaN</td>\n",
       "      <td>NaN</td>\n",
       "      <td>NaN</td>\n",
       "      <td>NaN</td>\n",
       "      <td>NaN</td>\n",
       "      <td>0.0000</td>\n",
       "      <td>0.000000000000000</td>\n",
       "    </tr>\n",
       "    <tr>\n",
       "      <th>3577512</th>\n",
       "      <td>NaN</td>\n",
       "      <td>0.000000000000000</td>\n",
       "      <td>0.000000000000000</td>\n",
       "      <td>NaN</td>\n",
       "      <td>NaN</td>\n",
       "      <td>0.000</td>\n",
       "      <td>0.000000000000000</td>\n",
       "      <td>0.000000000000000</td>\n",
       "      <td>NaN</td>\n",
       "      <td>NaN</td>\n",
       "    </tr>\n",
       "    <tr>\n",
       "      <th>3577513</th>\n",
       "      <td>NaN</td>\n",
       "      <td>NaN</td>\n",
       "      <td>NaN</td>\n",
       "      <td>NaN</td>\n",
       "      <td>NaN</td>\n",
       "      <td>NaN</td>\n",
       "      <td>NaN</td>\n",
       "      <td>NaN</td>\n",
       "      <td>NaN</td>\n",
       "      <td>NaN</td>\n",
       "    </tr>\n",
       "    <tr>\n",
       "      <th>3577514</th>\n",
       "      <td>NaN</td>\n",
       "      <td>NaN</td>\n",
       "      <td>NaN</td>\n",
       "      <td>0.000</td>\n",
       "      <td>0.000000000000000</td>\n",
       "      <td>0.000</td>\n",
       "      <td>0.000000000000000</td>\n",
       "      <td>0.000000000000000</td>\n",
       "      <td>0.0000</td>\n",
       "      <td>0.000000000000000</td>\n",
       "    </tr>\n",
       "    <tr>\n",
       "      <th>3577515</th>\n",
       "      <td>NaN</td>\n",
       "      <td>NaN</td>\n",
       "      <td>NaN</td>\n",
       "      <td>NaN</td>\n",
       "      <td>NaN</td>\n",
       "      <td>NaN</td>\n",
       "      <td>NaN</td>\n",
       "      <td>0.000000000000000</td>\n",
       "      <td>NaN</td>\n",
       "      <td>0.000000000000000</td>\n",
       "    </tr>\n",
       "    <tr>\n",
       "      <th>3577516</th>\n",
       "      <td>0.0000</td>\n",
       "      <td>0.000000000000000</td>\n",
       "      <td>0.000000000000000</td>\n",
       "      <td>0.000</td>\n",
       "      <td>0.000000000000000</td>\n",
       "      <td>0.000</td>\n",
       "      <td>0.000000000000000</td>\n",
       "      <td>NaN</td>\n",
       "      <td>0.0000</td>\n",
       "      <td>0.000000000000000</td>\n",
       "    </tr>\n",
       "    <tr>\n",
       "      <th>3577517</th>\n",
       "      <td>NaN</td>\n",
       "      <td>0.000000000000000</td>\n",
       "      <td>0.000000000000000</td>\n",
       "      <td>NaN</td>\n",
       "      <td>NaN</td>\n",
       "      <td>0.000</td>\n",
       "      <td>0.000000000000000</td>\n",
       "      <td>0.000000000000000</td>\n",
       "      <td>NaN</td>\n",
       "      <td>NaN</td>\n",
       "    </tr>\n",
       "    <tr>\n",
       "      <th>3577518</th>\n",
       "      <td>NaN</td>\n",
       "      <td>NaN</td>\n",
       "      <td>NaN</td>\n",
       "      <td>NaN</td>\n",
       "      <td>NaN</td>\n",
       "      <td>NaN</td>\n",
       "      <td>NaN</td>\n",
       "      <td>NaN</td>\n",
       "      <td>NaN</td>\n",
       "      <td>NaN</td>\n",
       "    </tr>\n",
       "    <tr>\n",
       "      <th>3577519</th>\n",
       "      <td>NaN</td>\n",
       "      <td>0.000000000000000</td>\n",
       "      <td>0.000000000000000</td>\n",
       "      <td>NaN</td>\n",
       "      <td>NaN</td>\n",
       "      <td>0.000</td>\n",
       "      <td>0.000000000000000</td>\n",
       "      <td>0.000000000000000</td>\n",
       "      <td>NaN</td>\n",
       "      <td>NaN</td>\n",
       "    </tr>\n",
       "    <tr>\n",
       "      <th>3577520</th>\n",
       "      <td>NaN</td>\n",
       "      <td>NaN</td>\n",
       "      <td>NaN</td>\n",
       "      <td>NaN</td>\n",
       "      <td>NaN</td>\n",
       "      <td>0.000</td>\n",
       "      <td>0.000000000000000</td>\n",
       "      <td>0.000000000000000</td>\n",
       "      <td>0.0000</td>\n",
       "      <td>0.000000000000000</td>\n",
       "    </tr>\n",
       "    <tr>\n",
       "      <th>3577521</th>\n",
       "      <td>1.4120</td>\n",
       "      <td>3.884033249820889</td>\n",
       "      <td>3.884033249820910</td>\n",
       "      <td>1.412</td>\n",
       "      <td>3.884033249666018</td>\n",
       "      <td>1.444</td>\n",
       "      <td>3.949683531626289</td>\n",
       "      <td>587094.539382200455293</td>\n",
       "      <td>1.3330</td>\n",
       "      <td>3.794733192378768</td>\n",
       "    </tr>\n",
       "    <tr>\n",
       "      <th>3577522</th>\n",
       "      <td>NaN</td>\n",
       "      <td>NaN</td>\n",
       "      <td>NaN</td>\n",
       "      <td>NaN</td>\n",
       "      <td>NaN</td>\n",
       "      <td>NaN</td>\n",
       "      <td>NaN</td>\n",
       "      <td>NaN</td>\n",
       "      <td>NaN</td>\n",
       "      <td>NaN</td>\n",
       "    </tr>\n",
       "    <tr>\n",
       "      <th>3577523</th>\n",
       "      <td>NaN</td>\n",
       "      <td>NaN</td>\n",
       "      <td>NaN</td>\n",
       "      <td>NaN</td>\n",
       "      <td>NaN</td>\n",
       "      <td>NaN</td>\n",
       "      <td>0.000000000000000</td>\n",
       "      <td>0.000000000000000</td>\n",
       "      <td>NaN</td>\n",
       "      <td>0.000000000000000</td>\n",
       "    </tr>\n",
       "    <tr>\n",
       "      <th>3577524</th>\n",
       "      <td>NaN</td>\n",
       "      <td>0.000000000000000</td>\n",
       "      <td>0.000000000000000</td>\n",
       "      <td>0.000</td>\n",
       "      <td>0.000000000000000</td>\n",
       "      <td>0.000</td>\n",
       "      <td>0.000000000000000</td>\n",
       "      <td>NaN</td>\n",
       "      <td>NaN</td>\n",
       "      <td>0.000000000000000</td>\n",
       "    </tr>\n",
       "    <tr>\n",
       "      <th>3577525</th>\n",
       "      <td>NaN</td>\n",
       "      <td>NaN</td>\n",
       "      <td>NaN</td>\n",
       "      <td>0.000</td>\n",
       "      <td>0.000000000000000</td>\n",
       "      <td>0.000</td>\n",
       "      <td>0.000000000000000</td>\n",
       "      <td>0.000000000000000</td>\n",
       "      <td>0.0000</td>\n",
       "      <td>0.000000000000000</td>\n",
       "    </tr>\n",
       "    <tr>\n",
       "      <th>3577526</th>\n",
       "      <td>0.8335</td>\n",
       "      <td>0.461265604014799</td>\n",
       "      <td>0.461265604014969</td>\n",
       "      <td>1.700</td>\n",
       "      <td>0.728868986857620</td>\n",
       "      <td>1.583</td>\n",
       "      <td>0.679562767929165</td>\n",
       "      <td>0.461265604014442</td>\n",
       "      <td>1.4290</td>\n",
       "      <td>0.638153444717276</td>\n",
       "    </tr>\n",
       "    <tr>\n",
       "      <th>3577527</th>\n",
       "      <td>NaN</td>\n",
       "      <td>NaN</td>\n",
       "      <td>NaN</td>\n",
       "      <td>NaN</td>\n",
       "      <td>NaN</td>\n",
       "      <td>NaN</td>\n",
       "      <td>NaN</td>\n",
       "      <td>NaN</td>\n",
       "      <td>NaN</td>\n",
       "      <td>NaN</td>\n",
       "    </tr>\n",
       "    <tr>\n",
       "      <th>3577528</th>\n",
       "      <td>0.0000</td>\n",
       "      <td>0.000000000000000</td>\n",
       "      <td>0.000000000000000</td>\n",
       "      <td>0.000</td>\n",
       "      <td>0.000000000000000</td>\n",
       "      <td>0.000</td>\n",
       "      <td>0.000000000000000</td>\n",
       "      <td>NaN</td>\n",
       "      <td>NaN</td>\n",
       "      <td>0.000000000000000</td>\n",
       "    </tr>\n",
       "    <tr>\n",
       "      <th>3577529</th>\n",
       "      <td>1.0000</td>\n",
       "      <td>NaN</td>\n",
       "      <td>NaN</td>\n",
       "      <td>1.000</td>\n",
       "      <td>NaN</td>\n",
       "      <td>1.000</td>\n",
       "      <td>NaN</td>\n",
       "      <td>1.732050807568877</td>\n",
       "      <td>0.6665</td>\n",
       "      <td>1.732050807568877</td>\n",
       "    </tr>\n",
       "    <tr>\n",
       "      <th>3577530</th>\n",
       "      <td>0.0000</td>\n",
       "      <td>0.000000000000000</td>\n",
       "      <td>0.000000000000000</td>\n",
       "      <td>0.000</td>\n",
       "      <td>0.000000000000000</td>\n",
       "      <td>0.000</td>\n",
       "      <td>0.000000000000000</td>\n",
       "      <td>NaN</td>\n",
       "      <td>NaN</td>\n",
       "      <td>0.000000000000000</td>\n",
       "    </tr>\n",
       "    <tr>\n",
       "      <th>3577531</th>\n",
       "      <td>2.7620</td>\n",
       "      <td>3.011407753356589</td>\n",
       "      <td>3.087065239066306</td>\n",
       "      <td>3.496</td>\n",
       "      <td>2.742213565004816</td>\n",
       "      <td>0.578</td>\n",
       "      <td>0.063365425940935</td>\n",
       "      <td>3.354101965980407</td>\n",
       "      <td>1.6670</td>\n",
       "      <td>2.278663575845079</td>\n",
       "    </tr>\n",
       "    <tr>\n",
       "      <th>3577532</th>\n",
       "      <td>NaN</td>\n",
       "      <td>NaN</td>\n",
       "      <td>0.000000000000000</td>\n",
       "      <td>NaN</td>\n",
       "      <td>0.000000000000000</td>\n",
       "      <td>0.000</td>\n",
       "      <td>0.000000000000000</td>\n",
       "      <td>0.000000000000000</td>\n",
       "      <td>NaN</td>\n",
       "      <td>0.000000000000000</td>\n",
       "    </tr>\n",
       "    <tr>\n",
       "      <th>3577533</th>\n",
       "      <td>NaN</td>\n",
       "      <td>NaN</td>\n",
       "      <td>NaN</td>\n",
       "      <td>NaN</td>\n",
       "      <td>NaN</td>\n",
       "      <td>NaN</td>\n",
       "      <td>NaN</td>\n",
       "      <td>NaN</td>\n",
       "      <td>NaN</td>\n",
       "      <td>NaN</td>\n",
       "    </tr>\n",
       "    <tr>\n",
       "      <th>3577534</th>\n",
       "      <td>0.0000</td>\n",
       "      <td>0.000000000000000</td>\n",
       "      <td>0.000000000000000</td>\n",
       "      <td>0.000</td>\n",
       "      <td>0.000000000000000</td>\n",
       "      <td>0.000</td>\n",
       "      <td>0.000000000000000</td>\n",
       "      <td>0.000000000000000</td>\n",
       "      <td>0.0000</td>\n",
       "      <td>0.000000000000000</td>\n",
       "    </tr>\n",
       "    <tr>\n",
       "      <th>3577535</th>\n",
       "      <td>NaN</td>\n",
       "      <td>0.000000000000000</td>\n",
       "      <td>0.000000000000000</td>\n",
       "      <td>NaN</td>\n",
       "      <td>0.000000000000000</td>\n",
       "      <td>NaN</td>\n",
       "      <td>0.000000000000000</td>\n",
       "      <td>NaN</td>\n",
       "      <td>NaN</td>\n",
       "      <td>NaN</td>\n",
       "    </tr>\n",
       "    <tr>\n",
       "      <th>3577536</th>\n",
       "      <td>NaN</td>\n",
       "      <td>NaN</td>\n",
       "      <td>NaN</td>\n",
       "      <td>NaN</td>\n",
       "      <td>NaN</td>\n",
       "      <td>NaN</td>\n",
       "      <td>NaN</td>\n",
       "      <td>NaN</td>\n",
       "      <td>NaN</td>\n",
       "      <td>NaN</td>\n",
       "    </tr>\n",
       "    <tr>\n",
       "      <th>3577537</th>\n",
       "      <td>NaN</td>\n",
       "      <td>NaN</td>\n",
       "      <td>0.000000000000000</td>\n",
       "      <td>NaN</td>\n",
       "      <td>0.000000000000000</td>\n",
       "      <td>0.000</td>\n",
       "      <td>0.000000000000000</td>\n",
       "      <td>0.000000000000000</td>\n",
       "      <td>NaN</td>\n",
       "      <td>0.000000000000000</td>\n",
       "    </tr>\n",
       "    <tr>\n",
       "      <th>3577538</th>\n",
       "      <td>NaN</td>\n",
       "      <td>0.000000000000000</td>\n",
       "      <td>0.000000000000000</td>\n",
       "      <td>0.000</td>\n",
       "      <td>0.000000000000000</td>\n",
       "      <td>0.000</td>\n",
       "      <td>0.000000000000000</td>\n",
       "      <td>NaN</td>\n",
       "      <td>NaN</td>\n",
       "      <td>0.000000000000000</td>\n",
       "    </tr>\n",
       "    <tr>\n",
       "      <th>3577539</th>\n",
       "      <td>0.0000</td>\n",
       "      <td>0.000000000000000</td>\n",
       "      <td>0.000000000000000</td>\n",
       "      <td>0.000</td>\n",
       "      <td>0.000000000000000</td>\n",
       "      <td>0.000</td>\n",
       "      <td>0.000000000000000</td>\n",
       "      <td>NaN</td>\n",
       "      <td>NaN</td>\n",
       "      <td>0.000000000000000</td>\n",
       "    </tr>\n",
       "  </tbody>\n",
       "</table>\n",
       "<p>590540 rows × 10 columns</p>\n",
       "</div>"
      ],
      "text/plain": [
       "               C10_by_card_id_ws2d_to_mean  C10_by_card_id_ws2d_to_std  \\\n",
       "TransactionID                                                            \n",
       "2987000                                NaN                         NaN   \n",
       "2987001                                NaN                         NaN   \n",
       "2987002                                NaN                         NaN   \n",
       "2987003                                NaN                         NaN   \n",
       "2987004                                1.0                         NaN   \n",
       "...                                    ...                         ...   \n",
       "3577535                                NaN                         0.0   \n",
       "3577536                                NaN                         NaN   \n",
       "3577537                                NaN                         NaN   \n",
       "3577538                                NaN                         0.0   \n",
       "3577539                                0.0                         0.0   \n",
       "\n",
       "               C10_by_card_id_ws3d_to_std  C10_by_card_id_ws7d_to_mean  \\\n",
       "TransactionID                                                            \n",
       "2987000                               NaN                          NaN   \n",
       "2987001                               NaN                          NaN   \n",
       "2987002                               NaN                          NaN   \n",
       "2987003                               NaN                          NaN   \n",
       "2987004                               NaN                          1.0   \n",
       "...                                   ...                          ...   \n",
       "3577535                               0.0                          NaN   \n",
       "3577536                               NaN                          NaN   \n",
       "3577537                               0.0                          NaN   \n",
       "3577538                               0.0                          0.0   \n",
       "3577539                               0.0                          0.0   \n",
       "\n",
       "               C10_by_card_id_ws7d_to_std  C10_by_card_id_ws30d_to_mean  \\\n",
       "TransactionID                                                             \n",
       "2987000                               NaN                           NaN   \n",
       "2987001                               NaN                           NaN   \n",
       "2987002                               NaN                           NaN   \n",
       "2987003                               NaN                           NaN   \n",
       "2987004                               NaN                           1.0   \n",
       "...                                   ...                           ...   \n",
       "3577535                               0.0                           NaN   \n",
       "3577536                               NaN                           NaN   \n",
       "3577537                               0.0                           0.0   \n",
       "3577538                               0.0                           0.0   \n",
       "3577539                               0.0                           0.0   \n",
       "\n",
       "               C10_by_card_id_ws30d_to_std  C10_by_card_id_ws5_to_std  \\\n",
       "TransactionID                                                           \n",
       "2987000                                NaN                        NaN   \n",
       "2987001                                NaN                        NaN   \n",
       "2987002                                NaN                        NaN   \n",
       "2987003                                NaN                        NaN   \n",
       "2987004                                NaN                        NaN   \n",
       "...                                    ...                        ...   \n",
       "3577535                                0.0                        NaN   \n",
       "3577536                                NaN                        NaN   \n",
       "3577537                                0.0                        0.0   \n",
       "3577538                                0.0                        NaN   \n",
       "3577539                                0.0                        NaN   \n",
       "\n",
       "               C10_by_card_id_ws10_to_mean  C10_by_card_id_ws10_to_std  \n",
       "TransactionID                                                           \n",
       "2987000                                NaN                         NaN  \n",
       "2987001                                NaN                         NaN  \n",
       "2987002                                NaN                         NaN  \n",
       "2987003                                NaN                         NaN  \n",
       "2987004                                1.0                         NaN  \n",
       "...                                    ...                         ...  \n",
       "3577535                                NaN                         NaN  \n",
       "3577536                                NaN                         NaN  \n",
       "3577537                                NaN                         0.0  \n",
       "3577538                                NaN                         0.0  \n",
       "3577539                                NaN                         0.0  \n",
       "\n",
       "[590540 rows x 10 columns]"
      ]
     },
     "execution_count": 63,
     "metadata": {},
     "output_type": "execute_result"
    }
   ],
   "source": [
    "X.iloc[:, 450:460]"
   ]
  },
  {
   "cell_type": "code",
   "execution_count": 64,
   "metadata": {
    "ExecuteTime": {
     "end_time": "2019-09-12T05:50:39.729290Z",
     "start_time": "2019-09-12T05:50:39.723279Z"
    }
   },
   "outputs": [
    {
     "ename": "SyntaxError",
     "evalue": "invalid syntax (<ipython-input-64-6b691fd940bd>, line 1)",
     "output_type": "error",
     "traceback": [
      "\u001b[1;36m  File \u001b[1;32m\"<ipython-input-64-6b691fd940bd>\"\u001b[1;36m, line \u001b[1;32m1\u001b[0m\n\u001b[1;33m    corrs[corrs>0.9].loc[]\u001b[0m\n\u001b[1;37m                         ^\u001b[0m\n\u001b[1;31mSyntaxError\u001b[0m\u001b[1;31m:\u001b[0m invalid syntax\n"
     ]
    }
   ],
   "source": [
    "corrs[corrs>0.9].loc[]"
   ]
  },
  {
   "cell_type": "code",
   "execution_count": null,
   "metadata": {},
   "outputs": [],
   "source": []
  },
  {
   "cell_type": "code",
   "execution_count": null,
   "metadata": {},
   "outputs": [],
   "source": []
  },
  {
   "cell_type": "code",
   "execution_count": null,
   "metadata": {},
   "outputs": [],
   "source": []
  },
  {
   "cell_type": "code",
   "execution_count": null,
   "metadata": {},
   "outputs": [],
   "source": []
  },
  {
   "cell_type": "code",
   "execution_count": null,
   "metadata": {},
   "outputs": [],
   "source": []
  },
  {
   "cell_type": "code",
   "execution_count": 4,
   "metadata": {
    "ExecuteTime": {
     "end_time": "2019-09-11T15:54:38.345046Z",
     "start_time": "2019-09-11T15:54:28.725045Z"
    }
   },
   "outputs": [
    {
     "data": {
      "text/plain": [
       "49"
      ]
     },
     "execution_count": 4,
     "metadata": {},
     "output_type": "execute_result"
    }
   ],
   "source": [
    "X = train.sort_index().drop(['isFraud'], axis=1)\n",
    "y = train.sort_index()['isFraud'].astype(np.uint8)\n",
    "test = test.sort_index()\n",
    "\n",
    "X.drop('Date', axis=1, inplace=True)\n",
    "X=X.astype(np.float32)\n",
    "test.drop('Date', axis=1, inplace=True)\n",
    "test=test.astype(np.float32)\n",
    "\n",
    "del train\n",
    "gc.collect()"
   ]
  },
  {
   "cell_type": "code",
   "execution_count": 5,
   "metadata": {
    "ExecuteTime": {
     "end_time": "2019-09-11T15:55:15.699421Z",
     "start_time": "2019-09-11T15:54:38.858045Z"
    }
   },
   "outputs": [
    {
     "data": {
      "text/plain": [
       "49"
      ]
     },
     "execution_count": 5,
     "metadata": {},
     "output_type": "execute_result"
    }
   ],
   "source": [
    "X_time = pd.read_csv('X_score_agg.csv').set_index('TransactionID')\n",
    "\n",
    "feats = pd.read_csv('list_time_aggs_v1.csv')\n",
    "features = feats.iloc[:, 1].tolist()[1:]\n",
    "X_time = X_time[features]\n",
    "\n",
    "X = X_time.join(X)\n",
    "\n",
    "del X_time\n",
    "gc.collect()"
   ]
  },
  {
   "cell_type": "code",
   "execution_count": 15,
   "metadata": {
    "ExecuteTime": {
     "end_time": "2019-09-11T17:24:16.050027Z",
     "start_time": "2019-09-11T17:24:16.045017Z"
    },
    "scrolled": true
   },
   "outputs": [
    {
     "data": {
      "text/plain": [
       "(590540, 628)"
      ]
     },
     "execution_count": 15,
     "metadata": {},
     "output_type": "execute_result"
    }
   ],
   "source": [
    "X.shape"
   ]
  },
  {
   "cell_type": "code",
   "execution_count": 16,
   "metadata": {
    "ExecuteTime": {
     "end_time": "2019-09-11T17:24:27.504673Z",
     "start_time": "2019-09-11T17:24:27.500671Z"
    }
   },
   "outputs": [
    {
     "data": {
      "text/plain": [
       "(506691, 628)"
      ]
     },
     "execution_count": 16,
     "metadata": {},
     "output_type": "execute_result"
    }
   ],
   "source": [
    "test.shape"
   ]
  },
  {
   "cell_type": "code",
   "execution_count": null,
   "metadata": {},
   "outputs": [],
   "source": []
  },
  {
   "cell_type": "code",
   "execution_count": null,
   "metadata": {},
   "outputs": [],
   "source": []
  },
  {
   "cell_type": "code",
   "execution_count": null,
   "metadata": {},
   "outputs": [],
   "source": []
  },
  {
   "cell_type": "code",
   "execution_count": null,
   "metadata": {},
   "outputs": [],
   "source": []
  },
  {
   "cell_type": "code",
   "execution_count": null,
   "metadata": {},
   "outputs": [],
   "source": []
  },
  {
   "cell_type": "code",
   "execution_count": null,
   "metadata": {},
   "outputs": [],
   "source": []
  },
  {
   "cell_type": "code",
   "execution_count": null,
   "metadata": {},
   "outputs": [],
   "source": []
  },
  {
   "cell_type": "code",
   "execution_count": null,
   "metadata": {},
   "outputs": [],
   "source": []
  },
  {
   "cell_type": "code",
   "execution_count": 6,
   "metadata": {
    "ExecuteTime": {
     "end_time": "2019-09-11T15:55:45.772996Z",
     "start_time": "2019-09-11T15:55:16.518426Z"
    }
   },
   "outputs": [],
   "source": [
    "test_time = pd.read_csv('test_aggs.csv').set_index('TransactionID')[features]"
   ]
  },
  {
   "cell_type": "code",
   "execution_count": 7,
   "metadata": {
    "ExecuteTime": {
     "end_time": "2019-09-11T15:55:47.667996Z",
     "start_time": "2019-09-11T15:55:46.874982Z"
    },
    "scrolled": true
   },
   "outputs": [],
   "source": [
    "test_time.drop(3577539, inplace=True)"
   ]
  },
  {
   "cell_type": "code",
   "execution_count": 27,
   "metadata": {
    "ExecuteTime": {
     "end_time": "2019-09-11T15:19:53.137562Z",
     "start_time": "2019-09-11T15:19:53.132561Z"
    }
   },
   "outputs": [
    {
     "data": {
      "text/plain": [
       "(506691, 300)"
      ]
     },
     "execution_count": 27,
     "metadata": {},
     "output_type": "execute_result"
    }
   ],
   "source": [
    "test_time.shape"
   ]
  },
  {
   "cell_type": "code",
   "execution_count": 8,
   "metadata": {
    "ExecuteTime": {
     "end_time": "2019-09-11T15:55:50.659983Z",
     "start_time": "2019-09-11T15:55:48.717986Z"
    },
    "scrolled": true
   },
   "outputs": [],
   "source": [
    "test = test.join(test_time).drop('isFraud', axis=1)"
   ]
  },
  {
   "cell_type": "code",
   "execution_count": null,
   "metadata": {},
   "outputs": [],
   "source": []
  },
  {
   "cell_type": "code",
   "execution_count": null,
   "metadata": {},
   "outputs": [],
   "source": []
  },
  {
   "cell_type": "code",
   "execution_count": null,
   "metadata": {},
   "outputs": [],
   "source": []
  },
  {
   "cell_type": "code",
   "execution_count": null,
   "metadata": {},
   "outputs": [],
   "source": []
  },
  {
   "cell_type": "code",
   "execution_count": null,
   "metadata": {},
   "outputs": [],
   "source": []
  },
  {
   "cell_type": "code",
   "execution_count": 77,
   "metadata": {
    "ExecuteTime": {
     "end_time": "2019-09-11T14:26:49.813934Z",
     "start_time": "2019-09-11T13:36:38.121196Z"
    }
   },
   "outputs": [
    {
     "name": "stdout",
     "output_type": "stream",
     "text": [
      "Fold 1 started at Wed Sep 11 16:36:38 2019\n",
      "Training until validation scores don't improve for 200 rounds.\n",
      "Early stopping, best iteration is:\n",
      "[28]\ttraining's auc: 0.958248\ttraining's auc: 0.958262\tvalid_1's auc: 0.902131\tvalid_1's auc: 0.902115\n",
      "Fold 2 started at Wed Sep 11 16:39:45 2019\n",
      "Training until validation scores don't improve for 200 rounds.\n",
      "Early stopping, best iteration is:\n",
      "[28]\ttraining's auc: 0.957192\ttraining's auc: 0.957201\tvalid_1's auc: 0.926459\tvalid_1's auc: 0.926476\n",
      "Fold 3 started at Wed Sep 11 16:42:56 2019\n",
      "Training until validation scores don't improve for 200 rounds.\n",
      "Early stopping, best iteration is:\n",
      "[28]\ttraining's auc: 0.956093\ttraining's auc: 0.956096\tvalid_1's auc: 0.93007\tvalid_1's auc: 0.930097\n",
      "Fold 4 started at Wed Sep 11 16:46:09 2019\n",
      "Training until validation scores don't improve for 200 rounds.\n",
      "[500]\ttraining's auc: 0.989872\ttraining's auc: 0.989872\tvalid_1's auc: 0.944281\tvalid_1's auc: 0.944281\n",
      "[1000]\ttraining's auc: 0.998476\ttraining's auc: 0.998476\tvalid_1's auc: 0.945702\tvalid_1's auc: 0.945702\n",
      "Early stopping, best iteration is:\n",
      "[993]\ttraining's auc: 0.998446\ttraining's auc: 0.998446\tvalid_1's auc: 0.945728\tvalid_1's auc: 0.945728\n",
      "Fold 5 started at Wed Sep 11 17:06:37 2019\n",
      "Training until validation scores don't improve for 200 rounds.\n",
      "[500]\ttraining's auc: 0.989777\ttraining's auc: 0.989778\tvalid_1's auc: 0.922708\tvalid_1's auc: 0.922708\n",
      "[1000]\ttraining's auc: 0.998519\ttraining's auc: 0.998519\tvalid_1's auc: 0.924306\tvalid_1's auc: 0.924306\n",
      "Early stopping, best iteration is:\n",
      "[959]\ttraining's auc: 0.998345\ttraining's auc: 0.998345\tvalid_1's auc: 0.924325\tvalid_1's auc: 0.924325\n",
      "CV mean score: 0.9257, std: 0.0140.\n"
     ]
    },
    {
     "data": {
      "image/png": "[encoded data removed]",
      "text/plain": [
       "<Figure size 1152x864 with 1 Axes>"
      ]
     },
     "metadata": {
      "needs_background": "light"
     },
     "output_type": "display_data"
    }
   ],
   "source": [
    "result_dict_lgb = train_model_classification(X=X, X_test=test, y=y, params=params, folds=folds,\n",
    "                                             model_type=train_options['model_type'], \n",
    "                                             eval_metric=train_options['eval_metric'],\n",
    "                                             plot_feature_importance=True,\n",
    "                                             verbose=500, early_stopping_rounds=train_options['early_stopping_rounds'],\n",
    "                                             n_estimators=train_options['n_estimators'], \n",
    "                                             averaging=train_options['averaging'],\n",
    "                                             n_jobs=-1, groups=None)"
   ]
  },
  {
   "cell_type": "code",
   "execution_count": 85,
   "metadata": {
    "ExecuteTime": {
     "end_time": "2019-09-11T14:28:48.239537Z",
     "start_time": "2019-09-11T14:28:46.124883Z"
    }
   },
   "outputs": [],
   "source": [
    "pd.DataFrame(result_dict_lgb['prediction'], index=testscore.index, columns=['isFraud']).to_csv('ieee-with-time-aggs-v1.csv')"
   ]
  },
  {
   "cell_type": "code",
   "execution_count": null,
   "metadata": {},
   "outputs": [],
   "source": []
  },
  {
   "cell_type": "code",
   "execution_count": null,
   "metadata": {},
   "outputs": [],
   "source": []
  },
  {
   "cell_type": "code",
   "execution_count": null,
   "metadata": {},
   "outputs": [],
   "source": []
  },
  {
   "cell_type": "code",
   "execution_count": null,
   "metadata": {},
   "outputs": [],
   "source": []
  },
  {
   "cell_type": "code",
   "execution_count": null,
   "metadata": {},
   "outputs": [],
   "source": []
  },
  {
   "cell_type": "code",
   "execution_count": null,
   "metadata": {},
   "outputs": [],
   "source": []
  },
  {
   "cell_type": "code",
   "execution_count": null,
   "metadata": {},
   "outputs": [],
   "source": []
  },
  {
   "cell_type": "code",
   "execution_count": null,
   "metadata": {},
   "outputs": [],
   "source": []
  },
  {
   "cell_type": "code",
   "execution_count": null,
   "metadata": {},
   "outputs": [],
   "source": []
  }
 ],
 "metadata": {
  "kernelspec": {
   "display_name": "Python 3",
   "language": "python",
   "name": "python3"
  },
  "language_info": {
   "codemirror_mode": {
    "name": "ipython",
    "version": 3
   },
   "file_extension": ".py",
   "mimetype": "text/x-python",
   "name": "python",
   "nbconvert_exporter": "python",
   "pygments_lexer": "ipython3",
   "version": "3.6.5"
  },
  "toc": {
   "base_numbering": 1,
   "nav_menu": {},
   "number_sections": true,
   "sideBar": true,
   "skip_h1_title": false,
   "title_cell": "Table of Contents",
   "title_sidebar": "Contents",
   "toc_cell": false,
   "toc_position": {},
   "toc_section_display": true,
   "toc_window_display": false
  },
  "varInspector": {
   "cols": {
    "lenName": 16,
    "lenType": 16,
    "lenVar": 40
   },
   "kernels_config": {
    "python": {
     "delete_cmd_postfix": "",
     "delete_cmd_prefix": "del ",
     "library": "var_list.py",
     "varRefreshCmd": "print(var_dic_list())"
    },
    "r": {
     "delete_cmd_postfix": ") ",
     "delete_cmd_prefix": "rm(",
     "library": "var_list.r",
     "varRefreshCmd": "cat(var_dic_list()) "
    }
   },
   "position": {
    "height": "551px",
    "left": "1267px",
    "right": "20px",
    "top": "116px",
    "width": "356px"
   },
   "types_to_exclude": [
    "module",
    "function",
    "builtin_function_or_method",
    "instance",
    "_Feature"
   ],
   "window_display": false
  }
 },
 "nbformat": 4,
 "nbformat_minor": 2
}
