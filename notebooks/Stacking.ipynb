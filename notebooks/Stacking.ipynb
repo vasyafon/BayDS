{
 "cells": [
  {
   "cell_type": "code",
   "execution_count": 47,
   "metadata": {
    "ExecuteTime": {
     "end_time": "2019-09-01T17:40:40.146399Z",
     "start_time": "2019-09-01T17:40:39.980393Z"
    }
   },
   "outputs": [
    {
     "name": "stdout",
     "output_type": "stream",
     "text": [
      "The autoreload extension is already loaded. To reload it, use:\n",
      "  %reload_ext autoreload\n"
     ]
    }
   ],
   "source": [
    "%load_ext autoreload\n",
    "%autoreload 2\n",
    "import numpy as np\n",
    "import pandas as pd\n",
    "import os\n",
    "import matplotlib.pyplot as plt\n",
    "%matplotlib inline\n",
    "from tqdm import tqdm_notebook\n",
    "from sklearn.preprocessing import StandardScaler\n",
    "import lightgbm as lgb\n",
    "from sklearn.preprocessing import LabelEncoder\n",
    "from sklearn.model_selection import StratifiedKFold, KFold, RepeatedKFold, GroupKFold, GridSearchCV, train_test_split, TimeSeriesSplit\n",
    "from sklearn import metrics\n",
    "from sklearn import linear_model\n",
    "import gc\n",
    "import warnings\n",
    "warnings.filterwarnings(\"ignore\")\n",
    "import pickle\n",
    "import sys\n",
    "main_path = r'../..'\n",
    "sys.path.append(main_path)\n",
    "from BayDS import *"
   ]
  },
  {
   "cell_type": "code",
   "execution_count": 26,
   "metadata": {
    "ExecuteTime": {
     "end_time": "2019-09-01T17:26:26.419704Z",
     "start_time": "2019-09-01T17:26:26.304709Z"
    }
   },
   "outputs": [],
   "source": [
    "folders = [r'F:\\my\\Prog\\kaggle\\Baydin\\Snapshots\\31.08' + '\\\\' + item + '\\\\' + 'results_dict.pkl' for item in os.listdir(r'F:\\my\\Prog\\kaggle\\Baydin\\Snapshots\\31.08') if item[:5] == 'light']\n",
    "folders.remove('F:\\\\my\\\\Prog\\\\kaggle\\\\Baydin\\\\Snapshots\\\\31.08\\\\lightgbm-0004\\\\results_dict.pkl')\n",
    "\n",
    "oofs = pd.DataFrame()\n",
    "predictions = pd.DataFrame()\n",
    "for q, item in enumerate(folders):\n",
    "    pkl = pd.read_pickle(item)\n",
    "    oofs['lgb'+str(q)] = pkl['oof'][:, 0]\n",
    "    predictions['lgb'+str(q)] = pkl['prediction'][:, 0]\n",
    "\n",
    "y = pd.read_pickle(f'../../Data/train_09457_with_additions.pkl')['isFraud']"
   ]
  },
  {
   "cell_type": "code",
   "execution_count": 98,
   "metadata": {
    "ExecuteTime": {
     "end_time": "2019-09-01T18:35:25.768820Z",
     "start_time": "2019-09-01T18:00:53.099885Z"
    },
    "code_folding": []
   },
   "outputs": [
    {
     "name": "stdout",
     "output_type": "stream",
     "text": [
      "Fold 1 started at Sun Sep  1 21:00:53 2019\n",
      "Training until validation scores don't improve for 500 rounds.\n",
      "[500]\ttraining's binary_logloss: 0.120603\ttraining's auc: 0.894355\tvalid_1's binary_logloss: 0.0922288\tvalid_1's auc: 0.87943\n",
      "[1000]\ttraining's binary_logloss: 0.109594\ttraining's auc: 0.907459\tvalid_1's binary_logloss: 0.0861327\tvalid_1's auc: 0.891506\n",
      "[1500]\ttraining's binary_logloss: 0.104647\ttraining's auc: 0.913709\tvalid_1's binary_logloss: 0.0836851\tvalid_1's auc: 0.895191\n",
      "[2000]\ttraining's binary_logloss: 0.102114\ttraining's auc: 0.917986\tvalid_1's binary_logloss: 0.082607\tvalid_1's auc: 0.897289\n",
      "Early stopping, best iteration is:\n",
      "[1970]\ttraining's binary_logloss: 0.102227\ttraining's auc: 0.91799\tvalid_1's binary_logloss: 0.0826481\tvalid_1's auc: 0.897303\n",
      "Fold 2 started at Sun Sep  1 21:06:53 2019\n",
      "Training until validation scores don't improve for 500 rounds.\n",
      "[500]\ttraining's binary_logloss: 0.112318\ttraining's auc: 0.889851\tvalid_1's binary_logloss: 0.127043\tvalid_1's auc: 0.883608\n",
      "[1000]\ttraining's binary_logloss: 0.102719\ttraining's auc: 0.903592\tvalid_1's binary_logloss: 0.115427\tvalid_1's auc: 0.899669\n",
      "[1500]\ttraining's binary_logloss: 0.0984018\ttraining's auc: 0.910925\tvalid_1's binary_logloss: 0.110032\tvalid_1's auc: 0.91012\n",
      "[2000]\ttraining's binary_logloss: 0.0961971\ttraining's auc: 0.913199\tvalid_1's binary_logloss: 0.107206\tvalid_1's auc: 0.91555\n",
      "Early stopping, best iteration is:\n",
      "[1973]\ttraining's binary_logloss: 0.0962846\ttraining's auc: 0.913145\tvalid_1's binary_logloss: 0.107322\tvalid_1's auc: 0.915665\n",
      "Fold 3 started at Sun Sep  1 21:12:30 2019\n",
      "Training until validation scores don't improve for 500 rounds.\n",
      "[500]\ttraining's binary_logloss: 0.113563\ttraining's auc: 0.892963\tvalid_1's binary_logloss: 0.121367\tvalid_1's auc: 0.88397\n",
      "[1000]\ttraining's binary_logloss: 0.103767\ttraining's auc: 0.905353\tvalid_1's binary_logloss: 0.111048\tvalid_1's auc: 0.900479\n",
      "Early stopping, best iteration is:\n",
      "[869]\ttraining's binary_logloss: 0.105569\ttraining's auc: 0.905353\tvalid_1's binary_logloss: 0.112932\tvalid_1's auc: 0.900479\n",
      "Fold 4 started at Sun Sep  1 21:15:34 2019\n",
      "Training until validation scores don't improve for 500 rounds.\n",
      "[500]\ttraining's binary_logloss: 0.113861\ttraining's auc: 0.884971\tvalid_1's binary_logloss: 0.122114\tvalid_1's auc: 0.914484\n",
      "[1000]\ttraining's binary_logloss: 0.104438\ttraining's auc: 0.898635\tvalid_1's binary_logloss: 0.109859\tvalid_1's auc: 0.925655\n",
      "[1500]\ttraining's binary_logloss: 0.10022\ttraining's auc: 0.907065\tvalid_1's binary_logloss: 0.104159\tvalid_1's auc: 0.927519\n",
      "[2000]\ttraining's binary_logloss: 0.0980379\ttraining's auc: 0.908577\tvalid_1's binary_logloss: 0.10108\tvalid_1's auc: 0.929824\n",
      "[2500]\ttraining's binary_logloss: 0.0968354\ttraining's auc: 0.909556\tvalid_1's binary_logloss: 0.0992622\tvalid_1's auc: 0.930056\n",
      "[3000]\ttraining's binary_logloss: 0.0961544\ttraining's auc: 0.909824\tvalid_1's binary_logloss: 0.0981633\tvalid_1's auc: 0.932152\n",
      "Early stopping, best iteration is:\n",
      "[2944]\ttraining's binary_logloss: 0.0962132\ttraining's auc: 0.911131\tvalid_1's binary_logloss: 0.0982572\tvalid_1's auc: 0.932244\n",
      "Fold 5 started at Sun Sep  1 21:23:59 2019\n",
      "Training until validation scores don't improve for 500 rounds.\n",
      "[500]\ttraining's binary_logloss: 0.115144\ttraining's auc: 0.892618\tvalid_1's binary_logloss: 0.114694\tvalid_1's auc: 0.881268\n",
      "[1000]\ttraining's binary_logloss: 0.105042\ttraining's auc: 0.90288\tvalid_1's binary_logloss: 0.105213\tvalid_1's auc: 0.8941\n",
      "[1500]\ttraining's binary_logloss: 0.100523\ttraining's auc: 0.909616\tvalid_1's binary_logloss: 0.101051\tvalid_1's auc: 0.901563\n",
      "[2000]\ttraining's binary_logloss: 0.0982061\ttraining's auc: 0.914264\tvalid_1's binary_logloss: 0.0989347\tvalid_1's auc: 0.908661\n",
      "[2500]\ttraining's binary_logloss: 0.0969261\ttraining's auc: 0.914139\tvalid_1's binary_logloss: 0.0977854\tvalid_1's auc: 0.908401\n",
      "[3000]\ttraining's binary_logloss: 0.096212\ttraining's auc: 0.916657\tvalid_1's binary_logloss: 0.0971824\tvalid_1's auc: 0.911917\n",
      "[3500]\ttraining's binary_logloss: 0.0957862\ttraining's auc: 0.917609\tvalid_1's binary_logloss: 0.0968344\tvalid_1's auc: 0.912392\n",
      "[4000]\ttraining's binary_logloss: 0.095524\ttraining's auc: 0.918086\tvalid_1's binary_logloss: 0.0966113\tvalid_1's auc: 0.912722\n",
      "[4500]\ttraining's binary_logloss: 0.0953625\ttraining's auc: 0.917199\tvalid_1's binary_logloss: 0.096494\tvalid_1's auc: 0.913237\n",
      "Early stopping, best iteration is:\n",
      "[4000]\ttraining's binary_logloss: 0.095524\ttraining's auc: 0.918086\tvalid_1's binary_logloss: 0.0966113\tvalid_1's auc: 0.912722\n",
      "CV mean score: 0.9121, std: 0.0123.\n"
     ]
    },
    {
     "data": {
      "image/png": "[encoded data removed]",
      "text/plain": [
       "<Figure size 1152x864 with 1 Axes>"
      ]
     },
     "metadata": {
      "needs_background": "light"
     },
     "output_type": "display_data"
    }
   ],
   "source": [
    "n_fold = 5\n",
    "folds = KFold(n_splits=n_fold)\n",
    "\n",
    "params = {\n",
    "    'learning_rate': 0.001,\n",
    "    'num_leaves': 20,\n",
    "    'max_depth': 1,\n",
    "    'min_child_weight': 10,\n",
    "    'lambda_l1':2,\n",
    "    'lambda_l2':3,\n",
    "    'min_data_in_leaf' :10,\n",
    "    'min_sum_hessian_in_leaf' : 0.0001,\n",
    "    'bagging_fraction' : 0.8,\n",
    "    'max_bin': 12,\n",
    "    'feature_fraction' : 0.9,\n",
    "    'bagging_freq' : 100,\n",
    "    'min_gain_to_split': 0.1 }\n",
    "\n",
    "train_options = {\n",
    "    \"model_type\":'lgb',\n",
    "    \"params\": params,\n",
    "    \"eval_metric\":'auc',\n",
    "    'early_stopping_rounds': 500,\n",
    "    'n_estimators': 5000,\n",
    "    'averaging': 'usual',\n",
    "    'use_groups': False,\n",
    "    'fold_name': folds.__class__.__name__,\n",
    "    'n_splits': n_fold\n",
    "}\n",
    "\n",
    "\n",
    "result_dict_lgb = train_model_classification(X=oofs, X_test=predictions, y=y, params=params, folds=folds,\n",
    "                                         model_type=train_options['model_type'], \n",
    "                                         eval_metric=train_options['eval_metric'],\n",
    "                                         plot_feature_importance=True,\n",
    "                                         verbose=500, early_stopping_rounds=train_options['early_stopping_rounds'],\n",
    "                                         n_estimators=train_options['n_estimators'], \n",
    "                                         averaging=train_options['averaging'],\n",
    "                                         n_jobs=-1, groups=None)"
   ]
  },
  {
   "cell_type": "code",
   "execution_count": 99,
   "metadata": {
    "ExecuteTime": {
     "end_time": "2019-09-01T20:01:08.736884Z",
     "start_time": "2019-09-01T20:01:07.783882Z"
    }
   },
   "outputs": [
    {
     "data": {
      "text/plain": [
       "{'oof': array([[0.02078581],\n",
       "        [0.0149805 ],\n",
       "        [0.01078289],\n",
       "        ...,\n",
       "        [0.003937  ],\n",
       "        [0.05838243],\n",
       "        [0.00581695]]), 'prediction': array([[0.00983931],\n",
       "        [0.00993099],\n",
       "        [0.01044202],\n",
       "        ...,\n",
       "        [0.01445845],\n",
       "        [0.01445845],\n",
       "        [0.01095311]]), 'scores': [0.8979828678333852,\n",
       "  0.9167376607738427,\n",
       "  0.9008961443389444,\n",
       "  0.9322624140242557,\n",
       "  0.9128475062601893], 'feature_importance':   feature           importance  fold\n",
       " 0    lgb0   69.400000000000006     1\n",
       " 1    lgb1  253.599999999999994     1\n",
       " 2    lgb2   61.600000000000001     1\n",
       " 3    lgb3    9.400000000000000     1\n",
       " 0    lgb0   56.600000000000001     2\n",
       " 1    lgb1  267.600000000000023     2\n",
       " 2    lgb2   58.399999999999999     2\n",
       " 3    lgb3   12.000000000000000     2\n",
       " 0    lgb0   36.799999999999997     3\n",
       " 1    lgb1  111.799999999999997     3\n",
       " 2    lgb2   24.199999999999999     3\n",
       " 3    lgb3    1.000000000000000     3\n",
       " 0    lgb0  100.400000000000006     4\n",
       " 1    lgb1  376.800000000000011     4\n",
       " 2    lgb2   85.200000000000003     4\n",
       " 3    lgb3   26.399999999999999     4\n",
       " 0    lgb0  111.200000000000003     5\n",
       " 1    lgb1  527.200000000000045     5\n",
       " 2    lgb2  119.400000000000006     5\n",
       " 3    lgb3   42.200000000000003     5, 'top_columns': Index(['lgb1', 'lgb0', 'lgb2', 'lgb3'], dtype='object', name='feature')}"
      ]
     },
     "execution_count": 99,
     "metadata": {},
     "output_type": "execute_result"
    }
   ],
   "source": [
    "result_dict_lgb"
   ]
  },
  {
   "cell_type": "code",
   "execution_count": null,
   "metadata": {},
   "outputs": [],
   "source": [
    "test = test.sort_values('Date')\n",
    "test['prediction'] = result_dict_lgb['prediction']"
   ]
  },
  {
   "cell_type": "code",
   "execution_count": 102,
   "metadata": {
    "ExecuteTime": {
     "end_time": "2019-09-01T20:04:54.008884Z",
     "start_time": "2019-09-01T20:04:51.151885Z"
    }
   },
   "outputs": [],
   "source": [
    "folder_path = '../../data/'\n",
    "sub = pd.read_csv(f'{folder_path}sample_submission.csv')\n",
    "sub['isFraud'] = result_dict_lgb['prediction']\n",
    "sub.to_csv(f'submission_stack.csv', index=False)"
   ]
  },
  {
   "cell_type": "code",
   "execution_count": null,
   "metadata": {},
   "outputs": [],
   "source": []
  },
  {
   "cell_type": "code",
   "execution_count": null,
   "metadata": {},
   "outputs": [],
   "source": []
  }
 ],
 "metadata": {
  "kernelspec": {
   "display_name": "Python 3",
   "language": "python",
   "name": "python3"
  },
  "language_info": {
   "codemirror_mode": {
    "name": "ipython",
    "version": 3
   },
   "file_extension": ".py",
   "mimetype": "text/x-python",
   "name": "python",
   "nbconvert_exporter": "python",
   "pygments_lexer": "ipython3",
   "version": "3.6.5"
  },
  "toc": {
   "base_numbering": 1,
   "nav_menu": {},
   "number_sections": true,
   "sideBar": true,
   "skip_h1_title": false,
   "title_cell": "Table of Contents",
   "title_sidebar": "Contents",
   "toc_cell": false,
   "toc_position": {},
   "toc_section_display": true,
   "toc_window_display": false
  },
  "varInspector": {
   "cols": {
    "lenName": 16,
    "lenType": 16,
    "lenVar": 40
   },
   "kernels_config": {
    "python": {
     "delete_cmd_postfix": "",
     "delete_cmd_prefix": "del ",
     "library": "var_list.py",
     "varRefreshCmd": "print(var_dic_list())"
    },
    "r": {
     "delete_cmd_postfix": ") ",
     "delete_cmd_prefix": "rm(",
     "library": "var_list.r",
     "varRefreshCmd": "cat(var_dic_list()) "
    }
   },
   "types_to_exclude": [
    "module",
    "function",
    "builtin_function_or_method",
    "instance",
    "_Feature"
   ],
   "window_display": false
  }
 },
 "nbformat": 4,
 "nbformat_minor": 2
}
