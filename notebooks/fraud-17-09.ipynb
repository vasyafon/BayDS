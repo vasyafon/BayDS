{
 "cells": [
  {
   "cell_type": "code",
   "execution_count": 1,
   "metadata": {
    "ExecuteTime": {
     "end_time": "2019-09-18T19:36:06.591184Z",
     "start_time": "2019-09-18T19:36:01.427329Z"
    }
   },
   "outputs": [],
   "source": [
    "from time import time\n",
    "import lightgbm as lgb\n",
    "import numpy as np\n",
    "import sys\n",
    "# sys.path.append('..\\Python Scripts\\pipeline')\n",
    "import warnings\n",
    "warnings.filterwarnings('ignore') \n",
    "import seaborn as sns\n",
    "from sklearn import preprocessing\n",
    "from matplotlib import pyplot as plt\n",
    "from sklearn.preprocessing import StandardScaler\n",
    "import pickle\n",
    "from sklearn.model_selection import KFold, TimeSeriesSplit\n",
    "from scipy.stats import uniform\n",
    "import datetime\n",
    "from sklearn.ensemble import RandomForestClassifier\n",
    "import lightgbm\n",
    "from scipy import stats\n",
    "# from hyperopt import hp, tpe\n",
    "# from hyperopt.fmin import fmin\n",
    "from sklearn.model_selection import cross_val_score, StratifiedKFold\n",
    "import pandas as pd\n",
    "from sklearn.tree import DecisionTreeClassifier\n",
    "from sklearn.linear_model import LogisticRegression\n",
    "from sklearn.model_selection import train_test_split, StratifiedKFold, cross_val_score, GridSearchCV, validation_curve, KFold\n",
    "from sklearn.metrics import roc_auc_score\n",
    "import seaborn as sns\n",
    "%matplotlib inline\n",
    "import gc"
   ]
  },
  {
   "cell_type": "code",
   "execution_count": 2,
   "metadata": {
    "ExecuteTime": {
     "end_time": "2019-09-18T19:36:06.656185Z",
     "start_time": "2019-09-18T19:36:06.592184Z"
    },
    "code_folding": [
     0,
     15,
     35,
     69,
     117,
     168,
     216,
     230,
     246,
     254
    ]
   },
   "outputs": [],
   "source": [
    "def num_cat(df):\n",
    "    '''\n",
    "    Функция возвращает куски исходного датафрейма. Куски состоят из категориальных фич и из числовых\n",
    "    '''\n",
    "    categorical_features = df.select_dtypes(include = [\"object\"]).columns\n",
    "    numerical_features = df.select_dtypes(exclude = [\"object\"]).columns\n",
    "    if 'target' in numerical_features:\n",
    "        numerical_features = numerical_features.drop('target')\n",
    "    print(\"Numerical features : \" + str(len(numerical_features)))\n",
    "    \n",
    "    print(\"Categorical features : \" + str(len(categorical_features)))\n",
    "\n",
    "    df_num = df[numerical_features]\n",
    "    df_cat = df[categorical_features]\n",
    "    return df_num, df_cat\n",
    "def missing_values_table(df):\n",
    "    '''\n",
    "    Функция возвращает таблицу с количеством и долей пропущенных значений в датафрейме\n",
    "    '''\n",
    "    mis_val = df.isnull().sum()\n",
    "    mis_val_percent = 100 * df.isnull().sum() / len(df)\n",
    "\n",
    "    mis_val_table = pd.concat([mis_val, mis_val_percent], axis=1)\n",
    "\n",
    "    mis_val_table_ren_columns = mis_val_table.rename(\n",
    "    columns = {0 : 'Missing Values', 1 : '% of Total Values'})\n",
    "\n",
    "    mis_val_table_ren_columns = mis_val_table_ren_columns[\n",
    "        mis_val_table_ren_columns.iloc[:,1] != 0].sort_values(\n",
    "    '% of Total Values', ascending=False).round(1)\n",
    "\n",
    "    print (\"Your selected dataframe has \" + str(df.shape[1]) + \" columns.\\n\"      \n",
    "        \"There are \" + str(mis_val_table_ren_columns.shape[0]) +\n",
    "          \" columns that have missing values.\")\n",
    "    return mis_val_table_ren_columns\n",
    "def reduce_memory_usage(df):\n",
    "    '''\n",
    "    iterate through all the columns of a dataframe and modify the data type\n",
    "    to reduce memory usage.\n",
    "    '''\n",
    "    start_mem = df.memory_usage().sum()/1024**2\n",
    "    \n",
    "    for col in df.columns:\n",
    "        col_type = df[col].dtype\n",
    "        \n",
    "        if (col_type != object) & (col_type != 'datetime64[ns]'):\n",
    "            c_min = df[col].min()\n",
    "            c_max = df[col].max()\n",
    "            if str(col_type)[:3] == 'int':\n",
    "                if c_min > np.iinfo(np.int8).min and c_max < np.iinfo(np.int8).max:\n",
    "                    df[col] = df[col].astype(np.int8)\n",
    "                elif c_min > np.iinfo(np.int16).min and c_max < np.iinfo(np.int16).max:\n",
    "                    df[col] = df[col].astype(np.int16)\n",
    "                elif c_min > np.iinfo(np.int32).min and c_max < np.iinfo(np.int32).max:\n",
    "                    df[col] = df[col].astype(np.int32)\n",
    "                elif c_min > np.iinfo(np.int64).min and c_max < np.iinfo(np.int64).max:\n",
    "                    df[col] = df[col].astype(np.int64)  \n",
    "            else:\n",
    "                if c_min > np.finfo(np.float16).min and c_max < np.finfo(np.float16).max:\n",
    "                    df[col] = df[col].astype(np.float16)\n",
    "                elif c_min > np.finfo(np.float32).min and c_max < np.finfo(np.float32).max:\n",
    "                    df[col] = df[col].astype(np.float32)\n",
    "                else:\n",
    "                    df[col] = df[col].astype(np.float64)\n",
    "\n",
    "    end_mem = df.memory_usage().sum()/1024**2\n",
    "    print('Memory usage: Before|{:.2f} MB || After|{:.2f} MB || Decreased|{:.1f}%'.format(start_mem, end_mem, 100*(1 - end_mem/start_mem)))\n",
    "    \n",
    "    return df \n",
    "def fast_validate_kfold(test, X, y, params):\n",
    "    preds = np.zeros(len(test))\n",
    "    oof = np.zeros(len(X))\n",
    "\n",
    "    folds = KFold(n_splits=5, shuffle=False)\n",
    "\n",
    "    feature_importances = pd.DataFrame()\n",
    "    feature_importances['feature'] = X.columns\n",
    "\n",
    "    training_start_time = time()\n",
    "\n",
    "    print('Start')\n",
    "    for fold, (trn_idx, test_idx) in enumerate(folds.split(X, y)):\n",
    "\n",
    "        start_time = time()\n",
    "        print('Training on fold {}'.format(fold + 1))\n",
    "\n",
    "        trn_data = lgb.Dataset(X.iloc[trn_idx], label=y.iloc[trn_idx])\n",
    "        val_data = lgb.Dataset(X.iloc[test_idx], label=y.iloc[test_idx])\n",
    "\n",
    "        clf = lgb.train(params,\n",
    "                        trn_data,\n",
    "                        100,\n",
    "                        valid_sets = [trn_data, val_data],\n",
    "                        verbose_eval=200,\n",
    "                        early_stopping_rounds=200)\n",
    "\n",
    "        preds += clf.predict(test)\n",
    "        oof[test_idx] = clf.predict(X.iloc[test_idx])\n",
    "        feature_importances['fold_{}'.format(fold + 1)] = clf.feature_importance()\n",
    "\n",
    "        print('Fold {} finished in {}'.format(fold + 1, str(datetime.timedelta(seconds=time() - start_time))))\n",
    "\n",
    "    print('-' * 30)\n",
    "    print('Training has finished.')\n",
    "    print('Total training time is {}'.format(str(datetime.timedelta(seconds=time() - training_start_time))))\n",
    "    print('OOF AUC:', roc_auc_score(y, oof))\n",
    "    print('-' * 30)\n",
    "\n",
    "    feature_importances['average'] = feature_importances[['fold_{}'.format(fold + 1) for fold in range(folds.n_splits)]].mean(axis=1)\n",
    "#     feature_importances.to_csv('feature_importances.csv')\n",
    "\n",
    "\n",
    "    plt.figure(figsize=(16, 16))\n",
    "    sns.barplot(data=feature_importances.sort_values(by='average', ascending=False).head(50), x='average', y='feature');\n",
    "    plt.title('50 TOP feature importance over {} folds average'.format(folds.n_splits));\n",
    "    \n",
    "    return clf, feature_importances, preds/folds.n_splits\n",
    "def fast_estimation(test, X, y, params):\n",
    "    preds = np.zeros(len(test))\n",
    "    oof = np.zeros(len(X))\n",
    "    oof_list = []\n",
    "    folds = KFold(n_splits=5, shuffle=False)\n",
    "\n",
    "    feature_importances = pd.DataFrame()\n",
    "    feature_importances['feature'] = X.columns\n",
    "\n",
    "    training_start_time = time()\n",
    "\n",
    "    print('Start')\n",
    "    for fold, (trn_idx, test_idx) in enumerate(folds.split(X, y)):\n",
    "\n",
    "        start_time = time()\n",
    "#         print('Training on fold {}'.format(fold + 1))\n",
    "\n",
    "        trn_data = lgb.Dataset(X.iloc[trn_idx], label=y.iloc[trn_idx])\n",
    "        val_data = lgb.Dataset(X.iloc[test_idx], label=y.iloc[test_idx])\n",
    "\n",
    "        clf = lgb.train(params,\n",
    "                        trn_data,\n",
    "                        100,\n",
    "                        valid_sets = [trn_data, val_data],\n",
    "                        verbose_eval=200,\n",
    "                        early_stopping_rounds=200)\n",
    "\n",
    "        preds += clf.predict(test)\n",
    "        oof[test_idx] = clf.predict(X.iloc[test_idx])\n",
    "        \n",
    "        oof_list.append(roc_auc_score(y.iloc[test_idx], oof[test_idx]))\n",
    "        \n",
    "        feature_importances['fold_{}'.format(fold + 1)] = clf.feature_importance()\n",
    "\n",
    "#         print('Fold {} finished in {}'.format(fold + 1, str(datetime.timedelta(seconds=time() - start_time))))\n",
    "\n",
    "    print('-' * 30)\n",
    "#     print('Training has finished.')\n",
    "#     print('Total training time is {}'.format(str(datetime.timedelta(seconds=time() - training_start_time))))\n",
    "    print('OOF AUC:', roc_auc_score(y, oof))\n",
    "    print('-' * 30)\n",
    "\n",
    "#     feature_importances['average'] = feature_importances[['fold_{}'.format(fold + 1) for fold in range(folds.n_splits)]].mean(axis=1)\n",
    "#     feature_importances.to_csv('feature_importances.csv')\n",
    "\n",
    "\n",
    "#     plt.figure(figsize=(16, 16))\n",
    "#     sns.barplot(data=feature_importances.sort_values(by='average', ascending=False).head(50), x='average', y='feature');\n",
    "#     plt.title('50 TOP feature importance over {} folds average'.format(folds.n_splits));\n",
    "    \n",
    "    return roc_auc_score(y, oof)\n",
    "def submission_validate_kfold(test, X, y, params):\n",
    "    preds = np.zeros(len(test))\n",
    "    oof = np.zeros(len(X))\n",
    "\n",
    "    folds = KFold(n_splits=5, shuffle=False)\n",
    "\n",
    "    feature_importances = pd.DataFrame()\n",
    "    feature_importances['feature'] = X.columns\n",
    "\n",
    "    training_start_time = time()\n",
    "\n",
    "    print('Start')\n",
    "    for fold, (trn_idx, test_idx) in enumerate(folds.split(X, y)):\n",
    "\n",
    "        start_time = time()\n",
    "        print('Training on fold {}'.format(fold + 1))\n",
    "\n",
    "        trn_data = lgb.Dataset(X.iloc[trn_idx], label=y.iloc[trn_idx])\n",
    "        val_data = lgb.Dataset(X.iloc[test_idx], label=y.iloc[test_idx])\n",
    "\n",
    "        clf = lgb.train(params,\n",
    "                        trn_data,\n",
    "                        10000,\n",
    "                        valid_sets = [trn_data, val_data],\n",
    "                        verbose_eval=500,\n",
    "                        early_stopping_rounds=500)\n",
    "\n",
    "        preds += clf.predict(test)\n",
    "        oof[test_idx] = clf.predict(X.iloc[test_idx])\n",
    "        feature_importances['fold_{}'.format(fold + 1)] = clf.feature_importance()\n",
    "\n",
    "        print('Fold {} finished in {}'.format(fold + 1, str(datetime.timedelta(seconds=time() - start_time))))\n",
    "\n",
    "    print('-' * 30)\n",
    "    print('Training has finished.')\n",
    "    print('Total training time is {}'.format(str(datetime.timedelta(seconds=time() - training_start_time))))\n",
    "    print('OOF AUC:', roc_auc_score(y, oof))\n",
    "    print('-' * 30)\n",
    "\n",
    "    feature_importances['average'] = feature_importances[['fold_{}'.format(fold + 1) for fold in range(folds.n_splits)]].mean(axis=1)\n",
    "#     feature_importances.to_csv('feature_importances.csv')\n",
    "\n",
    "\n",
    "    plt.figure(figsize=(16, 16))\n",
    "    sns.barplot(data=feature_importances.sort_values(by='average', ascending=False).head(50), x='average', y='feature');\n",
    "    plt.title('50 TOP feature importance over {} folds average'.format(folds.n_splits));\n",
    "    \n",
    "    return clf, feature_importances, preds/folds.n_splits\n",
    "def outliers(i, df, col):\n",
    "    scaled = StandardScaler().fit_transform(df[col].dropna()[:, np.newaxis])\n",
    "    \n",
    "    low_range = scaled[scaled[:,0].argsort()][:10]\n",
    "    high_range= scaled[scaled[:,0].argsort()][-10:]\n",
    "    if len(np.unique(low_range)) >= 2 or len(np.unique(high_range)) >= 2:\n",
    "        print(i, col)\n",
    "        print('outer range (low) of the distribution:')\n",
    "        print(low_range)\n",
    "        print('\\nouter range (high) of the distribution:')\n",
    "        print(high_range)\n",
    "        print('\\n')\n",
    "\n",
    "        return col, (high_range[-1]/high_range[0])[0], (low_range[-1]/low_range[0])[0]\n",
    "def kde_target(var_name, df):    \n",
    "    corr = df['isFraud'].corr(df[var_name])\n",
    "    avg_repaid = df.loc[df['isFraud'] == 0, var_name].median()\n",
    "    avg_not_repaid = df.loc[df['isFraud'] == 1, var_name].median()\n",
    "    \n",
    "    plt.figure(figsize = (12, 9))\n",
    "    \n",
    "    sns.kdeplot(df.loc[df['isFraud'] == 0, var_name], label = 'isFraud == 0')\n",
    "    sns.kdeplot(df.loc[df['isFraud'] == 1, var_name], label = 'isFraud == 1')\n",
    "    \n",
    "    plt.xlabel(var_name)\n",
    "    plt.ylabel('Density')\n",
    "    plt.title('%s Distribution' % var_name)\n",
    "    plt.legend()\n",
    "    \n",
    "    print('The correlation between %s and the isFraud is %0.4f' % (var_name, corr))\n",
    "def check_outliers(flag, df, col):\n",
    "    if flag == 'train':\n",
    "        sns.distplot(df[col].dropna())\n",
    "        kde_target(col, df)\n",
    "    \n",
    "    else:\n",
    "        pass        \n",
    "    return df[col].value_counts().sort_index()\n",
    "def time_series_validation(X, y, params):\n",
    "    folds = TimeSeriesSplit(n_splits=5)\n",
    "\n",
    "    aucs = list()\n",
    "    feature_importances = pd.DataFrame()\n",
    "    feature_importances['feature'] = X.columns\n",
    "\n",
    "    training_start_time = time()\n",
    "    for fold, (trn_idx, test_idx) in enumerate(folds.split(X, y)):\n",
    "        start_time = time()\n",
    "        print('Training on fold {}'.format(fold + 1))\n",
    "\n",
    "        trn_data = lgb.Dataset(X.iloc[trn_idx], label=y.iloc[trn_idx])\n",
    "        val_data = lgb.Dataset(X.iloc[test_idx], label=y.iloc[test_idx])\n",
    "        clf = lgb.train(params, trn_data, 10000, valid_sets = [trn_data, val_data], verbose_eval=1000, early_stopping_rounds=500)\n",
    "\n",
    "        feature_importances['fold_{}'.format(fold + 1)] = clf.feature_importance()\n",
    "        aucs.append(clf.best_score['valid_1']['auc'])\n",
    "\n",
    "        print('Fold {} finished in {}'.format(fold + 1, str(datetime.timedelta(seconds=time() - start_time))))\n",
    "    print('-' * 30)\n",
    "    print('Training has finished.')\n",
    "    print('Total training time is {}'.format(str(datetime.timedelta(seconds=time() - training_start_time))))\n",
    "    print('Mean AUC:', np.mean(aucs))\n",
    "    print('-' * 30)"
   ]
  },
  {
   "cell_type": "code",
   "execution_count": 3,
   "metadata": {
    "ExecuteTime": {
     "end_time": "2019-09-18T19:36:11.370515Z",
     "start_time": "2019-09-18T19:36:06.657183Z"
    }
   },
   "outputs": [
    {
     "name": "stderr",
     "output_type": "stream",
     "text": [
      "Using TensorFlow backend.\n"
     ]
    }
   ],
   "source": [
    "main_path = r'../..'\n",
    "data_path = main_path+'/data/'\n",
    "\n",
    "%load_ext autoreload\n",
    "%autoreload 2\n",
    "import sys\n",
    "sys.path.append(main_path)\n",
    "from BayDS.lib.training import *\n"
   ]
  },
  {
   "cell_type": "code",
   "execution_count": 4,
   "metadata": {
    "ExecuteTime": {
     "end_time": "2019-09-18T19:36:11.496501Z",
     "start_time": "2019-09-18T19:36:11.371516Z"
    }
   },
   "outputs": [],
   "source": [
    "# train_ = pd.read_csv(data_path +  'X_score_agg.csv').set_index('TransactionID')\n",
    "# test_ = pd.read_csv(data_path + 'test_aggs.csv').set_index('TransactionID')"
   ]
  },
  {
   "cell_type": "code",
   "execution_count": 5,
   "metadata": {
    "ExecuteTime": {
     "end_time": "2019-09-18T19:36:28.826306Z",
     "start_time": "2019-09-18T19:36:11.497501Z"
    }
   },
   "outputs": [],
   "source": [
    "train = pd.read_pickle(data_path + 'train_09457_with_additions.pkl')\n",
    "\n",
    "test = pd.read_pickle(data_path + 'test_09457_with_additions.pkl')\n",
    "\n",
    "# train.drop('Date', axis=1, inplace=True)\n",
    "# test.drop('Date', axis=1, inplace=True)\n",
    "\n",
    "X = train#.drop(['isFraud'], axis=1)"
   ]
  },
  {
   "cell_type": "code",
   "execution_count": 6,
   "metadata": {
    "ExecuteTime": {
     "end_time": "2019-09-18T19:36:28.957293Z",
     "start_time": "2019-09-18T19:36:28.827277Z"
    }
   },
   "outputs": [],
   "source": [
    "# train_.drop('score', axis=1, inplace=True)\n",
    "\n",
    "# X = pd.concat([train, train_], axis=1).drop('isFraud', axis=1)\n",
    "# del train, train_\n",
    "# gc.collect()\n",
    "\n",
    "# testall = pd.concat([test, test_], axis=1)#.drop('isFraud', axis=1)\n",
    "\n",
    "# del test_\n",
    "# gc.collect()\n",
    "\n",
    "# # testall.drop('Date', axis=1, inplace=True)\n",
    "# testall.drop(3577539, inplace=True)"
   ]
  },
  {
   "cell_type": "code",
   "execution_count": 7,
   "metadata": {
    "ExecuteTime": {
     "end_time": "2019-09-18T19:36:29.316201Z",
     "start_time": "2019-09-18T19:36:28.958294Z"
    }
   },
   "outputs": [],
   "source": [
    "y = pd.read_pickle(data_path + 'y.pkl')"
   ]
  },
  {
   "cell_type": "code",
   "execution_count": 8,
   "metadata": {
    "ExecuteTime": {
     "end_time": "2019-09-18T19:36:32.060188Z",
     "start_time": "2019-09-18T19:36:29.318173Z"
    }
   },
   "outputs": [],
   "source": [
    "X = X.loc[:,~X.columns.duplicated()]\n",
    "# testall = testall.loc[:,~testall.columns.duplicated()]"
   ]
  },
  {
   "cell_type": "code",
   "execution_count": 9,
   "metadata": {
    "ExecuteTime": {
     "end_time": "2019-09-18T19:36:32.410175Z",
     "start_time": "2019-09-18T19:36:32.062173Z"
    }
   },
   "outputs": [
    {
     "data": {
      "text/plain": [
       "7"
      ]
     },
     "execution_count": 9,
     "metadata": {},
     "output_type": "execute_result"
    }
   ],
   "source": [
    "del train\n",
    "gc.collect()"
   ]
  },
  {
   "cell_type": "code",
   "execution_count": 10,
   "metadata": {
    "ExecuteTime": {
     "end_time": "2019-09-18T19:36:32.542173Z",
     "start_time": "2019-09-18T19:36:32.412174Z"
    }
   },
   "outputs": [
    {
     "name": "stdout",
     "output_type": "stream",
     "text": [
      "(590540, 641) (506691, 640)\n"
     ]
    }
   ],
   "source": [
    "print(X.shape, test.shape)"
   ]
  },
  {
   "cell_type": "code",
   "execution_count": null,
   "metadata": {},
   "outputs": [],
   "source": []
  },
  {
   "cell_type": "code",
   "execution_count": 11,
   "metadata": {
    "ExecuteTime": {
     "end_time": "2019-09-18T19:36:34.414187Z",
     "start_time": "2019-09-18T19:36:32.543173Z"
    }
   },
   "outputs": [],
   "source": [
    "cols = \"TransactionDT,TransactionAmt,ProductCD,card1,card2,card3,card4,card5,card6,addr1,addr2,C1,C2,C3,C4,C5,C6,C7,C8,C9,C10,C11,C12,C13,C14,M1,M2,M3,M4,M5,M6,M7,M8,M9\".split(\",\")\n",
    "train_test = X[cols].append(test[cols])"
   ]
  },
  {
   "cell_type": "code",
   "execution_count": 12,
   "metadata": {
    "ExecuteTime": {
     "end_time": "2019-09-18T19:36:41.221050Z",
     "start_time": "2019-09-18T19:36:34.415173Z"
    }
   },
   "outputs": [],
   "source": [
    "for col in \"ProductCD,card1,card2,card3,card4,card5,card6,addr1,addr2,C1,C2,C3,C4,C5,C6,C7,C8,C9,C10,C11,C12,C13,C14\".split(\",\"):\n",
    "    col_count = train_test.groupby(col)['TransactionDT'].count()\n",
    "    X[col+'_count'] = X[col].map(col_count)\n",
    "    test[col+'_count'] = test[col].map(col_count)\n",
    "#     print(col,test[col].map(lambda x:0 if x in s else 1).sum())\n",
    "\n",
    "\n",
    "for col in \"card1,card2,card5,addr1,addr2\".split(\",\"):\n",
    "    col_count = train_test.groupby(col)['TransactionAmt'].mean()\n",
    "    X[col+'_amtcount'] = X[col].map(col_count)\n",
    "    test[col+'_amtcount'] = test[col].map(col_count)\n",
    "    col_count1 = train_test[train_test['C5'] == 0].groupby(col)['C5'].count()\n",
    "    col_count2 = train_test[train_test['C5'] != 0].groupby(col)['C5'].count()\n",
    "    X[col+'_C5count'] = X[col].map(col_count2) / (X[col].map(col_count1) + 0.01)\n",
    "    test[col+'_C5count'] = test[col].map(col_count2) / (test[col].map(col_count1) + 0.01)\n",
    "    \n",
    "del train_test"
   ]
  },
  {
   "cell_type": "code",
   "execution_count": 13,
   "metadata": {
    "ExecuteTime": {
     "end_time": "2019-09-18T19:37:58.566580Z",
     "start_time": "2019-09-18T19:36:41.222037Z"
    },
    "scrolled": true
   },
   "outputs": [
    {
     "name": "stdout",
     "output_type": "stream",
     "text": [
      "V126 24875\n",
      "V127 104743\n",
      "V128 46447\n",
      "V129 6555\n",
      "V130 72061\n",
      "V131 24989\n",
      "V132 9116\n",
      "V133 14910\n",
      "V134 11134\n",
      "V135 9184\n",
      "V136 14824\n",
      "V137 10682\n",
      "V160 10836\n",
      "V164 597\n",
      "V165 3440\n",
      "V166 2347\n",
      "V202 16120\n",
      "V203 20278\n",
      "V204 18198\n",
      "V205 6335\n",
      "V206 4711\n",
      "V207 8867\n",
      "V208 9699\n",
      "V209 10061\n",
      "V210 9836\n",
      "V211 10131\n",
      "V212 11253\n",
      "V213 10710\n",
      "V214 4277\n",
      "V215 5191\n",
      "V216 4769\n",
      "V263 16586\n",
      "V264 20089\n",
      "V265 18161\n",
      "V266 6651\n",
      "V267 10219\n",
      "V268 8347\n",
      "V270 7868\n",
      "V271 8110\n",
      "V272 7959\n",
      "V273 9401\n",
      "V274 11959\n",
      "V275 9821\n",
      "V276 4398\n",
      "V277 5417\n",
      "V278 4856\n",
      "V306 37081\n",
      "V307 140538\n",
      "V308 67074\n",
      "V309 14366\n",
      "V310 99482\n",
      "V311 8764\n",
      "V312 40465\n",
      "V313 43009\n",
      "V314 50538\n",
      "V315 44021\n",
      "V316 15081\n",
      "V317 24841\n",
      "V318 18718\n",
      "V319 10762\n",
      "V320 18664\n",
      "V321 13113\n"
     ]
    }
   ],
   "source": [
    "col_del = []\n",
    "for i in range(339):\n",
    "    col = \"V\" + str(i+1)\n",
    "    s = X[col].fillna(0).map(lambda x:0 if x%1 == 0 else 1).sum()\n",
    "    if s > 100:\n",
    "        print(col,s)\n",
    "        col_del.append(col)"
   ]
  },
  {
   "cell_type": "code",
   "execution_count": 14,
   "metadata": {
    "ExecuteTime": {
     "end_time": "2019-09-18T19:38:06.199593Z",
     "start_time": "2019-09-18T19:37:58.567578Z"
    }
   },
   "outputs": [],
   "source": [
    "data = pd.concat([X, test])"
   ]
  },
  {
   "cell_type": "code",
   "execution_count": 17,
   "metadata": {
    "ExecuteTime": {
     "end_time": "2019-09-18T19:47:12.561274Z",
     "start_time": "2019-09-18T19:45:50.064919Z"
    }
   },
   "outputs": [
    {
     "name": "stdout",
     "output_type": "stream",
     "text": [
      "TransactionAmt\n",
      ".\n",
      ".\n"
     ]
    }
   ],
   "source": [
    "import multiprocess as mp\n",
    "def aggregate_with_time_local1(args):\n",
    "    import pandas as pd\n",
    "    data_slice, group_column, num_feature, window_size = args\n",
    "    #     data_slice = data[['Date',group_column,num_feature]].reset_index()\n",
    "    gb = data_slice.groupby([group_column])\n",
    "    q = gb.rolling(window_size, on='Date', min_periods=1)[num_feature].agg(['mean', 'std'])\n",
    "    ds = data_slice.set_index(['uid3', 'Date'])\n",
    "    ds = ds.join(q)\n",
    "    ds = ds.set_index('TransactionID').sort_index()\n",
    "    to_mean = ds[num_feature] / ds['mean']\n",
    "    to_std = ds[num_feature] / ds['std']\n",
    "    df = pd.DataFrame()\n",
    "    df[f'{num_feature}_by_{group_column}_ws{window_size}_to_mean'] = to_mean\n",
    "    df[f'{num_feature}_by_{group_column}_ws{window_size}_to_std'] = to_std\n",
    "    return df\n",
    "\n",
    "with mp.Pool(3) as Pool:\n",
    "\n",
    "    for nf in ['TransactionAmt']:\n",
    "\n",
    "        if nf not in data.columns:\n",
    "            continue\n",
    "        print(nf)\n",
    "        timeaggs = pd.DataFrame(index=data.index)\n",
    "        data_slice = data[['Date', 'uid3',nf]].reset_index()\n",
    "        args = [(data_slice, 'uid3', nf, ws) for ws in ['30d','7d']]\n",
    "        m = Pool.imap(aggregate_with_time_local1, args)\n",
    "        for i,df_agg in enumerate(m):\n",
    "            print('.')\n",
    "            timeaggs = pd.concat([timeaggs, df_agg], axis=1)"
   ]
  },
  {
   "cell_type": "code",
   "execution_count": 18,
   "metadata": {
    "ExecuteTime": {
     "end_time": "2019-09-18T19:48:30.579285Z",
     "start_time": "2019-09-18T19:47:17.153261Z"
    },
    "scrolled": true
   },
   "outputs": [],
   "source": [
    "X = X.join(timeaggs)\n",
    "test = test.join(timeaggs)"
   ]
  },
  {
   "cell_type": "code",
   "execution_count": 19,
   "metadata": {
    "ExecuteTime": {
     "end_time": "2019-09-18T19:48:42.423284Z",
     "start_time": "2019-09-18T19:48:36.034282Z"
    }
   },
   "outputs": [
    {
     "data": {
      "text/plain": [
       "74"
      ]
     },
     "execution_count": 19,
     "metadata": {},
     "output_type": "execute_result"
    }
   ],
   "source": [
    "train_pos = X[X['isFraud']==1]\n",
    "train_neg = X[X['isFraud']==0]\n",
    "\n",
    "train_neg = train_neg.sample(int(X.shape[0] * 0.2), random_state=0)\n",
    "\n",
    "d0 = pd.concat([train_pos,train_neg]).sort_index()\n",
    "d0.drop(['Date', 'isFraud'], axis=1, inplace=True)\n",
    "\n",
    "del train_pos, train_neg\n",
    "gc.collect()"
   ]
  },
  {
   "cell_type": "code",
   "execution_count": 20,
   "metadata": {
    "ExecuteTime": {
     "end_time": "2019-09-18T20:26:43.001649Z",
     "start_time": "2019-09-18T19:48:47.685281Z"
    }
   },
   "outputs": [
    {
     "name": "stdout",
     "output_type": "stream",
     "text": [
      "Fold 1 started at Wed Sep 18 22:48:50 2019\n",
      "Training until validation scores don't improve for 200 rounds.\n",
      "[500]\ttraining's auc: 0.999989\ttraining's auc: 0.999989\tvalid_1's auc: 0.911035\tvalid_1's auc: 0.911035\n",
      "Early stopping, best iteration is:\n",
      "[749]\ttraining's auc: 1\ttraining's auc: 1\tvalid_1's auc: 0.912525\tvalid_1's auc: 0.912525\n",
      "Fold 2 started at Wed Sep 18 22:57:01 2019\n",
      "Training until validation scores don't improve for 200 rounds.\n",
      "[500]\ttraining's auc: 0.999996\ttraining's auc: 0.999996\tvalid_1's auc: 0.944702\tvalid_1's auc: 0.944702\n",
      "Early stopping, best iteration is:\n",
      "[642]\ttraining's auc: 1\ttraining's auc: 1\tvalid_1's auc: 0.945232\tvalid_1's auc: 0.945232\n",
      "Fold 3 started at Wed Sep 18 23:04:22 2019\n",
      "Training until validation scores don't improve for 200 rounds.\n",
      "[500]\ttraining's auc: 0.999994\ttraining's auc: 0.999994\tvalid_1's auc: 0.93415\tvalid_1's auc: 0.93415\n",
      "Early stopping, best iteration is:\n",
      "[724]\ttraining's auc: 1\ttraining's auc: 1\tvalid_1's auc: 0.935152\tvalid_1's auc: 0.935152\n",
      "Fold 4 started at Wed Sep 18 23:12:34 2019\n",
      "Training until validation scores don't improve for 200 rounds.\n",
      "[500]\ttraining's auc: 0.999994\ttraining's auc: 0.999994\tvalid_1's auc: 0.952555\tvalid_1's auc: 0.952555\n",
      "Early stopping, best iteration is:\n",
      "[543]\ttraining's auc: 0.999998\ttraining's auc: 0.999998\tvalid_1's auc: 0.952607\tvalid_1's auc: 0.952607\n",
      "Fold 5 started at Wed Sep 18 23:18:47 2019\n",
      "Training until validation scores don't improve for 200 rounds.\n",
      "[500]\ttraining's auc: 0.999995\ttraining's auc: 0.999995\tvalid_1's auc: 0.931856\tvalid_1's auc: 0.931856\n",
      "Early stopping, best iteration is:\n",
      "[725]\ttraining's auc: 1\ttraining's auc: 1\tvalid_1's auc: 0.933209\tvalid_1's auc: 0.933209\n",
      "CV mean score: 0.9357, std: 0.0136.\n"
     ]
    },
    {
     "data": {
      "image/png": "[encoded data removed]",
      "text/plain": [
       "<Figure size 1152x864 with 1 Axes>"
      ]
     },
     "metadata": {
      "needs_background": "light"
     },
     "output_type": "display_data"
    }
   ],
   "source": [
    "params = {'num_leaves': 491,\n",
    "          'min_child_weight': 0.03454472573214212,\n",
    "          'feature_fraction': 0.3797454081646243,\n",
    "          'bagging_fraction': 0.4181193142567742,\n",
    "          'min_data_in_leaf': 106,\n",
    "\n",
    "          'objective': 'binary',\n",
    "          'max_depth': -1,\n",
    "          'learning_rate': 0.02,\n",
    "          \"boosting_type\": \"gbdt\",\n",
    "          \"bagging_seed\": 11,\n",
    "          \"metric\": 'auc',\n",
    "          \"verbosity\": -1,\n",
    "          'reg_alpha': 0.3899927210061127,\n",
    "          'reg_lambda': 0.6485237330340494,\n",
    "          'random_state': 47, \n",
    "         }\n",
    "\n",
    "n_fold = 5\n",
    "folds = KFold(n_splits=n_fold)\n",
    "train_options = {\n",
    "    \"model_type\":'lgb',\n",
    "    \"params\": params,\n",
    "    \"eval_metric\":'auc',\n",
    "    'early_stopping_rounds': 200,\n",
    "    'n_estimators': 10000,\n",
    "    'averaging': 'usual',\n",
    "    'use_groups': False,\n",
    "    'fold_name': folds.__class__.__name__,\n",
    "    'n_splits': n_fold}\n",
    "\n",
    "result_dict_lgb = train_model_classification(X=d0, X_test=test, y=y.loc[d0.index], params=params, folds=folds,\n",
    "                                             model_type=train_options['model_type'], \n",
    "                                             eval_metric=train_options['eval_metric'],\n",
    "                                             plot_feature_importance=True,\n",
    "                                             verbose=500, early_stopping_rounds=train_options['early_stopping_rounds'],\n",
    "                                             n_estimators=train_options['n_estimators'], \n",
    "                                             averaging=train_options['averaging'],\n",
    "                                             n_jobs=-1, groups=None)"
   ]
  },
  {
   "cell_type": "code",
   "execution_count": 37,
   "metadata": {
    "ExecuteTime": {
     "end_time": "2019-09-19T05:28:15.702877Z",
     "start_time": "2019-09-19T05:28:14.221892Z"
    }
   },
   "outputs": [],
   "source": [
    "pd.DataFrame(result_dict_lgb['prediction'], columns=['isFraud'], index=test.index).to_csv('lgb_downsample_9469+new_feats+aggsuid2.csv')"
   ]
  },
  {
   "cell_type": "code",
   "execution_count": 39,
   "metadata": {
    "ExecuteTime": {
     "end_time": "2019-09-19T05:28:29.731262Z",
     "start_time": "2019-09-19T05:28:29.605276Z"
    }
   },
   "outputs": [
    {
     "data": {
      "text/plain": [
       "(506751, 677)"
      ]
     },
     "execution_count": 39,
     "metadata": {},
     "output_type": "execute_result"
    }
   ],
   "source": [
    "test.shape"
   ]
  },
  {
   "cell_type": "code",
   "execution_count": 38,
   "metadata": {
    "ExecuteTime": {
     "end_time": "2019-09-19T05:28:22.342951Z",
     "start_time": "2019-09-19T05:28:22.213960Z"
    },
    "scrolled": true
   },
   "outputs": [
    {
     "data": {
      "text/html": [
       "<div>\n",
       "<style scoped>\n",
       "    .dataframe tbody tr th:only-of-type {\n",
       "        vertical-align: middle;\n",
       "    }\n",
       "\n",
       "    .dataframe tbody tr th {\n",
       "        vertical-align: top;\n",
       "    }\n",
       "\n",
       "    .dataframe thead th {\n",
       "        text-align: right;\n",
       "    }\n",
       "</style>\n",
       "<table border=\"1\" class=\"dataframe\">\n",
       "  <thead>\n",
       "    <tr style=\"text-align: right;\">\n",
       "      <th></th>\n",
       "      <th>isFraud</th>\n",
       "    </tr>\n",
       "    <tr>\n",
       "      <th>TransactionID</th>\n",
       "      <th></th>\n",
       "    </tr>\n",
       "  </thead>\n",
       "  <tbody>\n",
       "    <tr>\n",
       "      <th>3663549</th>\n",
       "      <td>0.002602008739994</td>\n",
       "    </tr>\n",
       "    <tr>\n",
       "      <th>3663550</th>\n",
       "      <td>0.004775776067580</td>\n",
       "    </tr>\n",
       "    <tr>\n",
       "      <th>3663551</th>\n",
       "      <td>0.007692439066119</td>\n",
       "    </tr>\n",
       "    <tr>\n",
       "      <th>3663552</th>\n",
       "      <td>0.003194394173746</td>\n",
       "    </tr>\n",
       "    <tr>\n",
       "      <th>3663553</th>\n",
       "      <td>0.002529477828588</td>\n",
       "    </tr>\n",
       "    <tr>\n",
       "      <th>3663554</th>\n",
       "      <td>0.002598545297520</td>\n",
       "    </tr>\n",
       "    <tr>\n",
       "      <th>3663555</th>\n",
       "      <td>0.011983321623006</td>\n",
       "    </tr>\n",
       "    <tr>\n",
       "      <th>3663556</th>\n",
       "      <td>0.035521594980029</td>\n",
       "    </tr>\n",
       "    <tr>\n",
       "      <th>3663557</th>\n",
       "      <td>0.001030790113011</td>\n",
       "    </tr>\n",
       "    <tr>\n",
       "      <th>3663558</th>\n",
       "      <td>0.014675033474543</td>\n",
       "    </tr>\n",
       "    <tr>\n",
       "      <th>3663559</th>\n",
       "      <td>0.005674751056899</td>\n",
       "    </tr>\n",
       "    <tr>\n",
       "      <th>3663560</th>\n",
       "      <td>0.006516405018530</td>\n",
       "    </tr>\n",
       "    <tr>\n",
       "      <th>3663561</th>\n",
       "      <td>0.072279245686776</td>\n",
       "    </tr>\n",
       "    <tr>\n",
       "      <th>3663562</th>\n",
       "      <td>0.003202682928818</td>\n",
       "    </tr>\n",
       "    <tr>\n",
       "      <th>3663563</th>\n",
       "      <td>0.003988862442740</td>\n",
       "    </tr>\n",
       "    <tr>\n",
       "      <th>3663564</th>\n",
       "      <td>0.011946149836327</td>\n",
       "    </tr>\n",
       "    <tr>\n",
       "      <th>3663565</th>\n",
       "      <td>0.029065207710662</td>\n",
       "    </tr>\n",
       "    <tr>\n",
       "      <th>3663566</th>\n",
       "      <td>0.007717887991289</td>\n",
       "    </tr>\n",
       "    <tr>\n",
       "      <th>3663567</th>\n",
       "      <td>0.019588658922285</td>\n",
       "    </tr>\n",
       "    <tr>\n",
       "      <th>3663568</th>\n",
       "      <td>0.015723100681445</td>\n",
       "    </tr>\n",
       "    <tr>\n",
       "      <th>3663569</th>\n",
       "      <td>0.025373109100534</td>\n",
       "    </tr>\n",
       "    <tr>\n",
       "      <th>3663570</th>\n",
       "      <td>0.005285172046250</td>\n",
       "    </tr>\n",
       "    <tr>\n",
       "      <th>3663571</th>\n",
       "      <td>0.033451118422524</td>\n",
       "    </tr>\n",
       "    <tr>\n",
       "      <th>3663572</th>\n",
       "      <td>0.005492483103815</td>\n",
       "    </tr>\n",
       "    <tr>\n",
       "      <th>3663573</th>\n",
       "      <td>0.017856347584762</td>\n",
       "    </tr>\n",
       "    <tr>\n",
       "      <th>3663574</th>\n",
       "      <td>0.020325025747028</td>\n",
       "    </tr>\n",
       "    <tr>\n",
       "      <th>3663575</th>\n",
       "      <td>0.009934118245431</td>\n",
       "    </tr>\n",
       "    <tr>\n",
       "      <th>3663576</th>\n",
       "      <td>0.022626299456646</td>\n",
       "    </tr>\n",
       "    <tr>\n",
       "      <th>3663577</th>\n",
       "      <td>0.006023229655334</td>\n",
       "    </tr>\n",
       "    <tr>\n",
       "      <th>3663578</th>\n",
       "      <td>0.020540311086423</td>\n",
       "    </tr>\n",
       "    <tr>\n",
       "      <th>...</th>\n",
       "      <td>...</td>\n",
       "    </tr>\n",
       "    <tr>\n",
       "      <th>4170210</th>\n",
       "      <td>0.004947662536321</td>\n",
       "    </tr>\n",
       "    <tr>\n",
       "      <th>4170211</th>\n",
       "      <td>0.019186440254777</td>\n",
       "    </tr>\n",
       "    <tr>\n",
       "      <th>4170212</th>\n",
       "      <td>0.005169315283183</td>\n",
       "    </tr>\n",
       "    <tr>\n",
       "      <th>4170213</th>\n",
       "      <td>0.008707870304468</td>\n",
       "    </tr>\n",
       "    <tr>\n",
       "      <th>4170214</th>\n",
       "      <td>0.012586933128560</td>\n",
       "    </tr>\n",
       "    <tr>\n",
       "      <th>4170215</th>\n",
       "      <td>0.005133247680869</td>\n",
       "    </tr>\n",
       "    <tr>\n",
       "      <th>4170216</th>\n",
       "      <td>0.019524860275879</td>\n",
       "    </tr>\n",
       "    <tr>\n",
       "      <th>4170217</th>\n",
       "      <td>0.001787343095779</td>\n",
       "    </tr>\n",
       "    <tr>\n",
       "      <th>4170218</th>\n",
       "      <td>0.061137326063050</td>\n",
       "    </tr>\n",
       "    <tr>\n",
       "      <th>4170219</th>\n",
       "      <td>0.004597635480210</td>\n",
       "    </tr>\n",
       "    <tr>\n",
       "      <th>4170220</th>\n",
       "      <td>0.005767950441934</td>\n",
       "    </tr>\n",
       "    <tr>\n",
       "      <th>4170221</th>\n",
       "      <td>0.006504025974580</td>\n",
       "    </tr>\n",
       "    <tr>\n",
       "      <th>4170222</th>\n",
       "      <td>0.001843126906708</td>\n",
       "    </tr>\n",
       "    <tr>\n",
       "      <th>4170223</th>\n",
       "      <td>0.003800299555455</td>\n",
       "    </tr>\n",
       "    <tr>\n",
       "      <th>4170224</th>\n",
       "      <td>0.064637274898565</td>\n",
       "    </tr>\n",
       "    <tr>\n",
       "      <th>4170225</th>\n",
       "      <td>0.053271297541883</td>\n",
       "    </tr>\n",
       "    <tr>\n",
       "      <th>4170226</th>\n",
       "      <td>0.009234051769023</td>\n",
       "    </tr>\n",
       "    <tr>\n",
       "      <th>4170227</th>\n",
       "      <td>0.001603523603354</td>\n",
       "    </tr>\n",
       "    <tr>\n",
       "      <th>4170228</th>\n",
       "      <td>0.145079390407117</td>\n",
       "    </tr>\n",
       "    <tr>\n",
       "      <th>4170229</th>\n",
       "      <td>0.025256849436841</td>\n",
       "    </tr>\n",
       "    <tr>\n",
       "      <th>4170230</th>\n",
       "      <td>0.031337389263557</td>\n",
       "    </tr>\n",
       "    <tr>\n",
       "      <th>4170231</th>\n",
       "      <td>0.030467041011214</td>\n",
       "    </tr>\n",
       "    <tr>\n",
       "      <th>4170232</th>\n",
       "      <td>0.002160982919861</td>\n",
       "    </tr>\n",
       "    <tr>\n",
       "      <th>4170233</th>\n",
       "      <td>0.009084301076184</td>\n",
       "    </tr>\n",
       "    <tr>\n",
       "      <th>4170234</th>\n",
       "      <td>0.008991877879004</td>\n",
       "    </tr>\n",
       "    <tr>\n",
       "      <th>4170235</th>\n",
       "      <td>0.016373934128929</td>\n",
       "    </tr>\n",
       "    <tr>\n",
       "      <th>4170236</th>\n",
       "      <td>0.012489905585380</td>\n",
       "    </tr>\n",
       "    <tr>\n",
       "      <th>4170237</th>\n",
       "      <td>0.008981053555490</td>\n",
       "    </tr>\n",
       "    <tr>\n",
       "      <th>4170238</th>\n",
       "      <td>0.009836612847715</td>\n",
       "    </tr>\n",
       "    <tr>\n",
       "      <th>4170239</th>\n",
       "      <td>0.014308537289887</td>\n",
       "    </tr>\n",
       "  </tbody>\n",
       "</table>\n",
       "<p>506751 rows × 1 columns</p>\n",
       "</div>"
      ],
      "text/plain": [
       "                         isFraud\n",
       "TransactionID                   \n",
       "3663549        0.002602008739994\n",
       "3663550        0.004775776067580\n",
       "3663551        0.007692439066119\n",
       "3663552        0.003194394173746\n",
       "3663553        0.002529477828588\n",
       "...                          ...\n",
       "4170235        0.016373934128929\n",
       "4170236        0.012489905585380\n",
       "4170237        0.008981053555490\n",
       "4170238        0.009836612847715\n",
       "4170239        0.014308537289887\n",
       "\n",
       "[506751 rows x 1 columns]"
      ]
     },
     "execution_count": 38,
     "metadata": {},
     "output_type": "execute_result"
    }
   ],
   "source": [
    "pd.DataFrame(result_dict_lgb['prediction'], columns=['isFraud'], index=test.index)"
   ]
  },
  {
   "cell_type": "code",
   "execution_count": 31,
   "metadata": {
    "ExecuteTime": {
     "end_time": "2019-09-19T05:26:46.086039Z",
     "start_time": "2019-09-19T05:26:44.956638Z"
    }
   },
   "outputs": [],
   "source": [
    "sample_submission.to_csv('lgb_downsample_9469+new_feats+aggsuid2.csv')"
   ]
  },
  {
   "cell_type": "code",
   "execution_count": 28,
   "metadata": {
    "ExecuteTime": {
     "end_time": "2019-09-19T05:26:31.392508Z",
     "start_time": "2019-09-19T05:26:31.189493Z"
    }
   },
   "outputs": [],
   "source": [
    "sample_submission = pd.read_csv(data_path + 'sample_submission.csv').set_index('TransactionID')\n",
    "\n",
    "sub1 = pd.DataFrame(result_dict_lgb['prediction'], columns=['isFraud'], index=test.index)\n",
    "# sub2 = pd.DataFrame(result_dict_lgb_after_rfe2['prediction'], columns=['isFraud'], index=test.index)\n",
    "# sub3 = pd.DataFrame(result_dict_lgb_after_rfe3['prediction'], columns=['isFraud'], index=test.index)\n",
    "\n",
    "sub1\n",
    "\n",
    "sample_submission['isFraud'] = sub1#*0.5 + sub2*0.25 + sub3*0.25\n",
    "\n",
    "sample_submission.to_csv('ensemble_lgb_17_09_new_feats.csv')"
   ]
  },
  {
   "cell_type": "code",
   "execution_count": 36,
   "metadata": {
    "ExecuteTime": {
     "end_time": "2019-09-19T05:27:47.746492Z",
     "start_time": "2019-09-19T05:27:47.615504Z"
    }
   },
   "outputs": [
    {
     "data": {
      "text/html": [
       "<div>\n",
       "<style scoped>\n",
       "    .dataframe tbody tr th:only-of-type {\n",
       "        vertical-align: middle;\n",
       "    }\n",
       "\n",
       "    .dataframe tbody tr th {\n",
       "        vertical-align: top;\n",
       "    }\n",
       "\n",
       "    .dataframe thead th {\n",
       "        text-align: right;\n",
       "    }\n",
       "</style>\n",
       "<table border=\"1\" class=\"dataframe\">\n",
       "  <thead>\n",
       "    <tr style=\"text-align: right;\">\n",
       "      <th></th>\n",
       "      <th>isFraud</th>\n",
       "    </tr>\n",
       "    <tr>\n",
       "      <th>TransactionID</th>\n",
       "      <th></th>\n",
       "    </tr>\n",
       "  </thead>\n",
       "  <tbody>\n",
       "    <tr>\n",
       "      <th>3663549</th>\n",
       "      <td>0.5</td>\n",
       "    </tr>\n",
       "    <tr>\n",
       "      <th>3663550</th>\n",
       "      <td>0.5</td>\n",
       "    </tr>\n",
       "    <tr>\n",
       "      <th>3663551</th>\n",
       "      <td>0.5</td>\n",
       "    </tr>\n",
       "    <tr>\n",
       "      <th>3663552</th>\n",
       "      <td>0.5</td>\n",
       "    </tr>\n",
       "    <tr>\n",
       "      <th>3663553</th>\n",
       "      <td>0.5</td>\n",
       "    </tr>\n",
       "    <tr>\n",
       "      <th>3663554</th>\n",
       "      <td>0.5</td>\n",
       "    </tr>\n",
       "    <tr>\n",
       "      <th>3663555</th>\n",
       "      <td>0.5</td>\n",
       "    </tr>\n",
       "    <tr>\n",
       "      <th>3663556</th>\n",
       "      <td>0.5</td>\n",
       "    </tr>\n",
       "    <tr>\n",
       "      <th>3663557</th>\n",
       "      <td>0.5</td>\n",
       "    </tr>\n",
       "    <tr>\n",
       "      <th>3663558</th>\n",
       "      <td>0.5</td>\n",
       "    </tr>\n",
       "    <tr>\n",
       "      <th>3663559</th>\n",
       "      <td>0.5</td>\n",
       "    </tr>\n",
       "    <tr>\n",
       "      <th>3663560</th>\n",
       "      <td>0.5</td>\n",
       "    </tr>\n",
       "    <tr>\n",
       "      <th>3663561</th>\n",
       "      <td>0.5</td>\n",
       "    </tr>\n",
       "    <tr>\n",
       "      <th>3663562</th>\n",
       "      <td>0.5</td>\n",
       "    </tr>\n",
       "    <tr>\n",
       "      <th>3663563</th>\n",
       "      <td>0.5</td>\n",
       "    </tr>\n",
       "    <tr>\n",
       "      <th>3663564</th>\n",
       "      <td>0.5</td>\n",
       "    </tr>\n",
       "    <tr>\n",
       "      <th>3663565</th>\n",
       "      <td>0.5</td>\n",
       "    </tr>\n",
       "    <tr>\n",
       "      <th>3663566</th>\n",
       "      <td>0.5</td>\n",
       "    </tr>\n",
       "    <tr>\n",
       "      <th>3663567</th>\n",
       "      <td>0.5</td>\n",
       "    </tr>\n",
       "    <tr>\n",
       "      <th>3663568</th>\n",
       "      <td>0.5</td>\n",
       "    </tr>\n",
       "    <tr>\n",
       "      <th>3663569</th>\n",
       "      <td>0.5</td>\n",
       "    </tr>\n",
       "    <tr>\n",
       "      <th>3663570</th>\n",
       "      <td>0.5</td>\n",
       "    </tr>\n",
       "    <tr>\n",
       "      <th>3663571</th>\n",
       "      <td>0.5</td>\n",
       "    </tr>\n",
       "    <tr>\n",
       "      <th>3663572</th>\n",
       "      <td>0.5</td>\n",
       "    </tr>\n",
       "    <tr>\n",
       "      <th>3663573</th>\n",
       "      <td>0.5</td>\n",
       "    </tr>\n",
       "    <tr>\n",
       "      <th>3663574</th>\n",
       "      <td>0.5</td>\n",
       "    </tr>\n",
       "    <tr>\n",
       "      <th>3663575</th>\n",
       "      <td>0.5</td>\n",
       "    </tr>\n",
       "    <tr>\n",
       "      <th>3663576</th>\n",
       "      <td>0.5</td>\n",
       "    </tr>\n",
       "    <tr>\n",
       "      <th>3663577</th>\n",
       "      <td>0.5</td>\n",
       "    </tr>\n",
       "    <tr>\n",
       "      <th>3663578</th>\n",
       "      <td>0.5</td>\n",
       "    </tr>\n",
       "    <tr>\n",
       "      <th>...</th>\n",
       "      <td>...</td>\n",
       "    </tr>\n",
       "    <tr>\n",
       "      <th>4170210</th>\n",
       "      <td>0.5</td>\n",
       "    </tr>\n",
       "    <tr>\n",
       "      <th>4170211</th>\n",
       "      <td>0.5</td>\n",
       "    </tr>\n",
       "    <tr>\n",
       "      <th>4170212</th>\n",
       "      <td>0.5</td>\n",
       "    </tr>\n",
       "    <tr>\n",
       "      <th>4170213</th>\n",
       "      <td>0.5</td>\n",
       "    </tr>\n",
       "    <tr>\n",
       "      <th>4170214</th>\n",
       "      <td>0.5</td>\n",
       "    </tr>\n",
       "    <tr>\n",
       "      <th>4170215</th>\n",
       "      <td>0.5</td>\n",
       "    </tr>\n",
       "    <tr>\n",
       "      <th>4170216</th>\n",
       "      <td>0.5</td>\n",
       "    </tr>\n",
       "    <tr>\n",
       "      <th>4170217</th>\n",
       "      <td>0.5</td>\n",
       "    </tr>\n",
       "    <tr>\n",
       "      <th>4170218</th>\n",
       "      <td>0.5</td>\n",
       "    </tr>\n",
       "    <tr>\n",
       "      <th>4170219</th>\n",
       "      <td>0.5</td>\n",
       "    </tr>\n",
       "    <tr>\n",
       "      <th>4170220</th>\n",
       "      <td>0.5</td>\n",
       "    </tr>\n",
       "    <tr>\n",
       "      <th>4170221</th>\n",
       "      <td>0.5</td>\n",
       "    </tr>\n",
       "    <tr>\n",
       "      <th>4170222</th>\n",
       "      <td>0.5</td>\n",
       "    </tr>\n",
       "    <tr>\n",
       "      <th>4170223</th>\n",
       "      <td>0.5</td>\n",
       "    </tr>\n",
       "    <tr>\n",
       "      <th>4170224</th>\n",
       "      <td>0.5</td>\n",
       "    </tr>\n",
       "    <tr>\n",
       "      <th>4170225</th>\n",
       "      <td>0.5</td>\n",
       "    </tr>\n",
       "    <tr>\n",
       "      <th>4170226</th>\n",
       "      <td>0.5</td>\n",
       "    </tr>\n",
       "    <tr>\n",
       "      <th>4170227</th>\n",
       "      <td>0.5</td>\n",
       "    </tr>\n",
       "    <tr>\n",
       "      <th>4170228</th>\n",
       "      <td>0.5</td>\n",
       "    </tr>\n",
       "    <tr>\n",
       "      <th>4170229</th>\n",
       "      <td>0.5</td>\n",
       "    </tr>\n",
       "    <tr>\n",
       "      <th>4170230</th>\n",
       "      <td>0.5</td>\n",
       "    </tr>\n",
       "    <tr>\n",
       "      <th>4170231</th>\n",
       "      <td>0.5</td>\n",
       "    </tr>\n",
       "    <tr>\n",
       "      <th>4170232</th>\n",
       "      <td>0.5</td>\n",
       "    </tr>\n",
       "    <tr>\n",
       "      <th>4170233</th>\n",
       "      <td>0.5</td>\n",
       "    </tr>\n",
       "    <tr>\n",
       "      <th>4170234</th>\n",
       "      <td>0.5</td>\n",
       "    </tr>\n",
       "    <tr>\n",
       "      <th>4170235</th>\n",
       "      <td>0.5</td>\n",
       "    </tr>\n",
       "    <tr>\n",
       "      <th>4170236</th>\n",
       "      <td>0.5</td>\n",
       "    </tr>\n",
       "    <tr>\n",
       "      <th>4170237</th>\n",
       "      <td>0.5</td>\n",
       "    </tr>\n",
       "    <tr>\n",
       "      <th>4170238</th>\n",
       "      <td>0.5</td>\n",
       "    </tr>\n",
       "    <tr>\n",
       "      <th>4170239</th>\n",
       "      <td>0.5</td>\n",
       "    </tr>\n",
       "  </tbody>\n",
       "</table>\n",
       "<p>506691 rows × 1 columns</p>\n",
       "</div>"
      ],
      "text/plain": [
       "               isFraud\n",
       "TransactionID         \n",
       "3663549            0.5\n",
       "3663550            0.5\n",
       "3663551            0.5\n",
       "3663552            0.5\n",
       "3663553            0.5\n",
       "...                ...\n",
       "4170235            0.5\n",
       "4170236            0.5\n",
       "4170237            0.5\n",
       "4170238            0.5\n",
       "4170239            0.5\n",
       "\n",
       "[506691 rows x 1 columns]"
      ]
     },
     "execution_count": 36,
     "metadata": {},
     "output_type": "execute_result"
    }
   ],
   "source": [
    "sample_submission"
   ]
  },
  {
   "cell_type": "code",
   "execution_count": 28,
   "metadata": {
    "ExecuteTime": {
     "end_time": "2019-09-17T18:27:33.729036Z",
     "start_time": "2019-09-17T18:27:33.610034Z"
    }
   },
   "outputs": [],
   "source": [
    "# train_pos = train[train['isFraud']==1]\n",
    "# train_neg = train[train['isFraud']==0]\n",
    "\n",
    "# train_neg = train_neg.sample(int(train.shape[0] * 0.2), random_state=0)\n",
    "\n",
    "# d = pd.concat([train_pos,train_neg]).sort_index()\n",
    "\n",
    "# d.drop('isFraud', axis=1, inplace=True)\n",
    "\n",
    "# del train_pos, train_neg\n",
    "# gc.collect()"
   ]
  },
  {
   "cell_type": "code",
   "execution_count": 27,
   "metadata": {
    "ExecuteTime": {
     "end_time": "2019-09-17T18:27:32.757050Z",
     "start_time": "2019-09-17T18:27:32.637049Z"
    }
   },
   "outputs": [],
   "source": [
    "# print(d.shape, test.shape)"
   ]
  },
  {
   "cell_type": "code",
   "execution_count": 25,
   "metadata": {
    "ExecuteTime": {
     "end_time": "2019-09-17T11:37:04.749474Z",
     "start_time": "2019-09-17T11:36:53.381260Z"
    }
   },
   "outputs": [],
   "source": [
    "# train_pos = X[X['isFraud']==1]\n",
    "# train_neg = X[X['isFraud']==0]\n",
    "\n",
    "# train_neg = train_neg.sample(int(X.shape[0] * 0.2), random_state=0)\n",
    "\n",
    "# dall = pd.concat([train_pos,train_neg]).sort_index()\n",
    "\n",
    "# del train_pos, train_neg\n",
    "# gc.collect()"
   ]
  },
  {
   "cell_type": "code",
   "execution_count": 26,
   "metadata": {
    "ExecuteTime": {
     "end_time": "2019-09-17T11:37:13.790364Z",
     "start_time": "2019-09-17T11:37:11.910782Z"
    }
   },
   "outputs": [],
   "source": [
    "# dall.replace(-999, np.nan, inplace=True)\n",
    "# dall.replace(-9999, np.nan, inplace=True)\n",
    "# dall.replace(-99999, np.nan, inplace=True)\n",
    "# dall.replace(-999999, np.nan, inplace=True)\n",
    "# dall.replace(-np.inf, np.nan, inplace=True)\n",
    "# dall.replace(np.inf, np.nan, inplace=True)"
   ]
  },
  {
   "cell_type": "code",
   "execution_count": 34,
   "metadata": {
    "ExecuteTime": {
     "end_time": "2019-09-18T19:12:37.826927Z",
     "start_time": "2019-09-18T19:12:37.670928Z"
    },
    "code_folding": [],
    "scrolled": true
   },
   "outputs": [
    {
     "ename": "KeyError",
     "evalue": "\"['isFraud'] not in index\"",
     "output_type": "error",
     "traceback": [
      "\u001b[1;31m---------------------------------------------------------------------------\u001b[0m",
      "\u001b[1;31mKeyError\u001b[0m                                  Traceback (most recent call last)",
      "\u001b[1;32m<ipython-input-34-6230b1401773>\u001b[0m in \u001b[0;36m<module>\u001b[1;34m\u001b[0m\n\u001b[0;32m     37\u001b[0m                                              \u001b[0mn_estimators\u001b[0m\u001b[1;33m=\u001b[0m\u001b[0mtrain_options\u001b[0m\u001b[1;33m[\u001b[0m\u001b[1;34m'n_estimators'\u001b[0m\u001b[1;33m]\u001b[0m\u001b[1;33m,\u001b[0m\u001b[1;33m\u001b[0m\u001b[0m\n\u001b[0;32m     38\u001b[0m                                              \u001b[0maveraging\u001b[0m\u001b[1;33m=\u001b[0m\u001b[0mtrain_options\u001b[0m\u001b[1;33m[\u001b[0m\u001b[1;34m'averaging'\u001b[0m\u001b[1;33m]\u001b[0m\u001b[1;33m,\u001b[0m\u001b[1;33m\u001b[0m\u001b[0m\n\u001b[1;32m---> 39\u001b[1;33m                                              n_jobs=-1, groups=None)\n\u001b[0m",
      "\u001b[1;32mf:\\my\\Prog\\kaggle\\Baydin\\BayDS\\lib\\training\\third_party.py\u001b[0m in \u001b[0;36mtrain_model_classification\u001b[1;34m(X, X_test, y, params, folds, model_type, eval_metric, columns, plot_feature_importance, model, verbose, early_stopping_rounds, n_estimators, splits, averaging, n_jobs, groups)\u001b[0m\n\u001b[0;32m     96\u001b[0m     \u001b[0mn_splits\u001b[0m \u001b[1;33m=\u001b[0m \u001b[0mfolds\u001b[0m\u001b[1;33m.\u001b[0m\u001b[0mn_splits\u001b[0m \u001b[1;32mif\u001b[0m \u001b[0msplits\u001b[0m \u001b[1;32mis\u001b[0m \u001b[1;32mNone\u001b[0m \u001b[1;32melse\u001b[0m \u001b[0msplits\u001b[0m\u001b[1;33m\u001b[0m\u001b[0m\n\u001b[0;32m     97\u001b[0m     \u001b[1;32mif\u001b[0m \u001b[0mX_test\u001b[0m \u001b[1;32mis\u001b[0m \u001b[1;32mnot\u001b[0m \u001b[1;32mNone\u001b[0m\u001b[1;33m:\u001b[0m\u001b[1;33m\u001b[0m\u001b[0m\n\u001b[1;32m---> 98\u001b[1;33m         \u001b[0mX_test\u001b[0m \u001b[1;33m=\u001b[0m \u001b[0mX_test\u001b[0m\u001b[1;33m[\u001b[0m\u001b[0mcolumns\u001b[0m\u001b[1;33m]\u001b[0m\u001b[1;33m\u001b[0m\u001b[0m\n\u001b[0m\u001b[0;32m     99\u001b[0m \u001b[1;33m\u001b[0m\u001b[0m\n\u001b[0;32m    100\u001b[0m     \u001b[1;31m# to set up scoring parameters\u001b[0m\u001b[1;33m\u001b[0m\u001b[1;33m\u001b[0m\u001b[0m\n",
      "\u001b[1;32mc:\\python36\\lib\\site-packages\\pandas\\core\\frame.py\u001b[0m in \u001b[0;36m__getitem__\u001b[1;34m(self, key)\u001b[0m\n\u001b[0;32m   2979\u001b[0m             \u001b[1;32mif\u001b[0m \u001b[0mis_iterator\u001b[0m\u001b[1;33m(\u001b[0m\u001b[0mkey\u001b[0m\u001b[1;33m)\u001b[0m\u001b[1;33m:\u001b[0m\u001b[1;33m\u001b[0m\u001b[0m\n\u001b[0;32m   2980\u001b[0m                 \u001b[0mkey\u001b[0m \u001b[1;33m=\u001b[0m \u001b[0mlist\u001b[0m\u001b[1;33m(\u001b[0m\u001b[0mkey\u001b[0m\u001b[1;33m)\u001b[0m\u001b[1;33m\u001b[0m\u001b[0m\n\u001b[1;32m-> 2981\u001b[1;33m             \u001b[0mindexer\u001b[0m \u001b[1;33m=\u001b[0m \u001b[0mself\u001b[0m\u001b[1;33m.\u001b[0m\u001b[0mloc\u001b[0m\u001b[1;33m.\u001b[0m\u001b[0m_convert_to_indexer\u001b[0m\u001b[1;33m(\u001b[0m\u001b[0mkey\u001b[0m\u001b[1;33m,\u001b[0m \u001b[0maxis\u001b[0m\u001b[1;33m=\u001b[0m\u001b[1;36m1\u001b[0m\u001b[1;33m,\u001b[0m \u001b[0mraise_missing\u001b[0m\u001b[1;33m=\u001b[0m\u001b[1;32mTrue\u001b[0m\u001b[1;33m)\u001b[0m\u001b[1;33m\u001b[0m\u001b[0m\n\u001b[0m\u001b[0;32m   2982\u001b[0m \u001b[1;33m\u001b[0m\u001b[0m\n\u001b[0;32m   2983\u001b[0m         \u001b[1;31m# take() does not accept boolean indexers\u001b[0m\u001b[1;33m\u001b[0m\u001b[1;33m\u001b[0m\u001b[0m\n",
      "\u001b[1;32mc:\\python36\\lib\\site-packages\\pandas\\core\\indexing.py\u001b[0m in \u001b[0;36m_convert_to_indexer\u001b[1;34m(self, obj, axis, is_setter, raise_missing)\u001b[0m\n\u001b[0;32m   1269\u001b[0m                 \u001b[1;31m# When setting, missing keys are not allowed, even with .loc:\u001b[0m\u001b[1;33m\u001b[0m\u001b[1;33m\u001b[0m\u001b[0m\n\u001b[0;32m   1270\u001b[0m                 \u001b[0mkwargs\u001b[0m \u001b[1;33m=\u001b[0m \u001b[1;33m{\u001b[0m\u001b[1;34m\"raise_missing\"\u001b[0m\u001b[1;33m:\u001b[0m \u001b[1;32mTrue\u001b[0m \u001b[1;32mif\u001b[0m \u001b[0mis_setter\u001b[0m \u001b[1;32melse\u001b[0m \u001b[0mraise_missing\u001b[0m\u001b[1;33m}\u001b[0m\u001b[1;33m\u001b[0m\u001b[0m\n\u001b[1;32m-> 1271\u001b[1;33m                 \u001b[1;32mreturn\u001b[0m \u001b[0mself\u001b[0m\u001b[1;33m.\u001b[0m\u001b[0m_get_listlike_indexer\u001b[0m\u001b[1;33m(\u001b[0m\u001b[0mobj\u001b[0m\u001b[1;33m,\u001b[0m \u001b[0maxis\u001b[0m\u001b[1;33m,\u001b[0m \u001b[1;33m**\u001b[0m\u001b[0mkwargs\u001b[0m\u001b[1;33m)\u001b[0m\u001b[1;33m[\u001b[0m\u001b[1;36m1\u001b[0m\u001b[1;33m]\u001b[0m\u001b[1;33m\u001b[0m\u001b[0m\n\u001b[0m\u001b[0;32m   1272\u001b[0m         \u001b[1;32melse\u001b[0m\u001b[1;33m:\u001b[0m\u001b[1;33m\u001b[0m\u001b[0m\n\u001b[0;32m   1273\u001b[0m             \u001b[1;32mtry\u001b[0m\u001b[1;33m:\u001b[0m\u001b[1;33m\u001b[0m\u001b[0m\n",
      "\u001b[1;32mc:\\python36\\lib\\site-packages\\pandas\\core\\indexing.py\u001b[0m in \u001b[0;36m_get_listlike_indexer\u001b[1;34m(self, key, axis, raise_missing)\u001b[0m\n\u001b[0;32m   1076\u001b[0m \u001b[1;33m\u001b[0m\u001b[0m\n\u001b[0;32m   1077\u001b[0m         self._validate_read_indexer(\n\u001b[1;32m-> 1078\u001b[1;33m             \u001b[0mkeyarr\u001b[0m\u001b[1;33m,\u001b[0m \u001b[0mindexer\u001b[0m\u001b[1;33m,\u001b[0m \u001b[0mo\u001b[0m\u001b[1;33m.\u001b[0m\u001b[0m_get_axis_number\u001b[0m\u001b[1;33m(\u001b[0m\u001b[0maxis\u001b[0m\u001b[1;33m)\u001b[0m\u001b[1;33m,\u001b[0m \u001b[0mraise_missing\u001b[0m\u001b[1;33m=\u001b[0m\u001b[0mraise_missing\u001b[0m\u001b[1;33m\u001b[0m\u001b[0m\n\u001b[0m\u001b[0;32m   1079\u001b[0m         )\n\u001b[0;32m   1080\u001b[0m         \u001b[1;32mreturn\u001b[0m \u001b[0mkeyarr\u001b[0m\u001b[1;33m,\u001b[0m \u001b[0mindexer\u001b[0m\u001b[1;33m\u001b[0m\u001b[0m\n",
      "\u001b[1;32mc:\\python36\\lib\\site-packages\\pandas\\core\\indexing.py\u001b[0m in \u001b[0;36m_validate_read_indexer\u001b[1;34m(self, key, indexer, axis, raise_missing)\u001b[0m\n\u001b[0;32m   1169\u001b[0m             \u001b[1;32mif\u001b[0m \u001b[1;32mnot\u001b[0m \u001b[1;33m(\u001b[0m\u001b[0mself\u001b[0m\u001b[1;33m.\u001b[0m\u001b[0mname\u001b[0m \u001b[1;33m==\u001b[0m \u001b[1;34m\"loc\"\u001b[0m \u001b[1;32mand\u001b[0m \u001b[1;32mnot\u001b[0m \u001b[0mraise_missing\u001b[0m\u001b[1;33m)\u001b[0m\u001b[1;33m:\u001b[0m\u001b[1;33m\u001b[0m\u001b[0m\n\u001b[0;32m   1170\u001b[0m                 \u001b[0mnot_found\u001b[0m \u001b[1;33m=\u001b[0m \u001b[0mlist\u001b[0m\u001b[1;33m(\u001b[0m\u001b[0mset\u001b[0m\u001b[1;33m(\u001b[0m\u001b[0mkey\u001b[0m\u001b[1;33m)\u001b[0m \u001b[1;33m-\u001b[0m \u001b[0mset\u001b[0m\u001b[1;33m(\u001b[0m\u001b[0max\u001b[0m\u001b[1;33m)\u001b[0m\u001b[1;33m)\u001b[0m\u001b[1;33m\u001b[0m\u001b[0m\n\u001b[1;32m-> 1171\u001b[1;33m                 \u001b[1;32mraise\u001b[0m \u001b[0mKeyError\u001b[0m\u001b[1;33m(\u001b[0m\u001b[1;34m\"{} not in index\"\u001b[0m\u001b[1;33m.\u001b[0m\u001b[0mformat\u001b[0m\u001b[1;33m(\u001b[0m\u001b[0mnot_found\u001b[0m\u001b[1;33m)\u001b[0m\u001b[1;33m)\u001b[0m\u001b[1;33m\u001b[0m\u001b[0m\n\u001b[0m\u001b[0;32m   1172\u001b[0m \u001b[1;33m\u001b[0m\u001b[0m\n\u001b[0;32m   1173\u001b[0m             \u001b[1;31m# we skip the warning on Categorical/Interval\u001b[0m\u001b[1;33m\u001b[0m\u001b[1;33m\u001b[0m\u001b[0m\n",
      "\u001b[1;31mKeyError\u001b[0m: \"['isFraud'] not in index\""
     ]
    }
   ],
   "source": [
    "params = {'num_leaves': 491,\n",
    "          'min_child_weight': 0.03454472573214212,\n",
    "          'feature_fraction': 0.3797454081646243,\n",
    "          'bagging_fraction': 0.4181193142567742,\n",
    "          'min_data_in_leaf': 106,\n",
    "\n",
    "          'objective': 'binary',\n",
    "          'max_depth': -1,\n",
    "          'learning_rate': 0.006883242363721497,\n",
    "          \"boosting_type\": \"gbdt\",\n",
    "          \"bagging_seed\": 11,\n",
    "          \"metric\": 'auc',\n",
    "          \"verbosity\": -1,\n",
    "          'reg_alpha': 0.3899927210061127,\n",
    "          'reg_lambda': 0.6485237330340494,\n",
    "          'random_state': 47, \n",
    "         }\n",
    "\n",
    "n_fold = 5\n",
    "folds = KFold(n_splits=n_fold)\n",
    "train_options = {\n",
    "    \"model_type\":'lgb',\n",
    "    \"params\": params,\n",
    "    \"eval_metric\":'auc',\n",
    "    'early_stopping_rounds': 200,\n",
    "    'n_estimators': 10000,\n",
    "    'averaging': 'usual',\n",
    "    'use_groups': False,\n",
    "    'fold_name': folds.__class__.__name__,\n",
    "    'n_splits': n_fold}\n",
    "\n",
    "result_dict_lgb = train_model_classification(X=X, X_test=test, y=y, params=params, folds=folds,\n",
    "                                             model_type=train_options['model_type'], \n",
    "                                             eval_metric=train_options['eval_metric'],\n",
    "                                             plot_feature_importance=True,\n",
    "                                             verbose=500, early_stopping_rounds=train_options['early_stopping_rounds'],\n",
    "                                             n_estimators=train_options['n_estimators'], \n",
    "                                             averaging=train_options['averaging'],\n",
    "                                             n_jobs=-1, groups=None)"
   ]
  },
  {
   "cell_type": "code",
   "execution_count": 30,
   "metadata": {
    "ExecuteTime": {
     "end_time": "2019-09-17T19:20:44.532676Z",
     "start_time": "2019-09-17T19:20:42.274661Z"
    },
    "scrolled": true
   },
   "outputs": [],
   "source": [
    "pd.DataFrame(result_dict_lgb['prediction'], columns=['isFraud'], index=test.index).to_csv('lgb_9469+new_feats_preds.csv')"
   ]
  },
  {
   "cell_type": "code",
   "execution_count": 29,
   "metadata": {
    "ExecuteTime": {
     "end_time": "2019-09-17T15:48:18.499926Z",
     "start_time": "2019-09-17T15:26:51.748578Z"
    },
    "code_folding": [
     19
    ],
    "scrolled": true
   },
   "outputs": [
    {
     "ename": "NameError",
     "evalue": "name 'train_model_classification' is not defined",
     "output_type": "error",
     "traceback": [
      "\u001b[0;31m---------------------------------------------------------------------------\u001b[0m",
      "\u001b[0;31mNameError\u001b[0m                                 Traceback (most recent call last)",
      "\u001b[0;32m<ipython-input-29-6963951c54cf>\u001b[0m in \u001b[0;36m<module>\u001b[0;34m\u001b[0m\n\u001b[1;32m     28\u001b[0m     \u001b[0;34m'fold_name'\u001b[0m\u001b[0;34m:\u001b[0m \u001b[0mfolds\u001b[0m\u001b[0;34m.\u001b[0m\u001b[0m__class__\u001b[0m\u001b[0;34m.\u001b[0m\u001b[0m__name__\u001b[0m\u001b[0;34m,\u001b[0m\u001b[0;34m\u001b[0m\u001b[0m\n\u001b[1;32m     29\u001b[0m     'n_splits': n_fold}\n\u001b[0;32m---> 30\u001b[0;31m result_dict_lgb_after_rfe2 = train_model_classification(X=d[[x for x in d.columns if x not in col_del]], \n\u001b[0m\u001b[1;32m     31\u001b[0m                                                         \u001b[0mX_test\u001b[0m\u001b[0;34m=\u001b[0m\u001b[0mtest\u001b[0m\u001b[0;34m[\u001b[0m\u001b[0;34m[\u001b[0m\u001b[0mx\u001b[0m \u001b[0;32mfor\u001b[0m \u001b[0mx\u001b[0m \u001b[0;32min\u001b[0m \u001b[0md\u001b[0m\u001b[0;34m.\u001b[0m\u001b[0mcolumns\u001b[0m \u001b[0;32mif\u001b[0m \u001b[0mx\u001b[0m \u001b[0;32mnot\u001b[0m \u001b[0;32min\u001b[0m \u001b[0mcol_del\u001b[0m\u001b[0;34m]\u001b[0m\u001b[0;34m]\u001b[0m\u001b[0;34m,\u001b[0m\u001b[0;34m\u001b[0m\u001b[0m\n\u001b[1;32m     32\u001b[0m                                                         \u001b[0my\u001b[0m\u001b[0;34m=\u001b[0m\u001b[0my\u001b[0m\u001b[0;34m.\u001b[0m\u001b[0mloc\u001b[0m\u001b[0;34m[\u001b[0m\u001b[0md\u001b[0m\u001b[0;34m.\u001b[0m\u001b[0mindex\u001b[0m\u001b[0;34m]\u001b[0m\u001b[0;34m,\u001b[0m \u001b[0mparams\u001b[0m\u001b[0;34m=\u001b[0m\u001b[0mparams\u001b[0m\u001b[0;34m,\u001b[0m \u001b[0mfolds\u001b[0m\u001b[0;34m=\u001b[0m\u001b[0mfolds\u001b[0m\u001b[0;34m,\u001b[0m\u001b[0;34m\u001b[0m\u001b[0m\n",
      "\u001b[0;31mNameError\u001b[0m: name 'train_model_classification' is not defined"
     ]
    }
   ],
   "source": [
    "params = {'num_leaves': 491,\n",
    "          'min_child_weight': 3,\n",
    "          'feature_fraction': 0.3797454081646243,\n",
    "          'bagging_fraction': 0.4181193142567742,\n",
    "          'min_data_in_leaf': 106,\n",
    "          'objective': 'binary',\n",
    "          'max_depth': 20,\n",
    "          'learning_rate': 0.006883242363721497,\n",
    "          \"boosting_type\": \"gbdt\",\n",
    "          \"bagging_seed\": 11,\n",
    "          \"metric\": 'auc',\n",
    "          \"verbosity\": -1,\n",
    "          'reg_alpha': 0.3899927210061127,\n",
    "          'reg_lambda': 0.6485237330340494,\n",
    "          'random_state': 47, \n",
    "         }\n",
    "\n",
    "n_fold = 5\n",
    "folds = KFold(n_splits=n_fold)\n",
    "train_options = {\n",
    "    \"model_type\":'lgb',\n",
    "    \"params\": params,\n",
    "    \"eval_metric\":'auc',\n",
    "    'early_stopping_rounds': 200,\n",
    "    'n_estimators': 1500,\n",
    "    'averaging': 'usual',\n",
    "    'use_groups': False,\n",
    "    'fold_name': folds.__class__.__name__,\n",
    "    'n_splits': n_fold}\n",
    "result_dict_lgb_after_rfe2 = train_model_classification(X=d[[x for x in d.columns if x not in col_del]], \n",
    "                                                        X_test=test[[x for x in d.columns if x not in col_del]], \n",
    "                                                        y=y.loc[d.index], params=params, folds=folds,\n",
    "                                             model_type=train_options['model_type'], \n",
    "                                             eval_metric=train_options['eval_metric'],\n",
    "                                             plot_feature_importance=True,\n",
    "                                             verbose=500, early_stopping_rounds=train_options['early_stopping_rounds'],\n",
    "                                             n_estimators=train_options['n_estimators'], \n",
    "                                             averaging=train_options['averaging'],\n",
    "                                             n_jobs=10, groups=None)"
   ]
  },
  {
   "cell_type": "code",
   "execution_count": 30,
   "metadata": {
    "ExecuteTime": {
     "end_time": "2019-09-17T15:48:23.526924Z",
     "start_time": "2019-09-17T15:48:21.876244Z"
    }
   },
   "outputs": [
    {
     "ename": "NameError",
     "evalue": "name 'result_dict_lgb_after_rfe2' is not defined",
     "output_type": "error",
     "traceback": [
      "\u001b[0;31m---------------------------------------------------------------------------\u001b[0m",
      "\u001b[0;31mNameError\u001b[0m                                 Traceback (most recent call last)",
      "\u001b[0;32m<ipython-input-30-eca2708d6d39>\u001b[0m in \u001b[0;36m<module>\u001b[0;34m\u001b[0m\n\u001b[0;32m----> 1\u001b[0;31m \u001b[0mpd\u001b[0m\u001b[0;34m.\u001b[0m\u001b[0mDataFrame\u001b[0m\u001b[0;34m(\u001b[0m\u001b[0mresult_dict_lgb_after_rfe2\u001b[0m\u001b[0;34m[\u001b[0m\u001b[0;34m'prediction'\u001b[0m\u001b[0;34m]\u001b[0m\u001b[0;34m,\u001b[0m \u001b[0mcolumns\u001b[0m\u001b[0;34m=\u001b[0m\u001b[0;34m[\u001b[0m\u001b[0;34m'isFraud'\u001b[0m\u001b[0;34m]\u001b[0m\u001b[0;34m,\u001b[0m \u001b[0mindex\u001b[0m\u001b[0;34m=\u001b[0m\u001b[0mtest\u001b[0m\u001b[0;34m.\u001b[0m\u001b[0mindex\u001b[0m\u001b[0;34m)\u001b[0m\u001b[0;34m.\u001b[0m\u001b[0mto_csv\u001b[0m\u001b[0;34m(\u001b[0m\u001b[0;34m'lgb_downsample_9469+new_feats_+col_del_preds.csv'\u001b[0m\u001b[0;34m)\u001b[0m\u001b[0;34m\u001b[0m\u001b[0m\n\u001b[0m",
      "\u001b[0;31mNameError\u001b[0m: name 'result_dict_lgb_after_rfe2' is not defined"
     ]
    }
   ],
   "source": [
    "pd.DataFrame(result_dict_lgb_after_rfe2['prediction'], columns=['isFraud'], index=test.index).to_csv('lgb_downsample_9469+new_feats_+col_del_preds.csv')"
   ]
  },
  {
   "cell_type": "code",
   "execution_count": 31,
   "metadata": {
    "ExecuteTime": {
     "end_time": "2019-09-17T16:14:18.673363Z",
     "start_time": "2019-09-17T15:51:02.941673Z"
    }
   },
   "outputs": [
    {
     "ename": "NameError",
     "evalue": "name 'train_model_classification' is not defined",
     "output_type": "error",
     "traceback": [
      "\u001b[0;31m---------------------------------------------------------------------------\u001b[0m",
      "\u001b[0;31mNameError\u001b[0m                                 Traceback (most recent call last)",
      "\u001b[0;32m<ipython-input-31-2298248fd2d8>\u001b[0m in \u001b[0;36m<module>\u001b[0;34m\u001b[0m\n\u001b[1;32m     28\u001b[0m     \u001b[0;34m'fold_name'\u001b[0m\u001b[0;34m:\u001b[0m \u001b[0mfolds\u001b[0m\u001b[0;34m.\u001b[0m\u001b[0m__class__\u001b[0m\u001b[0;34m.\u001b[0m\u001b[0m__name__\u001b[0m\u001b[0;34m,\u001b[0m\u001b[0;34m\u001b[0m\u001b[0m\n\u001b[1;32m     29\u001b[0m     'n_splits': n_fold}\n\u001b[0;32m---> 30\u001b[0;31m result_dict_lgb_after_rfe3 = train_model_classification(X=dall[[x for x in dall.columns if x not in 'TransactionDT']], \n\u001b[0m\u001b[1;32m     31\u001b[0m                                                         \u001b[0mX_test\u001b[0m\u001b[0;34m=\u001b[0m\u001b[0mtestall\u001b[0m\u001b[0;34m[\u001b[0m\u001b[0;34m[\u001b[0m\u001b[0mx\u001b[0m \u001b[0;32mfor\u001b[0m \u001b[0mx\u001b[0m \u001b[0;32min\u001b[0m \u001b[0mdall\u001b[0m\u001b[0;34m.\u001b[0m\u001b[0mcolumns\u001b[0m \u001b[0;32mif\u001b[0m \u001b[0mx\u001b[0m \u001b[0;32mnot\u001b[0m \u001b[0;32min\u001b[0m \u001b[0;34m'TransactionDT'\u001b[0m\u001b[0;34m]\u001b[0m\u001b[0;34m]\u001b[0m\u001b[0;34m,\u001b[0m\u001b[0;34m\u001b[0m\u001b[0m\n\u001b[1;32m     32\u001b[0m                                                         \u001b[0my\u001b[0m\u001b[0;34m=\u001b[0m\u001b[0my\u001b[0m\u001b[0;34m.\u001b[0m\u001b[0mloc\u001b[0m\u001b[0;34m[\u001b[0m\u001b[0mdall\u001b[0m\u001b[0;34m.\u001b[0m\u001b[0mindex\u001b[0m\u001b[0;34m]\u001b[0m\u001b[0;34m,\u001b[0m \u001b[0mparams\u001b[0m\u001b[0;34m=\u001b[0m\u001b[0mparams\u001b[0m\u001b[0;34m,\u001b[0m \u001b[0mfolds\u001b[0m\u001b[0;34m=\u001b[0m\u001b[0mfolds\u001b[0m\u001b[0;34m,\u001b[0m\u001b[0;34m\u001b[0m\u001b[0m\n",
      "\u001b[0;31mNameError\u001b[0m: name 'train_model_classification' is not defined"
     ]
    }
   ],
   "source": [
    "params = {'num_leaves': 491,\n",
    "          'min_child_weight': 30,\n",
    "          'feature_fraction': 0.9,\n",
    "          'bagging_fraction': 0.9,\n",
    "          'min_data_in_leaf': 50,\n",
    "          'objective': 'binary',\n",
    "          'max_depth': 15,\n",
    "          'learning_rate': 0.05,\n",
    "          \"boosting_type\": \"gbdt\",\n",
    "          \"bagging_seed\": 11,\n",
    "          \"metric\": 'auc',\n",
    "          \"verbosity\": -1,\n",
    "          'reg_alpha': 0.3899927210061127,\n",
    "          'reg_lambda': 0.6485237330340494,\n",
    "          'random_state': 47, \n",
    "         }\n",
    "\n",
    "n_fold = 5\n",
    "folds = KFold(n_splits=n_fold)\n",
    "train_options = {\n",
    "    \"model_type\":'lgb',\n",
    "    \"params\": params,\n",
    "    \"eval_metric\":'auc',\n",
    "    'early_stopping_rounds': 200,\n",
    "    'n_estimators': 1500,\n",
    "    'averaging': 'usual',\n",
    "    'use_groups': False,\n",
    "    'fold_name': folds.__class__.__name__,\n",
    "    'n_splits': n_fold}\n",
    "result_dict_lgb_after_rfe3 = train_model_classification(X=dall[[x for x in dall.columns if x not in 'TransactionDT']], \n",
    "                                                        X_test=testall[[x for x in dall.columns if x not in 'TransactionDT']], \n",
    "                                                        y=y.loc[dall.index], params=params, folds=folds,\n",
    "                                                     model_type=train_options['model_type'], \n",
    "                                                     eval_metric=train_options['eval_metric'],\n",
    "                                                     plot_feature_importance=True,\n",
    "                                                     verbose=500, early_stopping_rounds=train_options['early_stopping_rounds'],\n",
    "                                                     n_estimators=train_options['n_estimators'], \n",
    "                                                     averaging=train_options['averaging'],\n",
    "                                                     n_jobs=10, groups=None)"
   ]
  },
  {
   "cell_type": "code",
   "execution_count": 32,
   "metadata": {
    "ExecuteTime": {
     "end_time": "2019-09-17T16:14:31.682185Z",
     "start_time": "2019-09-17T16:14:29.916216Z"
    }
   },
   "outputs": [
    {
     "ename": "NameError",
     "evalue": "name 'result_dict_lgb_after_rfe3' is not defined",
     "output_type": "error",
     "traceback": [
      "\u001b[0;31m---------------------------------------------------------------------------\u001b[0m",
      "\u001b[0;31mNameError\u001b[0m                                 Traceback (most recent call last)",
      "\u001b[0;32m<ipython-input-32-126ee79e0979>\u001b[0m in \u001b[0;36m<module>\u001b[0;34m\u001b[0m\n\u001b[0;32m----> 1\u001b[0;31m \u001b[0mpd\u001b[0m\u001b[0;34m.\u001b[0m\u001b[0mDataFrame\u001b[0m\u001b[0;34m(\u001b[0m\u001b[0mresult_dict_lgb_after_rfe3\u001b[0m\u001b[0;34m[\u001b[0m\u001b[0;34m'prediction'\u001b[0m\u001b[0;34m]\u001b[0m\u001b[0;34m,\u001b[0m \u001b[0mcolumns\u001b[0m\u001b[0;34m=\u001b[0m\u001b[0;34m[\u001b[0m\u001b[0;34m'isFraud'\u001b[0m\u001b[0;34m]\u001b[0m\u001b[0;34m,\u001b[0m \u001b[0mindex\u001b[0m\u001b[0;34m=\u001b[0m\u001b[0mtest\u001b[0m\u001b[0;34m.\u001b[0m\u001b[0mindex\u001b[0m\u001b[0;34m)\u001b[0m\u001b[0;34m.\u001b[0m\u001b[0mto_csv\u001b[0m\u001b[0;34m(\u001b[0m\u001b[0;34m'lgb_downsample_9469+all_aggs+new_feats_+col_del_preds.csv'\u001b[0m\u001b[0;34m)\u001b[0m\u001b[0;34m\u001b[0m\u001b[0m\n\u001b[0m",
      "\u001b[0;31mNameError\u001b[0m: name 'result_dict_lgb_after_rfe3' is not defined"
     ]
    }
   ],
   "source": [
    "pd.DataFrame(result_dict_lgb_after_rfe3['prediction'], columns=['isFraud'], index=test.index).to_csv('lgb_downsample_9469+all_aggs+new_feats_+col_del_preds.csv')"
   ]
  },
  {
   "cell_type": "code",
   "execution_count": 38,
   "metadata": {
    "ExecuteTime": {
     "end_time": "2019-09-17T16:17:56.773114Z",
     "start_time": "2019-09-17T16:17:54.851963Z"
    }
   },
   "outputs": [
    {
     "ename": "NameError",
     "evalue": "name 'sample_submission' is not defined",
     "output_type": "error",
     "traceback": [
      "\u001b[0;31m---------------------------------------------------------------------------\u001b[0m",
      "\u001b[0;31mNameError\u001b[0m                                 Traceback (most recent call last)",
      "\u001b[0;32m<ipython-input-38-e49486e11a0d>\u001b[0m in \u001b[0;36m<module>\u001b[0;34m\u001b[0m\n\u001b[0;32m----> 1\u001b[0;31m \u001b[0msample_submission\u001b[0m\u001b[0;34m.\u001b[0m\u001b[0mto_csv\u001b[0m\u001b[0;34m(\u001b[0m\u001b[0;34m'ensemble_lgb_17_09_05025.csv'\u001b[0m\u001b[0;34m)\u001b[0m\u001b[0;34m\u001b[0m\u001b[0m\n\u001b[0m",
      "\u001b[0;31mNameError\u001b[0m: name 'sample_submission' is not defined"
     ]
    }
   ],
   "source": [
    "sample_submission.to_csv('ensemble_lgb_17_09_05025.csv')"
   ]
  },
  {
   "cell_type": "code",
   "execution_count": null,
   "metadata": {},
   "outputs": [],
   "source": []
  },
  {
   "cell_type": "code",
   "execution_count": null,
   "metadata": {},
   "outputs": [],
   "source": []
  },
  {
   "cell_type": "code",
   "execution_count": null,
   "metadata": {},
   "outputs": [],
   "source": []
  },
  {
   "cell_type": "code",
   "execution_count": null,
   "metadata": {},
   "outputs": [],
   "source": []
  },
  {
   "cell_type": "code",
   "execution_count": null,
   "metadata": {},
   "outputs": [],
   "source": []
  },
  {
   "cell_type": "code",
   "execution_count": null,
   "metadata": {},
   "outputs": [],
   "source": []
  },
  {
   "cell_type": "code",
   "execution_count": null,
   "metadata": {},
   "outputs": [],
   "source": []
  },
  {
   "cell_type": "code",
   "execution_count": 39,
   "metadata": {
    "ExecuteTime": {
     "end_time": "2019-09-17T14:22:45.233295Z",
     "start_time": "2019-09-17T14:20:54.300406Z"
    },
    "scrolled": true
   },
   "outputs": [
    {
     "ename": "NameError",
     "evalue": "name 'train_model_classification' is not defined",
     "output_type": "error",
     "traceback": [
      "\u001b[0;31m---------------------------------------------------------------------------\u001b[0m",
      "\u001b[0;31mNameError\u001b[0m                                 Traceback (most recent call last)",
      "\u001b[0;32m<ipython-input-39-40f6c3d9f30a>\u001b[0m in \u001b[0;36m<module>\u001b[0;34m\u001b[0m\n\u001b[0;32m----> 1\u001b[0;31m result_dict_lgb_after_rfe = train_model_classification(X=d.drop([x for x in d.columns if '_ws' in x], axis=1), X_test=test.drop([x for x in d.columns if '_ws' in x], axis=1), y=y.loc[d.index], params=params, folds=folds,\n\u001b[0m\u001b[1;32m      2\u001b[0m                                              \u001b[0mmodel_type\u001b[0m\u001b[0;34m=\u001b[0m\u001b[0mtrain_options\u001b[0m\u001b[0;34m[\u001b[0m\u001b[0;34m'model_type'\u001b[0m\u001b[0;34m]\u001b[0m\u001b[0;34m,\u001b[0m\u001b[0;34m\u001b[0m\u001b[0m\n\u001b[1;32m      3\u001b[0m                                              \u001b[0meval_metric\u001b[0m\u001b[0;34m=\u001b[0m\u001b[0mtrain_options\u001b[0m\u001b[0;34m[\u001b[0m\u001b[0;34m'eval_metric'\u001b[0m\u001b[0;34m]\u001b[0m\u001b[0;34m,\u001b[0m\u001b[0;34m\u001b[0m\u001b[0m\n\u001b[1;32m      4\u001b[0m                                              \u001b[0mplot_feature_importance\u001b[0m\u001b[0;34m=\u001b[0m\u001b[0;32mTrue\u001b[0m\u001b[0;34m,\u001b[0m\u001b[0;34m\u001b[0m\u001b[0m\n\u001b[1;32m      5\u001b[0m                                              \u001b[0mverbose\u001b[0m\u001b[0;34m=\u001b[0m\u001b[0;36m500\u001b[0m\u001b[0;34m,\u001b[0m \u001b[0mearly_stopping_rounds\u001b[0m\u001b[0;34m=\u001b[0m\u001b[0mtrain_options\u001b[0m\u001b[0;34m[\u001b[0m\u001b[0;34m'early_stopping_rounds'\u001b[0m\u001b[0;34m]\u001b[0m\u001b[0;34m,\u001b[0m\u001b[0;34m\u001b[0m\u001b[0m\n",
      "\u001b[0;31mNameError\u001b[0m: name 'train_model_classification' is not defined"
     ]
    }
   ],
   "source": [
    "result_dict_lgb_after_rfe = train_model_classification(X=d.drop([x for x in d.columns if '_ws' in x], axis=1), X_test=test.drop([x for x in d.columns if '_ws' in x], axis=1), y=y.loc[d.index], params=params, folds=folds,\n",
    "                                             model_type=train_options['model_type'], \n",
    "                                             eval_metric=train_options['eval_metric'],\n",
    "                                             plot_feature_importance=True,\n",
    "                                             verbose=500, early_stopping_rounds=train_options['early_stopping_rounds'],\n",
    "                                             n_estimators=train_options['n_estimators'], \n",
    "                                             averaging=train_options['averaging'],\n",
    "                                             n_jobs=10, groups=None)"
   ]
  },
  {
   "cell_type": "code",
   "execution_count": 40,
   "metadata": {
    "ExecuteTime": {
     "end_time": "2019-09-17T13:56:09.193896Z",
     "start_time": "2019-09-17T13:46:46.026882Z"
    },
    "code_folding": [
     18
    ],
    "scrolled": true
   },
   "outputs": [
    {
     "ename": "NameError",
     "evalue": "name 'train_model_classification' is not defined",
     "output_type": "error",
     "traceback": [
      "\u001b[0;31m---------------------------------------------------------------------------\u001b[0m",
      "\u001b[0;31mNameError\u001b[0m                                 Traceback (most recent call last)",
      "\u001b[0;32m<ipython-input-40-ef0bc0f45c42>\u001b[0m in \u001b[0;36m<module>\u001b[0;34m\u001b[0m\n\u001b[1;32m     28\u001b[0m     'n_splits': n_fold }\n\u001b[1;32m     29\u001b[0m \u001b[0;34m\u001b[0m\u001b[0m\n\u001b[0;32m---> 30\u001b[0;31m result_dict_lgb_after_rfe = train_model_classification(X=dall[notvallcols], X_test=testall[notvallcols], y=y.loc[dall.index], params=params, folds=folds,\n\u001b[0m\u001b[1;32m     31\u001b[0m                                              \u001b[0mmodel_type\u001b[0m\u001b[0;34m=\u001b[0m\u001b[0mtrain_options\u001b[0m\u001b[0;34m[\u001b[0m\u001b[0;34m'model_type'\u001b[0m\u001b[0;34m]\u001b[0m\u001b[0;34m,\u001b[0m\u001b[0;34m\u001b[0m\u001b[0m\n\u001b[1;32m     32\u001b[0m                                              \u001b[0meval_metric\u001b[0m\u001b[0;34m=\u001b[0m\u001b[0mtrain_options\u001b[0m\u001b[0;34m[\u001b[0m\u001b[0;34m'eval_metric'\u001b[0m\u001b[0;34m]\u001b[0m\u001b[0;34m,\u001b[0m\u001b[0;34m\u001b[0m\u001b[0m\n",
      "\u001b[0;31mNameError\u001b[0m: name 'train_model_classification' is not defined"
     ]
    }
   ],
   "source": [
    "params = {'num_leaves': 491,\n",
    "          'min_child_weight': 0.03454472573214212,\n",
    "          'feature_fraction': 0.3797454081646243,\n",
    "          'bagging_fraction': 0.4181193142567742,\n",
    "          'min_data_in_leaf': 106,\n",
    "          'objective': 'binary',\n",
    "          'max_depth': -1,\n",
    "          'learning_rate': 0.006883242363721497,\n",
    "          \"boosting_type\": \"gbdt\",\n",
    "          \"bagging_seed\": 11,\n",
    "          \"metric\": 'auc',\n",
    "          \"verbosity\": -1,\n",
    "          'reg_alpha': 0.3899927210061127,\n",
    "          'reg_lambda': 0.6485237330340494,\n",
    "          'random_state': 47, \n",
    "         }\n",
    "n_fold = 5\n",
    "folds = KFold(n_splits=n_fold)\n",
    "train_options = {\n",
    "    \"model_type\":'lgb',\n",
    "    \"params\": params,\n",
    "    \"eval_metric\":'auc',\n",
    "    'early_stopping_rounds': 200,\n",
    "    'n_estimators': 10000,\n",
    "    'averaging': 'usual',\n",
    "    'use_groups': False,\n",
    "    'fold_name': folds.__class__.__name__,\n",
    "    'n_splits': n_fold }\n",
    "\n",
    "result_dict_lgb_after_rfe = train_model_classification(X=dall[notvallcols], X_test=testall[notvallcols], y=y.loc[dall.index], params=params, folds=folds,\n",
    "                                             model_type=train_options['model_type'], \n",
    "                                             eval_metric=train_options['eval_metric'],\n",
    "                                             plot_feature_importance=True,\n",
    "                                             verbose=500, early_stopping_rounds=train_options['early_stopping_rounds'],\n",
    "                                             n_estimators=train_options['n_estimators'], \n",
    "                                             averaging=train_options['averaging'],\n",
    "                                             n_jobs=10, groups=None)"
   ]
  },
  {
   "cell_type": "code",
   "execution_count": 41,
   "metadata": {
    "ExecuteTime": {
     "end_time": "2019-09-17T11:35:33.333394Z",
     "start_time": "2019-09-17T11:35:33.295300Z"
    }
   },
   "outputs": [
    {
     "ename": "NameError",
     "evalue": "name 'dall' is not defined",
     "output_type": "error",
     "traceback": [
      "\u001b[0;31m---------------------------------------------------------------------------\u001b[0m",
      "\u001b[0;31mNameError\u001b[0m                                 Traceback (most recent call last)",
      "\u001b[0;32m<ipython-input-41-1c30b9f86a7e>\u001b[0m in \u001b[0;36m<module>\u001b[0;34m\u001b[0m\n\u001b[0;32m----> 1\u001b[0;31m \u001b[0mset\u001b[0m\u001b[0;34m(\u001b[0m\u001b[0mdall\u001b[0m\u001b[0;34m.\u001b[0m\u001b[0mcolumns\u001b[0m\u001b[0;34m)\u001b[0m \u001b[0;34m&\u001b[0m \u001b[0mset\u001b[0m\u001b[0;34m(\u001b[0m\u001b[0md\u001b[0m\u001b[0;34m.\u001b[0m\u001b[0mcolumns\u001b[0m\u001b[0;34m)\u001b[0m\u001b[0;34m\u001b[0m\u001b[0m\n\u001b[0m",
      "\u001b[0;31mNameError\u001b[0m: name 'dall' is not defined"
     ]
    }
   ],
   "source": [
    "set(dall.columns) & set(d.columns)"
   ]
  },
  {
   "cell_type": "code",
   "execution_count": 42,
   "metadata": {
    "ExecuteTime": {
     "end_time": "2019-09-17T11:30:27.080904Z",
     "start_time": "2019-09-17T11:30:27.048256Z"
    },
    "scrolled": true
   },
   "outputs": [
    {
     "ename": "NameError",
     "evalue": "name 'dall' is not defined",
     "output_type": "error",
     "traceback": [
      "\u001b[0;31m---------------------------------------------------------------------------\u001b[0m",
      "\u001b[0;31mNameError\u001b[0m                                 Traceback (most recent call last)",
      "\u001b[0;32m<ipython-input-42-aa61f6547970>\u001b[0m in \u001b[0;36m<module>\u001b[0;34m\u001b[0m\n\u001b[0;32m----> 1\u001b[0;31m \u001b[0mset\u001b[0m\u001b[0;34m(\u001b[0m\u001b[0mdall\u001b[0m\u001b[0;34m.\u001b[0m\u001b[0mcolumns\u001b[0m\u001b[0;34m)\u001b[0m \u001b[0;34m-\u001b[0m \u001b[0mset\u001b[0m\u001b[0;34m(\u001b[0m\u001b[0md\u001b[0m\u001b[0;34m.\u001b[0m\u001b[0mcolumns\u001b[0m\u001b[0;34m)\u001b[0m\u001b[0;34m\u001b[0m\u001b[0m\n\u001b[0m",
      "\u001b[0;31mNameError\u001b[0m: name 'dall' is not defined"
     ]
    }
   ],
   "source": [
    "set(dall.columns) - set(d.columns)"
   ]
  },
  {
   "cell_type": "code",
   "execution_count": 43,
   "metadata": {
    "ExecuteTime": {
     "end_time": "2019-09-17T11:50:00.262047Z",
     "start_time": "2019-09-17T11:50:00.227868Z"
    },
    "code_folding": [
     0
    ]
   },
   "outputs": [],
   "source": [
    "add1 = ['TransactionAmt_by_card_id_ws100_to_mean',\n",
    " 'TransactionAmt_by_card_id_ws100_to_std',\n",
    " 'TransactionAmt_by_card_id_ws10_to_mean',\n",
    " 'TransactionAmt_by_card_id_ws10_to_std',\n",
    " 'TransactionAmt_by_card_id_ws1d_to_mean',\n",
    " 'TransactionAmt_by_card_id_ws1d_to_std',\n",
    " 'TransactionAmt_by_card_id_ws2d_to_mean',\n",
    " 'TransactionAmt_by_card_id_ws2d_to_std',\n",
    " 'TransactionAmt_by_card_id_ws3d_to_mean',\n",
    " 'TransactionAmt_by_card_id_ws3d_to_std']"
   ]
  },
  {
   "cell_type": "code",
   "execution_count": 44,
   "metadata": {
    "ExecuteTime": {
     "end_time": "2019-09-17T10:56:40.991758Z",
     "start_time": "2019-09-17T10:56:40.957448Z"
    },
    "code_folding": [
     0
    ]
   },
   "outputs": [],
   "source": [
    "add2 = ['C1_by_card_id_ws100_to_mean',\n",
    " 'C1_by_card_id_ws100_to_std',\n",
    " 'C1_by_card_id_ws10_to_mean',\n",
    " 'C1_by_card_id_ws10_to_std',\n",
    " 'C1_by_card_id_ws1d_to_mean',\n",
    " 'C1_by_card_id_ws1d_to_std',\n",
    " 'C1_by_card_id_ws2d_to_mean',\n",
    " 'C1_by_card_id_ws2d_to_std',\n",
    " 'C1_by_card_id_ws30d_to_mean',\n",
    " 'C1_by_card_id_ws30d_to_std',\n",
    " 'C1_by_card_id_ws3d_to_mean',\n",
    " 'C1_by_card_id_ws3d_to_std',\n",
    " 'C1_by_card_id_ws5_to_mean',\n",
    " 'C1_by_card_id_ws5_to_std',\n",
    " 'C1_by_card_id_ws7d_to_mean',\n",
    " 'C1_by_card_id_ws7d_to_std']"
   ]
  },
  {
   "cell_type": "code",
   "execution_count": 45,
   "metadata": {
    "ExecuteTime": {
     "end_time": "2019-09-17T11:51:58.819184Z",
     "start_time": "2019-09-17T11:50:04.493978Z"
    },
    "scrolled": true
   },
   "outputs": [
    {
     "ename": "NameError",
     "evalue": "name 'train_model_classification' is not defined",
     "output_type": "error",
     "traceback": [
      "\u001b[0;31m---------------------------------------------------------------------------\u001b[0m",
      "\u001b[0;31mNameError\u001b[0m                                 Traceback (most recent call last)",
      "\u001b[0;32m<ipython-input-45-2ccd015df8fb>\u001b[0m in \u001b[0;36m<module>\u001b[0;34m\u001b[0m\n\u001b[0;32m----> 1\u001b[0;31m result_dict_lgb_after_rfe = train_model_classification(X=dall[list(initcols) + add1], \n\u001b[0m\u001b[1;32m      2\u001b[0m \u001b[0;34m\u001b[0m\u001b[0m\n\u001b[1;32m      3\u001b[0m                                             \u001b[0mX_test\u001b[0m\u001b[0;34m=\u001b[0m\u001b[0mtestall\u001b[0m\u001b[0;34m[\u001b[0m\u001b[0mlist\u001b[0m\u001b[0;34m(\u001b[0m\u001b[0minitcols\u001b[0m\u001b[0;34m)\u001b[0m \u001b[0;34m+\u001b[0m \u001b[0madd1\u001b[0m\u001b[0;34m]\u001b[0m\u001b[0;34m,\u001b[0m\u001b[0;34m\u001b[0m\u001b[0m\n\u001b[1;32m      4\u001b[0m                                             \u001b[0my\u001b[0m\u001b[0;34m=\u001b[0m\u001b[0my\u001b[0m\u001b[0;34m.\u001b[0m\u001b[0mloc\u001b[0m\u001b[0;34m[\u001b[0m\u001b[0mdall\u001b[0m\u001b[0;34m.\u001b[0m\u001b[0mindex\u001b[0m\u001b[0;34m]\u001b[0m\u001b[0;34m,\u001b[0m\u001b[0;34m\u001b[0m\u001b[0m\n\u001b[1;32m      5\u001b[0m \u001b[0;34m\u001b[0m\u001b[0m\n",
      "\u001b[0;31mNameError\u001b[0m: name 'train_model_classification' is not defined"
     ]
    }
   ],
   "source": [
    "result_dict_lgb_after_rfe = train_model_classification(X=dall[list(initcols) + add1], \n",
    "                                                       \n",
    "                                            X_test=testall[list(initcols) + add1], \n",
    "                                            y=y.loc[dall.index], \n",
    "                                                       \n",
    "                                                       params=params, folds=folds,\n",
    "                                                         model_type=train_options['model_type'], \n",
    "                                                         eval_metric=train_options['eval_metric'],\n",
    "                                                         plot_feature_importance=True,\n",
    "                                                         verbose=500, early_stopping_rounds=train_options['early_stopping_rounds'],\n",
    "                                                         n_estimators=train_options['n_estimators'], \n",
    "                                                         averaging=train_options['averaging'],\n",
    "                                                         n_jobs=10, groups=None)"
   ]
  },
  {
   "cell_type": "code",
   "execution_count": 46,
   "metadata": {
    "ExecuteTime": {
     "end_time": "2019-09-17T12:16:29.286202Z",
     "start_time": "2019-09-17T12:11:50.279301Z"
    },
    "scrolled": true
   },
   "outputs": [
    {
     "ename": "NameError",
     "evalue": "name 'train_model_classification' is not defined",
     "output_type": "error",
     "traceback": [
      "\u001b[0;31m---------------------------------------------------------------------------\u001b[0m",
      "\u001b[0;31mNameError\u001b[0m                                 Traceback (most recent call last)",
      "\u001b[0;32m<ipython-input-46-bca6fd289d96>\u001b[0m in \u001b[0;36m<module>\u001b[0;34m\u001b[0m\n\u001b[0;32m----> 1\u001b[0;31m result_dict_lgb_after_rfe = train_model_classification(X=dall[list(initcols) + ['C1_by_card_id_ws30d_to_std']], \n\u001b[0m\u001b[1;32m      2\u001b[0m \u001b[0;34m\u001b[0m\u001b[0m\n\u001b[1;32m      3\u001b[0m                                             \u001b[0mX_test\u001b[0m\u001b[0;34m=\u001b[0m\u001b[0mtestall\u001b[0m\u001b[0;34m[\u001b[0m\u001b[0mlist\u001b[0m\u001b[0;34m(\u001b[0m\u001b[0minitcols\u001b[0m\u001b[0;34m)\u001b[0m \u001b[0;34m+\u001b[0m \u001b[0;34m[\u001b[0m\u001b[0;34m'C1_by_card_id_ws30d_to_std'\u001b[0m\u001b[0;34m]\u001b[0m\u001b[0;34m]\u001b[0m\u001b[0;34m,\u001b[0m\u001b[0;34m\u001b[0m\u001b[0m\n\u001b[1;32m      4\u001b[0m                                             \u001b[0my\u001b[0m\u001b[0;34m=\u001b[0m\u001b[0my\u001b[0m\u001b[0;34m.\u001b[0m\u001b[0mloc\u001b[0m\u001b[0;34m[\u001b[0m\u001b[0mdall\u001b[0m\u001b[0;34m.\u001b[0m\u001b[0mindex\u001b[0m\u001b[0;34m]\u001b[0m\u001b[0;34m,\u001b[0m\u001b[0;34m\u001b[0m\u001b[0m\n\u001b[1;32m      5\u001b[0m \u001b[0;34m\u001b[0m\u001b[0m\n",
      "\u001b[0;31mNameError\u001b[0m: name 'train_model_classification' is not defined"
     ]
    }
   ],
   "source": [
    "result_dict_lgb_after_rfe = train_model_classification(X=dall[list(initcols) + ['C1_by_card_id_ws30d_to_std']], \n",
    "                                                       \n",
    "                                            X_test=testall[list(initcols) + ['C1_by_card_id_ws30d_to_std']], \n",
    "                                            y=y.loc[dall.index], \n",
    "                                                       \n",
    "                                                       params=params, folds=folds,\n",
    "                                                         model_type=train_options['model_type'], \n",
    "                                                         eval_metric=train_options['eval_metric'],\n",
    "                                                         plot_feature_importance=True,\n",
    "                                                         verbose=500, early_stopping_rounds=train_options['early_stopping_rounds'],\n",
    "                                                         n_estimators=train_options['n_estimators'], \n",
    "                                                         averaging=train_options['averaging'],\n",
    "                                                         n_jobs=10, groups=None)"
   ]
  },
  {
   "cell_type": "code",
   "execution_count": null,
   "metadata": {},
   "outputs": [],
   "source": []
  },
  {
   "cell_type": "code",
   "execution_count": 47,
   "metadata": {
    "ExecuteTime": {
     "end_time": "2019-09-17T12:45:10.973641Z",
     "start_time": "2019-09-17T12:45:10.846993Z"
    }
   },
   "outputs": [
    {
     "ename": "NameError",
     "evalue": "name 'd' is not defined",
     "output_type": "error",
     "traceback": [
      "\u001b[0;31m---------------------------------------------------------------------------\u001b[0m",
      "\u001b[0;31mNameError\u001b[0m                                 Traceback (most recent call last)",
      "\u001b[0;32m<ipython-input-47-f99a03a6b413>\u001b[0m in \u001b[0;36m<module>\u001b[0;34m\u001b[0m\n\u001b[0;32m----> 1\u001b[0;31m \u001b[0mpd\u001b[0m\u001b[0;34m.\u001b[0m\u001b[0mDataFrame\u001b[0m\u001b[0;34m(\u001b[0m\u001b[0md\u001b[0m\u001b[0;34m.\u001b[0m\u001b[0miloc\u001b[0m\u001b[0;34m[\u001b[0m\u001b[0;34m:\u001b[0m\u001b[0;34m,\u001b[0m \u001b[0;36m500\u001b[0m\u001b[0;34m:\u001b[0m\u001b[0;36m550\u001b[0m\u001b[0;34m]\u001b[0m\u001b[0;34m.\u001b[0m\u001b[0mcolumns\u001b[0m\u001b[0;34m)\u001b[0m\u001b[0;34m\u001b[0m\u001b[0m\n\u001b[0m",
      "\u001b[0;31mNameError\u001b[0m: name 'd' is not defined"
     ]
    }
   ],
   "source": [
    "pd.DataFrame(d.iloc[:, 500:550].columns)"
   ]
  },
  {
   "cell_type": "code",
   "execution_count": 48,
   "metadata": {
    "ExecuteTime": {
     "end_time": "2019-09-17T12:02:35.541048Z",
     "start_time": "2019-09-17T12:02:35.510296Z"
    },
    "scrolled": false
   },
   "outputs": [
    {
     "ename": "NameError",
     "evalue": "name 'd' is not defined",
     "output_type": "error",
     "traceback": [
      "\u001b[0;31m---------------------------------------------------------------------------\u001b[0m",
      "\u001b[0;31mNameError\u001b[0m                                 Traceback (most recent call last)",
      "\u001b[0;32m<ipython-input-48-c8e241fe1d20>\u001b[0m in \u001b[0;36m<module>\u001b[0;34m\u001b[0m\n\u001b[0;32m----> 1\u001b[0;31m \u001b[0;34m[\u001b[0m\u001b[0mx\u001b[0m \u001b[0;32mfor\u001b[0m \u001b[0mx\u001b[0m \u001b[0;32min\u001b[0m \u001b[0md\u001b[0m\u001b[0;34m.\u001b[0m\u001b[0mcolumns\u001b[0m \u001b[0;32mif\u001b[0m \u001b[0;34m'_ws'\u001b[0m \u001b[0;32min\u001b[0m \u001b[0mx\u001b[0m\u001b[0;34m]\u001b[0m\u001b[0;34m\u001b[0m\u001b[0m\n\u001b[0m",
      "\u001b[0;31mNameError\u001b[0m: name 'd' is not defined"
     ]
    }
   ],
   "source": [
    "[x for x in d.columns if '_ws' in x]"
   ]
  },
  {
   "cell_type": "code",
   "execution_count": 49,
   "metadata": {
    "ExecuteTime": {
     "end_time": "2019-09-17T12:05:07.777025Z",
     "start_time": "2019-09-17T12:05:07.085214Z"
    },
    "scrolled": true
   },
   "outputs": [
    {
     "ename": "NameError",
     "evalue": "name 'dall' is not defined",
     "output_type": "error",
     "traceback": [
      "\u001b[0;31m---------------------------------------------------------------------------\u001b[0m",
      "\u001b[0;31mNameError\u001b[0m                                 Traceback (most recent call last)",
      "\u001b[0;32m<ipython-input-49-3c7b62c9cd73>\u001b[0m in \u001b[0;36m<module>\u001b[0;34m\u001b[0m\n\u001b[0;32m----> 1\u001b[0;31m \u001b[0mdall\u001b[0m\u001b[0;34m[\u001b[0m\u001b[0mlist\u001b[0m\u001b[0;34m(\u001b[0m\u001b[0minitcols\u001b[0m\u001b[0;34m)\u001b[0m\u001b[0;34m]\u001b[0m\u001b[0;34m\u001b[0m\u001b[0m\n\u001b[0m",
      "\u001b[0;31mNameError\u001b[0m: name 'dall' is not defined"
     ]
    }
   ],
   "source": [
    "dall[list(initcols)]"
   ]
  },
  {
   "cell_type": "code",
   "execution_count": 50,
   "metadata": {
    "ExecuteTime": {
     "end_time": "2019-09-17T12:08:54.577475Z",
     "start_time": "2019-09-17T12:05:43.651261Z"
    },
    "scrolled": true
   },
   "outputs": [
    {
     "ename": "NameError",
     "evalue": "name 'dall' is not defined",
     "output_type": "error",
     "traceback": [
      "\u001b[0;31m---------------------------------------------------------------------------\u001b[0m",
      "\u001b[0;31mNameError\u001b[0m                                 Traceback (most recent call last)",
      "\u001b[0;32m<ipython-input-50-2f79517de81a>\u001b[0m in \u001b[0;36m<module>\u001b[0;34m\u001b[0m\n\u001b[0;32m----> 1\u001b[0;31m \u001b[0mcorr_add2\u001b[0m \u001b[0;34m=\u001b[0m \u001b[0mdall\u001b[0m\u001b[0;34m[\u001b[0m\u001b[0mlist\u001b[0m\u001b[0;34m(\u001b[0m\u001b[0minitcols\u001b[0m\u001b[0;34m)\u001b[0m \u001b[0;34m+\u001b[0m \u001b[0madd2\u001b[0m\u001b[0;34m]\u001b[0m\u001b[0;34m.\u001b[0m\u001b[0mcorr\u001b[0m\u001b[0;34m(\u001b[0m\u001b[0;34m)\u001b[0m\u001b[0;34m\u001b[0m\u001b[0m\n\u001b[0m",
      "\u001b[0;31mNameError\u001b[0m: name 'dall' is not defined"
     ]
    }
   ],
   "source": [
    "corr_add2 = dall[list(initcols) + add2].corr()"
   ]
  },
  {
   "cell_type": "code",
   "execution_count": 51,
   "metadata": {
    "ExecuteTime": {
     "end_time": "2019-09-17T12:11:07.791045Z",
     "start_time": "2019-09-17T12:11:07.550298Z"
    },
    "scrolled": true
   },
   "outputs": [
    {
     "ename": "NameError",
     "evalue": "name 'corr_add2' is not defined",
     "output_type": "error",
     "traceback": [
      "\u001b[0;31m---------------------------------------------------------------------------\u001b[0m",
      "\u001b[0;31mNameError\u001b[0m                                 Traceback (most recent call last)",
      "\u001b[0;32m<ipython-input-51-99ded600cf5a>\u001b[0m in \u001b[0;36m<module>\u001b[0;34m\u001b[0m\n\u001b[0;32m----> 1\u001b[0;31m \u001b[0mcorr_add2\u001b[0m\u001b[0;34m.\u001b[0m\u001b[0mloc\u001b[0m\u001b[0;34m[\u001b[0m\u001b[0madd2\u001b[0m\u001b[0;34m]\u001b[0m\u001b[0;34m[\u001b[0m\u001b[0mcorr_add2\u001b[0m\u001b[0;34m>\u001b[0m\u001b[0;36m0.95\u001b[0m\u001b[0;34m]\u001b[0m\u001b[0;34m.\u001b[0m\u001b[0mdropna\u001b[0m\u001b[0;34m(\u001b[0m\u001b[0mhow\u001b[0m\u001b[0;34m=\u001b[0m\u001b[0;34m'all'\u001b[0m\u001b[0;34m,\u001b[0m \u001b[0maxis\u001b[0m\u001b[0;34m=\u001b[0m\u001b[0;36m1\u001b[0m\u001b[0;34m)\u001b[0m\u001b[0;34m\u001b[0m\u001b[0m\n\u001b[0m",
      "\u001b[0;31mNameError\u001b[0m: name 'corr_add2' is not defined"
     ]
    }
   ],
   "source": [
    "corr_add2.loc[add2][corr_add2>0.95].dropna(how='all', axis=1)"
   ]
  },
  {
   "cell_type": "code",
   "execution_count": null,
   "metadata": {},
   "outputs": [],
   "source": []
  },
  {
   "cell_type": "code",
   "execution_count": null,
   "metadata": {},
   "outputs": [],
   "source": []
  },
  {
   "cell_type": "code",
   "execution_count": null,
   "metadata": {},
   "outputs": [],
   "source": []
  },
  {
   "cell_type": "code",
   "execution_count": null,
   "metadata": {},
   "outputs": [],
   "source": []
  },
  {
   "cell_type": "code",
   "execution_count": null,
   "metadata": {},
   "outputs": [],
   "source": []
  },
  {
   "cell_type": "code",
   "execution_count": null,
   "metadata": {},
   "outputs": [],
   "source": []
  },
  {
   "cell_type": "code",
   "execution_count": null,
   "metadata": {},
   "outputs": [],
   "source": []
  },
  {
   "cell_type": "code",
   "execution_count": null,
   "metadata": {},
   "outputs": [],
   "source": []
  },
  {
   "cell_type": "code",
   "execution_count": null,
   "metadata": {},
   "outputs": [],
   "source": []
  },
  {
   "cell_type": "code",
   "execution_count": 52,
   "metadata": {
    "ExecuteTime": {
     "end_time": "2019-09-17T09:05:17.514306Z",
     "start_time": "2019-09-17T08:41:52.686784Z"
    }
   },
   "outputs": [
    {
     "ename": "NameError",
     "evalue": "name 'X' is not defined",
     "output_type": "error",
     "traceback": [
      "\u001b[0;31m---------------------------------------------------------------------------\u001b[0m",
      "\u001b[0;31mNameError\u001b[0m                                 Traceback (most recent call last)",
      "\u001b[0;32m<ipython-input-52-8140e0bd33e2>\u001b[0m in \u001b[0;36m<module>\u001b[0;34m\u001b[0m\n\u001b[0;32m----> 1\u001b[0;31m \u001b[0mdf_num_corr\u001b[0m \u001b[0;34m=\u001b[0m \u001b[0mX\u001b[0m\u001b[0;34m.\u001b[0m\u001b[0mcorr\u001b[0m\u001b[0;34m(\u001b[0m\u001b[0;34m)\u001b[0m\u001b[0;34m\u001b[0m\u001b[0m\n\u001b[0m",
      "\u001b[0;31mNameError\u001b[0m: name 'X' is not defined"
     ]
    }
   ],
   "source": [
    "df_num_corr = X.corr()"
   ]
  },
  {
   "cell_type": "code",
   "execution_count": 53,
   "metadata": {
    "ExecuteTime": {
     "end_time": "2019-09-17T09:13:37.237187Z",
     "start_time": "2019-09-17T09:13:36.597523Z"
    }
   },
   "outputs": [
    {
     "ename": "NameError",
     "evalue": "name 'df_num_corr' is not defined",
     "output_type": "error",
     "traceback": [
      "\u001b[0;31m---------------------------------------------------------------------------\u001b[0m",
      "\u001b[0;31mNameError\u001b[0m                                 Traceback (most recent call last)",
      "\u001b[0;32m<ipython-input-53-59dcb9aca991>\u001b[0m in \u001b[0;36m<module>\u001b[0;34m\u001b[0m\n\u001b[0;32m----> 1\u001b[0;31m \u001b[0mdf_num_corr_09\u001b[0m \u001b[0;34m=\u001b[0m \u001b[0mdf_num_corr\u001b[0m\u001b[0;34m.\u001b[0m\u001b[0mwhere\u001b[0m\u001b[0;34m(\u001b[0m\u001b[0mdf_num_corr\u001b[0m\u001b[0;34m>\u001b[0m\u001b[0;36m0.99\u001b[0m\u001b[0;34m)\u001b[0m\u001b[0;34m.\u001b[0m\u001b[0mcopy\u001b[0m\u001b[0;34m(\u001b[0m\u001b[0;34m)\u001b[0m\u001b[0;34m\u001b[0m\u001b[0m\n\u001b[0m\u001b[1;32m      2\u001b[0m \u001b[0;34m\u001b[0m\u001b[0m\n\u001b[1;32m      3\u001b[0m \u001b[0;32mfor\u001b[0m \u001b[0mi\u001b[0m \u001b[0;32min\u001b[0m \u001b[0mdf_num_corr\u001b[0m\u001b[0;34m.\u001b[0m\u001b[0mindex\u001b[0m\u001b[0;34m:\u001b[0m\u001b[0;34m\u001b[0m\u001b[0m\n\u001b[1;32m      4\u001b[0m     \u001b[0mj\u001b[0m \u001b[0;34m=\u001b[0m \u001b[0mi\u001b[0m\u001b[0;34m\u001b[0m\u001b[0m\n\u001b[1;32m      5\u001b[0m     \u001b[0mdf_num_corr_09\u001b[0m\u001b[0;34m.\u001b[0m\u001b[0mloc\u001b[0m\u001b[0;34m[\u001b[0m\u001b[0mi\u001b[0m\u001b[0;34m,\u001b[0m \u001b[0mj\u001b[0m\u001b[0;34m]\u001b[0m \u001b[0;34m=\u001b[0m \u001b[0mnp\u001b[0m\u001b[0;34m.\u001b[0m\u001b[0mnan\u001b[0m\u001b[0;34m\u001b[0m\u001b[0m\n",
      "\u001b[0;31mNameError\u001b[0m: name 'df_num_corr' is not defined"
     ]
    }
   ],
   "source": [
    "df_num_corr_09 = df_num_corr.where(df_num_corr>0.99).copy()\n",
    "\n",
    "for i in df_num_corr.index:\n",
    "    j = i\n",
    "    df_num_corr_09.loc[i, j] = np.nan\n",
    "    \n",
    "df_num_corr_09 = df_num_corr_09.dropna(how='all', axis=0).copy()\n",
    "df_num_corr_09.dropna(how='all', axis=1, inplace=True)\n",
    "\n",
    "df_num_corrs = pd.DataFrame(columns = ['var1', 'var2', 'corr'])\n",
    "\n",
    "for k, i in enumerate(df_num_corr_09.index):\n",
    "    for j in df_num_corr_09.columns[k:]:\n",
    "        if df_num_corr_09.loc[i, j] > 0:\n",
    "            df_temp = pd.DataFrame(columns = ['var1', 'var2', 'corr'], data = [[i, j, df_num_corr_09.loc[i, j]]])\n",
    "            df_num_corrs = df_num_corrs.append(df_temp, ignore_index=True)\n",
    "            \n",
    "df_num_corrs.sort_values(by='corr', inplace=True, ascending=False)"
   ]
  },
  {
   "cell_type": "code",
   "execution_count": 54,
   "metadata": {
    "ExecuteTime": {
     "end_time": "2019-09-17T09:14:46.782015Z",
     "start_time": "2019-09-17T09:14:46.757605Z"
    },
    "scrolled": true
   },
   "outputs": [
    {
     "ename": "NameError",
     "evalue": "name 'df_num_corrs' is not defined",
     "output_type": "error",
     "traceback": [
      "\u001b[0;31m---------------------------------------------------------------------------\u001b[0m",
      "\u001b[0;31mNameError\u001b[0m                                 Traceback (most recent call last)",
      "\u001b[0;32m<ipython-input-54-aa6827ee8663>\u001b[0m in \u001b[0;36m<module>\u001b[0;34m\u001b[0m\n\u001b[0;32m----> 1\u001b[0;31m \u001b[0mdf_num_corrs\u001b[0m\u001b[0;34m\u001b[0m\u001b[0m\n\u001b[0m",
      "\u001b[0;31mNameError\u001b[0m: name 'df_num_corrs' is not defined"
     ]
    }
   ],
   "source": [
    "df_num_corrs"
   ]
  },
  {
   "cell_type": "code",
   "execution_count": 55,
   "metadata": {
    "ExecuteTime": {
     "end_time": "2019-09-17T09:20:26.484404Z",
     "start_time": "2019-09-17T09:20:26.372953Z"
    },
    "scrolled": true
   },
   "outputs": [
    {
     "ename": "NameError",
     "evalue": "name 'X' is not defined",
     "output_type": "error",
     "traceback": [
      "\u001b[0;31m---------------------------------------------------------------------------\u001b[0m",
      "\u001b[0;31mNameError\u001b[0m                                 Traceback (most recent call last)",
      "\u001b[0;32m<ipython-input-55-b5fec669aca1>\u001b[0m in \u001b[0;36m<module>\u001b[0;34m\u001b[0m\n\u001b[0;32m----> 1\u001b[0;31m \u001b[0mX\u001b[0m\u001b[0;34m\u001b[0m\u001b[0m\n\u001b[0m",
      "\u001b[0;31mNameError\u001b[0m: name 'X' is not defined"
     ]
    }
   ],
   "source": [
    "X"
   ]
  },
  {
   "cell_type": "code",
   "execution_count": null,
   "metadata": {},
   "outputs": [],
   "source": []
  },
  {
   "cell_type": "code",
   "execution_count": null,
   "metadata": {},
   "outputs": [],
   "source": []
  },
  {
   "cell_type": "code",
   "execution_count": null,
   "metadata": {},
   "outputs": [],
   "source": []
  },
  {
   "cell_type": "code",
   "execution_count": null,
   "metadata": {},
   "outputs": [],
   "source": []
  },
  {
   "cell_type": "code",
   "execution_count": null,
   "metadata": {},
   "outputs": [],
   "source": []
  },
  {
   "cell_type": "code",
   "execution_count": null,
   "metadata": {},
   "outputs": [],
   "source": []
  },
  {
   "cell_type": "code",
   "execution_count": null,
   "metadata": {},
   "outputs": [],
   "source": []
  },
  {
   "cell_type": "code",
   "execution_count": null,
   "metadata": {},
   "outputs": [],
   "source": []
  }
 ],
 "metadata": {
  "hide_input": false,
  "kernelspec": {
   "display_name": "Python 3",
   "language": "python",
   "name": "python3"
  },
  "language_info": {
   "codemirror_mode": {
    "name": "ipython",
    "version": 3
   },
   "file_extension": ".py",
   "mimetype": "text/x-python",
   "name": "python",
   "nbconvert_exporter": "python",
   "pygments_lexer": "ipython3",
   "version": "3.7.4"
  },
  "toc": {
   "base_numbering": 1,
   "nav_menu": {},
   "number_sections": true,
   "sideBar": true,
   "skip_h1_title": false,
   "title_cell": "Table of Contents",
   "title_sidebar": "Contents",
   "toc_cell": false,
   "toc_position": {},
   "toc_section_display": true,
   "toc_window_display": false
  },
  "varInspector": {
   "cols": {
    "lenName": 16,
    "lenType": 16,
    "lenVar": 40
   },
   "kernels_config": {
    "python": {
     "delete_cmd_postfix": "",
     "delete_cmd_prefix": "del ",
     "library": "var_list.py",
     "varRefreshCmd": "print(var_dic_list())"
    },
    "r": {
     "delete_cmd_postfix": ") ",
     "delete_cmd_prefix": "rm(",
     "library": "var_list.r",
     "varRefreshCmd": "cat(var_dic_list()) "
    }
   },
   "oldHeight": 544,
   "position": {
    "height": "575px",
    "left": "1525px",
    "right": "20px",
    "top": "116px",
    "width": "407px"
   },
   "types_to_exclude": [
    "module",
    "function",
    "builtin_function_or_method",
    "instance",
    "_Feature"
   ],
   "varInspector_section_display": "block",
   "window_display": false
  }
 },
 "nbformat": 4,
 "nbformat_minor": 1
}
