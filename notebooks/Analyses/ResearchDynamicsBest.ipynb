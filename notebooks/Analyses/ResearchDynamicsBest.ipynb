{
 "cells": [
  {
   "cell_type": "code",
   "execution_count": 1,
   "metadata": {
    "ExecuteTime": {
     "end_time": "2019-09-28T16:03:19.175413Z",
     "start_time": "2019-09-28T16:03:16.476223Z"
    }
   },
   "outputs": [],
   "source": [
    "%load_ext autoreload\n",
    "%autoreload 2\n",
    "main_dir = r'../../..'\n",
    "data_path = main_dir+'/data'\n",
    "import sys\n",
    "sys.path.append(main_dir)\n",
    "from typing import List, Set, Dict, Optional, Any, Tuple, Type, Union\n",
    "\n",
    "from BayDS.lib.pipeline import *\n",
    "from BayDS.lib.io import *\n",
    "import os\n"
   ]
  },
  {
   "cell_type": "code",
   "execution_count": 2,
   "metadata": {
    "ExecuteTime": {
     "end_time": "2019-09-28T16:03:23.284702Z",
     "start_time": "2019-09-28T16:03:19.177363Z"
    }
   },
   "outputs": [
    {
     "name": "stdout",
     "output_type": "stream",
     "text": [
      "---------------------------\n",
      "0: LoaderNode [2019-09-28 19:03:19]\n",
      "params:\n",
      " {'input_directory': '../../../Snapshots/1/full-fe-2809-2-labelenc', 'file': 'label_encoded_data.pkl'}\n",
      "---------------------------\n",
      "1: LoaderNode [2019-09-28 19:03:22]\n",
      "params:\n",
      " {'input_directory': '../../../data/sub', 'file': 'oof_all_data_best_lgb_timefreq.csv'}\n",
      "---------------------------\n",
      "2: LoaderNode [2019-09-28 19:03:23]\n",
      "params:\n",
      " {'input_directory': '../../../data/sub', 'file': 'prediction_all_data_best_lgb_timefreq.csv'}\n"
     ]
    }
   ],
   "source": [
    "data_dir = f'{main_dir}/Snapshots/1/full-fe-2809-2-labelenc'\n",
    "p = Pipeline(working_folder=f'{main_dir}/Snapshots/1/Dynamics_pca_timefreq_09504')\n",
    "\n",
    "p.add_node(LoaderNode, None, 'data',\n",
    "           params={\n",
    "               'input_directory': data_dir,\n",
    "               'file': 'label_encoded_data.pkl'\n",
    "           })\n",
    "p.add_node(LoaderNode, None, 'oof',\n",
    "           params={\n",
    "               'input_directory': main_dir+'/data/sub',\n",
    "               'file': 'oof_all_data_best_lgb_timefreq.csv'\n",
    "           })\n",
    "p.add_node(LoaderNode, None, 'predictions',\n",
    "           params={\n",
    "               'input_directory': main_dir+'/data/sub',\n",
    "               'file': 'prediction_all_data_best_lgb_timefreq.csv'\n",
    "           })\n",
    "p.run(verbose=True)\n",
    "p.save()"
   ]
  },
  {
   "cell_type": "code",
   "execution_count": 3,
   "metadata": {
    "ExecuteTime": {
     "end_time": "2019-09-28T16:03:24.365749Z",
     "start_time": "2019-09-28T16:03:23.286684Z"
    }
   },
   "outputs": [],
   "source": [
    "df = p.data['data']\n",
    "df = df[['isFraud', 'new_card_id']]"
   ]
  },
  {
   "cell_type": "code",
   "execution_count": 4,
   "metadata": {
    "ExecuteTime": {
     "end_time": "2019-09-28T16:03:24.521757Z",
     "start_time": "2019-09-28T16:03:24.367749Z"
    }
   },
   "outputs": [
    {
     "data": {
      "text/plain": [
       "Int64Index([2987000, 2987001, 2987002, 2987003, 2987004, 2987005, 2987006,\n",
       "            2987007, 2987008, 2987009,\n",
       "            ...\n",
       "            4170230, 4170231, 4170232, 4170233, 4170234, 4170235, 4170236,\n",
       "            4170237, 4170238, 4170239],\n",
       "           dtype='int64', name='TransactionID', length=1097231)"
      ]
     },
     "execution_count": 4,
     "metadata": {},
     "output_type": "execute_result"
    }
   ],
   "source": [
    "pred = pd.concat([p.data['oof'].set_index('TransactionID')['isFraud'],p.data['predictions'].set_index('TransactionID')['isFraud']],axis=0)#\n",
    "pred.index"
   ]
  },
  {
   "cell_type": "code",
   "execution_count": 5,
   "metadata": {
    "ExecuteTime": {
     "end_time": "2019-09-28T16:03:24.650780Z",
     "start_time": "2019-09-28T16:03:24.523755Z"
    }
   },
   "outputs": [
    {
     "data": {
      "text/plain": [
       "TransactionID\n",
       "2987000    0.006319\n",
       "2987001    0.004095\n",
       "2987002    0.003470\n",
       "2987003    0.001668\n",
       "2987004    0.002614\n",
       "             ...   \n",
       "4170235    0.003462\n",
       "4170236    0.002098\n",
       "4170237    0.001797\n",
       "4170238    0.003062\n",
       "4170239    0.002060\n",
       "Name: isFraud, Length: 1097231, dtype: float64"
      ]
     },
     "execution_count": 5,
     "metadata": {},
     "output_type": "execute_result"
    }
   ],
   "source": [
    "pred"
   ]
  },
  {
   "cell_type": "code",
   "execution_count": 6,
   "metadata": {
    "ExecuteTime": {
     "end_time": "2019-09-28T16:03:24.783142Z",
     "start_time": "2019-09-28T16:03:24.652759Z"
    }
   },
   "outputs": [
    {
     "name": "stderr",
     "output_type": "stream",
     "text": [
      "c:\\python37\\lib\\site-packages\\ipykernel_launcher.py:1: SettingWithCopyWarning: \n",
      "A value is trying to be set on a copy of a slice from a DataFrame.\n",
      "Try using .loc[row_indexer,col_indexer] = value instead\n",
      "\n",
      "See the caveats in the documentation: http://pandas.pydata.org/pandas-docs/stable/user_guide/indexing.html#returning-a-view-versus-a-copy\n",
      "  \"\"\"Entry point for launching an IPython kernel.\n"
     ]
    }
   ],
   "source": [
    "df['pred_0'] = pred"
   ]
  },
  {
   "cell_type": "code",
   "execution_count": 7,
   "metadata": {
    "ExecuteTime": {
     "end_time": "2019-09-28T16:03:24.912539Z",
     "start_time": "2019-09-28T16:03:24.785147Z"
    }
   },
   "outputs": [
    {
     "data": {
      "text/html": [
       "<div>\n",
       "<style scoped>\n",
       "    .dataframe tbody tr th:only-of-type {\n",
       "        vertical-align: middle;\n",
       "    }\n",
       "\n",
       "    .dataframe tbody tr th {\n",
       "        vertical-align: top;\n",
       "    }\n",
       "\n",
       "    .dataframe thead th {\n",
       "        text-align: right;\n",
       "    }\n",
       "</style>\n",
       "<table border=\"1\" class=\"dataframe\">\n",
       "  <thead>\n",
       "    <tr style=\"text-align: right;\">\n",
       "      <th></th>\n",
       "      <th>isFraud</th>\n",
       "      <th>new_card_id</th>\n",
       "      <th>pred_0</th>\n",
       "    </tr>\n",
       "    <tr>\n",
       "      <th>TransactionID</th>\n",
       "      <th></th>\n",
       "      <th></th>\n",
       "      <th></th>\n",
       "    </tr>\n",
       "  </thead>\n",
       "  <tbody>\n",
       "    <tr>\n",
       "      <td>2987000</td>\n",
       "      <td>0</td>\n",
       "      <td>90165</td>\n",
       "      <td>0.006319</td>\n",
       "    </tr>\n",
       "    <tr>\n",
       "      <td>2987001</td>\n",
       "      <td>0</td>\n",
       "      <td>137</td>\n",
       "      <td>0.004095</td>\n",
       "    </tr>\n",
       "    <tr>\n",
       "      <td>2987002</td>\n",
       "      <td>0</td>\n",
       "      <td>105</td>\n",
       "      <td>0.003470</td>\n",
       "    </tr>\n",
       "    <tr>\n",
       "      <td>2987003</td>\n",
       "      <td>0</td>\n",
       "      <td>529</td>\n",
       "      <td>0.001668</td>\n",
       "    </tr>\n",
       "    <tr>\n",
       "      <td>2987004</td>\n",
       "      <td>0</td>\n",
       "      <td>9324</td>\n",
       "      <td>0.002614</td>\n",
       "    </tr>\n",
       "    <tr>\n",
       "      <td>...</td>\n",
       "      <td>...</td>\n",
       "      <td>...</td>\n",
       "      <td>...</td>\n",
       "    </tr>\n",
       "    <tr>\n",
       "      <td>4170235</td>\n",
       "      <td>-1</td>\n",
       "      <td>25</td>\n",
       "      <td>0.003462</td>\n",
       "    </tr>\n",
       "    <tr>\n",
       "      <td>4170236</td>\n",
       "      <td>-1</td>\n",
       "      <td>32656</td>\n",
       "      <td>0.002098</td>\n",
       "    </tr>\n",
       "    <tr>\n",
       "      <td>4170237</td>\n",
       "      <td>-1</td>\n",
       "      <td>152</td>\n",
       "      <td>0.001797</td>\n",
       "    </tr>\n",
       "    <tr>\n",
       "      <td>4170238</td>\n",
       "      <td>-1</td>\n",
       "      <td>122410</td>\n",
       "      <td>0.003062</td>\n",
       "    </tr>\n",
       "    <tr>\n",
       "      <td>4170239</td>\n",
       "      <td>-1</td>\n",
       "      <td>471</td>\n",
       "      <td>0.002060</td>\n",
       "    </tr>\n",
       "  </tbody>\n",
       "</table>\n",
       "<p>1097231 rows × 3 columns</p>\n",
       "</div>"
      ],
      "text/plain": [
       "               isFraud  new_card_id    pred_0\n",
       "TransactionID                                \n",
       "2987000              0        90165  0.006319\n",
       "2987001              0          137  0.004095\n",
       "2987002              0          105  0.003470\n",
       "2987003              0          529  0.001668\n",
       "2987004              0         9324  0.002614\n",
       "...                ...          ...       ...\n",
       "4170235             -1           25  0.003462\n",
       "4170236             -1        32656  0.002098\n",
       "4170237             -1          152  0.001797\n",
       "4170238             -1       122410  0.003062\n",
       "4170239             -1          471  0.002060\n",
       "\n",
       "[1097231 rows x 3 columns]"
      ]
     },
     "execution_count": 7,
     "metadata": {},
     "output_type": "execute_result"
    }
   ],
   "source": [
    "df"
   ]
  },
  {
   "cell_type": "code",
   "execution_count": 8,
   "metadata": {
    "ExecuteTime": {
     "end_time": "2019-09-28T16:03:25.178544Z",
     "start_time": "2019-09-28T16:03:24.916541Z"
    }
   },
   "outputs": [],
   "source": [
    "test = df[['pred_0','new_card_id']].groupby('new_card_id').shift()"
   ]
  },
  {
   "cell_type": "code",
   "execution_count": 9,
   "metadata": {
    "ExecuteTime": {
     "end_time": "2019-09-28T16:03:31.175633Z",
     "start_time": "2019-09-28T16:03:25.180551Z"
    }
   },
   "outputs": [],
   "source": [
    "shifts = {}\n",
    "for shift in range(-20,20):\n",
    "    s = df[['pred_0','new_card_id']].groupby('new_card_id').shift(shift)['pred_0']\n",
    "    shifts[shift] = s"
   ]
  },
  {
   "cell_type": "code",
   "execution_count": 10,
   "metadata": {
    "ExecuteTime": {
     "end_time": "2019-09-28T16:03:31.526647Z",
     "start_time": "2019-09-28T16:03:31.177633Z"
    }
   },
   "outputs": [
    {
     "name": "stderr",
     "output_type": "stream",
     "text": [
      "c:\\python37\\lib\\site-packages\\ipykernel_launcher.py:3: SettingWithCopyWarning: \n",
      "A value is trying to be set on a copy of a slice from a DataFrame.\n",
      "Try using .loc[row_indexer,col_indexer] = value instead\n",
      "\n",
      "See the caveats in the documentation: http://pandas.pydata.org/pandas-docs/stable/user_guide/indexing.html#returning-a-view-versus-a-copy\n",
      "  This is separate from the ipykernel package so we can avoid doing imports until\n"
     ]
    }
   ],
   "source": [
    "for k,v in shifts.items():\n",
    "    if k!=0:\n",
    "        df[f'pred_{k}']=v"
   ]
  },
  {
   "cell_type": "code",
   "execution_count": 11,
   "metadata": {
    "ExecuteTime": {
     "end_time": "2019-09-28T16:03:32.551653Z",
     "start_time": "2019-09-28T16:03:31.528639Z"
    }
   },
   "outputs": [],
   "source": [
    "df = df.fillna(-1)"
   ]
  },
  {
   "cell_type": "code",
   "execution_count": 12,
   "metadata": {
    "ExecuteTime": {
     "end_time": "2019-09-28T16:03:33.327322Z",
     "start_time": "2019-09-28T16:03:32.553656Z"
    }
   },
   "outputs": [],
   "source": [
    "X = df[df.isFraud>=0].drop(['isFraud'],axis=1)\n",
    "y = df[df.isFraud>=0]['isFraud']\n",
    "test = df[df.isFraud<0].drop(['isFraud'],axis=1)\n"
   ]
  },
  {
   "cell_type": "code",
   "execution_count": null,
   "metadata": {},
   "outputs": [],
   "source": []
  },
  {
   "cell_type": "code",
   "execution_count": 13,
   "metadata": {
    "ExecuteTime": {
     "end_time": "2019-09-28T16:03:33.728368Z",
     "start_time": "2019-09-28T16:03:33.329287Z"
    }
   },
   "outputs": [
    {
     "data": {
      "text/html": [
       "<div>\n",
       "<style scoped>\n",
       "    .dataframe tbody tr th:only-of-type {\n",
       "        vertical-align: middle;\n",
       "    }\n",
       "\n",
       "    .dataframe tbody tr th {\n",
       "        vertical-align: top;\n",
       "    }\n",
       "\n",
       "    .dataframe thead th {\n",
       "        text-align: right;\n",
       "    }\n",
       "</style>\n",
       "<table border=\"1\" class=\"dataframe\">\n",
       "  <thead>\n",
       "    <tr style=\"text-align: right;\">\n",
       "      <th></th>\n",
       "      <th>new_card_id</th>\n",
       "      <th>pred_0</th>\n",
       "      <th>pred_-20</th>\n",
       "      <th>pred_-19</th>\n",
       "      <th>pred_-18</th>\n",
       "      <th>pred_-17</th>\n",
       "      <th>pred_-16</th>\n",
       "      <th>pred_-15</th>\n",
       "      <th>pred_-14</th>\n",
       "      <th>pred_-13</th>\n",
       "      <th>...</th>\n",
       "      <th>pred_10</th>\n",
       "      <th>pred_11</th>\n",
       "      <th>pred_12</th>\n",
       "      <th>pred_13</th>\n",
       "      <th>pred_14</th>\n",
       "      <th>pred_15</th>\n",
       "      <th>pred_16</th>\n",
       "      <th>pred_17</th>\n",
       "      <th>pred_18</th>\n",
       "      <th>pred_19</th>\n",
       "    </tr>\n",
       "    <tr>\n",
       "      <th>TransactionID</th>\n",
       "      <th></th>\n",
       "      <th></th>\n",
       "      <th></th>\n",
       "      <th></th>\n",
       "      <th></th>\n",
       "      <th></th>\n",
       "      <th></th>\n",
       "      <th></th>\n",
       "      <th></th>\n",
       "      <th></th>\n",
       "      <th></th>\n",
       "      <th></th>\n",
       "      <th></th>\n",
       "      <th></th>\n",
       "      <th></th>\n",
       "      <th></th>\n",
       "      <th></th>\n",
       "      <th></th>\n",
       "      <th></th>\n",
       "      <th></th>\n",
       "      <th></th>\n",
       "    </tr>\n",
       "  </thead>\n",
       "  <tbody>\n",
       "    <tr>\n",
       "      <td>2987000</td>\n",
       "      <td>90165</td>\n",
       "      <td>0.006319</td>\n",
       "      <td>-1.000000</td>\n",
       "      <td>-1.000000</td>\n",
       "      <td>-1.000000</td>\n",
       "      <td>-1.000000</td>\n",
       "      <td>-1.000000</td>\n",
       "      <td>-1.000000</td>\n",
       "      <td>-1.000000</td>\n",
       "      <td>-1.000000</td>\n",
       "      <td>...</td>\n",
       "      <td>-1.000000</td>\n",
       "      <td>-1.000000</td>\n",
       "      <td>-1.000000</td>\n",
       "      <td>-1.000000</td>\n",
       "      <td>-1.000000</td>\n",
       "      <td>-1.000000</td>\n",
       "      <td>-1.000000</td>\n",
       "      <td>-1.000000</td>\n",
       "      <td>-1.000000</td>\n",
       "      <td>-1.000000</td>\n",
       "    </tr>\n",
       "    <tr>\n",
       "      <td>2987001</td>\n",
       "      <td>137</td>\n",
       "      <td>0.004095</td>\n",
       "      <td>0.006338</td>\n",
       "      <td>0.000916</td>\n",
       "      <td>0.000852</td>\n",
       "      <td>0.000789</td>\n",
       "      <td>0.157567</td>\n",
       "      <td>0.026865</td>\n",
       "      <td>0.014012</td>\n",
       "      <td>0.003320</td>\n",
       "      <td>...</td>\n",
       "      <td>-1.000000</td>\n",
       "      <td>-1.000000</td>\n",
       "      <td>-1.000000</td>\n",
       "      <td>-1.000000</td>\n",
       "      <td>-1.000000</td>\n",
       "      <td>-1.000000</td>\n",
       "      <td>-1.000000</td>\n",
       "      <td>-1.000000</td>\n",
       "      <td>-1.000000</td>\n",
       "      <td>-1.000000</td>\n",
       "    </tr>\n",
       "    <tr>\n",
       "      <td>2987002</td>\n",
       "      <td>105</td>\n",
       "      <td>0.003470</td>\n",
       "      <td>0.000204</td>\n",
       "      <td>0.000375</td>\n",
       "      <td>0.003269</td>\n",
       "      <td>0.000829</td>\n",
       "      <td>0.000709</td>\n",
       "      <td>0.000846</td>\n",
       "      <td>0.000730</td>\n",
       "      <td>0.000544</td>\n",
       "      <td>...</td>\n",
       "      <td>-1.000000</td>\n",
       "      <td>-1.000000</td>\n",
       "      <td>-1.000000</td>\n",
       "      <td>-1.000000</td>\n",
       "      <td>-1.000000</td>\n",
       "      <td>-1.000000</td>\n",
       "      <td>-1.000000</td>\n",
       "      <td>-1.000000</td>\n",
       "      <td>-1.000000</td>\n",
       "      <td>-1.000000</td>\n",
       "    </tr>\n",
       "    <tr>\n",
       "      <td>2987003</td>\n",
       "      <td>529</td>\n",
       "      <td>0.001668</td>\n",
       "      <td>0.001242</td>\n",
       "      <td>0.001456</td>\n",
       "      <td>0.001776</td>\n",
       "      <td>0.005685</td>\n",
       "      <td>0.008501</td>\n",
       "      <td>0.007135</td>\n",
       "      <td>0.002135</td>\n",
       "      <td>0.001777</td>\n",
       "      <td>...</td>\n",
       "      <td>-1.000000</td>\n",
       "      <td>-1.000000</td>\n",
       "      <td>-1.000000</td>\n",
       "      <td>-1.000000</td>\n",
       "      <td>-1.000000</td>\n",
       "      <td>-1.000000</td>\n",
       "      <td>-1.000000</td>\n",
       "      <td>-1.000000</td>\n",
       "      <td>-1.000000</td>\n",
       "      <td>-1.000000</td>\n",
       "    </tr>\n",
       "    <tr>\n",
       "      <td>2987004</td>\n",
       "      <td>9324</td>\n",
       "      <td>0.002614</td>\n",
       "      <td>-1.000000</td>\n",
       "      <td>-1.000000</td>\n",
       "      <td>-1.000000</td>\n",
       "      <td>-1.000000</td>\n",
       "      <td>-1.000000</td>\n",
       "      <td>0.020629</td>\n",
       "      <td>0.000524</td>\n",
       "      <td>0.000990</td>\n",
       "      <td>...</td>\n",
       "      <td>-1.000000</td>\n",
       "      <td>-1.000000</td>\n",
       "      <td>-1.000000</td>\n",
       "      <td>-1.000000</td>\n",
       "      <td>-1.000000</td>\n",
       "      <td>-1.000000</td>\n",
       "      <td>-1.000000</td>\n",
       "      <td>-1.000000</td>\n",
       "      <td>-1.000000</td>\n",
       "      <td>-1.000000</td>\n",
       "    </tr>\n",
       "    <tr>\n",
       "      <td>...</td>\n",
       "      <td>...</td>\n",
       "      <td>...</td>\n",
       "      <td>...</td>\n",
       "      <td>...</td>\n",
       "      <td>...</td>\n",
       "      <td>...</td>\n",
       "      <td>...</td>\n",
       "      <td>...</td>\n",
       "      <td>...</td>\n",
       "      <td>...</td>\n",
       "      <td>...</td>\n",
       "      <td>...</td>\n",
       "      <td>...</td>\n",
       "      <td>...</td>\n",
       "      <td>...</td>\n",
       "      <td>...</td>\n",
       "      <td>...</td>\n",
       "      <td>...</td>\n",
       "      <td>...</td>\n",
       "      <td>...</td>\n",
       "      <td>...</td>\n",
       "    </tr>\n",
       "    <tr>\n",
       "      <td>3577535</td>\n",
       "      <td>120314</td>\n",
       "      <td>0.000612</td>\n",
       "      <td>-1.000000</td>\n",
       "      <td>-1.000000</td>\n",
       "      <td>-1.000000</td>\n",
       "      <td>-1.000000</td>\n",
       "      <td>-1.000000</td>\n",
       "      <td>-1.000000</td>\n",
       "      <td>-1.000000</td>\n",
       "      <td>-1.000000</td>\n",
       "      <td>...</td>\n",
       "      <td>-1.000000</td>\n",
       "      <td>-1.000000</td>\n",
       "      <td>-1.000000</td>\n",
       "      <td>-1.000000</td>\n",
       "      <td>-1.000000</td>\n",
       "      <td>-1.000000</td>\n",
       "      <td>-1.000000</td>\n",
       "      <td>-1.000000</td>\n",
       "      <td>-1.000000</td>\n",
       "      <td>-1.000000</td>\n",
       "    </tr>\n",
       "    <tr>\n",
       "      <td>3577536</td>\n",
       "      <td>18607</td>\n",
       "      <td>0.001739</td>\n",
       "      <td>-1.000000</td>\n",
       "      <td>-1.000000</td>\n",
       "      <td>-1.000000</td>\n",
       "      <td>-1.000000</td>\n",
       "      <td>-1.000000</td>\n",
       "      <td>-1.000000</td>\n",
       "      <td>-1.000000</td>\n",
       "      <td>-1.000000</td>\n",
       "      <td>...</td>\n",
       "      <td>-1.000000</td>\n",
       "      <td>-1.000000</td>\n",
       "      <td>-1.000000</td>\n",
       "      <td>-1.000000</td>\n",
       "      <td>-1.000000</td>\n",
       "      <td>-1.000000</td>\n",
       "      <td>-1.000000</td>\n",
       "      <td>-1.000000</td>\n",
       "      <td>-1.000000</td>\n",
       "      <td>-1.000000</td>\n",
       "    </tr>\n",
       "    <tr>\n",
       "      <td>3577537</td>\n",
       "      <td>202</td>\n",
       "      <td>0.000314</td>\n",
       "      <td>0.002689</td>\n",
       "      <td>0.600241</td>\n",
       "      <td>0.070511</td>\n",
       "      <td>0.005953</td>\n",
       "      <td>0.001572</td>\n",
       "      <td>0.001668</td>\n",
       "      <td>0.002720</td>\n",
       "      <td>0.003389</td>\n",
       "      <td>...</td>\n",
       "      <td>0.000549</td>\n",
       "      <td>0.000921</td>\n",
       "      <td>0.000697</td>\n",
       "      <td>0.002141</td>\n",
       "      <td>0.001854</td>\n",
       "      <td>0.000717</td>\n",
       "      <td>0.007580</td>\n",
       "      <td>0.003921</td>\n",
       "      <td>0.005077</td>\n",
       "      <td>0.000969</td>\n",
       "    </tr>\n",
       "    <tr>\n",
       "      <td>3577538</td>\n",
       "      <td>4488</td>\n",
       "      <td>0.005515</td>\n",
       "      <td>-1.000000</td>\n",
       "      <td>-1.000000</td>\n",
       "      <td>-1.000000</td>\n",
       "      <td>-1.000000</td>\n",
       "      <td>-1.000000</td>\n",
       "      <td>-1.000000</td>\n",
       "      <td>-1.000000</td>\n",
       "      <td>-1.000000</td>\n",
       "      <td>...</td>\n",
       "      <td>0.004703</td>\n",
       "      <td>0.002970</td>\n",
       "      <td>0.011154</td>\n",
       "      <td>0.034898</td>\n",
       "      <td>0.046880</td>\n",
       "      <td>0.039751</td>\n",
       "      <td>0.030285</td>\n",
       "      <td>0.074333</td>\n",
       "      <td>0.041834</td>\n",
       "      <td>-1.000000</td>\n",
       "    </tr>\n",
       "    <tr>\n",
       "      <td>3577539</td>\n",
       "      <td>3</td>\n",
       "      <td>0.000981</td>\n",
       "      <td>0.005800</td>\n",
       "      <td>0.002438</td>\n",
       "      <td>0.001612</td>\n",
       "      <td>0.002862</td>\n",
       "      <td>0.020928</td>\n",
       "      <td>0.000914</td>\n",
       "      <td>0.001680</td>\n",
       "      <td>0.028030</td>\n",
       "      <td>...</td>\n",
       "      <td>0.001212</td>\n",
       "      <td>0.000127</td>\n",
       "      <td>0.225461</td>\n",
       "      <td>0.066780</td>\n",
       "      <td>0.904168</td>\n",
       "      <td>0.003132</td>\n",
       "      <td>0.031795</td>\n",
       "      <td>0.000733</td>\n",
       "      <td>0.017858</td>\n",
       "      <td>0.000509</td>\n",
       "    </tr>\n",
       "  </tbody>\n",
       "</table>\n",
       "<p>590540 rows × 41 columns</p>\n",
       "</div>"
      ],
      "text/plain": [
       "               new_card_id    pred_0  pred_-20  pred_-19  pred_-18  pred_-17  \\\n",
       "TransactionID                                                                  \n",
       "2987000              90165  0.006319 -1.000000 -1.000000 -1.000000 -1.000000   \n",
       "2987001                137  0.004095  0.006338  0.000916  0.000852  0.000789   \n",
       "2987002                105  0.003470  0.000204  0.000375  0.003269  0.000829   \n",
       "2987003                529  0.001668  0.001242  0.001456  0.001776  0.005685   \n",
       "2987004               9324  0.002614 -1.000000 -1.000000 -1.000000 -1.000000   \n",
       "...                    ...       ...       ...       ...       ...       ...   \n",
       "3577535             120314  0.000612 -1.000000 -1.000000 -1.000000 -1.000000   \n",
       "3577536              18607  0.001739 -1.000000 -1.000000 -1.000000 -1.000000   \n",
       "3577537                202  0.000314  0.002689  0.600241  0.070511  0.005953   \n",
       "3577538               4488  0.005515 -1.000000 -1.000000 -1.000000 -1.000000   \n",
       "3577539                  3  0.000981  0.005800  0.002438  0.001612  0.002862   \n",
       "\n",
       "               pred_-16  pred_-15  pred_-14  pred_-13  ...   pred_10  \\\n",
       "TransactionID                                          ...             \n",
       "2987000       -1.000000 -1.000000 -1.000000 -1.000000  ... -1.000000   \n",
       "2987001        0.157567  0.026865  0.014012  0.003320  ... -1.000000   \n",
       "2987002        0.000709  0.000846  0.000730  0.000544  ... -1.000000   \n",
       "2987003        0.008501  0.007135  0.002135  0.001777  ... -1.000000   \n",
       "2987004       -1.000000  0.020629  0.000524  0.000990  ... -1.000000   \n",
       "...                 ...       ...       ...       ...  ...       ...   \n",
       "3577535       -1.000000 -1.000000 -1.000000 -1.000000  ... -1.000000   \n",
       "3577536       -1.000000 -1.000000 -1.000000 -1.000000  ... -1.000000   \n",
       "3577537        0.001572  0.001668  0.002720  0.003389  ...  0.000549   \n",
       "3577538       -1.000000 -1.000000 -1.000000 -1.000000  ...  0.004703   \n",
       "3577539        0.020928  0.000914  0.001680  0.028030  ...  0.001212   \n",
       "\n",
       "                pred_11   pred_12   pred_13   pred_14   pred_15   pred_16  \\\n",
       "TransactionID                                                               \n",
       "2987000       -1.000000 -1.000000 -1.000000 -1.000000 -1.000000 -1.000000   \n",
       "2987001       -1.000000 -1.000000 -1.000000 -1.000000 -1.000000 -1.000000   \n",
       "2987002       -1.000000 -1.000000 -1.000000 -1.000000 -1.000000 -1.000000   \n",
       "2987003       -1.000000 -1.000000 -1.000000 -1.000000 -1.000000 -1.000000   \n",
       "2987004       -1.000000 -1.000000 -1.000000 -1.000000 -1.000000 -1.000000   \n",
       "...                 ...       ...       ...       ...       ...       ...   \n",
       "3577535       -1.000000 -1.000000 -1.000000 -1.000000 -1.000000 -1.000000   \n",
       "3577536       -1.000000 -1.000000 -1.000000 -1.000000 -1.000000 -1.000000   \n",
       "3577537        0.000921  0.000697  0.002141  0.001854  0.000717  0.007580   \n",
       "3577538        0.002970  0.011154  0.034898  0.046880  0.039751  0.030285   \n",
       "3577539        0.000127  0.225461  0.066780  0.904168  0.003132  0.031795   \n",
       "\n",
       "                pred_17   pred_18   pred_19  \n",
       "TransactionID                                \n",
       "2987000       -1.000000 -1.000000 -1.000000  \n",
       "2987001       -1.000000 -1.000000 -1.000000  \n",
       "2987002       -1.000000 -1.000000 -1.000000  \n",
       "2987003       -1.000000 -1.000000 -1.000000  \n",
       "2987004       -1.000000 -1.000000 -1.000000  \n",
       "...                 ...       ...       ...  \n",
       "3577535       -1.000000 -1.000000 -1.000000  \n",
       "3577536       -1.000000 -1.000000 -1.000000  \n",
       "3577537        0.003921  0.005077  0.000969  \n",
       "3577538        0.074333  0.041834 -1.000000  \n",
       "3577539        0.000733  0.017858  0.000509  \n",
       "\n",
       "[590540 rows x 41 columns]"
      ]
     },
     "execution_count": 13,
     "metadata": {},
     "output_type": "execute_result"
    }
   ],
   "source": [
    "X"
   ]
  },
  {
   "cell_type": "code",
   "execution_count": 14,
   "metadata": {
    "ExecuteTime": {
     "end_time": "2019-09-28T16:03:33.856317Z",
     "start_time": "2019-09-28T16:03:33.730293Z"
    }
   },
   "outputs": [],
   "source": [
    "categorical_features = [c for c, col in enumerate(X.columns) if col in ['new_card_id']]\n"
   ]
  },
  {
   "cell_type": "code",
   "execution_count": 19,
   "metadata": {
    "ExecuteTime": {
     "end_time": "2019-09-28T16:03:54.247042Z",
     "start_time": "2019-09-28T16:03:53.994291Z"
    }
   },
   "outputs": [],
   "source": [
    "params = {'learning_rate': 0.02,\n",
    "          \"boosting_type\": \"gbdt\",\n",
    "          \"bagging_seed\": 11,\n",
    "          \"metric\": 'auc',\n",
    "          \"verbosity\": -1,\n",
    "          'reg_alpha': 0.5899927210061127,\n",
    "          'reg_lambda': 0.8485237330340494,\n",
    "          'random_state': 47, \n",
    "#           'categorical_feature': categorical_features,\n",
    "         }\n"
   ]
  },
  {
   "cell_type": "code",
   "execution_count": 20,
   "metadata": {
    "ExecuteTime": {
     "end_time": "2019-09-28T16:03:56.073063Z",
     "start_time": "2019-09-28T16:03:55.830054Z"
    }
   },
   "outputs": [],
   "source": [
    "from sklearn.model_selection import KFold\n",
    "n_fold = 5\n",
    "# folds = TimeSeriesSplit(n_splits=n_fold)\n",
    "folds = KFold(n_splits=5)"
   ]
  },
  {
   "cell_type": "code",
   "execution_count": 21,
   "metadata": {
    "ExecuteTime": {
     "end_time": "2019-09-28T16:03:57.894471Z",
     "start_time": "2019-09-28T16:03:57.647384Z"
    }
   },
   "outputs": [],
   "source": [
    "from BayDS.lib.training import *"
   ]
  },
  {
   "cell_type": "code",
   "execution_count": 22,
   "metadata": {
    "ExecuteTime": {
     "end_time": "2019-09-28T16:28:10.071793Z",
     "start_time": "2019-09-28T16:03:59.482410Z"
    }
   },
   "outputs": [
    {
     "name": "stdout",
     "output_type": "stream",
     "text": [
      "Fold 1 started at Sat Sep 28 19:03:59 2019\n",
      "Training until validation scores don't improve for 1000 rounds.\n",
      "[100]\ttraining's auc: 0.949644\ttraining's auc: 0.949638\tvalid_1's auc: 0.921811\tvalid_1's auc: 0.921648\n",
      "[200]\ttraining's auc: 0.953872\ttraining's auc: 0.953868\tvalid_1's auc: 0.922052\tvalid_1's auc: 0.922044\n",
      "[300]\ttraining's auc: 0.957046\ttraining's auc: 0.957046\tvalid_1's auc: 0.921869\tvalid_1's auc: 0.921869\n",
      "[400]\ttraining's auc: 0.959033\ttraining's auc: 0.959033\tvalid_1's auc: 0.921616\tvalid_1's auc: 0.921614\n",
      "[500]\ttraining's auc: 0.96096\ttraining's auc: 0.96096\tvalid_1's auc: 0.921227\tvalid_1's auc: 0.921227\n",
      "[600]\ttraining's auc: 0.962804\ttraining's auc: 0.962804\tvalid_1's auc: 0.920933\tvalid_1's auc: 0.920931\n",
      "[700]\ttraining's auc: 0.964467\ttraining's auc: 0.964467\tvalid_1's auc: 0.920742\tvalid_1's auc: 0.920743\n",
      "[800]\ttraining's auc: 0.966052\ttraining's auc: 0.966052\tvalid_1's auc: 0.920609\tvalid_1's auc: 0.920609\n",
      "[900]\ttraining's auc: 0.967611\ttraining's auc: 0.967611\tvalid_1's auc: 0.920502\tvalid_1's auc: 0.9205\n",
      "[1000]\ttraining's auc: 0.968934\ttraining's auc: 0.968934\tvalid_1's auc: 0.920356\tvalid_1's auc: 0.920355\n",
      "[1100]\ttraining's auc: 0.970287\ttraining's auc: 0.970287\tvalid_1's auc: 0.920241\tvalid_1's auc: 0.920241\n",
      "Early stopping, best iteration is:\n",
      "[153]\ttraining's auc: 0.951662\ttraining's auc: 0.951664\tvalid_1's auc: 0.922346\tvalid_1's auc: 0.922372\n",
      "Fold 2 started at Sat Sep 28 19:08:03 2019\n",
      "Training until validation scores don't improve for 1000 rounds.\n",
      "[100]\ttraining's auc: 0.945124\ttraining's auc: 0.945228\tvalid_1's auc: 0.946257\tvalid_1's auc: 0.946342\n",
      "[200]\ttraining's auc: 0.950414\ttraining's auc: 0.950419\tvalid_1's auc: 0.947405\tvalid_1's auc: 0.947405\n",
      "[300]\ttraining's auc: 0.954143\ttraining's auc: 0.954144\tvalid_1's auc: 0.947707\tvalid_1's auc: 0.947707\n",
      "[400]\ttraining's auc: 0.956468\ttraining's auc: 0.956467\tvalid_1's auc: 0.947805\tvalid_1's auc: 0.947805\n",
      "[500]\ttraining's auc: 0.958639\ttraining's auc: 0.958639\tvalid_1's auc: 0.947829\tvalid_1's auc: 0.947829\n",
      "[600]\ttraining's auc: 0.960916\ttraining's auc: 0.960916\tvalid_1's auc: 0.947742\tvalid_1's auc: 0.947742\n",
      "[700]\ttraining's auc: 0.962727\ttraining's auc: 0.962727\tvalid_1's auc: 0.947688\tvalid_1's auc: 0.947688\n",
      "[800]\ttraining's auc: 0.964537\ttraining's auc: 0.964537\tvalid_1's auc: 0.94762\tvalid_1's auc: 0.94762\n",
      "[900]\ttraining's auc: 0.966089\ttraining's auc: 0.966089\tvalid_1's auc: 0.947622\tvalid_1's auc: 0.947622\n",
      "[1000]\ttraining's auc: 0.967626\ttraining's auc: 0.967626\tvalid_1's auc: 0.947504\tvalid_1's auc: 0.947504\n",
      "[1100]\ttraining's auc: 0.968895\ttraining's auc: 0.968895\tvalid_1's auc: 0.947377\tvalid_1's auc: 0.947377\n",
      "[1200]\ttraining's auc: 0.970168\ttraining's auc: 0.970168\tvalid_1's auc: 0.947211\tvalid_1's auc: 0.947211\n",
      "[1300]\ttraining's auc: 0.971266\ttraining's auc: 0.971266\tvalid_1's auc: 0.947135\tvalid_1's auc: 0.947135\n",
      "[1400]\ttraining's auc: 0.972349\ttraining's auc: 0.972349\tvalid_1's auc: 0.947021\tvalid_1's auc: 0.947021\n",
      "Early stopping, best iteration is:\n",
      "[498]\ttraining's auc: 0.95862\ttraining's auc: 0.95862\tvalid_1's auc: 0.947838\tvalid_1's auc: 0.947837\n",
      "Fold 3 started at Sat Sep 28 19:13:25 2019\n",
      "Training until validation scores don't improve for 1000 rounds.\n",
      "[100]\ttraining's auc: 0.945466\ttraining's auc: 0.945528\tvalid_1's auc: 0.94408\tvalid_1's auc: 0.944269\n",
      "[200]\ttraining's auc: 0.950604\ttraining's auc: 0.9506\tvalid_1's auc: 0.945064\tvalid_1's auc: 0.945089\n",
      "[300]\ttraining's auc: 0.95417\ttraining's auc: 0.95417\tvalid_1's auc: 0.94503\tvalid_1's auc: 0.945025\n",
      "[400]\ttraining's auc: 0.956594\ttraining's auc: 0.956594\tvalid_1's auc: 0.945047\tvalid_1's auc: 0.945048\n",
      "[500]\ttraining's auc: 0.958875\ttraining's auc: 0.958875\tvalid_1's auc: 0.945169\tvalid_1's auc: 0.945169\n",
      "[600]\ttraining's auc: 0.960829\ttraining's auc: 0.960829\tvalid_1's auc: 0.945201\tvalid_1's auc: 0.945201\n",
      "[700]\ttraining's auc: 0.962464\ttraining's auc: 0.962465\tvalid_1's auc: 0.945165\tvalid_1's auc: 0.945165\n",
      "[800]\ttraining's auc: 0.964244\ttraining's auc: 0.964244\tvalid_1's auc: 0.945108\tvalid_1's auc: 0.945108\n",
      "[900]\ttraining's auc: 0.965783\ttraining's auc: 0.965783\tvalid_1's auc: 0.945111\tvalid_1's auc: 0.945111\n",
      "[1000]\ttraining's auc: 0.967331\ttraining's auc: 0.967331\tvalid_1's auc: 0.945021\tvalid_1's auc: 0.945021\n",
      "[1100]\ttraining's auc: 0.968652\ttraining's auc: 0.968652\tvalid_1's auc: 0.94494\tvalid_1's auc: 0.94494\n",
      "[1200]\ttraining's auc: 0.969885\ttraining's auc: 0.969885\tvalid_1's auc: 0.944871\tvalid_1's auc: 0.944871\n",
      "[1300]\ttraining's auc: 0.971015\ttraining's auc: 0.971015\tvalid_1's auc: 0.944821\tvalid_1's auc: 0.94482\n",
      "[1400]\ttraining's auc: 0.972131\ttraining's auc: 0.972131\tvalid_1's auc: 0.944735\tvalid_1's auc: 0.944735\n",
      "[1500]\ttraining's auc: 0.973088\ttraining's auc: 0.973088\tvalid_1's auc: 0.944712\tvalid_1's auc: 0.944712\n",
      "Early stopping, best iteration is:\n",
      "[553]\ttraining's auc: 0.959893\ttraining's auc: 0.959893\tvalid_1's auc: 0.945227\tvalid_1's auc: 0.945228\n",
      "Fold 4 started at Sat Sep 28 19:19:08 2019\n",
      "Training until validation scores don't improve for 1000 rounds.\n",
      "[100]\ttraining's auc: 0.943549\ttraining's auc: 0.943624\tvalid_1's auc: 0.957735\tvalid_1's auc: 0.957725\n",
      "[200]\ttraining's auc: 0.948442\ttraining's auc: 0.948441\tvalid_1's auc: 0.957803\tvalid_1's auc: 0.957801\n",
      "[300]\ttraining's auc: 0.951871\ttraining's auc: 0.951871\tvalid_1's auc: 0.957789\tvalid_1's auc: 0.95779\n",
      "[400]\ttraining's auc: 0.954232\ttraining's auc: 0.954232\tvalid_1's auc: 0.957644\tvalid_1's auc: 0.957644\n",
      "[500]\ttraining's auc: 0.956389\ttraining's auc: 0.956388\tvalid_1's auc: 0.957459\tvalid_1's auc: 0.95746\n",
      "[600]\ttraining's auc: 0.958365\ttraining's auc: 0.958365\tvalid_1's auc: 0.957335\tvalid_1's auc: 0.957336\n",
      "[700]\ttraining's auc: 0.96019\ttraining's auc: 0.96019\tvalid_1's auc: 0.957226\tvalid_1's auc: 0.957225\n",
      "[800]\ttraining's auc: 0.9618\ttraining's auc: 0.9618\tvalid_1's auc: 0.957116\tvalid_1's auc: 0.957116\n",
      "[900]\ttraining's auc: 0.963467\ttraining's auc: 0.963467\tvalid_1's auc: 0.957005\tvalid_1's auc: 0.957005\n",
      "[1000]\ttraining's auc: 0.964776\ttraining's auc: 0.964776\tvalid_1's auc: 0.956913\tvalid_1's auc: 0.956913\n",
      "[1100]\ttraining's auc: 0.966281\ttraining's auc: 0.966281\tvalid_1's auc: 0.95677\tvalid_1's auc: 0.95677\n",
      "Early stopping, best iteration is:\n",
      "[193]\ttraining's auc: 0.948139\ttraining's auc: 0.94814\tvalid_1's auc: 0.957834\tvalid_1's auc: 0.957835\n",
      "Fold 5 started at Sat Sep 28 19:23:33 2019\n",
      "Training until validation scores don't improve for 1000 rounds.\n",
      "[100]\ttraining's auc: 0.945646\ttraining's auc: 0.945739\tvalid_1's auc: 0.940619\tvalid_1's auc: 0.940539\n",
      "[200]\ttraining's auc: 0.950261\ttraining's auc: 0.950263\tvalid_1's auc: 0.942578\tvalid_1's auc: 0.942576\n",
      "[300]\ttraining's auc: 0.953985\ttraining's auc: 0.953986\tvalid_1's auc: 0.942325\tvalid_1's auc: 0.942327\n",
      "[400]\ttraining's auc: 0.956218\ttraining's auc: 0.956218\tvalid_1's auc: 0.942189\tvalid_1's auc: 0.942187\n",
      "[500]\ttraining's auc: 0.958347\ttraining's auc: 0.958347\tvalid_1's auc: 0.942062\tvalid_1's auc: 0.942062\n",
      "[600]\ttraining's auc: 0.960553\ttraining's auc: 0.960553\tvalid_1's auc: 0.941958\tvalid_1's auc: 0.941956\n",
      "[700]\ttraining's auc: 0.962541\ttraining's auc: 0.962541\tvalid_1's auc: 0.941889\tvalid_1's auc: 0.941887\n",
      "[800]\ttraining's auc: 0.964387\ttraining's auc: 0.964387\tvalid_1's auc: 0.941796\tvalid_1's auc: 0.941795\n",
      "[900]\ttraining's auc: 0.966056\ttraining's auc: 0.966056\tvalid_1's auc: 0.941791\tvalid_1's auc: 0.941792\n",
      "[1000]\ttraining's auc: 0.967429\ttraining's auc: 0.967429\tvalid_1's auc: 0.941763\tvalid_1's auc: 0.941764\n",
      "[1100]\ttraining's auc: 0.968696\ttraining's auc: 0.968696\tvalid_1's auc: 0.941721\tvalid_1's auc: 0.941722\n",
      "[1200]\ttraining's auc: 0.970131\ttraining's auc: 0.970131\tvalid_1's auc: 0.941608\tvalid_1's auc: 0.941608\n",
      "Early stopping, best iteration is:\n",
      "[226]\ttraining's auc: 0.951541\ttraining's auc: 0.951538\tvalid_1's auc: 0.942765\tvalid_1's auc: 0.942765\n",
      "CV mean score: 0.9432, std: 0.0116.\n"
     ]
    },
    {
     "data": {
      "image/png": "[encoded data removed]",
      "text/plain": [
       "<Figure size 1152x864 with 1 Axes>"
      ]
     },
     "metadata": {
      "needs_background": "light"
     },
     "output_type": "display_data"
    }
   ],
   "source": [
    "result_dict_lgb = train_model_classification(X=X, X_test=test, y=y, params=params, folds=folds, model_type='lgb', eval_metric='auc', plot_feature_importance=True,\n",
    "                                                      verbose=100, early_stopping_rounds=1000, n_estimators=5000, averaging='usual', groups=None)"
   ]
  },
  {
   "cell_type": "code",
   "execution_count": 23,
   "metadata": {
    "ExecuteTime": {
     "end_time": "2019-09-28T16:28:12.070428Z",
     "start_time": "2019-09-28T16:28:11.772673Z"
    }
   },
   "outputs": [],
   "source": [
    "import pickle\n",
    "pickle.dump(result_dict_lgb, open(f'{p.working_folder}/results_dict_lgbm_20_train2_best.pkl','wb'))"
   ]
  },
  {
   "cell_type": "code",
   "execution_count": 24,
   "metadata": {
    "ExecuteTime": {
     "end_time": "2019-09-28T16:28:14.076456Z",
     "start_time": "2019-09-28T16:28:13.823449Z"
    }
   },
   "outputs": [],
   "source": [
    "# test = test.sort_values('Date')\n",
    "test['prediction'] = result_dict_lgb['prediction']"
   ]
  },
  {
   "cell_type": "code",
   "execution_count": 25,
   "metadata": {
    "ExecuteTime": {
     "end_time": "2019-09-28T16:28:18.807084Z",
     "start_time": "2019-09-28T16:28:15.976025Z"
    }
   },
   "outputs": [],
   "source": [
    "# folder_path = './data/'\n",
    "sub = pd.read_csv(f'{data_path}/sample_submission.csv')\n",
    "sub['isFraud'] = pd.merge(sub, test['prediction'], on='TransactionID')['prediction']\n",
    "sub.to_csv(f'{p.working_folder}/submission_dynamic_lgbm_20_best_tr2.csv', index=False)"
   ]
  }
 ],
 "metadata": {
  "kernelspec": {
   "display_name": "Python 3",
   "language": "python",
   "name": "python3"
  },
  "language_info": {
   "codemirror_mode": {
    "name": "ipython",
    "version": 3
   },
   "file_extension": ".py",
   "mimetype": "text/x-python",
   "name": "python",
   "nbconvert_exporter": "python",
   "pygments_lexer": "ipython3",
   "version": "3.7.4"
  },
  "toc": {
   "base_numbering": 1,
   "nav_menu": {},
   "number_sections": true,
   "sideBar": true,
   "skip_h1_title": false,
   "title_cell": "Table of Contents",
   "title_sidebar": "Contents",
   "toc_cell": false,
   "toc_position": {},
   "toc_section_display": true,
   "toc_window_display": false
  },
  "varInspector": {
   "cols": {
    "lenName": 16,
    "lenType": 16,
    "lenVar": 40
   },
   "kernels_config": {
    "python": {
     "delete_cmd_postfix": "",
     "delete_cmd_prefix": "del ",
     "library": "var_list.py",
     "varRefreshCmd": "print(var_dic_list())"
    },
    "r": {
     "delete_cmd_postfix": ") ",
     "delete_cmd_prefix": "rm(",
     "library": "var_list.r",
     "varRefreshCmd": "cat(var_dic_list()) "
    }
   },
   "types_to_exclude": [
    "module",
    "function",
    "builtin_function_or_method",
    "instance",
    "_Feature"
   ],
   "window_display": false
  }
 },
 "nbformat": 4,
 "nbformat_minor": 2
}
