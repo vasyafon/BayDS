{
 "cells": [
  {
   "cell_type": "code",
   "execution_count": 2,
   "metadata": {
    "ExecuteTime": {
     "end_time": "2019-09-30T16:22:25.063582Z",
     "start_time": "2019-09-30T16:22:19.855552Z"
    }
   },
   "outputs": [],
   "source": [
    "%load_ext autoreload\n",
    "%autoreload 2\n",
    "main_dir = r'../../..'\n",
    "data_path = main_dir+'/data'\n",
    "import sys\n",
    "sys.path.append(main_dir)\n",
    "from typing import List, Set, Dict, Optional, Any, Tuple, Type, Union\n",
    "\n",
    "from BayDS.lib.pipeline import *\n",
    "from BayDS.lib.io import *\n",
    "import os\n"
   ]
  },
  {
   "cell_type": "code",
   "execution_count": 5,
   "metadata": {
    "ExecuteTime": {
     "end_time": "2019-09-30T16:25:19.325114Z",
     "start_time": "2019-09-30T16:25:03.746729Z"
    }
   },
   "outputs": [
    {
     "name": "stdout",
     "output_type": "stream",
     "text": [
      "---------------------------\n",
      "0: LoaderNode [2019-09-30 19:25:03]\n",
      "params:\n",
      " {'input_directory': 'e:/kaggle/05-LabelEncoded-last', 'file': 'label_encoded_data.pkl'}\n",
      "---------------------------\n",
      "1: LoaderNode [2019-09-30 19:25:18]\n",
      "params:\n",
      " {'input_directory': '../../../data/sub', 'file': 'oof_catboost_last.csv'}\n",
      "---------------------------\n",
      "2: LoaderNode [2019-09-30 19:25:19]\n",
      "params:\n",
      " {'input_directory': '../../../data/sub', 'file': 'prediction_catboost_last.csv'}\n"
     ]
    }
   ],
   "source": [
    "data_dir = f'e:/kaggle/05-LabelEncoded-last'\n",
    "p = Pipeline(working_folder=f'{main_dir}/Snapshots/1/catboost_last_dynamics')\n",
    "\n",
    "p.add_node(LoaderNode, None, 'data',\n",
    "           params={\n",
    "               'input_directory': data_dir,\n",
    "               'file': 'label_encoded_data.pkl'\n",
    "           })\n",
    "p.add_node(LoaderNode, None, 'oof',\n",
    "           params={\n",
    "               'input_directory': main_dir+'/data/sub',\n",
    "               'file': 'oof_catboost_last.csv'\n",
    "           })\n",
    "p.add_node(LoaderNode, None, 'predictions',\n",
    "           params={\n",
    "               'input_directory': main_dir+'/data/sub',\n",
    "               'file': 'prediction_catboost_last.csv'\n",
    "           })\n",
    "p.run(verbose=True)\n",
    "p.save()"
   ]
  },
  {
   "cell_type": "code",
   "execution_count": 6,
   "metadata": {
    "ExecuteTime": {
     "end_time": "2019-09-30T16:26:01.982709Z",
     "start_time": "2019-09-30T16:25:36.433553Z"
    }
   },
   "outputs": [],
   "source": [
    "df = p.data['data']\n",
    "df = df[['isFraud', 'new_card_id']]"
   ]
  },
  {
   "cell_type": "code",
   "execution_count": 7,
   "metadata": {
    "ExecuteTime": {
     "end_time": "2019-09-30T16:26:02.568714Z",
     "start_time": "2019-09-30T16:26:02.398718Z"
    }
   },
   "outputs": [
    {
     "data": {
      "text/plain": [
       "Int64Index([2987000, 2987001, 2987002, 2987003, 2987004, 2987005, 2987006,\n",
       "            2987007, 2987008, 2987009,\n",
       "            ...\n",
       "            4170230, 4170231, 4170232, 4170233, 4170234, 4170235, 4170236,\n",
       "            4170237, 4170238, 4170239],\n",
       "           dtype='int64', name='TransactionID', length=1097231)"
      ]
     },
     "execution_count": 7,
     "metadata": {},
     "output_type": "execute_result"
    }
   ],
   "source": [
    "pred = pd.concat([p.data['oof'].set_index('TransactionID')['isFraud'],p.data['predictions'].set_index('TransactionID')['isFraud']],axis=0)#\n",
    "pred.index"
   ]
  },
  {
   "cell_type": "code",
   "execution_count": 8,
   "metadata": {
    "ExecuteTime": {
     "end_time": "2019-09-30T16:26:02.996718Z",
     "start_time": "2019-09-30T16:26:02.867719Z"
    }
   },
   "outputs": [
    {
     "data": {
      "text/plain": [
       "TransactionID\n",
       "2987000    0.012139\n",
       "2987001    0.004310\n",
       "2987002    0.001031\n",
       "2987003    0.001330\n",
       "2987004    0.001785\n",
       "             ...   \n",
       "4170235    0.006686\n",
       "4170236    0.004775\n",
       "4170237    0.006381\n",
       "4170238    0.008974\n",
       "4170239    0.003817\n",
       "Name: isFraud, Length: 1097231, dtype: float64"
      ]
     },
     "execution_count": 8,
     "metadata": {},
     "output_type": "execute_result"
    }
   ],
   "source": [
    "pred"
   ]
  },
  {
   "cell_type": "code",
   "execution_count": 9,
   "metadata": {
    "ExecuteTime": {
     "end_time": "2019-09-30T16:26:03.456145Z",
     "start_time": "2019-09-30T16:26:03.261739Z"
    }
   },
   "outputs": [
    {
     "name": "stderr",
     "output_type": "stream",
     "text": [
      "c:\\python37\\lib\\site-packages\\ipykernel_launcher.py:1: SettingWithCopyWarning: \n",
      "A value is trying to be set on a copy of a slice from a DataFrame.\n",
      "Try using .loc[row_indexer,col_indexer] = value instead\n",
      "\n",
      "See the caveats in the documentation: http://pandas.pydata.org/pandas-docs/stable/user_guide/indexing.html#returning-a-view-versus-a-copy\n",
      "  \"\"\"Entry point for launching an IPython kernel.\n"
     ]
    }
   ],
   "source": [
    "df['pred_0'] = pred"
   ]
  },
  {
   "cell_type": "code",
   "execution_count": 10,
   "metadata": {
    "ExecuteTime": {
     "end_time": "2019-09-30T16:26:03.891630Z",
     "start_time": "2019-09-30T16:26:03.744131Z"
    }
   },
   "outputs": [
    {
     "data": {
      "text/html": [
       "<div>\n",
       "<style scoped>\n",
       "    .dataframe tbody tr th:only-of-type {\n",
       "        vertical-align: middle;\n",
       "    }\n",
       "\n",
       "    .dataframe tbody tr th {\n",
       "        vertical-align: top;\n",
       "    }\n",
       "\n",
       "    .dataframe thead th {\n",
       "        text-align: right;\n",
       "    }\n",
       "</style>\n",
       "<table border=\"1\" class=\"dataframe\">\n",
       "  <thead>\n",
       "    <tr style=\"text-align: right;\">\n",
       "      <th></th>\n",
       "      <th>isFraud</th>\n",
       "      <th>new_card_id</th>\n",
       "      <th>pred_0</th>\n",
       "    </tr>\n",
       "    <tr>\n",
       "      <th>TransactionID</th>\n",
       "      <th></th>\n",
       "      <th></th>\n",
       "      <th></th>\n",
       "    </tr>\n",
       "  </thead>\n",
       "  <tbody>\n",
       "    <tr>\n",
       "      <td>2987000</td>\n",
       "      <td>0</td>\n",
       "      <td>121195</td>\n",
       "      <td>0.012139</td>\n",
       "    </tr>\n",
       "    <tr>\n",
       "      <td>2987001</td>\n",
       "      <td>0</td>\n",
       "      <td>137</td>\n",
       "      <td>0.004310</td>\n",
       "    </tr>\n",
       "    <tr>\n",
       "      <td>2987002</td>\n",
       "      <td>0</td>\n",
       "      <td>105</td>\n",
       "      <td>0.001031</td>\n",
       "    </tr>\n",
       "    <tr>\n",
       "      <td>2987003</td>\n",
       "      <td>0</td>\n",
       "      <td>531</td>\n",
       "      <td>0.001330</td>\n",
       "    </tr>\n",
       "    <tr>\n",
       "      <td>2987004</td>\n",
       "      <td>0</td>\n",
       "      <td>9072</td>\n",
       "      <td>0.001785</td>\n",
       "    </tr>\n",
       "    <tr>\n",
       "      <td>...</td>\n",
       "      <td>...</td>\n",
       "      <td>...</td>\n",
       "      <td>...</td>\n",
       "    </tr>\n",
       "    <tr>\n",
       "      <td>4170235</td>\n",
       "      <td>-1</td>\n",
       "      <td>25</td>\n",
       "      <td>0.006686</td>\n",
       "    </tr>\n",
       "    <tr>\n",
       "      <td>4170236</td>\n",
       "      <td>-1</td>\n",
       "      <td>32220</td>\n",
       "      <td>0.004775</td>\n",
       "    </tr>\n",
       "    <tr>\n",
       "      <td>4170237</td>\n",
       "      <td>-1</td>\n",
       "      <td>152</td>\n",
       "      <td>0.006381</td>\n",
       "    </tr>\n",
       "    <tr>\n",
       "      <td>4170238</td>\n",
       "      <td>-1</td>\n",
       "      <td>100693</td>\n",
       "      <td>0.008974</td>\n",
       "    </tr>\n",
       "    <tr>\n",
       "      <td>4170239</td>\n",
       "      <td>-1</td>\n",
       "      <td>472</td>\n",
       "      <td>0.003817</td>\n",
       "    </tr>\n",
       "  </tbody>\n",
       "</table>\n",
       "<p>1097231 rows × 3 columns</p>\n",
       "</div>"
      ],
      "text/plain": [
       "               isFraud  new_card_id    pred_0\n",
       "TransactionID                                \n",
       "2987000              0       121195  0.012139\n",
       "2987001              0          137  0.004310\n",
       "2987002              0          105  0.001031\n",
       "2987003              0          531  0.001330\n",
       "2987004              0         9072  0.001785\n",
       "...                ...          ...       ...\n",
       "4170235             -1           25  0.006686\n",
       "4170236             -1        32220  0.004775\n",
       "4170237             -1          152  0.006381\n",
       "4170238             -1       100693  0.008974\n",
       "4170239             -1          472  0.003817\n",
       "\n",
       "[1097231 rows x 3 columns]"
      ]
     },
     "execution_count": 10,
     "metadata": {},
     "output_type": "execute_result"
    }
   ],
   "source": [
    "df"
   ]
  },
  {
   "cell_type": "code",
   "execution_count": 11,
   "metadata": {
    "ExecuteTime": {
     "end_time": "2019-09-30T16:26:04.432663Z",
     "start_time": "2019-09-30T16:26:04.153638Z"
    }
   },
   "outputs": [],
   "source": [
    "test = df[['pred_0','new_card_id']].groupby('new_card_id').shift()"
   ]
  },
  {
   "cell_type": "code",
   "execution_count": 12,
   "metadata": {
    "ExecuteTime": {
     "end_time": "2019-09-30T16:26:11.141681Z",
     "start_time": "2019-09-30T16:26:04.703639Z"
    }
   },
   "outputs": [],
   "source": [
    "shifts = {}\n",
    "for shift in range(-20,20):\n",
    "    s = df[['pred_0','new_card_id']].groupby('new_card_id').shift(shift)['pred_0']\n",
    "    shifts[shift] = s"
   ]
  },
  {
   "cell_type": "code",
   "execution_count": 13,
   "metadata": {
    "ExecuteTime": {
     "end_time": "2019-09-30T16:26:11.848694Z",
     "start_time": "2019-09-30T16:26:11.495689Z"
    }
   },
   "outputs": [
    {
     "name": "stderr",
     "output_type": "stream",
     "text": [
      "c:\\python37\\lib\\site-packages\\ipykernel_launcher.py:3: SettingWithCopyWarning: \n",
      "A value is trying to be set on a copy of a slice from a DataFrame.\n",
      "Try using .loc[row_indexer,col_indexer] = value instead\n",
      "\n",
      "See the caveats in the documentation: http://pandas.pydata.org/pandas-docs/stable/user_guide/indexing.html#returning-a-view-versus-a-copy\n",
      "  This is separate from the ipykernel package so we can avoid doing imports until\n"
     ]
    }
   ],
   "source": [
    "for k,v in shifts.items():\n",
    "    if k!=0:\n",
    "        df[f'pred_{k}']=v"
   ]
  },
  {
   "cell_type": "code",
   "execution_count": 14,
   "metadata": {
    "ExecuteTime": {
     "end_time": "2019-09-30T16:26:14.229253Z",
     "start_time": "2019-09-30T16:26:13.163451Z"
    }
   },
   "outputs": [],
   "source": [
    "df = df.fillna(-1)"
   ]
  },
  {
   "cell_type": "code",
   "execution_count": 15,
   "metadata": {
    "ExecuteTime": {
     "end_time": "2019-09-30T16:26:15.827201Z",
     "start_time": "2019-09-30T16:26:15.058209Z"
    }
   },
   "outputs": [],
   "source": [
    "X = df[df.isFraud>=0].drop(['isFraud'],axis=1)\n",
    "y = df[df.isFraud>=0]['isFraud']\n",
    "test = df[df.isFraud<0].drop(['isFraud'],axis=1)\n"
   ]
  },
  {
   "cell_type": "code",
   "execution_count": null,
   "metadata": {},
   "outputs": [],
   "source": []
  },
  {
   "cell_type": "code",
   "execution_count": 16,
   "metadata": {
    "ExecuteTime": {
     "end_time": "2019-09-30T16:26:17.553226Z",
     "start_time": "2019-09-30T16:26:17.156222Z"
    }
   },
   "outputs": [
    {
     "data": {
      "text/html": [
       "<div>\n",
       "<style scoped>\n",
       "    .dataframe tbody tr th:only-of-type {\n",
       "        vertical-align: middle;\n",
       "    }\n",
       "\n",
       "    .dataframe tbody tr th {\n",
       "        vertical-align: top;\n",
       "    }\n",
       "\n",
       "    .dataframe thead th {\n",
       "        text-align: right;\n",
       "    }\n",
       "</style>\n",
       "<table border=\"1\" class=\"dataframe\">\n",
       "  <thead>\n",
       "    <tr style=\"text-align: right;\">\n",
       "      <th></th>\n",
       "      <th>new_card_id</th>\n",
       "      <th>pred_0</th>\n",
       "      <th>pred_-20</th>\n",
       "      <th>pred_-19</th>\n",
       "      <th>pred_-18</th>\n",
       "      <th>pred_-17</th>\n",
       "      <th>pred_-16</th>\n",
       "      <th>pred_-15</th>\n",
       "      <th>pred_-14</th>\n",
       "      <th>pred_-13</th>\n",
       "      <th>...</th>\n",
       "      <th>pred_10</th>\n",
       "      <th>pred_11</th>\n",
       "      <th>pred_12</th>\n",
       "      <th>pred_13</th>\n",
       "      <th>pred_14</th>\n",
       "      <th>pred_15</th>\n",
       "      <th>pred_16</th>\n",
       "      <th>pred_17</th>\n",
       "      <th>pred_18</th>\n",
       "      <th>pred_19</th>\n",
       "    </tr>\n",
       "    <tr>\n",
       "      <th>TransactionID</th>\n",
       "      <th></th>\n",
       "      <th></th>\n",
       "      <th></th>\n",
       "      <th></th>\n",
       "      <th></th>\n",
       "      <th></th>\n",
       "      <th></th>\n",
       "      <th></th>\n",
       "      <th></th>\n",
       "      <th></th>\n",
       "      <th></th>\n",
       "      <th></th>\n",
       "      <th></th>\n",
       "      <th></th>\n",
       "      <th></th>\n",
       "      <th></th>\n",
       "      <th></th>\n",
       "      <th></th>\n",
       "      <th></th>\n",
       "      <th></th>\n",
       "      <th></th>\n",
       "    </tr>\n",
       "  </thead>\n",
       "  <tbody>\n",
       "    <tr>\n",
       "      <td>2987000</td>\n",
       "      <td>121195</td>\n",
       "      <td>0.012139</td>\n",
       "      <td>-1.000000</td>\n",
       "      <td>-1.000000</td>\n",
       "      <td>-1.000000</td>\n",
       "      <td>-1.000000</td>\n",
       "      <td>-1.000000</td>\n",
       "      <td>-1.000000</td>\n",
       "      <td>-1.000000</td>\n",
       "      <td>-1.000000</td>\n",
       "      <td>...</td>\n",
       "      <td>-1.000000</td>\n",
       "      <td>-1.000000</td>\n",
       "      <td>-1.000000</td>\n",
       "      <td>-1.000000</td>\n",
       "      <td>-1.000000</td>\n",
       "      <td>-1.000000</td>\n",
       "      <td>-1.000000</td>\n",
       "      <td>-1.000000</td>\n",
       "      <td>-1.000000</td>\n",
       "      <td>-1.000000</td>\n",
       "    </tr>\n",
       "    <tr>\n",
       "      <td>2987001</td>\n",
       "      <td>137</td>\n",
       "      <td>0.004310</td>\n",
       "      <td>0.009468</td>\n",
       "      <td>0.000580</td>\n",
       "      <td>0.008059</td>\n",
       "      <td>0.002726</td>\n",
       "      <td>0.239885</td>\n",
       "      <td>0.037089</td>\n",
       "      <td>0.048688</td>\n",
       "      <td>0.012265</td>\n",
       "      <td>...</td>\n",
       "      <td>-1.000000</td>\n",
       "      <td>-1.000000</td>\n",
       "      <td>-1.000000</td>\n",
       "      <td>-1.000000</td>\n",
       "      <td>-1.000000</td>\n",
       "      <td>-1.000000</td>\n",
       "      <td>-1.000000</td>\n",
       "      <td>-1.000000</td>\n",
       "      <td>-1.000000</td>\n",
       "      <td>-1.000000</td>\n",
       "    </tr>\n",
       "    <tr>\n",
       "      <td>2987002</td>\n",
       "      <td>105</td>\n",
       "      <td>0.001031</td>\n",
       "      <td>0.002484</td>\n",
       "      <td>0.001514</td>\n",
       "      <td>0.012547</td>\n",
       "      <td>0.006796</td>\n",
       "      <td>0.002858</td>\n",
       "      <td>0.003719</td>\n",
       "      <td>0.004331</td>\n",
       "      <td>0.005900</td>\n",
       "      <td>...</td>\n",
       "      <td>-1.000000</td>\n",
       "      <td>-1.000000</td>\n",
       "      <td>-1.000000</td>\n",
       "      <td>-1.000000</td>\n",
       "      <td>-1.000000</td>\n",
       "      <td>-1.000000</td>\n",
       "      <td>-1.000000</td>\n",
       "      <td>-1.000000</td>\n",
       "      <td>-1.000000</td>\n",
       "      <td>-1.000000</td>\n",
       "    </tr>\n",
       "    <tr>\n",
       "      <td>2987003</td>\n",
       "      <td>531</td>\n",
       "      <td>0.001330</td>\n",
       "      <td>0.000514</td>\n",
       "      <td>0.001352</td>\n",
       "      <td>0.000562</td>\n",
       "      <td>0.003509</td>\n",
       "      <td>0.003266</td>\n",
       "      <td>0.003480</td>\n",
       "      <td>0.000920</td>\n",
       "      <td>0.001296</td>\n",
       "      <td>...</td>\n",
       "      <td>-1.000000</td>\n",
       "      <td>-1.000000</td>\n",
       "      <td>-1.000000</td>\n",
       "      <td>-1.000000</td>\n",
       "      <td>-1.000000</td>\n",
       "      <td>-1.000000</td>\n",
       "      <td>-1.000000</td>\n",
       "      <td>-1.000000</td>\n",
       "      <td>-1.000000</td>\n",
       "      <td>-1.000000</td>\n",
       "    </tr>\n",
       "    <tr>\n",
       "      <td>2987004</td>\n",
       "      <td>9072</td>\n",
       "      <td>0.001785</td>\n",
       "      <td>-1.000000</td>\n",
       "      <td>-1.000000</td>\n",
       "      <td>-1.000000</td>\n",
       "      <td>-1.000000</td>\n",
       "      <td>-1.000000</td>\n",
       "      <td>0.018270</td>\n",
       "      <td>0.005218</td>\n",
       "      <td>0.006016</td>\n",
       "      <td>...</td>\n",
       "      <td>-1.000000</td>\n",
       "      <td>-1.000000</td>\n",
       "      <td>-1.000000</td>\n",
       "      <td>-1.000000</td>\n",
       "      <td>-1.000000</td>\n",
       "      <td>-1.000000</td>\n",
       "      <td>-1.000000</td>\n",
       "      <td>-1.000000</td>\n",
       "      <td>-1.000000</td>\n",
       "      <td>-1.000000</td>\n",
       "    </tr>\n",
       "    <tr>\n",
       "      <td>...</td>\n",
       "      <td>...</td>\n",
       "      <td>...</td>\n",
       "      <td>...</td>\n",
       "      <td>...</td>\n",
       "      <td>...</td>\n",
       "      <td>...</td>\n",
       "      <td>...</td>\n",
       "      <td>...</td>\n",
       "      <td>...</td>\n",
       "      <td>...</td>\n",
       "      <td>...</td>\n",
       "      <td>...</td>\n",
       "      <td>...</td>\n",
       "      <td>...</td>\n",
       "      <td>...</td>\n",
       "      <td>...</td>\n",
       "      <td>...</td>\n",
       "      <td>...</td>\n",
       "      <td>...</td>\n",
       "      <td>...</td>\n",
       "      <td>...</td>\n",
       "    </tr>\n",
       "    <tr>\n",
       "      <td>3577535</td>\n",
       "      <td>112861</td>\n",
       "      <td>0.008031</td>\n",
       "      <td>-1.000000</td>\n",
       "      <td>-1.000000</td>\n",
       "      <td>-1.000000</td>\n",
       "      <td>-1.000000</td>\n",
       "      <td>-1.000000</td>\n",
       "      <td>-1.000000</td>\n",
       "      <td>-1.000000</td>\n",
       "      <td>-1.000000</td>\n",
       "      <td>...</td>\n",
       "      <td>-1.000000</td>\n",
       "      <td>-1.000000</td>\n",
       "      <td>-1.000000</td>\n",
       "      <td>-1.000000</td>\n",
       "      <td>-1.000000</td>\n",
       "      <td>-1.000000</td>\n",
       "      <td>-1.000000</td>\n",
       "      <td>-1.000000</td>\n",
       "      <td>-1.000000</td>\n",
       "      <td>-1.000000</td>\n",
       "    </tr>\n",
       "    <tr>\n",
       "      <td>3577536</td>\n",
       "      <td>17127</td>\n",
       "      <td>0.004768</td>\n",
       "      <td>-1.000000</td>\n",
       "      <td>-1.000000</td>\n",
       "      <td>-1.000000</td>\n",
       "      <td>-1.000000</td>\n",
       "      <td>-1.000000</td>\n",
       "      <td>-1.000000</td>\n",
       "      <td>-1.000000</td>\n",
       "      <td>-1.000000</td>\n",
       "      <td>...</td>\n",
       "      <td>-1.000000</td>\n",
       "      <td>-1.000000</td>\n",
       "      <td>-1.000000</td>\n",
       "      <td>-1.000000</td>\n",
       "      <td>-1.000000</td>\n",
       "      <td>-1.000000</td>\n",
       "      <td>-1.000000</td>\n",
       "      <td>-1.000000</td>\n",
       "      <td>-1.000000</td>\n",
       "      <td>-1.000000</td>\n",
       "    </tr>\n",
       "    <tr>\n",
       "      <td>3577537</td>\n",
       "      <td>202</td>\n",
       "      <td>0.005185</td>\n",
       "      <td>0.002745</td>\n",
       "      <td>0.544660</td>\n",
       "      <td>0.126975</td>\n",
       "      <td>0.007975</td>\n",
       "      <td>0.004755</td>\n",
       "      <td>0.003642</td>\n",
       "      <td>0.002980</td>\n",
       "      <td>0.019919</td>\n",
       "      <td>...</td>\n",
       "      <td>0.004088</td>\n",
       "      <td>0.003108</td>\n",
       "      <td>0.006066</td>\n",
       "      <td>0.003953</td>\n",
       "      <td>0.005110</td>\n",
       "      <td>0.006451</td>\n",
       "      <td>0.011100</td>\n",
       "      <td>0.011806</td>\n",
       "      <td>0.008951</td>\n",
       "      <td>0.005794</td>\n",
       "    </tr>\n",
       "    <tr>\n",
       "      <td>3577538</td>\n",
       "      <td>4547</td>\n",
       "      <td>0.001146</td>\n",
       "      <td>-1.000000</td>\n",
       "      <td>-1.000000</td>\n",
       "      <td>-1.000000</td>\n",
       "      <td>-1.000000</td>\n",
       "      <td>-1.000000</td>\n",
       "      <td>-1.000000</td>\n",
       "      <td>-1.000000</td>\n",
       "      <td>-1.000000</td>\n",
       "      <td>...</td>\n",
       "      <td>0.001538</td>\n",
       "      <td>0.001389</td>\n",
       "      <td>0.001408</td>\n",
       "      <td>0.023034</td>\n",
       "      <td>0.006891</td>\n",
       "      <td>0.005325</td>\n",
       "      <td>0.023418</td>\n",
       "      <td>0.010532</td>\n",
       "      <td>0.004424</td>\n",
       "      <td>-1.000000</td>\n",
       "    </tr>\n",
       "    <tr>\n",
       "      <td>3577539</td>\n",
       "      <td>3</td>\n",
       "      <td>0.012668</td>\n",
       "      <td>0.011374</td>\n",
       "      <td>0.004177</td>\n",
       "      <td>0.005840</td>\n",
       "      <td>0.003585</td>\n",
       "      <td>0.073949</td>\n",
       "      <td>0.002044</td>\n",
       "      <td>0.003652</td>\n",
       "      <td>0.016483</td>\n",
       "      <td>...</td>\n",
       "      <td>0.019346</td>\n",
       "      <td>0.000564</td>\n",
       "      <td>0.064114</td>\n",
       "      <td>0.070356</td>\n",
       "      <td>0.665267</td>\n",
       "      <td>0.003883</td>\n",
       "      <td>0.027178</td>\n",
       "      <td>0.008660</td>\n",
       "      <td>0.013021</td>\n",
       "      <td>0.005432</td>\n",
       "    </tr>\n",
       "  </tbody>\n",
       "</table>\n",
       "<p>590540 rows × 41 columns</p>\n",
       "</div>"
      ],
      "text/plain": [
       "               new_card_id    pred_0  pred_-20  pred_-19  pred_-18  pred_-17  \\\n",
       "TransactionID                                                                  \n",
       "2987000             121195  0.012139 -1.000000 -1.000000 -1.000000 -1.000000   \n",
       "2987001                137  0.004310  0.009468  0.000580  0.008059  0.002726   \n",
       "2987002                105  0.001031  0.002484  0.001514  0.012547  0.006796   \n",
       "2987003                531  0.001330  0.000514  0.001352  0.000562  0.003509   \n",
       "2987004               9072  0.001785 -1.000000 -1.000000 -1.000000 -1.000000   \n",
       "...                    ...       ...       ...       ...       ...       ...   \n",
       "3577535             112861  0.008031 -1.000000 -1.000000 -1.000000 -1.000000   \n",
       "3577536              17127  0.004768 -1.000000 -1.000000 -1.000000 -1.000000   \n",
       "3577537                202  0.005185  0.002745  0.544660  0.126975  0.007975   \n",
       "3577538               4547  0.001146 -1.000000 -1.000000 -1.000000 -1.000000   \n",
       "3577539                  3  0.012668  0.011374  0.004177  0.005840  0.003585   \n",
       "\n",
       "               pred_-16  pred_-15  pred_-14  pred_-13  ...   pred_10  \\\n",
       "TransactionID                                          ...             \n",
       "2987000       -1.000000 -1.000000 -1.000000 -1.000000  ... -1.000000   \n",
       "2987001        0.239885  0.037089  0.048688  0.012265  ... -1.000000   \n",
       "2987002        0.002858  0.003719  0.004331  0.005900  ... -1.000000   \n",
       "2987003        0.003266  0.003480  0.000920  0.001296  ... -1.000000   \n",
       "2987004       -1.000000  0.018270  0.005218  0.006016  ... -1.000000   \n",
       "...                 ...       ...       ...       ...  ...       ...   \n",
       "3577535       -1.000000 -1.000000 -1.000000 -1.000000  ... -1.000000   \n",
       "3577536       -1.000000 -1.000000 -1.000000 -1.000000  ... -1.000000   \n",
       "3577537        0.004755  0.003642  0.002980  0.019919  ...  0.004088   \n",
       "3577538       -1.000000 -1.000000 -1.000000 -1.000000  ...  0.001538   \n",
       "3577539        0.073949  0.002044  0.003652  0.016483  ...  0.019346   \n",
       "\n",
       "                pred_11   pred_12   pred_13   pred_14   pred_15   pred_16  \\\n",
       "TransactionID                                                               \n",
       "2987000       -1.000000 -1.000000 -1.000000 -1.000000 -1.000000 -1.000000   \n",
       "2987001       -1.000000 -1.000000 -1.000000 -1.000000 -1.000000 -1.000000   \n",
       "2987002       -1.000000 -1.000000 -1.000000 -1.000000 -1.000000 -1.000000   \n",
       "2987003       -1.000000 -1.000000 -1.000000 -1.000000 -1.000000 -1.000000   \n",
       "2987004       -1.000000 -1.000000 -1.000000 -1.000000 -1.000000 -1.000000   \n",
       "...                 ...       ...       ...       ...       ...       ...   \n",
       "3577535       -1.000000 -1.000000 -1.000000 -1.000000 -1.000000 -1.000000   \n",
       "3577536       -1.000000 -1.000000 -1.000000 -1.000000 -1.000000 -1.000000   \n",
       "3577537        0.003108  0.006066  0.003953  0.005110  0.006451  0.011100   \n",
       "3577538        0.001389  0.001408  0.023034  0.006891  0.005325  0.023418   \n",
       "3577539        0.000564  0.064114  0.070356  0.665267  0.003883  0.027178   \n",
       "\n",
       "                pred_17   pred_18   pred_19  \n",
       "TransactionID                                \n",
       "2987000       -1.000000 -1.000000 -1.000000  \n",
       "2987001       -1.000000 -1.000000 -1.000000  \n",
       "2987002       -1.000000 -1.000000 -1.000000  \n",
       "2987003       -1.000000 -1.000000 -1.000000  \n",
       "2987004       -1.000000 -1.000000 -1.000000  \n",
       "...                 ...       ...       ...  \n",
       "3577535       -1.000000 -1.000000 -1.000000  \n",
       "3577536       -1.000000 -1.000000 -1.000000  \n",
       "3577537        0.011806  0.008951  0.005794  \n",
       "3577538        0.010532  0.004424 -1.000000  \n",
       "3577539        0.008660  0.013021  0.005432  \n",
       "\n",
       "[590540 rows x 41 columns]"
      ]
     },
     "execution_count": 16,
     "metadata": {},
     "output_type": "execute_result"
    }
   ],
   "source": [
    "X"
   ]
  },
  {
   "cell_type": "code",
   "execution_count": 17,
   "metadata": {
    "ExecuteTime": {
     "end_time": "2019-09-30T16:26:19.094234Z",
     "start_time": "2019-09-30T16:26:18.972231Z"
    }
   },
   "outputs": [],
   "source": [
    "categorical_features = [c for c, col in enumerate(X.columns) if col in ['new_card_id']]\n"
   ]
  },
  {
   "cell_type": "code",
   "execution_count": 18,
   "metadata": {
    "ExecuteTime": {
     "end_time": "2019-09-30T16:26:20.577225Z",
     "start_time": "2019-09-30T16:26:20.457261Z"
    }
   },
   "outputs": [],
   "source": [
    "params = {'learning_rate': 0.02,\n",
    "          \"boosting_type\": \"gbdt\",\n",
    "          \"bagging_seed\": 11,\n",
    "          \"metric\": 'auc',\n",
    "          \"verbosity\": -1,\n",
    "          'reg_alpha': 0.5899927210061127,\n",
    "          'reg_lambda': 0.8485237330340494,\n",
    "          'random_state': 47, \n",
    "#           'categorical_feature': categorical_features,\n",
    "         }\n"
   ]
  },
  {
   "cell_type": "code",
   "execution_count": 19,
   "metadata": {
    "ExecuteTime": {
     "end_time": "2019-09-30T16:26:22.293930Z",
     "start_time": "2019-09-30T16:26:21.940217Z"
    }
   },
   "outputs": [],
   "source": [
    "from sklearn.model_selection import KFold\n",
    "n_fold = 5\n",
    "# folds = TimeSeriesSplit(n_splits=n_fold)\n",
    "folds = KFold(n_splits=5)"
   ]
  },
  {
   "cell_type": "code",
   "execution_count": 20,
   "metadata": {
    "ExecuteTime": {
     "end_time": "2019-09-30T16:26:30.851002Z",
     "start_time": "2019-09-30T16:26:23.672563Z"
    }
   },
   "outputs": [
    {
     "name": "stderr",
     "output_type": "stream",
     "text": [
      "Using TensorFlow backend.\n",
      "c:\\python37\\lib\\site-packages\\tensorflow\\python\\framework\\dtypes.py:516: FutureWarning: Passing (type, 1) or '1type' as a synonym of type is deprecated; in a future version of numpy, it will be understood as (type, (1,)) / '(1,)type'.\n",
      "  _np_qint8 = np.dtype([(\"qint8\", np.int8, 1)])\n",
      "c:\\python37\\lib\\site-packages\\tensorflow\\python\\framework\\dtypes.py:517: FutureWarning: Passing (type, 1) or '1type' as a synonym of type is deprecated; in a future version of numpy, it will be understood as (type, (1,)) / '(1,)type'.\n",
      "  _np_quint8 = np.dtype([(\"quint8\", np.uint8, 1)])\n",
      "c:\\python37\\lib\\site-packages\\tensorflow\\python\\framework\\dtypes.py:518: FutureWarning: Passing (type, 1) or '1type' as a synonym of type is deprecated; in a future version of numpy, it will be understood as (type, (1,)) / '(1,)type'.\n",
      "  _np_qint16 = np.dtype([(\"qint16\", np.int16, 1)])\n",
      "c:\\python37\\lib\\site-packages\\tensorflow\\python\\framework\\dtypes.py:519: FutureWarning: Passing (type, 1) or '1type' as a synonym of type is deprecated; in a future version of numpy, it will be understood as (type, (1,)) / '(1,)type'.\n",
      "  _np_quint16 = np.dtype([(\"quint16\", np.uint16, 1)])\n",
      "c:\\python37\\lib\\site-packages\\tensorflow\\python\\framework\\dtypes.py:520: FutureWarning: Passing (type, 1) or '1type' as a synonym of type is deprecated; in a future version of numpy, it will be understood as (type, (1,)) / '(1,)type'.\n",
      "  _np_qint32 = np.dtype([(\"qint32\", np.int32, 1)])\n",
      "c:\\python37\\lib\\site-packages\\tensorflow\\python\\framework\\dtypes.py:525: FutureWarning: Passing (type, 1) or '1type' as a synonym of type is deprecated; in a future version of numpy, it will be understood as (type, (1,)) / '(1,)type'.\n",
      "  np_resource = np.dtype([(\"resource\", np.ubyte, 1)])\n",
      "c:\\python37\\lib\\site-packages\\tensorboard\\compat\\tensorflow_stub\\dtypes.py:541: FutureWarning: Passing (type, 1) or '1type' as a synonym of type is deprecated; in a future version of numpy, it will be understood as (type, (1,)) / '(1,)type'.\n",
      "  _np_qint8 = np.dtype([(\"qint8\", np.int8, 1)])\n",
      "c:\\python37\\lib\\site-packages\\tensorboard\\compat\\tensorflow_stub\\dtypes.py:542: FutureWarning: Passing (type, 1) or '1type' as a synonym of type is deprecated; in a future version of numpy, it will be understood as (type, (1,)) / '(1,)type'.\n",
      "  _np_quint8 = np.dtype([(\"quint8\", np.uint8, 1)])\n",
      "c:\\python37\\lib\\site-packages\\tensorboard\\compat\\tensorflow_stub\\dtypes.py:543: FutureWarning: Passing (type, 1) or '1type' as a synonym of type is deprecated; in a future version of numpy, it will be understood as (type, (1,)) / '(1,)type'.\n",
      "  _np_qint16 = np.dtype([(\"qint16\", np.int16, 1)])\n",
      "c:\\python37\\lib\\site-packages\\tensorboard\\compat\\tensorflow_stub\\dtypes.py:544: FutureWarning: Passing (type, 1) or '1type' as a synonym of type is deprecated; in a future version of numpy, it will be understood as (type, (1,)) / '(1,)type'.\n",
      "  _np_quint16 = np.dtype([(\"quint16\", np.uint16, 1)])\n",
      "c:\\python37\\lib\\site-packages\\tensorboard\\compat\\tensorflow_stub\\dtypes.py:545: FutureWarning: Passing (type, 1) or '1type' as a synonym of type is deprecated; in a future version of numpy, it will be understood as (type, (1,)) / '(1,)type'.\n",
      "  _np_qint32 = np.dtype([(\"qint32\", np.int32, 1)])\n",
      "c:\\python37\\lib\\site-packages\\tensorboard\\compat\\tensorflow_stub\\dtypes.py:550: FutureWarning: Passing (type, 1) or '1type' as a synonym of type is deprecated; in a future version of numpy, it will be understood as (type, (1,)) / '(1,)type'.\n",
      "  np_resource = np.dtype([(\"resource\", np.ubyte, 1)])\n"
     ]
    }
   ],
   "source": [
    "from BayDS.lib.training import *"
   ]
  },
  {
   "cell_type": "code",
   "execution_count": 21,
   "metadata": {
    "ExecuteTime": {
     "end_time": "2019-09-30T16:57:17.979639Z",
     "start_time": "2019-09-30T16:26:32.490985Z"
    }
   },
   "outputs": [
    {
     "name": "stdout",
     "output_type": "stream",
     "text": [
      "Fold 1 started at Mon Sep 30 19:26:32 2019\n",
      "Training until validation scores don't improve for 1000 rounds.\n",
      "[100]\ttraining's auc: 0.964609\ttraining's auc: 0.96461\tvalid_1's auc: 0.93636\tvalid_1's auc: 0.93638\n",
      "[200]\ttraining's auc: 0.967758\ttraining's auc: 0.967783\tvalid_1's auc: 0.936363\tvalid_1's auc: 0.936367\n",
      "[300]\ttraining's auc: 0.969503\ttraining's auc: 0.969503\tvalid_1's auc: 0.936667\tvalid_1's auc: 0.936671\n",
      "[400]\ttraining's auc: 0.971208\ttraining's auc: 0.971208\tvalid_1's auc: 0.936676\tvalid_1's auc: 0.936675\n",
      "[500]\ttraining's auc: 0.97269\ttraining's auc: 0.97269\tvalid_1's auc: 0.936639\tvalid_1's auc: 0.936636\n",
      "[600]\ttraining's auc: 0.974051\ttraining's auc: 0.974051\tvalid_1's auc: 0.936559\tvalid_1's auc: 0.936557\n",
      "[700]\ttraining's auc: 0.97537\ttraining's auc: 0.97537\tvalid_1's auc: 0.936433\tvalid_1's auc: 0.936435\n",
      "[800]\ttraining's auc: 0.976641\ttraining's auc: 0.976641\tvalid_1's auc: 0.936375\tvalid_1's auc: 0.936377\n",
      "[900]\ttraining's auc: 0.977814\ttraining's auc: 0.977814\tvalid_1's auc: 0.936346\tvalid_1's auc: 0.936347\n",
      "[1000]\ttraining's auc: 0.978938\ttraining's auc: 0.978937\tvalid_1's auc: 0.936223\tvalid_1's auc: 0.936223\n",
      "[1100]\ttraining's auc: 0.979918\ttraining's auc: 0.979918\tvalid_1's auc: 0.936228\tvalid_1's auc: 0.936226\n",
      "[1200]\ttraining's auc: 0.98073\ttraining's auc: 0.98073\tvalid_1's auc: 0.936187\tvalid_1's auc: 0.936186\n",
      "[1300]\ttraining's auc: 0.981725\ttraining's auc: 0.981725\tvalid_1's auc: 0.936109\tvalid_1's auc: 0.936109\n",
      "[1400]\ttraining's auc: 0.982589\ttraining's auc: 0.982589\tvalid_1's auc: 0.936072\tvalid_1's auc: 0.936071\n",
      "Early stopping, best iteration is:\n",
      "[427]\ttraining's auc: 0.971566\ttraining's auc: 0.971566\tvalid_1's auc: 0.936722\tvalid_1's auc: 0.936724\n",
      "Fold 2 started at Mon Sep 30 19:31:49 2019\n",
      "Training until validation scores don't improve for 1000 rounds.\n",
      "[100]\ttraining's auc: 0.959013\ttraining's auc: 0.958943\tvalid_1's auc: 0.961427\tvalid_1's auc: 0.961394\n",
      "[200]\ttraining's auc: 0.962907\ttraining's auc: 0.962909\tvalid_1's auc: 0.962569\tvalid_1's auc: 0.962571\n",
      "[300]\ttraining's auc: 0.965034\ttraining's auc: 0.965034\tvalid_1's auc: 0.962828\tvalid_1's auc: 0.962828\n",
      "[400]\ttraining's auc: 0.967297\ttraining's auc: 0.967296\tvalid_1's auc: 0.962957\tvalid_1's auc: 0.962957\n",
      "[500]\ttraining's auc: 0.969205\ttraining's auc: 0.969204\tvalid_1's auc: 0.962915\tvalid_1's auc: 0.962915\n",
      "[600]\ttraining's auc: 0.970948\ttraining's auc: 0.970948\tvalid_1's auc: 0.962856\tvalid_1's auc: 0.962855\n",
      "[700]\ttraining's auc: 0.972627\ttraining's auc: 0.972627\tvalid_1's auc: 0.962793\tvalid_1's auc: 0.962793\n",
      "[800]\ttraining's auc: 0.973955\ttraining's auc: 0.973955\tvalid_1's auc: 0.962747\tvalid_1's auc: 0.962747\n",
      "[900]\ttraining's auc: 0.975217\ttraining's auc: 0.975217\tvalid_1's auc: 0.962672\tvalid_1's auc: 0.962672\n",
      "[1000]\ttraining's auc: 0.97634\ttraining's auc: 0.97634\tvalid_1's auc: 0.962619\tvalid_1's auc: 0.962619\n",
      "[1100]\ttraining's auc: 0.977336\ttraining's auc: 0.977336\tvalid_1's auc: 0.962525\tvalid_1's auc: 0.962525\n",
      "[1200]\ttraining's auc: 0.978403\ttraining's auc: 0.978403\tvalid_1's auc: 0.962492\tvalid_1's auc: 0.962492\n",
      "[1300]\ttraining's auc: 0.979513\ttraining's auc: 0.979513\tvalid_1's auc: 0.962426\tvalid_1's auc: 0.962426\n",
      "[1400]\ttraining's auc: 0.980513\ttraining's auc: 0.980513\tvalid_1's auc: 0.962382\tvalid_1's auc: 0.962382\n",
      "Early stopping, best iteration is:\n",
      "[419]\ttraining's auc: 0.967624\ttraining's auc: 0.967624\tvalid_1's auc: 0.962976\tvalid_1's auc: 0.962976\n",
      "Fold 3 started at Mon Sep 30 19:37:07 2019\n",
      "Training until validation scores don't improve for 1000 rounds.\n",
      "[100]\ttraining's auc: 0.960657\ttraining's auc: 0.960691\tvalid_1's auc: 0.95648\tvalid_1's auc: 0.956205\n",
      "[200]\ttraining's auc: 0.963915\ttraining's auc: 0.963917\tvalid_1's auc: 0.957522\tvalid_1's auc: 0.957379\n",
      "[300]\ttraining's auc: 0.965914\ttraining's auc: 0.965913\tvalid_1's auc: 0.957998\tvalid_1's auc: 0.957993\n",
      "[400]\ttraining's auc: 0.967858\ttraining's auc: 0.967858\tvalid_1's auc: 0.958146\tvalid_1's auc: 0.958144\n",
      "[500]\ttraining's auc: 0.969821\ttraining's auc: 0.969821\tvalid_1's auc: 0.958142\tvalid_1's auc: 0.958142\n",
      "[600]\ttraining's auc: 0.971285\ttraining's auc: 0.971285\tvalid_1's auc: 0.958214\tvalid_1's auc: 0.958214\n",
      "[700]\ttraining's auc: 0.972763\ttraining's auc: 0.972763\tvalid_1's auc: 0.958253\tvalid_1's auc: 0.958252\n",
      "[800]\ttraining's auc: 0.974133\ttraining's auc: 0.974133\tvalid_1's auc: 0.958325\tvalid_1's auc: 0.958325\n",
      "[900]\ttraining's auc: 0.975341\ttraining's auc: 0.975341\tvalid_1's auc: 0.958317\tvalid_1's auc: 0.958317\n",
      "[1000]\ttraining's auc: 0.976541\ttraining's auc: 0.976541\tvalid_1's auc: 0.958317\tvalid_1's auc: 0.958317\n",
      "[1100]\ttraining's auc: 0.97758\ttraining's auc: 0.97758\tvalid_1's auc: 0.958317\tvalid_1's auc: 0.958317\n",
      "[1200]\ttraining's auc: 0.97853\ttraining's auc: 0.97853\tvalid_1's auc: 0.958338\tvalid_1's auc: 0.958338\n",
      "[1300]\ttraining's auc: 0.979472\ttraining's auc: 0.979472\tvalid_1's auc: 0.958297\tvalid_1's auc: 0.958297\n",
      "[1400]\ttraining's auc: 0.980488\ttraining's auc: 0.980488\tvalid_1's auc: 0.958281\tvalid_1's auc: 0.95828\n",
      "[1500]\ttraining's auc: 0.981291\ttraining's auc: 0.981291\tvalid_1's auc: 0.958222\tvalid_1's auc: 0.958223\n",
      "[1600]\ttraining's auc: 0.982148\ttraining's auc: 0.982148\tvalid_1's auc: 0.958257\tvalid_1's auc: 0.958257\n",
      "[1700]\ttraining's auc: 0.982968\ttraining's auc: 0.982967\tvalid_1's auc: 0.958231\tvalid_1's auc: 0.958231\n",
      "[1800]\ttraining's auc: 0.983726\ttraining's auc: 0.983726\tvalid_1's auc: 0.958167\tvalid_1's auc: 0.958168\n",
      "[1900]\ttraining's auc: 0.984405\ttraining's auc: 0.984405\tvalid_1's auc: 0.958143\tvalid_1's auc: 0.958143\n",
      "[2000]\ttraining's auc: 0.985019\ttraining's auc: 0.985019\tvalid_1's auc: 0.958174\tvalid_1's auc: 0.958174\n",
      "[2100]\ttraining's auc: 0.985656\ttraining's auc: 0.985656\tvalid_1's auc: 0.958162\tvalid_1's auc: 0.958162\n",
      "Early stopping, best iteration is:\n",
      "[1182]\ttraining's auc: 0.97839\ttraining's auc: 0.97839\tvalid_1's auc: 0.958347\tvalid_1's auc: 0.958347\n",
      "Fold 4 started at Mon Sep 30 19:45:40 2019\n",
      "Training until validation scores don't improve for 1000 rounds.\n",
      "[100]\ttraining's auc: 0.95774\ttraining's auc: 0.957816\tvalid_1's auc: 0.968185\tvalid_1's auc: 0.968183\n",
      "[200]\ttraining's auc: 0.961188\ttraining's auc: 0.96121\tvalid_1's auc: 0.968498\tvalid_1's auc: 0.968475\n",
      "[300]\ttraining's auc: 0.963463\ttraining's auc: 0.963463\tvalid_1's auc: 0.968725\tvalid_1's auc: 0.968725\n",
      "[400]\ttraining's auc: 0.965488\ttraining's auc: 0.965487\tvalid_1's auc: 0.968671\tvalid_1's auc: 0.968671\n",
      "[500]\ttraining's auc: 0.967247\ttraining's auc: 0.967247\tvalid_1's auc: 0.968598\tvalid_1's auc: 0.968598\n",
      "[600]\ttraining's auc: 0.968702\ttraining's auc: 0.968702\tvalid_1's auc: 0.968604\tvalid_1's auc: 0.968603\n",
      "[700]\ttraining's auc: 0.970479\ttraining's auc: 0.970479\tvalid_1's auc: 0.968567\tvalid_1's auc: 0.968567\n",
      "[800]\ttraining's auc: 0.971999\ttraining's auc: 0.971999\tvalid_1's auc: 0.968545\tvalid_1's auc: 0.968545\n",
      "[900]\ttraining's auc: 0.973434\ttraining's auc: 0.973434\tvalid_1's auc: 0.96849\tvalid_1's auc: 0.968491\n",
      "[1000]\ttraining's auc: 0.974709\ttraining's auc: 0.974708\tvalid_1's auc: 0.968447\tvalid_1's auc: 0.968447\n",
      "[1100]\ttraining's auc: 0.975719\ttraining's auc: 0.975719\tvalid_1's auc: 0.968393\tvalid_1's auc: 0.968392\n",
      "[1200]\ttraining's auc: 0.976863\ttraining's auc: 0.976864\tvalid_1's auc: 0.968342\tvalid_1's auc: 0.968343\n",
      "[1300]\ttraining's auc: 0.97786\ttraining's auc: 0.97786\tvalid_1's auc: 0.968308\tvalid_1's auc: 0.968308\n",
      "Early stopping, best iteration is:\n",
      "[311]\ttraining's auc: 0.963669\ttraining's auc: 0.963669\tvalid_1's auc: 0.96873\tvalid_1's auc: 0.96873\n",
      "Fold 5 started at Mon Sep 30 19:51:05 2019\n",
      "Training until validation scores don't improve for 1000 rounds.\n",
      "[100]\ttraining's auc: 0.960219\ttraining's auc: 0.960208\tvalid_1's auc: 0.955849\tvalid_1's auc: 0.955889\n",
      "[200]\ttraining's auc: 0.96327\ttraining's auc: 0.963281\tvalid_1's auc: 0.957132\tvalid_1's auc: 0.95709\n",
      "[300]\ttraining's auc: 0.965197\ttraining's auc: 0.965197\tvalid_1's auc: 0.957886\tvalid_1's auc: 0.957887\n",
      "[400]\ttraining's auc: 0.967151\ttraining's auc: 0.967152\tvalid_1's auc: 0.958402\tvalid_1's auc: 0.958403\n",
      "[500]\ttraining's auc: 0.969075\ttraining's auc: 0.969075\tvalid_1's auc: 0.958544\tvalid_1's auc: 0.958544\n",
      "[600]\ttraining's auc: 0.970699\ttraining's auc: 0.970699\tvalid_1's auc: 0.95868\tvalid_1's auc: 0.95868\n",
      "[700]\ttraining's auc: 0.972193\ttraining's auc: 0.972192\tvalid_1's auc: 0.958677\tvalid_1's auc: 0.958677\n"
     ]
    },
    {
     "name": "stdout",
     "output_type": "stream",
     "text": [
      "[800]\ttraining's auc: 0.973666\ttraining's auc: 0.973665\tvalid_1's auc: 0.958658\tvalid_1's auc: 0.958657\n",
      "[900]\ttraining's auc: 0.975145\ttraining's auc: 0.975145\tvalid_1's auc: 0.95866\tvalid_1's auc: 0.95866\n",
      "[1000]\ttraining's auc: 0.976367\ttraining's auc: 0.976368\tvalid_1's auc: 0.95863\tvalid_1's auc: 0.95863\n",
      "[1100]\ttraining's auc: 0.977653\ttraining's auc: 0.977652\tvalid_1's auc: 0.95856\tvalid_1's auc: 0.95856\n",
      "[1200]\ttraining's auc: 0.978677\ttraining's auc: 0.978677\tvalid_1's auc: 0.958555\tvalid_1's auc: 0.958555\n",
      "[1300]\ttraining's auc: 0.979686\ttraining's auc: 0.979686\tvalid_1's auc: 0.958523\tvalid_1's auc: 0.958523\n",
      "[1400]\ttraining's auc: 0.980702\ttraining's auc: 0.980702\tvalid_1's auc: 0.958488\tvalid_1's auc: 0.958488\n",
      "[1500]\ttraining's auc: 0.981707\ttraining's auc: 0.981707\tvalid_1's auc: 0.958408\tvalid_1's auc: 0.958407\n",
      "[1600]\ttraining's auc: 0.982542\ttraining's auc: 0.982542\tvalid_1's auc: 0.95842\tvalid_1's auc: 0.95842\n",
      "Early stopping, best iteration is:\n",
      "[627]\ttraining's auc: 0.971117\ttraining's auc: 0.971117\tvalid_1's auc: 0.95871\tvalid_1's auc: 0.958711\n",
      "CV mean score: 0.9571, std: 0.0109.\n"
     ]
    },
    {
     "data": {
      "image/png": "[encoded data removed]",
      "text/plain": [
       "<Figure size 1152x864 with 1 Axes>"
      ]
     },
     "metadata": {
      "needs_background": "light"
     },
     "output_type": "display_data"
    }
   ],
   "source": [
    "result_dict_lgb = train_model_classification(X=X, X_test=test, y=y, params=params, folds=folds, model_type='lgb', eval_metric='auc', plot_feature_importance=True,\n",
    "                                                      verbose=100, early_stopping_rounds=300, n_estimators=5000, averaging='usual', groups=None)"
   ]
  },
  {
   "cell_type": "code",
   "execution_count": 22,
   "metadata": {
    "ExecuteTime": {
     "end_time": "2019-09-30T16:57:20.491403Z",
     "start_time": "2019-09-30T16:57:20.219292Z"
    }
   },
   "outputs": [],
   "source": [
    "import pickle\n",
    "pickle.dump(result_dict_lgb, open(f'{p.working_folder}/results_dict_cat_final_20.pkl','wb'))"
   ]
  },
  {
   "cell_type": "code",
   "execution_count": 23,
   "metadata": {
    "ExecuteTime": {
     "end_time": "2019-09-30T16:57:22.391197Z",
     "start_time": "2019-09-30T16:57:22.110188Z"
    }
   },
   "outputs": [],
   "source": [
    "# test = test.sort_values('Date')\n",
    "test['prediction'] = result_dict_lgb['prediction']"
   ]
  },
  {
   "cell_type": "code",
   "execution_count": 24,
   "metadata": {
    "ExecuteTime": {
     "end_time": "2019-09-30T16:57:26.744670Z",
     "start_time": "2019-09-30T16:57:24.109257Z"
    }
   },
   "outputs": [],
   "source": [
    "# folder_path = './data/'\n",
    "sub = pd.read_csv(f'{data_path}/sample_submission.csv')\n",
    "sub['isFraud'] = pd.merge(sub, test['prediction'], on='TransactionID')['prediction']\n",
    "sub.to_csv(f'{p.working_folder}/submission_dynamic_cat_final_20.csv', index=False)"
   ]
  }
 ],
 "metadata": {
  "kernelspec": {
   "display_name": "Python 3",
   "language": "python",
   "name": "python3"
  },
  "language_info": {
   "codemirror_mode": {
    "name": "ipython",
    "version": 3
   },
   "file_extension": ".py",
   "mimetype": "text/x-python",
   "name": "python",
   "nbconvert_exporter": "python",
   "pygments_lexer": "ipython3",
   "version": "3.7.4"
  },
  "toc": {
   "base_numbering": 1,
   "nav_menu": {},
   "number_sections": true,
   "sideBar": true,
   "skip_h1_title": false,
   "title_cell": "Table of Contents",
   "title_sidebar": "Contents",
   "toc_cell": false,
   "toc_position": {},
   "toc_section_display": true,
   "toc_window_display": false
  },
  "varInspector": {
   "cols": {
    "lenName": 16,
    "lenType": 16,
    "lenVar": 40
   },
   "kernels_config": {
    "python": {
     "delete_cmd_postfix": "",
     "delete_cmd_prefix": "del ",
     "library": "var_list.py",
     "varRefreshCmd": "print(var_dic_list())"
    },
    "r": {
     "delete_cmd_postfix": ") ",
     "delete_cmd_prefix": "rm(",
     "library": "var_list.r",
     "varRefreshCmd": "cat(var_dic_list()) "
    }
   },
   "types_to_exclude": [
    "module",
    "function",
    "builtin_function_or_method",
    "instance",
    "_Feature"
   ],
   "window_display": false
  }
 },
 "nbformat": 4,
 "nbformat_minor": 2
}
