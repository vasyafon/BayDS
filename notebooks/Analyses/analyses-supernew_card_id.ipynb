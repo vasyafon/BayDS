{
 "cells": [
  {
   "cell_type": "code",
   "execution_count": 1,
   "metadata": {
    "ExecuteTime": {
     "end_time": "2019-09-28T15:21:44.685721Z",
     "start_time": "2019-09-28T15:21:44.593716Z"
    }
   },
   "outputs": [],
   "source": [
    "%load_ext autoreload\n",
    "%autoreload 2"
   ]
  },
  {
   "cell_type": "code",
   "execution_count": 2,
   "metadata": {
    "ExecuteTime": {
     "end_time": "2019-09-28T15:21:48.867799Z",
     "start_time": "2019-09-28T15:21:45.250730Z"
    }
   },
   "outputs": [],
   "source": [
    "main_dir = r'../../..'\n",
    "data_path = main_dir+'/data'\n",
    "import sys\n",
    "sys.path.append(main_dir)\n",
    "from BayDS.lib.pipeline import *"
   ]
  },
  {
   "cell_type": "code",
   "execution_count": 3,
   "metadata": {
    "ExecuteTime": {
     "end_time": "2019-09-28T15:21:49.196807Z",
     "start_time": "2019-09-28T15:21:49.040807Z"
    }
   },
   "outputs": [],
   "source": [
    "from typing import List, Set, Dict, Optional, Any, Tuple, Type, Union\n",
    "from BayDS.lib.io import *\n",
    "import os\n"
   ]
  },
  {
   "cell_type": "code",
   "execution_count": 5,
   "metadata": {
    "ExecuteTime": {
     "end_time": "2019-09-28T15:22:55.546088Z",
     "start_time": "2019-09-28T15:22:51.198001Z"
    }
   },
   "outputs": [
    {
     "name": "stdout",
     "output_type": "stream",
     "text": [
      "---------------------------\n",
      "0: LoaderNode [2019-09-28 18:22:51]\n",
      "params:\n",
      " {'input_directory': '../../../Snapshots/1/full-fe-2809-2-labelenc', 'file': 'label_encoded_data.pkl'}\n"
     ]
    }
   ],
   "source": [
    "data_dir =f'{main_dir}/Snapshots/1/full-fe-2809-2-labelenc'\n",
    "input_dir = f'{main_dir}/Data'\n",
    "\n",
    "p = Pipeline(working_folder=f'{main_dir}/Snapshots/1/Analyses_supernew')\n",
    "\n",
    "\n",
    "# p.add_node(IEEEFraudTransactionLoaderNode, None, 'transactions',\n",
    "#            params={\n",
    "#                'input_directory': input_dir\n",
    "#            })\n",
    "\n",
    "p.add_node(LoaderNode, None, 'data',\n",
    "           params={\n",
    "               'input_directory': data_dir,\n",
    "               'file': 'label_encoded_data.pkl'\n",
    "           })\n",
    "# p.add_node(LoaderNode, None, 'numerical_columns',\n",
    "#            params={\n",
    "#                'input_directory': data_dir,\n",
    "#                'file': 'numerical_columns.yaml'\n",
    "#            })\n",
    "# p.add_node(LoaderNode, None, 'categorical_columns',\n",
    "#            params={\n",
    "#                'input_directory': data_dir,\n",
    "#                'file': 'categorical_columns.yaml'\n",
    "#            })\n",
    "\n",
    "p.run(verbose=True)\n"
   ]
  },
  {
   "cell_type": "code",
   "execution_count": 6,
   "metadata": {
    "ExecuteTime": {
     "end_time": "2019-09-28T15:23:14.398450Z",
     "start_time": "2019-09-28T15:23:14.121444Z"
    }
   },
   "outputs": [
    {
     "data": {
      "text/plain": [
       "0         15280\n",
       "1          9900\n",
       "2          9598\n",
       "3          9350\n",
       "4          7447\n",
       "          ...  \n",
       "129621        1\n",
       "123478        1\n",
       "125527        1\n",
       "103000        1\n",
       "115084        1\n",
       "Name: new_card_id, Length: 144827, dtype: int64"
      ]
     },
     "execution_count": 6,
     "metadata": {},
     "output_type": "execute_result"
    }
   ],
   "source": [
    "df = p.data['data']\n",
    "df.new_card_id.value_counts()"
   ]
  },
  {
   "cell_type": "code",
   "execution_count": 15,
   "metadata": {
    "ExecuteTime": {
     "end_time": "2019-09-28T15:28:01.544844Z",
     "start_time": "2019-09-28T15:28:01.347840Z"
    }
   },
   "outputs": [
    {
     "data": {
      "text/html": [
       "<div>\n",
       "<style scoped>\n",
       "    .dataframe tbody tr th:only-of-type {\n",
       "        vertical-align: middle;\n",
       "    }\n",
       "\n",
       "    .dataframe tbody tr th {\n",
       "        vertical-align: top;\n",
       "    }\n",
       "\n",
       "    .dataframe thead th {\n",
       "        text-align: right;\n",
       "    }\n",
       "</style>\n",
       "<table border=\"1\" class=\"dataframe\">\n",
       "  <thead>\n",
       "    <tr style=\"text-align: right;\">\n",
       "      <th></th>\n",
       "      <th>C1</th>\n",
       "      <th>C2</th>\n",
       "      <th>C3</th>\n",
       "      <th>C4</th>\n",
       "      <th>C5</th>\n",
       "      <th>C6</th>\n",
       "      <th>C7</th>\n",
       "      <th>C8</th>\n",
       "      <th>C9</th>\n",
       "      <th>C10</th>\n",
       "      <th>C11</th>\n",
       "    </tr>\n",
       "    <tr>\n",
       "      <th>TransactionID</th>\n",
       "      <th></th>\n",
       "      <th></th>\n",
       "      <th></th>\n",
       "      <th></th>\n",
       "      <th></th>\n",
       "      <th></th>\n",
       "      <th></th>\n",
       "      <th></th>\n",
       "      <th></th>\n",
       "      <th></th>\n",
       "      <th></th>\n",
       "    </tr>\n",
       "  </thead>\n",
       "  <tbody>\n",
       "    <tr>\n",
       "      <td>2993924</td>\n",
       "      <td>2.0</td>\n",
       "      <td>1.0</td>\n",
       "      <td>0.0</td>\n",
       "      <td>0.0</td>\n",
       "      <td>2.0</td>\n",
       "      <td>0.0</td>\n",
       "      <td>0.0</td>\n",
       "      <td>0.0</td>\n",
       "      <td>1.0</td>\n",
       "      <td>0.0</td>\n",
       "      <td>1.0</td>\n",
       "    </tr>\n",
       "    <tr>\n",
       "      <td>3030916</td>\n",
       "      <td>3.0</td>\n",
       "      <td>3.0</td>\n",
       "      <td>0.0</td>\n",
       "      <td>0.0</td>\n",
       "      <td>1.0</td>\n",
       "      <td>2.0</td>\n",
       "      <td>0.0</td>\n",
       "      <td>0.0</td>\n",
       "      <td>2.0</td>\n",
       "      <td>0.0</td>\n",
       "      <td>2.0</td>\n",
       "    </tr>\n",
       "    <tr>\n",
       "      <td>3084591</td>\n",
       "      <td>2.0</td>\n",
       "      <td>1.0</td>\n",
       "      <td>0.0</td>\n",
       "      <td>0.0</td>\n",
       "      <td>1.0</td>\n",
       "      <td>2.0</td>\n",
       "      <td>0.0</td>\n",
       "      <td>0.0</td>\n",
       "      <td>2.0</td>\n",
       "      <td>0.0</td>\n",
       "      <td>1.0</td>\n",
       "    </tr>\n",
       "    <tr>\n",
       "      <td>3091769</td>\n",
       "      <td>1.0</td>\n",
       "      <td>1.0</td>\n",
       "      <td>0.0</td>\n",
       "      <td>0.0</td>\n",
       "      <td>0.0</td>\n",
       "      <td>1.0</td>\n",
       "      <td>0.0</td>\n",
       "      <td>0.0</td>\n",
       "      <td>0.0</td>\n",
       "      <td>0.0</td>\n",
       "      <td>1.0</td>\n",
       "    </tr>\n",
       "    <tr>\n",
       "      <td>3221368</td>\n",
       "      <td>2.0</td>\n",
       "      <td>2.0</td>\n",
       "      <td>0.0</td>\n",
       "      <td>0.0</td>\n",
       "      <td>1.0</td>\n",
       "      <td>2.0</td>\n",
       "      <td>0.0</td>\n",
       "      <td>0.0</td>\n",
       "      <td>1.0</td>\n",
       "      <td>0.0</td>\n",
       "      <td>1.0</td>\n",
       "    </tr>\n",
       "    <tr>\n",
       "      <td>3296661</td>\n",
       "      <td>1.0</td>\n",
       "      <td>1.0</td>\n",
       "      <td>0.0</td>\n",
       "      <td>0.0</td>\n",
       "      <td>1.0</td>\n",
       "      <td>0.0</td>\n",
       "      <td>0.0</td>\n",
       "      <td>0.0</td>\n",
       "      <td>0.0</td>\n",
       "      <td>0.0</td>\n",
       "      <td>1.0</td>\n",
       "    </tr>\n",
       "    <tr>\n",
       "      <td>3303057</td>\n",
       "      <td>1.0</td>\n",
       "      <td>1.0</td>\n",
       "      <td>0.0</td>\n",
       "      <td>0.0</td>\n",
       "      <td>1.0</td>\n",
       "      <td>1.0</td>\n",
       "      <td>0.0</td>\n",
       "      <td>0.0</td>\n",
       "      <td>1.0</td>\n",
       "      <td>0.0</td>\n",
       "      <td>1.0</td>\n",
       "    </tr>\n",
       "    <tr>\n",
       "      <td>3317056</td>\n",
       "      <td>116.0</td>\n",
       "      <td>123.0</td>\n",
       "      <td>0.0</td>\n",
       "      <td>0.0</td>\n",
       "      <td>111.0</td>\n",
       "      <td>91.0</td>\n",
       "      <td>0.0</td>\n",
       "      <td>0.0</td>\n",
       "      <td>80.0</td>\n",
       "      <td>0.0</td>\n",
       "      <td>86.0</td>\n",
       "    </tr>\n",
       "    <tr>\n",
       "      <td>3353702</td>\n",
       "      <td>1.0</td>\n",
       "      <td>1.0</td>\n",
       "      <td>0.0</td>\n",
       "      <td>0.0</td>\n",
       "      <td>1.0</td>\n",
       "      <td>0.0</td>\n",
       "      <td>0.0</td>\n",
       "      <td>0.0</td>\n",
       "      <td>1.0</td>\n",
       "      <td>0.0</td>\n",
       "      <td>1.0</td>\n",
       "    </tr>\n",
       "    <tr>\n",
       "      <td>3356164</td>\n",
       "      <td>82.0</td>\n",
       "      <td>90.0</td>\n",
       "      <td>0.0</td>\n",
       "      <td>0.0</td>\n",
       "      <td>62.0</td>\n",
       "      <td>60.0</td>\n",
       "      <td>0.0</td>\n",
       "      <td>0.0</td>\n",
       "      <td>62.0</td>\n",
       "      <td>0.0</td>\n",
       "      <td>61.0</td>\n",
       "    </tr>\n",
       "    <tr>\n",
       "      <td>3377827</td>\n",
       "      <td>2.0</td>\n",
       "      <td>2.0</td>\n",
       "      <td>0.0</td>\n",
       "      <td>0.0</td>\n",
       "      <td>1.0</td>\n",
       "      <td>2.0</td>\n",
       "      <td>0.0</td>\n",
       "      <td>0.0</td>\n",
       "      <td>2.0</td>\n",
       "      <td>0.0</td>\n",
       "      <td>2.0</td>\n",
       "    </tr>\n",
       "    <tr>\n",
       "      <td>3419627</td>\n",
       "      <td>2.0</td>\n",
       "      <td>1.0</td>\n",
       "      <td>0.0</td>\n",
       "      <td>0.0</td>\n",
       "      <td>1.0</td>\n",
       "      <td>0.0</td>\n",
       "      <td>0.0</td>\n",
       "      <td>0.0</td>\n",
       "      <td>1.0</td>\n",
       "      <td>0.0</td>\n",
       "      <td>1.0</td>\n",
       "    </tr>\n",
       "    <tr>\n",
       "      <td>3719808</td>\n",
       "      <td>1.0</td>\n",
       "      <td>1.0</td>\n",
       "      <td>0.0</td>\n",
       "      <td>0.0</td>\n",
       "      <td>1.0</td>\n",
       "      <td>1.0</td>\n",
       "      <td>0.0</td>\n",
       "      <td>0.0</td>\n",
       "      <td>1.0</td>\n",
       "      <td>0.0</td>\n",
       "      <td>1.0</td>\n",
       "    </tr>\n",
       "    <tr>\n",
       "      <td>3777877</td>\n",
       "      <td>1.0</td>\n",
       "      <td>1.0</td>\n",
       "      <td>0.0</td>\n",
       "      <td>0.0</td>\n",
       "      <td>0.0</td>\n",
       "      <td>1.0</td>\n",
       "      <td>0.0</td>\n",
       "      <td>0.0</td>\n",
       "      <td>1.0</td>\n",
       "      <td>0.0</td>\n",
       "      <td>1.0</td>\n",
       "    </tr>\n",
       "    <tr>\n",
       "      <td>3778598</td>\n",
       "      <td>1.0</td>\n",
       "      <td>1.0</td>\n",
       "      <td>0.0</td>\n",
       "      <td>0.0</td>\n",
       "      <td>1.0</td>\n",
       "      <td>1.0</td>\n",
       "      <td>0.0</td>\n",
       "      <td>0.0</td>\n",
       "      <td>1.0</td>\n",
       "      <td>0.0</td>\n",
       "      <td>1.0</td>\n",
       "    </tr>\n",
       "    <tr>\n",
       "      <td>3838141</td>\n",
       "      <td>1.0</td>\n",
       "      <td>1.0</td>\n",
       "      <td>0.0</td>\n",
       "      <td>0.0</td>\n",
       "      <td>1.0</td>\n",
       "      <td>1.0</td>\n",
       "      <td>0.0</td>\n",
       "      <td>0.0</td>\n",
       "      <td>1.0</td>\n",
       "      <td>0.0</td>\n",
       "      <td>1.0</td>\n",
       "    </tr>\n",
       "    <tr>\n",
       "      <td>3865694</td>\n",
       "      <td>1.0</td>\n",
       "      <td>1.0</td>\n",
       "      <td>0.0</td>\n",
       "      <td>0.0</td>\n",
       "      <td>1.0</td>\n",
       "      <td>0.0</td>\n",
       "      <td>0.0</td>\n",
       "      <td>0.0</td>\n",
       "      <td>1.0</td>\n",
       "      <td>0.0</td>\n",
       "      <td>1.0</td>\n",
       "    </tr>\n",
       "    <tr>\n",
       "      <td>3891507</td>\n",
       "      <td>1.0</td>\n",
       "      <td>1.0</td>\n",
       "      <td>0.0</td>\n",
       "      <td>1.0</td>\n",
       "      <td>0.0</td>\n",
       "      <td>1.0</td>\n",
       "      <td>0.0</td>\n",
       "      <td>0.0</td>\n",
       "      <td>0.0</td>\n",
       "      <td>0.0</td>\n",
       "      <td>1.0</td>\n",
       "    </tr>\n",
       "    <tr>\n",
       "      <td>3919369</td>\n",
       "      <td>1.0</td>\n",
       "      <td>1.0</td>\n",
       "      <td>0.0</td>\n",
       "      <td>0.0</td>\n",
       "      <td>0.0</td>\n",
       "      <td>0.0</td>\n",
       "      <td>0.0</td>\n",
       "      <td>0.0</td>\n",
       "      <td>1.0</td>\n",
       "      <td>0.0</td>\n",
       "      <td>1.0</td>\n",
       "    </tr>\n",
       "    <tr>\n",
       "      <td>3929385</td>\n",
       "      <td>1.0</td>\n",
       "      <td>1.0</td>\n",
       "      <td>0.0</td>\n",
       "      <td>0.0</td>\n",
       "      <td>0.0</td>\n",
       "      <td>1.0</td>\n",
       "      <td>0.0</td>\n",
       "      <td>0.0</td>\n",
       "      <td>1.0</td>\n",
       "      <td>0.0</td>\n",
       "      <td>1.0</td>\n",
       "    </tr>\n",
       "    <tr>\n",
       "      <td>4000605</td>\n",
       "      <td>1.0</td>\n",
       "      <td>1.0</td>\n",
       "      <td>0.0</td>\n",
       "      <td>0.0</td>\n",
       "      <td>1.0</td>\n",
       "      <td>1.0</td>\n",
       "      <td>0.0</td>\n",
       "      <td>0.0</td>\n",
       "      <td>1.0</td>\n",
       "      <td>0.0</td>\n",
       "      <td>1.0</td>\n",
       "    </tr>\n",
       "    <tr>\n",
       "      <td>4030885</td>\n",
       "      <td>2.0</td>\n",
       "      <td>1.0</td>\n",
       "      <td>0.0</td>\n",
       "      <td>0.0</td>\n",
       "      <td>2.0</td>\n",
       "      <td>1.0</td>\n",
       "      <td>0.0</td>\n",
       "      <td>0.0</td>\n",
       "      <td>2.0</td>\n",
       "      <td>0.0</td>\n",
       "      <td>1.0</td>\n",
       "    </tr>\n",
       "    <tr>\n",
       "      <td>4036519</td>\n",
       "      <td>1.0</td>\n",
       "      <td>1.0</td>\n",
       "      <td>0.0</td>\n",
       "      <td>0.0</td>\n",
       "      <td>1.0</td>\n",
       "      <td>1.0</td>\n",
       "      <td>0.0</td>\n",
       "      <td>0.0</td>\n",
       "      <td>1.0</td>\n",
       "      <td>0.0</td>\n",
       "      <td>1.0</td>\n",
       "    </tr>\n",
       "    <tr>\n",
       "      <td>4078546</td>\n",
       "      <td>1.0</td>\n",
       "      <td>1.0</td>\n",
       "      <td>0.0</td>\n",
       "      <td>0.0</td>\n",
       "      <td>0.0</td>\n",
       "      <td>1.0</td>\n",
       "      <td>0.0</td>\n",
       "      <td>0.0</td>\n",
       "      <td>1.0</td>\n",
       "      <td>0.0</td>\n",
       "      <td>1.0</td>\n",
       "    </tr>\n",
       "  </tbody>\n",
       "</table>\n",
       "</div>"
      ],
      "text/plain": [
       "                  C1     C2   C3   C4     C5    C6   C7   C8    C9  C10   C11\n",
       "TransactionID                                                                \n",
       "2993924          2.0    1.0  0.0  0.0    2.0   0.0  0.0  0.0   1.0  0.0   1.0\n",
       "3030916          3.0    3.0  0.0  0.0    1.0   2.0  0.0  0.0   2.0  0.0   2.0\n",
       "3084591          2.0    1.0  0.0  0.0    1.0   2.0  0.0  0.0   2.0  0.0   1.0\n",
       "3091769          1.0    1.0  0.0  0.0    0.0   1.0  0.0  0.0   0.0  0.0   1.0\n",
       "3221368          2.0    2.0  0.0  0.0    1.0   2.0  0.0  0.0   1.0  0.0   1.0\n",
       "3296661          1.0    1.0  0.0  0.0    1.0   0.0  0.0  0.0   0.0  0.0   1.0\n",
       "3303057          1.0    1.0  0.0  0.0    1.0   1.0  0.0  0.0   1.0  0.0   1.0\n",
       "3317056        116.0  123.0  0.0  0.0  111.0  91.0  0.0  0.0  80.0  0.0  86.0\n",
       "3353702          1.0    1.0  0.0  0.0    1.0   0.0  0.0  0.0   1.0  0.0   1.0\n",
       "3356164         82.0   90.0  0.0  0.0   62.0  60.0  0.0  0.0  62.0  0.0  61.0\n",
       "3377827          2.0    2.0  0.0  0.0    1.0   2.0  0.0  0.0   2.0  0.0   2.0\n",
       "3419627          2.0    1.0  0.0  0.0    1.0   0.0  0.0  0.0   1.0  0.0   1.0\n",
       "3719808          1.0    1.0  0.0  0.0    1.0   1.0  0.0  0.0   1.0  0.0   1.0\n",
       "3777877          1.0    1.0  0.0  0.0    0.0   1.0  0.0  0.0   1.0  0.0   1.0\n",
       "3778598          1.0    1.0  0.0  0.0    1.0   1.0  0.0  0.0   1.0  0.0   1.0\n",
       "3838141          1.0    1.0  0.0  0.0    1.0   1.0  0.0  0.0   1.0  0.0   1.0\n",
       "3865694          1.0    1.0  0.0  0.0    1.0   0.0  0.0  0.0   1.0  0.0   1.0\n",
       "3891507          1.0    1.0  0.0  1.0    0.0   1.0  0.0  0.0   0.0  0.0   1.0\n",
       "3919369          1.0    1.0  0.0  0.0    0.0   0.0  0.0  0.0   1.0  0.0   1.0\n",
       "3929385          1.0    1.0  0.0  0.0    0.0   1.0  0.0  0.0   1.0  0.0   1.0\n",
       "4000605          1.0    1.0  0.0  0.0    1.0   1.0  0.0  0.0   1.0  0.0   1.0\n",
       "4030885          2.0    1.0  0.0  0.0    2.0   1.0  0.0  0.0   2.0  0.0   1.0\n",
       "4036519          1.0    1.0  0.0  0.0    1.0   1.0  0.0  0.0   1.0  0.0   1.0\n",
       "4078546          1.0    1.0  0.0  0.0    0.0   1.0  0.0  0.0   1.0  0.0   1.0"
      ]
     },
     "execution_count": 15,
     "metadata": {},
     "output_type": "execute_result"
    }
   ],
   "source": [
    "df[df.new_card_id == 5100][[f'C{i}' for i in range(1,12)]]\n",
    "\n",
    "\n",
    "\n"
   ]
  },
  {
   "cell_type": "code",
   "execution_count": null,
   "metadata": {
    "ExecuteTime": {
     "end_time": "2019-09-21T16:01:03.529686Z",
     "start_time": "2019-09-21T16:01:01.500Z"
    }
   },
   "outputs": [],
   "source": [
    "from datetime import datetime,timedelta\n",
    "from typing import NamedTuple, List, Dict,Set\n",
    "class User(object):\n",
    "    user_id:int\n",
    "    card_id:str\n",
    "    start_date:datetime\n",
    "    last_transaction_date:datetime\n",
    "    transaction_ids: List[str]\n",
    "    def __init__(self,**kwargs):\n",
    "        for k,v in kwargs.items():\n",
    "            setattr(self,k,v)\n",
    "    def __repr__(self):\n",
    "        return str(self.__dict__)\n",
    "users = []\n",
    "users_by_card_id_by_first_date:Dict[int,Dict[datetime,User]] = {}\n",
    "\n",
    "START_DATE = '1900-12-01'\n",
    "nan_startdate = datetime.strptime(START_DATE, \"%Y-%m-%d\")\n",
    "\n",
    "START_DATE = '1950-12-01'\n",
    "zero_startdate = datetime.strptime(START_DATE, \"%Y-%m-%d\")\n"
   ]
  },
  {
   "cell_type": "code",
   "execution_count": null,
   "metadata": {
    "ExecuteTime": {
     "end_time": "2019-09-21T16:01:03.532684Z",
     "start_time": "2019-09-21T16:01:01.503Z"
    },
    "scrolled": false
   },
   "outputs": [],
   "source": [
    "percentage = 0\n",
    "for card_id in range(0,19213):\n",
    "    new_percentage = card_id*100//19213\n",
    "    if new_percentage > percentage:\n",
    "        percentage = new_percentage\n",
    "        if percentage % 5 ==0:\n",
    "            print(f'{percentage}%')\n",
    "    user_df = df[df.card_id==card_id]\n",
    "    D_cols = ['D%d'%i for i in range(1,5)]\n",
    "    filtered = user_df[['Date']+D_cols]\n",
    "#     filtered['diff'] = filtered.Date.diff()\n",
    "    for index,row in filtered.iterrows():\n",
    "        dt = row['Date'].date()\n",
    "        if pd.isnull(row['D1']):\n",
    "            first_transaction_date = nan_startdate\n",
    "            days_since_first_transaction = (dt - startdate.date()).days\n",
    "        else:\n",
    "            days_since_first_transaction = int(row['D1'])\n",
    "            if days_since_first_transaction == 0:\n",
    "                first_transaction_date = zero_startdate\n",
    "            else:\n",
    "                first_transaction_date = dt-timedelta(days=days_since_first_transaction)\n",
    "        create_new = False\n",
    "        if card_id not in users_by_card_id_by_first_date:\n",
    "            users_by_card_id_by_first_date[card_id] = {}\n",
    "            create_new = True\n",
    "        else:\n",
    "            if first_transaction_date not in users_by_card_id_by_first_date[card_id]:\n",
    "                create_new = True\n",
    "            else:\n",
    "                u = users_by_card_id_by_first_date[card_id][first_transaction_date]\n",
    "                u.last_transaction_date = dt\n",
    "                u.transaction_ids.append(index)\n",
    "        if create_new:\n",
    "            u = User(user_id=len(users),\n",
    "                     card_id=card_id,\n",
    "                     start_date=first_transaction_date,\n",
    "                     last_transaction_date=dt,\n",
    "                     transaction_ids=[index])\n",
    "            users.append(u)\n",
    "            users_by_card_id_by_first_date[card_id][first_transaction_date] = u\n",
    "    \n"
   ]
  },
  {
   "cell_type": "code",
   "execution_count": null,
   "metadata": {
    "ExecuteTime": {
     "end_time": "2019-09-21T16:01:03.534683Z",
     "start_time": "2019-09-21T16:01:01.509Z"
    }
   },
   "outputs": [],
   "source": [
    "filtered\n"
   ]
  },
  {
   "cell_type": "code",
   "execution_count": null,
   "metadata": {
    "ExecuteTime": {
     "end_time": "2019-09-21T16:01:03.535684Z",
     "start_time": "2019-09-21T16:01:01.513Z"
    }
   },
   "outputs": [],
   "source": [
    "card_id = 0\n",
    "users_by_card_id_by_first_date[card_id].keys()\n",
    "x = list(users_by_card_id_by_first_date[card_id].keys())\n",
    "y = [len(users_by_card_id_by_first_date[card_id][k].transaction_ids) for k in x]\n"
   ]
  },
  {
   "cell_type": "code",
   "execution_count": null,
   "metadata": {
    "ExecuteTime": {
     "end_time": "2019-09-21T16:01:03.537684Z",
     "start_time": "2019-09-21T16:01:01.520Z"
    }
   },
   "outputs": [],
   "source": [
    "df[df.card_id == 6006][['isFraud','Date']+D_cols]"
   ]
  },
  {
   "cell_type": "code",
   "execution_count": null,
   "metadata": {
    "ExecuteTime": {
     "end_time": "2019-09-21T16:01:03.538684Z",
     "start_time": "2019-09-21T16:01:01.522Z"
    }
   },
   "outputs": [],
   "source": [
    "l = len(users)\n"
   ]
  },
  {
   "cell_type": "code",
   "execution_count": null,
   "metadata": {
    "ExecuteTime": {
     "end_time": "2019-09-21T16:01:03.540713Z",
     "start_time": "2019-09-21T16:01:01.525Z"
    }
   },
   "outputs": [],
   "source": [
    "# df_new_card_id = pd.DataFrame(index=df.index)\n",
    "# df_new_card_id['new_card_id'] = -1\n",
    "# df_new_card_id['new_card_id'].astype(np.int32)\n",
    "# df_start_date = pd.DataFrame(index=df.index)\n",
    "# df_start_date['start_date'] = -1\n",
    "# df_start_date['start_date'].astype(np.int32)\n",
    "\n",
    "index_to_new_card_id = {}\n",
    "index_to_new_start_date = {}\n",
    "percentage = 0\n",
    "for i,u in enumerate(users):\n",
    "    new_percentage = i*100//l\n",
    "    if new_percentage > percentage:\n",
    "        percentage = new_percentage\n",
    "        if percentage % 5 ==0:\n",
    "            print(f'{percentage}%')\n",
    "#     df_new_card_id.loc[u.transaction_ids,'new_cardId'] = u.user_id\n",
    "#     df_start_date.loc[u.transaction_ids,'start_date'] = u.start_date\n",
    "    for idx in u.transaction_ids:\n",
    "        index_to_new_card_id[idx] = u.user_id\n",
    "        index_to_new_start_date[idx] = u.start_date\n",
    "            \n"
   ]
  },
  {
   "cell_type": "code",
   "execution_count": null,
   "metadata": {
    "ExecuteTime": {
     "end_time": "2019-09-21T16:01:03.541686Z",
     "start_time": "2019-09-21T16:01:01.527Z"
    }
   },
   "outputs": [],
   "source": [
    "new_card_id = np.zeros(len(df.index),dtype=np.int32)\n",
    "start_date = np.zeros(len(df.index),dtype='datetime64[ms]')\n",
    "for i,idx in enumerate(df.index):\n",
    "    if idx not in index_to_new_card_id:\n",
    "        print(f'Not Found {idx}')\n",
    "        continue\n",
    "    new_card_id[i] = index_to_new_card_id[idx]\n",
    "    start_date[i] = index_to_new_start_date[idx]\n",
    "    "
   ]
  },
  {
   "cell_type": "code",
   "execution_count": null,
   "metadata": {
    "ExecuteTime": {
     "end_time": "2019-09-21T16:01:03.543684Z",
     "start_time": "2019-09-21T16:01:01.530Z"
    }
   },
   "outputs": [],
   "source": [
    "df['new_card_id'] = new_card_id"
   ]
  },
  {
   "cell_type": "code",
   "execution_count": null,
   "metadata": {
    "ExecuteTime": {
     "end_time": "2019-09-21T16:01:03.544684Z",
     "start_time": "2019-09-21T16:01:01.534Z"
    }
   },
   "outputs": [],
   "source": [
    "df['start_date'] = start_date"
   ]
  },
  {
   "cell_type": "code",
   "execution_count": null,
   "metadata": {
    "ExecuteTime": {
     "end_time": "2019-09-21T16:01:03.546685Z",
     "start_time": "2019-09-21T16:01:01.536Z"
    }
   },
   "outputs": [],
   "source": [
    "df[['new_card_id','start_date']].to_pickle(f'{p.working_folder}/new_id.pkl')"
   ]
  }
 ],
 "metadata": {
  "kernelspec": {
   "display_name": "Python 3",
   "language": "python",
   "name": "python3"
  },
  "language_info": {
   "codemirror_mode": {
    "name": "ipython",
    "version": 3
   },
   "file_extension": ".py",
   "mimetype": "text/x-python",
   "name": "python",
   "nbconvert_exporter": "python",
   "pygments_lexer": "ipython3",
   "version": "3.7.4"
  },
  "toc": {
   "base_numbering": 1,
   "nav_menu": {},
   "number_sections": true,
   "sideBar": true,
   "skip_h1_title": false,
   "title_cell": "Table of Contents",
   "title_sidebar": "Contents",
   "toc_cell": false,
   "toc_position": {},
   "toc_section_display": true,
   "toc_window_display": false
  },
  "varInspector": {
   "cols": {
    "lenName": 16,
    "lenType": 16,
    "lenVar": 40
   },
   "kernels_config": {
    "python": {
     "delete_cmd_postfix": "",
     "delete_cmd_prefix": "del ",
     "library": "var_list.py",
     "varRefreshCmd": "print(var_dic_list())"
    },
    "r": {
     "delete_cmd_postfix": ") ",
     "delete_cmd_prefix": "rm(",
     "library": "var_list.r",
     "varRefreshCmd": "cat(var_dic_list()) "
    }
   },
   "types_to_exclude": [
    "module",
    "function",
    "builtin_function_or_method",
    "instance",
    "_Feature"
   ],
   "window_display": false
  }
 },
 "nbformat": 4,
 "nbformat_minor": 2
}
