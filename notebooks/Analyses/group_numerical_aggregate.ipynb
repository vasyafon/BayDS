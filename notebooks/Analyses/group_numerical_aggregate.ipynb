{
 "cells": [
  {
   "cell_type": "markdown",
   "metadata": {
    "ExecuteTime": {
     "end_time": "2019-09-29T08:01:58.052850Z",
     "start_time": "2019-09-29T08:01:58.049815Z"
    }
   },
   "source": [
    "## Creating AddGroupNumericalAggregateNode"
   ]
  },
  {
   "cell_type": "code",
   "execution_count": 1,
   "metadata": {
    "ExecuteTime": {
     "end_time": "2019-09-29T11:47:21.842493Z",
     "start_time": "2019-09-29T11:47:18.616054Z"
    }
   },
   "outputs": [],
   "source": [
    "import pandas as pd"
   ]
  },
  {
   "cell_type": "code",
   "execution_count": 11,
   "metadata": {
    "ExecuteTime": {
     "end_time": "2019-09-29T11:55:30.381502Z",
     "start_time": "2019-09-29T11:55:22.570989Z"
    }
   },
   "outputs": [],
   "source": [
    "df = pd.read_pickle(r'e:\\Kaggle\\Test\\label_encoded_data.pkl')"
   ]
  },
  {
   "cell_type": "code",
   "execution_count": 3,
   "metadata": {
    "ExecuteTime": {
     "end_time": "2019-09-29T11:47:31.328548Z",
     "start_time": "2019-09-29T11:47:31.313536Z"
    }
   },
   "outputs": [
    {
     "data": {
      "text/plain": [
       "(1097231, 634)"
      ]
     },
     "execution_count": 3,
     "metadata": {},
     "output_type": "execute_result"
    }
   ],
   "source": [
    "df.shape"
   ]
  },
  {
   "cell_type": "code",
   "execution_count": 24,
   "metadata": {
    "ExecuteTime": {
     "end_time": "2019-09-29T12:15:49.760544Z",
     "start_time": "2019-09-29T12:15:49.749532Z"
    }
   },
   "outputs": [],
   "source": [
    "df = df[df['new_card_id'].isin([1000,1001])][['new_card_id','DT_M','TransactionAmt']]"
   ]
  },
  {
   "cell_type": "code",
   "execution_count": 25,
   "metadata": {
    "ExecuteTime": {
     "end_time": "2019-09-29T12:15:50.447718Z",
     "start_time": "2019-09-29T12:15:50.438703Z"
    },
    "scrolled": true
   },
   "outputs": [
    {
     "data": {
      "text/html": [
       "<div>\n",
       "<style scoped>\n",
       "    .dataframe tbody tr th:only-of-type {\n",
       "        vertical-align: middle;\n",
       "    }\n",
       "\n",
       "    .dataframe tbody tr th {\n",
       "        vertical-align: top;\n",
       "    }\n",
       "\n",
       "    .dataframe thead th {\n",
       "        text-align: right;\n",
       "    }\n",
       "</style>\n",
       "<table border=\"1\" class=\"dataframe\">\n",
       "  <thead>\n",
       "    <tr style=\"text-align: right;\">\n",
       "      <th></th>\n",
       "      <th>new_card_id</th>\n",
       "      <th>DT_M</th>\n",
       "      <th>TransactionAmt</th>\n",
       "    </tr>\n",
       "    <tr>\n",
       "      <th>TransactionID</th>\n",
       "      <th></th>\n",
       "      <th></th>\n",
       "      <th></th>\n",
       "    </tr>\n",
       "  </thead>\n",
       "  <tbody>\n",
       "    <tr>\n",
       "      <td>3079878</td>\n",
       "      <td>1000</td>\n",
       "      <td>12</td>\n",
       "      <td>175.250000</td>\n",
       "    </tr>\n",
       "    <tr>\n",
       "      <td>3079885</td>\n",
       "      <td>1000</td>\n",
       "      <td>12</td>\n",
       "      <td>175.250000</td>\n",
       "    </tr>\n",
       "    <tr>\n",
       "      <td>3080799</td>\n",
       "      <td>1001</td>\n",
       "      <td>12</td>\n",
       "      <td>39.993999</td>\n",
       "    </tr>\n",
       "    <tr>\n",
       "      <td>3138668</td>\n",
       "      <td>1001</td>\n",
       "      <td>13</td>\n",
       "      <td>29.850000</td>\n",
       "    </tr>\n",
       "    <tr>\n",
       "      <td>3148417</td>\n",
       "      <td>1000</td>\n",
       "      <td>13</td>\n",
       "      <td>14.750000</td>\n",
       "    </tr>\n",
       "    <tr>\n",
       "      <td>3241908</td>\n",
       "      <td>1000</td>\n",
       "      <td>14</td>\n",
       "      <td>24.469999</td>\n",
       "    </tr>\n",
       "    <tr>\n",
       "      <td>3754823</td>\n",
       "      <td>1001</td>\n",
       "      <td>20</td>\n",
       "      <td>47.032001</td>\n",
       "    </tr>\n",
       "    <tr>\n",
       "      <td>4045062</td>\n",
       "      <td>1000</td>\n",
       "      <td>23</td>\n",
       "      <td>15.370000</td>\n",
       "    </tr>\n",
       "  </tbody>\n",
       "</table>\n",
       "</div>"
      ],
      "text/plain": [
       "               new_card_id  DT_M  TransactionAmt\n",
       "TransactionID                                   \n",
       "3079878               1000    12      175.250000\n",
       "3079885               1000    12      175.250000\n",
       "3080799               1001    12       39.993999\n",
       "3138668               1001    13       29.850000\n",
       "3148417               1000    13       14.750000\n",
       "3241908               1000    14       24.469999\n",
       "3754823               1001    20       47.032001\n",
       "4045062               1000    23       15.370000"
      ]
     },
     "execution_count": 25,
     "metadata": {},
     "output_type": "execute_result"
    }
   ],
   "source": [
    "df"
   ]
  },
  {
   "cell_type": "code",
   "execution_count": 31,
   "metadata": {
    "ExecuteTime": {
     "end_time": "2019-09-29T12:24:09.225634Z",
     "start_time": "2019-09-29T12:24:09.190624Z"
    }
   },
   "outputs": [
    {
     "name": "stderr",
     "output_type": "stream",
     "text": [
      "c:\\python37\\lib\\site-packages\\ipykernel_launcher.py:10: SettingWithCopyWarning: \n",
      "A value is trying to be set on a copy of a slice from a DataFrame.\n",
      "Try using .loc[row_indexer,col_indexer] = value instead\n",
      "\n",
      "See the caveats in the documentation: http://pandas.pydata.org/pandas-docs/stable/user_guide/indexing.html#returning-a-view-versus-a-copy\n",
      "  # Remove the CWD from sys.path while we load stuff.\n",
      "c:\\python37\\lib\\site-packages\\ipykernel_launcher.py:12: SettingWithCopyWarning: \n",
      "A value is trying to be set on a copy of a slice from a DataFrame.\n",
      "Try using .loc[row_indexer,col_indexer] = value instead\n",
      "\n",
      "See the caveats in the documentation: http://pandas.pydata.org/pandas-docs/stable/user_guide/indexing.html#returning-a-view-versus-a-copy\n",
      "  if sys.path[0] == '':\n"
     ]
    }
   ],
   "source": [
    "def group_numerical_aggregate(df,groupby=[],cols=[], to_mean=True, to_std=True,to_minmax=False, to_std_score=False):\n",
    "    slice_df = df[groupby+cols]\n",
    "    if len(groupby) == 1:\n",
    "        gcname=groupby[0]\n",
    "    else:\n",
    "        gcname = \"(\"+'+'.join(groupby)+\")\"\n",
    "\n",
    "    for igc,gc in enumerate(groupby):\n",
    "        if igc == 0:\n",
    "            slice_df['group_col'] = slice_df[gc].astype(str)\n",
    "        else:\n",
    "            slice_df['group_col'] += '_'+slice_df[gc].astype(str)\n",
    "\n",
    "    for col in cols:\n",
    "        group_col = slice_df.groupby(['group_col'])[col]\n",
    "        dmean = group_col.transform('mean')\n",
    "        dstd = group_col.transform('std').replace(-np.inf, np.nan).replace(np.inf, np.nan)        \n",
    "        if to_mean:\n",
    "            df[f'{col}_to_mean_groupby_{gcname}'] = (slice_df[col] / dmean).astype(np.float32)\n",
    "            \n",
    "        if to_std:\n",
    "            df[f'{col}_to_std_groupby_{gcname}'] = (slice_df[col] / dstd).replace({np.inf:0,-np.inf:0,np.nan:0}).astype(np.float32)\n",
    "            \n",
    "        if to_minmax:\n",
    "            dmin =  group_col.transform('min')\n",
    "            dmax =  group_col.transform('max')\n",
    "            df[f'{col}_to_minmax_groupby_{gcname}'] = ((slice_df[col] - dmin) / (dmax-dmin)).replace({np.inf:0,-np.inf:0,np.nan:0}).astype(np.float32)\n",
    "\n",
    "        if to_std_score:\n",
    "            df[f'{col}_to_stdscore_groupby_{gcname}'] = ((slice_df[col] - dmean) / dstd).replace({np.inf:0,-np.inf:0,np.nan:0}).astype(np.float32)\n",
    "            \n",
    "            \n",
    "    return df\n",
    "\n",
    "\n",
    "df = group_numerical_aggregate(df,groupby=['new_card_id','DT_M'],cols=['TransactionAmt'],to_minmax=True, to_std_score=True)"
   ]
  },
  {
   "cell_type": "code",
   "execution_count": 32,
   "metadata": {
    "ExecuteTime": {
     "end_time": "2019-09-29T12:24:11.668251Z",
     "start_time": "2019-09-29T12:24:11.650249Z"
    }
   },
   "outputs": [
    {
     "data": {
      "text/html": [
       "<div>\n",
       "<style scoped>\n",
       "    .dataframe tbody tr th:only-of-type {\n",
       "        vertical-align: middle;\n",
       "    }\n",
       "\n",
       "    .dataframe tbody tr th {\n",
       "        vertical-align: top;\n",
       "    }\n",
       "\n",
       "    .dataframe thead th {\n",
       "        text-align: right;\n",
       "    }\n",
       "</style>\n",
       "<table border=\"1\" class=\"dataframe\">\n",
       "  <thead>\n",
       "    <tr style=\"text-align: right;\">\n",
       "      <th></th>\n",
       "      <th>new_card_id</th>\n",
       "      <th>DT_M</th>\n",
       "      <th>TransactionAmt</th>\n",
       "      <th>TransactionAmt_to_mean_groupby_new_card_id</th>\n",
       "      <th>TransactionAmt_to_std_groupby_new_card_id</th>\n",
       "      <th>TransactionAmt_to_minmax_groupby_new_card_id</th>\n",
       "      <th>TransactionAmt_to_stdscore_groupby_new_card_id</th>\n",
       "      <th>TransactionAmt_to_mean_groupby_(new_card_id+DT_M)</th>\n",
       "      <th>TransactionAmt_to_std_groupby_(new_card_id+DT_M)</th>\n",
       "      <th>TransactionAmt_to_minmax_groupby_(new_card_id+DT_M)</th>\n",
       "      <th>TransactionAmt_to_stdscore_groupby_(new_card_id+DT_M)</th>\n",
       "    </tr>\n",
       "    <tr>\n",
       "      <th>TransactionID</th>\n",
       "      <th></th>\n",
       "      <th></th>\n",
       "      <th></th>\n",
       "      <th></th>\n",
       "      <th></th>\n",
       "      <th></th>\n",
       "      <th></th>\n",
       "      <th></th>\n",
       "      <th></th>\n",
       "      <th></th>\n",
       "      <th></th>\n",
       "    </tr>\n",
       "  </thead>\n",
       "  <tbody>\n",
       "    <tr>\n",
       "      <td>3079878</td>\n",
       "      <td>1000</td>\n",
       "      <td>12</td>\n",
       "      <td>175.250000</td>\n",
       "      <td>2.163100</td>\n",
       "      <td>2.035243</td>\n",
       "      <td>1.000000</td>\n",
       "      <td>1.094351</td>\n",
       "      <td>1.0</td>\n",
       "      <td>0.0</td>\n",
       "      <td>0.0</td>\n",
       "      <td>0.0</td>\n",
       "    </tr>\n",
       "    <tr>\n",
       "      <td>3079885</td>\n",
       "      <td>1000</td>\n",
       "      <td>12</td>\n",
       "      <td>175.250000</td>\n",
       "      <td>2.163100</td>\n",
       "      <td>2.035243</td>\n",
       "      <td>1.000000</td>\n",
       "      <td>1.094351</td>\n",
       "      <td>1.0</td>\n",
       "      <td>0.0</td>\n",
       "      <td>0.0</td>\n",
       "      <td>0.0</td>\n",
       "    </tr>\n",
       "    <tr>\n",
       "      <td>3080799</td>\n",
       "      <td>1001</td>\n",
       "      <td>12</td>\n",
       "      <td>39.993999</td>\n",
       "      <td>1.026575</td>\n",
       "      <td>4.630188</td>\n",
       "      <td>0.590385</td>\n",
       "      <td>0.119862</td>\n",
       "      <td>1.0</td>\n",
       "      <td>0.0</td>\n",
       "      <td>0.0</td>\n",
       "      <td>0.0</td>\n",
       "    </tr>\n",
       "    <tr>\n",
       "      <td>3138668</td>\n",
       "      <td>1001</td>\n",
       "      <td>13</td>\n",
       "      <td>29.850000</td>\n",
       "      <td>0.766197</td>\n",
       "      <td>3.455796</td>\n",
       "      <td>0.000000</td>\n",
       "      <td>-1.054529</td>\n",
       "      <td>1.0</td>\n",
       "      <td>0.0</td>\n",
       "      <td>0.0</td>\n",
       "      <td>0.0</td>\n",
       "    </tr>\n",
       "    <tr>\n",
       "      <td>3148417</td>\n",
       "      <td>1000</td>\n",
       "      <td>13</td>\n",
       "      <td>14.750000</td>\n",
       "      <td>0.182058</td>\n",
       "      <td>0.171297</td>\n",
       "      <td>0.000000</td>\n",
       "      <td>-0.769595</td>\n",
       "      <td>1.0</td>\n",
       "      <td>0.0</td>\n",
       "      <td>0.0</td>\n",
       "      <td>0.0</td>\n",
       "    </tr>\n",
       "    <tr>\n",
       "      <td>3241908</td>\n",
       "      <td>1000</td>\n",
       "      <td>14</td>\n",
       "      <td>24.469999</td>\n",
       "      <td>0.302032</td>\n",
       "      <td>0.284179</td>\n",
       "      <td>0.060561</td>\n",
       "      <td>-0.656713</td>\n",
       "      <td>1.0</td>\n",
       "      <td>0.0</td>\n",
       "      <td>0.0</td>\n",
       "      <td>0.0</td>\n",
       "    </tr>\n",
       "    <tr>\n",
       "      <td>3754823</td>\n",
       "      <td>1001</td>\n",
       "      <td>20</td>\n",
       "      <td>47.032001</td>\n",
       "      <td>1.207228</td>\n",
       "      <td>5.444992</td>\n",
       "      <td>1.000000</td>\n",
       "      <td>0.934666</td>\n",
       "      <td>1.0</td>\n",
       "      <td>0.0</td>\n",
       "      <td>0.0</td>\n",
       "      <td>0.0</td>\n",
       "    </tr>\n",
       "    <tr>\n",
       "      <td>4045062</td>\n",
       "      <td>1000</td>\n",
       "      <td>23</td>\n",
       "      <td>15.370000</td>\n",
       "      <td>0.189711</td>\n",
       "      <td>0.178497</td>\n",
       "      <td>0.003863</td>\n",
       "      <td>-0.762394</td>\n",
       "      <td>1.0</td>\n",
       "      <td>0.0</td>\n",
       "      <td>0.0</td>\n",
       "      <td>0.0</td>\n",
       "    </tr>\n",
       "  </tbody>\n",
       "</table>\n",
       "</div>"
      ],
      "text/plain": [
       "               new_card_id  DT_M  TransactionAmt  \\\n",
       "TransactionID                                      \n",
       "3079878               1000    12      175.250000   \n",
       "3079885               1000    12      175.250000   \n",
       "3080799               1001    12       39.993999   \n",
       "3138668               1001    13       29.850000   \n",
       "3148417               1000    13       14.750000   \n",
       "3241908               1000    14       24.469999   \n",
       "3754823               1001    20       47.032001   \n",
       "4045062               1000    23       15.370000   \n",
       "\n",
       "               TransactionAmt_to_mean_groupby_new_card_id  \\\n",
       "TransactionID                                               \n",
       "3079878                                          2.163100   \n",
       "3079885                                          2.163100   \n",
       "3080799                                          1.026575   \n",
       "3138668                                          0.766197   \n",
       "3148417                                          0.182058   \n",
       "3241908                                          0.302032   \n",
       "3754823                                          1.207228   \n",
       "4045062                                          0.189711   \n",
       "\n",
       "               TransactionAmt_to_std_groupby_new_card_id  \\\n",
       "TransactionID                                              \n",
       "3079878                                         2.035243   \n",
       "3079885                                         2.035243   \n",
       "3080799                                         4.630188   \n",
       "3138668                                         3.455796   \n",
       "3148417                                         0.171297   \n",
       "3241908                                         0.284179   \n",
       "3754823                                         5.444992   \n",
       "4045062                                         0.178497   \n",
       "\n",
       "               TransactionAmt_to_minmax_groupby_new_card_id  \\\n",
       "TransactionID                                                 \n",
       "3079878                                            1.000000   \n",
       "3079885                                            1.000000   \n",
       "3080799                                            0.590385   \n",
       "3138668                                            0.000000   \n",
       "3148417                                            0.000000   \n",
       "3241908                                            0.060561   \n",
       "3754823                                            1.000000   \n",
       "4045062                                            0.003863   \n",
       "\n",
       "               TransactionAmt_to_stdscore_groupby_new_card_id  \\\n",
       "TransactionID                                                   \n",
       "3079878                                              1.094351   \n",
       "3079885                                              1.094351   \n",
       "3080799                                              0.119862   \n",
       "3138668                                             -1.054529   \n",
       "3148417                                             -0.769595   \n",
       "3241908                                             -0.656713   \n",
       "3754823                                              0.934666   \n",
       "4045062                                             -0.762394   \n",
       "\n",
       "               TransactionAmt_to_mean_groupby_(new_card_id+DT_M)  \\\n",
       "TransactionID                                                      \n",
       "3079878                                                      1.0   \n",
       "3079885                                                      1.0   \n",
       "3080799                                                      1.0   \n",
       "3138668                                                      1.0   \n",
       "3148417                                                      1.0   \n",
       "3241908                                                      1.0   \n",
       "3754823                                                      1.0   \n",
       "4045062                                                      1.0   \n",
       "\n",
       "               TransactionAmt_to_std_groupby_(new_card_id+DT_M)  \\\n",
       "TransactionID                                                     \n",
       "3079878                                                     0.0   \n",
       "3079885                                                     0.0   \n",
       "3080799                                                     0.0   \n",
       "3138668                                                     0.0   \n",
       "3148417                                                     0.0   \n",
       "3241908                                                     0.0   \n",
       "3754823                                                     0.0   \n",
       "4045062                                                     0.0   \n",
       "\n",
       "               TransactionAmt_to_minmax_groupby_(new_card_id+DT_M)  \\\n",
       "TransactionID                                                        \n",
       "3079878                                                      0.0     \n",
       "3079885                                                      0.0     \n",
       "3080799                                                      0.0     \n",
       "3138668                                                      0.0     \n",
       "3148417                                                      0.0     \n",
       "3241908                                                      0.0     \n",
       "3754823                                                      0.0     \n",
       "4045062                                                      0.0     \n",
       "\n",
       "               TransactionAmt_to_stdscore_groupby_(new_card_id+DT_M)  \n",
       "TransactionID                                                         \n",
       "3079878                                                      0.0      \n",
       "3079885                                                      0.0      \n",
       "3080799                                                      0.0      \n",
       "3138668                                                      0.0      \n",
       "3148417                                                      0.0      \n",
       "3241908                                                      0.0      \n",
       "3754823                                                      0.0      \n",
       "4045062                                                      0.0      "
      ]
     },
     "execution_count": 32,
     "metadata": {},
     "output_type": "execute_result"
    }
   ],
   "source": [
    "df"
   ]
  }
 ],
 "metadata": {
  "kernelspec": {
   "display_name": "Python 3",
   "language": "python",
   "name": "python3"
  },
  "language_info": {
   "codemirror_mode": {
    "name": "ipython",
    "version": 3
   },
   "file_extension": ".py",
   "mimetype": "text/x-python",
   "name": "python",
   "nbconvert_exporter": "python",
   "pygments_lexer": "ipython3",
   "version": "3.7.4"
  },
  "toc": {
   "base_numbering": 1,
   "nav_menu": {},
   "number_sections": true,
   "sideBar": true,
   "skip_h1_title": false,
   "title_cell": "Table of Contents",
   "title_sidebar": "Contents",
   "toc_cell": false,
   "toc_position": {},
   "toc_section_display": true,
   "toc_window_display": false
  },
  "varInspector": {
   "cols": {
    "lenName": 16,
    "lenType": 16,
    "lenVar": 40
   },
   "kernels_config": {
    "python": {
     "delete_cmd_postfix": "",
     "delete_cmd_prefix": "del ",
     "library": "var_list.py",
     "varRefreshCmd": "print(var_dic_list())"
    },
    "r": {
     "delete_cmd_postfix": ") ",
     "delete_cmd_prefix": "rm(",
     "library": "var_list.r",
     "varRefreshCmd": "cat(var_dic_list()) "
    }
   },
   "types_to_exclude": [
    "module",
    "function",
    "builtin_function_or_method",
    "instance",
    "_Feature"
   ],
   "window_display": false
  }
 },
 "nbformat": 4,
 "nbformat_minor": 2
}
