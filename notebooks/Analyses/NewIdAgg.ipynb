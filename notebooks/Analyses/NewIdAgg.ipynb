{
 "cells": [
  {
   "cell_type": "code",
   "execution_count": 1,
   "metadata": {
    "ExecuteTime": {
     "end_time": "2019-09-21T16:57:01.279424Z",
     "start_time": "2019-09-21T16:57:01.192424Z"
    }
   },
   "outputs": [],
   "source": [
    "%load_ext autoreload\n",
    "%autoreload 2"
   ]
  },
  {
   "cell_type": "code",
   "execution_count": 2,
   "metadata": {
    "ExecuteTime": {
     "end_time": "2019-09-21T16:57:04.470079Z",
     "start_time": "2019-09-21T16:57:01.283423Z"
    }
   },
   "outputs": [],
   "source": [
    "main_dir = r'../../..'\n",
    "data_path = main_dir+'/data'\n",
    "import sys\n",
    "sys.path.append(main_dir)\n",
    "from BayDS.lib.pipeline import *"
   ]
  },
  {
   "cell_type": "code",
   "execution_count": 3,
   "metadata": {
    "ExecuteTime": {
     "end_time": "2019-09-21T16:57:04.598081Z",
     "start_time": "2019-09-21T16:57:04.472081Z"
    }
   },
   "outputs": [],
   "source": [
    "from typing import List, Set, Dict, Optional, Any, Tuple, Type, Union\n",
    "from BayDS.lib.io import *\n",
    "import os\n"
   ]
  },
  {
   "cell_type": "code",
   "execution_count": null,
   "metadata": {
    "ExecuteTime": {
     "start_time": "2019-09-21T17:23:41.385Z"
    }
   },
   "outputs": [
    {
     "name": "stdout",
     "output_type": "stream",
     "text": [
      "---------------------------\n",
      "0: LoaderNode [2019-09-21 20:23:41]\n",
      "params:\n",
      " {'input_directory': '../../../Snapshots/1/99', 'file': 'data.pkl'}\n",
      "---------------------------\n",
      "1: LoaderNode [2019-09-21 20:23:53]\n",
      "params:\n",
      " {'input_directory': '../../../Snapshots/1/99', 'file': 'numerical_columns.yaml'}\n",
      "---------------------------\n",
      "2: LoaderNode [2019-09-21 20:23:53]\n",
      "params:\n",
      " {'input_directory': '../../../Snapshots/1/99', 'file': 'categorical_columns.yaml'}\n",
      "---------------------------\n",
      "3: LoaderNode [2019-09-21 20:23:53]\n",
      "params:\n",
      " {'input_directory': '../../../Snapshots/1/Analyses', 'file': 'new_id.pkl'}\n",
      "---------------------------\n",
      "4: JoinNode [2019-09-21 20:23:53]\n",
      "params:\n",
      " {'on': 'TransactionID'}\n",
      "---------------------------\n",
      "5: AddTemporalAggregates [2019-09-21 20:24:54]\n",
      "params:\n",
      " {'features': ['TransactionAmt'], 'group_by': 'new_card_id'}\n",
      "TransactionAmt\n"
     ]
    }
   ],
   "source": [
    "data_dir =f'{main_dir}/Snapshots/1/99'\n",
    "input_dir = f'{main_dir}/Data'\n",
    "\n",
    "p = Pipeline(working_folder=f'{main_dir}/Snapshots/1/NewId')\n",
    "\n",
    "\n",
    "# p.add_node(IEEEFraudTransactionLoaderNode, None, 'transactions',\n",
    "#            params={\n",
    "#                'input_directory': input_dir\n",
    "#            })\n",
    "\n",
    "p.add_node(LoaderNode, None, 'data',\n",
    "           params={\n",
    "               'input_directory': data_dir,\n",
    "               'file': 'data.pkl'\n",
    "           })\n",
    "p.add_node(LoaderNode, None, 'numerical_columns',\n",
    "           params={\n",
    "               'input_directory': data_dir,\n",
    "               'file': 'numerical_columns.yaml'\n",
    "           })\n",
    "p.add_node(LoaderNode, None, 'categorical_columns',\n",
    "           params={\n",
    "               'input_directory': data_dir,\n",
    "               'file': 'categorical_columns.yaml'\n",
    "           })\n",
    "\n",
    "p.add_node(LoaderNode, None, 'new_id',\n",
    "           params={\n",
    "               'input_directory': f'{main_dir}/Snapshots/1/Analyses',\n",
    "               'file': 'new_id.pkl'\n",
    "           })\n",
    "\n",
    "p.add_node(JoinNode, ('data','new_id'), 'data',\n",
    "          params={\n",
    "                   'on': 'TransactionID'\n",
    "               })\n",
    "p.add_node(AddTemporalAggregates, input_key=('data', 'numerical_columns', 'categorical_columns'),\n",
    "           output_key='TransactionAmt_Agg',\n",
    "           params={\n",
    "               'features':['TransactionAmt'],\n",
    "               'group_by':\"new_card_id\"\n",
    "           })\n",
    "\n",
    "# p.add_node(AddTemporalAggregates, input_key=('data', 'numerical_columns', 'categorical_columns'),\n",
    "#            'C5_Agg',\n",
    "#            params={\n",
    "#                'features':['C5'],\n",
    "#                'group_by':\"new_card_id\"\n",
    "#            })\n",
    "\n",
    "# p.add_node(AddTemporalAggregates, input_key=('data', 'numerical_columns', 'categorical_columns'),\n",
    "#            'C8_Agg',\n",
    "#            params={\n",
    "#                'features':['C8'],\n",
    "#                'group_by':\"new_card_id\"\n",
    "#            })\n",
    "\n",
    "# p.add_node(LoaderNode, None, 'categorical_columns',\n",
    "#            params={\n",
    "#                'input_directory': data_dir,\n",
    "#                'file': 'categorical_columns.yaml'\n",
    "#            })\n",
    "p.save()\n",
    "p.run(verbose=True)\n",
    "\n",
    "p.save_data()\n"
   ]
  }
 ],
 "metadata": {
  "kernelspec": {
   "display_name": "Python 3",
   "language": "python",
   "name": "python3"
  },
  "language_info": {
   "codemirror_mode": {
    "name": "ipython",
    "version": 3
   },
   "file_extension": ".py",
   "mimetype": "text/x-python",
   "name": "python",
   "nbconvert_exporter": "python",
   "pygments_lexer": "ipython3",
   "version": "3.7.4"
  },
  "toc": {
   "base_numbering": 1,
   "nav_menu": {},
   "number_sections": true,
   "sideBar": true,
   "skip_h1_title": false,
   "title_cell": "Table of Contents",
   "title_sidebar": "Contents",
   "toc_cell": false,
   "toc_position": {},
   "toc_section_display": true,
   "toc_window_display": false
  },
  "varInspector": {
   "cols": {
    "lenName": 16,
    "lenType": 16,
    "lenVar": 40
   },
   "kernels_config": {
    "python": {
     "delete_cmd_postfix": "",
     "delete_cmd_prefix": "del ",
     "library": "var_list.py",
     "varRefreshCmd": "print(var_dic_list())"
    },
    "r": {
     "delete_cmd_postfix": ") ",
     "delete_cmd_prefix": "rm(",
     "library": "var_list.r",
     "varRefreshCmd": "cat(var_dic_list()) "
    }
   },
   "types_to_exclude": [
    "module",
    "function",
    "builtin_function_or_method",
    "instance",
    "_Feature"
   ],
   "window_display": false
  }
 },
 "nbformat": 4,
 "nbformat_minor": 2
}
