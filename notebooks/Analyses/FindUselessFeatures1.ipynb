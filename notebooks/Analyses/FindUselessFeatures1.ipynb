{
 "cells": [
  {
   "cell_type": "code",
   "execution_count": 1,
   "metadata": {
    "ExecuteTime": {
     "end_time": "2019-09-29T15:58:39.611963Z",
     "start_time": "2019-09-29T15:58:36.145892Z"
    }
   },
   "outputs": [],
   "source": [
    "%load_ext autoreload\n",
    "%autoreload 2\n",
    "main_dir = r'../../..'\n",
    "data_path = main_dir+'/data'\n",
    "import sys\n",
    "sys.path.append(main_dir)\n",
    "from typing import List, Set, Dict, Optional, Any, Tuple, Type, Union\n",
    "\n",
    "from BayDS.lib.pipeline import *\n",
    "from BayDS.lib.io import *\n",
    "import os\n"
   ]
  },
  {
   "cell_type": "code",
   "execution_count": 2,
   "metadata": {
    "ExecuteTime": {
     "end_time": "2019-09-29T16:01:57.338761Z",
     "start_time": "2019-09-29T15:58:40.837004Z"
    },
    "scrolled": false
   },
   "outputs": [
    {
     "name": "stdout",
     "output_type": "stream",
     "text": [
      "---------------------------\n",
      "0: LoaderNode [2019-09-29 18:58:40]\n",
      "params:\n",
      " {'input_directory': '../../../Snapshots/1/05-LabelEncoded-last', 'file': 'label_encoded_data.pkl'}\n",
      "---------------------------\n",
      "1: LoaderNode [2019-09-29 18:58:47]\n",
      "params:\n",
      " {'input_directory': '../../../Snapshots/1/05-LabelEncoded-last', 'file': 'numerical_columns.yaml'}\n",
      "---------------------------\n",
      "2: LoaderNode [2019-09-29 18:58:47]\n",
      "params:\n",
      " {'input_directory': '../../../Snapshots/1/05-LabelEncoded-last', 'file': 'categorical_columns.yaml'}\n",
      "---------------------------\n",
      "3: FindUselessForTrainingFeaturesNode [2019-09-29 18:58:47]\n",
      "params:\n",
      " {'features': ['start_date', 'BrowserAge', 'id_02_to_mean_groupby_new_card_id', 'id_02_to_std_groupby_new_card_id', 'id_02_to_minmax_groupby_new_card_id', 'id_02_to_stdscore_groupby_new_card_id', 'D15_to_mean_groupby_new_card_id', 'D15_to_std_groupby_new_card_id', 'D15_to_minmax_groupby_new_card_id', 'D15_to_stdscore_groupby_new_card_id', 'TransactionAmt_to_mean_groupby_new_card_id', 'TransactionAmt_to_std_groupby_new_card_id', 'TransactionAmt_to_minmax_groupby_new_card_id', 'TransactionAmt_to_stdscore_groupby_new_card_id', 'id_02_to_mean_groupby_new_card_id', 'id_02_to_std_groupby_new_card_id', 'id_02_to_minmax_groupby_new_card_id', 'id_02_to_stdscore_groupby_new_card_id', 'D15_to_mean_groupby_new_card_id', 'D15_to_std_groupby_new_card_id', 'D15_to_minmax_groupby_new_card_id', 'D15_to_stdscore_groupby_new_card_id', 'TransactionAmt_to_mean_groupby_new_card_id', 'TransactionAmt_to_std_groupby_new_card_id', 'TransactionAmt_to_minmax_groupby_new_card_id', 'TransactionAmt_to_stdscore_groupby_new_card_id', 'card1_global_count', 'card2_global_count', 'card3_global_count', 'card4_global_count', 'card5_global_count', 'card6_global_count', 'uid_global_count', 'uid2_global_count', 'uid3_global_count', 'uid4_global_count', 'uid5_global_count', 'new_card_id_global_count', 'bank_type_global_count', 'D1_global_count', 'D2_global_count', 'D3_global_count', 'D4_global_count', 'D5_global_count', 'D6_global_count', 'D7_global_count', 'D8_global_count', 'D9_global_count', 'D10_global_count', 'D11_global_count', 'D12_global_count', 'D13_global_count', 'D14_global_count', 'D15_global_count', 'product_type_global_count', 'C1_global_count', 'C2_global_count', 'C3_global_count', 'C4_global_count', 'C5_global_count', 'C6_global_count', 'C7_global_count', 'C8_global_count', 'C9_global_count', 'C10_global_count', 'C11_global_count', 'C12_global_count', 'C13_global_count', 'C14_global_count', 'DeviceInfo_global_count', 'id_01_global_count', 'id_36_global_count', 'device_name_global_count', 'device_version_global_count', 'Browser_global_count', 'BrowserVersion_global_count', 'id_30_global_count', 'id_31_global_count', 'id_33_global_count', 'OS_global_count', 'OSVersion_global_count', 'addr1_global_count', 'addr2_global_count', 'dist1_global_count', 'dist2_global_count', 'P_emaildomain_global_count', 'R_emaildomain_global_count', 'ProductCD_global_count', 'DeviceType_global_count', 'id_12_global_count', 'id_13_global_count', 'id_14_global_count', 'id_15_global_count', 'id_16_global_count', 'id_17_global_count', 'id_18_global_count', 'id_19_global_count', 'id_20_global_count', 'id_21_global_count', 'id_22_global_count', 'id_23_global_count', 'id_24_global_count', 'id_25_global_count', 'id_26_global_count', 'id_27_global_count', 'id_28_global_count', 'id_29_global_count', 'id_32_global_count', 'id_34_global_count', 'id_37_global_count', 'id_38_global_count', 'bank_type_freq_groupby_DT_M', 'product_type_freq_groupby_DT_M', 'card1_freq_groupby_DT_M', 'card2_freq_groupby_DT_M', 'card3_freq_groupby_DT_M', 'card5_freq_groupby_DT_M', 'uid_freq_groupby_DT_M', 'uid2_freq_groupby_DT_M', 'uid3_freq_groupby_DT_M', 'bank_type_freq_groupby_DT_W', 'product_type_freq_groupby_DT_W', 'card1_freq_groupby_DT_W', 'card2_freq_groupby_DT_W', 'card3_freq_groupby_DT_W', 'card5_freq_groupby_DT_W', 'uid_freq_groupby_DT_W', 'uid2_freq_groupby_DT_W', 'uid3_freq_groupby_DT_W', 'bank_type_freq_groupby_DT_D', 'product_type_freq_groupby_DT_D', 'card1_freq_groupby_DT_D', 'card2_freq_groupby_DT_D', 'card3_freq_groupby_DT_D', 'card5_freq_groupby_DT_D', 'uid_freq_groupby_DT_D', 'uid2_freq_groupby_DT_D', 'uid3_freq_groupby_DT_D', 'D1_to_mean_groupby_uid', 'D1_to_std_groupby_uid', 'D1_to_minmax_groupby_uid', 'D1_to_stdscore_groupby_uid', 'D2_to_mean_groupby_uid', 'D2_to_std_groupby_uid', 'D2_to_minmax_groupby_uid', 'D2_to_stdscore_groupby_uid', 'D3_to_mean_groupby_uid', 'D3_to_std_groupby_uid', 'D3_to_minmax_groupby_uid', 'D3_to_stdscore_groupby_uid', 'D4_to_mean_groupby_uid', 'D4_to_std_groupby_uid', 'D4_to_minmax_groupby_uid', 'D4_to_stdscore_groupby_uid', 'D5_to_mean_groupby_uid', 'D5_to_std_groupby_uid', 'D5_to_minmax_groupby_uid', 'D5_to_stdscore_groupby_uid', 'D6_to_mean_groupby_uid', 'D6_to_std_groupby_uid', 'D6_to_minmax_groupby_uid', 'D6_to_stdscore_groupby_uid', 'D7_to_mean_groupby_uid', 'D7_to_std_groupby_uid', 'D7_to_minmax_groupby_uid', 'D7_to_stdscore_groupby_uid', 'D8_to_mean_groupby_uid', 'D8_to_std_groupby_uid', 'D8_to_minmax_groupby_uid', 'D8_to_stdscore_groupby_uid', 'D9_to_mean_groupby_uid', 'D9_to_std_groupby_uid', 'D9_to_minmax_groupby_uid', 'D9_to_stdscore_groupby_uid', 'D10_to_mean_groupby_uid', 'D10_to_std_groupby_uid', 'D10_to_minmax_groupby_uid', 'D10_to_stdscore_groupby_uid', 'D11_to_mean_groupby_uid', 'D11_to_std_groupby_uid', 'D11_to_minmax_groupby_uid', 'D11_to_stdscore_groupby_uid', 'D12_to_mean_groupby_uid', 'D12_to_std_groupby_uid', 'D12_to_minmax_groupby_uid', 'D12_to_stdscore_groupby_uid', 'D13_to_mean_groupby_uid', 'D13_to_std_groupby_uid', 'D13_to_minmax_groupby_uid', 'D13_to_stdscore_groupby_uid', 'D14_to_mean_groupby_uid', 'D14_to_std_groupby_uid', 'D14_to_minmax_groupby_uid', 'D14_to_stdscore_groupby_uid', 'D15_to_mean_groupby_uid', 'D15_to_std_groupby_uid', 'D15_to_minmax_groupby_uid', 'D15_to_stdscore_groupby_uid', 'D1_to_mean_groupby_uid2', 'D1_to_std_groupby_uid2', 'D1_to_minmax_groupby_uid2', 'D1_to_stdscore_groupby_uid2', 'D2_to_mean_groupby_uid2', 'D2_to_std_groupby_uid2', 'D2_to_minmax_groupby_uid2', 'D2_to_stdscore_groupby_uid2', 'D3_to_mean_groupby_uid2', 'D3_to_std_groupby_uid2', 'D3_to_minmax_groupby_uid2', 'D3_to_stdscore_groupby_uid2', 'D4_to_mean_groupby_uid2', 'D4_to_std_groupby_uid2', 'D4_to_minmax_groupby_uid2', 'D4_to_stdscore_groupby_uid2', 'D5_to_mean_groupby_uid2', 'D5_to_std_groupby_uid2', 'D5_to_minmax_groupby_uid2', 'D5_to_stdscore_groupby_uid2', 'D6_to_mean_groupby_uid2', 'D6_to_std_groupby_uid2', 'D6_to_minmax_groupby_uid2', 'D6_to_stdscore_groupby_uid2', 'D7_to_mean_groupby_uid2', 'D7_to_std_groupby_uid2', 'D7_to_minmax_groupby_uid2', 'D7_to_stdscore_groupby_uid2', 'D8_to_mean_groupby_uid2', 'D8_to_std_groupby_uid2', 'D8_to_minmax_groupby_uid2', 'D8_to_stdscore_groupby_uid2', 'D9_to_mean_groupby_uid2', 'D9_to_std_groupby_uid2', 'D9_to_minmax_groupby_uid2', 'D9_to_stdscore_groupby_uid2', 'D10_to_mean_groupby_uid2', 'D10_to_std_groupby_uid2', 'D10_to_minmax_groupby_uid2', 'D10_to_stdscore_groupby_uid2', 'D11_to_mean_groupby_uid2', 'D11_to_std_groupby_uid2', 'D11_to_minmax_groupby_uid2', 'D11_to_stdscore_groupby_uid2', 'D12_to_mean_groupby_uid2', 'D12_to_std_groupby_uid2', 'D12_to_minmax_groupby_uid2', 'D12_to_stdscore_groupby_uid2', 'D13_to_mean_groupby_uid2', 'D13_to_std_groupby_uid2', 'D13_to_minmax_groupby_uid2', 'D13_to_stdscore_groupby_uid2', 'D14_to_mean_groupby_uid2', 'D14_to_std_groupby_uid2', 'D14_to_minmax_groupby_uid2', 'D14_to_stdscore_groupby_uid2', 'D15_to_mean_groupby_uid2', 'D15_to_std_groupby_uid2', 'D15_to_minmax_groupby_uid2', 'D15_to_stdscore_groupby_uid2', 'D1_to_mean_groupby_uid3', 'D1_to_std_groupby_uid3', 'D1_to_minmax_groupby_uid3', 'D1_to_stdscore_groupby_uid3', 'D2_to_mean_groupby_uid3', 'D2_to_std_groupby_uid3', 'D2_to_minmax_groupby_uid3', 'D2_to_stdscore_groupby_uid3', 'D3_to_mean_groupby_uid3', 'D3_to_std_groupby_uid3', 'D3_to_minmax_groupby_uid3', 'D3_to_stdscore_groupby_uid3', 'D4_to_mean_groupby_uid3', 'D4_to_std_groupby_uid3', 'D4_to_minmax_groupby_uid3', 'D4_to_stdscore_groupby_uid3', 'D5_to_mean_groupby_uid3', 'D5_to_std_groupby_uid3', 'D5_to_minmax_groupby_uid3', 'D5_to_stdscore_groupby_uid3', 'D6_to_mean_groupby_uid3', 'D6_to_std_groupby_uid3', 'D6_to_minmax_groupby_uid3', 'D6_to_stdscore_groupby_uid3', 'D7_to_mean_groupby_uid3', 'D7_to_std_groupby_uid3', 'D7_to_minmax_groupby_uid3', 'D7_to_stdscore_groupby_uid3', 'D8_to_mean_groupby_uid3', 'D8_to_std_groupby_uid3', 'D8_to_minmax_groupby_uid3', 'D8_to_stdscore_groupby_uid3', 'D9_to_mean_groupby_uid3', 'D9_to_std_groupby_uid3', 'D9_to_minmax_groupby_uid3', 'D9_to_stdscore_groupby_uid3', 'D10_to_mean_groupby_uid3', 'D10_to_std_groupby_uid3', 'D10_to_minmax_groupby_uid3', 'D10_to_stdscore_groupby_uid3', 'D11_to_mean_groupby_uid3', 'D11_to_std_groupby_uid3', 'D11_to_minmax_groupby_uid3', 'D11_to_stdscore_groupby_uid3', 'D12_to_mean_groupby_uid3', 'D12_to_std_groupby_uid3', 'D12_to_minmax_groupby_uid3', 'D12_to_stdscore_groupby_uid3', 'D13_to_mean_groupby_uid3', 'D13_to_std_groupby_uid3', 'D13_to_minmax_groupby_uid3', 'D13_to_stdscore_groupby_uid3', 'D14_to_mean_groupby_uid3', 'D14_to_std_groupby_uid3', 'D14_to_minmax_groupby_uid3', 'D14_to_stdscore_groupby_uid3', 'D15_to_mean_groupby_uid3', 'D15_to_std_groupby_uid3', 'D15_to_minmax_groupby_uid3', 'D15_to_stdscore_groupby_uid3', 'D1_to_mean_groupby_uid4', 'D1_to_std_groupby_uid4', 'D1_to_minmax_groupby_uid4', 'D1_to_stdscore_groupby_uid4', 'D2_to_mean_groupby_uid4', 'D2_to_std_groupby_uid4', 'D2_to_minmax_groupby_uid4', 'D2_to_stdscore_groupby_uid4', 'D3_to_mean_groupby_uid4', 'D3_to_std_groupby_uid4', 'D3_to_minmax_groupby_uid4', 'D3_to_stdscore_groupby_uid4', 'D4_to_mean_groupby_uid4', 'D4_to_std_groupby_uid4', 'D4_to_minmax_groupby_uid4', 'D4_to_stdscore_groupby_uid4', 'D5_to_mean_groupby_uid4', 'D5_to_std_groupby_uid4', 'D5_to_minmax_groupby_uid4', 'D5_to_stdscore_groupby_uid4', 'D6_to_mean_groupby_uid4', 'D6_to_std_groupby_uid4', 'D6_to_minmax_groupby_uid4', 'D6_to_stdscore_groupby_uid4', 'D7_to_mean_groupby_uid4', 'D7_to_std_groupby_uid4', 'D7_to_minmax_groupby_uid4', 'D7_to_stdscore_groupby_uid4', 'D8_to_mean_groupby_uid4', 'D8_to_std_groupby_uid4', 'D8_to_minmax_groupby_uid4', 'D8_to_stdscore_groupby_uid4', 'D9_to_mean_groupby_uid4', 'D9_to_std_groupby_uid4', 'D9_to_minmax_groupby_uid4', 'D9_to_stdscore_groupby_uid4', 'D10_to_mean_groupby_uid4', 'D10_to_std_groupby_uid4', 'D10_to_minmax_groupby_uid4', 'D10_to_stdscore_groupby_uid4', 'D11_to_mean_groupby_uid4', 'D11_to_std_groupby_uid4', 'D11_to_minmax_groupby_uid4', 'D11_to_stdscore_groupby_uid4', 'D12_to_mean_groupby_uid4', 'D12_to_std_groupby_uid4', 'D12_to_minmax_groupby_uid4', 'D12_to_stdscore_groupby_uid4', 'D13_to_mean_groupby_uid4', 'D13_to_std_groupby_uid4', 'D13_to_minmax_groupby_uid4', 'D13_to_stdscore_groupby_uid4', 'D14_to_mean_groupby_uid4', 'D14_to_std_groupby_uid4', 'D14_to_minmax_groupby_uid4', 'D14_to_stdscore_groupby_uid4', 'D15_to_mean_groupby_uid4', 'D15_to_std_groupby_uid4', 'D15_to_minmax_groupby_uid4', 'D15_to_stdscore_groupby_uid4', 'D1_to_mean_groupby_uid5', 'D1_to_std_groupby_uid5', 'D1_to_minmax_groupby_uid5', 'D1_to_stdscore_groupby_uid5', 'D2_to_mean_groupby_uid5', 'D2_to_std_groupby_uid5', 'D2_to_minmax_groupby_uid5', 'D2_to_stdscore_groupby_uid5', 'D3_to_mean_groupby_uid5', 'D3_to_std_groupby_uid5', 'D3_to_minmax_groupby_uid5', 'D3_to_stdscore_groupby_uid5', 'D4_to_mean_groupby_uid5', 'D4_to_std_groupby_uid5', 'D4_to_minmax_groupby_uid5', 'D4_to_stdscore_groupby_uid5', 'D5_to_mean_groupby_uid5', 'D5_to_std_groupby_uid5', 'D5_to_minmax_groupby_uid5', 'D5_to_stdscore_groupby_uid5', 'D6_to_mean_groupby_uid5', 'D6_to_std_groupby_uid5', 'D6_to_minmax_groupby_uid5', 'D6_to_stdscore_groupby_uid5', 'D7_to_mean_groupby_uid5', 'D7_to_std_groupby_uid5', 'D7_to_minmax_groupby_uid5', 'D7_to_stdscore_groupby_uid5', 'D8_to_mean_groupby_uid5', 'D8_to_std_groupby_uid5', 'D8_to_minmax_groupby_uid5', 'D8_to_stdscore_groupby_uid5', 'D9_to_mean_groupby_uid5', 'D9_to_std_groupby_uid5', 'D9_to_minmax_groupby_uid5', 'D9_to_stdscore_groupby_uid5', 'D10_to_mean_groupby_uid5', 'D10_to_std_groupby_uid5', 'D10_to_minmax_groupby_uid5', 'D10_to_stdscore_groupby_uid5', 'D11_to_mean_groupby_uid5', 'D11_to_std_groupby_uid5', 'D11_to_minmax_groupby_uid5', 'D11_to_stdscore_groupby_uid5', 'D12_to_mean_groupby_uid5', 'D12_to_std_groupby_uid5', 'D12_to_minmax_groupby_uid5', 'D12_to_stdscore_groupby_uid5', 'D13_to_mean_groupby_uid5', 'D13_to_std_groupby_uid5', 'D13_to_minmax_groupby_uid5', 'D13_to_stdscore_groupby_uid5', 'D14_to_mean_groupby_uid5', 'D14_to_std_groupby_uid5', 'D14_to_minmax_groupby_uid5', 'D14_to_stdscore_groupby_uid5', 'D15_to_mean_groupby_uid5', 'D15_to_std_groupby_uid5', 'D15_to_minmax_groupby_uid5', 'D15_to_stdscore_groupby_uid5', 'D1_to_mean_groupby_new_card_id', 'D1_to_std_groupby_new_card_id', 'D1_to_minmax_groupby_new_card_id', 'D1_to_stdscore_groupby_new_card_id', 'D2_to_mean_groupby_new_card_id', 'D2_to_std_groupby_new_card_id', 'D2_to_minmax_groupby_new_card_id', 'D2_to_stdscore_groupby_new_card_id', 'D3_to_mean_groupby_new_card_id', 'D3_to_std_groupby_new_card_id', 'D3_to_minmax_groupby_new_card_id', 'D3_to_stdscore_groupby_new_card_id', 'D4_to_mean_groupby_new_card_id', 'D4_to_std_groupby_new_card_id', 'D4_to_minmax_groupby_new_card_id', 'D4_to_stdscore_groupby_new_card_id', 'D5_to_mean_groupby_new_card_id', 'D5_to_std_groupby_new_card_id', 'D5_to_minmax_groupby_new_card_id', 'D5_to_stdscore_groupby_new_card_id', 'D6_to_mean_groupby_new_card_id', 'D6_to_std_groupby_new_card_id', 'D6_to_minmax_groupby_new_card_id', 'D6_to_stdscore_groupby_new_card_id', 'D7_to_mean_groupby_new_card_id', 'D7_to_std_groupby_new_card_id', 'D7_to_minmax_groupby_new_card_id', 'D7_to_stdscore_groupby_new_card_id', 'D8_to_mean_groupby_new_card_id', 'D8_to_std_groupby_new_card_id', 'D8_to_minmax_groupby_new_card_id', 'D8_to_stdscore_groupby_new_card_id', 'D9_to_mean_groupby_new_card_id', 'D9_to_std_groupby_new_card_id', 'D9_to_minmax_groupby_new_card_id', 'D9_to_stdscore_groupby_new_card_id', 'D10_to_mean_groupby_new_card_id', 'D10_to_std_groupby_new_card_id', 'D10_to_minmax_groupby_new_card_id', 'D10_to_stdscore_groupby_new_card_id', 'D11_to_mean_groupby_new_card_id', 'D11_to_std_groupby_new_card_id', 'D11_to_minmax_groupby_new_card_id', 'D11_to_stdscore_groupby_new_card_id', 'D12_to_mean_groupby_new_card_id', 'D12_to_std_groupby_new_card_id', 'D12_to_minmax_groupby_new_card_id', 'D12_to_stdscore_groupby_new_card_id', 'D13_to_mean_groupby_new_card_id', 'D13_to_std_groupby_new_card_id', 'D13_to_minmax_groupby_new_card_id', 'D13_to_stdscore_groupby_new_card_id', 'D14_to_mean_groupby_new_card_id', 'D14_to_std_groupby_new_card_id', 'D14_to_minmax_groupby_new_card_id', 'D14_to_stdscore_groupby_new_card_id', 'D15_to_mean_groupby_new_card_id', 'D15_to_std_groupby_new_card_id', 'D15_to_minmax_groupby_new_card_id', 'D15_to_stdscore_groupby_new_card_id', 'D1_to_mean_groupby_bank_type', 'D1_to_std_groupby_bank_type', 'D1_to_minmax_groupby_bank_type', 'D1_to_stdscore_groupby_bank_type', 'D2_to_mean_groupby_bank_type', 'D2_to_std_groupby_bank_type', 'D2_to_minmax_groupby_bank_type', 'D2_to_stdscore_groupby_bank_type', 'D3_to_mean_groupby_bank_type', 'D3_to_std_groupby_bank_type', 'D3_to_minmax_groupby_bank_type', 'D3_to_stdscore_groupby_bank_type', 'D4_to_mean_groupby_bank_type', 'D4_to_std_groupby_bank_type', 'D4_to_minmax_groupby_bank_type', 'D4_to_stdscore_groupby_bank_type', 'D5_to_mean_groupby_bank_type', 'D5_to_std_groupby_bank_type', 'D5_to_minmax_groupby_bank_type', 'D5_to_stdscore_groupby_bank_type', 'D6_to_mean_groupby_bank_type', 'D6_to_std_groupby_bank_type', 'D6_to_minmax_groupby_bank_type', 'D6_to_stdscore_groupby_bank_type', 'D7_to_mean_groupby_bank_type', 'D7_to_std_groupby_bank_type', 'D7_to_minmax_groupby_bank_type', 'D7_to_stdscore_groupby_bank_type', 'D8_to_mean_groupby_bank_type', 'D8_to_std_groupby_bank_type', 'D8_to_minmax_groupby_bank_type', 'D8_to_stdscore_groupby_bank_type', 'D9_to_mean_groupby_bank_type', 'D9_to_std_groupby_bank_type', 'D9_to_minmax_groupby_bank_type', 'D9_to_stdscore_groupby_bank_type', 'D10_to_mean_groupby_bank_type', 'D10_to_std_groupby_bank_type', 'D10_to_minmax_groupby_bank_type', 'D10_to_stdscore_groupby_bank_type', 'D11_to_mean_groupby_bank_type', 'D11_to_std_groupby_bank_type', 'D11_to_minmax_groupby_bank_type', 'D11_to_stdscore_groupby_bank_type', 'D12_to_mean_groupby_bank_type', 'D12_to_std_groupby_bank_type', 'D12_to_minmax_groupby_bank_type', 'D12_to_stdscore_groupby_bank_type', 'D13_to_mean_groupby_bank_type', 'D13_to_std_groupby_bank_type', 'D13_to_minmax_groupby_bank_type', 'D13_to_stdscore_groupby_bank_type', 'D14_to_mean_groupby_bank_type', 'D14_to_std_groupby_bank_type', 'D14_to_minmax_groupby_bank_type', 'D14_to_stdscore_groupby_bank_type', 'D15_to_mean_groupby_bank_type', 'D15_to_std_groupby_bank_type', 'D15_to_minmax_groupby_bank_type', 'D15_to_stdscore_groupby_bank_type', 'TransactionAmt_to_mean_groupby_card1', 'TransactionAmt_to_std_groupby_card1', 'TransactionAmt_to_minmax_groupby_card1', 'TransactionAmt_to_stdscore_groupby_card1', 'TransactionAmt_to_mean_groupby_card2', 'TransactionAmt_to_std_groupby_card2', 'TransactionAmt_to_minmax_groupby_card2', 'TransactionAmt_to_stdscore_groupby_card2', 'TransactionAmt_to_mean_groupby_card3', 'TransactionAmt_to_std_groupby_card3', 'TransactionAmt_to_minmax_groupby_card3', 'TransactionAmt_to_stdscore_groupby_card3', 'TransactionAmt_to_mean_groupby_card5', 'TransactionAmt_to_std_groupby_card5', 'TransactionAmt_to_minmax_groupby_card5', 'TransactionAmt_to_stdscore_groupby_card5', 'TransactionAmt_to_mean_groupby_uid', 'TransactionAmt_to_std_groupby_uid', 'TransactionAmt_to_minmax_groupby_uid', 'TransactionAmt_to_stdscore_groupby_uid', 'TransactionAmt_to_mean_groupby_uid2', 'TransactionAmt_to_std_groupby_uid2', 'TransactionAmt_to_minmax_groupby_uid2', 'TransactionAmt_to_stdscore_groupby_uid2', 'TransactionAmt_to_mean_groupby_uid3', 'TransactionAmt_to_std_groupby_uid3', 'TransactionAmt_to_minmax_groupby_uid3', 'TransactionAmt_to_stdscore_groupby_uid3', 'TransactionAmt_to_mean_groupby_uid4', 'TransactionAmt_to_std_groupby_uid4', 'TransactionAmt_to_minmax_groupby_uid4', 'TransactionAmt_to_stdscore_groupby_uid4', 'TransactionAmt_to_mean_groupby_uid5', 'TransactionAmt_to_std_groupby_uid5', 'TransactionAmt_to_minmax_groupby_uid5', 'TransactionAmt_to_stdscore_groupby_uid5', 'TransactionAmt_to_mean_groupby_new_card_id', 'TransactionAmt_to_std_groupby_new_card_id', 'TransactionAmt_to_minmax_groupby_new_card_id', 'TransactionAmt_to_stdscore_groupby_new_card_id', 'TransactionAmt_to_mean_groupby_bank_type', 'TransactionAmt_to_std_groupby_bank_type', 'TransactionAmt_to_minmax_groupby_bank_type', 'TransactionAmt_to_stdscore_groupby_bank_type', 'TransactionAmt_to_mean_groupby_DT_M', 'TransactionAmt_to_std_groupby_DT_M', 'TransactionAmt_to_minmax_groupby_DT_M', 'TransactionAmt_to_stdscore_groupby_DT_M', 'TransactionAmt_to_mean_groupby_DT_D', 'TransactionAmt_to_std_groupby_DT_D', 'TransactionAmt_to_minmax_groupby_DT_D', 'TransactionAmt_to_stdscore_groupby_DT_D', 'TransactionAmt_to_mean_groupby_DT_W', 'TransactionAmt_to_std_groupby_DT_W', 'TransactionAmt_to_minmax_groupby_DT_W', 'TransactionAmt_to_stdscore_groupby_DT_W', 'TransactionAmt_to_mean_groupby_(card1+DT_W)', 'TransactionAmt_to_std_groupby_(card1+DT_W)', 'TransactionAmt_to_minmax_groupby_(card1+DT_W)', 'TransactionAmt_to_stdscore_groupby_(card1+DT_W)', 'TransactionAmt_to_mean_groupby_(card1+DT_M)', 'TransactionAmt_to_std_groupby_(card1+DT_M)', 'TransactionAmt_to_minmax_groupby_(card1+DT_M)', 'TransactionAmt_to_stdscore_groupby_(card1+DT_M)', 'TransactionAmt_to_mean_groupby_(card1+DT_D)', 'TransactionAmt_to_std_groupby_(card1+DT_D)', 'TransactionAmt_to_minmax_groupby_(card1+DT_D)', 'TransactionAmt_to_stdscore_groupby_(card1+DT_D)', 'TransactionAmt_to_mean_groupby_(uid+DT_M)', 'TransactionAmt_to_std_groupby_(uid+DT_M)', 'TransactionAmt_to_minmax_groupby_(uid+DT_M)', 'TransactionAmt_to_stdscore_groupby_(uid+DT_M)', 'TransactionAmt_to_mean_groupby_(uid+DT_W)', 'TransactionAmt_to_std_groupby_(uid+DT_W)', 'TransactionAmt_to_minmax_groupby_(uid+DT_W)', 'TransactionAmt_to_stdscore_groupby_(uid+DT_W)', 'TransactionAmt_to_mean_groupby_(uid+DT_D)', 'TransactionAmt_to_std_groupby_(uid+DT_D)', 'TransactionAmt_to_minmax_groupby_(uid+DT_D)', 'TransactionAmt_to_stdscore_groupby_(uid+DT_D)', 'ProductCD_global_count', 'addr1_global_count', 'addr2_global_count', 'V_PCA_455805_0', 'V_PCA_455805_1', 'V_PCA_455805_2', 'V_PCA_88662_0', 'V_PCA_88662_1', 'V_PCA_88662_2', 'V_PCA_88662_3', 'V_PCA_88662_4', 'V_PCA_88662_5', 'V_PCA_88662_6', 'V_PCA_88662_7', 'V_PCA_245823_0', 'V_PCA_245823_1', 'V_PCA_245823_2', 'V_PCA_245823_3', 'V_PCA_245823_4', 'V_PCA_245823_5', 'V_PCA_245823_6', 'V_PCA_89995_0', 'V_PCA_89995_1', 'V_PCA_89995_2', 'V_PCA_89995_3', 'V_PCA_89995_4', 'V_PCA_89995_5', 'V_PCA_89995_6', 'V_PCA_89995_7', 'V_PCA_89995_8', 'V_PCA_101245_0', 'V_PCA_101245_1', 'V_PCA_101245_2', 'V_PCA_101245_3', 'V_PCA_101245_4', 'V_PCA_101245_5', 'V_PCA_101245_6', 'V_PCA_101245_7', 'V_PCA_101245_8', 'V_PCA_314_0', 'V_PCA_314_1', 'V_PCA_314_2', 'V_PCA_314_3', 'V_PCA_314_4', 'V_PCA_314_5', 'V_PCA_314_6', 'V_PCA_314_7', 'V_PCA_314_8', 'V_PCA_314_9', 'V_PCA_314_10', 'V_PCA_314_11', 'V_PCA_314_12', 'V_PCA_314_13', 'V_PCA_314_14', 'V_PCA_939501_0', 'V_PCA_939501_1', 'V_PCA_939501_2', 'V_PCA_939501_3', 'V_PCA_939501_4', 'V_PCA_939225_0', 'V_PCA_939225_1', 'V_PCA_939225_2', 'V_PCA_820866_0', 'V_PCA_820866_1', 'V_PCA_820866_2', 'V_PCA_820866_3', 'V_PCA_820866_4', 'V_PCA_820866_5', 'V_PCA_820866_6', 'V_PCA_821037_0', 'V_PCA_821037_1', 'V_PCA_821037_2', 'V_PCA_821037_3', 'V_PCA_821037_4', 'V_PCA_821037_5', 'V_PCA_821037_6', 'V_PCA_821037_7', 'V_PCA_840073_0', 'V_PCA_840073_1', 'V_PCA_840073_2', 'V_PCA_840073_3', 'V_PCA_840073_4', 'V_PCA_840073_5', 'V_PCA_840073_6', 'V_PCA_840073_7', 'V_PCA_818499_0', 'V_PCA_818499_1', 'V_PCA_818499_2', 'V_PCA_818499_3', 'V_PCA_818499_4', 'V_PCA_818499_5', 'V_PCA_15_0', 'V_PCA_15_1', 'V_PCA_15_2', 'V_PCA_15_3', 'V_PCA_15_4', 'V_PCA_15_5', 'V_PCA_15_6', 'V_PCA_15_7', 'V_PCA_15_8', 'V_PCA_15_9', 'V_PCA_15_10', 'V_PCA_7300_0', 'V_PCA_7300_1', 'V_PCA_7300_2', 'V_PCA_7300_3', 'V_PCA_7300_4', 'V_PCA_7300_5', 'V_PCA_7300_6', 'V_PCA_938449_0', 'V_PCA_938449_1', 'V_PCA_938449_2', 'V_PCA_938449_3', 'V_PCA_938449_4', 'id_01', 'id_02', 'id_03', 'id_04', 'id_05', 'id_06', 'id_07', 'id_08', 'id_09', 'id_10', 'id_11', 'D1', 'D2', 'D3', 'D4', 'D5', 'D6', 'D7', 'D8', 'D9', 'D10', 'D11', 'D12', 'D13', 'D14', 'D15', 'C1', 'C2', 'C3', 'C4', 'C5', 'C6', 'C7', 'C8', 'C9', 'C10', 'C11', 'C12', 'C13', 'C14', 'dist1', 'TransactionAmt', 'NanIdentityCount', 'NanTransactionCount', 'Date', 'dist2', 'TransactionDT', 'Weekdays', 'Hours', 'Days', 'DT_M', 'DT_W', 'DT_D', 'TransactionAmt_decimal', 'nulls1', 'TransactionAmt_Log', 'M_sum', 'M_na', 'ProductCD_target_mean', 'M4_target_mean', 'TransactionAmt_by_new_card_id_ws1d_to_mean', 'TransactionAmt_by_new_card_id_ws1d_to_std', 'TransactionAmt_by_new_card_id_ws2d_to_mean', 'TransactionAmt_by_new_card_id_ws2d_to_std', 'TransactionAmt_by_new_card_id_ws3d_to_mean', 'TransactionAmt_by_new_card_id_ws3d_to_std', 'TransactionAmt_by_new_card_id_ws7d_to_mean', 'TransactionAmt_by_new_card_id_ws7d_to_std', 'TransactionAmt_by_new_card_id_ws30d_to_mean', 'TransactionAmt_by_new_card_id_ws30d_to_std', 'TransactionAmt_by_new_card_id_ws5_to_mean', 'TransactionAmt_by_new_card_id_ws5_to_std', 'TransactionAmt_by_new_card_id_ws10_to_mean', 'TransactionAmt_by_new_card_id_ws10_to_std', 'TransactionAmt_by_new_card_id_ws100_to_mean', 'TransactionAmt_by_new_card_id_ws100_to_std', 'C5_by_new_card_id_ws1d_to_mean', 'C5_by_new_card_id_ws1d_to_std', 'C5_by_new_card_id_ws2d_to_mean', 'C5_by_new_card_id_ws2d_to_std', 'C5_by_new_card_id_ws3d_to_mean', 'C5_by_new_card_id_ws3d_to_std', 'C5_by_new_card_id_ws7d_to_mean', 'C5_by_new_card_id_ws7d_to_std', 'C5_by_new_card_id_ws30d_to_mean', 'C5_by_new_card_id_ws30d_to_std', 'C5_by_new_card_id_ws5_to_mean', 'C5_by_new_card_id_ws5_to_std', 'C5_by_new_card_id_ws10_to_mean', 'C5_by_new_card_id_ws10_to_std', 'C5_by_new_card_id_ws100_to_mean', 'C5_by_new_card_id_ws100_to_std', 'C8_by_new_card_id_ws1d_to_mean', 'C8_by_new_card_id_ws1d_to_std', 'C8_by_new_card_id_ws2d_to_mean', 'C8_by_new_card_id_ws2d_to_std', 'C8_by_new_card_id_ws3d_to_mean', 'C8_by_new_card_id_ws3d_to_std', 'C8_by_new_card_id_ws7d_to_mean', 'C8_by_new_card_id_ws7d_to_std', 'C8_by_new_card_id_ws30d_to_mean', 'C8_by_new_card_id_ws30d_to_std', 'C8_by_new_card_id_ws5_to_mean', 'C8_by_new_card_id_ws5_to_std', 'C8_by_new_card_id_ws10_to_mean', 'C8_by_new_card_id_ws10_to_std', 'C8_by_new_card_id_ws100_to_mean', 'C8_by_new_card_id_ws100_to_std', 'TransactionAmt_Log1p', 'D8_D9_decimal_dist', 'D1_scaled', 'D2_scaled', 'card1_amtcount', 'card1_C5count', 'card2_amtcount', 'card2_C5count', 'card5_amtcount', 'card5_C5count', 'addr1_amtcount', 'addr1_C5count', 'addr2_amtcount', 'addr2_C5count', 'Transaction_freq_1d_past', 'Transaction_freq_2d_past', 'Transaction_freq_3d_past', 'Transaction_freq_7d_past', 'Transaction_freq_30d_past', 'Transaction_freq_5_past', 'Transaction_freq_5_center', 'Transaction_freq_10_past', 'Transaction_freq_10_center', 'Transaction_freq_100_past', 'Transaction_freq_100_center']}\n"
     ]
    },
    {
     "name": "stdout",
     "output_type": "stream",
     "text": [
      "start_date 0.012896135082525661\n",
      "Error in BrowserAge\n",
      "id_02_to_mean_groupby_new_card_id 0.0021062621\n",
      "id_02_to_std_groupby_new_card_id 0.003617746\n",
      "id_02_to_minmax_groupby_new_card_id 0.034858033\n",
      "id_02_to_stdscore_groupby_new_card_id 0.006472272\n",
      "D15_to_mean_groupby_new_card_id 0.0\n",
      "D15_to_std_groupby_new_card_id 0.03692629\n",
      "D15_to_minmax_groupby_new_card_id 0.16986549\n",
      "D15_to_stdscore_groupby_new_card_id 0.16434827\n",
      "TransactionAmt_to_mean_groupby_new_card_id 0.0001570051\n",
      "TransactionAmt_to_std_groupby_new_card_id 0.0012497933\n",
      "TransactionAmt_to_minmax_groupby_new_card_id 0.0022171075\n",
      "TransactionAmt_to_stdscore_groupby_new_card_id 0.0003116922\n",
      "card1_global_count 0.01499697644826259\n",
      "card2_global_count 0.004484329447617449\n",
      "card3_global_count 0.038722324734703925\n",
      "card4_global_count 0.010533771471066284\n",
      "card5_global_count 0.005406007257800915\n",
      "card6_global_count 0.016508438606455976\n",
      "uid_global_count 0.01572394988498234\n",
      "uid2_global_count 0.014602824364744343\n",
      "uid3_global_count 0.028125323393695358\n",
      "uid4_global_count 0.033617653621958274\n",
      "uid5_global_count 0.017498103140011278\n",
      "new_card_id_global_count 0.009230462591715092\n",
      "bank_type_global_count 0.001115609962752472\n",
      "D1_global_count 0.026752870094317416\n",
      "D2_global_count 0.013216046466594465\n",
      "D3_global_count 0.043621129468727295\n",
      "D4_global_count 0.03098552537936965\n",
      "D5_global_count 0.08285654904325729\n",
      "D6_global_count 0.169134534108852\n",
      "D7_global_count 0.09918191391639165\n",
      "D8_global_count 0.031211182682597264\n",
      "D9_global_count 0.031149284168660255\n",
      "D10_global_count 0.06001475358923184\n",
      "D11_global_count 0.15206294608246843\n",
      "D12_global_count 0.045776784863110355\n",
      "D13_global_count 0.19707368193520167\n",
      "D14_global_count 0.17615716657101776\n",
      "D15_global_count 0.03739441905841026\n",
      "product_type_global_count 0.010708678560238216\n",
      "C1_global_count 0.0022233905924003965\n",
      "C2_global_count 0.011478302930003289\n",
      "C3_global_count 0.09791588123231858\n",
      "C4_global_count 0.04003064295172097\n",
      "C5_global_count 0.0327830957754608\n",
      "C6_global_count 0.005586556470053671\n",
      "C7_global_count 0.03553220875202432\n",
      "C8_global_count 0.03970637374241715\n",
      "C9_global_count 0.010773524720535645\n",
      "C10_global_count 0.048041293386135636\n",
      "C11_global_count 0.020242426441788888\n",
      "C12_global_count 0.13334332174163702\n",
      "C13_global_count 0.007245879033010029\n",
      "C14_global_count 0.010746191440910368\n",
      "DeviceInfo_global_count 0.03487485418755277\n",
      "id_01_global_count 0.04324584224300057\n",
      "id_36_global_count 0.03572837643641284\n",
      "device_name_global_count 0.034664151322074094\n",
      "device_version_global_count 0.08212743\n",
      "Browser_global_count 0.03756809937102942\n",
      "BrowserVersion_global_count 0.05989774825374301\n",
      "id_30_global_count 0.01256747469581442\n",
      "id_31_global_count 0.040332097816191625\n",
      "id_33_global_count 0.024600516994329642\n",
      "OS_global_count 0.01279656722214373\n",
      "OSVersion_global_count 0.01256747469581442\n",
      "addr1_global_count 0.0165303505421401\n",
      "addr2_global_count 0.03410469946531686\n",
      "dist1_global_count 0.023170763623519344\n",
      "dist2_global_count 0.017674948466249032\n",
      "P_emaildomain_global_count 0.016138366614865965\n",
      "R_emaildomain_global_count 0.04296084799604031\n",
      "ProductCD_global_count 0.03809699391892519\n",
      "DeviceType_global_count 0.04052462616147814\n",
      "id_12_global_count 0.04360753536535275\n",
      "id_13_global_count 0.043849664358787\n",
      "id_14_global_count 0.008203661560022507\n",
      "id_15_global_count 0.038911408155783665\n",
      "id_16_global_count 0.03707356982991735\n",
      "id_17_global_count 0.040854011639540014\n",
      "id_18_global_count 0.046131529782362214\n",
      "id_19_global_count 0.04007160071642955\n",
      "id_20_global_count 0.040375716477985754\n",
      "id_21_global_count 0.007014597995756076\n",
      "id_22_global_count 0.006919058141007317\n",
      "id_23_global_count 0.00691209268591834\n",
      "id_24_global_count 0.007657371064535818\n",
      "id_25_global_count 0.0070315631872807345\n",
      "id_26_global_count 0.006826700921110367\n",
      "id_27_global_count 0.006927649628745571\n",
      "id_28_global_count 0.038488150546586275\n",
      "id_29_global_count 0.03851780665538979\n",
      "id_32_global_count 0.012180339123338112\n",
      "id_34_global_count 0.009900761224943253\n",
      "id_37_global_count 0.04026974486139555\n",
      "id_38_global_count 0.03429567055497591\n",
      "bank_type_freq_groupby_DT_M 0.0013903689\n",
      "product_type_freq_groupby_DT_M 0.008925818\n",
      "card1_freq_groupby_DT_M 0.03756995\n",
      "card2_freq_groupby_DT_M 0.009660984\n",
      "card3_freq_groupby_DT_M 0.072535954\n",
      "card5_freq_groupby_DT_M 0.011086569\n",
      "uid_freq_groupby_DT_M 0.03728018\n",
      "uid2_freq_groupby_DT_M 0.035201542\n",
      "uid3_freq_groupby_DT_M 0.061546534\n",
      "bank_type_freq_groupby_DT_W 0.000679976\n",
      "product_type_freq_groupby_DT_W 0.008488467\n",
      "card1_freq_groupby_DT_W 0.02987762\n",
      "card2_freq_groupby_DT_W 0.011266182\n",
      "card3_freq_groupby_DT_W 0.07008791\n",
      "card5_freq_groupby_DT_W 0.011525377\n",
      "uid_freq_groupby_DT_W 0.028391294\n",
      "uid2_freq_groupby_DT_W 0.026745455\n",
      "uid3_freq_groupby_DT_W 0.048880473\n",
      "bank_type_freq_groupby_DT_D 0.0020852352\n",
      "product_type_freq_groupby_DT_D 0.007986028\n",
      "card1_freq_groupby_DT_D 0.020297682\n",
      "card2_freq_groupby_DT_D 0.024653723\n",
      "card3_freq_groupby_DT_D 0.06709234\n",
      "card5_freq_groupby_DT_D 0.014440593\n",
      "uid_freq_groupby_DT_D 0.019147888\n",
      "uid2_freq_groupby_DT_D 0.018071933\n",
      "uid3_freq_groupby_DT_D 0.018885959\n"
     ]
    },
    {
     "name": "stderr",
     "output_type": "stream",
     "text": [
      "c:\\python37\\lib\\site-packages\\numpy\\lib\\nanfunctions.py:1545: RuntimeWarning: overflow encountered in multiply\n",
      "  sqr = np.multiply(arr, arr, out=arr)\n"
     ]
    },
    {
     "name": "stdout",
     "output_type": "stream",
     "text": [
      "D1_to_mean_groupby_uid 0.0\n",
      "D1_to_std_groupby_uid 0.033968933\n",
      "D1_to_minmax_groupby_uid 0.048604228\n",
      "D1_to_stdscore_groupby_uid 0.058240663\n",
      "D2_to_mean_groupby_uid 0.0\n",
      "D2_to_std_groupby_uid 0.015462231\n",
      "D2_to_minmax_groupby_uid 0.04987274\n",
      "D2_to_stdscore_groupby_uid 0.05956393\n"
     ]
    },
    {
     "name": "stderr",
     "output_type": "stream",
     "text": [
      "c:\\python37\\lib\\site-packages\\numpy\\lib\\nanfunctions.py:1545: RuntimeWarning: overflow encountered in multiply\n",
      "  sqr = np.multiply(arr, arr, out=arr)\n"
     ]
    },
    {
     "name": "stdout",
     "output_type": "stream",
     "text": [
      "D3_to_mean_groupby_uid 0.0\n",
      "D3_to_std_groupby_uid 0.020346522\n",
      "D3_to_minmax_groupby_uid 0.032807004\n",
      "D3_to_stdscore_groupby_uid 0.023205131\n",
      "D4_to_mean_groupby_uid 0.0\n",
      "D4_to_std_groupby_uid 0.06937358\n",
      "D4_to_minmax_groupby_uid 0.12605685\n",
      "D4_to_stdscore_groupby_uid 0.0789907\n",
      "D5_to_mean_groupby_uid 0.0\n",
      "D5_to_std_groupby_uid 0.024642674\n",
      "D5_to_minmax_groupby_uid 0.04831866\n",
      "D5_to_stdscore_groupby_uid 0.025275486\n",
      "D6_to_mean_groupby_uid 0.0\n",
      "D6_to_std_groupby_uid 0.024641821\n",
      "D6_to_minmax_groupby_uid 0.07353331\n",
      "D6_to_stdscore_groupby_uid 0.025952976\n",
      "D7_to_mean_groupby_uid 0.0\n"
     ]
    },
    {
     "name": "stderr",
     "output_type": "stream",
     "text": [
      "c:\\python37\\lib\\site-packages\\numpy\\lib\\nanfunctions.py:1545: RuntimeWarning: overflow encountered in multiply\n",
      "  sqr = np.multiply(arr, arr, out=arr)\n"
     ]
    },
    {
     "name": "stdout",
     "output_type": "stream",
     "text": [
      "D7_to_std_groupby_uid 0.01064214\n",
      "D7_to_minmax_groupby_uid 0.05196332\n",
      "D7_to_stdscore_groupby_uid 0.006976624\n",
      "Error in D8_to_mean_groupby_uid\n",
      "D8_to_std_groupby_uid 0.017417874\n",
      "D8_to_minmax_groupby_uid 0.02209745\n",
      "D8_to_stdscore_groupby_uid 0.018895438\n",
      "D9_to_mean_groupby_uid 0.0\n",
      "D9_to_std_groupby_uid 0.016170012\n",
      "D9_to_minmax_groupby_uid 0.023110032\n",
      "D9_to_stdscore_groupby_uid 0.0017697588\n"
     ]
    },
    {
     "name": "stderr",
     "output_type": "stream",
     "text": [
      "c:\\python37\\lib\\site-packages\\numpy\\lib\\nanfunctions.py:1545: RuntimeWarning: overflow encountered in multiply\n",
      "  sqr = np.multiply(arr, arr, out=arr)\n"
     ]
    },
    {
     "name": "stdout",
     "output_type": "stream",
     "text": [
      "D10_to_mean_groupby_uid 0.0\n",
      "D10_to_std_groupby_uid 0.088864975\n",
      "D10_to_minmax_groupby_uid 0.12398401\n",
      "D10_to_stdscore_groupby_uid 0.097654566\n",
      "D11_to_mean_groupby_uid 0.0\n",
      "D11_to_std_groupby_uid 0.04767559\n",
      "D11_to_minmax_groupby_uid 0.18041542\n",
      "D11_to_stdscore_groupby_uid 0.12198817\n",
      "D12_to_mean_groupby_uid 0.0\n",
      "D12_to_std_groupby_uid 0.040584236\n",
      "D12_to_minmax_groupby_uid 0.04158939\n",
      "D12_to_stdscore_groupby_uid 0.028666973\n",
      "D13_to_mean_groupby_uid 0.0\n",
      "D13_to_std_groupby_uid 0.045072976\n",
      "D13_to_minmax_groupby_uid 0.05126418\n",
      "D13_to_stdscore_groupby_uid 0.006564634\n",
      "D14_to_mean_groupby_uid 0.0\n",
      "D14_to_std_groupby_uid 0.02288314\n",
      "D14_to_minmax_groupby_uid 0.054818805\n",
      "D14_to_stdscore_groupby_uid 0.012529092\n",
      "D15_to_mean_groupby_uid 0.0\n",
      "D15_to_std_groupby_uid 0.06068269\n",
      "D15_to_minmax_groupby_uid 0.14512733\n",
      "D15_to_stdscore_groupby_uid 0.09219011\n"
     ]
    },
    {
     "name": "stderr",
     "output_type": "stream",
     "text": [
      "c:\\python37\\lib\\site-packages\\numpy\\lib\\nanfunctions.py:1545: RuntimeWarning: overflow encountered in multiply\n",
      "  sqr = np.multiply(arr, arr, out=arr)\n"
     ]
    },
    {
     "name": "stdout",
     "output_type": "stream",
     "text": [
      "D1_to_mean_groupby_uid2 0.0\n",
      "D1_to_std_groupby_uid2 0.03436617\n",
      "D1_to_minmax_groupby_uid2 0.048973095\n",
      "D1_to_stdscore_groupby_uid2 0.059014086\n",
      "D2_to_mean_groupby_uid2 0.0\n",
      "D2_to_std_groupby_uid2 0.015675178\n",
      "D2_to_minmax_groupby_uid2 0.050277557\n",
      "D2_to_stdscore_groupby_uid2 0.060241662\n"
     ]
    },
    {
     "name": "stderr",
     "output_type": "stream",
     "text": [
      "c:\\python37\\lib\\site-packages\\numpy\\lib\\nanfunctions.py:1545: RuntimeWarning: overflow encountered in multiply\n",
      "  sqr = np.multiply(arr, arr, out=arr)\n"
     ]
    },
    {
     "name": "stdout",
     "output_type": "stream",
     "text": [
      "D3_to_mean_groupby_uid2 0.0\n",
      "D3_to_std_groupby_uid2 0.02050374\n",
      "D3_to_minmax_groupby_uid2 0.033359602\n",
      "D3_to_stdscore_groupby_uid2 0.023375107\n",
      "D4_to_mean_groupby_uid2 0.0\n",
      "D4_to_std_groupby_uid2 0.049558762\n",
      "D4_to_minmax_groupby_uid2 0.12586638\n",
      "D4_to_stdscore_groupby_uid2 0.079517104\n",
      "D5_to_mean_groupby_uid2 0.0\n",
      "D5_to_std_groupby_uid2 0.02466968\n",
      "D5_to_minmax_groupby_uid2 0.04851309\n",
      "D5_to_stdscore_groupby_uid2 0.025361342\n",
      "D6_to_mean_groupby_uid2 0.0\n",
      "D6_to_std_groupby_uid2 0.02472315\n",
      "D6_to_minmax_groupby_uid2 0.073531516\n",
      "D6_to_stdscore_groupby_uid2 0.025449721\n"
     ]
    },
    {
     "name": "stderr",
     "output_type": "stream",
     "text": [
      "c:\\python37\\lib\\site-packages\\numpy\\lib\\nanfunctions.py:1545: RuntimeWarning: overflow encountered in multiply\n",
      "  sqr = np.multiply(arr, arr, out=arr)\n"
     ]
    },
    {
     "name": "stdout",
     "output_type": "stream",
     "text": [
      "D7_to_mean_groupby_uid2 0.0\n",
      "D7_to_std_groupby_uid2 0.010618668\n",
      "D7_to_minmax_groupby_uid2 0.05214797\n",
      "D7_to_stdscore_groupby_uid2 0.0066508106\n",
      "Error in D8_to_mean_groupby_uid2\n",
      "D8_to_std_groupby_uid2 0.015612067\n",
      "D8_to_minmax_groupby_uid2 0.022537343\n",
      "D8_to_stdscore_groupby_uid2 0.018467544\n",
      "D9_to_mean_groupby_uid2 0.0\n",
      "D9_to_std_groupby_uid2 0.016195461\n",
      "D9_to_minmax_groupby_uid2 0.023060255\n",
      "D9_to_stdscore_groupby_uid2 0.0019186157\n"
     ]
    },
    {
     "name": "stderr",
     "output_type": "stream",
     "text": [
      "c:\\python37\\lib\\site-packages\\numpy\\lib\\nanfunctions.py:1545: RuntimeWarning: overflow encountered in multiply\n",
      "  sqr = np.multiply(arr, arr, out=arr)\n"
     ]
    },
    {
     "name": "stdout",
     "output_type": "stream",
     "text": [
      "D10_to_mean_groupby_uid2 0.0\n",
      "D10_to_std_groupby_uid2 0.07798868\n",
      "D10_to_minmax_groupby_uid2 0.123314165\n",
      "D10_to_stdscore_groupby_uid2 0.09830445\n",
      "D11_to_mean_groupby_uid2 0.0\n",
      "D11_to_std_groupby_uid2 0.04765381\n",
      "D11_to_minmax_groupby_uid2 0.1801723\n",
      "D11_to_stdscore_groupby_uid2 0.12182371\n",
      "D12_to_mean_groupby_uid2 0.0\n",
      "D12_to_std_groupby_uid2 0.040739257\n",
      "D12_to_minmax_groupby_uid2 0.041890565\n",
      "D12_to_stdscore_groupby_uid2 0.028195683\n",
      "D13_to_mean_groupby_uid2 0.0\n",
      "D13_to_std_groupby_uid2 0.045476697\n",
      "D13_to_minmax_groupby_uid2 0.052133184\n",
      "D13_to_stdscore_groupby_uid2 0.0062857075\n",
      "D14_to_mean_groupby_uid2 0.0\n",
      "D14_to_std_groupby_uid2 0.022777742\n",
      "D14_to_minmax_groupby_uid2 0.054611538\n",
      "D14_to_stdscore_groupby_uid2 0.012401654\n",
      "D15_to_mean_groupby_uid2 0.0\n",
      "D15_to_std_groupby_uid2 0.047319103\n",
      "D15_to_minmax_groupby_uid2 0.14459322\n",
      "D15_to_stdscore_groupby_uid2 0.09270676\n",
      "D1_to_mean_groupby_uid3 0.0\n",
      "D1_to_std_groupby_uid3 0.008459665\n",
      "D1_to_minmax_groupby_uid3 0.055226672\n",
      "D1_to_stdscore_groupby_uid3 0.06972508\n",
      "D2_to_mean_groupby_uid3 0.0\n",
      "D2_to_std_groupby_uid3 0.006418756\n",
      "D2_to_minmax_groupby_uid3 0.057936553\n",
      "D2_to_stdscore_groupby_uid3 0.07568951\n"
     ]
    },
    {
     "name": "stderr",
     "output_type": "stream",
     "text": [
      "c:\\python37\\lib\\site-packages\\numpy\\lib\\nanfunctions.py:1545: RuntimeWarning: overflow encountered in multiply\n",
      "  sqr = np.multiply(arr, arr, out=arr)\n"
     ]
    },
    {
     "name": "stdout",
     "output_type": "stream",
     "text": [
      "D3_to_mean_groupby_uid3 0.0\n",
      "D3_to_std_groupby_uid3 0.0102263745\n",
      "D3_to_minmax_groupby_uid3 0.027136972\n",
      "D3_to_stdscore_groupby_uid3 0.021063844\n",
      "D4_to_mean_groupby_uid3 0.0\n",
      "D4_to_std_groupby_uid3 0.016790539\n",
      "D4_to_minmax_groupby_uid3 0.124044985\n",
      "D4_to_stdscore_groupby_uid3 0.08049935\n",
      "D5_to_mean_groupby_uid3 0.0\n",
      "D5_to_std_groupby_uid3 0.015956076\n",
      "D5_to_minmax_groupby_uid3 0.043118812\n",
      "D5_to_stdscore_groupby_uid3 0.022072775\n",
      "D6_to_mean_groupby_uid3 0.0\n",
      "D6_to_std_groupby_uid3 0.0105516855\n",
      "D6_to_minmax_groupby_uid3 0.07737732\n",
      "D6_to_stdscore_groupby_uid3 0.032395966\n"
     ]
    },
    {
     "name": "stderr",
     "output_type": "stream",
     "text": [
      "c:\\python37\\lib\\site-packages\\numpy\\lib\\nanfunctions.py:1545: RuntimeWarning: overflow encountered in multiply\n",
      "  sqr = np.multiply(arr, arr, out=arr)\n"
     ]
    },
    {
     "name": "stdout",
     "output_type": "stream",
     "text": [
      "D7_to_mean_groupby_uid3 0.0\n",
      "D7_to_std_groupby_uid3 0.0066992524\n",
      "D7_to_minmax_groupby_uid3 0.04990631\n",
      "D7_to_stdscore_groupby_uid3 0.0047474285\n",
      "Error in D8_to_mean_groupby_uid3\n",
      "D8_to_std_groupby_uid3 0.004802348\n",
      "D8_to_minmax_groupby_uid3 0.02017655\n",
      "D8_to_stdscore_groupby_uid3 0.016994271\n",
      "D9_to_mean_groupby_uid3 0.0\n",
      "D9_to_std_groupby_uid3 0.0122957155\n",
      "D9_to_minmax_groupby_uid3 0.022363815\n",
      "D9_to_stdscore_groupby_uid3 0.0028908476\n",
      "D10_to_mean_groupby_uid3 0.0\n"
     ]
    },
    {
     "name": "stderr",
     "output_type": "stream",
     "text": [
      "c:\\python37\\lib\\site-packages\\numpy\\lib\\nanfunctions.py:1545: RuntimeWarning: overflow encountered in multiply\n",
      "  sqr = np.multiply(arr, arr, out=arr)\n"
     ]
    },
    {
     "name": "stdout",
     "output_type": "stream",
     "text": [
      "D10_to_std_groupby_uid3 0.018099273\n",
      "D10_to_minmax_groupby_uid3 0.1222423\n",
      "D10_to_stdscore_groupby_uid3 0.09588593\n",
      "D11_to_mean_groupby_uid3 0.0\n",
      "D11_to_std_groupby_uid3 0.031250123\n",
      "D11_to_minmax_groupby_uid3 0.17962767\n",
      "D11_to_stdscore_groupby_uid3 0.12232005\n",
      "D12_to_mean_groupby_uid3 0.0\n",
      "D12_to_std_groupby_uid3 0.029802123\n",
      "D12_to_minmax_groupby_uid3 0.040359627\n",
      "D12_to_stdscore_groupby_uid3 0.0285559\n",
      "D13_to_mean_groupby_uid3 0.0\n",
      "D13_to_std_groupby_uid3 0.022581562\n",
      "D13_to_minmax_groupby_uid3 0.059407745\n",
      "D13_to_stdscore_groupby_uid3 0.01015477\n",
      "D14_to_mean_groupby_uid3 0.0\n",
      "D14_to_std_groupby_uid3 0.007489202\n",
      "D14_to_minmax_groupby_uid3 0.059289906\n",
      "D14_to_stdscore_groupby_uid3 0.01808072\n",
      "D15_to_mean_groupby_uid3 0.0\n",
      "D15_to_std_groupby_uid3 0.013641373\n",
      "D15_to_minmax_groupby_uid3 0.14441235\n",
      "D15_to_stdscore_groupby_uid3 0.09615664\n",
      "D1_to_mean_groupby_uid4 0.0\n",
      "D1_to_std_groupby_uid4 0.0024880364\n",
      "D1_to_minmax_groupby_uid4 0.06681671\n",
      "D1_to_stdscore_groupby_uid4 0.08434756\n",
      "D2_to_mean_groupby_uid4 0.0\n",
      "D2_to_std_groupby_uid4 0.00027882846\n",
      "D2_to_minmax_groupby_uid4 0.07394834\n",
      "D2_to_stdscore_groupby_uid4 0.09510878\n"
     ]
    },
    {
     "name": "stderr",
     "output_type": "stream",
     "text": [
      "c:\\python37\\lib\\site-packages\\numpy\\lib\\nanfunctions.py:1545: RuntimeWarning: overflow encountered in multiply\n",
      "  sqr = np.multiply(arr, arr, out=arr)\n"
     ]
    },
    {
     "name": "stdout",
     "output_type": "stream",
     "text": [
      "D3_to_mean_groupby_uid4 0.0\n",
      "D3_to_std_groupby_uid4 0.006056881\n",
      "D3_to_minmax_groupby_uid4 0.02405032\n",
      "D3_to_stdscore_groupby_uid4 0.019219944\n",
      "D4_to_mean_groupby_uid4 0.0\n",
      "D4_to_std_groupby_uid4 0.008502271\n",
      "D4_to_minmax_groupby_uid4 0.13581532\n",
      "D4_to_stdscore_groupby_uid4 0.1024688\n",
      "D5_to_mean_groupby_uid4 0.0\n",
      "D5_to_std_groupby_uid4 0.009785755\n",
      "D5_to_minmax_groupby_uid4 0.040352643\n",
      "D5_to_stdscore_groupby_uid4 0.019368125\n",
      "D6_to_mean_groupby_uid4 0.0\n",
      "D6_to_std_groupby_uid4 0.013210765\n",
      "D6_to_minmax_groupby_uid4 0.0792139\n",
      "D6_to_stdscore_groupby_uid4 0.039434113\n"
     ]
    },
    {
     "name": "stderr",
     "output_type": "stream",
     "text": [
      "c:\\python37\\lib\\site-packages\\numpy\\lib\\nanfunctions.py:1545: RuntimeWarning: overflow encountered in multiply\n",
      "  sqr = np.multiply(arr, arr, out=arr)\n"
     ]
    },
    {
     "name": "stdout",
     "output_type": "stream",
     "text": [
      "D7_to_mean_groupby_uid4 0.0\n",
      "D7_to_std_groupby_uid4 0.0057763974\n",
      "D7_to_minmax_groupby_uid4 0.044585902\n",
      "D7_to_stdscore_groupby_uid4 0.0055517782\n",
      "Error in D8_to_mean_groupby_uid4\n",
      "D8_to_std_groupby_uid4 0.0032359401\n",
      "D8_to_minmax_groupby_uid4 0.019540468\n",
      "D8_to_stdscore_groupby_uid4 0.015500241\n",
      "D9_to_mean_groupby_uid4 0.0\n",
      "D9_to_std_groupby_uid4 0.010527698\n",
      "D9_to_minmax_groupby_uid4 0.021756597\n",
      "D9_to_stdscore_groupby_uid4 0.002804537\n"
     ]
    },
    {
     "name": "stderr",
     "output_type": "stream",
     "text": [
      "c:\\python37\\lib\\site-packages\\numpy\\lib\\nanfunctions.py:1545: RuntimeWarning: overflow encountered in multiply\n",
      "  sqr = np.multiply(arr, arr, out=arr)\n"
     ]
    },
    {
     "name": "stdout",
     "output_type": "stream",
     "text": [
      "D10_to_mean_groupby_uid4 0.0\n",
      "D10_to_std_groupby_uid4 0.010708533\n",
      "D10_to_minmax_groupby_uid4 0.124319054\n",
      "D10_to_stdscore_groupby_uid4 0.10851231\n",
      "D11_to_mean_groupby_uid4 0.0\n",
      "D11_to_std_groupby_uid4 0.025618078\n",
      "D11_to_minmax_groupby_uid4 0.18496902\n",
      "D11_to_stdscore_groupby_uid4 0.12984586\n",
      "D12_to_mean_groupby_uid4 0.073\n",
      "D12_to_std_groupby_uid4 0.011079225\n",
      "D12_to_minmax_groupby_uid4 0.042871382\n",
      "D12_to_stdscore_groupby_uid4 0.030160278\n",
      "D13_to_mean_groupby_uid4 0.0\n",
      "D13_to_std_groupby_uid4 0.0141289085\n",
      "D13_to_minmax_groupby_uid4 0.059241716\n",
      "D13_to_stdscore_groupby_uid4 0.015785152\n",
      "D14_to_mean_groupby_uid4 0.0\n",
      "D14_to_std_groupby_uid4 0.007895462\n",
      "D14_to_minmax_groupby_uid4 0.05915536\n",
      "D14_to_stdscore_groupby_uid4 0.022418551\n",
      "D15_to_mean_groupby_uid4 0.0\n",
      "D15_to_std_groupby_uid4 0.011025328\n",
      "D15_to_minmax_groupby_uid4 0.15167552\n",
      "D15_to_stdscore_groupby_uid4 0.11808503\n",
      "D1_to_mean_groupby_uid5 0.0\n",
      "D1_to_std_groupby_uid5 0.0053943866\n",
      "D1_to_minmax_groupby_uid5 0.057462372\n",
      "D1_to_stdscore_groupby_uid5 0.0744603\n",
      "D2_to_mean_groupby_uid5 0.0\n",
      "D2_to_std_groupby_uid5 0.0045100753\n",
      "D2_to_minmax_groupby_uid5 0.059384424\n",
      "D2_to_stdscore_groupby_uid5 0.07772078\n"
     ]
    },
    {
     "name": "stderr",
     "output_type": "stream",
     "text": [
      "c:\\python37\\lib\\site-packages\\numpy\\lib\\nanfunctions.py:1545: RuntimeWarning: overflow encountered in multiply\n",
      "  sqr = np.multiply(arr, arr, out=arr)\n"
     ]
    },
    {
     "name": "stdout",
     "output_type": "stream",
     "text": [
      "D3_to_mean_groupby_uid5 0.0\n",
      "D3_to_std_groupby_uid5 0.0083154915\n",
      "D3_to_minmax_groupby_uid5 0.026557427\n",
      "D3_to_stdscore_groupby_uid5 0.017491866\n",
      "D4_to_mean_groupby_uid5 0.0\n",
      "D4_to_std_groupby_uid5 0.015562355\n",
      "D4_to_minmax_groupby_uid5 0.12564002\n",
      "D4_to_stdscore_groupby_uid5 0.096199654\n",
      "D5_to_mean_groupby_uid5 0.0\n",
      "D5_to_std_groupby_uid5 0.010136433\n",
      "D5_to_minmax_groupby_uid5 0.040296733\n",
      "D5_to_stdscore_groupby_uid5 0.016637523\n",
      "D6_to_mean_groupby_uid5 0.0\n",
      "D6_to_std_groupby_uid5 0.012894637\n",
      "D6_to_minmax_groupby_uid5 0.07977127\n",
      "D6_to_stdscore_groupby_uid5 0.039621565\n"
     ]
    },
    {
     "name": "stderr",
     "output_type": "stream",
     "text": [
      "c:\\python37\\lib\\site-packages\\numpy\\lib\\nanfunctions.py:1545: RuntimeWarning: overflow encountered in multiply\n",
      "  sqr = np.multiply(arr, arr, out=arr)\n"
     ]
    },
    {
     "name": "stdout",
     "output_type": "stream",
     "text": [
      "D7_to_mean_groupby_uid5 0.0\n",
      "D7_to_std_groupby_uid5 0.005431176\n",
      "D7_to_minmax_groupby_uid5 0.04536927\n",
      "D7_to_stdscore_groupby_uid5 0.0057976805\n",
      "Error in D8_to_mean_groupby_uid5\n",
      "D8_to_std_groupby_uid5 0.0044737565\n",
      "D8_to_minmax_groupby_uid5 0.01881111\n",
      "D8_to_stdscore_groupby_uid5 0.010605476\n",
      "D9_to_mean_groupby_uid5 0.0\n",
      "D9_to_std_groupby_uid5 0.009555552\n",
      "D9_to_minmax_groupby_uid5 0.022119287\n",
      "D9_to_stdscore_groupby_uid5 0.0026272049\n"
     ]
    },
    {
     "name": "stderr",
     "output_type": "stream",
     "text": [
      "c:\\python37\\lib\\site-packages\\numpy\\lib\\nanfunctions.py:1545: RuntimeWarning: overflow encountered in multiply\n",
      "  sqr = np.multiply(arr, arr, out=arr)\n"
     ]
    },
    {
     "name": "stdout",
     "output_type": "stream",
     "text": [
      "D10_to_mean_groupby_uid5 0.0\n",
      "D10_to_std_groupby_uid5 0.01371808\n",
      "D10_to_minmax_groupby_uid5 0.123597376\n",
      "D10_to_stdscore_groupby_uid5 0.11349431\n",
      "D11_to_mean_groupby_uid5 0.0\n",
      "D11_to_std_groupby_uid5 0.031250123\n",
      "D11_to_minmax_groupby_uid5 0.17962767\n",
      "D11_to_stdscore_groupby_uid5 0.12232005\n",
      "D12_to_mean_groupby_uid5 0.073\n",
      "D12_to_std_groupby_uid5 0.011079225\n",
      "D12_to_minmax_groupby_uid5 0.042871382\n",
      "D12_to_stdscore_groupby_uid5 0.030160278\n",
      "D13_to_mean_groupby_uid5 0.0\n",
      "D13_to_std_groupby_uid5 0.014419764\n",
      "D13_to_minmax_groupby_uid5 0.058732975\n",
      "D13_to_stdscore_groupby_uid5 0.015114024\n",
      "D14_to_mean_groupby_uid5 0.0\n",
      "D14_to_std_groupby_uid5 0.0075167106\n",
      "D14_to_minmax_groupby_uid5 0.057624143\n",
      "D14_to_stdscore_groupby_uid5 0.022070672\n",
      "D15_to_mean_groupby_uid5 0.0\n",
      "D15_to_std_groupby_uid5 0.013077042\n",
      "D15_to_minmax_groupby_uid5 0.14780574\n",
      "D15_to_stdscore_groupby_uid5 0.11371597\n",
      "D1_to_mean_groupby_new_card_id nan\n",
      "D1_to_std_groupby_new_card_id 0.016702158\n",
      "D1_to_minmax_groupby_new_card_id 0.1982926\n",
      "D1_to_stdscore_groupby_new_card_id 0.2607555\n",
      "D2_to_mean_groupby_new_card_id nan\n",
      "D2_to_std_groupby_new_card_id 0.016417906\n",
      "D2_to_minmax_groupby_new_card_id 0.18797728\n",
      "D2_to_stdscore_groupby_new_card_id 0.2524033\n"
     ]
    },
    {
     "name": "stderr",
     "output_type": "stream",
     "text": [
      "c:\\python37\\lib\\site-packages\\numpy\\lib\\nanfunctions.py:1545: RuntimeWarning: overflow encountered in multiply\n",
      "  sqr = np.multiply(arr, arr, out=arr)\n"
     ]
    },
    {
     "name": "stdout",
     "output_type": "stream",
     "text": [
      "D3_to_mean_groupby_new_card_id 0.0\n",
      "D3_to_std_groupby_new_card_id 0.016292756\n",
      "D3_to_minmax_groupby_new_card_id 0.049064312\n",
      "D3_to_stdscore_groupby_new_card_id 0.04760707\n",
      "D4_to_mean_groupby_new_card_id 0.0\n",
      "D4_to_std_groupby_new_card_id 0.030447815\n",
      "D4_to_minmax_groupby_new_card_id 0.1317365\n",
      "D4_to_stdscore_groupby_new_card_id 0.12042464\n",
      "D5_to_mean_groupby_new_card_id 0.0\n",
      "D5_to_std_groupby_new_card_id 0.020970834\n",
      "D5_to_minmax_groupby_new_card_id 0.05730479\n",
      "D5_to_stdscore_groupby_new_card_id 0.035599526\n",
      "D6_to_mean_groupby_new_card_id 0.0\n",
      "D6_to_std_groupby_new_card_id 0.0136418715\n",
      "D6_to_minmax_groupby_new_card_id 0.08372381\n",
      "D6_to_stdscore_groupby_new_card_id 0.033603627\n"
     ]
    },
    {
     "name": "stderr",
     "output_type": "stream",
     "text": [
      "c:\\python37\\lib\\site-packages\\numpy\\lib\\nanfunctions.py:1545: RuntimeWarning: overflow encountered in multiply\n",
      "  sqr = np.multiply(arr, arr, out=arr)\n"
     ]
    },
    {
     "name": "stdout",
     "output_type": "stream",
     "text": [
      "D7_to_mean_groupby_new_card_id 0.0\n",
      "D7_to_std_groupby_new_card_id 0.011561564\n",
      "D7_to_minmax_groupby_new_card_id 0.056551743\n",
      "D7_to_stdscore_groupby_new_card_id 0.012804196\n",
      "Error in D8_to_mean_groupby_new_card_id\n",
      "D8_to_std_groupby_new_card_id 0.00854637\n",
      "D8_to_minmax_groupby_new_card_id 0.03313754\n",
      "D8_to_stdscore_groupby_new_card_id 0.01734968\n",
      "D9_to_mean_groupby_new_card_id 0.0\n",
      "D9_to_std_groupby_new_card_id 0.014709263\n",
      "D9_to_minmax_groupby_new_card_id 0.019799238\n",
      "D9_to_stdscore_groupby_new_card_id 0.001328419\n"
     ]
    },
    {
     "name": "stderr",
     "output_type": "stream",
     "text": [
      "c:\\python37\\lib\\site-packages\\numpy\\lib\\nanfunctions.py:1545: RuntimeWarning: overflow encountered in multiply\n",
      "  sqr = np.multiply(arr, arr, out=arr)\n"
     ]
    },
    {
     "name": "stdout",
     "output_type": "stream",
     "text": [
      "D10_to_mean_groupby_new_card_id 0.0\n",
      "D10_to_std_groupby_new_card_id 0.0334842\n",
      "D10_to_minmax_groupby_new_card_id 0.12583983\n",
      "D10_to_stdscore_groupby_new_card_id 0.1396604\n",
      "D11_to_mean_groupby_new_card_id 0.0\n",
      "D11_to_std_groupby_new_card_id 0.051829483\n",
      "D11_to_minmax_groupby_new_card_id 0.18377699\n",
      "D11_to_stdscore_groupby_new_card_id 0.15169944\n",
      "D12_to_mean_groupby_new_card_id 0.05704\n",
      "D12_to_std_groupby_new_card_id 0.0108399\n",
      "D12_to_minmax_groupby_new_card_id 0.05143842\n",
      "D12_to_stdscore_groupby_new_card_id 0.030589288\n"
     ]
    },
    {
     "name": "stderr",
     "output_type": "stream",
     "text": [
      "c:\\python37\\lib\\site-packages\\numpy\\lib\\nanfunctions.py:1545: RuntimeWarning: overflow encountered in multiply\n",
      "  sqr = np.multiply(arr, arr, out=arr)\n"
     ]
    },
    {
     "name": "stdout",
     "output_type": "stream",
     "text": [
      "D13_to_mean_groupby_new_card_id 0.0\n",
      "D13_to_std_groupby_new_card_id 0.010515996\n",
      "D13_to_minmax_groupby_new_card_id 0.058424577\n",
      "D13_to_stdscore_groupby_new_card_id 0.009377935\n",
      "D14_to_mean_groupby_new_card_id 0.0\n",
      "D14_to_std_groupby_new_card_id 0.006599783\n",
      "D14_to_minmax_groupby_new_card_id 0.057084583\n",
      "D14_to_stdscore_groupby_new_card_id 0.0123128835\n",
      "D1_to_mean_groupby_bank_type 0.0\n",
      "D1_to_std_groupby_bank_type 0.043602705\n",
      "D1_to_minmax_groupby_bank_type 0.042162195\n",
      "D1_to_stdscore_groupby_bank_type 0.049911704\n",
      "D2_to_mean_groupby_bank_type 0.0\n",
      "D2_to_std_groupby_bank_type 0.038184322\n",
      "D2_to_minmax_groupby_bank_type 0.041331\n",
      "D2_to_stdscore_groupby_bank_type 0.04353643\n",
      "D3_to_mean_groupby_bank_type 0.0\n",
      "D3_to_std_groupby_bank_type 0.03714974\n",
      "D3_to_minmax_groupby_bank_type 0.039693248\n",
      "D3_to_stdscore_groupby_bank_type 0.02602741\n",
      "D4_to_mean_groupby_bank_type 0.0\n",
      "D4_to_std_groupby_bank_type 0.12477677\n",
      "D4_to_minmax_groupby_bank_type 0.12796964\n",
      "D4_to_stdscore_groupby_bank_type 0.08106961\n",
      "D5_to_mean_groupby_bank_type 0.0\n",
      "D5_to_std_groupby_bank_type 0.0547084\n",
      "D5_to_minmax_groupby_bank_type 0.057320923\n",
      "D5_to_stdscore_groupby_bank_type 0.030208943\n",
      "D6_to_mean_groupby_bank_type 0.0\n",
      "D6_to_std_groupby_bank_type 0.075333446\n",
      "D6_to_minmax_groupby_bank_type 0.0762341\n",
      "D6_to_stdscore_groupby_bank_type 0.015244854\n",
      "D7_to_mean_groupby_bank_type 0.0312\n",
      "D7_to_std_groupby_bank_type 0.051255994\n",
      "D7_to_minmax_groupby_bank_type 0.053545363\n",
      "D7_to_stdscore_groupby_bank_type 0.0128494445\n",
      "Error in D8_to_mean_groupby_bank_type\n",
      "D8_to_std_groupby_bank_type 0.021237137\n",
      "D8_to_minmax_groupby_bank_type 0.02721679\n",
      "D8_to_stdscore_groupby_bank_type 0.022259673\n",
      "D9_to_mean_groupby_bank_type 0.0\n",
      "D9_to_std_groupby_bank_type 0.022712952\n",
      "D9_to_minmax_groupby_bank_type 0.024169935\n",
      "D9_to_stdscore_groupby_bank_type 0.0011698802\n"
     ]
    },
    {
     "name": "stderr",
     "output_type": "stream",
     "text": [
      "c:\\python37\\lib\\site-packages\\numpy\\lib\\nanfunctions.py:1545: RuntimeWarning: overflow encountered in multiply\n",
      "  sqr = np.multiply(arr, arr, out=arr)\n"
     ]
    },
    {
     "name": "stdout",
     "output_type": "stream",
     "text": [
      "D10_to_mean_groupby_bank_type 0.0\n",
      "D10_to_std_groupby_bank_type 0.123842515\n",
      "D10_to_minmax_groupby_bank_type 0.12544948\n",
      "D10_to_stdscore_groupby_bank_type 0.098747864\n",
      "D11_to_mean_groupby_bank_type 0.0\n",
      "D11_to_std_groupby_bank_type 0.17676\n",
      "D11_to_minmax_groupby_bank_type 0.1792721\n",
      "D11_to_stdscore_groupby_bank_type 0.1288838\n",
      "D12_to_mean_groupby_bank_type 0.0\n",
      "D12_to_std_groupby_bank_type 0.04384831\n",
      "D12_to_minmax_groupby_bank_type 0.04399072\n",
      "D12_to_stdscore_groupby_bank_type 0.03138012\n",
      "D13_to_mean_groupby_bank_type 0.0\n",
      "D13_to_std_groupby_bank_type 0.04228705\n",
      "D13_to_minmax_groupby_bank_type 0.040937375\n",
      "D13_to_stdscore_groupby_bank_type 0.0014029853\n",
      "D14_to_mean_groupby_bank_type 0.0\n",
      "D14_to_std_groupby_bank_type 0.057151284\n",
      "D14_to_minmax_groupby_bank_type 0.0571049\n",
      "D14_to_stdscore_groupby_bank_type 0.0041602077\n",
      "D15_to_mean_groupby_bank_type 0.0\n",
      "D15_to_std_groupby_bank_type 0.14226441\n",
      "D15_to_minmax_groupby_bank_type 0.1467982\n",
      "D15_to_stdscore_groupby_bank_type 0.101910695\n",
      "TransactionAmt_to_mean_groupby_card1 0.000786557\n",
      "TransactionAmt_to_std_groupby_card1 0.004321728\n",
      "TransactionAmt_to_minmax_groupby_card1 0.0071230377\n",
      "TransactionAmt_to_stdscore_groupby_card1 0.0005003977\n",
      "TransactionAmt_to_mean_groupby_card2 0.0017964841\n",
      "TransactionAmt_to_std_groupby_card2 0.0046791737\n",
      "TransactionAmt_to_minmax_groupby_card2 0.004909448\n",
      "TransactionAmt_to_stdscore_groupby_card2 0.0003935736\n",
      "TransactionAmt_to_mean_groupby_card3 0.0010302077\n",
      "TransactionAmt_to_std_groupby_card3 0.0026650194\n",
      "TransactionAmt_to_minmax_groupby_card3 0.0066719516\n",
      "TransactionAmt_to_stdscore_groupby_card3 0.001529749\n",
      "TransactionAmt_to_mean_groupby_card5 0.0003441666\n",
      "TransactionAmt_to_std_groupby_card5 0.00029825588\n",
      "TransactionAmt_to_minmax_groupby_card5 0.0015642503\n",
      "TransactionAmt_to_stdscore_groupby_card5 0.00086753274\n",
      "TransactionAmt_to_mean_groupby_uid 0.001475861\n",
      "TransactionAmt_to_std_groupby_uid 0.0016604424\n",
      "TransactionAmt_to_minmax_groupby_uid 0.006216164\n",
      "TransactionAmt_to_stdscore_groupby_uid 0.00020064152\n",
      "TransactionAmt_to_mean_groupby_uid2 0.0018040424\n",
      "TransactionAmt_to_std_groupby_uid2 0.0016582606\n",
      "TransactionAmt_to_minmax_groupby_uid2 0.0079643885\n",
      "TransactionAmt_to_stdscore_groupby_uid2 0.0005494593\n",
      "TransactionAmt_to_mean_groupby_uid3 0.00082628976\n",
      "TransactionAmt_to_std_groupby_uid3 0.0014551646\n",
      "TransactionAmt_to_minmax_groupby_uid3 0.003221565\n",
      "TransactionAmt_to_stdscore_groupby_uid3 0.0017858766\n",
      "TransactionAmt_to_mean_groupby_uid4 0.0042034755\n",
      "TransactionAmt_to_std_groupby_uid4 0.0019798246\n",
      "TransactionAmt_to_minmax_groupby_uid4 0.003094547\n",
      "TransactionAmt_to_stdscore_groupby_uid4 0.0046119373\n",
      "TransactionAmt_to_mean_groupby_uid5 0.0009254727\n",
      "TransactionAmt_to_std_groupby_uid5 0.0023119336\n",
      "TransactionAmt_to_minmax_groupby_uid5 0.0036706468\n",
      "TransactionAmt_to_stdscore_groupby_uid5 2.0235706e-05\n",
      "TransactionAmt_to_mean_groupby_bank_type 0.0015565945\n",
      "TransactionAmt_to_std_groupby_bank_type 0.0042374176\n",
      "TransactionAmt_to_minmax_groupby_bank_type 0.012111836\n",
      "TransactionAmt_to_stdscore_groupby_bank_type 5.9568367e-05\n",
      "TransactionAmt_to_mean_groupby_DT_M 8.401969e-09\n",
      "TransactionAmt_to_std_groupby_DT_M 0.015682679\n",
      "TransactionAmt_to_minmax_groupby_DT_M 0.0020997096\n",
      "TransactionAmt_to_stdscore_groupby_DT_M 2.9813438e-09\n",
      "TransactionAmt_to_mean_groupby_DT_D 1.8821615e-09\n",
      "TransactionAmt_to_std_groupby_DT_D 0.01572166\n",
      "TransactionAmt_to_minmax_groupby_DT_D 0.03318994\n",
      "TransactionAmt_to_stdscore_groupby_DT_D 5.872344e-10\n",
      "TransactionAmt_to_mean_groupby_DT_W 0.00046865587\n",
      "TransactionAmt_to_std_groupby_DT_W 0.01558252\n",
      "TransactionAmt_to_minmax_groupby_DT_W 0.020073066\n",
      "TransactionAmt_to_stdscore_groupby_DT_W 0.00053146033\n",
      "TransactionAmt_to_mean_groupby_(card1+DT_W) 0.00019030388\n",
      "TransactionAmt_to_std_groupby_(card1+DT_W) 0.0013932573\n",
      "TransactionAmt_to_minmax_groupby_(card1+DT_W) 0.0027370758\n",
      "TransactionAmt_to_stdscore_groupby_(card1+DT_W) 0.00021763462\n",
      "TransactionAmt_to_mean_groupby_(card1+DT_M) 3.2222605e-09\n",
      "TransactionAmt_to_std_groupby_(card1+DT_M) 0.0011761339\n",
      "TransactionAmt_to_minmax_groupby_(card1+DT_M) 0.00621841\n",
      "TransactionAmt_to_stdscore_groupby_(card1+DT_M) 4.216042e-10\n",
      "TransactionAmt_to_mean_groupby_(card1+DT_D) 3.4029481e-09\n",
      "TransactionAmt_to_std_groupby_(card1+DT_D) 0.00059085\n",
      "TransactionAmt_to_minmax_groupby_(card1+DT_D) 0.005998257\n",
      "TransactionAmt_to_stdscore_groupby_(card1+DT_D) 2.3843223e-08\n",
      "TransactionAmt_to_mean_groupby_(uid+DT_M) 2.9813438e-09\n",
      "TransactionAmt_to_std_groupby_(uid+DT_M) 0.0015947119\n",
      "TransactionAmt_to_minmax_groupby_(uid+DT_M) 0.0061416635\n",
      "TransactionAmt_to_stdscore_groupby_(uid+DT_M) 1.2858927e-08\n",
      "TransactionAmt_to_mean_groupby_(uid+DT_W) 0.00018846027\n",
      "TransactionAmt_to_std_groupby_(uid+DT_W) 0.0011816948\n",
      "TransactionAmt_to_minmax_groupby_(uid+DT_W) 0.0020348039\n",
      "TransactionAmt_to_stdscore_groupby_(uid+DT_W) 0.0002103909\n",
      "TransactionAmt_to_mean_groupby_(uid+DT_D) 3.5836356e-09\n",
      "TransactionAmt_to_std_groupby_(uid+DT_D) 0.00040240603\n",
      "TransactionAmt_to_minmax_groupby_(uid+DT_D) 0.006335202\n",
      "TransactionAmt_to_stdscore_groupby_(uid+DT_D) 2.3895923e-08\n",
      "V_PCA_455805_0 0.1309259\n",
      "V_PCA_455805_1 0.014924658137481067\n",
      "V_PCA_455805_2 0.012178345965722343\n",
      "V_PCA_88662_0 0.16131835\n",
      "V_PCA_88662_1 0.15735023\n",
      "V_PCA_88662_2 0.11459669\n",
      "V_PCA_88662_3 0.053954806\n",
      "V_PCA_88662_4 0.026332153\n",
      "V_PCA_88662_5 0.016115874\n",
      "V_PCA_88662_6 0.1376446\n",
      "V_PCA_88662_7 0.06520634\n",
      "V_PCA_245823_0 0.17545278748593146\n",
      "V_PCA_245823_1 0.014770811\n",
      "V_PCA_245823_2 0.019256692\n",
      "V_PCA_245823_3 0.08568008622456641\n",
      "V_PCA_245823_4 0.023614135\n",
      "V_PCA_245823_5 0.12894525\n",
      "V_PCA_245823_6 0.026991051928291307\n",
      "V_PCA_89995_0 0.16041982\n",
      "V_PCA_89995_1 0.14559662\n",
      "V_PCA_89995_2 0.02771228\n",
      "V_PCA_89995_3 0.13559364\n",
      "V_PCA_89995_4 0.1024573\n",
      "V_PCA_89995_5 0.11495175\n",
      "V_PCA_89995_6 0.04820326270331341\n",
      "V_PCA_89995_7 0.11289121\n",
      "V_PCA_89995_8 0.027138727\n",
      "V_PCA_101245_0 0.1771978330127374\n",
      "V_PCA_101245_1 0.09753332807775357\n",
      "V_PCA_101245_2 0.022188967\n",
      "V_PCA_101245_3 0.032470852\n",
      "V_PCA_101245_4 0.13548751748786814\n",
      "V_PCA_101245_5 0.10902024\n",
      "V_PCA_101245_6 0.06067002\n",
      "V_PCA_101245_7 0.08405002\n",
      "V_PCA_101245_8 0.04811746\n",
      "V_PCA_314_0 0.016084665024385592\n",
      "V_PCA_314_1 0.03049555199917907\n",
      "V_PCA_314_2 0.015244308849834203\n",
      "V_PCA_314_3 0.010851558898556204\n",
      "V_PCA_314_4 0.010680003417793833\n",
      "V_PCA_314_5 0.005208569679677657\n",
      "V_PCA_314_6 0.012282888867547337\n",
      "V_PCA_314_7 0.0018890919333713469\n",
      "V_PCA_314_8 0.009937698488102154\n",
      "V_PCA_314_9 0.010037757411363065\n",
      "V_PCA_314_10 0.019231212360459386\n",
      "V_PCA_314_11 0.006745813456332576\n",
      "V_PCA_314_12 0.00012167700267741857\n",
      "V_PCA_314_13 0.0070273584628045465\n",
      "V_PCA_314_14 0.016222450079295965\n",
      "V_PCA_939501_0 0.010408962\n",
      "V_PCA_939501_1 0.0030105761\n",
      "V_PCA_939501_2 0.007659059\n",
      "V_PCA_939501_3 0.006147876224648643\n",
      "V_PCA_939501_4 0.0029557713\n",
      "V_PCA_939225_0 0.0273752449883423\n",
      "V_PCA_939225_1 0.010152696685114263\n",
      "V_PCA_939225_2 0.06419229986554513\n",
      "V_PCA_820866_0 0.0034820394027011477\n",
      "V_PCA_820866_1 0.03183577942477075\n",
      "V_PCA_820866_2 0.0007796545128291848\n",
      "V_PCA_820866_3 0.014655019803436815\n",
      "V_PCA_820866_4 0.02922750841892021\n",
      "V_PCA_820866_5 0.008422991824517077\n",
      "V_PCA_820866_6 0.00451570837738841\n",
      "V_PCA_821037_0 0.031951353755005914\n",
      "V_PCA_821037_1 0.01508273529255577\n",
      "V_PCA_821037_2 0.0174077939162862\n",
      "V_PCA_821037_3 0.0020202245338819835\n",
      "V_PCA_821037_4 0.012823697831635419\n",
      "V_PCA_821037_5 0.008594350656266255\n",
      "V_PCA_821037_6 0.003744261557722194\n",
      "V_PCA_821037_7 0.013646081030659766\n",
      "V_PCA_840073_0 0.024544033632630607\n",
      "V_PCA_840073_1 0.0098163589095448\n",
      "V_PCA_840073_2 0.013675321872763792\n",
      "V_PCA_840073_3 0.007669710670256437\n",
      "V_PCA_840073_4 0.0038902185015104998\n",
      "V_PCA_840073_5 0.0161470826987272\n",
      "V_PCA_840073_6 0.010925850601538892\n",
      "V_PCA_840073_7 0.004547368171213225\n",
      "V_PCA_818499_0 0.021434271924041726\n",
      "V_PCA_818499_1 0.002585269381996547\n",
      "V_PCA_818499_2 0.0052035112048737465\n",
      "V_PCA_818499_3 0.006462387367898615\n",
      "V_PCA_818499_4 0.018373087068478858\n",
      "V_PCA_818499_5 0.019809332803494922\n",
      "V_PCA_15_0 0.015204514424235012\n",
      "V_PCA_15_1 0.0009599948747055627\n",
      "V_PCA_15_2 0.020658867811815692\n",
      "V_PCA_15_3 0.037978486550807926\n",
      "V_PCA_15_4 0.0060747066750269085\n",
      "V_PCA_15_5 0.0029517674965359075\n",
      "V_PCA_15_6 0.01747543885789028\n",
      "V_PCA_15_7 0.0010722946088522177\n",
      "V_PCA_15_8 0.0021618262135514057\n",
      "V_PCA_15_9 8.121987158189805e-05\n",
      "V_PCA_15_10 0.024119112810981835\n",
      "V_PCA_7300_0 0.003097170882915316\n",
      "V_PCA_7300_1 0.015457590125358373\n",
      "V_PCA_7300_2 0.00572628070277679\n"
     ]
    },
    {
     "name": "stdout",
     "output_type": "stream",
     "text": [
      "V_PCA_7300_3 0.017763883595023722\n",
      "V_PCA_7300_4 0.010609565555709098\n",
      "V_PCA_7300_5 0.010145124372923997\n",
      "V_PCA_7300_6 0.011356378653831701\n",
      "V_PCA_938449_0 0.012315645069688567\n",
      "V_PCA_938449_1 0.00561329\n",
      "V_PCA_938449_2 0.00886791\n",
      "V_PCA_938449_3 0.004278135159180121\n",
      "V_PCA_938449_4 0.00020563083\n",
      "id_01 0.0\n",
      "id_02 0.05301497\n",
      "id_03 0.0\n",
      "id_04 0.0\n",
      "id_05 0.0\n",
      "id_06 0.0\n",
      "id_07 0.03452\n",
      "id_08 0.0394\n",
      "id_09 0.0\n",
      "id_10 0.0\n",
      "id_11 0.0025073646\n"
     ]
    },
    {
     "name": "stderr",
     "output_type": "stream",
     "text": [
      "c:\\python37\\lib\\site-packages\\numpy\\lib\\nanfunctions.py:1545: RuntimeWarning: overflow encountered in multiply\n",
      "  sqr = np.multiply(arr, arr, out=arr)\n",
      "c:\\python37\\lib\\site-packages\\numpy\\lib\\nanfunctions.py:1545: RuntimeWarning: overflow encountered in multiply\n",
      "  sqr = np.multiply(arr, arr, out=arr)\n"
     ]
    },
    {
     "name": "stdout",
     "output_type": "stream",
     "text": [
      "D1 0.0\n",
      "D2 0.0\n"
     ]
    },
    {
     "name": "stderr",
     "output_type": "stream",
     "text": [
      "c:\\python37\\lib\\site-packages\\numpy\\lib\\nanfunctions.py:1545: RuntimeWarning: overflow encountered in multiply\n",
      "  sqr = np.multiply(arr, arr, out=arr)\n",
      "c:\\python37\\lib\\site-packages\\numpy\\lib\\nanfunctions.py:1545: RuntimeWarning: overflow encountered in multiply\n",
      "  sqr = np.multiply(arr, arr, out=arr)\n"
     ]
    },
    {
     "name": "stdout",
     "output_type": "stream",
     "text": [
      "D3 0.0\n",
      "D4 0.0\n",
      "D5 0.0\n"
     ]
    },
    {
     "name": "stderr",
     "output_type": "stream",
     "text": [
      "c:\\python37\\lib\\site-packages\\numpy\\lib\\nanfunctions.py:1545: RuntimeWarning: overflow encountered in multiply\n",
      "  sqr = np.multiply(arr, arr, out=arr)\n",
      "c:\\python37\\lib\\site-packages\\numpy\\lib\\nanfunctions.py:1545: RuntimeWarning: overflow encountered in multiply\n",
      "  sqr = np.multiply(arr, arr, out=arr)\n"
     ]
    },
    {
     "name": "stdout",
     "output_type": "stream",
     "text": [
      "D6 0.0\n",
      "D7 0.0\n"
     ]
    },
    {
     "name": "stderr",
     "output_type": "stream",
     "text": [
      "c:\\python37\\lib\\site-packages\\numpy\\lib\\nanfunctions.py:1545: RuntimeWarning: overflow encountered in multiply\n",
      "  sqr = np.multiply(arr, arr, out=arr)\n"
     ]
    },
    {
     "name": "stdout",
     "output_type": "stream",
     "text": [
      "D8 0.026127463253279557\n",
      "D9 0.0\n"
     ]
    },
    {
     "name": "stderr",
     "output_type": "stream",
     "text": [
      "c:\\python37\\lib\\site-packages\\numpy\\lib\\nanfunctions.py:1545: RuntimeWarning: overflow encountered in multiply\n",
      "  sqr = np.multiply(arr, arr, out=arr)\n"
     ]
    },
    {
     "name": "stdout",
     "output_type": "stream",
     "text": [
      "D10 0.0\n",
      "D11 0.0\n"
     ]
    },
    {
     "name": "stderr",
     "output_type": "stream",
     "text": [
      "c:\\python37\\lib\\site-packages\\numpy\\lib\\nanfunctions.py:1545: RuntimeWarning: overflow encountered in multiply\n",
      "  sqr = np.multiply(arr, arr, out=arr)\n",
      "c:\\python37\\lib\\site-packages\\numpy\\lib\\nanfunctions.py:1545: RuntimeWarning: overflow encountered in multiply\n",
      "  sqr = np.multiply(arr, arr, out=arr)\n"
     ]
    },
    {
     "name": "stdout",
     "output_type": "stream",
     "text": [
      "D12 0.0\n",
      "D13 0.0\n",
      "D14 0.0\n"
     ]
    },
    {
     "name": "stderr",
     "output_type": "stream",
     "text": [
      "c:\\python37\\lib\\site-packages\\numpy\\lib\\nanfunctions.py:1545: RuntimeWarning: overflow encountered in multiply\n",
      "  sqr = np.multiply(arr, arr, out=arr)\n",
      "c:\\python37\\lib\\site-packages\\numpy\\lib\\nanfunctions.py:1545: RuntimeWarning: overflow encountered in multiply\n",
      "  sqr = np.multiply(arr, arr, out=arr)\n",
      "c:\\python37\\lib\\site-packages\\numpy\\lib\\nanfunctions.py:1545: RuntimeWarning: overflow encountered in multiply\n",
      "  sqr = np.multiply(arr, arr, out=arr)\n"
     ]
    },
    {
     "name": "stdout",
     "output_type": "stream",
     "text": [
      "D15 0.0\n",
      "C1 0.0\n"
     ]
    },
    {
     "name": "stderr",
     "output_type": "stream",
     "text": [
      "c:\\python37\\lib\\site-packages\\numpy\\lib\\nanfunctions.py:1545: RuntimeWarning: overflow encountered in multiply\n",
      "  sqr = np.multiply(arr, arr, out=arr)\n",
      "c:\\python37\\lib\\site-packages\\numpy\\lib\\nanfunctions.py:1545: RuntimeWarning: overflow encountered in multiply\n",
      "  sqr = np.multiply(arr, arr, out=arr)\n"
     ]
    },
    {
     "name": "stdout",
     "output_type": "stream",
     "text": [
      "C2 0.0\n",
      "C3 0.0\n"
     ]
    },
    {
     "name": "stderr",
     "output_type": "stream",
     "text": [
      "c:\\python37\\lib\\site-packages\\numpy\\lib\\nanfunctions.py:1545: RuntimeWarning: overflow encountered in multiply\n",
      "  sqr = np.multiply(arr, arr, out=arr)\n",
      "c:\\python37\\lib\\site-packages\\numpy\\lib\\nanfunctions.py:1545: RuntimeWarning: overflow encountered in multiply\n",
      "  sqr = np.multiply(arr, arr, out=arr)\n"
     ]
    },
    {
     "name": "stdout",
     "output_type": "stream",
     "text": [
      "C4 0.0\n",
      "C5 0.0\n",
      "C6 0.0\n"
     ]
    },
    {
     "name": "stderr",
     "output_type": "stream",
     "text": [
      "c:\\python37\\lib\\site-packages\\numpy\\lib\\nanfunctions.py:1545: RuntimeWarning: overflow encountered in multiply\n",
      "  sqr = np.multiply(arr, arr, out=arr)\n"
     ]
    },
    {
     "name": "stdout",
     "output_type": "stream",
     "text": [
      "C7 0.0\n",
      "C8 0.0\n"
     ]
    },
    {
     "name": "stderr",
     "output_type": "stream",
     "text": [
      "c:\\python37\\lib\\site-packages\\numpy\\lib\\nanfunctions.py:1545: RuntimeWarning: overflow encountered in multiply\n",
      "  sqr = np.multiply(arr, arr, out=arr)\n"
     ]
    },
    {
     "name": "stdout",
     "output_type": "stream",
     "text": [
      "C9 0.0\n",
      "C10 0.0\n"
     ]
    },
    {
     "name": "stderr",
     "output_type": "stream",
     "text": [
      "c:\\python37\\lib\\site-packages\\numpy\\lib\\nanfunctions.py:1545: RuntimeWarning: overflow encountered in multiply\n",
      "  sqr = np.multiply(arr, arr, out=arr)\n",
      "c:\\python37\\lib\\site-packages\\numpy\\lib\\nanfunctions.py:1545: RuntimeWarning: overflow encountered in multiply\n",
      "  sqr = np.multiply(arr, arr, out=arr)\n"
     ]
    },
    {
     "name": "stdout",
     "output_type": "stream",
     "text": [
      "C11 0.0\n",
      "C12 0.0\n"
     ]
    },
    {
     "name": "stderr",
     "output_type": "stream",
     "text": [
      "c:\\python37\\lib\\site-packages\\numpy\\lib\\nanfunctions.py:1545: RuntimeWarning: overflow encountered in multiply\n",
      "  sqr = np.multiply(arr, arr, out=arr)\n",
      "c:\\python37\\lib\\site-packages\\numpy\\lib\\nanfunctions.py:1545: RuntimeWarning: overflow encountered in multiply\n",
      "  sqr = np.multiply(arr, arr, out=arr)\n"
     ]
    },
    {
     "name": "stdout",
     "output_type": "stream",
     "text": [
      "C13 0.0\n",
      "C14 0.0\n",
      "dist1 0.047709595\n",
      "TransactionAmt 0.0007582039\n",
      "NanIdentityCount 0.0\n",
      "NanTransactionCount 0.192177157039175\n",
      "Date 0.9731863891523141\n",
      "dist2 0.0049798544\n",
      "TransactionDT 0.9731863891522803\n",
      "Weekdays 0.016416966265383633\n",
      "Hours 0.0070976809363945915\n",
      "Days 0.025672582220403726\n",
      "DT_M 0.9737330811006102\n",
      "DT_W 0.9667172781563649\n",
      "DT_D 0.9731775576083989\n",
      "TransactionAmt_decimal 0.011092281315066165\n",
      "nulls1 0.16449953986839344\n",
      "TransactionAmt_Log 0.015683651\n",
      "M_sum 0.0\n",
      "M_na 0.10588833443370871\n",
      "ProductCD_target_mean 0.025949426\n",
      "M4_target_mean 0.0\n",
      "TransactionAmt_by_new_card_id_ws1d_to_mean 0.0002810236054216365\n",
      "TransactionAmt_by_new_card_id_ws1d_to_std 0.0010848578903351162\n",
      "TransactionAmt_by_new_card_id_ws2d_to_mean 0.0003000425252355466\n",
      "TransactionAmt_by_new_card_id_ws2d_to_std 0.0010505759298417598\n",
      "TransactionAmt_by_new_card_id_ws3d_to_mean 0.0008177052149765209\n",
      "TransactionAmt_by_new_card_id_ws3d_to_std 0.001280712266192814\n",
      "TransactionAmt_by_new_card_id_ws7d_to_mean 0.0001767543318212416\n",
      "TransactionAmt_by_new_card_id_ws7d_to_std 0.0010747959502753737\n",
      "TransactionAmt_by_new_card_id_ws30d_to_mean 0.005114339921778894\n",
      "TransactionAmt_by_new_card_id_ws30d_to_std 0.0012452341039952113\n",
      "TransactionAmt_by_new_card_id_ws5_to_mean 0.00027977313684483243\n",
      "TransactionAmt_by_new_card_id_ws5_to_std 0.00016326933030249893\n",
      "TransactionAmt_by_new_card_id_ws10_to_mean 0.0007819632180777322\n",
      "TransactionAmt_by_new_card_id_ws10_to_std 0.004633938575438911\n",
      "TransactionAmt_by_new_card_id_ws100_to_mean 0.00659523884574789\n",
      "TransactionAmt_by_new_card_id_ws100_to_std 0.009336425141113635\n",
      "C5_by_new_card_id_ws1d_to_mean 0.0011771077655020974\n",
      "C5_by_new_card_id_ws1d_to_std 0.002436370074811264\n",
      "C5_by_new_card_id_ws2d_to_mean 0.0007196521980704175\n",
      "C5_by_new_card_id_ws2d_to_std 0.0009884878538947365\n",
      "C5_by_new_card_id_ws3d_to_mean 0.0011883862058604745\n",
      "C5_by_new_card_id_ws3d_to_std 0.00121740974538554\n",
      "C5_by_new_card_id_ws7d_to_mean 0.0004956618909731738\n",
      "C5_by_new_card_id_ws7d_to_std 0.006662566407757238\n",
      "C5_by_new_card_id_ws30d_to_mean 0.00664325452094847\n",
      "C5_by_new_card_id_ws30d_to_std 0.004009124484968135\n",
      "C5_by_new_card_id_ws5_to_mean 0.003188818246388823\n",
      "C5_by_new_card_id_ws5_to_std 0.006841841843586066\n",
      "C5_by_new_card_id_ws10_to_mean 0.003819798920264572\n",
      "C5_by_new_card_id_ws10_to_std 0.004249548964639558\n",
      "C5_by_new_card_id_ws100_to_mean 0.007983983642391845\n",
      "C5_by_new_card_id_ws100_to_std 0.02509477880841674\n",
      "C8_by_new_card_id_ws1d_to_mean 0.0009852411061441221\n",
      "C8_by_new_card_id_ws1d_to_std 0.0051234960450329105\n",
      "C8_by_new_card_id_ws2d_to_mean 0.0008188223164297349\n",
      "C8_by_new_card_id_ws2d_to_std 0.004632063394535401\n",
      "C8_by_new_card_id_ws3d_to_mean 0.000804932049752128\n",
      "C8_by_new_card_id_ws3d_to_std 0.002188926348513424\n",
      "C8_by_new_card_id_ws7d_to_mean 8.47627700124384e-05\n",
      "C8_by_new_card_id_ws7d_to_std 0.0003897726063727794\n",
      "C8_by_new_card_id_ws30d_to_mean 0.0120909001194261\n",
      "C8_by_new_card_id_ws30d_to_std 0.008966945397594529\n",
      "C8_by_new_card_id_ws5_to_mean 0.025850177171554294\n",
      "C8_by_new_card_id_ws5_to_std 0.006104136144182027\n",
      "C8_by_new_card_id_ws10_to_mean 0.029047631302574015\n",
      "C8_by_new_card_id_ws10_to_std 0.0009726285721701071\n",
      "C8_by_new_card_id_ws100_to_mean 0.028436490094633397\n",
      "C8_by_new_card_id_ws100_to_std 0.03681952877253169\n",
      "TransactionAmt_Log1p 0.015237446\n",
      "D8_D9_decimal_dist 0.012746959\n",
      "D1_scaled 0.0\n",
      "D2_scaled 0.0\n",
      "card1_amtcount 0.01390623\n",
      "card1_C5count 0.0059015825\n",
      "card2_amtcount 0.022197684\n",
      "card2_C5count 0.013879989\n",
      "card5_amtcount 0.019061344\n",
      "card5_C5count 0.0\n",
      "addr1_amtcount 0.007526255\n",
      "addr1_C5count 0.00014594528\n",
      "addr2_amtcount 0.018295469\n",
      "addr2_C5count 0.0\n",
      "Transaction_freq_1d_past 0.03828414987845895\n",
      "Transaction_freq_2d_past 0.03862325822340839\n",
      "Transaction_freq_3d_past 0.03470773337933669\n",
      "Transaction_freq_7d_past 0.03496779740076715\n",
      "Transaction_freq_30d_past 0.002654492153961383\n",
      "Transaction_freq_5_past 0.21533174211545233\n",
      "Transaction_freq_5_center 0.053976293683269255\n",
      "Transaction_freq_10_past 0.26389196988308267\n",
      "Transaction_freq_10_center 0.08128014230770828\n",
      "Transaction_freq_100_past 0.3821414327950295\n",
      "Transaction_freq_100_center 0.0692208494160588\n",
      "Saving bad_for_training_features\n"
     ]
    }
   ],
   "source": [
    "data_dir = f'{main_dir}/Snapshots/1/05-LabelEncoded-last'\n",
    "p = Pipeline(working_folder=f'{main_dir}/Snapshots/1/FindUseless-2909')\n",
    "\n",
    "p.add_node(LoaderNode, None, 'data',\n",
    "           params={\n",
    "               'input_directory': data_dir,\n",
    "               'file': 'label_encoded_data.pkl'\n",
    "           })\n",
    "p.add_node(LoaderNode, None, 'numerical_columns',\n",
    "           params={\n",
    "               'input_directory': data_dir,\n",
    "               'file': 'numerical_columns.yaml'\n",
    "           })\n",
    "p.add_node(LoaderNode, None, 'categorical_columns',\n",
    "           params={\n",
    "               'input_directory': data_dir,\n",
    "               'file': 'categorical_columns.yaml'\n",
    "           })\n",
    "p.run()\n",
    "p.add_node(FindUselessForTrainingFeaturesNode, 'data', 'bad_for_training_features',\n",
    "          params={\n",
    "              'features':p.data['numerical_columns']\n",
    "          })\n",
    "\n",
    "p.save()\n",
    "p.run(verbose=True)\n",
    "p.save_data(only_keys={'bad_for_training_features'})"
   ]
  },
  {
   "cell_type": "code",
   "execution_count": 7,
   "metadata": {
    "ExecuteTime": {
     "end_time": "2019-09-28T15:57:53.315102Z",
     "start_time": "2019-09-28T15:57:53.144098Z"
    }
   },
   "outputs": [
    {
     "name": "stdout",
     "output_type": "stream",
     "text": [
      "version_id_31\n",
      "BrowserVersion\n"
     ]
    }
   ],
   "source": [
    "df = p.data['data']\n",
    "for col in df.columns:\n",
    "    if df[col].dtype == np.dtype('object'):\n",
    "        print (col )"
   ]
  },
  {
   "cell_type": "markdown",
   "metadata": {
    "ExecuteTime": {
     "end_time": "2019-09-22T12:47:29.055553Z",
     "start_time": "2019-09-22T12:47:28.933527Z"
    },
    "heading_collapsed": true
   },
   "source": [
    "## Code to make pipeline node"
   ]
  },
  {
   "cell_type": "code",
   "execution_count": null,
   "metadata": {
    "ExecuteTime": {
     "end_time": "2019-09-22T11:18:09.974679Z",
     "start_time": "2019-09-22T11:18:09.852645Z"
    },
    "hidden": true
   },
   "outputs": [],
   "source": [
    "df = p.data['data']"
   ]
  },
  {
   "cell_type": "code",
   "execution_count": null,
   "metadata": {
    "ExecuteTime": {
     "end_time": "2019-09-22T11:25:29.927875Z",
     "start_time": "2019-09-22T11:25:29.691822Z"
    },
    "hidden": true
   },
   "outputs": [],
   "source": [
    "df['screen_width'] = df['screen_width'].fillna(np.NaN).astype(np.float16)\n",
    "df['screen_height'] = df['screen_height'].replace('None',np.NaN).astype(np.float16)"
   ]
  },
  {
   "cell_type": "code",
   "execution_count": null,
   "metadata": {
    "ExecuteTime": {
     "end_time": "2019-09-22T11:59:37.371204Z",
     "start_time": "2019-09-22T11:59:37.250225Z"
    },
    "hidden": true
   },
   "outputs": [],
   "source": [
    "from scipy.stats import mannwhitneyu, kruskal,ks_2samp\n",
    "from sklearn.preprocessing import StandardScaler"
   ]
  },
  {
   "cell_type": "code",
   "execution_count": null,
   "metadata": {
    "ExecuteTime": {
     "end_time": "2019-09-22T12:00:04.125610Z",
     "start_time": "2019-09-22T12:00:00.871567Z"
    },
    "hidden": true
   },
   "outputs": [],
   "source": [
    "train_ids = df[df.isFraud >= 0].index\n",
    "test_ids = df[df.isFraud < 0].index\n",
    "scaler = StandardScaler()"
   ]
  },
  {
   "cell_type": "code",
   "execution_count": null,
   "metadata": {
    "ExecuteTime": {
     "end_time": "2019-09-22T12:17:20.710056Z",
     "start_time": "2019-09-22T12:17:20.585216Z"
    },
    "hidden": true
   },
   "outputs": [],
   "source": [
    "feature_skew = {}"
   ]
  },
  {
   "cell_type": "code",
   "execution_count": null,
   "metadata": {
    "ExecuteTime": {
     "end_time": "2019-09-22T12:20:05.997998Z",
     "start_time": "2019-09-22T12:17:22.414271Z"
    },
    "hidden": true
   },
   "outputs": [],
   "source": [
    "for col in df.columns:\n",
    "    if col in feature_skew:\n",
    "        continue\n",
    "    data_col = df[col].replace(np.inf,np.NaN).dropna()\n",
    "    normalized_data = pd.DataFrame(index=data_col.index)\n",
    "    try:\n",
    "        normalized_data['data'] = scaler.fit_transform(data_col.values.reshape((-1,1)))\n",
    "    except ValueError as ex:\n",
    "        print(f'Error in {col}')\n",
    "        feature_skew[col] = None\n",
    "        continue\n",
    "    train_col = normalized_data['data'].reindex(train_ids).dropna()\n",
    "    test_col = normalized_data['data'].reindex(test_ids).dropna()\n",
    "    \n",
    "    train_avg = train_col.mean()\n",
    "    test_avg = test_col.mean()\n",
    "    print(col, abs(test_avg))\n",
    "    feature_skew[col] = abs(test_avg)\n",
    "    \n"
   ]
  },
  {
   "cell_type": "code",
   "execution_count": null,
   "metadata": {
    "ExecuteTime": {
     "end_time": "2019-09-22T12:24:07.387522Z",
     "start_time": "2019-09-22T12:24:07.257873Z"
    },
    "hidden": true
   },
   "outputs": [],
   "source": [
    "bad_for_training_features_0_05 = []\n",
    "bad_for_training_features_0_2 = []\n",
    "for k,v in feature_skew.items():\n",
    "    if np.isnan(v) or v>0.05:\n",
    "        bad_for_training_features_0_05.append(k)\n",
    "    if np.isnan(v) or v>0.2:\n",
    "        bad_for_training_features_0_2.append(k)        "
   ]
  },
  {
   "cell_type": "code",
   "execution_count": null,
   "metadata": {
    "ExecuteTime": {
     "end_time": "2019-09-22T12:27:54.577248Z",
     "start_time": "2019-09-22T12:27:54.258398Z"
    },
    "hidden": true
   },
   "outputs": [],
   "source": [
    "bad_for_training_features_0_2"
   ]
  }
 ],
 "metadata": {
  "kernelspec": {
   "display_name": "Python 3",
   "language": "python",
   "name": "python3"
  },
  "language_info": {
   "codemirror_mode": {
    "name": "ipython",
    "version": 3
   },
   "file_extension": ".py",
   "mimetype": "text/x-python",
   "name": "python",
   "nbconvert_exporter": "python",
   "pygments_lexer": "ipython3",
   "version": "3.7.4"
  },
  "toc": {
   "base_numbering": 1,
   "nav_menu": {},
   "number_sections": true,
   "sideBar": true,
   "skip_h1_title": false,
   "title_cell": "Table of Contents",
   "title_sidebar": "Contents",
   "toc_cell": false,
   "toc_position": {},
   "toc_section_display": true,
   "toc_window_display": false
  },
  "varInspector": {
   "cols": {
    "lenName": 16,
    "lenType": 16,
    "lenVar": 40
   },
   "kernels_config": {
    "python": {
     "delete_cmd_postfix": "",
     "delete_cmd_prefix": "del ",
     "library": "var_list.py",
     "varRefreshCmd": "print(var_dic_list())"
    },
    "r": {
     "delete_cmd_postfix": ") ",
     "delete_cmd_prefix": "rm(",
     "library": "var_list.r",
     "varRefreshCmd": "cat(var_dic_list()) "
    }
   },
   "types_to_exclude": [
    "module",
    "function",
    "builtin_function_or_method",
    "instance",
    "_Feature"
   ],
   "window_display": false
  }
 },
 "nbformat": 4,
 "nbformat_minor": 2
}
