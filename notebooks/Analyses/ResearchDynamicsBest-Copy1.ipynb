{
 "cells": [
  {
   "cell_type": "code",
   "execution_count": 1,
   "metadata": {
    "ExecuteTime": {
     "end_time": "2019-09-23T05:07:28.168986Z",
     "start_time": "2019-09-23T05:07:22.241129Z"
    }
   },
   "outputs": [],
   "source": [
    "%load_ext autoreload\n",
    "%autoreload 2\n",
    "main_dir = r'../../..'\n",
    "data_path = main_dir+'/data'\n",
    "import sys\n",
    "sys.path.append(main_dir)\n",
    "from typing import List, Set, Dict, Optional, Any, Tuple, Type, Union\n",
    "\n",
    "from BayDS.lib.pipeline import *\n",
    "from BayDS.lib.io import *\n",
    "import os\n"
   ]
  },
  {
   "cell_type": "code",
   "execution_count": 2,
   "metadata": {
    "ExecuteTime": {
     "end_time": "2019-09-23T05:07:57.307087Z",
     "start_time": "2019-09-23T05:07:51.679089Z"
    }
   },
   "outputs": [
    {
     "name": "stdout",
     "output_type": "stream",
     "text": [
      "---------------------------\n",
      "0: LoaderNode [2019-09-23 08:07:51]\n",
      "params:\n",
      " {'input_directory': '../../../Snapshots/1/Test', 'file': 'label_encoded_data.pkl'}\n",
      "---------------------------\n",
      "1: LoaderNode [2019-09-23 08:07:56]\n",
      "params:\n",
      " {'input_directory': '../../../Snapshots/Dynamic', 'file': 'oof_all_data_best_lgb.csv'}\n",
      "---------------------------\n",
      "2: LoaderNode [2019-09-23 08:07:57]\n",
      "params:\n",
      " {'input_directory': '../../../Snapshots/Dynamic', 'file': 'prediction_all_data_best_lgb.csv'}\n"
     ]
    }
   ],
   "source": [
    "data_dir = f'{main_dir}/Snapshots/1/Test'\n",
    "p = Pipeline(working_folder=f'{main_dir}/Snapshots/1/Dynamics')\n",
    "\n",
    "p.add_node(LoaderNode, None, 'data',\n",
    "           params={\n",
    "               'input_directory': data_dir,\n",
    "               'file': 'label_encoded_data.pkl'\n",
    "           })\n",
    "p.add_node(LoaderNode, None, 'oof',\n",
    "           params={\n",
    "               'input_directory': main_dir+'/Snapshots/Dynamic',\n",
    "               'file': 'oof_all_data_best_lgb.csv'\n",
    "           })\n",
    "p.add_node(LoaderNode, None, 'predictions',\n",
    "           params={\n",
    "               'input_directory': main_dir+'/Snapshots/Dynamic',\n",
    "               'file': 'prediction_all_data_best_lgb.csv'\n",
    "           })\n",
    "p.run(verbose=True)\n",
    "p.save()"
   ]
  },
  {
   "cell_type": "code",
   "execution_count": 3,
   "metadata": {
    "ExecuteTime": {
     "end_time": "2019-09-23T05:08:01.522712Z",
     "start_time": "2019-09-23T05:07:57.573633Z"
    }
   },
   "outputs": [],
   "source": [
    "df = p.data['data']\n",
    "df = df[['isFraud', 'new_card_id']]"
   ]
  },
  {
   "cell_type": "code",
   "execution_count": 6,
   "metadata": {
    "ExecuteTime": {
     "end_time": "2019-09-23T05:08:23.830478Z",
     "start_time": "2019-09-23T05:08:23.661475Z"
    }
   },
   "outputs": [
    {
     "data": {
      "text/plain": [
       "Int64Index([2987000, 2987001, 2987002, 2987003, 2987004, 2987005, 2987006,\n",
       "            2987007, 2987008, 2987009,\n",
       "            ...\n",
       "            4170230, 4170231, 4170232, 4170233, 4170234, 4170235, 4170236,\n",
       "            4170237, 4170238, 4170239],\n",
       "           dtype='int64', name='TransactionID', length=1097231)"
      ]
     },
     "execution_count": 6,
     "metadata": {},
     "output_type": "execute_result"
    }
   ],
   "source": [
    "pred = pd.concat([p.data['oof'].set_index('TransactionID')['isFraud'],p.data['predictions'].set_index('TransactionID')['isFraud']],axis=0)#\n",
    "pred.index"
   ]
  },
  {
   "cell_type": "code",
   "execution_count": 7,
   "metadata": {
    "ExecuteTime": {
     "end_time": "2019-09-23T05:08:26.361096Z",
     "start_time": "2019-09-23T05:08:26.223091Z"
    }
   },
   "outputs": [
    {
     "data": {
      "text/plain": [
       "TransactionID\n",
       "2987000    0.006236\n",
       "2987001    0.006407\n",
       "2987002    0.005103\n",
       "2987003    0.001506\n",
       "2987004    0.002891\n",
       "             ...   \n",
       "4170235    0.003395\n",
       "4170236    0.003263\n",
       "4170237    0.002492\n",
       "4170238    0.003644\n",
       "4170239    0.002183\n",
       "Name: isFraud, Length: 1097231, dtype: float64"
      ]
     },
     "execution_count": 7,
     "metadata": {},
     "output_type": "execute_result"
    }
   ],
   "source": [
    "pred"
   ]
  },
  {
   "cell_type": "code",
   "execution_count": 8,
   "metadata": {
    "ExecuteTime": {
     "end_time": "2019-09-23T05:08:29.757417Z",
     "start_time": "2019-09-23T05:08:29.618416Z"
    }
   },
   "outputs": [
    {
     "name": "stderr",
     "output_type": "stream",
     "text": [
      "c:\\python37\\lib\\site-packages\\ipykernel_launcher.py:1: SettingWithCopyWarning: \n",
      "A value is trying to be set on a copy of a slice from a DataFrame.\n",
      "Try using .loc[row_indexer,col_indexer] = value instead\n",
      "\n",
      "See the caveats in the documentation: http://pandas.pydata.org/pandas-docs/stable/user_guide/indexing.html#returning-a-view-versus-a-copy\n",
      "  \"\"\"Entry point for launching an IPython kernel.\n"
     ]
    }
   ],
   "source": [
    "df['pred_0'] = pred"
   ]
  },
  {
   "cell_type": "code",
   "execution_count": 10,
   "metadata": {
    "ExecuteTime": {
     "end_time": "2019-09-23T05:08:32.353610Z",
     "start_time": "2019-09-23T05:08:32.234612Z"
    }
   },
   "outputs": [
    {
     "data": {
      "text/html": [
       "<div>\n",
       "<style scoped>\n",
       "    .dataframe tbody tr th:only-of-type {\n",
       "        vertical-align: middle;\n",
       "    }\n",
       "\n",
       "    .dataframe tbody tr th {\n",
       "        vertical-align: top;\n",
       "    }\n",
       "\n",
       "    .dataframe thead th {\n",
       "        text-align: right;\n",
       "    }\n",
       "</style>\n",
       "<table border=\"1\" class=\"dataframe\">\n",
       "  <thead>\n",
       "    <tr style=\"text-align: right;\">\n",
       "      <th></th>\n",
       "      <th>isFraud</th>\n",
       "      <th>new_card_id</th>\n",
       "      <th>pred_0</th>\n",
       "    </tr>\n",
       "    <tr>\n",
       "      <th>TransactionID</th>\n",
       "      <th></th>\n",
       "      <th></th>\n",
       "      <th></th>\n",
       "    </tr>\n",
       "  </thead>\n",
       "  <tbody>\n",
       "    <tr>\n",
       "      <td>2987000</td>\n",
       "      <td>0</td>\n",
       "      <td>130935</td>\n",
       "      <td>0.006236</td>\n",
       "    </tr>\n",
       "    <tr>\n",
       "      <td>2987001</td>\n",
       "      <td>0</td>\n",
       "      <td>47322</td>\n",
       "      <td>0.006407</td>\n",
       "    </tr>\n",
       "    <tr>\n",
       "      <td>2987002</td>\n",
       "      <td>0</td>\n",
       "      <td>40076</td>\n",
       "      <td>0.005103</td>\n",
       "    </tr>\n",
       "    <tr>\n",
       "      <td>2987003</td>\n",
       "      <td>0</td>\n",
       "      <td>9790</td>\n",
       "      <td>0.001506</td>\n",
       "    </tr>\n",
       "    <tr>\n",
       "      <td>2987004</td>\n",
       "      <td>0</td>\n",
       "      <td>113643</td>\n",
       "      <td>0.002891</td>\n",
       "    </tr>\n",
       "    <tr>\n",
       "      <td>...</td>\n",
       "      <td>...</td>\n",
       "      <td>...</td>\n",
       "      <td>...</td>\n",
       "    </tr>\n",
       "    <tr>\n",
       "      <td>4170235</td>\n",
       "      <td>-1</td>\n",
       "      <td>21517</td>\n",
       "      <td>0.003395</td>\n",
       "    </tr>\n",
       "    <tr>\n",
       "      <td>4170236</td>\n",
       "      <td>-1</td>\n",
       "      <td>9161</td>\n",
       "      <td>0.003263</td>\n",
       "    </tr>\n",
       "    <tr>\n",
       "      <td>4170237</td>\n",
       "      <td>-1</td>\n",
       "      <td>48339</td>\n",
       "      <td>0.002492</td>\n",
       "    </tr>\n",
       "    <tr>\n",
       "      <td>4170238</td>\n",
       "      <td>-1</td>\n",
       "      <td>132704</td>\n",
       "      <td>0.003644</td>\n",
       "    </tr>\n",
       "    <tr>\n",
       "      <td>4170239</td>\n",
       "      <td>-1</td>\n",
       "      <td>87266</td>\n",
       "      <td>0.002183</td>\n",
       "    </tr>\n",
       "  </tbody>\n",
       "</table>\n",
       "<p>1097231 rows × 3 columns</p>\n",
       "</div>"
      ],
      "text/plain": [
       "               isFraud  new_card_id    pred_0\n",
       "TransactionID                                \n",
       "2987000              0       130935  0.006236\n",
       "2987001              0        47322  0.006407\n",
       "2987002              0        40076  0.005103\n",
       "2987003              0         9790  0.001506\n",
       "2987004              0       113643  0.002891\n",
       "...                ...          ...       ...\n",
       "4170235             -1        21517  0.003395\n",
       "4170236             -1         9161  0.003263\n",
       "4170237             -1        48339  0.002492\n",
       "4170238             -1       132704  0.003644\n",
       "4170239             -1        87266  0.002183\n",
       "\n",
       "[1097231 rows x 3 columns]"
      ]
     },
     "execution_count": 10,
     "metadata": {},
     "output_type": "execute_result"
    }
   ],
   "source": [
    "df"
   ]
  },
  {
   "cell_type": "code",
   "execution_count": 13,
   "metadata": {
    "ExecuteTime": {
     "end_time": "2019-09-22T20:07:23.057311Z",
     "start_time": "2019-09-22T20:07:22.769305Z"
    }
   },
   "outputs": [],
   "source": [
    "test = df[['pred_0','new_card_id']].groupby('new_card_id').shift()"
   ]
  },
  {
   "cell_type": "code",
   "execution_count": 11,
   "metadata": {
    "ExecuteTime": {
     "end_time": "2019-09-23T05:08:51.627394Z",
     "start_time": "2019-09-23T05:08:44.489240Z"
    }
   },
   "outputs": [],
   "source": [
    "shifts = {}\n",
    "for shift in range(-20,20):\n",
    "    s = df[['pred_0','new_card_id']].groupby('new_card_id').shift(shift)['pred_0']\n",
    "    shifts[shift] = s"
   ]
  },
  {
   "cell_type": "code",
   "execution_count": 12,
   "metadata": {
    "ExecuteTime": {
     "end_time": "2019-09-23T05:08:52.401440Z",
     "start_time": "2019-09-23T05:08:52.014395Z"
    }
   },
   "outputs": [
    {
     "name": "stderr",
     "output_type": "stream",
     "text": [
      "c:\\python37\\lib\\site-packages\\ipykernel_launcher.py:3: SettingWithCopyWarning: \n",
      "A value is trying to be set on a copy of a slice from a DataFrame.\n",
      "Try using .loc[row_indexer,col_indexer] = value instead\n",
      "\n",
      "See the caveats in the documentation: http://pandas.pydata.org/pandas-docs/stable/user_guide/indexing.html#returning-a-view-versus-a-copy\n",
      "  This is separate from the ipykernel package so we can avoid doing imports until\n"
     ]
    }
   ],
   "source": [
    "for k,v in shifts.items():\n",
    "    if k!=0:\n",
    "        df[f'pred_{k}']=v"
   ]
  },
  {
   "cell_type": "code",
   "execution_count": 13,
   "metadata": {
    "ExecuteTime": {
     "end_time": "2019-09-23T05:08:55.021490Z",
     "start_time": "2019-09-23T05:08:53.886434Z"
    }
   },
   "outputs": [],
   "source": [
    "df = df.fillna(-1)"
   ]
  },
  {
   "cell_type": "code",
   "execution_count": 14,
   "metadata": {
    "ExecuteTime": {
     "end_time": "2019-09-23T05:08:56.848499Z",
     "start_time": "2019-09-23T05:08:55.930478Z"
    }
   },
   "outputs": [],
   "source": [
    "X = df[df.isFraud>=0].drop(['isFraud'],axis=1)\n",
    "y = df[df.isFraud>=0]['isFraud']\n",
    "test = df[df.isFraud<0].drop(['isFraud'],axis=1)\n"
   ]
  },
  {
   "cell_type": "code",
   "execution_count": null,
   "metadata": {},
   "outputs": [],
   "source": []
  },
  {
   "cell_type": "code",
   "execution_count": 15,
   "metadata": {
    "ExecuteTime": {
     "end_time": "2019-09-23T05:08:58.698538Z",
     "start_time": "2019-09-23T05:08:58.249528Z"
    }
   },
   "outputs": [
    {
     "data": {
      "text/html": [
       "<div>\n",
       "<style scoped>\n",
       "    .dataframe tbody tr th:only-of-type {\n",
       "        vertical-align: middle;\n",
       "    }\n",
       "\n",
       "    .dataframe tbody tr th {\n",
       "        vertical-align: top;\n",
       "    }\n",
       "\n",
       "    .dataframe thead th {\n",
       "        text-align: right;\n",
       "    }\n",
       "</style>\n",
       "<table border=\"1\" class=\"dataframe\">\n",
       "  <thead>\n",
       "    <tr style=\"text-align: right;\">\n",
       "      <th></th>\n",
       "      <th>new_card_id</th>\n",
       "      <th>pred_0</th>\n",
       "      <th>pred_-20</th>\n",
       "      <th>pred_-19</th>\n",
       "      <th>pred_-18</th>\n",
       "      <th>pred_-17</th>\n",
       "      <th>pred_-16</th>\n",
       "      <th>pred_-15</th>\n",
       "      <th>pred_-14</th>\n",
       "      <th>pred_-13</th>\n",
       "      <th>...</th>\n",
       "      <th>pred_10</th>\n",
       "      <th>pred_11</th>\n",
       "      <th>pred_12</th>\n",
       "      <th>pred_13</th>\n",
       "      <th>pred_14</th>\n",
       "      <th>pred_15</th>\n",
       "      <th>pred_16</th>\n",
       "      <th>pred_17</th>\n",
       "      <th>pred_18</th>\n",
       "      <th>pred_19</th>\n",
       "    </tr>\n",
       "    <tr>\n",
       "      <th>TransactionID</th>\n",
       "      <th></th>\n",
       "      <th></th>\n",
       "      <th></th>\n",
       "      <th></th>\n",
       "      <th></th>\n",
       "      <th></th>\n",
       "      <th></th>\n",
       "      <th></th>\n",
       "      <th></th>\n",
       "      <th></th>\n",
       "      <th></th>\n",
       "      <th></th>\n",
       "      <th></th>\n",
       "      <th></th>\n",
       "      <th></th>\n",
       "      <th></th>\n",
       "      <th></th>\n",
       "      <th></th>\n",
       "      <th></th>\n",
       "      <th></th>\n",
       "      <th></th>\n",
       "    </tr>\n",
       "  </thead>\n",
       "  <tbody>\n",
       "    <tr>\n",
       "      <td>2987000</td>\n",
       "      <td>130935</td>\n",
       "      <td>0.006236</td>\n",
       "      <td>-1.000000</td>\n",
       "      <td>-1.000000</td>\n",
       "      <td>-1.000000</td>\n",
       "      <td>-1.000000</td>\n",
       "      <td>-1.000000</td>\n",
       "      <td>-1.000000</td>\n",
       "      <td>-1.000000</td>\n",
       "      <td>-1.000000</td>\n",
       "      <td>...</td>\n",
       "      <td>-1.000000</td>\n",
       "      <td>-1.000000</td>\n",
       "      <td>-1.000000</td>\n",
       "      <td>-1.000000</td>\n",
       "      <td>-1.000000</td>\n",
       "      <td>-1.000000</td>\n",
       "      <td>-1.000000</td>\n",
       "      <td>-1.000000</td>\n",
       "      <td>-1.000000</td>\n",
       "      <td>-1.000000</td>\n",
       "    </tr>\n",
       "    <tr>\n",
       "      <td>2987001</td>\n",
       "      <td>47322</td>\n",
       "      <td>0.006407</td>\n",
       "      <td>0.007327</td>\n",
       "      <td>0.001376</td>\n",
       "      <td>0.001493</td>\n",
       "      <td>0.001002</td>\n",
       "      <td>0.130857</td>\n",
       "      <td>0.035905</td>\n",
       "      <td>0.019633</td>\n",
       "      <td>0.010979</td>\n",
       "      <td>...</td>\n",
       "      <td>-1.000000</td>\n",
       "      <td>-1.000000</td>\n",
       "      <td>-1.000000</td>\n",
       "      <td>-1.000000</td>\n",
       "      <td>-1.000000</td>\n",
       "      <td>-1.000000</td>\n",
       "      <td>-1.000000</td>\n",
       "      <td>-1.000000</td>\n",
       "      <td>-1.000000</td>\n",
       "      <td>-1.000000</td>\n",
       "    </tr>\n",
       "    <tr>\n",
       "      <td>2987002</td>\n",
       "      <td>40076</td>\n",
       "      <td>0.005103</td>\n",
       "      <td>0.000293</td>\n",
       "      <td>0.000582</td>\n",
       "      <td>0.004512</td>\n",
       "      <td>0.001770</td>\n",
       "      <td>0.000996</td>\n",
       "      <td>0.001110</td>\n",
       "      <td>0.001337</td>\n",
       "      <td>0.000878</td>\n",
       "      <td>...</td>\n",
       "      <td>-1.000000</td>\n",
       "      <td>-1.000000</td>\n",
       "      <td>-1.000000</td>\n",
       "      <td>-1.000000</td>\n",
       "      <td>-1.000000</td>\n",
       "      <td>-1.000000</td>\n",
       "      <td>-1.000000</td>\n",
       "      <td>-1.000000</td>\n",
       "      <td>-1.000000</td>\n",
       "      <td>-1.000000</td>\n",
       "    </tr>\n",
       "    <tr>\n",
       "      <td>2987003</td>\n",
       "      <td>9790</td>\n",
       "      <td>0.001506</td>\n",
       "      <td>0.001640</td>\n",
       "      <td>0.001096</td>\n",
       "      <td>0.001584</td>\n",
       "      <td>0.006199</td>\n",
       "      <td>0.008766</td>\n",
       "      <td>0.008774</td>\n",
       "      <td>0.002149</td>\n",
       "      <td>0.001472</td>\n",
       "      <td>...</td>\n",
       "      <td>-1.000000</td>\n",
       "      <td>-1.000000</td>\n",
       "      <td>-1.000000</td>\n",
       "      <td>-1.000000</td>\n",
       "      <td>-1.000000</td>\n",
       "      <td>-1.000000</td>\n",
       "      <td>-1.000000</td>\n",
       "      <td>-1.000000</td>\n",
       "      <td>-1.000000</td>\n",
       "      <td>-1.000000</td>\n",
       "    </tr>\n",
       "    <tr>\n",
       "      <td>2987004</td>\n",
       "      <td>113643</td>\n",
       "      <td>0.002891</td>\n",
       "      <td>-1.000000</td>\n",
       "      <td>-1.000000</td>\n",
       "      <td>-1.000000</td>\n",
       "      <td>-1.000000</td>\n",
       "      <td>-1.000000</td>\n",
       "      <td>0.027184</td>\n",
       "      <td>0.000668</td>\n",
       "      <td>0.001350</td>\n",
       "      <td>...</td>\n",
       "      <td>-1.000000</td>\n",
       "      <td>-1.000000</td>\n",
       "      <td>-1.000000</td>\n",
       "      <td>-1.000000</td>\n",
       "      <td>-1.000000</td>\n",
       "      <td>-1.000000</td>\n",
       "      <td>-1.000000</td>\n",
       "      <td>-1.000000</td>\n",
       "      <td>-1.000000</td>\n",
       "      <td>-1.000000</td>\n",
       "    </tr>\n",
       "    <tr>\n",
       "      <td>...</td>\n",
       "      <td>...</td>\n",
       "      <td>...</td>\n",
       "      <td>...</td>\n",
       "      <td>...</td>\n",
       "      <td>...</td>\n",
       "      <td>...</td>\n",
       "      <td>...</td>\n",
       "      <td>...</td>\n",
       "      <td>...</td>\n",
       "      <td>...</td>\n",
       "      <td>...</td>\n",
       "      <td>...</td>\n",
       "      <td>...</td>\n",
       "      <td>...</td>\n",
       "      <td>...</td>\n",
       "      <td>...</td>\n",
       "      <td>...</td>\n",
       "      <td>...</td>\n",
       "      <td>...</td>\n",
       "      <td>...</td>\n",
       "      <td>...</td>\n",
       "    </tr>\n",
       "    <tr>\n",
       "      <td>3577535</td>\n",
       "      <td>36490</td>\n",
       "      <td>0.000585</td>\n",
       "      <td>-1.000000</td>\n",
       "      <td>-1.000000</td>\n",
       "      <td>-1.000000</td>\n",
       "      <td>-1.000000</td>\n",
       "      <td>-1.000000</td>\n",
       "      <td>-1.000000</td>\n",
       "      <td>-1.000000</td>\n",
       "      <td>-1.000000</td>\n",
       "      <td>...</td>\n",
       "      <td>-1.000000</td>\n",
       "      <td>-1.000000</td>\n",
       "      <td>-1.000000</td>\n",
       "      <td>-1.000000</td>\n",
       "      <td>-1.000000</td>\n",
       "      <td>-1.000000</td>\n",
       "      <td>-1.000000</td>\n",
       "      <td>-1.000000</td>\n",
       "      <td>-1.000000</td>\n",
       "      <td>-1.000000</td>\n",
       "    </tr>\n",
       "    <tr>\n",
       "      <td>3577536</td>\n",
       "      <td>115832</td>\n",
       "      <td>0.002893</td>\n",
       "      <td>-1.000000</td>\n",
       "      <td>-1.000000</td>\n",
       "      <td>-1.000000</td>\n",
       "      <td>-1.000000</td>\n",
       "      <td>-1.000000</td>\n",
       "      <td>-1.000000</td>\n",
       "      <td>-1.000000</td>\n",
       "      <td>-1.000000</td>\n",
       "      <td>...</td>\n",
       "      <td>-1.000000</td>\n",
       "      <td>-1.000000</td>\n",
       "      <td>-1.000000</td>\n",
       "      <td>-1.000000</td>\n",
       "      <td>-1.000000</td>\n",
       "      <td>-1.000000</td>\n",
       "      <td>-1.000000</td>\n",
       "      <td>-1.000000</td>\n",
       "      <td>-1.000000</td>\n",
       "      <td>-1.000000</td>\n",
       "    </tr>\n",
       "    <tr>\n",
       "      <td>3577537</td>\n",
       "      <td>46747</td>\n",
       "      <td>0.000742</td>\n",
       "      <td>0.002706</td>\n",
       "      <td>0.578282</td>\n",
       "      <td>0.071343</td>\n",
       "      <td>0.006847</td>\n",
       "      <td>0.001905</td>\n",
       "      <td>0.002201</td>\n",
       "      <td>0.003809</td>\n",
       "      <td>0.005526</td>\n",
       "      <td>...</td>\n",
       "      <td>0.002019</td>\n",
       "      <td>0.001371</td>\n",
       "      <td>0.000888</td>\n",
       "      <td>0.003881</td>\n",
       "      <td>0.003739</td>\n",
       "      <td>0.001428</td>\n",
       "      <td>0.007937</td>\n",
       "      <td>0.006885</td>\n",
       "      <td>0.003876</td>\n",
       "      <td>0.001489</td>\n",
       "    </tr>\n",
       "    <tr>\n",
       "      <td>3577538</td>\n",
       "      <td>18331</td>\n",
       "      <td>0.012832</td>\n",
       "      <td>-1.000000</td>\n",
       "      <td>-1.000000</td>\n",
       "      <td>-1.000000</td>\n",
       "      <td>-1.000000</td>\n",
       "      <td>-1.000000</td>\n",
       "      <td>-1.000000</td>\n",
       "      <td>-1.000000</td>\n",
       "      <td>-1.000000</td>\n",
       "      <td>...</td>\n",
       "      <td>0.012428</td>\n",
       "      <td>0.007156</td>\n",
       "      <td>0.013970</td>\n",
       "      <td>0.038663</td>\n",
       "      <td>0.046930</td>\n",
       "      <td>0.037549</td>\n",
       "      <td>0.037548</td>\n",
       "      <td>0.073270</td>\n",
       "      <td>0.039437</td>\n",
       "      <td>-1.000000</td>\n",
       "    </tr>\n",
       "    <tr>\n",
       "      <td>3577539</td>\n",
       "      <td>3141</td>\n",
       "      <td>0.001725</td>\n",
       "      <td>0.006250</td>\n",
       "      <td>0.002700</td>\n",
       "      <td>0.002216</td>\n",
       "      <td>0.003407</td>\n",
       "      <td>0.024850</td>\n",
       "      <td>0.001420</td>\n",
       "      <td>0.001996</td>\n",
       "      <td>0.023883</td>\n",
       "      <td>...</td>\n",
       "      <td>0.002964</td>\n",
       "      <td>0.000238</td>\n",
       "      <td>0.157338</td>\n",
       "      <td>0.100560</td>\n",
       "      <td>0.935843</td>\n",
       "      <td>0.002376</td>\n",
       "      <td>0.077471</td>\n",
       "      <td>0.001727</td>\n",
       "      <td>0.033351</td>\n",
       "      <td>0.000870</td>\n",
       "    </tr>\n",
       "  </tbody>\n",
       "</table>\n",
       "<p>590540 rows × 41 columns</p>\n",
       "</div>"
      ],
      "text/plain": [
       "               new_card_id    pred_0  pred_-20  pred_-19  pred_-18  pred_-17  \\\n",
       "TransactionID                                                                  \n",
       "2987000             130935  0.006236 -1.000000 -1.000000 -1.000000 -1.000000   \n",
       "2987001              47322  0.006407  0.007327  0.001376  0.001493  0.001002   \n",
       "2987002              40076  0.005103  0.000293  0.000582  0.004512  0.001770   \n",
       "2987003               9790  0.001506  0.001640  0.001096  0.001584  0.006199   \n",
       "2987004             113643  0.002891 -1.000000 -1.000000 -1.000000 -1.000000   \n",
       "...                    ...       ...       ...       ...       ...       ...   \n",
       "3577535              36490  0.000585 -1.000000 -1.000000 -1.000000 -1.000000   \n",
       "3577536             115832  0.002893 -1.000000 -1.000000 -1.000000 -1.000000   \n",
       "3577537              46747  0.000742  0.002706  0.578282  0.071343  0.006847   \n",
       "3577538              18331  0.012832 -1.000000 -1.000000 -1.000000 -1.000000   \n",
       "3577539               3141  0.001725  0.006250  0.002700  0.002216  0.003407   \n",
       "\n",
       "               pred_-16  pred_-15  pred_-14  pred_-13  ...   pred_10  \\\n",
       "TransactionID                                          ...             \n",
       "2987000       -1.000000 -1.000000 -1.000000 -1.000000  ... -1.000000   \n",
       "2987001        0.130857  0.035905  0.019633  0.010979  ... -1.000000   \n",
       "2987002        0.000996  0.001110  0.001337  0.000878  ... -1.000000   \n",
       "2987003        0.008766  0.008774  0.002149  0.001472  ... -1.000000   \n",
       "2987004       -1.000000  0.027184  0.000668  0.001350  ... -1.000000   \n",
       "...                 ...       ...       ...       ...  ...       ...   \n",
       "3577535       -1.000000 -1.000000 -1.000000 -1.000000  ... -1.000000   \n",
       "3577536       -1.000000 -1.000000 -1.000000 -1.000000  ... -1.000000   \n",
       "3577537        0.001905  0.002201  0.003809  0.005526  ...  0.002019   \n",
       "3577538       -1.000000 -1.000000 -1.000000 -1.000000  ...  0.012428   \n",
       "3577539        0.024850  0.001420  0.001996  0.023883  ...  0.002964   \n",
       "\n",
       "                pred_11   pred_12   pred_13   pred_14   pred_15   pred_16  \\\n",
       "TransactionID                                                               \n",
       "2987000       -1.000000 -1.000000 -1.000000 -1.000000 -1.000000 -1.000000   \n",
       "2987001       -1.000000 -1.000000 -1.000000 -1.000000 -1.000000 -1.000000   \n",
       "2987002       -1.000000 -1.000000 -1.000000 -1.000000 -1.000000 -1.000000   \n",
       "2987003       -1.000000 -1.000000 -1.000000 -1.000000 -1.000000 -1.000000   \n",
       "2987004       -1.000000 -1.000000 -1.000000 -1.000000 -1.000000 -1.000000   \n",
       "...                 ...       ...       ...       ...       ...       ...   \n",
       "3577535       -1.000000 -1.000000 -1.000000 -1.000000 -1.000000 -1.000000   \n",
       "3577536       -1.000000 -1.000000 -1.000000 -1.000000 -1.000000 -1.000000   \n",
       "3577537        0.001371  0.000888  0.003881  0.003739  0.001428  0.007937   \n",
       "3577538        0.007156  0.013970  0.038663  0.046930  0.037549  0.037548   \n",
       "3577539        0.000238  0.157338  0.100560  0.935843  0.002376  0.077471   \n",
       "\n",
       "                pred_17   pred_18   pred_19  \n",
       "TransactionID                                \n",
       "2987000       -1.000000 -1.000000 -1.000000  \n",
       "2987001       -1.000000 -1.000000 -1.000000  \n",
       "2987002       -1.000000 -1.000000 -1.000000  \n",
       "2987003       -1.000000 -1.000000 -1.000000  \n",
       "2987004       -1.000000 -1.000000 -1.000000  \n",
       "...                 ...       ...       ...  \n",
       "3577535       -1.000000 -1.000000 -1.000000  \n",
       "3577536       -1.000000 -1.000000 -1.000000  \n",
       "3577537        0.006885  0.003876  0.001489  \n",
       "3577538        0.073270  0.039437 -1.000000  \n",
       "3577539        0.001727  0.033351  0.000870  \n",
       "\n",
       "[590540 rows x 41 columns]"
      ]
     },
     "execution_count": 15,
     "metadata": {},
     "output_type": "execute_result"
    }
   ],
   "source": [
    "X"
   ]
  },
  {
   "cell_type": "code",
   "execution_count": 19,
   "metadata": {
    "ExecuteTime": {
     "end_time": "2019-09-22T20:09:08.692517Z",
     "start_time": "2019-09-22T20:09:08.569570Z"
    }
   },
   "outputs": [],
   "source": [
    "categorical_features = [c for c, col in enumerate(X.columns) if col in ['new_card_id']]\n"
   ]
  },
  {
   "cell_type": "code",
   "execution_count": 16,
   "metadata": {
    "ExecuteTime": {
     "end_time": "2019-09-23T05:09:07.225117Z",
     "start_time": "2019-09-23T05:09:07.103549Z"
    }
   },
   "outputs": [],
   "source": [
    "params = {'num_leaves': 200,\n",
    "          'min_child_weight': 0.03454472573214212,\n",
    "          'feature_fraction': 0.3797454081646243,\n",
    "          'bagging_fraction': 0.4181193142567742,\n",
    "          'min_data_in_leaf': 106,\n",
    "          'objective': 'binary',\n",
    "          'max_depth': -1,\n",
    "          'max_bin': 50,\n",
    "          'learning_rate': 0.02,\n",
    "          \"boosting_type\": \"gbdt\",\n",
    "          \"bagging_seed\": 11,\n",
    "          \"metric\": 'auc',\n",
    "          \"verbosity\": -1,\n",
    "          'reg_alpha': 0.5899927210061127,\n",
    "          'reg_lambda': 0.8485237330340494,\n",
    "          'random_state': 47, \n",
    "#           'categorical_feature': categorical_features,\n",
    "         }\n"
   ]
  },
  {
   "cell_type": "code",
   "execution_count": 17,
   "metadata": {
    "ExecuteTime": {
     "end_time": "2019-09-23T05:09:09.384267Z",
     "start_time": "2019-09-23T05:09:09.169938Z"
    }
   },
   "outputs": [],
   "source": [
    "from sklearn.model_selection import KFold\n",
    "n_fold = 5\n",
    "# folds = TimeSeriesSplit(n_splits=n_fold)\n",
    "folds = KFold(n_splits=5)"
   ]
  },
  {
   "cell_type": "code",
   "execution_count": 18,
   "metadata": {
    "ExecuteTime": {
     "end_time": "2019-09-23T05:09:16.470313Z",
     "start_time": "2019-09-23T05:09:10.785253Z"
    }
   },
   "outputs": [
    {
     "name": "stderr",
     "output_type": "stream",
     "text": [
      "Using TensorFlow backend.\n",
      "c:\\python37\\lib\\site-packages\\tensorflow\\python\\framework\\dtypes.py:516: FutureWarning: Passing (type, 1) or '1type' as a synonym of type is deprecated; in a future version of numpy, it will be understood as (type, (1,)) / '(1,)type'.\n",
      "  _np_qint8 = np.dtype([(\"qint8\", np.int8, 1)])\n",
      "c:\\python37\\lib\\site-packages\\tensorflow\\python\\framework\\dtypes.py:517: FutureWarning: Passing (type, 1) or '1type' as a synonym of type is deprecated; in a future version of numpy, it will be understood as (type, (1,)) / '(1,)type'.\n",
      "  _np_quint8 = np.dtype([(\"quint8\", np.uint8, 1)])\n",
      "c:\\python37\\lib\\site-packages\\tensorflow\\python\\framework\\dtypes.py:518: FutureWarning: Passing (type, 1) or '1type' as a synonym of type is deprecated; in a future version of numpy, it will be understood as (type, (1,)) / '(1,)type'.\n",
      "  _np_qint16 = np.dtype([(\"qint16\", np.int16, 1)])\n",
      "c:\\python37\\lib\\site-packages\\tensorflow\\python\\framework\\dtypes.py:519: FutureWarning: Passing (type, 1) or '1type' as a synonym of type is deprecated; in a future version of numpy, it will be understood as (type, (1,)) / '(1,)type'.\n",
      "  _np_quint16 = np.dtype([(\"quint16\", np.uint16, 1)])\n",
      "c:\\python37\\lib\\site-packages\\tensorflow\\python\\framework\\dtypes.py:520: FutureWarning: Passing (type, 1) or '1type' as a synonym of type is deprecated; in a future version of numpy, it will be understood as (type, (1,)) / '(1,)type'.\n",
      "  _np_qint32 = np.dtype([(\"qint32\", np.int32, 1)])\n",
      "c:\\python37\\lib\\site-packages\\tensorflow\\python\\framework\\dtypes.py:525: FutureWarning: Passing (type, 1) or '1type' as a synonym of type is deprecated; in a future version of numpy, it will be understood as (type, (1,)) / '(1,)type'.\n",
      "  np_resource = np.dtype([(\"resource\", np.ubyte, 1)])\n",
      "c:\\python37\\lib\\site-packages\\tensorboard\\compat\\tensorflow_stub\\dtypes.py:541: FutureWarning: Passing (type, 1) or '1type' as a synonym of type is deprecated; in a future version of numpy, it will be understood as (type, (1,)) / '(1,)type'.\n",
      "  _np_qint8 = np.dtype([(\"qint8\", np.int8, 1)])\n",
      "c:\\python37\\lib\\site-packages\\tensorboard\\compat\\tensorflow_stub\\dtypes.py:542: FutureWarning: Passing (type, 1) or '1type' as a synonym of type is deprecated; in a future version of numpy, it will be understood as (type, (1,)) / '(1,)type'.\n",
      "  _np_quint8 = np.dtype([(\"quint8\", np.uint8, 1)])\n",
      "c:\\python37\\lib\\site-packages\\tensorboard\\compat\\tensorflow_stub\\dtypes.py:543: FutureWarning: Passing (type, 1) or '1type' as a synonym of type is deprecated; in a future version of numpy, it will be understood as (type, (1,)) / '(1,)type'.\n",
      "  _np_qint16 = np.dtype([(\"qint16\", np.int16, 1)])\n",
      "c:\\python37\\lib\\site-packages\\tensorboard\\compat\\tensorflow_stub\\dtypes.py:544: FutureWarning: Passing (type, 1) or '1type' as a synonym of type is deprecated; in a future version of numpy, it will be understood as (type, (1,)) / '(1,)type'.\n",
      "  _np_quint16 = np.dtype([(\"quint16\", np.uint16, 1)])\n",
      "c:\\python37\\lib\\site-packages\\tensorboard\\compat\\tensorflow_stub\\dtypes.py:545: FutureWarning: Passing (type, 1) or '1type' as a synonym of type is deprecated; in a future version of numpy, it will be understood as (type, (1,)) / '(1,)type'.\n",
      "  _np_qint32 = np.dtype([(\"qint32\", np.int32, 1)])\n",
      "c:\\python37\\lib\\site-packages\\tensorboard\\compat\\tensorflow_stub\\dtypes.py:550: FutureWarning: Passing (type, 1) or '1type' as a synonym of type is deprecated; in a future version of numpy, it will be understood as (type, (1,)) / '(1,)type'.\n",
      "  np_resource = np.dtype([(\"resource\", np.ubyte, 1)])\n"
     ]
    }
   ],
   "source": [
    "from BayDS.lib.training import *"
   ]
  },
  {
   "cell_type": "code",
   "execution_count": 19,
   "metadata": {
    "ExecuteTime": {
     "end_time": "2019-09-23T05:39:01.603049Z",
     "start_time": "2019-09-23T05:09:18.262976Z"
    }
   },
   "outputs": [
    {
     "name": "stdout",
     "output_type": "stream",
     "text": [
      "Fold 1 started at Mon Sep 23 08:09:18 2019\n",
      "Training until validation scores don't improve for 1000 rounds.\n",
      "[100]\ttraining's auc: 0.957332\ttraining's auc: 0.957333\tvalid_1's auc: 0.91286\tvalid_1's auc: 0.91286\n",
      "[200]\ttraining's auc: 0.967589\ttraining's auc: 0.967589\tvalid_1's auc: 0.916822\tvalid_1's auc: 0.916822\n",
      "[300]\ttraining's auc: 0.974684\ttraining's auc: 0.974684\tvalid_1's auc: 0.918967\tvalid_1's auc: 0.918966\n",
      "[400]\ttraining's auc: 0.979569\ttraining's auc: 0.979569\tvalid_1's auc: 0.919828\tvalid_1's auc: 0.919828\n",
      "[500]\ttraining's auc: 0.982876\ttraining's auc: 0.982876\tvalid_1's auc: 0.920135\tvalid_1's auc: 0.920135\n",
      "[600]\ttraining's auc: 0.985563\ttraining's auc: 0.985563\tvalid_1's auc: 0.920385\tvalid_1's auc: 0.920385\n",
      "[700]\ttraining's auc: 0.987615\ttraining's auc: 0.987615\tvalid_1's auc: 0.920495\tvalid_1's auc: 0.920495\n",
      "[800]\ttraining's auc: 0.988902\ttraining's auc: 0.988902\tvalid_1's auc: 0.920395\tvalid_1's auc: 0.920395\n",
      "[900]\ttraining's auc: 0.990081\ttraining's auc: 0.990081\tvalid_1's auc: 0.920653\tvalid_1's auc: 0.920653\n",
      "[1000]\ttraining's auc: 0.990893\ttraining's auc: 0.990893\tvalid_1's auc: 0.920795\tvalid_1's auc: 0.920794\n",
      "[1100]\ttraining's auc: 0.991674\ttraining's auc: 0.991674\tvalid_1's auc: 0.920879\tvalid_1's auc: 0.920879\n",
      "[1200]\ttraining's auc: 0.99237\ttraining's auc: 0.99237\tvalid_1's auc: 0.920896\tvalid_1's auc: 0.920896\n",
      "[1300]\ttraining's auc: 0.992944\ttraining's auc: 0.992944\tvalid_1's auc: 0.920686\tvalid_1's auc: 0.920686\n",
      "[1400]\ttraining's auc: 0.993551\ttraining's auc: 0.993551\tvalid_1's auc: 0.920544\tvalid_1's auc: 0.920544\n",
      "[1500]\ttraining's auc: 0.994066\ttraining's auc: 0.994066\tvalid_1's auc: 0.920435\tvalid_1's auc: 0.920435\n",
      "[1600]\ttraining's auc: 0.994512\ttraining's auc: 0.994512\tvalid_1's auc: 0.920157\tvalid_1's auc: 0.920157\n",
      "[1700]\ttraining's auc: 0.994909\ttraining's auc: 0.994909\tvalid_1's auc: 0.919913\tvalid_1's auc: 0.919913\n",
      "[1800]\ttraining's auc: 0.995215\ttraining's auc: 0.995215\tvalid_1's auc: 0.919706\tvalid_1's auc: 0.919706\n",
      "[1900]\ttraining's auc: 0.995572\ttraining's auc: 0.995572\tvalid_1's auc: 0.91949\tvalid_1's auc: 0.91949\n",
      "[2000]\ttraining's auc: 0.996\ttraining's auc: 0.996\tvalid_1's auc: 0.919279\tvalid_1's auc: 0.919279\n",
      "[2100]\ttraining's auc: 0.996309\ttraining's auc: 0.996309\tvalid_1's auc: 0.919083\tvalid_1's auc: 0.919083\n",
      "Early stopping, best iteration is:\n",
      "[1147]\ttraining's auc: 0.991999\ttraining's auc: 0.991999\tvalid_1's auc: 0.920966\tvalid_1's auc: 0.920966\n",
      "Fold 2 started at Mon Sep 23 08:17:31 2019\n",
      "Training until validation scores don't improve for 1000 rounds.\n",
      "[100]\ttraining's auc: 0.955291\ttraining's auc: 0.955291\tvalid_1's auc: 0.933922\tvalid_1's auc: 0.933923\n",
      "[200]\ttraining's auc: 0.966441\ttraining's auc: 0.966441\tvalid_1's auc: 0.938572\tvalid_1's auc: 0.938572\n",
      "[300]\ttraining's auc: 0.973721\ttraining's auc: 0.973721\tvalid_1's auc: 0.941022\tvalid_1's auc: 0.941022\n",
      "[400]\ttraining's auc: 0.979233\ttraining's auc: 0.979233\tvalid_1's auc: 0.942109\tvalid_1's auc: 0.942109\n",
      "[500]\ttraining's auc: 0.982926\ttraining's auc: 0.982926\tvalid_1's auc: 0.942072\tvalid_1's auc: 0.942072\n",
      "[600]\ttraining's auc: 0.986094\ttraining's auc: 0.986094\tvalid_1's auc: 0.942082\tvalid_1's auc: 0.942082\n",
      "[700]\ttraining's auc: 0.988093\ttraining's auc: 0.988093\tvalid_1's auc: 0.941968\tvalid_1's auc: 0.941968\n",
      "[800]\ttraining's auc: 0.989548\ttraining's auc: 0.989548\tvalid_1's auc: 0.941848\tvalid_1's auc: 0.941848\n",
      "[900]\ttraining's auc: 0.990612\ttraining's auc: 0.990612\tvalid_1's auc: 0.94141\tvalid_1's auc: 0.94141\n",
      "[1000]\ttraining's auc: 0.991502\ttraining's auc: 0.991502\tvalid_1's auc: 0.940905\tvalid_1's auc: 0.940905\n",
      "[1100]\ttraining's auc: 0.992276\ttraining's auc: 0.992276\tvalid_1's auc: 0.94042\tvalid_1's auc: 0.94042\n",
      "[1200]\ttraining's auc: 0.992896\ttraining's auc: 0.992896\tvalid_1's auc: 0.9399\tvalid_1's auc: 0.9399\n",
      "[1300]\ttraining's auc: 0.993466\ttraining's auc: 0.993466\tvalid_1's auc: 0.939436\tvalid_1's auc: 0.939436\n",
      "[1400]\ttraining's auc: 0.993886\ttraining's auc: 0.993886\tvalid_1's auc: 0.938808\tvalid_1's auc: 0.938808\n",
      "[1500]\ttraining's auc: 0.99432\ttraining's auc: 0.99432\tvalid_1's auc: 0.938098\tvalid_1's auc: 0.938098\n",
      "Early stopping, best iteration is:\n",
      "[584]\ttraining's auc: 0.98555\ttraining's auc: 0.98555\tvalid_1's auc: 0.942149\tvalid_1's auc: 0.942149\n",
      "Fold 3 started at Mon Sep 23 08:23:27 2019\n",
      "Training until validation scores don't improve for 1000 rounds.\n",
      "[100]\ttraining's auc: 0.954984\ttraining's auc: 0.954984\tvalid_1's auc: 0.936333\tvalid_1's auc: 0.936333\n",
      "[200]\ttraining's auc: 0.965616\ttraining's auc: 0.965616\tvalid_1's auc: 0.938964\tvalid_1's auc: 0.938963\n",
      "[300]\ttraining's auc: 0.973059\ttraining's auc: 0.973059\tvalid_1's auc: 0.94001\tvalid_1's auc: 0.94001\n",
      "[400]\ttraining's auc: 0.978649\ttraining's auc: 0.978648\tvalid_1's auc: 0.939875\tvalid_1's auc: 0.939875\n",
      "[500]\ttraining's auc: 0.982287\ttraining's auc: 0.982287\tvalid_1's auc: 0.939696\tvalid_1's auc: 0.939696\n",
      "[600]\ttraining's auc: 0.985448\ttraining's auc: 0.985448\tvalid_1's auc: 0.93964\tvalid_1's auc: 0.93964\n",
      "[700]\ttraining's auc: 0.987492\ttraining's auc: 0.987492\tvalid_1's auc: 0.939447\tvalid_1's auc: 0.939447\n",
      "[800]\ttraining's auc: 0.988988\ttraining's auc: 0.988988\tvalid_1's auc: 0.939119\tvalid_1's auc: 0.939118\n",
      "[900]\ttraining's auc: 0.990119\ttraining's auc: 0.990118\tvalid_1's auc: 0.938661\tvalid_1's auc: 0.938661\n",
      "[1000]\ttraining's auc: 0.991116\ttraining's auc: 0.991116\tvalid_1's auc: 0.93822\tvalid_1's auc: 0.93822\n",
      "[1100]\ttraining's auc: 0.991951\ttraining's auc: 0.991951\tvalid_1's auc: 0.937794\tvalid_1's auc: 0.937794\n",
      "[1200]\ttraining's auc: 0.992553\ttraining's auc: 0.992553\tvalid_1's auc: 0.937192\tvalid_1's auc: 0.937192\n",
      "[1300]\ttraining's auc: 0.993056\ttraining's auc: 0.993056\tvalid_1's auc: 0.936586\tvalid_1's auc: 0.936586\n",
      "Early stopping, best iteration is:\n",
      "[324]\ttraining's auc: 0.974495\ttraining's auc: 0.974495\tvalid_1's auc: 0.940077\tvalid_1's auc: 0.940077\n",
      "Fold 4 started at Mon Sep 23 08:28:36 2019\n",
      "Training until validation scores don't improve for 1000 rounds.\n",
      "[100]\ttraining's auc: 0.951879\ttraining's auc: 0.951879\tvalid_1's auc: 0.953955\tvalid_1's auc: 0.953955\n",
      "[200]\ttraining's auc: 0.963374\ttraining's auc: 0.963374\tvalid_1's auc: 0.955545\tvalid_1's auc: 0.955545\n",
      "[300]\ttraining's auc: 0.971183\ttraining's auc: 0.971183\tvalid_1's auc: 0.956138\tvalid_1's auc: 0.956138\n",
      "[400]\ttraining's auc: 0.977491\ttraining's auc: 0.977491\tvalid_1's auc: 0.956055\tvalid_1's auc: 0.956055\n",
      "[500]\ttraining's auc: 0.981314\ttraining's auc: 0.981315\tvalid_1's auc: 0.955746\tvalid_1's auc: 0.955746\n",
      "[600]\ttraining's auc: 0.984541\ttraining's auc: 0.984541\tvalid_1's auc: 0.955573\tvalid_1's auc: 0.955573\n",
      "[700]\ttraining's auc: 0.986739\ttraining's auc: 0.986739\tvalid_1's auc: 0.955243\tvalid_1's auc: 0.955243\n",
      "[800]\ttraining's auc: 0.988352\ttraining's auc: 0.988352\tvalid_1's auc: 0.955013\tvalid_1's auc: 0.955013\n",
      "[900]\ttraining's auc: 0.989501\ttraining's auc: 0.989501\tvalid_1's auc: 0.954674\tvalid_1's auc: 0.954674\n",
      "[1000]\ttraining's auc: 0.990376\ttraining's auc: 0.990376\tvalid_1's auc: 0.954146\tvalid_1's auc: 0.954146\n",
      "[1100]\ttraining's auc: 0.991206\ttraining's auc: 0.991206\tvalid_1's auc: 0.953607\tvalid_1's auc: 0.953607\n",
      "[1200]\ttraining's auc: 0.991896\ttraining's auc: 0.991896\tvalid_1's auc: 0.953002\tvalid_1's auc: 0.953002\n",
      "[1300]\ttraining's auc: 0.992525\ttraining's auc: 0.992525\tvalid_1's auc: 0.952547\tvalid_1's auc: 0.952547\n",
      "Early stopping, best iteration is:\n",
      "[333]\ttraining's auc: 0.973442\ttraining's auc: 0.973442\tvalid_1's auc: 0.956209\tvalid_1's auc: 0.956209\n",
      "Fold 5 started at Mon Sep 23 08:33:40 2019\n",
      "Training until validation scores don't improve for 1000 rounds.\n",
      "[100]\ttraining's auc: 0.953839\ttraining's auc: 0.953839\tvalid_1's auc: 0.937833\tvalid_1's auc: 0.937833\n",
      "[200]\ttraining's auc: 0.965265\ttraining's auc: 0.965265\tvalid_1's auc: 0.940956\tvalid_1's auc: 0.940956\n",
      "[300]\ttraining's auc: 0.972526\ttraining's auc: 0.972526\tvalid_1's auc: 0.942404\tvalid_1's auc: 0.942404\n",
      "[400]\ttraining's auc: 0.977916\ttraining's auc: 0.977916\tvalid_1's auc: 0.942739\tvalid_1's auc: 0.942739\n",
      "[500]\ttraining's auc: 0.981948\ttraining's auc: 0.981948\tvalid_1's auc: 0.942648\tvalid_1's auc: 0.942648\n",
      "[600]\ttraining's auc: 0.984893\ttraining's auc: 0.984893\tvalid_1's auc: 0.942518\tvalid_1's auc: 0.942518\n",
      "[700]\ttraining's auc: 0.986924\ttraining's auc: 0.986924\tvalid_1's auc: 0.942287\tvalid_1's auc: 0.942287\n"
     ]
    },
    {
     "name": "stdout",
     "output_type": "stream",
     "text": [
      "[800]\ttraining's auc: 0.988315\ttraining's auc: 0.988316\tvalid_1's auc: 0.941991\tvalid_1's auc: 0.941991\n",
      "[900]\ttraining's auc: 0.989408\ttraining's auc: 0.989408\tvalid_1's auc: 0.941628\tvalid_1's auc: 0.941629\n",
      "[1000]\ttraining's auc: 0.990406\ttraining's auc: 0.990406\tvalid_1's auc: 0.941278\tvalid_1's auc: 0.941278\n",
      "[1100]\ttraining's auc: 0.991288\ttraining's auc: 0.991288\tvalid_1's auc: 0.940856\tvalid_1's auc: 0.940856\n",
      "[1200]\ttraining's auc: 0.992061\ttraining's auc: 0.992061\tvalid_1's auc: 0.940422\tvalid_1's auc: 0.940422\n",
      "[1300]\ttraining's auc: 0.992752\ttraining's auc: 0.992752\tvalid_1's auc: 0.939865\tvalid_1's auc: 0.939865\n",
      "[1400]\ttraining's auc: 0.993292\ttraining's auc: 0.993292\tvalid_1's auc: 0.939375\tvalid_1's auc: 0.939375\n",
      "Early stopping, best iteration is:\n",
      "[421]\ttraining's auc: 0.978822\ttraining's auc: 0.978822\tvalid_1's auc: 0.94278\tvalid_1's auc: 0.94278\n",
      "CV mean score: 0.9404, std: 0.0113.\n"
     ]
    },
    {
     "data": {
      "image/png": "[encoded data removed]",
      "text/plain": [
       "<Figure size 1152x864 with 1 Axes>"
      ]
     },
     "metadata": {
      "needs_background": "light"
     },
     "output_type": "display_data"
    }
   ],
   "source": [
    "result_dict_lgb = train_model_classification(X=X, X_test=test, y=y, params=params, folds=folds, model_type='lgb', eval_metric='auc', plot_feature_importance=True,\n",
    "                                                      verbose=100, early_stopping_rounds=1000, n_estimators=5000, averaging='usual', groups=None)"
   ]
  },
  {
   "cell_type": "code",
   "execution_count": 20,
   "metadata": {
    "ExecuteTime": {
     "end_time": "2019-09-23T05:39:03.549456Z",
     "start_time": "2019-09-23T05:39:03.274048Z"
    }
   },
   "outputs": [],
   "source": [
    "import pickle\n",
    "pickle.dump(result_dict_lgb, open(f'{p.working_folder}/results_dict_lgbm_20_best.pkl','wb'))"
   ]
  },
  {
   "cell_type": "code",
   "execution_count": 21,
   "metadata": {
    "ExecuteTime": {
     "end_time": "2019-09-23T05:39:05.486513Z",
     "start_time": "2019-09-23T05:39:05.229444Z"
    }
   },
   "outputs": [],
   "source": [
    "# test = test.sort_values('Date')\n",
    "test['prediction'] = result_dict_lgb['prediction']"
   ]
  },
  {
   "cell_type": "code",
   "execution_count": 22,
   "metadata": {
    "ExecuteTime": {
     "end_time": "2019-09-23T05:39:09.844536Z",
     "start_time": "2019-09-23T05:39:07.244472Z"
    }
   },
   "outputs": [],
   "source": [
    "# folder_path = './data/'\n",
    "sub = pd.read_csv(f'{data_path}/sample_submission.csv')\n",
    "sub['isFraud'] = pd.merge(sub, test['prediction'], on='TransactionID')['prediction']\n",
    "sub.to_csv(f'{p.working_folder}/submission_dynamic_lgbm_20_best.csv', index=False)"
   ]
  }
 ],
 "metadata": {
  "kernelspec": {
   "display_name": "Python 3",
   "language": "python",
   "name": "python3"
  },
  "language_info": {
   "codemirror_mode": {
    "name": "ipython",
    "version": 3
   },
   "file_extension": ".py",
   "mimetype": "text/x-python",
   "name": "python",
   "nbconvert_exporter": "python",
   "pygments_lexer": "ipython3",
   "version": "3.7.4"
  },
  "toc": {
   "base_numbering": 1,
   "nav_menu": {},
   "number_sections": true,
   "sideBar": true,
   "skip_h1_title": false,
   "title_cell": "Table of Contents",
   "title_sidebar": "Contents",
   "toc_cell": false,
   "toc_position": {},
   "toc_section_display": true,
   "toc_window_display": false
  },
  "varInspector": {
   "cols": {
    "lenName": 16,
    "lenType": 16,
    "lenVar": 40
   },
   "kernels_config": {
    "python": {
     "delete_cmd_postfix": "",
     "delete_cmd_prefix": "del ",
     "library": "var_list.py",
     "varRefreshCmd": "print(var_dic_list())"
    },
    "r": {
     "delete_cmd_postfix": ") ",
     "delete_cmd_prefix": "rm(",
     "library": "var_list.r",
     "varRefreshCmd": "cat(var_dic_list()) "
    }
   },
   "types_to_exclude": [
    "module",
    "function",
    "builtin_function_or_method",
    "instance",
    "_Feature"
   ],
   "window_display": false
  }
 },
 "nbformat": 4,
 "nbformat_minor": 2
}
