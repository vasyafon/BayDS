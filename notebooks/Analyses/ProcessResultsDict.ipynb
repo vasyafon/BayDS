{
 "cells": [
  {
   "cell_type": "code",
   "execution_count": 21,
   "metadata": {
    "ExecuteTime": {
     "end_time": "2019-09-30T04:57:53.613729Z",
     "start_time": "2019-09-30T04:57:53.608720Z"
    }
   },
   "outputs": [],
   "source": [
    "import pandas as pd\n",
    "import pickle\n",
    "import yaml\n",
    "working_folder = r'e:\\Kaggle\\05-LabelEncoded-last\\res'\n",
    "data_path = r'f:\\Projects\\Prvate\\Baydin\\Data'\n",
    "main_dir = r'../../..'\n",
    "import sys\n",
    "sys.path.append(main_dir)"
   ]
  },
  {
   "cell_type": "code",
   "execution_count": 19,
   "metadata": {
    "ExecuteTime": {
     "end_time": "2019-09-30T04:57:11.706404Z",
     "start_time": "2019-09-30T04:57:11.681429Z"
    }
   },
   "outputs": [],
   "source": [
    "results_dict_path = r'e:\\Kaggle\\05-LabelEncoded-last\\results_dict_catboost.pkl'\n",
    "results_dict = pickle.load((open(results_dict_path,'rb')))"
   ]
  },
  {
   "cell_type": "code",
   "execution_count": 22,
   "metadata": {
    "ExecuteTime": {
     "end_time": "2019-09-30T05:01:02.807502Z",
     "start_time": "2019-09-30T05:00:16.165114Z"
    }
   },
   "outputs": [],
   "source": [
    "train_idx = pd.read_csv(data_path + '/train_transaction.csv').set_index('TransactionID').index\n",
    "test_idx = pd.read_csv(data_path + '/test_transaction.csv').set_index('TransactionID').index\n",
    "pd.DataFrame(results_dict['oof'], columns=['isFraud'], index=train_idx).to_csv(f'{working_folder}/oof.csv')"
   ]
  },
  {
   "cell_type": "code",
   "execution_count": 23,
   "metadata": {
    "ExecuteTime": {
     "end_time": "2019-09-30T05:01:36.745604Z",
     "start_time": "2019-09-30T05:01:34.912542Z"
    }
   },
   "outputs": [],
   "source": [
    "pd.DataFrame(results_dict['prediction'], columns=['isFraud'], index=test_idx).to_csv(f'{working_folder}/prediction.csv')\n",
    "sample_submission = pd.read_csv(data_path + '/sample_submission.csv').set_index('TransactionID')\n",
    "sub1 = pd.DataFrame(results_dict['prediction'], columns=['isFraud'], index=test_idx)\n",
    "sample_submission['isFraud'] = sub1#*0.5 + sub2*0.25 + sub3*0.25\n",
    "sample_submission.to_csv(f'{working_folder}/submission.csv')"
   ]
  },
  {
   "cell_type": "code",
   "execution_count": 24,
   "metadata": {
    "ExecuteTime": {
     "end_time": "2019-09-30T05:01:39.290331Z",
     "start_time": "2019-09-30T05:01:37.481338Z"
    }
   },
   "outputs": [
    {
     "data": {
      "text/plain": [
       "dict_keys(['oof', 'prediction', 'scores'])"
      ]
     },
     "execution_count": 24,
     "metadata": {},
     "output_type": "execute_result"
    }
   ],
   "source": [
    "results_dict.keys()"
   ]
  },
  {
   "cell_type": "code",
   "execution_count": 25,
   "metadata": {},
   "outputs": [],
   "source": [
    "if 'top_columns' in results_dict:\n",
    "    yaml.dump(list(results_dict['top_columns']),open(f\"{working_folder}/top_columns.yaml\",'w'))\n"
   ]
  },
  {
   "cell_type": "code",
   "execution_count": 26,
   "metadata": {},
   "outputs": [],
   "source": [
    "if 'feature_importance' in results_dict:\n",
    "    from BayDS.lib.training import plot_importance\n",
    "    plot_importance (results_dict,file=f'{working_folder}/importance.svg')"
   ]
  }
 ],
 "metadata": {
  "kernelspec": {
   "display_name": "Python 3",
   "language": "python",
   "name": "python3"
  },
  "language_info": {
   "codemirror_mode": {
    "name": "ipython",
    "version": 3
   },
   "file_extension": ".py",
   "mimetype": "text/x-python",
   "name": "python",
   "nbconvert_exporter": "python",
   "pygments_lexer": "ipython3",
   "version": "3.6.1"
  },
  "toc": {
   "base_numbering": 1,
   "nav_menu": {},
   "number_sections": true,
   "sideBar": true,
   "skip_h1_title": false,
   "title_cell": "Table of Contents",
   "title_sidebar": "Contents",
   "toc_cell": false,
   "toc_position": {},
   "toc_section_display": true,
   "toc_window_display": false
  },
  "varInspector": {
   "cols": {
    "lenName": 16,
    "lenType": 16,
    "lenVar": 40
   },
   "kernels_config": {
    "python": {
     "delete_cmd_postfix": "",
     "delete_cmd_prefix": "del ",
     "library": "var_list.py",
     "varRefreshCmd": "print(var_dic_list())"
    },
    "r": {
     "delete_cmd_postfix": ") ",
     "delete_cmd_prefix": "rm(",
     "library": "var_list.r",
     "varRefreshCmd": "cat(var_dic_list()) "
    }
   },
   "position": {
    "height": "760px",
    "left": "1530px",
    "right": "20px",
    "top": "120px",
    "width": "336px"
   },
   "types_to_exclude": [
    "module",
    "function",
    "builtin_function_or_method",
    "instance",
    "_Feature"
   ],
   "window_display": false
  }
 },
 "nbformat": 4,
 "nbformat_minor": 4
}
