{
 "cells": [
  {
   "cell_type": "code",
   "execution_count": 1,
   "metadata": {
    "ExecuteTime": {
     "end_time": "2019-10-01T18:59:32.433269Z",
     "start_time": "2019-10-01T18:59:31.898082Z"
    }
   },
   "outputs": [],
   "source": [
    "import pandas as pd\n",
    "import pickle\n",
    "working_folder = r'd:\\Documents\\Private\\Kaggle\\Baydin\\Snapshots\\1\\Lgbm9522'\n",
    "data_path = r'd:\\Documents\\Private\\Kaggle\\Baydin\\Data'"
   ]
  },
  {
   "cell_type": "code",
   "execution_count": 2,
   "metadata": {
    "ExecuteTime": {
     "end_time": "2019-10-01T18:59:32.866462Z",
     "start_time": "2019-10-01T18:59:32.834446Z"
    }
   },
   "outputs": [],
   "source": [
    "results_dict = pickle.load((open(r'd:\\Documents\\Private\\Kaggle\\Baydin\\Snapshots\\1\\Dynamics_pca_timefreq_09504\\results_dict_lgbm_20_train2_best.pkl ','rb')))"
   ]
  },
  {
   "cell_type": "code",
   "execution_count": null,
   "metadata": {
    "ExecuteTime": {
     "end_time": "2019-10-01T19:00:17.129638Z",
     "start_time": "2019-10-01T18:59:33.905239Z"
    }
   },
   "outputs": [],
   "source": [
    "train_idx = pd.read_csv(data_path + '/train_transaction.csv').set_index('TransactionID').index\n",
    "test_idx = pd.read_csv(data_path + '/test_transaction.csv').set_index('TransactionID').index"
   ]
  },
  {
   "cell_type": "code",
   "execution_count": 4,
   "metadata": {
    "ExecuteTime": {
     "end_time": "2019-10-01T19:01:14.848703Z",
     "start_time": "2019-10-01T19:01:12.916657Z"
    }
   },
   "outputs": [],
   "source": [
    "pd.DataFrame(results_dict['oof'], columns=['isFraud'], index=train_idx).to_csv(f'{working_folder}/oof.csv')"
   ]
  },
  {
   "cell_type": "code",
   "execution_count": 5,
   "metadata": {
    "ExecuteTime": {
     "end_time": "2019-10-01T19:01:16.799678Z",
     "start_time": "2019-10-01T19:01:14.877642Z"
    }
   },
   "outputs": [],
   "source": [
    "pd.DataFrame(results_dict['prediction'], columns=['isFraud'], index=test_idx).to_csv(f'{working_folder}/prediction.csv')\n",
    "\n",
    "sample_submission = pd.read_csv(data_path + '/sample_submission.csv').set_index('TransactionID')"
   ]
  },
  {
   "cell_type": "code",
   "execution_count": 6,
   "metadata": {
    "ExecuteTime": {
     "end_time": "2019-10-01T19:01:18.626700Z",
     "start_time": "2019-10-01T19:01:16.835653Z"
    }
   },
   "outputs": [],
   "source": [
    "sub1 = pd.DataFrame(results_dict['prediction'], columns=['isFraud'], index=test_idx)\n",
    "\n",
    "sample_submission['isFraud'] = sub1#*0.5 + sub2*0.25 + sub3*0.25\n",
    "\n",
    "sample_submission.to_csv(f'{working_folder}/submission.csv')"
   ]
  },
  {
   "cell_type": "code",
   "execution_count": 7,
   "metadata": {
    "ExecuteTime": {
     "end_time": "2019-10-01T19:01:18.699668Z",
     "start_time": "2019-10-01T19:01:18.668695Z"
    }
   },
   "outputs": [
    {
     "data": {
      "text/html": [
       "<div>\n",
       "<style scoped>\n",
       "    .dataframe tbody tr th:only-of-type {\n",
       "        vertical-align: middle;\n",
       "    }\n",
       "\n",
       "    .dataframe tbody tr th {\n",
       "        vertical-align: top;\n",
       "    }\n",
       "\n",
       "    .dataframe thead th {\n",
       "        text-align: right;\n",
       "    }\n",
       "</style>\n",
       "<table border=\"1\" class=\"dataframe\">\n",
       "  <thead>\n",
       "    <tr style=\"text-align: right;\">\n",
       "      <th></th>\n",
       "      <th>importance</th>\n",
       "    </tr>\n",
       "    <tr>\n",
       "      <th>feature</th>\n",
       "      <th></th>\n",
       "    </tr>\n",
       "  </thead>\n",
       "  <tbody>\n",
       "    <tr>\n",
       "      <td>card1_amtcount</td>\n",
       "      <td>875.055556</td>\n",
       "    </tr>\n",
       "    <tr>\n",
       "      <td>card1_C5count</td>\n",
       "      <td>858.638889</td>\n",
       "    </tr>\n",
       "    <tr>\n",
       "      <td>addr1_amtcount</td>\n",
       "      <td>735.194444</td>\n",
       "    </tr>\n",
       "    <tr>\n",
       "      <td>addr1_C5count</td>\n",
       "      <td>714.222222</td>\n",
       "    </tr>\n",
       "    <tr>\n",
       "      <td>card2_C5count</td>\n",
       "      <td>700.972222</td>\n",
       "    </tr>\n",
       "    <tr>\n",
       "      <td>...</td>\n",
       "      <td>...</td>\n",
       "    </tr>\n",
       "    <tr>\n",
       "      <td>V_PCA_7300_6</td>\n",
       "      <td>101.916667</td>\n",
       "    </tr>\n",
       "    <tr>\n",
       "      <td>D3_to_mean_groupby_new_card_id</td>\n",
       "      <td>101.611111</td>\n",
       "    </tr>\n",
       "    <tr>\n",
       "      <td>DeviceInfo_global_count</td>\n",
       "      <td>100.388889</td>\n",
       "    </tr>\n",
       "    <tr>\n",
       "      <td>D2_to_std_groupby_uid4</td>\n",
       "      <td>100.361111</td>\n",
       "    </tr>\n",
       "    <tr>\n",
       "      <td>M4</td>\n",
       "      <td>100.250000</td>\n",
       "    </tr>\n",
       "  </tbody>\n",
       "</table>\n",
       "<p>355 rows × 1 columns</p>\n",
       "</div>"
      ],
      "text/plain": [
       "                                importance\n",
       "feature                                   \n",
       "card1_amtcount                  875.055556\n",
       "card1_C5count                   858.638889\n",
       "addr1_amtcount                  735.194444\n",
       "addr1_C5count                   714.222222\n",
       "card2_C5count                   700.972222\n",
       "...                                    ...\n",
       "V_PCA_7300_6                    101.916667\n",
       "D3_to_mean_groupby_new_card_id  101.611111\n",
       "DeviceInfo_global_count         100.388889\n",
       "D2_to_std_groupby_uid4          100.361111\n",
       "M4                              100.250000\n",
       "\n",
       "[355 rows x 1 columns]"
      ]
     },
     "execution_count": 7,
     "metadata": {},
     "output_type": "execute_result"
    }
   ],
   "source": [
    "pd.read_pickle('e:/important_features.pkl')"
   ]
  }
 ],
 "metadata": {
  "kernelspec": {
   "display_name": "Python 3",
   "language": "python",
   "name": "python3"
  },
  "language_info": {
   "codemirror_mode": {
    "name": "ipython",
    "version": 3
   },
   "file_extension": ".py",
   "mimetype": "text/x-python",
   "name": "python",
   "nbconvert_exporter": "python",
   "pygments_lexer": "ipython3",
   "version": "3.7.4"
  },
  "toc": {
   "base_numbering": 1,
   "nav_menu": {},
   "number_sections": true,
   "sideBar": true,
   "skip_h1_title": false,
   "title_cell": "Table of Contents",
   "title_sidebar": "Contents",
   "toc_cell": false,
   "toc_position": {},
   "toc_section_display": true,
   "toc_window_display": false
  },
  "varInspector": {
   "cols": {
    "lenName": 16,
    "lenType": 16,
    "lenVar": 40
   },
   "kernels_config": {
    "python": {
     "delete_cmd_postfix": "",
     "delete_cmd_prefix": "del ",
     "library": "var_list.py",
     "varRefreshCmd": "print(var_dic_list())"
    },
    "r": {
     "delete_cmd_postfix": ") ",
     "delete_cmd_prefix": "rm(",
     "library": "var_list.r",
     "varRefreshCmd": "cat(var_dic_list()) "
    }
   },
   "position": {
    "height": "760px",
    "left": "1530px",
    "right": "20px",
    "top": "120px",
    "width": "336px"
   },
   "types_to_exclude": [
    "module",
    "function",
    "builtin_function_or_method",
    "instance",
    "_Feature"
   ],
   "window_display": false
  }
 },
 "nbformat": 4,
 "nbformat_minor": 2
}
