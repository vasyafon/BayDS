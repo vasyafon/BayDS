{
 "cells": [
  {
   "cell_type": "markdown",
   "metadata": {
    "ExecuteTime": {
     "end_time": "2019-09-29T08:01:58.052850Z",
     "start_time": "2019-09-29T08:01:58.049815Z"
    }
   },
   "source": [
    "## Analyze 09457 old and new"
   ]
  },
  {
   "cell_type": "code",
   "execution_count": 1,
   "metadata": {
    "ExecuteTime": {
     "end_time": "2019-09-29T08:12:57.807261Z",
     "start_time": "2019-09-29T08:12:55.533110Z"
    }
   },
   "outputs": [],
   "source": [
    "import pandas as pd"
   ]
  },
  {
   "cell_type": "code",
   "execution_count": 2,
   "metadata": {
    "ExecuteTime": {
     "end_time": "2019-09-29T08:13:02.629628Z",
     "start_time": "2019-09-29T08:12:57.809248Z"
    }
   },
   "outputs": [],
   "source": [
    "olddf = pd.read_pickle(r'e:\\Kaggle\\data\\train_09457_with_additions.pkl')"
   ]
  },
  {
   "cell_type": "code",
   "execution_count": 3,
   "metadata": {
    "ExecuteTime": {
     "end_time": "2019-09-29T08:13:10.511047Z",
     "start_time": "2019-09-29T08:13:02.631485Z"
    }
   },
   "outputs": [],
   "source": [
    "newdf = pd.read_pickle(r'e:\\Kaggle\\Test\\label_encoded_data.pkl')"
   ]
  },
  {
   "cell_type": "code",
   "execution_count": 4,
   "metadata": {
    "ExecuteTime": {
     "end_time": "2019-09-29T08:13:25.674050Z",
     "start_time": "2019-09-29T08:13:10.514049Z"
    }
   },
   "outputs": [],
   "source": [
    "newdf = newdf[newdf.isFraud>=0]"
   ]
  },
  {
   "cell_type": "code",
   "execution_count": 5,
   "metadata": {
    "ExecuteTime": {
     "end_time": "2019-09-29T08:13:25.703052Z",
     "start_time": "2019-09-29T08:13:25.683051Z"
    }
   },
   "outputs": [
    {
     "name": "stdout",
     "output_type": "stream",
     "text": [
      "(590540, 641)\n",
      "(590540, 634)\n"
     ]
    }
   ],
   "source": [
    "print(olddf.shape)\n",
    "print(newdf.shape)"
   ]
  },
  {
   "cell_type": "code",
   "execution_count": 6,
   "metadata": {
    "ExecuteTime": {
     "end_time": "2019-09-29T08:13:25.726049Z",
     "start_time": "2019-09-29T08:13:25.708053Z"
    }
   },
   "outputs": [],
   "source": [
    "old_features = set(olddf.columns)\n",
    "new_features = set(newdf.columns)"
   ]
  },
  {
   "cell_type": "markdown",
   "metadata": {
    "ExecuteTime": {
     "end_time": "2019-09-29T08:10:33.738014Z",
     "start_time": "2019-09-29T08:10:33.735006Z"
    }
   },
   "source": [
    "## Old unique features"
   ]
  },
  {
   "cell_type": "code",
   "execution_count": 7,
   "metadata": {
    "ExecuteTime": {
     "end_time": "2019-09-29T08:13:25.744051Z",
     "start_time": "2019-09-29T08:13:25.729053Z"
    }
   },
   "outputs": [
    {
     "name": "stdout",
     "output_type": "stream",
     "text": [
      "R_emaildomain_suffix_freq_groupby_card_id\n",
      "addr2_freq_groupby_card_id\n",
      "id_14_freq_groupby_card_id\n",
      "addr1_freq_groupby_card_id\n",
      "M5_freq_groupby_card_id\n",
      "P_emaildomain_bin_freq_groupby_card_id\n",
      "R_emaildomain_bin_freq_groupby_card_id\n",
      "M3_freq_groupby_card_id\n",
      "TransactionAmt_check\n",
      "id_19_freq_groupby_card_id\n",
      "id_12_freq_groupby_card_id\n",
      "TransactionAmt_by_card_id_ws5_to_mean\n",
      "TransactionAmt_by_card_id_ws7d_to_std\n",
      "Transactions_by_card_id_ws5_Period\n",
      "id_35_freq_groupby_card_id\n",
      "id_17_freq_groupby_card_id\n",
      "card2_freq_groupby_card_id\n",
      "id_16_freq_groupby_card_id\n",
      "M8_freq_groupby_card_id\n",
      "id_23_freq_groupby_card_id\n",
      "id_27_freq_groupby_card_id\n",
      "M4_freq_groupby_card_id\n",
      "TransactionAmt_by_card_id_ws30d_to_mean\n",
      "BrowserAge\n",
      "id_33_freq_groupby_card_id\n",
      "M9_freq_groupby_card_id\n",
      "id_26_freq_groupby_card_id\n",
      "id_29_freq_groupby_card_id\n",
      "id_20_freq_groupby_card_id\n",
      "id_25_freq_groupby_card_id\n",
      "TransactionAmt_by_card_id_ws30d_to_std\n",
      "id_34_freq_groupby_card_id\n",
      "P_emaildomain_suffix_freq_groupby_card_id\n",
      "TransactionAmt_by_card_id_ws5_to_std\n",
      "id_28_freq_groupby_card_id\n",
      "TransactionAmt_by_card_id_ws7d_to_mean\n",
      "id_32_freq_groupby_card_id\n",
      "DeviceInfo_freq_groupby_card_id\n",
      "card6_freq_groupby_card_id\n",
      "id_22_freq_groupby_card_id\n",
      "id_13_freq_groupby_card_id\n",
      "M6_freq_groupby_card_id\n",
      "DeviceType_freq_groupby_card_id\n",
      "card4_freq_groupby_card_id\n",
      "id_15_freq_groupby_card_id\n",
      "card1_freq_groupby_card_id\n",
      "M7_freq_groupby_card_id\n",
      "id_21_freq_groupby_card_id\n",
      "id_37_freq_groupby_card_id\n",
      "id_36_freq_groupby_card_id\n",
      "id_18_freq_groupby_card_id\n",
      "id_38_freq_groupby_card_id\n",
      "card5_freq_groupby_card_id\n",
      "card3_freq_groupby_card_id\n",
      "ProductCD_freq_groupby_card_id\n",
      "M2_freq_groupby_card_id\n",
      "id_24_freq_groupby_card_id\n"
     ]
    }
   ],
   "source": [
    "for col in (old_features-new_features):\n",
    "    print(col)"
   ]
  },
  {
   "cell_type": "code",
   "execution_count": 8,
   "metadata": {
    "ExecuteTime": {
     "end_time": "2019-09-29T08:14:48.035939Z",
     "start_time": "2019-09-29T08:14:48.024937Z"
    }
   },
   "outputs": [
    {
     "name": "stdout",
     "output_type": "stream",
     "text": [
      "C5_by_new_card_id_ws5_to_std\n",
      "TransactionAmt_by_new_card_id_ws10_to_mean\n",
      "start_date\n",
      "C5_by_new_card_id_ws100_to_std\n",
      "C5_by_new_card_id_ws3d_to_std\n",
      "C8_by_new_card_id_ws3d_to_std\n",
      "TransactionAmt_by_new_card_id_ws1d_to_mean\n",
      "C8_by_new_card_id_ws10_to_mean\n",
      "C5_by_new_card_id_ws2d_to_mean\n",
      "TransactionAmt_by_new_card_id_ws7d_to_mean\n",
      "C8_by_new_card_id_ws5_to_mean\n",
      "TransactionAmt_by_new_card_id_ws7d_to_std\n",
      "C5_by_new_card_id_ws5_to_mean\n",
      "C5_by_new_card_id_ws1d_to_std\n",
      "C5_by_new_card_id_ws1d_to_mean\n",
      "C8_by_new_card_id_ws1d_to_std\n",
      "TransactionAmt_by_new_card_id_ws5_to_mean\n",
      "TransactionAmt_by_new_card_id_ws30d_to_mean\n",
      "TransactionAmt_by_new_card_id_ws100_to_mean\n",
      "C5_by_new_card_id_ws3d_to_mean\n",
      "TransactionAmt_by_new_card_id_ws10_to_std\n",
      "TransactionAmt_by_new_card_id_ws3d_to_mean\n",
      "C8_by_new_card_id_ws100_to_mean\n",
      "C5_by_new_card_id_ws10_to_mean\n",
      "C8_by_new_card_id_ws100_to_std\n",
      "TransactionAmt_by_new_card_id_ws2d_to_std\n",
      "TransactionAmt_by_new_card_id_ws1d_to_std\n",
      "TransactionAmt_by_new_card_id_ws5_to_std\n",
      "TransactionAmt_by_new_card_id_ws3d_to_std\n",
      "C8_by_new_card_id_ws1d_to_mean\n",
      "C5_by_new_card_id_ws2d_to_std\n",
      "C5_by_new_card_id_ws7d_to_std\n",
      "TransactionAmt_by_new_card_id_ws100_to_std\n",
      "C5_by_new_card_id_ws30d_to_mean\n",
      "C8_by_new_card_id_ws5_to_std\n",
      "C5_by_new_card_id_ws10_to_std\n",
      "TransactionAmt_by_new_card_id_ws30d_to_std\n",
      "new_card_id\n",
      "C5_by_new_card_id_ws100_to_mean\n",
      "TransactionAmt_by_new_card_id_ws2d_to_mean\n",
      "C8_by_new_card_id_ws10_to_std\n",
      "C8_by_new_card_id_ws2d_to_mean\n",
      "C8_by_new_card_id_ws30d_to_std\n",
      "C8_by_new_card_id_ws30d_to_mean\n",
      "C8_by_new_card_id_ws7d_to_std\n",
      "C8_by_new_card_id_ws3d_to_mean\n",
      "C5_by_new_card_id_ws30d_to_std\n",
      "C8_by_new_card_id_ws2d_to_std\n",
      "C5_by_new_card_id_ws7d_to_mean\n",
      "C8_by_new_card_id_ws7d_to_mean\n"
     ]
    }
   ],
   "source": [
    "for col in (new_features-old_features):\n",
    "    print(col)"
   ]
  }
 ],
 "metadata": {
  "kernelspec": {
   "display_name": "Python 3",
   "language": "python",
   "name": "python3"
  },
  "language_info": {
   "codemirror_mode": {
    "name": "ipython",
    "version": 3
   },
   "file_extension": ".py",
   "mimetype": "text/x-python",
   "name": "python",
   "nbconvert_exporter": "python",
   "pygments_lexer": "ipython3",
   "version": "3.7.4"
  },
  "toc": {
   "base_numbering": 1,
   "nav_menu": {},
   "number_sections": true,
   "sideBar": true,
   "skip_h1_title": false,
   "title_cell": "Table of Contents",
   "title_sidebar": "Contents",
   "toc_cell": false,
   "toc_position": {},
   "toc_section_display": true,
   "toc_window_display": false
  },
  "varInspector": {
   "cols": {
    "lenName": 16,
    "lenType": 16,
    "lenVar": 40
   },
   "kernels_config": {
    "python": {
     "delete_cmd_postfix": "",
     "delete_cmd_prefix": "del ",
     "library": "var_list.py",
     "varRefreshCmd": "print(var_dic_list())"
    },
    "r": {
     "delete_cmd_postfix": ") ",
     "delete_cmd_prefix": "rm(",
     "library": "var_list.r",
     "varRefreshCmd": "cat(var_dic_list()) "
    }
   },
   "types_to_exclude": [
    "module",
    "function",
    "builtin_function_or_method",
    "instance",
    "_Feature"
   ],
   "window_display": false
  }
 },
 "nbformat": 4,
 "nbformat_minor": 2
}
