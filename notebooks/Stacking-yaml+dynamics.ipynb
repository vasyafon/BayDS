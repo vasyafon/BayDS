{
 "cells": [
  {
   "cell_type": "code",
   "execution_count": 2,
   "metadata": {
    "ExecuteTime": {
     "end_time": "2019-10-01T19:23:01.180313Z",
     "start_time": "2019-10-01T19:23:01.043709Z"
    }
   },
   "outputs": [
    {
     "name": "stdout",
     "output_type": "stream",
     "text": [
      "The autoreload extension is already loaded. To reload it, use:\n",
      "  %reload_ext autoreload\n"
     ]
    }
   ],
   "source": [
    "%load_ext autoreload\n",
    "%autoreload 2\n",
    "import numpy as np\n",
    "import pandas as pd\n",
    "import os\n",
    "import matplotlib.pyplot as plt\n",
    "%matplotlib inline\n",
    "from tqdm import tqdm_notebook\n",
    "from sklearn.preprocessing import StandardScaler\n",
    "import lightgbm as lgb\n",
    "from sklearn.preprocessing import LabelEncoder\n",
    "from sklearn.model_selection import StratifiedKFold, KFold, RepeatedKFold, GroupKFold, GridSearchCV, train_test_split, TimeSeriesSplit\n",
    "from sklearn import metrics\n",
    "from sklearn import linear_model\n",
    "import gc\n",
    "import warnings\n",
    "warnings.filterwarnings(\"ignore\")\n",
    "import pickle\n",
    "import sys\n",
    "main_path = r'../..'\n",
    "sys.path.append(main_path)\n",
    "from BayDS import *\n",
    "from BayDS.lib.pipeline import *\n",
    "from BayDS.lib.io import *\n",
    "import os"
   ]
  },
  {
   "cell_type": "code",
   "execution_count": 3,
   "metadata": {
    "ExecuteTime": {
     "end_time": "2019-10-01T19:23:01.947320Z",
     "start_time": "2019-10-01T19:23:01.826322Z"
    }
   },
   "outputs": [],
   "source": [
    "main_folder = r'../../Data/sub'\n",
    "model_folder = r'../../Snapshots/Stacking/3009'"
   ]
  },
  {
   "cell_type": "code",
   "execution_count": 4,
   "metadata": {
    "ExecuteTime": {
     "end_time": "2019-10-01T19:23:09.835852Z",
     "start_time": "2019-10-01T19:23:02.587561Z"
    }
   },
   "outputs": [
    {
     "name": "stdout",
     "output_type": "stream",
     "text": [
      "---------------------------\n",
      "0: LoaderNode [2019-10-01 22:23:02]\n",
      "params:\n",
      " {'input_directory': 'e:/kaggle/05-LabelEncoded-last', 'file': 'label_encoded_data.pkl'}\n"
     ]
    }
   ],
   "source": [
    "data_dir = f'e:/kaggle/05-LabelEncoded-last'\n",
    "p = Pipeline(working_folder=f'{main_path}/Snapshots/1/catboost_last_dynamics')\n",
    "\n",
    "p.add_node(LoaderNode, None, 'data',\n",
    "           params={\n",
    "               'input_directory': data_dir,\n",
    "               'file': 'label_encoded_data.pkl'\n",
    "           })\n",
    "p.run(verbose=True)\n",
    "p.save()"
   ]
  },
  {
   "cell_type": "code",
   "execution_count": 5,
   "metadata": {
    "ExecuteTime": {
     "end_time": "2019-10-01T19:23:28.561272Z",
     "start_time": "2019-10-01T19:23:21.107211Z"
    }
   },
   "outputs": [],
   "source": [
    "df = p.data['data']\n",
    "DT_M=df['DT_M']\n",
    "df = df[['isFraud', 'new_card_id']]"
   ]
  },
  {
   "cell_type": "code",
   "execution_count": null,
   "metadata": {
    "ExecuteTime": {
     "end_time": "2019-10-01T19:02:29.680271Z",
     "start_time": "2019-10-01T19:02:29.558235Z"
    }
   },
   "outputs": [],
   "source": [
    "import yaml\n",
    "lb = yaml.load(open(f'{main_folder}/lb.yaml','r'), Loader=yaml.FullLoader)"
   ]
  },
  {
   "cell_type": "code",
   "execution_count": null,
   "metadata": {
    "ExecuteTime": {
     "end_time": "2019-10-01T19:14:56.796065Z",
     "start_time": "2019-10-01T19:14:51.626021Z"
    }
   },
   "outputs": [],
   "source": [
    "oofs=None\n",
    "predictions=None\n",
    "for iexp, experiment in enumerate(lb):\n",
    "    print(experiment)\n",
    "    oof = pd.read_csv(f'{main_folder}/{experiment[\"oofFile\"]}')\n",
    "    pred = pd.read_csv(f'{main_folder}/{experiment[\"predictionFile\"]}')\n",
    "    oof.set_index('TransactionID')\n",
    "    pred.set_index('TransactionID')\n",
    "    if len(oof.index) != 590540:\n",
    "        print (f\"Skipping {experiment}\")\n",
    "        continue\n",
    "    if oofs is None:\n",
    "       oofs = pd.DataFrame(index=oof.index)\n",
    "       predictions = pd.DataFrame(index=pred.index)\n",
    "#     print(oof)\n",
    "    oofs[f\"s{iexp}_{experiment['score']}\"] = oof['isFraud']\n",
    "    predictions[f\"s{iexp}_{experiment['score']}\"] = pred['isFraud']\n",
    "\n",
    "    "
   ]
  },
  {
   "cell_type": "code",
   "execution_count": null,
   "metadata": {
    "ExecuteTime": {
     "end_time": "2019-10-01T19:11:58.309647Z",
     "start_time": "2019-10-01T19:11:57.812631Z"
    }
   },
   "outputs": [],
   "source": [
    "oofs.columns\n",
    "for col in oofs.columns:\n",
    "    print(col, oofs[col].mean(), predictions[col].mean())"
   ]
  },
  {
   "cell_type": "code",
   "execution_count": null,
   "metadata": {
    "ExecuteTime": {
     "end_time": "2019-10-01T19:15:02.056980Z",
     "start_time": "2019-10-01T19:15:01.797961Z"
    }
   },
   "outputs": [],
   "source": [
    "oofs.shape"
   ]
  },
  {
   "cell_type": "code",
   "execution_count": null,
   "metadata": {
    "ExecuteTime": {
     "end_time": "2019-10-01T19:15:05.872029Z",
     "start_time": "2019-10-01T19:15:05.624127Z"
    }
   },
   "outputs": [],
   "source": [
    "predictions.shape"
   ]
  },
  {
   "cell_type": "code",
   "execution_count": null,
   "metadata": {
    "ExecuteTime": {
     "end_time": "2019-10-01T19:09:35.545166Z",
     "start_time": "2019-10-01T19:09:35.273137Z"
    }
   },
   "outputs": [],
   "source": [
    "y = pd.read_pickle(r'e:\\Kaggle\\data\\y.pkl')"
   ]
  },
  {
   "cell_type": "code",
   "execution_count": null,
   "metadata": {
    "ExecuteTime": {
     "end_time": "2019-10-01T19:09:36.709124Z",
     "start_time": "2019-10-01T19:09:36.433122Z"
    }
   },
   "outputs": [],
   "source": [
    "n_fold = 5\n",
    "folds = KFold(n_splits=n_fold)"
   ]
  },
  {
   "cell_type": "code",
   "execution_count": null,
   "metadata": {
    "ExecuteTime": {
     "end_time": "2019-10-01T19:09:37.824167Z",
     "start_time": "2019-10-01T19:09:37.586133Z"
    }
   },
   "outputs": [],
   "source": [
    "from BayDS.lib.training import *"
   ]
  },
  {
   "cell_type": "code",
   "execution_count": null,
   "metadata": {
    "ExecuteTime": {
     "end_time": "2019-10-01T19:10:12.178714Z",
     "start_time": "2019-10-01T19:10:11.007701Z"
    }
   },
   "outputs": [],
   "source": [
    "for col in oofs.columns:\n",
    "    print(col,fast_auc(y,oofs[col]))"
   ]
  },
  {
   "cell_type": "markdown",
   "metadata": {},
   "source": [
    "## LogRegression stacking"
   ]
  },
  {
   "cell_type": "code",
   "execution_count": null,
   "metadata": {
    "ExecuteTime": {
     "end_time": "2019-10-01T19:15:26.251968Z",
     "start_time": "2019-10-01T19:15:11.424794Z"
    }
   },
   "outputs": [],
   "source": [
    "from sklearn.linear_model import LogisticRegression\n",
    "model = LogisticRegression()\n",
    "train_options = {\n",
    "    \"model_type\":'sklearn',\n",
    "    'model':model,\n",
    "    'folds': folds,\n",
    "    \"params\": {},\n",
    "    \"eval_metric\":'auc',\n",
    "    'averaging': 'usual',\n",
    "    'splits': n_fold,\n",
    "    'n_jobs': -1,\n",
    "    'groups': None\n",
    "}\n",
    "\n",
    "from sklearn import preprocessing\n",
    "standart_scaler = preprocessing.StandardScaler()\n",
    "X = pd.DataFrame(standart_scaler.fit_transform(oofs), index=oofs.index, columns=oofs.columns)\n",
    "result_dict_logreg = train_model_classification_vb(X=X, X_test=predictions, y=y, **train_options)"
   ]
  },
  {
   "cell_type": "code",
   "execution_count": null,
   "metadata": {
    "ExecuteTime": {
     "end_time": "2019-10-01T19:16:24.551118Z",
     "start_time": "2019-10-01T19:16:22.330144Z"
    }
   },
   "outputs": [],
   "source": [
    "sub = pd.read_csv(f'../../data/sample_submission.csv')\n",
    "sub['isFraud'] = result_dict_logreg['prediction']\n",
    "sub.to_csv(f'{model_folder}/stacked_0110.csv', index=False)"
   ]
  },
  {
   "cell_type": "markdown",
   "metadata": {
    "ExecuteTime": {
     "end_time": "2019-09-06T19:34:50.687848Z",
     "start_time": "2019-09-06T19:34:50.524837Z"
    },
    "heading_collapsed": true
   },
   "source": [
    "## LightGBM Stacking (bad)"
   ]
  },
  {
   "cell_type": "code",
   "execution_count": null,
   "metadata": {
    "ExecuteTime": {
     "end_time": "2019-09-06T19:34:27.632832Z",
     "start_time": "2019-09-06T19:32:10.594834Z"
    },
    "code_folding": [],
    "hidden": true
   },
   "outputs": [],
   "source": [
    "\n",
    "\n",
    "params = {\n",
    "    'learning_rate': 0.001,\n",
    "    'num_leaves': 20,\n",
    "    'max_depth': 1,\n",
    "    'min_child_weight': 10,\n",
    "    'lambda_l1':2,\n",
    "    'lambda_l2':3,\n",
    "    'min_data_in_leaf' :10,\n",
    "    'min_sum_hessian_in_leaf' : 0.0001,\n",
    "    'bagging_fraction' : 0.8,\n",
    "    'max_bin': 12,\n",
    "    'feature_fraction' : 0.9,\n",
    "    'bagging_freq' : 100,\n",
    "    'min_gain_to_split': 0.1 }\n",
    "\n",
    "train_options = {\n",
    "    \"model_type\":'lgb',\n",
    "    \"params\": params,\n",
    "    \"eval_metric\":'auc',\n",
    "    'early_stopping_rounds': 500,\n",
    "    'n_estimators': 5000,\n",
    "    'averaging': 'usual',\n",
    "    'use_groups': False,\n",
    "    'fold_name': folds.__class__.__name__,\n",
    "    'n_splits': n_fold\n",
    "}\n",
    "\n",
    "\n",
    "result_dict_lgb = train_model_classification(X=oof, X_test=prediction, y=y, params=params, folds=folds,\n",
    "                                         model_type=train_options['model_type'], \n",
    "                                         eval_metric=train_options['eval_metric'],\n",
    "                                         plot_feature_importance=True,\n",
    "                                         verbose=500, early_stopping_rounds=train_options['early_stopping_rounds'],\n",
    "                                         n_estimators=train_options['n_estimators'], \n",
    "                                         averaging=train_options['averaging'],\n",
    "                                         n_jobs=-1, groups=None)"
   ]
  },
  {
   "cell_type": "code",
   "execution_count": null,
   "metadata": {
    "hidden": true
   },
   "outputs": [],
   "source": []
  },
  {
   "cell_type": "markdown",
   "metadata": {
    "ExecuteTime": {
     "end_time": "2019-09-06T19:35:20.278847Z",
     "start_time": "2019-09-06T19:35:20.115833Z"
    }
   },
   "source": [
    "## Keras Stacking "
   ]
  },
  {
   "cell_type": "code",
   "execution_count": null,
   "metadata": {
    "ExecuteTime": {
     "end_time": "2019-09-12T17:29:30.933674Z",
     "start_time": "2019-09-12T17:29:30.673661Z"
    }
   },
   "outputs": [],
   "source": [
    "def StackModel_maker():\n",
    "    k.clear_session()\n",
    "    \n",
    "    numerical_inputs = Input(shape=[oof.shape[1]], name = 'all')\n",
    "    numerical_logits = Dropout(.3)(numerical_inputs)\n",
    "  \n",
    "    x = numerical_logits\n",
    "\n",
    "    x = Dense(50, activation = 'relu')(x)\n",
    "    x = Dropout(.3)(x)\n",
    "    x = Dense(10, activation = 'relu')(x)\n",
    "    x = Dropout(.3)(x)\n",
    "    x = BatchNormalization()(x)    \n",
    "    \n",
    "    out = Dense(1, activation = 'sigmoid')(x)    \n",
    "\n",
    "    model = Model(inputs= [numerical_inputs],outputs=out)\n",
    "    loss = \"binary_crossentropy\"\n",
    "    model.compile(optimizer=Adam(lr = 0.0003), loss = loss)\n",
    "    return model\n",
    "\n",
    "\n",
    "params = {\n",
    "    'batch_size': 16384,\n",
    "    'epochs': 200,\n",
    "    'verbose': True,\n",
    "         }\n",
    "train_options = {\n",
    "    \"model_type\":'keras',\n",
    "    \"params\": params,\n",
    "    \"eval_metric\":'auc',\n",
    "    'averaging': 'usual',\n",
    "    'use_groups': False,\n",
    "    'fold_name': folds.__class__.__name__,\n",
    "    'n_splits': n_fold\n",
    "   \n",
    "}"
   ]
  },
  {
   "cell_type": "code",
   "execution_count": null,
   "metadata": {
    "ExecuteTime": {
     "end_time": "2019-09-12T17:29:32.787159Z",
     "start_time": "2019-09-12T17:29:32.521108Z"
    }
   },
   "outputs": [],
   "source": [
    "with open(f'{model_folder}/training_params.json', 'w') as f:\n",
    "    q = json.dumps(train_options,indent=2)\n",
    "    f.write(q)\n",
    "# StackModel_maker().save(f'{model_folder}/keras.mdl')"
   ]
  },
  {
   "cell_type": "code",
   "execution_count": null,
   "metadata": {
    "ExecuteTime": {
     "end_time": "2019-09-12T17:29:33.947330Z",
     "start_time": "2019-09-12T17:29:33.616308Z"
    }
   },
   "outputs": [],
   "source": [
    "import keras\n",
    "import tensorflow as tf\n",
    "\n",
    "config = tf.ConfigProto( device_count = {'GPU': 1 , 'CPU':4}, log_device_placement=False) \n",
    "sess = tf.Session(config=config) \n",
    "keras.backend.set_session(sess)"
   ]
  },
  {
   "cell_type": "code",
   "execution_count": null,
   "metadata": {
    "ExecuteTime": {
     "end_time": "2019-09-12T17:40:33.967765Z",
     "start_time": "2019-09-12T17:29:34.770166Z"
    },
    "scrolled": true
   },
   "outputs": [],
   "source": [
    "gc.collect()\n",
    "result_dict_keras = train_model_classification(model=StackModel_maker, \n",
    "                                             X=oof,\n",
    "                                             X_test=prediction,\n",
    "                                             y=y, params=params, folds=folds,\n",
    "                                             model_type=train_options['model_type'], \n",
    "                                             eval_metric=train_options['eval_metric'],\n",
    "                                             averaging=train_options['averaging'],\n",
    "                                             groups=None)"
   ]
  },
  {
   "cell_type": "code",
   "execution_count": null,
   "metadata": {
    "ExecuteTime": {
     "end_time": "2019-09-12T17:41:33.110128Z",
     "start_time": "2019-09-12T17:41:30.728072Z"
    }
   },
   "outputs": [],
   "source": [
    "sub = pd.read_csv(f'../../data/sample_submission.csv')\n",
    "sub['isFraud'] = result_dict_keras['prediction']\n",
    "sub.to_csv(f'{model_folder}/stacked_keras.csv', index=False)"
   ]
  },
  {
   "cell_type": "code",
   "execution_count": null,
   "metadata": {
    "ExecuteTime": {
     "end_time": "2019-09-12T17:41:42.279769Z",
     "start_time": "2019-09-12T17:41:42.005688Z"
    }
   },
   "outputs": [],
   "source": [
    "import pickle\n",
    "with open(f'{model_folder}/results_dict_stacked_keras.pkl', 'wb') as f:\n",
    "#     q = json.dumps(result_dict_lgb,indent=2)\n",
    "    pickle.dump(result_dict_keras,f)\n",
    "#     f.write(q)"
   ]
  }
 ],
 "metadata": {
  "kernelspec": {
   "display_name": "Python 3",
   "language": "python",
   "name": "python3"
  },
  "toc": {
   "base_numbering": 1,
   "nav_menu": {},
   "number_sections": true,
   "sideBar": true,
   "skip_h1_title": false,
   "title_cell": "Table of Contents",
   "title_sidebar": "Contents",
   "toc_cell": false,
   "toc_position": {},
   "toc_section_display": true,
   "toc_window_display": false
  },
  "varInspector": {
   "cols": {
    "lenName": 16,
    "lenType": 16,
    "lenVar": 40
   },
   "kernels_config": {
    "python": {
     "delete_cmd_postfix": "",
     "delete_cmd_prefix": "del ",
     "library": "var_list.py",
     "varRefreshCmd": "print(var_dic_list())"
    },
    "r": {
     "delete_cmd_postfix": ") ",
     "delete_cmd_prefix": "rm(",
     "library": "var_list.r",
     "varRefreshCmd": "cat(var_dic_list()) "
    }
   },
   "types_to_exclude": [
    "module",
    "function",
    "builtin_function_or_method",
    "instance",
    "_Feature"
   ],
   "window_display": false
  }
 },
 "nbformat": 4,
 "nbformat_minor": 2
}
