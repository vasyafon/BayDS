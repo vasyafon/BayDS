{
 "cells": [
  {
   "cell_type": "code",
   "execution_count": 1,
   "metadata": {
    "ExecuteTime": {
     "end_time": "2019-08-31T14:45:29.871265Z",
     "start_time": "2019-08-31T14:45:24.227301Z"
    }
   },
   "outputs": [
    {
     "data": {
      "text/plain": [
       "RendererRegistry.enable('notebook')"
      ]
     },
     "execution_count": 1,
     "metadata": {},
     "output_type": "execute_result"
    }
   ],
   "source": [
    "%load_ext autoreload\n",
    "%autoreload 2\n",
    "\n",
    "import numpy as np\n",
    "import pandas as pd\n",
    "import os\n",
    "\n",
    "import matplotlib.pyplot as plt\n",
    "%matplotlib inline\n",
    "from tqdm import tqdm_notebook\n",
    "from sklearn.preprocessing import StandardScaler\n",
    "from sklearn.svm import NuSVR, SVR\n",
    "from sklearn.metrics import mean_absolute_error\n",
    "pd.options.display.precision = 15\n",
    "\n",
    "import lightgbm as lgb\n",
    "import xgboost as xgb\n",
    "import time\n",
    "import datetime\n",
    "from catboost import CatBoostRegressor\n",
    "from sklearn.preprocessing import LabelEncoder\n",
    "from sklearn.model_selection import StratifiedKFold, KFold, RepeatedKFold, GroupKFold, GridSearchCV, train_test_split, TimeSeriesSplit\n",
    "from sklearn import metrics\n",
    "from sklearn import linear_model\n",
    "import gc\n",
    "import seaborn as sns\n",
    "import warnings\n",
    "warnings.filterwarnings(\"ignore\")\n",
    "\n",
    "import eli5\n",
    "import shap\n",
    "from IPython.display import HTML\n",
    "import json\n",
    "import altair as alt\n",
    "\n",
    "import networkx as nx\n",
    "import matplotlib.pyplot as plt\n",
    "%matplotlib inline\n",
    "\n",
    "alt.renderers.enable('notebook')"
   ]
  },
  {
   "cell_type": "code",
   "execution_count": 2,
   "metadata": {
    "ExecuteTime": {
     "end_time": "2019-08-31T14:45:30.047265Z",
     "start_time": "2019-08-31T14:45:29.873218Z"
    }
   },
   "outputs": [],
   "source": [
    "main_path = r'd:\\Documents\\Private\\Kaggle\\IEEEFraud'"
   ]
  },
  {
   "cell_type": "code",
   "execution_count": 3,
   "metadata": {
    "ExecuteTime": {
     "end_time": "2019-08-31T14:45:30.823772Z",
     "start_time": "2019-08-31T14:45:30.050206Z"
    }
   },
   "outputs": [],
   "source": [
    "import sys\n",
    "sys.path.append(main_path)\n",
    "from BayDS import *"
   ]
  },
  {
   "cell_type": "code",
   "execution_count": 4,
   "metadata": {
    "ExecuteTime": {
     "end_time": "2019-08-31T14:45:31.006666Z",
     "start_time": "2019-08-31T14:45:30.825763Z"
    }
   },
   "outputs": [],
   "source": [
    "experiment_name = '31.08'\n",
    "main_learning_folder = main_path+'/Snapshots/'+experiment_name\n"
   ]
  },
  {
   "cell_type": "code",
   "execution_count": 5,
   "metadata": {
    "ExecuteTime": {
     "end_time": "2019-08-31T14:45:36.199262Z",
     "start_time": "2019-08-31T14:45:31.008647Z"
    }
   },
   "outputs": [],
   "source": [
    "train = pd.read_pickle(f'{main_learning_folder}/train.pkl')\n",
    "test = pd.read_pickle(f'{main_learning_folder}/test.pkl')\n"
   ]
  },
  {
   "cell_type": "code",
   "execution_count": 6,
   "metadata": {
    "ExecuteTime": {
     "end_time": "2019-08-31T14:45:58.538232Z",
     "start_time": "2019-08-31T14:45:36.201257Z"
    }
   },
   "outputs": [
    {
     "data": {
      "text/plain": [
       "20"
      ]
     },
     "execution_count": 6,
     "metadata": {},
     "output_type": "execute_result"
    }
   ],
   "source": [
    "X = train.sort_values('TransactionDT').drop(['isFraud', 'TransactionDT'], axis=1)\n",
    "y = train.sort_values('TransactionDT')['isFraud'].astype(np.uint8)\n",
    "test = test.sort_values('TransactionDT').drop(['TransactionDT'], axis=1)\n",
    "\n",
    "X.drop('Date', axis=1, inplace=True)\n",
    "X=X.astype(np.float32)\n",
    "test.drop('Date', axis=1, inplace=True)\n",
    "test=test.astype(np.float32)\n",
    "del train\n",
    "gc.collect()"
   ]
  },
  {
   "cell_type": "code",
   "execution_count": 7,
   "metadata": {
    "ExecuteTime": {
     "end_time": "2019-08-31T14:45:58.761233Z",
     "start_time": "2019-08-31T14:45:58.540233Z"
    }
   },
   "outputs": [],
   "source": [
    "# Setting model_folder\n",
    "model_name = 'catboost-test'\n",
    "model_folder = f'{main_learning_folder}/{model_name}'\n",
    "if not os.path.exists(model_folder):\n",
    "    os.makedirs(model_folder)"
   ]
  },
  {
   "cell_type": "code",
   "execution_count": 8,
   "metadata": {
    "ExecuteTime": {
     "end_time": "2019-08-31T14:45:58.963266Z",
     "start_time": "2019-08-31T14:45:58.764237Z"
    }
   },
   "outputs": [],
   "source": [
    "n_fold = 5\n",
    "# folds = TimeSeriesSplit(n_splits=n_fold)\n",
    "folds = KFold(n_splits=n_fold)\n",
    "# folds = GroupKFold(n_splits=5)\n",
    "# groups = pd.read_pickle('./groups.pkl').values"
   ]
  },
  {
   "cell_type": "code",
   "execution_count": 36,
   "metadata": {
    "ExecuteTime": {
     "end_time": "2019-08-31T14:53:18.964017Z",
     "start_time": "2019-08-31T14:53:18.782038Z"
    }
   },
   "outputs": [],
   "source": [
    "params = {'grow_policy':'SymmetricTree',\n",
    "#     'max_leaves': 10,\n",
    "#           'min_child_weight': 0.03454472573214212,\n",
    "#           'feature_fraction': 0.3797454081646243,\n",
    "#           'bagging_fraction': 0.4181193142567742,\n",
    "          'min_data_in_leaf': 106,\n",
    "          'objective': 'CrossEntropy',\n",
    "#           'max_depth': -1,\n",
    "          'learning_rate': 0.03,\n",
    "#           \"boosting_type\": \"gbdt\",\n",
    "#           \"bagging_seed\": 11,\n",
    "          \"custom_metric\": 'AUC',\n",
    "          \"logging_level\": 'Verbose',\n",
    "#           'reg_alpha': 0.3899927210061127,\n",
    "#           'reg_lambda': 0.6485237330340494,\n",
    "          'random_state': 47,\n",
    "          'bootstrap_type': 'Bayesian',\n",
    "          'task_type': 'GPU'\n",
    "         }\n",
    "train_options = {\n",
    "    \"model_type\":'cat',\n",
    "    \"params\": params,\n",
    "    \"eval_metric\":'auc',\n",
    "    'early_stopping_rounds': 200,\n",
    "    'n_estimators': 50,\n",
    "    'averaging': 'usual',\n",
    "    'use_groups': False,\n",
    "    'fold_name': folds.__class__.__name__,\n",
    "    'n_splits': n_fold\n",
    "    \n",
    "}"
   ]
  },
  {
   "cell_type": "code",
   "execution_count": 10,
   "metadata": {
    "ExecuteTime": {
     "end_time": "2019-08-31T14:45:59.363239Z",
     "start_time": "2019-08-31T14:45:59.171245Z"
    }
   },
   "outputs": [],
   "source": [
    "with open(f'{model_folder}/training_params.json', 'w') as f:\n",
    "    q = json.dumps(train_options,indent=2)\n",
    "    f.write(q)"
   ]
  },
  {
   "cell_type": "code",
   "execution_count": 37,
   "metadata": {
    "ExecuteTime": {
     "end_time": "2019-08-31T14:55:34.213478Z",
     "start_time": "2019-08-31T14:53:22.798460Z"
    }
   },
   "outputs": [
    {
     "name": "stdout",
     "output_type": "stream",
     "text": [
      "5953\n",
      "Fold 1 started at Sat Aug 31 17:53:24 2019\n",
      "Fold 2 started at Sat Aug 31 17:54:30 2019\n",
      "Fold 3 started at Sat Aug 31 17:54:46 2019\n",
      "Fold 4 started at Sat Aug 31 17:55:02 2019\n",
      "Fold 5 started at Sat Aug 31 17:55:18 2019\n",
      "CV mean score: 0.6116, std: 0.0055.\n"
     ]
    }
   ],
   "source": [
    "print(gc.collect())\n",
    "result_dict_lgb = train_model_classification(X=X, X_test=test, y=y, params=params, folds=folds,\n",
    "                                             model_type=train_options['model_type'], \n",
    "                                             eval_metric=train_options['eval_metric'],\n",
    "                                             plot_feature_importance=True,\n",
    "                                             verbose=500, early_stopping_rounds=train_options['early_stopping_rounds'],\n",
    "                                             n_estimators=train_options['n_estimators'], \n",
    "                                             averaging=train_options['averaging'],\n",
    "                                             n_jobs=-1, groups=None)"
   ]
  },
  {
   "cell_type": "code",
   "execution_count": 41,
   "metadata": {
    "ExecuteTime": {
     "end_time": "2019-08-31T15:01:02.286917Z",
     "start_time": "2019-08-31T15:01:02.076875Z"
    }
   },
   "outputs": [],
   "source": [
    "import pickle\n",
    "with open(f'{model_folder}/results_dict.pkl', 'wb') as f:\n",
    "#     q = json.dumps(result_dict_lgb,indent=2)\n",
    "    pickle.dump(result_dict_lgb,f)\n",
    "#     f.write(q)"
   ]
  }
 ],
 "metadata": {
  "kernelspec": {
   "display_name": "Python 3",
   "language": "python",
   "name": "python3"
  },
  "language_info": {
   "codemirror_mode": {
    "name": "ipython",
    "version": 3
   },
   "file_extension": ".py",
   "mimetype": "text/x-python",
   "name": "python",
   "nbconvert_exporter": "python",
   "pygments_lexer": "ipython3",
   "version": "3.6.5"
  },
  "toc": {
   "base_numbering": 1,
   "nav_menu": {},
   "number_sections": true,
   "sideBar": true,
   "skip_h1_title": false,
   "title_cell": "Table of Contents",
   "title_sidebar": "Contents",
   "toc_cell": false,
   "toc_position": {},
   "toc_section_display": true,
   "toc_window_display": false
  },
  "varInspector": {
   "cols": {
    "lenName": 16,
    "lenType": 16,
    "lenVar": 40
   },
   "kernels_config": {
    "python": {
     "delete_cmd_postfix": "",
     "delete_cmd_prefix": "del ",
     "library": "var_list.py",
     "varRefreshCmd": "print(var_dic_list())"
    },
    "r": {
     "delete_cmd_postfix": ") ",
     "delete_cmd_prefix": "rm(",
     "library": "var_list.r",
     "varRefreshCmd": "cat(var_dic_list()) "
    }
   },
   "position": {
    "height": "754px",
    "left": "1522px",
    "right": "20px",
    "top": "120px",
    "width": "344px"
   },
   "types_to_exclude": [
    "module",
    "function",
    "builtin_function_or_method",
    "instance",
    "_Feature"
   ],
   "window_display": true
  }
 },
 "nbformat": 4,
 "nbformat_minor": 4
}
