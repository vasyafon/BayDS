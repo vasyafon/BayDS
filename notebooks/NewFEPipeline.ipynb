{
 "cells": [
  {
   "cell_type": "code",
   "execution_count": 23,
   "metadata": {
    "ExecuteTime": {
     "end_time": "2019-09-29T12:52:03.593414Z",
     "start_time": "2019-09-29T12:52:03.585413Z"
    }
   },
   "outputs": [],
   "source": [
    "from time import time\n",
    "import lightgbm as lgb\n",
    "import numpy as np\n",
    "import sys\n",
    "# sys.path.append('..\\Python Scripts\\pipeline')\n",
    "import warnings\n",
    "warnings.filterwarnings('ignore') \n",
    "import seaborn as sns\n",
    "from sklearn import preprocessing\n",
    "from matplotlib import pyplot as plt\n",
    "from sklearn.preprocessing import StandardScaler\n",
    "import pickle\n",
    "from sklearn.model_selection import KFold, TimeSeriesSplit\n",
    "from scipy.stats import uniform\n",
    "import datetime\n",
    "from sklearn.ensemble import RandomForestClassifier\n",
    "import lightgbm\n",
    "from scipy import stats\n",
    "# from hyperopt import hp, tpe\n",
    "# from hyperopt.fmin import fmin\n",
    "from sklearn.model_selection import cross_val_score, StratifiedKFold\n",
    "import pandas as pd\n",
    "from sklearn.tree import DecisionTreeClassifier\n",
    "from sklearn.linear_model import LogisticRegression\n",
    "from sklearn.model_selection import train_test_split, StratifiedKFold, \\\n",
    "cross_val_score, GridSearchCV, validation_curve, KFold, GroupKFold\n",
    "from sklearn.metrics import roc_auc_score\n",
    "import seaborn as sns\n",
    "%matplotlib inline\n",
    "import gc"
   ]
  },
  {
   "cell_type": "code",
   "execution_count": 17,
   "metadata": {
    "ExecuteTime": {
     "end_time": "2019-09-29T12:46:39.019751Z",
     "start_time": "2019-09-29T12:46:35.020735Z"
    }
   },
   "outputs": [],
   "source": [
    "data = pd.read_pickle(r'f:\\my\\Prog\\kaggle\\Baydin\\Snapshots\\1\\01-JoinReduceMem\\data.pkl')"
   ]
  },
  {
   "cell_type": "markdown",
   "metadata": {},
   "source": [
    "# New"
   ]
  },
  {
   "cell_type": "code",
   "execution_count": 31,
   "metadata": {
    "ExecuteTime": {
     "end_time": "2019-09-29T12:56:34.936985Z",
     "start_time": "2019-09-29T12:56:34.238985Z"
    },
    "code_folding": []
   },
   "outputs": [],
   "source": [
    "for col in ['DT_M', 'DT_W', 'DT_D']:\n",
    "    temp_df = data[[col]]\n",
    "    fq_encode = temp_df[col].value_counts().to_dict()\n",
    "\n",
    "    data[col + '_total'] = data[col].map(fq_encode)"
   ]
  },
  {
   "cell_type": "code",
   "execution_count": null,
   "metadata": {},
   "outputs": [],
   "source": [
    "\n",
    "\n"
   ]
  },
  {
   "cell_type": "code",
   "execution_count": null,
   "metadata": {
    "code_folding": []
   },
   "outputs": [],
   "source": [
    "\n",
    "\n"
   ]
  },
  {
   "cell_type": "code",
   "execution_count": null,
   "metadata": {},
   "outputs": [],
   "source": [
    "# ВЫЗОВ ФУНКЦИИ АГРЕГАТ НАД АГРЕГАТОМ\n",
    "\n",
    "i_cols = ['card3', 'card5', 'bank_type']\n",
    "\n",
    "data = bank_type_aggregate(data, i_cols, big_period, small_period, type_aggregate)\n"
   ]
  },
  {
   "cell_type": "code",
   "execution_count": null,
   "metadata": {},
   "outputs": [],
   "source": [
    "\n",
    " "
   ]
  },
  {
   "cell_type": "code",
   "execution_count": null,
   "metadata": {},
   "outputs": [],
   "source": [
    "\n",
    "# ХОЧЕТСЯ ЕЩЕ ГРУП БАЙ С ВРЕМЕНЕМ ДЛЯ ТРАМТ"
   ]
  },
  {
   "cell_type": "code",
   "execution_count": null,
   "metadata": {
    "code_folding": []
   },
   "outputs": [],
   "source": [
    "\n"
   ]
  },
  {
   "cell_type": "markdown",
   "metadata": {},
   "source": [
    "# Final addings: new_card_id, time_freq, aggs, additional feats"
   ]
  },
  {
   "cell_type": "code",
   "execution_count": null,
   "metadata": {},
   "outputs": [],
   "source": [
    "c8 = pd.read_pickle(r'f:\\my\\Prog\\kaggle\\Baydin\\Snapshots\\1\\NewId\\C8_agg.pkl')\n",
    "c5 = pd.read_pickle(r'f:\\my\\Prog\\kaggle\\Baydin\\Snapshots\\1\\NewId\\C5_agg.pkl')\n",
    "tramt = pd.read_pickle(r'f:\\my\\Prog\\kaggle\\Baydin\\Snapshots\\1\\NewId\\TransactionAmt_agg.pkl')\n",
    "\n",
    "train = data[data['isFraud'] != -1]\n",
    "test = data[data['isFraud'] == -1].drop('isFraud', axis=1)\n",
    "y = data[data['isFraud'] != -1]['isFraud']\n",
    "\n",
    "train = train.join(c8).join(c5).join(tramt)\n",
    "test = test.join(c8).join(c5).join(tramt)"
   ]
  },
  {
   "cell_type": "code",
   "execution_count": null,
   "metadata": {},
   "outputs": [],
   "source": [
    "del data\n",
    "gc.collect()\n",
    "\n",
    "\n",
    "cols = \"TransactionDT,TransactionAmt,ProductCD,card1,card2,card3,card4,card5,card6,addr1,addr2,C1,C2,C3,C4,C5,C6,C7,C8,C9,C10,C11,C12,C13,C14,M1,M2,M3,M4,M5,M6,M7,M8,M9\".split(\",\")\n",
    "train_test = train[cols].append(test[cols])\n",
    "\n",
    "for col in \"ProductCD,card1,card2,card3,card4,card5,card6,addr1,addr2,C1,C2,C3,C4,C5,C6,C7,C8,C9,C10,C11,C12,C13,C14\".split(\",\"):\n",
    "    col_count = train_test.groupby(col)['TransactionDT'].count()\n",
    "    train[col+'_count'] = train[col].map(col_count)\n",
    "    test[col+'_count'] = test[col].map(col_count)\n",
    "\n",
    "\n",
    "for col in \"card1,card2,card5,addr1,addr2\".split(\",\"):\n",
    "    col_count = train_test.groupby(col)['TransactionAmt'].mean()\n",
    "    train[col+'_amtcount'] = train[col].map(col_count)\n",
    "    test[col+'_amtcount'] = test[col].map(col_count)\n",
    "    col_count1 = train_test[train_test['C5'] == 0].groupby(col)['C5'].count()\n",
    "    col_count2 = train_test[train_test['C5'] != 0].groupby(col)['C5'].count()\n",
    "    train[col+'_C5count'] = train[col].map(col_count2) / (train[col].map(col_count1) + 0.01)\n",
    "    test[col+'_C5count'] = test[col].map(col_count2) / (test[col].map(col_count1) + 0.01)\n",
    "    \n",
    "del train_test\n",
    "gc.collect()"
   ]
  },
  {
   "cell_type": "code",
   "execution_count": null,
   "metadata": {},
   "outputs": [],
   "source": [
    "# train.drop([x for x in train.columns if 'by_card_id_ws' in x], axis=1, inplace=True)\n",
    "# test.drop([x for x in test.columns if 'by_card_id_ws' in x], axis=1, inplace=True)\n",
    "\n",
    "# train.drop(['Date', 'TransactionDT'], axis=1, inplace=True)\n",
    "# test.drop(['Date', 'TransactionDT'], axis=1, inplace=True)\n",
    "\n",
    "# train.drop(['DT_W', 'DT_D'] , axis=1, inplace=True)\n",
    "# test.drop(['DT_W', 'DT_D'] , axis=1, inplace=True)"
   ]
  },
  {
   "cell_type": "code",
   "execution_count": null,
   "metadata": {},
   "outputs": [],
   "source": [
    "# for x in train.columns:\n",
    "#     if train[x].dtype == 'O':\n",
    "#         print(x)\n",
    "\n",
    "# train.drop('version_id_31', axis=1, inplace=True)\n",
    "# test.drop('version_id_31', axis=1, inplace=True)\n",
    "\n",
    "# train.drop('BrowserVersion', axis=1, inplace=True)\n",
    "# test.drop('BrowserVersion', axis=1, inplace=True)\n",
    "\n",
    "# train['screen_height'] = train['screen_height'].replace('None', np.nan).astype(float)\n",
    "# test['screen_height'] = test['screen_height'].replace('None', np.nan).astype(float)\n",
    "\n",
    "# train['screen_width'] = train['screen_width'].replace('None', np.nan).astype(float)\n",
    "# test['screen_width'] = test['screen_width'].replace('None', np.nan).astype(float)"
   ]
  },
  {
   "cell_type": "code",
   "execution_count": null,
   "metadata": {},
   "outputs": [],
   "source": [
    "# trainaggs = pd.DataFrame(index=train.index)\n",
    "# testaggs = pd.DataFrame(index=test.index)\n",
    "\n",
    "# for item in [\n",
    "    \n",
    "#  'C4_aggby_new_card_id.pkl',\n",
    "#  'C9_aggby_new_card_id.pkl',\n",
    "#  ]:\n",
    "#     temp = pd.read_pickle(r'f:\\my\\Prog\\kaggle\\Baydin\\Snapshots\\1\\NewId' + '//' + item)\n",
    "#     trainaggs = trainaggs.join(temp)\n",
    "#     testaggs = testaggs.join(temp)\n",
    "\n",
    "# trainaggs = trainaggs[['C4_by_new_card_id_ws3d_to_mean', 'C4_by_new_card_id_ws7d_to_mean',\n",
    "#        'C4_by_new_card_id_ws30d_to_mean', 'C4_by_new_card_id_ws100_to_mean', 'C9_by_new_card_id_ws7d_to_mean',\n",
    "#        'C9_by_new_card_id_ws5_to_mean', 'C9_by_new_card_id_ws10_to_mean']]\n",
    "# testaggs = testaggs[['C4_by_new_card_id_ws3d_to_mean', 'C4_by_new_card_id_ws7d_to_mean',\n",
    "#        'C4_by_new_card_id_ws30d_to_mean', 'C4_by_new_card_id_ws100_to_mean', 'C9_by_new_card_id_ws7d_to_mean',\n",
    "#        'C9_by_new_card_id_ws5_to_mean', 'C9_by_new_card_id_ws10_to_mean']]\n",
    "\n",
    "# train = train.join(trainaggs)\n",
    "# test = test.join(testaggs)\n",
    "\n",
    "# del temp, trainaggs, testaggs, train_idx, test_idx\n",
    "# gc.collect()"
   ]
  },
  {
   "cell_type": "code",
   "execution_count": null,
   "metadata": {},
   "outputs": [],
   "source": [
    "train.drop([x for x in train.columns if 'V' in x], axis=1, inplace=True)\n",
    "test.drop([x for x in test.columns if 'V' in x], axis=1, inplace=True)\n",
    "\n",
    "vs = pd.read_pickle(r'f:\\my\\Prog\\kaggle\\Baydin\\Snapshots\\1\\VFeatures\\v_features_reduced.pkl')\n",
    "\n",
    "train = train.join(vs)\n",
    "test = test.join(vs)"
   ]
  },
  {
   "cell_type": "code",
   "execution_count": null,
   "metadata": {},
   "outputs": [],
   "source": [
    "newid = pd.read_pickle(r'f:\\my\\Prog\\kaggle\\Baydin\\Snapshots\\1\\NewId\\new_id.pkl')\n",
    "\n",
    "train = train.join(newid)\n",
    "test = test.join(newid)\n",
    "\n",
    "train['start_date'] = pd.to_timedelta(pd.to_datetime(train['start_date'])).map(lambda x: x.days)\n",
    "test['start_date'] = pd.to_timedelta(pd.to_datetime(test['start_date'])).map(lambda x: x.days)"
   ]
  },
  {
   "cell_type": "code",
   "execution_count": null,
   "metadata": {},
   "outputs": [],
   "source": [
    "timefreq = pd.read_pickle(r'f:\\my\\Prog\\kaggle\\Baydin\\Snapshots\\1\\TimeAggs24.09\\transaction_frequencies.pkl')\n",
    "\n",
    "train = train.join(timefreq)\n",
    "test = test.join(timefreq)\n",
    "\n",
    "train.drop('isFraud', axis=1, inplace=True)\n",
    "\n",
    "del timefreq, vs\n",
    "gc.collect()"
   ]
  },
  {
   "cell_type": "code",
   "execution_count": null,
   "metadata": {},
   "outputs": [],
   "source": []
  },
  {
   "cell_type": "code",
   "execution_count": null,
   "metadata": {},
   "outputs": [],
   "source": []
  },
  {
   "cell_type": "code",
   "execution_count": null,
   "metadata": {},
   "outputs": [],
   "source": []
  },
  {
   "cell_type": "code",
   "execution_count": null,
   "metadata": {},
   "outputs": [],
   "source": []
  },
  {
   "cell_type": "code",
   "execution_count": null,
   "metadata": {},
   "outputs": [],
   "source": []
  },
  {
   "cell_type": "code",
   "execution_count": null,
   "metadata": {
    "code_folding": []
   },
   "outputs": [],
   "source": []
  },
  {
   "cell_type": "code",
   "execution_count": null,
   "metadata": {
    "code_folding": []
   },
   "outputs": [],
   "source": []
  }
 ],
 "metadata": {
  "kernelspec": {
   "display_name": "Python 3",
   "language": "python",
   "name": "python3"
  },
  "language_info": {
   "codemirror_mode": {
    "name": "ipython",
    "version": 3
   },
   "file_extension": ".py",
   "mimetype": "text/x-python",
   "name": "python",
   "nbconvert_exporter": "python",
   "pygments_lexer": "ipython3",
   "version": "3.7.4"
  },
  "toc": {
   "base_numbering": 1,
   "nav_menu": {},
   "number_sections": true,
   "sideBar": true,
   "skip_h1_title": false,
   "title_cell": "Table of Contents",
   "title_sidebar": "Contents",
   "toc_cell": false,
   "toc_position": {},
   "toc_section_display": true,
   "toc_window_display": false
  },
  "varInspector": {
   "cols": {
    "lenName": 16,
    "lenType": 16,
    "lenVar": 40
   },
   "kernels_config": {
    "python": {
     "delete_cmd_postfix": "",
     "delete_cmd_prefix": "del ",
     "library": "var_list.py",
     "varRefreshCmd": "print(var_dic_list())"
    },
    "r": {
     "delete_cmd_postfix": ") ",
     "delete_cmd_prefix": "rm(",
     "library": "var_list.r",
     "varRefreshCmd": "cat(var_dic_list()) "
    }
   },
   "types_to_exclude": [
    "module",
    "function",
    "builtin_function_or_method",
    "instance",
    "_Feature"
   ],
   "window_display": false
  }
 },
 "nbformat": 4,
 "nbformat_minor": 2
}
