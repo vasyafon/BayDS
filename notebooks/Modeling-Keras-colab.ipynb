{
  "nbformat": 4,
  "nbformat_minor": 0,
  "metadata": {
    "kernelspec": {
      "display_name": "Python 3",
      "language": "python",
      "name": "python3"
    },
    "language_info": {
      "codemirror_mode": {
        "name": "ipython",
        "version": 3
      },
      "file_extension": ".py",
      "mimetype": "text/x-python",
      "name": "python",
      "nbconvert_exporter": "python",
      "pygments_lexer": "ipython3",
      "version": "3.7.4"
    },
    "toc": {
      "base_numbering": 1,
      "nav_menu": {},
      "number_sections": true,
      "sideBar": true,
      "skip_h1_title": false,
      "title_cell": "Table of Contents",
      "title_sidebar": "Contents",
      "toc_cell": false,
      "toc_position": {},
      "toc_section_display": true,
      "toc_window_display": false
    },
    "varInspector": {
      "cols": {
        "lenName": 16,
        "lenType": 16,
        "lenVar": 40
      },
      "kernels_config": {
        "python": {
          "delete_cmd_postfix": "",
          "delete_cmd_prefix": "del ",
          "library": "var_list.py",
          "varRefreshCmd": "print(var_dic_list())"
        },
        "r": {
          "delete_cmd_postfix": ") ",
          "delete_cmd_prefix": "rm(",
          "library": "var_list.r",
          "varRefreshCmd": "cat(var_dic_list()) "
        }
      },
      "position": {
        "height": "754px",
        "left": "1526px",
        "right": "20px",
        "top": "96px",
        "width": "344px"
      },
      "types_to_exclude": [
        "module",
        "function",
        "builtin_function_or_method",
        "instance",
        "_Feature"
      ],
      "window_display": true
    },
    "colab": {
      "name": "Modeling-Keras.ipynb",
      "version": "0.3.2",
      "provenance": []
    }
  },
  "cells": [
    {
      "cell_type": "code",
      "metadata": {
        "ExecuteTime": {
          "end_time": "2019-09-01T17:06:31.759076Z",
          "start_time": "2019-09-01T17:06:26.487233Z"
        },
        "id": "COXogtVZcczg",
        "colab_type": "code",
        "colab": {
          "base_uri": "https://localhost:8080/",
          "height": 68
        },
        "outputId": "7c98ee2b-8f4f-4c1a-e493-4090e3f8bd63"
      },
      "source": [
        "%load_ext autoreload\n",
        "%autoreload 2\n",
        "\n",
        "import numpy as np\n",
        "import pandas as pd\n",
        "import os\n",
        "\n",
        "from keras.layers import Concatenate, Input, Dense, Embedding, Flatten, Dropout, BatchNormalization, SpatialDropout1D\n",
        "from keras.callbacks import ModelCheckpoint, ReduceLROnPlateau\n",
        "from keras.models import Model\n",
        "from keras.optimizers import  Adam\n",
        "import keras.backend as k\n",
        "\n",
        "# import matplotlib.pyplot as plt\n",
        "# %matplotlib inline\n",
        "# from tqdm import tqdm_notebook\n",
        "from sklearn.preprocessing import StandardScaler\n",
        "# from sklearn.svm import NuSVR, SVR\n",
        "from sklearn.metrics import mean_absolute_error\n",
        "# pd.options.display.precision = 15\n",
        "# import lightgbm as lgb\n",
        "# import xgboost as xgb\n",
        "# import time\n",
        "# import datetime\n",
        "# from catboost import CatBoostRegressor\n",
        "# from sklearn.preprocessing import LabelEncoder\n",
        "# from sklearn.model_selection import StratifiedKFold, KFold, RepeatedKFold, GroupKFold, GridSearchCV, train_test_split, TimeSeriesSplit\n",
        "# from sklearn import metrics\n",
        "# from sklearn import linear_model\n",
        "import gc\n",
        "import pickle\n",
        "# import seaborn as sns\n",
        "# import warnings\n",
        "# warnings.filterwarnings(\"ignore\")\n",
        "\n",
        "# import eli5\n",
        "# import shap\n",
        "# from IPython.display import HTML\n",
        "# import json\n",
        "# import altair as alt\n",
        "\n",
        "# import networkx as nx\n",
        "# import matplotlib.pyplot as plt\n",
        "\n",
        "gc.collect()\n",
        "# alt.renderers.enable('notebook')"
      ],
      "execution_count": 2,
      "outputs": [
        {
          "output_type": "stream",
          "text": [
            "The autoreload extension is already loaded. To reload it, use:\n",
            "  %reload_ext autoreload\n"
          ],
          "name": "stdout"
        },
        {
          "output_type": "execute_result",
          "data": {
            "text/plain": [
              "0"
            ]
          },
          "metadata": {
            "tags": []
          },
          "execution_count": 2
        }
      ]
    },
    {
      "cell_type": "code",
      "metadata": {
        "id": "p2D-A7cndMEb",
        "colab_type": "code",
        "colab": {
          "base_uri": "https://localhost:8080/",
          "height": 122
        },
        "outputId": "be7d8ee2-f4fd-4f4a-a338-d75f587e6023"
      },
      "source": [
        "from google.colab import drive\n",
        "drive.mount('/content/drive')"
      ],
      "execution_count": 3,
      "outputs": [
        {
          "output_type": "stream",
          "text": [
            "Go to this URL in a browser: https://accounts.google.com/o/oauth2/auth?client_id=947318989803-6bn6qk8qdgf4n4g3pfee6491hc0brc4i.apps.googleusercontent.com&redirect_uri=urn%3Aietf%3Awg%3Aoauth%3A2.0%3Aoob&scope=email%20https%3A%2F%2Fwww.googleapis.com%2Fauth%2Fdocs.test%20https%3A%2F%2Fwww.googleapis.com%2Fauth%2Fdrive%20https%3A%2F%2Fwww.googleapis.com%2Fauth%2Fdrive.photos.readonly%20https%3A%2F%2Fwww.googleapis.com%2Fauth%2Fpeopleapi.readonly&response_type=code\n",
            "\n",
            "Enter your authorization code:\n",
            "··········\n",
            "Mounted at /content/drive\n"
          ],
          "name": "stdout"
        }
      ]
    },
    {
      "cell_type": "code",
      "metadata": {
        "id": "tRtsCHMDd-Cz",
        "colab_type": "code",
        "colab": {
          "base_uri": "https://localhost:8080/",
          "height": 510
        },
        "outputId": "f169e167-428f-46b0-d07e-9eb8c4841860"
      },
      "source": [
        "!pip install catboost"
      ],
      "execution_count": 10,
      "outputs": [
        {
          "output_type": "stream",
          "text": [
            "Collecting catboost\n",
            "\u001b[?25l  Downloading https://files.pythonhosted.org/packages/ef/e9/41060f73ca5dcf604f75bc871ee5ce8dcb201897640b37c95aa8b1e139c8/catboost-0.16.5-cp36-none-manylinux1_x86_64.whl (61.9MB)\n",
            "\u001b[K     |████████████████████████████████| 61.9MB 638kB/s \n",
            "\u001b[?25hRequirement already satisfied: six in /usr/local/lib/python3.6/dist-packages (from catboost) (1.12.0)\n",
            "Requirement already satisfied: graphviz in /usr/local/lib/python3.6/dist-packages (from catboost) (0.10.1)\n",
            "Requirement already satisfied: matplotlib in /usr/local/lib/python3.6/dist-packages (from catboost) (3.0.3)\n",
            "Requirement already satisfied: pandas>=0.19.1 in /usr/local/lib/python3.6/dist-packages (from catboost) (0.24.2)\n",
            "Requirement already satisfied: plotly in /usr/local/lib/python3.6/dist-packages (from catboost) (3.6.1)\n",
            "Requirement already satisfied: numpy>=1.16.0 in /usr/local/lib/python3.6/dist-packages (from catboost) (1.16.4)\n",
            "Requirement already satisfied: python-dateutil>=2.1 in /usr/local/lib/python3.6/dist-packages (from matplotlib->catboost) (2.5.3)\n",
            "Requirement already satisfied: kiwisolver>=1.0.1 in /usr/local/lib/python3.6/dist-packages (from matplotlib->catboost) (1.1.0)\n",
            "Requirement already satisfied: pyparsing!=2.0.4,!=2.1.2,!=2.1.6,>=2.0.1 in /usr/local/lib/python3.6/dist-packages (from matplotlib->catboost) (2.4.2)\n",
            "Requirement already satisfied: cycler>=0.10 in /usr/local/lib/python3.6/dist-packages (from matplotlib->catboost) (0.10.0)\n",
            "Requirement already satisfied: pytz>=2011k in /usr/local/lib/python3.6/dist-packages (from pandas>=0.19.1->catboost) (2018.9)\n",
            "Requirement already satisfied: requests in /usr/local/lib/python3.6/dist-packages (from plotly->catboost) (2.21.0)\n",
            "Requirement already satisfied: nbformat>=4.2 in /usr/local/lib/python3.6/dist-packages (from plotly->catboost) (4.4.0)\n",
            "Requirement already satisfied: decorator>=4.0.6 in /usr/local/lib/python3.6/dist-packages (from plotly->catboost) (4.4.0)\n",
            "Requirement already satisfied: retrying>=1.3.3 in /usr/local/lib/python3.6/dist-packages (from plotly->catboost) (1.3.3)\n",
            "Requirement already satisfied: setuptools in /usr/local/lib/python3.6/dist-packages (from kiwisolver>=1.0.1->matplotlib->catboost) (41.2.0)\n",
            "Requirement already satisfied: idna<2.9,>=2.5 in /usr/local/lib/python3.6/dist-packages (from requests->plotly->catboost) (2.8)\n",
            "Requirement already satisfied: certifi>=2017.4.17 in /usr/local/lib/python3.6/dist-packages (from requests->plotly->catboost) (2019.6.16)\n",
            "Requirement already satisfied: chardet<3.1.0,>=3.0.2 in /usr/local/lib/python3.6/dist-packages (from requests->plotly->catboost) (3.0.4)\n",
            "Requirement already satisfied: urllib3<1.25,>=1.21.1 in /usr/local/lib/python3.6/dist-packages (from requests->plotly->catboost) (1.24.3)\n",
            "Requirement already satisfied: traitlets>=4.1 in /usr/local/lib/python3.6/dist-packages (from nbformat>=4.2->plotly->catboost) (4.3.2)\n",
            "Requirement already satisfied: ipython-genutils in /usr/local/lib/python3.6/dist-packages (from nbformat>=4.2->plotly->catboost) (0.2.0)\n",
            "Requirement already satisfied: jsonschema!=2.5.0,>=2.4 in /usr/local/lib/python3.6/dist-packages (from nbformat>=4.2->plotly->catboost) (2.6.0)\n",
            "Requirement already satisfied: jupyter-core in /usr/local/lib/python3.6/dist-packages (from nbformat>=4.2->plotly->catboost) (4.5.0)\n",
            "Installing collected packages: catboost\n",
            "Successfully installed catboost-0.16.5\n"
          ],
          "name": "stdout"
        }
      ]
    },
    {
      "cell_type": "code",
      "metadata": {
        "ExecuteTime": {
          "end_time": "2019-09-01T17:06:34.553981Z",
          "start_time": "2019-09-01T17:06:34.336982Z"
        },
        "id": "Am6tm4r1cczl",
        "colab_type": "code",
        "colab": {}
      },
      "source": [
        "main_path = r'/content/drive/My Drive/Kaggle'"
      ],
      "execution_count": 0,
      "outputs": []
    },
    {
      "cell_type": "code",
      "metadata": {
        "ExecuteTime": {
          "end_time": "2019-09-01T17:20:59.051411Z",
          "start_time": "2019-09-01T17:20:58.725422Z"
        },
        "id": "d9V_f1k6cczn",
        "colab_type": "code",
        "colab": {}
      },
      "source": [
        "import sys\n",
        "sys.path.append(main_path)\n",
        "from BayDS import *"
      ],
      "execution_count": 0,
      "outputs": []
    },
    {
      "cell_type": "code",
      "metadata": {
        "ExecuteTime": {
          "end_time": "2019-09-01T17:06:41.481317Z",
          "start_time": "2019-09-01T17:06:41.250316Z"
        },
        "id": "gigeOY5zcczo",
        "colab_type": "code",
        "colab": {}
      },
      "source": [
        "experiment_name = 'keras-02.09'\n",
        "main_learning_folder = main_path+'/Snapshots/'+experiment_name\n"
      ],
      "execution_count": 0,
      "outputs": []
    },
    {
      "cell_type": "code",
      "metadata": {
        "ExecuteTime": {
          "end_time": "2019-09-01T17:07:10.196891Z",
          "start_time": "2019-09-01T17:07:04.130151Z"
        },
        "id": "uF8Bz7focc0F",
        "colab_type": "code",
        "colab": {
          "base_uri": "https://localhost:8080/",
          "height": 34
        },
        "outputId": "00252565-27e6-431a-f1cf-0b8e9a744586"
      },
      "source": [
        "#start here\n",
        "y = pd.read_pickle(f'{main_learning_folder}/y.pkl')\n",
        "X = pd.read_pickle(f'{main_learning_folder}/X_encoded_scaled.pkl')\n",
        "test = pd.read_pickle(f'{main_learning_folder}/test_encoded_scaled.pkl')\n",
        "gc.collect()"
      ],
      "execution_count": 18,
      "outputs": [
        {
          "output_type": "execute_result",
          "data": {
            "text/plain": [
              "446"
            ]
          },
          "metadata": {
            "tags": []
          },
          "execution_count": 18
        }
      ]
    },
    {
      "cell_type": "code",
      "metadata": {
        "ExecuteTime": {
          "end_time": "2019-09-01T17:06:49.862187Z",
          "start_time": "2019-09-01T17:06:49.620003Z"
        },
        "id": "SATkYCUZcczx",
        "colab_type": "code",
        "colab": {}
      },
      "source": [
        "cat_anya = ['ProductCD', 'card4', 'card6', 'P_emaildomain', 'R_emaildomain', 'M1',\n",
        "       'M2', 'M3', 'M4', 'M5', 'M6', 'M7', 'M8', 'M9', 'id_12', 'id_15',\n",
        "       'id_16', 'id_23', 'id_27', 'id_28', 'id_29', 'id_30', 'id_31', 'id_33',\n",
        "       'id_34', 'id_35', 'id_36', 'id_37', 'id_38', 'DeviceType', 'DeviceInfo',\n",
        "       'P_emaildomain_bin', 'P_emaildomain_suffix', 'R_emaildomain_bin',\n",
        "       'R_emaildomain_suffix', 'device_name', 'device_version', 'OS_id_30',\n",
        "       'version_id_30', 'browser_id_31', 'version_id_31', 'screen_width',\n",
        "       'screen_height', 'uid', 'uid2', 'uid3']"
      ],
      "execution_count": 0,
      "outputs": []
    },
    {
      "cell_type": "code",
      "metadata": {
        "ExecuteTime": {
          "end_time": "2019-09-01T17:06:53.087084Z",
          "start_time": "2019-09-01T17:06:52.836019Z"
        },
        "id": "WAnXxeZqccz0",
        "colab_type": "code",
        "colab": {}
      },
      "source": [
        "cat_vasya = [\"id_13\", \"id_14\", \"id_17\", \"id_18\", \"id_19\", \"id_20\", \"id_21\", \"id_22\", \"id_23\", \n",
        " \"id_24\", \"id_25\", \"id_26\", \"id_27\", \"id_30\", \"id_31\", \"id_33\", \"DeviceType\", \n",
        " \"DeviceInfo\", \"P_emaildomain\", \"R_emaildomain\", \"card1\", \"card2\", \"card3\", \n",
        " \"card5\", \"addr1\", \"addr2\", \"P_emaildomain_bin\", \"P_emaildomain_suffix\", \n",
        " \"R_emaildomain_bin\", \"R_emaildomain_suffix\", \"M1\", \"M2\", \"M3\", \"M4\", \"M5\", \n",
        " \"M6\", \"M7\", \"M8\", \"M9\", \"card4\", \"card6\", \"ProductCD\", \"id_12\", \"id_15\", \n",
        " \"id_16\", \"id_28\", \"id_29\", \"id_32\", \"id_34\", \"id_35\", \"id_36\", \"id_37\", \"id_38\"]"
      ],
      "execution_count": 0,
      "outputs": []
    },
    {
      "cell_type": "code",
      "metadata": {
        "ExecuteTime": {
          "end_time": "2019-09-01T17:06:56.299513Z",
          "start_time": "2019-09-01T17:06:56.052524Z"
        },
        "id": "diHu2ubwccz3",
        "colab_type": "code",
        "colab": {}
      },
      "source": [
        "cat_features = list(set(cat_vasya) | set(cat_anya))"
      ],
      "execution_count": 0,
      "outputs": []
    },
    {
      "cell_type": "code",
      "metadata": {
        "ExecuteTime": {
          "end_time": "2019-09-01T17:06:59.857571Z",
          "start_time": "2019-09-01T17:06:59.256556Z"
        },
        "id": "tfxVDPpUccz5",
        "colab_type": "code",
        "colab": {}
      },
      "source": [
        "num_features = list(set(X.columns) - set(cat_features))"
      ],
      "execution_count": 0,
      "outputs": []
    },
    {
      "cell_type": "code",
      "metadata": {
        "ExecuteTime": {
          "end_time": "2019-09-01T17:07:16.735743Z",
          "start_time": "2019-09-01T17:07:16.468739Z"
        },
        "id": "H6QfX_Ancc0H",
        "colab_type": "code",
        "colab": {}
      },
      "source": [
        "# Setting model_folder\n",
        "model_name = 'keras-1'\n",
        "model_folder = f'{main_learning_folder}/{model_name}'\n",
        "if not os.path.exists(model_folder):\n",
        "    os.makedirs(model_folder)"
      ],
      "execution_count": 0,
      "outputs": []
    },
    {
      "cell_type": "code",
      "metadata": {
        "ExecuteTime": {
          "end_time": "2019-09-01T17:07:23.049831Z",
          "start_time": "2019-09-01T17:07:22.808843Z"
        },
        "id": "o9A8loCvcc0J",
        "colab_type": "code",
        "colab": {}
      },
      "source": [
        "n_fold = 5\n",
        "# folds = TimeSeriesSplit(n_splits=n_fold)\n",
        "folds = KFold(n_splits=n_fold)\n",
        "# folds = GroupKFold(n_splits=5)\n",
        "# groups = pd.read_pickle('./groups.pkl').values"
      ],
      "execution_count": 0,
      "outputs": []
    },
    {
      "cell_type": "code",
      "metadata": {
        "ExecuteTime": {
          "end_time": "2019-09-01T16:33:02.653823Z",
          "start_time": "2019-09-01T16:33:02.392793Z"
        },
        "id": "TDGMQIlXcc0N",
        "colab_type": "code",
        "colab": {
          "base_uri": "https://localhost:8080/",
          "height": 68
        },
        "outputId": "677f7c3b-f3f3-44ff-a9d4-bafbb5651cae"
      },
      "source": [
        "y.value_counts()"
      ],
      "execution_count": 22,
      "outputs": [
        {
          "output_type": "execute_result",
          "data": {
            "text/plain": [
              "0    569877\n",
              "1     20663\n",
              "Name: isFraud, dtype: int64"
            ]
          },
          "metadata": {
            "tags": []
          },
          "execution_count": 22
        }
      ]
    },
    {
      "cell_type": "code",
      "metadata": {
        "ExecuteTime": {
          "end_time": "2019-09-01T17:07:29.232881Z",
          "start_time": "2019-09-01T17:07:28.990851Z"
        },
        "id": "iZxIql-ycc0P",
        "colab_type": "code",
        "colab": {}
      },
      "source": [
        "def NNModel_maker():\n",
        "    k.clear_session()\n",
        "    \n",
        "#     categorical_inputs = []\n",
        "#     for cat in categorical:\n",
        "#         categorical_inputs.append(Input(shape=[1], name=cat))\n",
        "\n",
        "#     categorical_embeddings = []\n",
        "#     for i, cat in enumerate(categorical):\n",
        "#         categorical_embeddings.append(\n",
        "#             Embedding(category_counts[cat], int(np.log1p(category_counts[cat]) + 1), name = cat + \\\n",
        "#                       \"_embed\")(categorical_inputs[i]))\n",
        "\n",
        "#     categorical_logits = Concatenate(name = \"categorical_conc\")([Flatten()(SpatialDropout1D(.1)(cat_emb)) for cat_emb in categorical_embeddings])\n",
        "# \n",
        "    numerical_inputs = Input(shape=[X.shape[1]], name = 'all')\n",
        "    numerical_logits = Dropout(.3)(numerical_inputs)\n",
        "  \n",
        "    x = numerical_logits\n",
        "\n",
        "    x = Dense(200, activation = 'relu')(x)\n",
        "    x = Dropout(.3)(x)\n",
        "    x = Dense(100, activation = 'relu')(x)\n",
        "    x = Dropout(.3)(x)\n",
        "    out = Dense(1, activation = 'sigmoid')(x)    \n",
        "\n",
        "    model = Model(inputs= [numerical_inputs],outputs=out)\n",
        "    loss = \"binary_crossentropy\"\n",
        "    model.compile(optimizer=Adam(lr = 0.0003), loss = loss)\n",
        "    return model\n",
        "\n",
        "\n",
        "params = {\n",
        "    'batch_size': 8000,\n",
        "    'epochs': 30,\n",
        "    'verbose': True,\n",
        "         }\n",
        "train_options = {\n",
        "    \"model_type\":'keras',\n",
        "    \"params\": params,\n",
        "    \"eval_metric\":'auc',\n",
        "    'averaging': 'usual',\n",
        "    'use_groups': False,\n",
        "    'fold_name': folds.__class__.__name__,\n",
        "    'n_splits': n_fold\n",
        "   \n",
        "}"
      ],
      "execution_count": 0,
      "outputs": []
    },
    {
      "cell_type": "code",
      "metadata": {
        "ExecuteTime": {
          "end_time": "2019-09-01T17:07:35.481905Z",
          "start_time": "2019-09-01T17:07:35.244881Z"
        },
        "id": "Aoc3y__kcc0Q",
        "colab_type": "code",
        "colab": {}
      },
      "source": [
        "import json\n",
        "with open(f'{model_folder}/training_params.json', 'w') as f:\n",
        "    q = json.dumps(train_options,indent=2)\n",
        "    f.write(q)\n",
        "# NNModel.save(f'{model_folder}/keras.mdl')"
      ],
      "execution_count": 0,
      "outputs": []
    },
    {
      "cell_type": "code",
      "metadata": {
        "ExecuteTime": {
          "start_time": "2019-09-01T17:22:21.021Z"
        },
        "scrolled": false,
        "id": "WVj6BwaLcc0S",
        "colab_type": "code",
        "colab": {
          "base_uri": "https://localhost:8080/",
          "height": 462
        },
        "outputId": "4b28f50f-f699-47e6-ca84-24476a0b10f6"
      },
      "source": [
        "gc.collect()\n",
        "result_dict_keras = train_model_classification(model=NNModel_maker, \n",
        "                                             X=X,\n",
        "                                             X_test=test,\n",
        "                                             y=y, params=params, folds=folds,\n",
        "                                             model_type=train_options['model_type'], \n",
        "                                             eval_metric=train_options['eval_metric'],\n",
        "                                             plot_feature_importance=True,\n",
        "                                             averaging=train_options['averaging'],\n",
        "                                             groups=None)"
      ],
      "execution_count": 0,
      "outputs": [
        {
          "output_type": "stream",
          "text": [
            "Fold 1 started at Mon Sep  2 19:38:31 2019\n"
          ],
          "name": "stdout"
        },
        {
          "output_type": "stream",
          "text": [
            "WARNING: Logging before flag parsing goes to stderr.\n",
            "W0902 19:38:34.305182 140689127331712 deprecation_wrapper.py:119] From /usr/local/lib/python3.6/dist-packages/keras/backend/tensorflow_backend.py:107: The name tf.reset_default_graph is deprecated. Please use tf.compat.v1.reset_default_graph instead.\n",
            "\n",
            "W0902 19:38:34.366205 140689127331712 deprecation_wrapper.py:119] From /usr/local/lib/python3.6/dist-packages/keras/backend/tensorflow_backend.py:111: The name tf.placeholder_with_default is deprecated. Please use tf.compat.v1.placeholder_with_default instead.\n",
            "\n",
            "W0902 19:38:34.404170 140689127331712 deprecation_wrapper.py:119] From /usr/local/lib/python3.6/dist-packages/keras/backend/tensorflow_backend.py:66: The name tf.get_default_graph is deprecated. Please use tf.compat.v1.get_default_graph instead.\n",
            "\n",
            "W0902 19:38:34.408143 140689127331712 deprecation_wrapper.py:119] From /usr/local/lib/python3.6/dist-packages/keras/backend/tensorflow_backend.py:541: The name tf.placeholder is deprecated. Please use tf.compat.v1.placeholder instead.\n",
            "\n",
            "W0902 19:38:34.432137 140689127331712 deprecation.py:506] From /usr/local/lib/python3.6/dist-packages/keras/backend/tensorflow_backend.py:3733: calling dropout (from tensorflow.python.ops.nn_ops) with keep_prob is deprecated and will be removed in a future version.\n",
            "Instructions for updating:\n",
            "Please use `rate` instead of `keep_prob`. Rate should be set to `rate = 1 - keep_prob`.\n",
            "W0902 19:38:34.457449 140689127331712 deprecation_wrapper.py:119] From /usr/local/lib/python3.6/dist-packages/keras/backend/tensorflow_backend.py:4432: The name tf.random_uniform is deprecated. Please use tf.random.uniform instead.\n",
            "\n",
            "W0902 19:38:34.570298 140689127331712 deprecation_wrapper.py:119] From /usr/local/lib/python3.6/dist-packages/keras/optimizers.py:793: The name tf.train.Optimizer is deprecated. Please use tf.compat.v1.train.Optimizer instead.\n",
            "\n",
            "W0902 19:38:34.586209 140689127331712 deprecation.py:323] From /usr/local/lib/python3.6/dist-packages/tensorflow/python/ops/nn_impl.py:180: add_dispatch_support.<locals>.wrapper (from tensorflow.python.ops.array_ops) is deprecated and will be removed in a future version.\n",
            "Instructions for updating:\n",
            "Use tf.where in 2.0, which has the same broadcast rule as np.where\n"
          ],
          "name": "stderr"
        },
        {
          "output_type": "stream",
          "text": [
            "Train on 472432 samples, validate on 118108 samples\n",
            "Epoch 1/30\n",
            "472432/472432 [==============================] - 51s 107us/step - loss: 0.1874 - val_loss: 0.1046\n",
            "Epoch 2/30\n",
            "384000/472432 [=======================>......] - ETA: 9s - loss: 0.1277 "
          ],
          "name": "stdout"
        }
      ]
    },
    {
      "cell_type": "code",
      "metadata": {
        "id": "TnLWk_Hncc0T",
        "colab_type": "code",
        "colab": {}
      },
      "source": [
        ""
      ],
      "execution_count": 0,
      "outputs": []
    },
    {
      "cell_type": "code",
      "metadata": {
        "ExecuteTime": {
          "end_time": "2019-08-31T18:49:20.003271Z",
          "start_time": "2019-08-31T18:49:19.669228Z"
        },
        "id": "UF_w-JeUcc0V",
        "colab_type": "code",
        "colab": {}
      },
      "source": [
        "sub = pd.read_csv(f'../../data/sample_submission.csv')"
      ],
      "execution_count": 0,
      "outputs": []
    },
    {
      "cell_type": "code",
      "metadata": {
        "ExecuteTime": {
          "end_time": "2019-08-31T18:49:25.000453Z",
          "start_time": "2019-08-31T18:49:22.806366Z"
        },
        "id": "aXtFi3ticc0W",
        "colab_type": "code",
        "colab": {}
      },
      "source": [
        "sub['isFraud'] = result_dict_keras['prediction']\n",
        "sub.to_csv('ieee_nn.csv', index=False)"
      ],
      "execution_count": 0,
      "outputs": []
    },
    {
      "cell_type": "code",
      "metadata": {
        "ExecuteTime": {
          "end_time": "2019-08-31T18:49:26.439453Z",
          "start_time": "2019-08-31T18:49:26.180442Z"
        },
        "id": "bnSvIDrhcc0Y",
        "colab_type": "code",
        "colab": {}
      },
      "source": [
        "result_dict_keras['prediction'].shape"
      ],
      "execution_count": 0,
      "outputs": []
    },
    {
      "cell_type": "code",
      "metadata": {
        "ExecuteTime": {
          "end_time": "2019-08-31T17:12:54.017490Z",
          "start_time": "2019-08-31T17:12:53.773517Z"
        },
        "id": "Z9Ivy0HOcc0Z",
        "colab_type": "code",
        "colab": {}
      },
      "source": [
        "test.shape"
      ],
      "execution_count": 0,
      "outputs": []
    },
    {
      "cell_type": "code",
      "metadata": {
        "ExecuteTime": {
          "end_time": "2019-08-31T18:49:36.738859Z",
          "start_time": "2019-08-31T18:49:36.469799Z"
        },
        "id": "pG3n3vMdcc0a",
        "colab_type": "code",
        "colab": {}
      },
      "source": [
        "import pickle\n",
        "with open(f'{model_folder}/results_dict.pkl', 'wb') as f:\n",
        "#     q = json.dumps(result_dict_lgb,indent=2)\n",
        "    pickle.dump(result_dict_keras,f)\n",
        "#     f.write(q)"
      ],
      "execution_count": 0,
      "outputs": []
    }
  ]
}