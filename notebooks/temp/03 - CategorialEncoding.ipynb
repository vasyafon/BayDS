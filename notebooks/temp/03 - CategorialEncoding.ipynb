{
 "cells": [
  {
   "cell_type": "markdown",
   "metadata": {},
   "source": []
  },
  {
   "cell_type": "code",
   "execution_count": 1,
   "metadata": {
    "ExecuteTime": {
     "end_time": "2019-08-18T13:04:44.771388Z",
     "start_time": "2019-08-18T13:04:36.815304Z"
    },
    "code_folding": []
   },
   "outputs": [],
   "source": [
    "# imports\n",
    "%load_ext autoreload\n",
    "%autoreload 2\n",
    "import numpy as np\n",
    "import pandas as pd\n",
    "import os\n",
    "import pickle\n",
    "\n",
    "import matplotlib.pyplot as plt\n",
    "%matplotlib inline\n",
    "from tqdm import tqdm_notebook\n",
    "from sklearn.preprocessing import StandardScaler\n",
    "from sklearn.svm import NuSVR, SVR\n",
    "from sklearn.metrics import mean_absolute_error\n",
    "pd.options.display.precision = 15\n",
    "\n",
    "import lightgbm as lgb\n",
    "import xgboost as xgb\n",
    "import time\n",
    "import datetime\n",
    "from catboost import CatBoostRegressor\n",
    "from sklearn.preprocessing import LabelEncoder, OneHotEncoder\n",
    "from sklearn.model_selection import StratifiedKFold, KFold, RepeatedKFold, GroupKFold, GridSearchCV, train_test_split, TimeSeriesSplit\n",
    "from sklearn import metrics\n",
    "from sklearn import linear_model\n",
    "import gc\n",
    "import seaborn as sns\n",
    "import warnings\n",
    "warnings.filterwarnings(\"ignore\")\n",
    "\n",
    "import eli5\n",
    "import shap\n",
    "from IPython.display import HTML\n",
    "import json\n",
    "import altair as alt\n",
    "\n",
    "import networkx as nx\n",
    "import matplotlib.pyplot as plt\n",
    "%matplotlib inline\n",
    "import multiprocessing\n",
    "import warnings\n",
    "warnings.simplefilter('ignore')\n",
    "alt.renderers.enable('notebook')\n",
    "from functions import save_features2, LabelEncoderPopularity,load_data\n",
    "from lib.training import *"
   ]
  },
  {
   "cell_type": "code",
   "execution_count": 2,
   "metadata": {
    "ExecuteTime": {
     "end_time": "2019-08-18T13:04:44.925391Z",
     "start_time": "2019-08-18T13:04:44.772389Z"
    }
   },
   "outputs": [],
   "source": [
    "from catenc.utils import *"
   ]
  },
  {
   "cell_type": "markdown",
   "metadata": {
    "ExecuteTime": {
     "end_time": "2019-08-14T16:58:19.595521Z",
     "start_time": "2019-08-14T16:58:19.593519Z"
    }
   },
   "source": [
    "## Load base dataset\n"
   ]
  },
  {
   "cell_type": "code",
   "execution_count": 3,
   "metadata": {
    "ExecuteTime": {
     "end_time": "2019-08-18T13:04:59.939186Z",
     "start_time": "2019-08-18T13:04:44.926389Z"
    }
   },
   "outputs": [],
   "source": [
    "data = pd.read_pickle(\"./pickles/data_all_features.pkl\")\n"
   ]
  },
  {
   "cell_type": "code",
   "execution_count": 4,
   "metadata": {
    "ExecuteTime": {
     "end_time": "2019-08-18T13:05:00.566183Z",
     "start_time": "2019-08-18T13:04:59.941183Z"
    }
   },
   "outputs": [],
   "source": [
    "fraud = data['isFraud']\n",
    "fraud = fraud.replace({'test':-1})\n",
    "fraud = fraud.astype(np.int8)\n",
    "data['isFraud'] = fraud"
   ]
  },
  {
   "cell_type": "code",
   "execution_count": 5,
   "metadata": {
    "ExecuteTime": {
     "end_time": "2019-08-18T13:05:00.946202Z",
     "start_time": "2019-08-18T13:05:00.567182Z"
    }
   },
   "outputs": [],
   "source": [
    "with pd.HDFStore('./hdf/Store.h5',complib='blosc:blosclz') as store:\n",
    "    categorial_features = list(store['initial/categorial_features'].values.flatten())\n",
    "    numerical_features = list(store['initial/numerical_features'].values.flatten())"
   ]
  },
  {
   "cell_type": "markdown",
   "metadata": {
    "ExecuteTime": {
     "end_time": "2019-08-18T12:40:24.111123Z",
     "start_time": "2019-08-18T12:40:24.021120Z"
    }
   },
   "source": [
    "## Apply Additional Features"
   ]
  },
  {
   "cell_type": "code",
   "execution_count": 6,
   "metadata": {
    "ExecuteTime": {
     "end_time": "2019-08-18T13:05:04.754201Z",
     "start_time": "2019-08-18T13:05:00.947201Z"
    }
   },
   "outputs": [],
   "source": [
    "with pd.HDFStore('./hdf/Store.h5',complib='blosc:blosclz') as store:\n",
    "    num_features = store.get_node('encodedFeatures')\n",
    "    for feature in num_features:\n",
    "        feature_name = feature._v_name\n",
    "        # here would be assession of feature introduction\n",
    "        q = store.select(feature._v_pathname)\n",
    "        if len(q[q.index.duplicated()]) != 0:\n",
    "            print('Problem', feature_name)\n",
    "            q.drop(q[q.index.duplicated()].index, axis=0, inplace=True)\n",
    "        data[feature_name] = q\n",
    "    numerical_features += ['BrowserAge', 'BrowserVersion', 'screen_height', 'screen_width']\n",
    "    categorial_features +=  ['Browser',  'OS', 'OSVersion', 'device_name', 'device_version']\n",
    "    \n",
    "categorial_features.remove('id_30')\n",
    "categorial_features.remove('id_31')\n",
    "data.drop(['id_30','id_31'], axis=1, inplace=True)"
   ]
  },
  {
   "cell_type": "markdown",
   "metadata": {},
   "source": [
    "## Add Engineering features"
   ]
  },
  {
   "cell_type": "code",
   "execution_count": 7,
   "metadata": {
    "ExecuteTime": {
     "end_time": "2019-08-18T13:05:09.079394Z",
     "start_time": "2019-08-18T13:05:04.756200Z"
    }
   },
   "outputs": [],
   "source": [
    "with pd.HDFStore('./hdf/engineering.h5', 'r') as store:\n",
    "    numerical = store.get_node('numerical')\n",
    "    for feature in numerical:\n",
    "        feature_name = feature._v_name\n",
    "        # here would be assession of feature introduction\n",
    "        q = store.select(feature._v_pathname)\n",
    "        if len(q[q.index.duplicated()]) != 0:\n",
    "            print('Problem', feature_name)\n",
    "            q.drop(q[q.index.duplicated()].index, axis=0, inplace=True)\n",
    "        data[feature_name] = q\n",
    "        numerical_features += [feature_name]\n",
    "    categorial = store.get_node('categorial')\n",
    "    for feature in categorial:\n",
    "        feature_name = feature._v_name\n",
    "        # here would be assession of feature introduction\n",
    "        q = store.select(feature._v_pathname)\n",
    "        if len(q[q.index.duplicated()]) != 0:\n",
    "            print('Problem', feature_name)\n",
    "            q.drop(q[q.index.duplicated()].index, axis=0, inplace=True)\n",
    "        data[feature_name] = q\n",
    "        categorial_features += [feature_name]        \n",
    "    \n",
    "    "
   ]
  },
  {
   "cell_type": "code",
   "execution_count": 8,
   "metadata": {
    "ExecuteTime": {
     "end_time": "2019-08-18T13:05:09.216394Z",
     "start_time": "2019-08-18T13:05:09.081397Z"
    },
    "scrolled": true
   },
   "outputs": [
    {
     "data": {
      "text/plain": [
       " 0    569877\n",
       "-1    506691\n",
       " 1     20663\n",
       "Name: isFraud, dtype: int64"
      ]
     },
     "execution_count": 8,
     "metadata": {},
     "output_type": "execute_result"
    }
   ],
   "source": [
    "data.isFraud.value_counts()"
   ]
  },
  {
   "cell_type": "code",
   "execution_count": 9,
   "metadata": {
    "ExecuteTime": {
     "end_time": "2019-08-18T13:05:37.762128Z",
     "start_time": "2019-08-18T13:05:37.630127Z"
    }
   },
   "outputs": [
    {
     "data": {
      "text/html": [
       "<div>\n",
       "<style scoped>\n",
       "    .dataframe tbody tr th:only-of-type {\n",
       "        vertical-align: middle;\n",
       "    }\n",
       "\n",
       "    .dataframe tbody tr th {\n",
       "        vertical-align: top;\n",
       "    }\n",
       "\n",
       "    .dataframe thead th {\n",
       "        text-align: right;\n",
       "    }\n",
       "</style>\n",
       "<table border=\"1\" class=\"dataframe\">\n",
       "  <thead>\n",
       "    <tr style=\"text-align: right;\">\n",
       "      <th></th>\n",
       "      <th>isFraud</th>\n",
       "      <th>TransactionAmt</th>\n",
       "      <th>ProductCD</th>\n",
       "      <th>card1</th>\n",
       "      <th>card2</th>\n",
       "      <th>card3</th>\n",
       "      <th>card4</th>\n",
       "      <th>card5</th>\n",
       "      <th>card6</th>\n",
       "      <th>addr1</th>\n",
       "      <th>...</th>\n",
       "      <th>D11__device_name</th>\n",
       "      <th>P_emaildomain_bin__C2</th>\n",
       "      <th>addr1__card1</th>\n",
       "      <th>card1__card5</th>\n",
       "      <th>card2__dist1</th>\n",
       "      <th>card2__id_20</th>\n",
       "      <th>card5__P_emaildomain_bin</th>\n",
       "      <th>device_name__P_emaildomain_bin</th>\n",
       "      <th>id_02__D8</th>\n",
       "      <th>id_02__id_20</th>\n",
       "    </tr>\n",
       "    <tr>\n",
       "      <th>TransactionID</th>\n",
       "      <th></th>\n",
       "      <th></th>\n",
       "      <th></th>\n",
       "      <th></th>\n",
       "      <th></th>\n",
       "      <th></th>\n",
       "      <th></th>\n",
       "      <th></th>\n",
       "      <th></th>\n",
       "      <th></th>\n",
       "      <th></th>\n",
       "      <th></th>\n",
       "      <th></th>\n",
       "      <th></th>\n",
       "      <th></th>\n",
       "      <th></th>\n",
       "      <th></th>\n",
       "      <th></th>\n",
       "      <th></th>\n",
       "      <th></th>\n",
       "      <th></th>\n",
       "    </tr>\n",
       "  </thead>\n",
       "  <tbody>\n",
       "    <tr>\n",
       "      <th>2987000</th>\n",
       "      <td>0</td>\n",
       "      <td>68.5</td>\n",
       "      <td>W</td>\n",
       "      <td>13926</td>\n",
       "      <td>NaN</td>\n",
       "      <td>150.0</td>\n",
       "      <td>discover</td>\n",
       "      <td>142.0</td>\n",
       "      <td>credit</td>\n",
       "      <td>315.0</td>\n",
       "      <td>...</td>\n",
       "      <td>13.0_nan</td>\n",
       "      <td>nan_1.0</td>\n",
       "      <td>315.0_13926</td>\n",
       "      <td>13926_142.0</td>\n",
       "      <td>nan_19.0</td>\n",
       "      <td>nan_nan</td>\n",
       "      <td>142.0_nan</td>\n",
       "      <td>nan_nan</td>\n",
       "      <td>nan_nan</td>\n",
       "      <td>nan_nan</td>\n",
       "    </tr>\n",
       "    <tr>\n",
       "      <th>2987001</th>\n",
       "      <td>0</td>\n",
       "      <td>29.0</td>\n",
       "      <td>W</td>\n",
       "      <td>2755</td>\n",
       "      <td>404.0</td>\n",
       "      <td>150.0</td>\n",
       "      <td>mastercard</td>\n",
       "      <td>102.0</td>\n",
       "      <td>credit</td>\n",
       "      <td>325.0</td>\n",
       "      <td>...</td>\n",
       "      <td>nan_nan</td>\n",
       "      <td>google_1.0</td>\n",
       "      <td>325.0_2755</td>\n",
       "      <td>2755_102.0</td>\n",
       "      <td>404.0_nan</td>\n",
       "      <td>404.0_nan</td>\n",
       "      <td>102.0_google</td>\n",
       "      <td>nan_google</td>\n",
       "      <td>nan_nan</td>\n",
       "      <td>nan_nan</td>\n",
       "    </tr>\n",
       "    <tr>\n",
       "      <th>2987002</th>\n",
       "      <td>0</td>\n",
       "      <td>59.0</td>\n",
       "      <td>W</td>\n",
       "      <td>4663</td>\n",
       "      <td>490.0</td>\n",
       "      <td>150.0</td>\n",
       "      <td>visa</td>\n",
       "      <td>166.0</td>\n",
       "      <td>debit</td>\n",
       "      <td>330.0</td>\n",
       "      <td>...</td>\n",
       "      <td>315.0_nan</td>\n",
       "      <td>microsoft_1.0</td>\n",
       "      <td>330.0_4663</td>\n",
       "      <td>4663_166.0</td>\n",
       "      <td>490.0_287.0</td>\n",
       "      <td>490.0_nan</td>\n",
       "      <td>166.0_microsoft</td>\n",
       "      <td>nan_microsoft</td>\n",
       "      <td>nan_nan</td>\n",
       "      <td>nan_nan</td>\n",
       "    </tr>\n",
       "    <tr>\n",
       "      <th>2987003</th>\n",
       "      <td>0</td>\n",
       "      <td>50.0</td>\n",
       "      <td>W</td>\n",
       "      <td>18132</td>\n",
       "      <td>567.0</td>\n",
       "      <td>150.0</td>\n",
       "      <td>mastercard</td>\n",
       "      <td>117.0</td>\n",
       "      <td>debit</td>\n",
       "      <td>476.0</td>\n",
       "      <td>...</td>\n",
       "      <td>nan_nan</td>\n",
       "      <td>yahoo_5.0</td>\n",
       "      <td>476.0_18132</td>\n",
       "      <td>18132_117.0</td>\n",
       "      <td>567.0_nan</td>\n",
       "      <td>567.0_nan</td>\n",
       "      <td>117.0_yahoo</td>\n",
       "      <td>nan_yahoo</td>\n",
       "      <td>nan_nan</td>\n",
       "      <td>nan_nan</td>\n",
       "    </tr>\n",
       "    <tr>\n",
       "      <th>2987004</th>\n",
       "      <td>0</td>\n",
       "      <td>50.0</td>\n",
       "      <td>H</td>\n",
       "      <td>4497</td>\n",
       "      <td>514.0</td>\n",
       "      <td>150.0</td>\n",
       "      <td>mastercard</td>\n",
       "      <td>102.0</td>\n",
       "      <td>credit</td>\n",
       "      <td>420.0</td>\n",
       "      <td>...</td>\n",
       "      <td>nan_2.0</td>\n",
       "      <td>google_1.0</td>\n",
       "      <td>420.0_4497</td>\n",
       "      <td>4497_102.0</td>\n",
       "      <td>514.0_nan</td>\n",
       "      <td>514.0_144.0</td>\n",
       "      <td>102.0_google</td>\n",
       "      <td>2.0_google</td>\n",
       "      <td>70787.0_nan</td>\n",
       "      <td>70787.0_144.0</td>\n",
       "    </tr>\n",
       "  </tbody>\n",
       "</table>\n",
       "<p>5 rows × 324 columns</p>\n",
       "</div>"
      ],
      "text/plain": [
       "               isFraud  TransactionAmt ProductCD  card1  card2  card3  \\\n",
       "TransactionID                                                           \n",
       "2987000              0            68.5         W  13926    NaN  150.0   \n",
       "2987001              0            29.0         W   2755  404.0  150.0   \n",
       "2987002              0            59.0         W   4663  490.0  150.0   \n",
       "2987003              0            50.0         W  18132  567.0  150.0   \n",
       "2987004              0            50.0         H   4497  514.0  150.0   \n",
       "\n",
       "                    card4  card5   card6  addr1  ...  D11__device_name  \\\n",
       "TransactionID                                    ...                     \n",
       "2987000          discover  142.0  credit  315.0  ...          13.0_nan   \n",
       "2987001        mastercard  102.0  credit  325.0  ...           nan_nan   \n",
       "2987002              visa  166.0   debit  330.0  ...         315.0_nan   \n",
       "2987003        mastercard  117.0   debit  476.0  ...           nan_nan   \n",
       "2987004        mastercard  102.0  credit  420.0  ...           nan_2.0   \n",
       "\n",
       "               P_emaildomain_bin__C2 addr1__card1 card1__card5  card2__dist1  \\\n",
       "TransactionID                                                                  \n",
       "2987000                      nan_1.0  315.0_13926  13926_142.0      nan_19.0   \n",
       "2987001                   google_1.0   325.0_2755   2755_102.0     404.0_nan   \n",
       "2987002                microsoft_1.0   330.0_4663   4663_166.0   490.0_287.0   \n",
       "2987003                    yahoo_5.0  476.0_18132  18132_117.0     567.0_nan   \n",
       "2987004                   google_1.0   420.0_4497   4497_102.0     514.0_nan   \n",
       "\n",
       "               card2__id_20  card5__P_emaildomain_bin  \\\n",
       "TransactionID                                           \n",
       "2987000             nan_nan                 142.0_nan   \n",
       "2987001           404.0_nan              102.0_google   \n",
       "2987002           490.0_nan           166.0_microsoft   \n",
       "2987003           567.0_nan               117.0_yahoo   \n",
       "2987004         514.0_144.0              102.0_google   \n",
       "\n",
       "               device_name__P_emaildomain_bin    id_02__D8   id_02__id_20  \n",
       "TransactionID                                                              \n",
       "2987000                               nan_nan      nan_nan        nan_nan  \n",
       "2987001                            nan_google      nan_nan        nan_nan  \n",
       "2987002                         nan_microsoft      nan_nan        nan_nan  \n",
       "2987003                             nan_yahoo      nan_nan        nan_nan  \n",
       "2987004                            2.0_google  70787.0_nan  70787.0_144.0  \n",
       "\n",
       "[5 rows x 324 columns]"
      ]
     },
     "execution_count": 9,
     "metadata": {},
     "output_type": "execute_result"
    }
   ],
   "source": [
    "data.head()"
   ]
  },
  {
   "cell_type": "code",
   "execution_count": 14,
   "metadata": {
    "ExecuteTime": {
     "end_time": "2019-08-18T12:43:43.817021Z",
     "start_time": "2019-08-18T12:43:43.723022Z"
    }
   },
   "outputs": [],
   "source": []
  },
  {
   "cell_type": "code",
   "execution_count": 33,
   "metadata": {
    "ExecuteTime": {
     "end_time": "2019-08-18T13:29:34.553458Z",
     "start_time": "2019-08-18T13:29:29.886463Z"
    }
   },
   "outputs": [],
   "source": [
    "# tdata = data[data['isFraud'] >= 0].drop(['Date'],axis=1)\n",
    "X = data[data['isFraud'] >= 0].drop(['isFraud','Date'],axis=1)\n",
    "y = data[data['isFraud'] >= 0]['isFraud']#.astype(np.bool)\n",
    "X_test = data[data['isFraud'] < 0].drop(['isFraud','Date'],axis=1)   "
   ]
  },
  {
   "cell_type": "code",
   "execution_count": 11,
   "metadata": {
    "ExecuteTime": {
     "end_time": "2019-08-18T13:06:02.571478Z",
     "start_time": "2019-08-18T13:06:02.460478Z"
    }
   },
   "outputs": [
    {
     "data": {
      "text/html": [
       "['isFraud', 'TransactionAmt', 'ProductCD', 'card1', 'card2', 'card3', 'card4', 'card5', 'card6', 'addr1', 'addr2', 'dist1', 'P_emaildomain', 'R_emaildomain', 'C1', 'C2', 'C4', 'C5', 'C6', 'C7', 'C8', 'C9', 'C10', 'C11', 'C12', 'C13', 'C14', 'D1', 'D2', 'D3', 'D4', 'D5', 'D6', 'D8', 'D9', 'D10', 'D11', 'D12', 'D13', 'D14', 'D15', 'M2', 'M3', 'M4', 'M5', 'M6', 'M7', 'M8', 'M9', 'V3', 'V4', 'V5', 'V6', 'V7', 'V8', 'V9', 'V10', 'V11', 'V12', 'V13', 'V17', 'V19', 'V20', 'V29', 'V30', 'V33', 'V34', 'V35', 'V36', 'V37', 'V38', 'V40', 'V44', 'V45', 'V46', 'V47', 'V48', 'V49', 'V51', 'V52', 'V53', 'V54', 'V56', 'V58', 'V59', 'V60', 'V61', 'V62', 'V63', 'V64', 'V69', 'V70', 'V71', 'V72', 'V73', 'V74', 'V75', 'V76', 'V78', 'V80', 'V81', 'V82', 'V83', 'V84', 'V85', 'V87', 'V90', 'V91', 'V92', 'V93', 'V94', 'V95', 'V96', 'V97', 'V99', 'V100', 'V126', 'V127', 'V128', 'V130', 'V131', 'V138', 'V139', 'V140', 'V143', 'V145', 'V146', 'V147', 'V149', 'V150', 'V151', 'V152', 'V154', 'V156', 'V158', 'V159', 'V160', 'V161', 'V162', 'V163', 'V164', 'V165', 'V166', 'V167', 'V169', 'V170', 'V171', 'V172', 'V173', 'V175', 'V176', 'V177', 'V178', 'V180', 'V182', 'V184', 'V187', 'V188', 'V189', 'V195', 'V197', 'V200', 'V201', 'V202', 'V203', 'V204', 'V205', 'V206', 'V207', 'V208', 'V209', 'V210', 'V212', 'V213', 'V214', 'V215', 'V216', 'V217', 'V219', 'V220', 'V221', 'V222', 'V223', 'V224', 'V225', 'V226', 'V227', 'V228', 'V229', 'V231', 'V233', 'V234', 'V238', 'V239', 'V242', 'V243', 'V244', 'V245', 'V246', 'V247', 'V249', 'V251', 'V253', 'V256', 'V257', 'V258', 'V259', 'V261', 'V262', 'V263', 'V264', 'V265', 'V266', 'V267', 'V268', 'V270', 'V271', 'V272', 'V273', 'V274', 'V275', 'V276', 'V277', 'V278', 'V279', 'V280', 'V282', 'V283', 'V285', 'V287', 'V288', 'V289', 'V291', 'V292', 'V294', 'V303', 'V304', 'V306', 'V307', 'V308', 'V310', 'V312', 'V313', 'V314', 'V315', 'V317', 'V322', 'V323', 'V324', 'V326', 'V329', 'V331', 'V332', 'V333', 'V335', 'V336', 'V338', 'NanTransactionCount', 'id_01', 'id_02', 'id_03', 'id_04', 'id_05', 'id_06', 'id_07', 'id_08', 'id_09', 'id_10', 'id_11', 'id_12', 'id_13', 'id_14', 'id_15', 'id_16', 'id_17', 'id_18', 'id_19', 'id_20', 'id_21', 'id_22', 'id_23', 'id_24', 'id_25', 'id_26', 'id_27', 'id_28', 'id_29', 'id_32', 'id_33', 'id_34', 'id_35', 'id_36', 'id_37', 'id_38', 'DeviceType', 'DeviceInfo', 'NanIdentityCount', 'Date', '_Weekdays', '_Hours', '_Days', 'P_emaildomain_bin', 'P_emaildomain_suffix', 'R_emaildomain_bin', 'R_emaildomain_suffix', 'Browser', 'BrowserAge', 'BrowserVersion', 'OS', 'OSVersion', 'device_name', 'device_version', 'screen_height', 'screen_width', 'D11__device_name', 'P_emaildomain_bin__C2', 'addr1__card1', 'card1__card5', 'card2__dist1', 'card2__id_20', 'card5__P_emaildomain_bin', 'device_name__P_emaildomain_bin', 'id_02__D8', 'id_02__id_20']"
      ],
      "text/plain": [
       "['isFraud',\n",
       " 'TransactionAmt',\n",
       " 'ProductCD',\n",
       " 'card1',\n",
       " 'card2',\n",
       " 'card3',\n",
       " 'card4',\n",
       " 'card5',\n",
       " 'card6',\n",
       " 'addr1',\n",
       " 'addr2',\n",
       " 'dist1',\n",
       " 'P_emaildomain',\n",
       " 'R_emaildomain',\n",
       " 'C1',\n",
       " 'C2',\n",
       " 'C4',\n",
       " 'C5',\n",
       " 'C6',\n",
       " 'C7',\n",
       " 'C8',\n",
       " 'C9',\n",
       " 'C10',\n",
       " 'C11',\n",
       " 'C12',\n",
       " 'C13',\n",
       " 'C14',\n",
       " 'D1',\n",
       " 'D2',\n",
       " 'D3',\n",
       " 'D4',\n",
       " 'D5',\n",
       " 'D6',\n",
       " 'D8',\n",
       " 'D9',\n",
       " 'D10',\n",
       " 'D11',\n",
       " 'D12',\n",
       " 'D13',\n",
       " 'D14',\n",
       " 'D15',\n",
       " 'M2',\n",
       " 'M3',\n",
       " 'M4',\n",
       " 'M5',\n",
       " 'M6',\n",
       " 'M7',\n",
       " 'M8',\n",
       " 'M9',\n",
       " 'V3',\n",
       " 'V4',\n",
       " 'V5',\n",
       " 'V6',\n",
       " 'V7',\n",
       " 'V8',\n",
       " 'V9',\n",
       " 'V10',\n",
       " 'V11',\n",
       " 'V12',\n",
       " 'V13',\n",
       " 'V17',\n",
       " 'V19',\n",
       " 'V20',\n",
       " 'V29',\n",
       " 'V30',\n",
       " 'V33',\n",
       " 'V34',\n",
       " 'V35',\n",
       " 'V36',\n",
       " 'V37',\n",
       " 'V38',\n",
       " 'V40',\n",
       " 'V44',\n",
       " 'V45',\n",
       " 'V46',\n",
       " 'V47',\n",
       " 'V48',\n",
       " 'V49',\n",
       " 'V51',\n",
       " 'V52',\n",
       " 'V53',\n",
       " 'V54',\n",
       " 'V56',\n",
       " 'V58',\n",
       " 'V59',\n",
       " 'V60',\n",
       " 'V61',\n",
       " 'V62',\n",
       " 'V63',\n",
       " 'V64',\n",
       " 'V69',\n",
       " 'V70',\n",
       " 'V71',\n",
       " 'V72',\n",
       " 'V73',\n",
       " 'V74',\n",
       " 'V75',\n",
       " 'V76',\n",
       " 'V78',\n",
       " 'V80',\n",
       " 'V81',\n",
       " 'V82',\n",
       " 'V83',\n",
       " 'V84',\n",
       " 'V85',\n",
       " 'V87',\n",
       " 'V90',\n",
       " 'V91',\n",
       " 'V92',\n",
       " 'V93',\n",
       " 'V94',\n",
       " 'V95',\n",
       " 'V96',\n",
       " 'V97',\n",
       " 'V99',\n",
       " 'V100',\n",
       " 'V126',\n",
       " 'V127',\n",
       " 'V128',\n",
       " 'V130',\n",
       " 'V131',\n",
       " 'V138',\n",
       " 'V139',\n",
       " 'V140',\n",
       " 'V143',\n",
       " 'V145',\n",
       " 'V146',\n",
       " 'V147',\n",
       " 'V149',\n",
       " 'V150',\n",
       " 'V151',\n",
       " 'V152',\n",
       " 'V154',\n",
       " 'V156',\n",
       " 'V158',\n",
       " 'V159',\n",
       " 'V160',\n",
       " 'V161',\n",
       " 'V162',\n",
       " 'V163',\n",
       " 'V164',\n",
       " 'V165',\n",
       " 'V166',\n",
       " 'V167',\n",
       " 'V169',\n",
       " 'V170',\n",
       " 'V171',\n",
       " 'V172',\n",
       " 'V173',\n",
       " 'V175',\n",
       " 'V176',\n",
       " 'V177',\n",
       " 'V178',\n",
       " 'V180',\n",
       " 'V182',\n",
       " 'V184',\n",
       " 'V187',\n",
       " 'V188',\n",
       " 'V189',\n",
       " 'V195',\n",
       " 'V197',\n",
       " 'V200',\n",
       " 'V201',\n",
       " 'V202',\n",
       " 'V203',\n",
       " 'V204',\n",
       " 'V205',\n",
       " 'V206',\n",
       " 'V207',\n",
       " 'V208',\n",
       " 'V209',\n",
       " 'V210',\n",
       " 'V212',\n",
       " 'V213',\n",
       " 'V214',\n",
       " 'V215',\n",
       " 'V216',\n",
       " 'V217',\n",
       " 'V219',\n",
       " 'V220',\n",
       " 'V221',\n",
       " 'V222',\n",
       " 'V223',\n",
       " 'V224',\n",
       " 'V225',\n",
       " 'V226',\n",
       " 'V227',\n",
       " 'V228',\n",
       " 'V229',\n",
       " 'V231',\n",
       " 'V233',\n",
       " 'V234',\n",
       " 'V238',\n",
       " 'V239',\n",
       " 'V242',\n",
       " 'V243',\n",
       " 'V244',\n",
       " 'V245',\n",
       " 'V246',\n",
       " 'V247',\n",
       " 'V249',\n",
       " 'V251',\n",
       " 'V253',\n",
       " 'V256',\n",
       " 'V257',\n",
       " 'V258',\n",
       " 'V259',\n",
       " 'V261',\n",
       " 'V262',\n",
       " 'V263',\n",
       " 'V264',\n",
       " 'V265',\n",
       " 'V266',\n",
       " 'V267',\n",
       " 'V268',\n",
       " 'V270',\n",
       " 'V271',\n",
       " 'V272',\n",
       " 'V273',\n",
       " 'V274',\n",
       " 'V275',\n",
       " 'V276',\n",
       " 'V277',\n",
       " 'V278',\n",
       " 'V279',\n",
       " 'V280',\n",
       " 'V282',\n",
       " 'V283',\n",
       " 'V285',\n",
       " 'V287',\n",
       " 'V288',\n",
       " 'V289',\n",
       " 'V291',\n",
       " 'V292',\n",
       " 'V294',\n",
       " 'V303',\n",
       " 'V304',\n",
       " 'V306',\n",
       " 'V307',\n",
       " 'V308',\n",
       " 'V310',\n",
       " 'V312',\n",
       " 'V313',\n",
       " 'V314',\n",
       " 'V315',\n",
       " 'V317',\n",
       " 'V322',\n",
       " 'V323',\n",
       " 'V324',\n",
       " 'V326',\n",
       " 'V329',\n",
       " 'V331',\n",
       " 'V332',\n",
       " 'V333',\n",
       " 'V335',\n",
       " 'V336',\n",
       " 'V338',\n",
       " 'NanTransactionCount',\n",
       " 'id_01',\n",
       " 'id_02',\n",
       " 'id_03',\n",
       " 'id_04',\n",
       " 'id_05',\n",
       " 'id_06',\n",
       " 'id_07',\n",
       " 'id_08',\n",
       " 'id_09',\n",
       " 'id_10',\n",
       " 'id_11',\n",
       " 'id_12',\n",
       " 'id_13',\n",
       " 'id_14',\n",
       " 'id_15',\n",
       " 'id_16',\n",
       " 'id_17',\n",
       " 'id_18',\n",
       " 'id_19',\n",
       " 'id_20',\n",
       " 'id_21',\n",
       " 'id_22',\n",
       " 'id_23',\n",
       " 'id_24',\n",
       " 'id_25',\n",
       " 'id_26',\n",
       " 'id_27',\n",
       " 'id_28',\n",
       " 'id_29',\n",
       " 'id_32',\n",
       " 'id_33',\n",
       " 'id_34',\n",
       " 'id_35',\n",
       " 'id_36',\n",
       " 'id_37',\n",
       " 'id_38',\n",
       " 'DeviceType',\n",
       " 'DeviceInfo',\n",
       " 'NanIdentityCount',\n",
       " 'Date',\n",
       " '_Weekdays',\n",
       " '_Hours',\n",
       " '_Days',\n",
       " 'P_emaildomain_bin',\n",
       " 'P_emaildomain_suffix',\n",
       " 'R_emaildomain_bin',\n",
       " 'R_emaildomain_suffix',\n",
       " 'Browser',\n",
       " 'BrowserAge',\n",
       " 'BrowserVersion',\n",
       " 'OS',\n",
       " 'OSVersion',\n",
       " 'device_name',\n",
       " 'device_version',\n",
       " 'screen_height',\n",
       " 'screen_width',\n",
       " 'D11__device_name',\n",
       " 'P_emaildomain_bin__C2',\n",
       " 'addr1__card1',\n",
       " 'card1__card5',\n",
       " 'card2__dist1',\n",
       " 'card2__id_20',\n",
       " 'card5__P_emaildomain_bin',\n",
       " 'device_name__P_emaildomain_bin',\n",
       " 'id_02__D8',\n",
       " 'id_02__id_20']"
      ]
     },
     "execution_count": 11,
     "metadata": {},
     "output_type": "execute_result"
    }
   ],
   "source": [
    "list(data.columns)"
   ]
  },
  {
   "cell_type": "code",
   "execution_count": 17,
   "metadata": {
    "ExecuteTime": {
     "end_time": "2019-08-18T13:21:28.698794Z",
     "start_time": "2019-08-18T13:21:28.517796Z"
    }
   },
   "outputs": [],
   "source": [
    "cols = [f for f in categorial_features if f in data.columns.values]\n",
    "encoder_names = (\"JamesSteinEncoder\", \"CatBoostEncoder\")\n",
    "Encoder = DoubleValidationEncoderNumerical(cols, encoder_names)"
   ]
  },
  {
   "cell_type": "code",
   "execution_count": 31,
   "metadata": {
    "ExecuteTime": {
     "end_time": "2019-08-18T13:29:14.438033Z",
     "start_time": "2019-08-18T13:29:09.023032Z"
    }
   },
   "outputs": [],
   "source": [
    "# X_train, X_test, y_train, y_test = train_test_split(data.drop(\"isFraud\", axis=1), data[\"isFraud\"],\n",
    "#                                                     test_size=0.4, shuffle=False)\n",
    "# X_train, X_test = X_train.reset_index(drop=False), X_test.reset_index(drop=False)\n",
    "# y_train, y_test = np.array(y_train), np.array(y_test)"
   ]
  },
  {
   "cell_type": "code",
   "execution_count": 32,
   "metadata": {
    "ExecuteTime": {
     "end_time": "2019-08-18T13:29:16.927443Z",
     "start_time": "2019-08-18T13:29:16.814443Z"
    }
   },
   "outputs": [
    {
     "data": {
      "text/plain": [
       "array([ 0,  0,  0, ..., -1, -1, -1], dtype=int8)"
      ]
     },
     "execution_count": 32,
     "metadata": {},
     "output_type": "execute_result"
    }
   ],
   "source": [
    "y_train"
   ]
  },
  {
   "cell_type": "code",
   "execution_count": 36,
   "metadata": {
    "ExecuteTime": {
     "end_time": "2019-08-18T13:29:53.815828Z",
     "start_time": "2019-08-18T13:29:53.694830Z"
    }
   },
   "outputs": [
    {
     "data": {
      "text/plain": [
       "array([0, 0, 0, ..., 0, 0, 0], dtype=int8)"
      ]
     },
     "execution_count": 36,
     "metadata": {},
     "output_type": "execute_result"
    }
   ],
   "source": [
    "y.values"
   ]
  },
  {
   "cell_type": "code",
   "execution_count": null,
   "metadata": {
    "ExecuteTime": {
     "start_time": "2019-08-18T13:30:19.248Z"
    }
   },
   "outputs": [],
   "source": [
    "X = X.reset_index(drop=False)\n",
    "# y = np.array(y.reset_index(drop=False))\n",
    "# X_test = X_test.reset_index(drop=False)\n",
    "X_emb = Encoder.fit_transform(X, y.values)\n"
   ]
  },
  {
   "cell_type": "code",
   "execution_count": null,
   "metadata": {
    "ExecuteTime": {
     "start_time": "2019-08-18T13:31:59.149Z"
    }
   },
   "outputs": [],
   "source": [
    "X_emb"
   ]
  },
  {
   "cell_type": "code",
   "execution_count": 22,
   "metadata": {
    "ExecuteTime": {
     "end_time": "2019-08-18T13:22:58.089273Z",
     "start_time": "2019-08-18T13:22:57.982273Z"
    }
   },
   "outputs": [
    {
     "data": {
      "text/plain": [
       "(590540,)"
      ]
     },
     "execution_count": 22,
     "metadata": {},
     "output_type": "execute_result"
    }
   ],
   "source": [
    "y.shape"
   ]
  },
  {
   "cell_type": "code",
   "execution_count": null,
   "metadata": {
    "ExecuteTime": {
     "start_time": "2019-08-18T13:32:17.473Z"
    }
   },
   "outputs": [],
   "source": [
    "X_test = Encoder.transform(X_test)"
   ]
  },
  {
   "cell_type": "code",
   "execution_count": null,
   "metadata": {
    "ExecuteTime": {
     "start_time": "2019-08-18T13:32:24.489Z"
    }
   },
   "outputs": [],
   "source": [
    "X_test.head()"
   ]
  },
  {
   "cell_type": "code",
   "execution_count": null,
   "metadata": {
    "ExecuteTime": {
     "end_time": "2019-08-18T11:30:40.515242Z",
     "start_time": "2019-08-18T11:30:40.411246Z"
    }
   },
   "outputs": [],
   "source": [
    "Encoder.storage"
   ]
  }
 ],
 "metadata": {
  "kernelspec": {
   "display_name": "Python 3",
   "language": "python",
   "name": "python3"
  },
  "language_info": {
   "codemirror_mode": {
    "name": "ipython",
    "version": 3
   },
   "file_extension": ".py",
   "mimetype": "text/x-python",
   "name": "python",
   "nbconvert_exporter": "python",
   "pygments_lexer": "ipython3",
   "version": "3.7.4"
  },
  "toc": {
   "base_numbering": 1,
   "nav_menu": {},
   "number_sections": true,
   "sideBar": true,
   "skip_h1_title": false,
   "title_cell": "Table of Contents",
   "title_sidebar": "Contents",
   "toc_cell": false,
   "toc_position": {},
   "toc_section_display": true,
   "toc_window_display": false
  },
  "varInspector": {
   "cols": {
    "lenName": 16,
    "lenType": 16,
    "lenVar": 40
   },
   "kernels_config": {
    "python": {
     "delete_cmd_postfix": "",
     "delete_cmd_prefix": "del ",
     "library": "var_list.py",
     "varRefreshCmd": "print(var_dic_list())"
    },
    "r": {
     "delete_cmd_postfix": ") ",
     "delete_cmd_prefix": "rm(",
     "library": "var_list.r",
     "varRefreshCmd": "cat(var_dic_list()) "
    }
   },
   "types_to_exclude": [
    "module",
    "function",
    "builtin_function_or_method",
    "instance",
    "_Feature"
   ],
   "window_display": false
  }
 },
 "nbformat": 4,
 "nbformat_minor": 2
}
