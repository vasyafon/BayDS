{
 "cells": [
  {
   "cell_type": "code",
   "execution_count": 5,
   "metadata": {
    "ExecuteTime": {
     "end_time": "2019-09-30T08:07:34.695144Z",
     "start_time": "2019-09-30T08:07:34.494155Z"
    },
    "colab": {
     "base_uri": "https://localhost:8080/",
     "height": 51
    },
    "colab_type": "code",
    "id": "9PhWyn4iAnpS",
    "outputId": "2287afe3-b5b6-4a1c-df92-f15cc91ea443"
   },
   "outputs": [
    {
     "name": "stdout",
     "output_type": "stream",
     "text": [
      "The autoreload extension is already loaded. To reload it, use:\n",
      "  %reload_ext autoreload\n"
     ]
    }
   ],
   "source": [
    "%load_ext autoreload\n",
    "%autoreload 2\n",
    "main_dir = r'f:\\Projects\\Prvate\\Baydin'\n",
    "\n",
    "data_path = r'E:/Kaggle/05-LabelEncoded-last'\n",
    "import sys\n",
    "sys.path.append(main_dir)\n",
    "from typing import List, Set, Dict, Optional, Any, Tuple, Type, Union\n",
    "\n",
    "from BayDS.lib.pipeline import *\n",
    "from BayDS.lib.io import *\n",
    "\n",
    "import os\n"
   ]
  },
  {
   "cell_type": "markdown",
   "metadata": {
    "ExecuteTime": {
     "end_time": "2019-09-22T12:47:29.055553Z",
     "start_time": "2019-09-22T12:47:28.933527Z"
    },
    "colab_type": "text",
    "id": "xki7YKbUAnpc"
   },
   "source": [
    "## Code to make pipeline node"
   ]
  },
  {
   "cell_type": "code",
   "execution_count": 6,
   "metadata": {
    "ExecuteTime": {
     "end_time": "2019-09-30T08:07:52.972342Z",
     "start_time": "2019-09-30T08:07:36.143529Z"
    }
   },
   "outputs": [],
   "source": [
    "data = pd.read_pickle(f'{data_path}/label_encoded_data.pkl')"
   ]
  },
  {
   "cell_type": "code",
   "execution_count": null,
   "metadata": {},
   "outputs": [],
   "source": []
  },
  {
   "cell_type": "code",
   "execution_count": 7,
   "metadata": {
    "ExecuteTime": {
     "end_time": "2019-09-30T08:09:15.572406Z",
     "start_time": "2019-09-30T08:08:50.546743Z"
    },
    "colab": {},
    "colab_type": "code",
    "id": "ruS3uWcIAnpj"
   },
   "outputs": [],
   "source": [
    "X = data[data.isFraud>=0].drop('isFraud',axis=1)\n",
    "test = data[data.isFraud<0].drop('isFraud',axis=1)\n",
    "y= data[data.isFraud>=0].isFraud"
   ]
  },
  {
   "cell_type": "code",
   "execution_count": 9,
   "metadata": {
    "ExecuteTime": {
     "end_time": "2019-09-30T08:09:20.265645Z",
     "start_time": "2019-09-30T08:09:19.967636Z"
    },
    "colab": {},
    "colab_type": "code",
    "id": "r9O_jvo7Anpr"
   },
   "outputs": [],
   "source": [
    "import yaml\n",
    "categorical_features = yaml.load(open(f'{data_path}/categorical_columns.yaml','r'))\n",
    "numerical_features = yaml.load(open(f'{data_path}/numerical_columns.yaml','r'))\n",
    "bad_features = yaml.load(open(f'{data_path}/bad_for_training_features.yaml','r'))\n",
    "\n",
    "categorical_features = [f for f in categorical_features if f not in bad_features]\n",
    "all_features =  [f for f in X.columns if f not in bad_features]"
   ]
  },
  {
   "cell_type": "code",
   "execution_count": 10,
   "metadata": {
    "ExecuteTime": {
     "end_time": "2019-09-30T08:09:41.222576Z",
     "start_time": "2019-09-30T08:09:29.704627Z"
    },
    "colab": {},
    "colab_type": "code",
    "id": "EVqmMr4nAnpx"
   },
   "outputs": [
    {
     "name": "stderr",
     "output_type": "stream",
     "text": [
      "Using TensorFlow backend.\n",
      "c:\\python36\\lib\\site-packages\\tensorflow\\python\\framework\\dtypes.py:523: FutureWarning: Passing (type, 1) or '1type' as a synonym of type is deprecated; in a future version of numpy, it will be understood as (type, (1,)) / '(1,)type'.\n",
      "  _np_qint8 = np.dtype([(\"qint8\", np.int8, 1)])\n",
      "c:\\python36\\lib\\site-packages\\tensorflow\\python\\framework\\dtypes.py:524: FutureWarning: Passing (type, 1) or '1type' as a synonym of type is deprecated; in a future version of numpy, it will be understood as (type, (1,)) / '(1,)type'.\n",
      "  _np_quint8 = np.dtype([(\"quint8\", np.uint8, 1)])\n",
      "c:\\python36\\lib\\site-packages\\tensorflow\\python\\framework\\dtypes.py:525: FutureWarning: Passing (type, 1) or '1type' as a synonym of type is deprecated; in a future version of numpy, it will be understood as (type, (1,)) / '(1,)type'.\n",
      "  _np_qint16 = np.dtype([(\"qint16\", np.int16, 1)])\n",
      "c:\\python36\\lib\\site-packages\\tensorflow\\python\\framework\\dtypes.py:526: FutureWarning: Passing (type, 1) or '1type' as a synonym of type is deprecated; in a future version of numpy, it will be understood as (type, (1,)) / '(1,)type'.\n",
      "  _np_quint16 = np.dtype([(\"quint16\", np.uint16, 1)])\n",
      "c:\\python36\\lib\\site-packages\\tensorflow\\python\\framework\\dtypes.py:527: FutureWarning: Passing (type, 1) or '1type' as a synonym of type is deprecated; in a future version of numpy, it will be understood as (type, (1,)) / '(1,)type'.\n",
      "  _np_qint32 = np.dtype([(\"qint32\", np.int32, 1)])\n",
      "c:\\python36\\lib\\site-packages\\tensorflow\\python\\framework\\dtypes.py:532: FutureWarning: Passing (type, 1) or '1type' as a synonym of type is deprecated; in a future version of numpy, it will be understood as (type, (1,)) / '(1,)type'.\n",
      "  np_resource = np.dtype([(\"resource\", np.ubyte, 1)])\n"
     ]
    }
   ],
   "source": [
    "from BayDS.lib.training import *"
   ]
  },
  {
   "cell_type": "code",
   "execution_count": 13,
   "metadata": {
    "ExecuteTime": {
     "end_time": "2019-09-30T08:11:49.220466Z",
     "start_time": "2019-09-30T08:11:43.479066Z"
    }
   },
   "outputs": [
    {
     "name": "stdout",
     "output_type": "stream",
     "text": [
      "card_id 19226\n",
      "new_card_id 144827\n",
      "OSVersion 88\n",
      "device_version 380\n",
      "BrowserVersion 54\n",
      "id_13 56\n",
      "id_17 128\n",
      "id_19 569\n",
      "id_20 548\n",
      "id_21 735\n",
      "id_25 441\n",
      "id_26 116\n",
      "id_30 88\n",
      "id_31 173\n",
      "id_33 462\n",
      "DeviceInfo 2800\n",
      "P_emaildomain 61\n",
      "R_emaildomain 61\n",
      "card1 9118\n",
      "card2 497\n",
      "card3 97\n",
      "card5 84\n",
      "addr1 442\n",
      "addr2 94\n",
      "device_version 380\n",
      "id_02__id_20 270750\n",
      "id_02__D8 258079\n",
      "D11__DeviceInfo 3680\n",
      "DeviceInfo__P_emaildomain 8978\n",
      "P_emaildomain__C2 6793\n",
      "card2__dist1 31408\n",
      "card1__card5 18808\n",
      "card2__id_20 9240\n",
      "card5__P_emaildomain 1574\n",
      "addr1__card1 55370\n",
      "uid 11014\n",
      "uid2 11442\n",
      "uid3 52025\n",
      "uid4 129426\n",
      "uid5 91344\n",
      "bank_type 726\n",
      "product_type 30362\n"
     ]
    }
   ],
   "source": [
    "drop_big_categorical_features = []\n",
    "for col in categorical_features:\n",
    "    if len(data[col].value_counts()) > 50:\n",
    "        drop_big_categorical_features.append(col)\n",
    "        print(col, len(data[col].value_counts()))"
   ]
  },
  {
   "cell_type": "code",
   "execution_count": 14,
   "metadata": {
    "ExecuteTime": {
     "end_time": "2019-09-30T08:12:01.190950Z",
     "start_time": "2019-09-30T08:12:00.835941Z"
    },
    "colab": {},
    "colab_type": "code",
    "id": "J4nkE68IkCMr"
   },
   "outputs": [],
   "source": [
    "# X.drop(features_to_drop,axis=1,inplace=True)\n",
    "# test.drop(features_to_drop,axis=1,inplace=True)\n",
    "use_for_train_features =  [f for f in all_features if f not in drop_big_categorical_features]"
   ]
  },
  {
   "cell_type": "code",
   "execution_count": 15,
   "metadata": {
    "ExecuteTime": {
     "end_time": "2019-09-30T08:12:13.184846Z",
     "start_time": "2019-09-30T08:12:12.818864Z"
    },
    "colab": {},
    "colab_type": "code",
    "id": "CzZ4o683lrLA"
   },
   "outputs": [],
   "source": [
    "categorical_features =  [f for f in categorical_features if f not in drop_big_categorical_features]"
   ]
  },
  {
   "cell_type": "code",
   "execution_count": 23,
   "metadata": {
    "ExecuteTime": {
     "end_time": "2019-09-30T08:16:57.128775Z",
     "start_time": "2019-09-30T08:16:37.885593Z"
    }
   },
   "outputs": [
    {
     "name": "stdout",
     "output_type": "stream",
     "text": [
      "Date datetime64[ns]\n",
      "start_date datetime64[ns]\n"
     ]
    }
   ],
   "source": [
    "for col in X.columns:\n",
    "    if str(X[col].dtype) == 'datetime64[ns]':\n",
    "        print (col, X[col].dtype)\n",
    "        X[col] = pd.to_timedelta(X[col]).map(lambda qq:qq.days)\n",
    "        test[col] = pd.to_timedelta(test[col]).map(lambda qq:qq.days)\n",
    "#         X[col] = X[col].astype(datetime.datetime)"
   ]
  },
  {
   "cell_type": "code",
   "execution_count": 8,
   "metadata": {
    "ExecuteTime": {
     "end_time": "2019-09-30T08:09:18.759112Z",
     "start_time": "2019-09-30T08:09:18.331614Z"
    },
    "colab": {},
    "colab_type": "code",
    "id": "VhChFEFRAnpn"
   },
   "outputs": [],
   "source": [
    "from sklearn.model_selection import GroupKFold\n",
    "\n",
    "NFOLDS = 6\n",
    "folds = GroupKFold(n_splits=NFOLDS)\n"
   ]
  },
  {
   "cell_type": "code",
   "execution_count": 20,
   "metadata": {
    "ExecuteTime": {
     "end_time": "2019-09-30T08:15:03.023344Z",
     "start_time": "2019-09-30T08:15:02.678316Z"
    },
    "colab": {},
    "colab_type": "code",
    "id": "a6YRNmj7AnqA"
   },
   "outputs": [],
   "source": [
    "params = {\n",
    "          'num_leaves': 491,\n",
    "          'min_child_weight': 0.03454472573214212,\n",
    "          'feature_fraction': 0.3797454081646243,\n",
    "          'bagging_fraction': 0.4181193142567742,\n",
    "          'min_data_in_leaf': 106,\n",
    "          'objective': 'binary',\n",
    "          'max_depth': 10,\n",
    "          'learning_rate': 0.003,\n",
    "          \"boosting_type\": \"gbdt\",\n",
    "          \"bagging_seed\": 11,\n",
    "          \"metric\": 'auc',\n",
    "          \"verbosity\": -1,\n",
    "          'reg_alpha': 0.3899927210061127,\n",
    "          'reg_lambda': 0.6485237330340494,\n",
    "          'random_state': 47\n",
    "         }\n",
    "train_options = {\n",
    "        \"model_type\":'lgb',\n",
    "        \"params\": params,\n",
    "        \"eval_metric\":'auc',\n",
    "        'early_stopping_rounds': 500,\n",
    "        'n_estimators': 10000,\n",
    "        'averaging': 'usual',\n",
    "        'use_groups': False,\n",
    "        'fold_name': folds.__class__.__name__,\n",
    "        'n_splits': NFOLDS\n",
    "    }"
   ]
  },
  {
   "cell_type": "code",
   "execution_count": 24,
   "metadata": {
    "ExecuteTime": {
     "end_time": "2019-09-30T13:51:06.879697Z",
     "start_time": "2019-09-30T08:16:59.672795Z"
    },
    "colab": {
     "base_uri": "https://localhost:8080/",
     "height": 85
    },
    "colab_type": "code",
    "id": "vGP82_BAAnqE",
    "outputId": "c55ff1a3-9f50-4ea0-bb7c-56ef78bb306e"
   },
   "outputs": [
    {
     "name": "stdout",
     "output_type": "stream",
     "text": [
      "Fold 1 started at Mon Sep 30 11:17:01 2019\n",
      "Training until validation scores don't improve for 500 rounds.\n",
      "[100]\ttraining's auc: 0.914474\ttraining's auc: 0.914473\tvalid_1's auc: 0.85591\tvalid_1's auc: 0.855912\n",
      "[200]\ttraining's auc: 0.928595\ttraining's auc: 0.928595\tvalid_1's auc: 0.866185\tvalid_1's auc: 0.866185\n",
      "[300]\ttraining's auc: 0.938065\ttraining's auc: 0.938065\tvalid_1's auc: 0.872388\tvalid_1's auc: 0.872388\n",
      "[400]\ttraining's auc: 0.945859\ttraining's auc: 0.945859\tvalid_1's auc: 0.876922\tvalid_1's auc: 0.876922\n",
      "[500]\ttraining's auc: 0.952242\ttraining's auc: 0.952242\tvalid_1's auc: 0.880587\tvalid_1's auc: 0.880587\n",
      "[600]\ttraining's auc: 0.957344\ttraining's auc: 0.957344\tvalid_1's auc: 0.883827\tvalid_1's auc: 0.883827\n",
      "[700]\ttraining's auc: 0.961987\ttraining's auc: 0.961987\tvalid_1's auc: 0.886254\tvalid_1's auc: 0.886254\n",
      "[800]\ttraining's auc: 0.965878\ttraining's auc: 0.965878\tvalid_1's auc: 0.888744\tvalid_1's auc: 0.888744\n",
      "[900]\ttraining's auc: 0.969224\ttraining's auc: 0.969224\tvalid_1's auc: 0.890844\tvalid_1's auc: 0.890844\n",
      "[1000]\ttraining's auc: 0.972261\ttraining's auc: 0.972261\tvalid_1's auc: 0.89264\tvalid_1's auc: 0.89264\n",
      "[1100]\ttraining's auc: 0.974495\ttraining's auc: 0.974495\tvalid_1's auc: 0.893999\tvalid_1's auc: 0.893999\n",
      "[1200]\ttraining's auc: 0.976174\ttraining's auc: 0.976174\tvalid_1's auc: 0.895371\tvalid_1's auc: 0.895371\n",
      "[1300]\ttraining's auc: 0.97761\ttraining's auc: 0.97761\tvalid_1's auc: 0.89678\tvalid_1's auc: 0.89678\n",
      "[1400]\ttraining's auc: 0.97871\ttraining's auc: 0.97871\tvalid_1's auc: 0.897969\tvalid_1's auc: 0.897969\n",
      "[1500]\ttraining's auc: 0.979734\ttraining's auc: 0.979734\tvalid_1's auc: 0.899107\tvalid_1's auc: 0.899107\n",
      "[1600]\ttraining's auc: 0.980514\ttraining's auc: 0.980514\tvalid_1's auc: 0.90013\tvalid_1's auc: 0.90013\n",
      "[1700]\ttraining's auc: 0.981313\ttraining's auc: 0.981313\tvalid_1's auc: 0.901022\tvalid_1's auc: 0.901022\n",
      "[1800]\ttraining's auc: 0.982064\ttraining's auc: 0.982064\tvalid_1's auc: 0.90175\tvalid_1's auc: 0.90175\n",
      "[1900]\ttraining's auc: 0.982707\ttraining's auc: 0.982707\tvalid_1's auc: 0.902486\tvalid_1's auc: 0.902486\n",
      "[2000]\ttraining's auc: 0.983372\ttraining's auc: 0.983372\tvalid_1's auc: 0.903091\tvalid_1's auc: 0.903091\n",
      "[2100]\ttraining's auc: 0.983977\ttraining's auc: 0.983977\tvalid_1's auc: 0.903664\tvalid_1's auc: 0.903664\n",
      "[2200]\ttraining's auc: 0.984623\ttraining's auc: 0.984623\tvalid_1's auc: 0.90419\tvalid_1's auc: 0.90419\n",
      "[2300]\ttraining's auc: 0.985198\ttraining's auc: 0.985198\tvalid_1's auc: 0.904683\tvalid_1's auc: 0.904683\n",
      "[2400]\ttraining's auc: 0.985837\ttraining's auc: 0.985837\tvalid_1's auc: 0.90525\tvalid_1's auc: 0.90525\n",
      "[2500]\ttraining's auc: 0.986372\ttraining's auc: 0.986372\tvalid_1's auc: 0.905704\tvalid_1's auc: 0.905704\n",
      "[2600]\ttraining's auc: 0.986924\ttraining's auc: 0.986924\tvalid_1's auc: 0.906203\tvalid_1's auc: 0.906203\n",
      "[2700]\ttraining's auc: 0.987434\ttraining's auc: 0.987434\tvalid_1's auc: 0.906639\tvalid_1's auc: 0.906639\n",
      "[2800]\ttraining's auc: 0.9879\ttraining's auc: 0.9879\tvalid_1's auc: 0.906991\tvalid_1's auc: 0.906991\n",
      "[2900]\ttraining's auc: 0.988416\ttraining's auc: 0.988416\tvalid_1's auc: 0.907352\tvalid_1's auc: 0.907352\n",
      "[3000]\ttraining's auc: 0.988861\ttraining's auc: 0.988861\tvalid_1's auc: 0.907728\tvalid_1's auc: 0.907728\n",
      "[3100]\ttraining's auc: 0.989295\ttraining's auc: 0.989295\tvalid_1's auc: 0.908099\tvalid_1's auc: 0.908099\n",
      "[3200]\ttraining's auc: 0.989739\ttraining's auc: 0.989739\tvalid_1's auc: 0.90839\tvalid_1's auc: 0.90839\n",
      "[3300]\ttraining's auc: 0.990126\ttraining's auc: 0.990126\tvalid_1's auc: 0.908775\tvalid_1's auc: 0.908775\n",
      "[3400]\ttraining's auc: 0.990559\ttraining's auc: 0.990559\tvalid_1's auc: 0.909084\tvalid_1's auc: 0.909084\n",
      "[3500]\ttraining's auc: 0.990983\ttraining's auc: 0.990983\tvalid_1's auc: 0.909337\tvalid_1's auc: 0.909337\n",
      "[3600]\ttraining's auc: 0.991361\ttraining's auc: 0.991361\tvalid_1's auc: 0.909604\tvalid_1's auc: 0.909604\n",
      "[3700]\ttraining's auc: 0.991709\ttraining's auc: 0.991709\tvalid_1's auc: 0.909793\tvalid_1's auc: 0.909793\n",
      "[3800]\ttraining's auc: 0.992076\ttraining's auc: 0.992076\tvalid_1's auc: 0.909999\tvalid_1's auc: 0.909999\n",
      "[3900]\ttraining's auc: 0.992417\ttraining's auc: 0.992417\tvalid_1's auc: 0.910193\tvalid_1's auc: 0.910193\n",
      "[4000]\ttraining's auc: 0.992776\ttraining's auc: 0.992776\tvalid_1's auc: 0.910346\tvalid_1's auc: 0.910346\n",
      "[4100]\ttraining's auc: 0.993038\ttraining's auc: 0.993038\tvalid_1's auc: 0.910591\tvalid_1's auc: 0.910591\n",
      "[4200]\ttraining's auc: 0.993338\ttraining's auc: 0.993338\tvalid_1's auc: 0.910716\tvalid_1's auc: 0.910716\n",
      "[4300]\ttraining's auc: 0.993609\ttraining's auc: 0.993609\tvalid_1's auc: 0.91083\tvalid_1's auc: 0.91083\n",
      "[4400]\ttraining's auc: 0.993891\ttraining's auc: 0.993891\tvalid_1's auc: 0.910973\tvalid_1's auc: 0.910973\n",
      "[4500]\ttraining's auc: 0.994139\ttraining's auc: 0.994139\tvalid_1's auc: 0.911075\tvalid_1's auc: 0.911075\n",
      "[4600]\ttraining's auc: 0.994385\ttraining's auc: 0.994385\tvalid_1's auc: 0.91125\tvalid_1's auc: 0.91125\n",
      "[4700]\ttraining's auc: 0.994611\ttraining's auc: 0.994611\tvalid_1's auc: 0.911394\tvalid_1's auc: 0.911394\n",
      "[4800]\ttraining's auc: 0.994856\ttraining's auc: 0.994856\tvalid_1's auc: 0.911414\tvalid_1's auc: 0.911414\n",
      "[4900]\ttraining's auc: 0.995038\ttraining's auc: 0.995038\tvalid_1's auc: 0.911551\tvalid_1's auc: 0.911551\n",
      "[5000]\ttraining's auc: 0.995216\ttraining's auc: 0.995216\tvalid_1's auc: 0.911714\tvalid_1's auc: 0.911714\n",
      "[5100]\ttraining's auc: 0.99542\ttraining's auc: 0.99542\tvalid_1's auc: 0.911728\tvalid_1's auc: 0.911728\n",
      "[5200]\ttraining's auc: 0.995615\ttraining's auc: 0.995615\tvalid_1's auc: 0.91188\tvalid_1's auc: 0.91188\n",
      "[5300]\ttraining's auc: 0.995774\ttraining's auc: 0.995774\tvalid_1's auc: 0.911943\tvalid_1's auc: 0.911943\n",
      "[5400]\ttraining's auc: 0.995942\ttraining's auc: 0.995942\tvalid_1's auc: 0.911993\tvalid_1's auc: 0.911993\n",
      "[5500]\ttraining's auc: 0.996125\ttraining's auc: 0.996125\tvalid_1's auc: 0.911998\tvalid_1's auc: 0.911998\n",
      "[5600]\ttraining's auc: 0.996273\ttraining's auc: 0.996273\tvalid_1's auc: 0.912058\tvalid_1's auc: 0.912058\n",
      "[5700]\ttraining's auc: 0.99646\ttraining's auc: 0.99646\tvalid_1's auc: 0.912034\tvalid_1's auc: 0.912034\n",
      "[5800]\ttraining's auc: 0.996611\ttraining's auc: 0.996611\tvalid_1's auc: 0.912081\tvalid_1's auc: 0.912081\n",
      "[5900]\ttraining's auc: 0.996754\ttraining's auc: 0.996754\tvalid_1's auc: 0.912112\tvalid_1's auc: 0.912112\n",
      "[6000]\ttraining's auc: 0.996883\ttraining's auc: 0.996883\tvalid_1's auc: 0.912144\tvalid_1's auc: 0.912144\n",
      "[6100]\ttraining's auc: 0.997011\ttraining's auc: 0.997011\tvalid_1's auc: 0.912158\tvalid_1's auc: 0.912158\n",
      "[6200]\ttraining's auc: 0.997117\ttraining's auc: 0.997117\tvalid_1's auc: 0.91223\tvalid_1's auc: 0.91223\n",
      "[6300]\ttraining's auc: 0.997235\ttraining's auc: 0.997235\tvalid_1's auc: 0.912234\tvalid_1's auc: 0.912234\n",
      "[6400]\ttraining's auc: 0.997356\ttraining's auc: 0.997356\tvalid_1's auc: 0.912251\tvalid_1's auc: 0.912251\n",
      "[6500]\ttraining's auc: 0.997454\ttraining's auc: 0.997454\tvalid_1's auc: 0.912241\tvalid_1's auc: 0.912241\n",
      "[6600]\ttraining's auc: 0.99758\ttraining's auc: 0.99758\tvalid_1's auc: 0.912167\tvalid_1's auc: 0.912167\n",
      "[6700]\ttraining's auc: 0.997682\ttraining's auc: 0.997682\tvalid_1's auc: 0.912176\tvalid_1's auc: 0.912176\n",
      "Early stopping, best iteration is:\n",
      "[6233]\ttraining's auc: 0.997151\ttraining's auc: 0.997151\tvalid_1's auc: 0.912289\tvalid_1's auc: 0.912289\n",
      "Fold 2 started at Mon Sep 30 12:04:06 2019\n",
      "Training until validation scores don't improve for 500 rounds.\n",
      "[100]\ttraining's auc: 0.911248\ttraining's auc: 0.911247\tvalid_1's auc: 0.886981\tvalid_1's auc: 0.886982\n",
      "[200]\ttraining's auc: 0.925183\ttraining's auc: 0.925183\tvalid_1's auc: 0.895121\tvalid_1's auc: 0.895122\n",
      "[300]\ttraining's auc: 0.936059\ttraining's auc: 0.93606\tvalid_1's auc: 0.901846\tvalid_1's auc: 0.901846\n",
      "[400]\ttraining's auc: 0.943561\ttraining's auc: 0.943561\tvalid_1's auc: 0.906358\tvalid_1's auc: 0.906358\n",
      "[500]\ttraining's auc: 0.949597\ttraining's auc: 0.949597\tvalid_1's auc: 0.909911\tvalid_1's auc: 0.909911\n",
      "[600]\ttraining's auc: 0.955282\ttraining's auc: 0.955282\tvalid_1's auc: 0.912882\tvalid_1's auc: 0.912882\n",
      "[700]\ttraining's auc: 0.959681\ttraining's auc: 0.959681\tvalid_1's auc: 0.915836\tvalid_1's auc: 0.915836\n",
      "[800]\ttraining's auc: 0.963808\ttraining's auc: 0.963808\tvalid_1's auc: 0.918285\tvalid_1's auc: 0.918285\n",
      "[900]\ttraining's auc: 0.967729\ttraining's auc: 0.967729\tvalid_1's auc: 0.920444\tvalid_1's auc: 0.920444\n"
     ]
    },
    {
     "name": "stdout",
     "output_type": "stream",
     "text": [
      "[1000]\ttraining's auc: 0.970881\ttraining's auc: 0.970881\tvalid_1's auc: 0.922227\tvalid_1's auc: 0.922227\n",
      "[1100]\ttraining's auc: 0.973317\ttraining's auc: 0.973317\tvalid_1's auc: 0.9237\tvalid_1's auc: 0.9237\n",
      "[1200]\ttraining's auc: 0.975252\ttraining's auc: 0.975252\tvalid_1's auc: 0.924923\tvalid_1's auc: 0.924923\n",
      "[1300]\ttraining's auc: 0.976626\ttraining's auc: 0.976626\tvalid_1's auc: 0.925861\tvalid_1's auc: 0.925861\n",
      "[1400]\ttraining's auc: 0.977829\ttraining's auc: 0.977829\tvalid_1's auc: 0.926707\tvalid_1's auc: 0.926707\n",
      "[1500]\ttraining's auc: 0.978777\ttraining's auc: 0.978777\tvalid_1's auc: 0.927379\tvalid_1's auc: 0.927379\n",
      "[1600]\ttraining's auc: 0.979573\ttraining's auc: 0.979573\tvalid_1's auc: 0.928002\tvalid_1's auc: 0.928002\n",
      "[1700]\ttraining's auc: 0.980298\ttraining's auc: 0.980298\tvalid_1's auc: 0.928507\tvalid_1's auc: 0.928507\n",
      "[1800]\ttraining's auc: 0.981051\ttraining's auc: 0.981051\tvalid_1's auc: 0.929002\tvalid_1's auc: 0.929002\n",
      "[1900]\ttraining's auc: 0.981828\ttraining's auc: 0.981828\tvalid_1's auc: 0.9296\tvalid_1's auc: 0.9296\n",
      "[2000]\ttraining's auc: 0.982553\ttraining's auc: 0.982553\tvalid_1's auc: 0.930084\tvalid_1's auc: 0.930084\n",
      "[2100]\ttraining's auc: 0.983307\ttraining's auc: 0.983307\tvalid_1's auc: 0.930615\tvalid_1's auc: 0.930615\n",
      "[2200]\ttraining's auc: 0.983988\ttraining's auc: 0.983988\tvalid_1's auc: 0.930975\tvalid_1's auc: 0.930975\n",
      "[2300]\ttraining's auc: 0.984594\ttraining's auc: 0.984594\tvalid_1's auc: 0.931352\tvalid_1's auc: 0.931352\n",
      "[2400]\ttraining's auc: 0.98519\ttraining's auc: 0.98519\tvalid_1's auc: 0.931788\tvalid_1's auc: 0.931788\n",
      "[2500]\ttraining's auc: 0.985817\ttraining's auc: 0.985817\tvalid_1's auc: 0.932217\tvalid_1's auc: 0.932217\n",
      "[2600]\ttraining's auc: 0.986348\ttraining's auc: 0.986348\tvalid_1's auc: 0.932562\tvalid_1's auc: 0.932562\n",
      "[2700]\ttraining's auc: 0.986837\ttraining's auc: 0.986837\tvalid_1's auc: 0.932846\tvalid_1's auc: 0.932846\n",
      "[2800]\ttraining's auc: 0.987352\ttraining's auc: 0.987352\tvalid_1's auc: 0.933194\tvalid_1's auc: 0.933194\n",
      "[2900]\ttraining's auc: 0.987914\ttraining's auc: 0.987914\tvalid_1's auc: 0.933524\tvalid_1's auc: 0.933524\n",
      "[3000]\ttraining's auc: 0.988432\ttraining's auc: 0.988432\tvalid_1's auc: 0.933842\tvalid_1's auc: 0.933842\n",
      "[3100]\ttraining's auc: 0.988917\ttraining's auc: 0.988917\tvalid_1's auc: 0.934112\tvalid_1's auc: 0.934112\n",
      "[3200]\ttraining's auc: 0.989395\ttraining's auc: 0.989395\tvalid_1's auc: 0.934438\tvalid_1's auc: 0.934438\n",
      "[3300]\ttraining's auc: 0.989878\ttraining's auc: 0.989878\tvalid_1's auc: 0.934804\tvalid_1's auc: 0.934804\n",
      "[3400]\ttraining's auc: 0.990356\ttraining's auc: 0.990356\tvalid_1's auc: 0.935084\tvalid_1's auc: 0.935084\n",
      "[3500]\ttraining's auc: 0.990785\ttraining's auc: 0.990785\tvalid_1's auc: 0.935369\tvalid_1's auc: 0.935369\n",
      "[3600]\ttraining's auc: 0.991164\ttraining's auc: 0.991164\tvalid_1's auc: 0.935617\tvalid_1's auc: 0.935617\n",
      "[3700]\ttraining's auc: 0.991513\ttraining's auc: 0.991513\tvalid_1's auc: 0.935881\tvalid_1's auc: 0.935881\n",
      "[3800]\ttraining's auc: 0.991856\ttraining's auc: 0.991856\tvalid_1's auc: 0.936062\tvalid_1's auc: 0.936062\n",
      "[3900]\ttraining's auc: 0.992169\ttraining's auc: 0.992169\tvalid_1's auc: 0.936238\tvalid_1's auc: 0.936238\n",
      "[4000]\ttraining's auc: 0.992483\ttraining's auc: 0.992483\tvalid_1's auc: 0.936436\tvalid_1's auc: 0.936436\n",
      "[4100]\ttraining's auc: 0.99283\ttraining's auc: 0.99283\tvalid_1's auc: 0.936614\tvalid_1's auc: 0.936614\n",
      "[4200]\ttraining's auc: 0.99312\ttraining's auc: 0.99312\tvalid_1's auc: 0.936722\tvalid_1's auc: 0.936722\n",
      "[4300]\ttraining's auc: 0.993407\ttraining's auc: 0.993407\tvalid_1's auc: 0.936845\tvalid_1's auc: 0.936845\n",
      "[4400]\ttraining's auc: 0.993738\ttraining's auc: 0.993738\tvalid_1's auc: 0.937012\tvalid_1's auc: 0.937012\n",
      "[4500]\ttraining's auc: 0.994041\ttraining's auc: 0.994041\tvalid_1's auc: 0.937188\tvalid_1's auc: 0.937188\n",
      "[4600]\ttraining's auc: 0.994329\ttraining's auc: 0.994329\tvalid_1's auc: 0.937306\tvalid_1's auc: 0.937306\n",
      "[4700]\ttraining's auc: 0.99457\ttraining's auc: 0.99457\tvalid_1's auc: 0.937438\tvalid_1's auc: 0.937438\n",
      "[4800]\ttraining's auc: 0.994788\ttraining's auc: 0.994788\tvalid_1's auc: 0.937557\tvalid_1's auc: 0.937557\n",
      "[4900]\ttraining's auc: 0.995017\ttraining's auc: 0.995017\tvalid_1's auc: 0.937658\tvalid_1's auc: 0.937658\n",
      "[5000]\ttraining's auc: 0.995233\ttraining's auc: 0.995233\tvalid_1's auc: 0.937792\tvalid_1's auc: 0.937792\n",
      "[5100]\ttraining's auc: 0.995442\ttraining's auc: 0.995442\tvalid_1's auc: 0.937872\tvalid_1's auc: 0.937872\n",
      "[5200]\ttraining's auc: 0.995632\ttraining's auc: 0.995632\tvalid_1's auc: 0.937875\tvalid_1's auc: 0.937875\n",
      "[5300]\ttraining's auc: 0.995833\ttraining's auc: 0.995833\tvalid_1's auc: 0.93796\tvalid_1's auc: 0.93796\n",
      "[5400]\ttraining's auc: 0.99604\ttraining's auc: 0.99604\tvalid_1's auc: 0.938093\tvalid_1's auc: 0.938093\n",
      "[5500]\ttraining's auc: 0.996218\ttraining's auc: 0.996218\tvalid_1's auc: 0.938163\tvalid_1's auc: 0.938163\n",
      "[5600]\ttraining's auc: 0.996398\ttraining's auc: 0.996398\tvalid_1's auc: 0.938224\tvalid_1's auc: 0.938224\n",
      "[5700]\ttraining's auc: 0.996587\ttraining's auc: 0.996587\tvalid_1's auc: 0.93832\tvalid_1's auc: 0.93832\n",
      "[5800]\ttraining's auc: 0.996768\ttraining's auc: 0.996768\tvalid_1's auc: 0.938372\tvalid_1's auc: 0.938372\n",
      "[5900]\ttraining's auc: 0.996933\ttraining's auc: 0.996933\tvalid_1's auc: 0.938441\tvalid_1's auc: 0.938441\n",
      "[6000]\ttraining's auc: 0.997086\ttraining's auc: 0.997086\tvalid_1's auc: 0.938497\tvalid_1's auc: 0.938497\n",
      "[6100]\ttraining's auc: 0.99722\ttraining's auc: 0.99722\tvalid_1's auc: 0.938528\tvalid_1's auc: 0.938528\n",
      "[6200]\ttraining's auc: 0.997341\ttraining's auc: 0.997341\tvalid_1's auc: 0.938549\tvalid_1's auc: 0.938549\n",
      "[6300]\ttraining's auc: 0.997476\ttraining's auc: 0.997476\tvalid_1's auc: 0.938639\tvalid_1's auc: 0.938639\n",
      "[6400]\ttraining's auc: 0.9976\ttraining's auc: 0.9976\tvalid_1's auc: 0.938665\tvalid_1's auc: 0.938665\n",
      "[6500]\ttraining's auc: 0.997717\ttraining's auc: 0.997717\tvalid_1's auc: 0.938678\tvalid_1's auc: 0.938678\n",
      "[6600]\ttraining's auc: 0.997828\ttraining's auc: 0.997828\tvalid_1's auc: 0.938667\tvalid_1's auc: 0.938667\n",
      "[6700]\ttraining's auc: 0.997922\ttraining's auc: 0.997922\tvalid_1's auc: 0.938675\tvalid_1's auc: 0.938675\n",
      "[6800]\ttraining's auc: 0.998023\ttraining's auc: 0.998023\tvalid_1's auc: 0.938699\tvalid_1's auc: 0.938699\n",
      "[6900]\ttraining's auc: 0.998141\ttraining's auc: 0.998141\tvalid_1's auc: 0.938708\tvalid_1's auc: 0.938708\n",
      "[7000]\ttraining's auc: 0.998238\ttraining's auc: 0.998238\tvalid_1's auc: 0.938726\tvalid_1's auc: 0.938726\n",
      "[7100]\ttraining's auc: 0.998313\ttraining's auc: 0.998313\tvalid_1's auc: 0.938696\tvalid_1's auc: 0.938696\n",
      "[7200]\ttraining's auc: 0.998397\ttraining's auc: 0.998397\tvalid_1's auc: 0.938669\tvalid_1's auc: 0.938669\n",
      "[7300]\ttraining's auc: 0.998461\ttraining's auc: 0.998461\tvalid_1's auc: 0.93867\tvalid_1's auc: 0.93867\n",
      "[7400]\ttraining's auc: 0.998543\ttraining's auc: 0.998543\tvalid_1's auc: 0.938628\tvalid_1's auc: 0.938628\n",
      "Early stopping, best iteration is:\n",
      "[6982]\ttraining's auc: 0.998224\ttraining's auc: 0.998224\tvalid_1's auc: 0.938737\tvalid_1's auc: 0.938737\n",
      "Fold 3 started at Mon Sep 30 12:56:58 2019\n",
      "Training until validation scores don't improve for 500 rounds.\n",
      "[100]\ttraining's auc: 0.912109\ttraining's auc: 0.912107\tvalid_1's auc: 0.888556\tvalid_1's auc: 0.888557\n",
      "[200]\ttraining's auc: 0.925014\ttraining's auc: 0.925014\tvalid_1's auc: 0.896088\tvalid_1's auc: 0.896088\n",
      "[300]\ttraining's auc: 0.934842\ttraining's auc: 0.934842\tvalid_1's auc: 0.90209\tvalid_1's auc: 0.90209\n",
      "[400]\ttraining's auc: 0.942403\ttraining's auc: 0.942403\tvalid_1's auc: 0.90617\tvalid_1's auc: 0.90617\n",
      "[500]\ttraining's auc: 0.948806\ttraining's auc: 0.948806\tvalid_1's auc: 0.910175\tvalid_1's auc: 0.910175\n",
      "[600]\ttraining's auc: 0.954629\ttraining's auc: 0.954629\tvalid_1's auc: 0.913974\tvalid_1's auc: 0.913974\n",
      "[700]\ttraining's auc: 0.959275\ttraining's auc: 0.959275\tvalid_1's auc: 0.917026\tvalid_1's auc: 0.917026\n",
      "[800]\ttraining's auc: 0.963408\ttraining's auc: 0.963408\tvalid_1's auc: 0.91989\tvalid_1's auc: 0.91989\n",
      "[900]\ttraining's auc: 0.966888\ttraining's auc: 0.966888\tvalid_1's auc: 0.922002\tvalid_1's auc: 0.922002\n",
      "[1000]\ttraining's auc: 0.969852\ttraining's auc: 0.969852\tvalid_1's auc: 0.923849\tvalid_1's auc: 0.923849\n",
      "[1100]\ttraining's auc: 0.972204\ttraining's auc: 0.972204\tvalid_1's auc: 0.925249\tvalid_1's auc: 0.925249\n",
      "[1200]\ttraining's auc: 0.974037\ttraining's auc: 0.974037\tvalid_1's auc: 0.926554\tvalid_1's auc: 0.926554\n"
     ]
    },
    {
     "name": "stdout",
     "output_type": "stream",
     "text": [
      "[1300]\ttraining's auc: 0.975587\ttraining's auc: 0.975587\tvalid_1's auc: 0.927769\tvalid_1's auc: 0.927769\n",
      "[1400]\ttraining's auc: 0.976881\ttraining's auc: 0.976881\tvalid_1's auc: 0.928789\tvalid_1's auc: 0.928789\n",
      "[1500]\ttraining's auc: 0.977925\ttraining's auc: 0.977925\tvalid_1's auc: 0.929765\tvalid_1's auc: 0.929765\n",
      "[1600]\ttraining's auc: 0.978881\ttraining's auc: 0.978881\tvalid_1's auc: 0.930576\tvalid_1's auc: 0.930576\n",
      "[1700]\ttraining's auc: 0.979653\ttraining's auc: 0.979653\tvalid_1's auc: 0.931256\tvalid_1's auc: 0.931256\n",
      "[1800]\ttraining's auc: 0.980532\ttraining's auc: 0.980532\tvalid_1's auc: 0.931904\tvalid_1's auc: 0.931904\n",
      "[1900]\ttraining's auc: 0.981237\ttraining's auc: 0.981237\tvalid_1's auc: 0.932473\tvalid_1's auc: 0.932473\n",
      "[2000]\ttraining's auc: 0.981914\ttraining's auc: 0.981914\tvalid_1's auc: 0.932986\tvalid_1's auc: 0.932986\n",
      "[2100]\ttraining's auc: 0.982636\ttraining's auc: 0.982636\tvalid_1's auc: 0.933507\tvalid_1's auc: 0.933507\n",
      "[2200]\ttraining's auc: 0.98324\ttraining's auc: 0.98324\tvalid_1's auc: 0.933918\tvalid_1's auc: 0.933918\n",
      "[2300]\ttraining's auc: 0.983887\ttraining's auc: 0.983887\tvalid_1's auc: 0.934489\tvalid_1's auc: 0.934489\n",
      "[2400]\ttraining's auc: 0.984474\ttraining's auc: 0.984474\tvalid_1's auc: 0.934933\tvalid_1's auc: 0.934933\n",
      "[2500]\ttraining's auc: 0.985058\ttraining's auc: 0.985058\tvalid_1's auc: 0.935385\tvalid_1's auc: 0.935385\n",
      "[2600]\ttraining's auc: 0.985598\ttraining's auc: 0.985598\tvalid_1's auc: 0.935772\tvalid_1's auc: 0.935772\n",
      "[2700]\ttraining's auc: 0.986063\ttraining's auc: 0.986063\tvalid_1's auc: 0.936114\tvalid_1's auc: 0.936114\n",
      "[2800]\ttraining's auc: 0.986587\ttraining's auc: 0.986587\tvalid_1's auc: 0.936434\tvalid_1's auc: 0.936434\n",
      "[2900]\ttraining's auc: 0.987087\ttraining's auc: 0.987087\tvalid_1's auc: 0.936797\tvalid_1's auc: 0.936797\n",
      "[3000]\ttraining's auc: 0.987615\ttraining's auc: 0.987615\tvalid_1's auc: 0.937218\tvalid_1's auc: 0.937218\n",
      "[3100]\ttraining's auc: 0.988072\ttraining's auc: 0.988072\tvalid_1's auc: 0.937499\tvalid_1's auc: 0.937499\n",
      "[3200]\ttraining's auc: 0.988525\ttraining's auc: 0.988525\tvalid_1's auc: 0.937835\tvalid_1's auc: 0.937835\n",
      "[3300]\ttraining's auc: 0.988929\ttraining's auc: 0.988929\tvalid_1's auc: 0.938172\tvalid_1's auc: 0.938172\n",
      "[3400]\ttraining's auc: 0.98935\ttraining's auc: 0.98935\tvalid_1's auc: 0.938475\tvalid_1's auc: 0.938475\n",
      "[3500]\ttraining's auc: 0.989736\ttraining's auc: 0.989736\tvalid_1's auc: 0.938774\tvalid_1's auc: 0.938774\n",
      "[3600]\ttraining's auc: 0.990171\ttraining's auc: 0.990171\tvalid_1's auc: 0.939004\tvalid_1's auc: 0.939004\n",
      "[3700]\ttraining's auc: 0.990517\ttraining's auc: 0.990517\tvalid_1's auc: 0.939224\tvalid_1's auc: 0.939224\n",
      "[3800]\ttraining's auc: 0.9909\ttraining's auc: 0.9909\tvalid_1's auc: 0.939478\tvalid_1's auc: 0.939478\n",
      "[3900]\ttraining's auc: 0.991231\ttraining's auc: 0.991231\tvalid_1's auc: 0.939732\tvalid_1's auc: 0.939732\n",
      "[4000]\ttraining's auc: 0.991568\ttraining's auc: 0.991568\tvalid_1's auc: 0.94\tvalid_1's auc: 0.94\n",
      "[4100]\ttraining's auc: 0.991874\ttraining's auc: 0.991874\tvalid_1's auc: 0.940207\tvalid_1's auc: 0.940207\n",
      "[4200]\ttraining's auc: 0.992168\ttraining's auc: 0.992168\tvalid_1's auc: 0.940343\tvalid_1's auc: 0.940343\n",
      "[4300]\ttraining's auc: 0.992454\ttraining's auc: 0.992454\tvalid_1's auc: 0.940513\tvalid_1's auc: 0.940513\n",
      "[4400]\ttraining's auc: 0.992765\ttraining's auc: 0.992765\tvalid_1's auc: 0.940715\tvalid_1's auc: 0.940715\n",
      "[4500]\ttraining's auc: 0.993061\ttraining's auc: 0.993061\tvalid_1's auc: 0.94086\tvalid_1's auc: 0.94086\n",
      "[4600]\ttraining's auc: 0.993356\ttraining's auc: 0.993356\tvalid_1's auc: 0.941001\tvalid_1's auc: 0.941001\n",
      "[4700]\ttraining's auc: 0.993613\ttraining's auc: 0.993613\tvalid_1's auc: 0.941158\tvalid_1's auc: 0.941158\n",
      "[4800]\ttraining's auc: 0.993881\ttraining's auc: 0.993881\tvalid_1's auc: 0.941347\tvalid_1's auc: 0.941347\n",
      "[4900]\ttraining's auc: 0.994136\ttraining's auc: 0.994136\tvalid_1's auc: 0.94147\tvalid_1's auc: 0.94147\n",
      "[5000]\ttraining's auc: 0.994361\ttraining's auc: 0.994361\tvalid_1's auc: 0.941612\tvalid_1's auc: 0.941612\n",
      "[5100]\ttraining's auc: 0.994568\ttraining's auc: 0.994568\tvalid_1's auc: 0.941686\tvalid_1's auc: 0.941686\n",
      "[5200]\ttraining's auc: 0.994837\ttraining's auc: 0.994837\tvalid_1's auc: 0.941842\tvalid_1's auc: 0.941842\n",
      "[5300]\ttraining's auc: 0.995108\ttraining's auc: 0.995108\tvalid_1's auc: 0.941967\tvalid_1's auc: 0.941967\n",
      "[5400]\ttraining's auc: 0.995341\ttraining's auc: 0.995341\tvalid_1's auc: 0.942102\tvalid_1's auc: 0.942102\n",
      "[5500]\ttraining's auc: 0.995522\ttraining's auc: 0.995522\tvalid_1's auc: 0.94224\tvalid_1's auc: 0.94224\n",
      "[5600]\ttraining's auc: 0.995696\ttraining's auc: 0.995696\tvalid_1's auc: 0.94235\tvalid_1's auc: 0.94235\n",
      "[5700]\ttraining's auc: 0.995916\ttraining's auc: 0.995916\tvalid_1's auc: 0.942462\tvalid_1's auc: 0.942462\n",
      "[5800]\ttraining's auc: 0.996114\ttraining's auc: 0.996114\tvalid_1's auc: 0.942626\tvalid_1's auc: 0.942626\n",
      "[5900]\ttraining's auc: 0.9963\ttraining's auc: 0.9963\tvalid_1's auc: 0.942669\tvalid_1's auc: 0.942669\n",
      "[6000]\ttraining's auc: 0.99649\ttraining's auc: 0.99649\tvalid_1's auc: 0.942774\tvalid_1's auc: 0.942774\n",
      "[6100]\ttraining's auc: 0.996641\ttraining's auc: 0.996641\tvalid_1's auc: 0.942893\tvalid_1's auc: 0.942893\n",
      "[6200]\ttraining's auc: 0.996811\ttraining's auc: 0.996811\tvalid_1's auc: 0.942989\tvalid_1's auc: 0.942989\n",
      "[6300]\ttraining's auc: 0.996962\ttraining's auc: 0.996962\tvalid_1's auc: 0.943083\tvalid_1's auc: 0.943083\n",
      "[6400]\ttraining's auc: 0.997087\ttraining's auc: 0.997087\tvalid_1's auc: 0.943162\tvalid_1's auc: 0.943162\n",
      "[6500]\ttraining's auc: 0.997215\ttraining's auc: 0.997215\tvalid_1's auc: 0.94325\tvalid_1's auc: 0.94325\n",
      "[6600]\ttraining's auc: 0.997332\ttraining's auc: 0.997332\tvalid_1's auc: 0.943325\tvalid_1's auc: 0.943325\n",
      "[6700]\ttraining's auc: 0.997445\ttraining's auc: 0.997445\tvalid_1's auc: 0.943384\tvalid_1's auc: 0.943384\n",
      "[6800]\ttraining's auc: 0.997553\ttraining's auc: 0.997553\tvalid_1's auc: 0.943443\tvalid_1's auc: 0.943443\n",
      "[6900]\ttraining's auc: 0.997679\ttraining's auc: 0.997679\tvalid_1's auc: 0.943497\tvalid_1's auc: 0.943497\n",
      "[7000]\ttraining's auc: 0.997773\ttraining's auc: 0.997773\tvalid_1's auc: 0.943566\tvalid_1's auc: 0.943566\n",
      "[7100]\ttraining's auc: 0.99786\ttraining's auc: 0.99786\tvalid_1's auc: 0.943558\tvalid_1's auc: 0.943558\n",
      "[7200]\ttraining's auc: 0.997947\ttraining's auc: 0.997947\tvalid_1's auc: 0.943574\tvalid_1's auc: 0.943574\n",
      "[7300]\ttraining's auc: 0.998033\ttraining's auc: 0.998033\tvalid_1's auc: 0.943588\tvalid_1's auc: 0.943588\n",
      "[7400]\ttraining's auc: 0.998131\ttraining's auc: 0.998131\tvalid_1's auc: 0.943607\tvalid_1's auc: 0.943607\n",
      "[7500]\ttraining's auc: 0.998225\ttraining's auc: 0.998225\tvalid_1's auc: 0.94365\tvalid_1's auc: 0.94365\n",
      "[7600]\ttraining's auc: 0.998303\ttraining's auc: 0.998303\tvalid_1's auc: 0.943676\tvalid_1's auc: 0.943676\n",
      "[7700]\ttraining's auc: 0.99838\ttraining's auc: 0.99838\tvalid_1's auc: 0.94368\tvalid_1's auc: 0.94368\n",
      "[7800]\ttraining's auc: 0.998456\ttraining's auc: 0.998456\tvalid_1's auc: 0.943723\tvalid_1's auc: 0.943723\n",
      "[7900]\ttraining's auc: 0.998526\ttraining's auc: 0.998526\tvalid_1's auc: 0.943733\tvalid_1's auc: 0.943733\n",
      "[8000]\ttraining's auc: 0.99859\ttraining's auc: 0.99859\tvalid_1's auc: 0.943779\tvalid_1's auc: 0.943779\n",
      "[8100]\ttraining's auc: 0.998659\ttraining's auc: 0.998659\tvalid_1's auc: 0.94379\tvalid_1's auc: 0.94379\n",
      "[8200]\ttraining's auc: 0.998719\ttraining's auc: 0.998719\tvalid_1's auc: 0.943799\tvalid_1's auc: 0.943799\n",
      "[8300]\ttraining's auc: 0.998788\ttraining's auc: 0.998788\tvalid_1's auc: 0.943852\tvalid_1's auc: 0.943852\n",
      "[8400]\ttraining's auc: 0.998847\ttraining's auc: 0.998847\tvalid_1's auc: 0.943858\tvalid_1's auc: 0.943858\n",
      "[8500]\ttraining's auc: 0.998915\ttraining's auc: 0.998915\tvalid_1's auc: 0.943874\tvalid_1's auc: 0.943874\n",
      "[8600]\ttraining's auc: 0.998969\ttraining's auc: 0.998969\tvalid_1's auc: 0.943906\tvalid_1's auc: 0.943906\n",
      "[8700]\ttraining's auc: 0.999015\ttraining's auc: 0.999015\tvalid_1's auc: 0.943925\tvalid_1's auc: 0.943925\n",
      "[8800]\ttraining's auc: 0.999062\ttraining's auc: 0.999062\tvalid_1's auc: 0.943929\tvalid_1's auc: 0.943929\n",
      "[8900]\ttraining's auc: 0.999107\ttraining's auc: 0.999107\tvalid_1's auc: 0.943963\tvalid_1's auc: 0.943963\n",
      "[9000]\ttraining's auc: 0.999145\ttraining's auc: 0.999145\tvalid_1's auc: 0.943971\tvalid_1's auc: 0.943971\n",
      "[9100]\ttraining's auc: 0.999195\ttraining's auc: 0.999195\tvalid_1's auc: 0.943961\tvalid_1's auc: 0.943961\n"
     ]
    },
    {
     "name": "stdout",
     "output_type": "stream",
     "text": [
      "[9200]\ttraining's auc: 0.999239\ttraining's auc: 0.999239\tvalid_1's auc: 0.943987\tvalid_1's auc: 0.943987\n",
      "[9300]\ttraining's auc: 0.999274\ttraining's auc: 0.999274\tvalid_1's auc: 0.943955\tvalid_1's auc: 0.943955\n",
      "[9400]\ttraining's auc: 0.999306\ttraining's auc: 0.999306\tvalid_1's auc: 0.943968\tvalid_1's auc: 0.943968\n",
      "[9500]\ttraining's auc: 0.999334\ttraining's auc: 0.999334\tvalid_1's auc: 0.943946\tvalid_1's auc: 0.943946\n",
      "[9600]\ttraining's auc: 0.999368\ttraining's auc: 0.999368\tvalid_1's auc: 0.943963\tvalid_1's auc: 0.943963\n",
      "Early stopping, best iteration is:\n",
      "[9158]\ttraining's auc: 0.99922\ttraining's auc: 0.99922\tvalid_1's auc: 0.943999\tvalid_1's auc: 0.943999\n",
      "Fold 4 started at Mon Sep 30 14:04:32 2019\n",
      "Training until validation scores don't improve for 500 rounds.\n",
      "[100]\ttraining's auc: 0.910911\ttraining's auc: 0.91091\tvalid_1's auc: 0.880544\tvalid_1's auc: 0.880544\n",
      "[200]\ttraining's auc: 0.926301\ttraining's auc: 0.926301\tvalid_1's auc: 0.889998\tvalid_1's auc: 0.889998\n",
      "[300]\ttraining's auc: 0.93646\ttraining's auc: 0.93646\tvalid_1's auc: 0.897096\tvalid_1's auc: 0.897096\n",
      "[400]\ttraining's auc: 0.943833\ttraining's auc: 0.943833\tvalid_1's auc: 0.901485\tvalid_1's auc: 0.901485\n",
      "[500]\ttraining's auc: 0.950041\ttraining's auc: 0.950041\tvalid_1's auc: 0.905247\tvalid_1's auc: 0.905247\n",
      "[600]\ttraining's auc: 0.955581\ttraining's auc: 0.955581\tvalid_1's auc: 0.9087\tvalid_1's auc: 0.9087\n",
      "[700]\ttraining's auc: 0.960079\ttraining's auc: 0.960079\tvalid_1's auc: 0.911564\tvalid_1's auc: 0.911564\n",
      "[800]\ttraining's auc: 0.963988\ttraining's auc: 0.963988\tvalid_1's auc: 0.914482\tvalid_1's auc: 0.914482\n",
      "[900]\ttraining's auc: 0.967331\ttraining's auc: 0.967331\tvalid_1's auc: 0.916536\tvalid_1's auc: 0.916536\n",
      "[1000]\ttraining's auc: 0.970169\ttraining's auc: 0.970169\tvalid_1's auc: 0.918231\tvalid_1's auc: 0.918231\n",
      "[1100]\ttraining's auc: 0.972264\ttraining's auc: 0.972264\tvalid_1's auc: 0.91954\tvalid_1's auc: 0.91954\n",
      "[1200]\ttraining's auc: 0.974074\ttraining's auc: 0.974074\tvalid_1's auc: 0.920885\tvalid_1's auc: 0.920885\n",
      "[1300]\ttraining's auc: 0.975491\ttraining's auc: 0.975491\tvalid_1's auc: 0.922142\tvalid_1's auc: 0.922142\n",
      "[1400]\ttraining's auc: 0.976834\ttraining's auc: 0.976834\tvalid_1's auc: 0.923226\tvalid_1's auc: 0.923226\n",
      "[1500]\ttraining's auc: 0.977801\ttraining's auc: 0.977801\tvalid_1's auc: 0.924063\tvalid_1's auc: 0.924063\n",
      "[1600]\ttraining's auc: 0.978815\ttraining's auc: 0.978815\tvalid_1's auc: 0.924958\tvalid_1's auc: 0.924958\n",
      "[1700]\ttraining's auc: 0.979679\ttraining's auc: 0.979679\tvalid_1's auc: 0.925706\tvalid_1's auc: 0.925706\n",
      "[1800]\ttraining's auc: 0.980551\ttraining's auc: 0.980551\tvalid_1's auc: 0.926307\tvalid_1's auc: 0.926307\n",
      "[1900]\ttraining's auc: 0.981304\ttraining's auc: 0.981304\tvalid_1's auc: 0.926848\tvalid_1's auc: 0.926848\n",
      "[2000]\ttraining's auc: 0.98205\ttraining's auc: 0.98205\tvalid_1's auc: 0.927417\tvalid_1's auc: 0.927417\n",
      "[2100]\ttraining's auc: 0.982758\ttraining's auc: 0.982758\tvalid_1's auc: 0.927996\tvalid_1's auc: 0.927996\n",
      "[2200]\ttraining's auc: 0.98347\ttraining's auc: 0.98347\tvalid_1's auc: 0.928422\tvalid_1's auc: 0.928422\n",
      "[2300]\ttraining's auc: 0.984209\ttraining's auc: 0.984209\tvalid_1's auc: 0.928856\tvalid_1's auc: 0.928856\n",
      "[2400]\ttraining's auc: 0.98484\ttraining's auc: 0.98484\tvalid_1's auc: 0.92934\tvalid_1's auc: 0.92934\n",
      "[2500]\ttraining's auc: 0.985516\ttraining's auc: 0.985516\tvalid_1's auc: 0.92973\tvalid_1's auc: 0.92973\n",
      "[2600]\ttraining's auc: 0.986085\ttraining's auc: 0.986085\tvalid_1's auc: 0.930181\tvalid_1's auc: 0.930181\n",
      "[2700]\ttraining's auc: 0.986645\ttraining's auc: 0.986645\tvalid_1's auc: 0.93052\tvalid_1's auc: 0.93052\n",
      "[2800]\ttraining's auc: 0.9872\ttraining's auc: 0.9872\tvalid_1's auc: 0.930849\tvalid_1's auc: 0.930849\n",
      "[2900]\ttraining's auc: 0.987752\ttraining's auc: 0.987752\tvalid_1's auc: 0.931217\tvalid_1's auc: 0.931217\n",
      "[3000]\ttraining's auc: 0.988263\ttraining's auc: 0.988263\tvalid_1's auc: 0.931574\tvalid_1's auc: 0.931574\n",
      "[3100]\ttraining's auc: 0.988765\ttraining's auc: 0.988765\tvalid_1's auc: 0.931898\tvalid_1's auc: 0.931898\n",
      "[3200]\ttraining's auc: 0.989213\ttraining's auc: 0.989213\tvalid_1's auc: 0.932172\tvalid_1's auc: 0.932172\n",
      "[3300]\ttraining's auc: 0.989584\ttraining's auc: 0.989584\tvalid_1's auc: 0.932454\tvalid_1's auc: 0.932454\n",
      "[3400]\ttraining's auc: 0.990028\ttraining's auc: 0.990028\tvalid_1's auc: 0.932735\tvalid_1's auc: 0.932735\n",
      "[3500]\ttraining's auc: 0.99043\ttraining's auc: 0.99043\tvalid_1's auc: 0.932997\tvalid_1's auc: 0.932997\n",
      "[3600]\ttraining's auc: 0.990834\ttraining's auc: 0.990834\tvalid_1's auc: 0.933204\tvalid_1's auc: 0.933204\n",
      "[3700]\ttraining's auc: 0.991224\ttraining's auc: 0.991224\tvalid_1's auc: 0.933448\tvalid_1's auc: 0.933448\n",
      "[3800]\ttraining's auc: 0.991566\ttraining's auc: 0.991566\tvalid_1's auc: 0.933653\tvalid_1's auc: 0.933653\n",
      "[3900]\ttraining's auc: 0.991943\ttraining's auc: 0.991943\tvalid_1's auc: 0.933973\tvalid_1's auc: 0.933973\n",
      "[4000]\ttraining's auc: 0.992333\ttraining's auc: 0.992333\tvalid_1's auc: 0.934272\tvalid_1's auc: 0.934272\n",
      "[4100]\ttraining's auc: 0.992629\ttraining's auc: 0.992629\tvalid_1's auc: 0.934454\tvalid_1's auc: 0.934454\n",
      "[4200]\ttraining's auc: 0.992936\ttraining's auc: 0.992936\tvalid_1's auc: 0.934626\tvalid_1's auc: 0.934626\n",
      "[4300]\ttraining's auc: 0.993223\ttraining's auc: 0.993223\tvalid_1's auc: 0.934805\tvalid_1's auc: 0.934805\n",
      "[4400]\ttraining's auc: 0.993523\ttraining's auc: 0.993523\tvalid_1's auc: 0.934978\tvalid_1's auc: 0.934978\n",
      "[4500]\ttraining's auc: 0.993797\ttraining's auc: 0.993797\tvalid_1's auc: 0.935177\tvalid_1's auc: 0.935177\n",
      "[4600]\ttraining's auc: 0.994045\ttraining's auc: 0.994045\tvalid_1's auc: 0.93532\tvalid_1's auc: 0.93532\n",
      "[4700]\ttraining's auc: 0.994299\ttraining's auc: 0.994299\tvalid_1's auc: 0.935514\tvalid_1's auc: 0.935514\n",
      "[4800]\ttraining's auc: 0.994545\ttraining's auc: 0.994545\tvalid_1's auc: 0.935644\tvalid_1's auc: 0.935644\n",
      "[4900]\ttraining's auc: 0.99481\ttraining's auc: 0.99481\tvalid_1's auc: 0.935742\tvalid_1's auc: 0.935742\n",
      "[5000]\ttraining's auc: 0.995026\ttraining's auc: 0.995026\tvalid_1's auc: 0.935863\tvalid_1's auc: 0.935863\n",
      "[5100]\ttraining's auc: 0.995286\ttraining's auc: 0.995286\tvalid_1's auc: 0.935978\tvalid_1's auc: 0.935978\n",
      "[5200]\ttraining's auc: 0.995493\ttraining's auc: 0.995493\tvalid_1's auc: 0.93605\tvalid_1's auc: 0.93605\n",
      "[5300]\ttraining's auc: 0.995688\ttraining's auc: 0.995688\tvalid_1's auc: 0.93613\tvalid_1's auc: 0.93613\n",
      "[5400]\ttraining's auc: 0.995868\ttraining's auc: 0.995868\tvalid_1's auc: 0.936179\tvalid_1's auc: 0.936179\n",
      "[5500]\ttraining's auc: 0.996074\ttraining's auc: 0.996074\tvalid_1's auc: 0.936332\tvalid_1's auc: 0.936332\n",
      "[5600]\ttraining's auc: 0.996263\ttraining's auc: 0.996263\tvalid_1's auc: 0.936345\tvalid_1's auc: 0.936345\n",
      "[5700]\ttraining's auc: 0.996455\ttraining's auc: 0.996455\tvalid_1's auc: 0.936376\tvalid_1's auc: 0.936376\n",
      "[5800]\ttraining's auc: 0.996615\ttraining's auc: 0.996615\tvalid_1's auc: 0.936458\tvalid_1's auc: 0.936458\n",
      "[5900]\ttraining's auc: 0.996756\ttraining's auc: 0.996756\tvalid_1's auc: 0.936504\tvalid_1's auc: 0.936504\n",
      "[6000]\ttraining's auc: 0.996902\ttraining's auc: 0.996902\tvalid_1's auc: 0.936501\tvalid_1's auc: 0.936501\n",
      "[6100]\ttraining's auc: 0.997031\ttraining's auc: 0.997031\tvalid_1's auc: 0.936506\tvalid_1's auc: 0.936506\n",
      "[6200]\ttraining's auc: 0.997183\ttraining's auc: 0.997183\tvalid_1's auc: 0.936568\tvalid_1's auc: 0.936568\n",
      "[6300]\ttraining's auc: 0.997325\ttraining's auc: 0.997325\tvalid_1's auc: 0.93661\tvalid_1's auc: 0.93661\n",
      "[6400]\ttraining's auc: 0.997459\ttraining's auc: 0.997459\tvalid_1's auc: 0.93663\tvalid_1's auc: 0.93663\n",
      "[6500]\ttraining's auc: 0.997592\ttraining's auc: 0.997592\tvalid_1's auc: 0.936662\tvalid_1's auc: 0.936662\n",
      "[6600]\ttraining's auc: 0.99771\ttraining's auc: 0.99771\tvalid_1's auc: 0.936699\tvalid_1's auc: 0.936699\n",
      "[6700]\ttraining's auc: 0.997789\ttraining's auc: 0.997789\tvalid_1's auc: 0.936677\tvalid_1's auc: 0.936677\n",
      "[6800]\ttraining's auc: 0.997911\ttraining's auc: 0.997911\tvalid_1's auc: 0.936732\tvalid_1's auc: 0.936732\n",
      "[6900]\ttraining's auc: 0.99802\ttraining's auc: 0.99802\tvalid_1's auc: 0.936732\tvalid_1's auc: 0.936732\n",
      "[7000]\ttraining's auc: 0.998122\ttraining's auc: 0.998122\tvalid_1's auc: 0.936707\tvalid_1's auc: 0.936707\n",
      "[7100]\ttraining's auc: 0.998223\ttraining's auc: 0.998223\tvalid_1's auc: 0.93673\tvalid_1's auc: 0.93673\n",
      "[7200]\ttraining's auc: 0.998302\ttraining's auc: 0.998302\tvalid_1's auc: 0.936691\tvalid_1's auc: 0.936691\n"
     ]
    },
    {
     "name": "stdout",
     "output_type": "stream",
     "text": [
      "[7300]\ttraining's auc: 0.998381\ttraining's auc: 0.998381\tvalid_1's auc: 0.936694\tvalid_1's auc: 0.936694\n",
      "Early stopping, best iteration is:\n",
      "[6874]\ttraining's auc: 0.997987\ttraining's auc: 0.997987\tvalid_1's auc: 0.936759\tvalid_1's auc: 0.936759\n",
      "Fold 5 started at Mon Sep 30 14:57:20 2019\n",
      "Training until validation scores don't improve for 500 rounds.\n",
      "[100]\ttraining's auc: 0.909749\ttraining's auc: 0.90975\tvalid_1's auc: 0.903514\tvalid_1's auc: 0.903515\n",
      "[200]\ttraining's auc: 0.923448\ttraining's auc: 0.923448\tvalid_1's auc: 0.911672\tvalid_1's auc: 0.911672\n",
      "[300]\ttraining's auc: 0.934048\ttraining's auc: 0.934048\tvalid_1's auc: 0.918863\tvalid_1's auc: 0.918863\n",
      "[400]\ttraining's auc: 0.941777\ttraining's auc: 0.941777\tvalid_1's auc: 0.923155\tvalid_1's auc: 0.923155\n",
      "[500]\ttraining's auc: 0.948163\ttraining's auc: 0.948163\tvalid_1's auc: 0.926924\tvalid_1's auc: 0.926924\n",
      "[600]\ttraining's auc: 0.954011\ttraining's auc: 0.954011\tvalid_1's auc: 0.930226\tvalid_1's auc: 0.930226\n",
      "[700]\ttraining's auc: 0.958728\ttraining's auc: 0.958728\tvalid_1's auc: 0.933117\tvalid_1's auc: 0.933117\n",
      "[800]\ttraining's auc: 0.962994\ttraining's auc: 0.962994\tvalid_1's auc: 0.935437\tvalid_1's auc: 0.935437\n",
      "[900]\ttraining's auc: 0.966784\ttraining's auc: 0.966784\tvalid_1's auc: 0.93729\tvalid_1's auc: 0.93729\n",
      "[1000]\ttraining's auc: 0.969791\ttraining's auc: 0.969791\tvalid_1's auc: 0.938612\tvalid_1's auc: 0.938612\n",
      "[1100]\ttraining's auc: 0.971984\ttraining's auc: 0.971984\tvalid_1's auc: 0.939547\tvalid_1's auc: 0.939547\n",
      "[1200]\ttraining's auc: 0.973911\ttraining's auc: 0.973911\tvalid_1's auc: 0.940433\tvalid_1's auc: 0.940433\n",
      "[1300]\ttraining's auc: 0.975513\ttraining's auc: 0.975513\tvalid_1's auc: 0.941093\tvalid_1's auc: 0.941093\n",
      "[1400]\ttraining's auc: 0.976776\ttraining's auc: 0.976776\tvalid_1's auc: 0.941603\tvalid_1's auc: 0.941603\n",
      "[1500]\ttraining's auc: 0.9778\ttraining's auc: 0.9778\tvalid_1's auc: 0.942024\tvalid_1's auc: 0.942024\n",
      "[1600]\ttraining's auc: 0.978721\ttraining's auc: 0.978721\tvalid_1's auc: 0.94235\tvalid_1's auc: 0.94235\n",
      "[1700]\ttraining's auc: 0.979524\ttraining's auc: 0.979524\tvalid_1's auc: 0.942686\tvalid_1's auc: 0.942686\n",
      "[1800]\ttraining's auc: 0.980338\ttraining's auc: 0.980338\tvalid_1's auc: 0.943\tvalid_1's auc: 0.943\n",
      "[1900]\ttraining's auc: 0.981044\ttraining's auc: 0.981044\tvalid_1's auc: 0.943279\tvalid_1's auc: 0.943279\n",
      "[2000]\ttraining's auc: 0.981766\ttraining's auc: 0.981766\tvalid_1's auc: 0.94353\tvalid_1's auc: 0.94353\n",
      "[2100]\ttraining's auc: 0.982431\ttraining's auc: 0.982431\tvalid_1's auc: 0.943807\tvalid_1's auc: 0.943807\n",
      "[2200]\ttraining's auc: 0.98305\ttraining's auc: 0.98305\tvalid_1's auc: 0.944034\tvalid_1's auc: 0.944034\n",
      "[2300]\ttraining's auc: 0.983692\ttraining's auc: 0.983692\tvalid_1's auc: 0.944259\tvalid_1's auc: 0.944259\n",
      "[2400]\ttraining's auc: 0.984267\ttraining's auc: 0.984267\tvalid_1's auc: 0.944508\tvalid_1's auc: 0.944508\n",
      "[2500]\ttraining's auc: 0.984838\ttraining's auc: 0.984838\tvalid_1's auc: 0.944708\tvalid_1's auc: 0.944708\n",
      "[2600]\ttraining's auc: 0.985392\ttraining's auc: 0.985392\tvalid_1's auc: 0.944944\tvalid_1's auc: 0.944944\n",
      "[2700]\ttraining's auc: 0.985904\ttraining's auc: 0.985904\tvalid_1's auc: 0.945134\tvalid_1's auc: 0.945134\n",
      "[2800]\ttraining's auc: 0.986465\ttraining's auc: 0.986465\tvalid_1's auc: 0.94535\tvalid_1's auc: 0.94535\n",
      "[2900]\ttraining's auc: 0.986925\ttraining's auc: 0.986925\tvalid_1's auc: 0.945547\tvalid_1's auc: 0.945547\n",
      "[3000]\ttraining's auc: 0.987423\ttraining's auc: 0.987423\tvalid_1's auc: 0.945767\tvalid_1's auc: 0.945767\n",
      "[3100]\ttraining's auc: 0.98796\ttraining's auc: 0.98796\tvalid_1's auc: 0.94601\tvalid_1's auc: 0.94601\n",
      "[3200]\ttraining's auc: 0.988408\ttraining's auc: 0.988408\tvalid_1's auc: 0.946174\tvalid_1's auc: 0.946174\n",
      "[3300]\ttraining's auc: 0.988857\ttraining's auc: 0.988857\tvalid_1's auc: 0.946361\tvalid_1's auc: 0.946361\n",
      "[3400]\ttraining's auc: 0.989241\ttraining's auc: 0.989241\tvalid_1's auc: 0.946494\tvalid_1's auc: 0.946494\n",
      "[3500]\ttraining's auc: 0.989603\ttraining's auc: 0.989603\tvalid_1's auc: 0.946664\tvalid_1's auc: 0.946664\n",
      "[3600]\ttraining's auc: 0.989969\ttraining's auc: 0.989969\tvalid_1's auc: 0.946825\tvalid_1's auc: 0.946825\n",
      "[3700]\ttraining's auc: 0.990323\ttraining's auc: 0.990323\tvalid_1's auc: 0.946965\tvalid_1's auc: 0.946965\n",
      "[3800]\ttraining's auc: 0.990683\ttraining's auc: 0.990683\tvalid_1's auc: 0.947135\tvalid_1's auc: 0.947135\n",
      "[3900]\ttraining's auc: 0.990993\ttraining's auc: 0.990993\tvalid_1's auc: 0.947231\tvalid_1's auc: 0.947231\n",
      "[4000]\ttraining's auc: 0.991377\ttraining's auc: 0.991377\tvalid_1's auc: 0.947418\tvalid_1's auc: 0.947418\n",
      "[4100]\ttraining's auc: 0.991731\ttraining's auc: 0.991731\tvalid_1's auc: 0.947583\tvalid_1's auc: 0.947583\n",
      "[4200]\ttraining's auc: 0.992151\ttraining's auc: 0.992151\tvalid_1's auc: 0.947718\tvalid_1's auc: 0.947718\n",
      "[4300]\ttraining's auc: 0.992513\ttraining's auc: 0.992513\tvalid_1's auc: 0.947854\tvalid_1's auc: 0.947854\n",
      "[4400]\ttraining's auc: 0.992867\ttraining's auc: 0.992867\tvalid_1's auc: 0.947978\tvalid_1's auc: 0.947978\n",
      "[4500]\ttraining's auc: 0.993178\ttraining's auc: 0.993178\tvalid_1's auc: 0.948108\tvalid_1's auc: 0.948108\n",
      "[4600]\ttraining's auc: 0.993452\ttraining's auc: 0.993452\tvalid_1's auc: 0.948184\tvalid_1's auc: 0.948184\n",
      "[4700]\ttraining's auc: 0.993718\ttraining's auc: 0.993718\tvalid_1's auc: 0.948273\tvalid_1's auc: 0.948273\n",
      "[4800]\ttraining's auc: 0.99396\ttraining's auc: 0.99396\tvalid_1's auc: 0.948334\tvalid_1's auc: 0.948334\n",
      "[4900]\ttraining's auc: 0.994257\ttraining's auc: 0.994257\tvalid_1's auc: 0.948431\tvalid_1's auc: 0.948431\n",
      "[5000]\ttraining's auc: 0.994552\ttraining's auc: 0.994552\tvalid_1's auc: 0.948525\tvalid_1's auc: 0.948525\n",
      "[5100]\ttraining's auc: 0.994766\ttraining's auc: 0.994766\tvalid_1's auc: 0.948568\tvalid_1's auc: 0.948568\n",
      "[5200]\ttraining's auc: 0.994982\ttraining's auc: 0.994982\tvalid_1's auc: 0.948616\tvalid_1's auc: 0.948616\n",
      "[5300]\ttraining's auc: 0.995171\ttraining's auc: 0.995171\tvalid_1's auc: 0.948657\tvalid_1's auc: 0.948657\n",
      "[5400]\ttraining's auc: 0.99537\ttraining's auc: 0.99537\tvalid_1's auc: 0.948721\tvalid_1's auc: 0.948721\n",
      "[5500]\ttraining's auc: 0.995614\ttraining's auc: 0.995614\tvalid_1's auc: 0.948789\tvalid_1's auc: 0.948789\n",
      "[5600]\ttraining's auc: 0.995811\ttraining's auc: 0.995811\tvalid_1's auc: 0.948831\tvalid_1's auc: 0.948831\n",
      "[5700]\ttraining's auc: 0.996004\ttraining's auc: 0.996004\tvalid_1's auc: 0.94884\tvalid_1's auc: 0.94884\n",
      "[5800]\ttraining's auc: 0.996186\ttraining's auc: 0.996186\tvalid_1's auc: 0.948855\tvalid_1's auc: 0.948855\n",
      "[5900]\ttraining's auc: 0.996378\ttraining's auc: 0.996378\tvalid_1's auc: 0.948897\tvalid_1's auc: 0.948897\n",
      "[6000]\ttraining's auc: 0.99653\ttraining's auc: 0.99653\tvalid_1's auc: 0.948878\tvalid_1's auc: 0.948878\n",
      "[6100]\ttraining's auc: 0.996694\ttraining's auc: 0.996694\tvalid_1's auc: 0.948892\tvalid_1's auc: 0.948892\n",
      "[6200]\ttraining's auc: 0.996844\ttraining's auc: 0.996844\tvalid_1's auc: 0.948912\tvalid_1's auc: 0.948912\n",
      "[6300]\ttraining's auc: 0.996978\ttraining's auc: 0.996978\tvalid_1's auc: 0.948921\tvalid_1's auc: 0.948921\n",
      "[6400]\ttraining's auc: 0.997091\ttraining's auc: 0.997091\tvalid_1's auc: 0.948883\tvalid_1's auc: 0.948883\n",
      "[6500]\ttraining's auc: 0.997218\ttraining's auc: 0.997218\tvalid_1's auc: 0.948892\tvalid_1's auc: 0.948892\n",
      "[6600]\ttraining's auc: 0.997331\ttraining's auc: 0.997331\tvalid_1's auc: 0.948851\tvalid_1's auc: 0.948851\n",
      "[6700]\ttraining's auc: 0.997474\ttraining's auc: 0.997474\tvalid_1's auc: 0.948873\tvalid_1's auc: 0.948873\n",
      "Early stopping, best iteration is:\n",
      "[6266]\ttraining's auc: 0.996945\ttraining's auc: 0.996945\tvalid_1's auc: 0.948937\tvalid_1's auc: 0.948937\n",
      "Fold 6 started at Mon Sep 30 15:46:16 2019\n",
      "Training until validation scores don't improve for 500 rounds.\n",
      "[100]\ttraining's auc: 0.913118\ttraining's auc: 0.913121\tvalid_1's auc: 0.882358\tvalid_1's auc: 0.882358\n",
      "[200]\ttraining's auc: 0.926574\ttraining's auc: 0.926573\tvalid_1's auc: 0.894123\tvalid_1's auc: 0.894122\n",
      "[300]\ttraining's auc: 0.93647\ttraining's auc: 0.93647\tvalid_1's auc: 0.902421\tvalid_1's auc: 0.902421\n",
      "[400]\ttraining's auc: 0.943725\ttraining's auc: 0.943725\tvalid_1's auc: 0.908206\tvalid_1's auc: 0.908206\n",
      "[500]\ttraining's auc: 0.950003\ttraining's auc: 0.950003\tvalid_1's auc: 0.913205\tvalid_1's auc: 0.913205\n",
      "[600]\ttraining's auc: 0.955648\ttraining's auc: 0.955648\tvalid_1's auc: 0.917308\tvalid_1's auc: 0.917308\n"
     ]
    },
    {
     "name": "stdout",
     "output_type": "stream",
     "text": [
      "[700]\ttraining's auc: 0.959828\ttraining's auc: 0.959828\tvalid_1's auc: 0.920405\tvalid_1's auc: 0.920405\n",
      "[800]\ttraining's auc: 0.963306\ttraining's auc: 0.963306\tvalid_1's auc: 0.923042\tvalid_1's auc: 0.923042\n",
      "[900]\ttraining's auc: 0.966657\ttraining's auc: 0.966657\tvalid_1's auc: 0.925381\tvalid_1's auc: 0.925381\n",
      "[1000]\ttraining's auc: 0.96948\ttraining's auc: 0.96948\tvalid_1's auc: 0.927275\tvalid_1's auc: 0.927275\n",
      "[1100]\ttraining's auc: 0.972007\ttraining's auc: 0.972007\tvalid_1's auc: 0.929006\tvalid_1's auc: 0.929006\n",
      "[1200]\ttraining's auc: 0.973756\ttraining's auc: 0.973756\tvalid_1's auc: 0.930322\tvalid_1's auc: 0.930322\n",
      "[1300]\ttraining's auc: 0.975172\ttraining's auc: 0.975172\tvalid_1's auc: 0.931473\tvalid_1's auc: 0.931473\n",
      "[1400]\ttraining's auc: 0.97634\ttraining's auc: 0.97634\tvalid_1's auc: 0.932346\tvalid_1's auc: 0.932346\n",
      "[1500]\ttraining's auc: 0.977371\ttraining's auc: 0.977371\tvalid_1's auc: 0.93334\tvalid_1's auc: 0.93334\n",
      "[1600]\ttraining's auc: 0.978366\ttraining's auc: 0.978366\tvalid_1's auc: 0.934322\tvalid_1's auc: 0.934322\n",
      "[1700]\ttraining's auc: 0.979157\ttraining's auc: 0.979157\tvalid_1's auc: 0.935004\tvalid_1's auc: 0.935004\n",
      "[1800]\ttraining's auc: 0.979946\ttraining's auc: 0.979946\tvalid_1's auc: 0.935731\tvalid_1's auc: 0.935731\n",
      "[1900]\ttraining's auc: 0.980684\ttraining's auc: 0.980684\tvalid_1's auc: 0.936405\tvalid_1's auc: 0.936405\n",
      "[2000]\ttraining's auc: 0.9814\ttraining's auc: 0.9814\tvalid_1's auc: 0.937062\tvalid_1's auc: 0.937062\n",
      "[2100]\ttraining's auc: 0.982082\ttraining's auc: 0.982082\tvalid_1's auc: 0.937634\tvalid_1's auc: 0.937634\n",
      "[2200]\ttraining's auc: 0.982714\ttraining's auc: 0.982714\tvalid_1's auc: 0.93819\tvalid_1's auc: 0.93819\n",
      "[2300]\ttraining's auc: 0.983397\ttraining's auc: 0.983397\tvalid_1's auc: 0.938871\tvalid_1's auc: 0.938871\n",
      "[2400]\ttraining's auc: 0.983911\ttraining's auc: 0.983911\tvalid_1's auc: 0.939395\tvalid_1's auc: 0.939395\n",
      "[2500]\ttraining's auc: 0.984452\ttraining's auc: 0.984452\tvalid_1's auc: 0.93988\tvalid_1's auc: 0.93988\n",
      "[2600]\ttraining's auc: 0.985046\ttraining's auc: 0.985046\tvalid_1's auc: 0.940423\tvalid_1's auc: 0.940423\n",
      "[2700]\ttraining's auc: 0.985586\ttraining's auc: 0.985586\tvalid_1's auc: 0.940877\tvalid_1's auc: 0.940877\n",
      "[2800]\ttraining's auc: 0.986105\ttraining's auc: 0.986105\tvalid_1's auc: 0.941392\tvalid_1's auc: 0.941392\n",
      "[2900]\ttraining's auc: 0.986589\ttraining's auc: 0.986589\tvalid_1's auc: 0.941881\tvalid_1's auc: 0.941881\n",
      "[3000]\ttraining's auc: 0.987077\ttraining's auc: 0.987077\tvalid_1's auc: 0.942301\tvalid_1's auc: 0.942301\n",
      "[3100]\ttraining's auc: 0.987612\ttraining's auc: 0.987612\tvalid_1's auc: 0.942736\tvalid_1's auc: 0.942736\n",
      "[3200]\ttraining's auc: 0.988131\ttraining's auc: 0.988131\tvalid_1's auc: 0.9432\tvalid_1's auc: 0.9432\n",
      "[3300]\ttraining's auc: 0.988557\ttraining's auc: 0.988557\tvalid_1's auc: 0.943619\tvalid_1's auc: 0.943619\n",
      "[3400]\ttraining's auc: 0.988969\ttraining's auc: 0.988969\tvalid_1's auc: 0.944015\tvalid_1's auc: 0.944015\n",
      "[3500]\ttraining's auc: 0.989372\ttraining's auc: 0.989372\tvalid_1's auc: 0.944379\tvalid_1's auc: 0.944379\n",
      "[3600]\ttraining's auc: 0.9898\ttraining's auc: 0.9898\tvalid_1's auc: 0.944747\tvalid_1's auc: 0.944747\n",
      "[3700]\ttraining's auc: 0.990228\ttraining's auc: 0.990228\tvalid_1's auc: 0.945165\tvalid_1's auc: 0.945165\n",
      "[3800]\ttraining's auc: 0.990599\ttraining's auc: 0.990599\tvalid_1's auc: 0.945477\tvalid_1's auc: 0.945477\n",
      "[3900]\ttraining's auc: 0.990975\ttraining's auc: 0.990975\tvalid_1's auc: 0.945827\tvalid_1's auc: 0.945827\n",
      "[4000]\ttraining's auc: 0.991304\ttraining's auc: 0.991304\tvalid_1's auc: 0.946085\tvalid_1's auc: 0.946085\n",
      "[4100]\ttraining's auc: 0.991639\ttraining's auc: 0.991639\tvalid_1's auc: 0.946403\tvalid_1's auc: 0.946403\n",
      "[4200]\ttraining's auc: 0.991984\ttraining's auc: 0.991984\tvalid_1's auc: 0.946716\tvalid_1's auc: 0.946716\n",
      "[4300]\ttraining's auc: 0.992312\ttraining's auc: 0.992312\tvalid_1's auc: 0.946985\tvalid_1's auc: 0.946985\n",
      "[4400]\ttraining's auc: 0.99265\ttraining's auc: 0.99265\tvalid_1's auc: 0.947255\tvalid_1's auc: 0.947255\n",
      "[4500]\ttraining's auc: 0.992921\ttraining's auc: 0.992921\tvalid_1's auc: 0.947524\tvalid_1's auc: 0.947524\n",
      "[4600]\ttraining's auc: 0.993213\ttraining's auc: 0.993213\tvalid_1's auc: 0.947763\tvalid_1's auc: 0.947763\n",
      "[4700]\ttraining's auc: 0.993472\ttraining's auc: 0.993472\tvalid_1's auc: 0.947975\tvalid_1's auc: 0.947975\n",
      "[4800]\ttraining's auc: 0.993738\ttraining's auc: 0.993738\tvalid_1's auc: 0.948182\tvalid_1's auc: 0.948182\n",
      "[4900]\ttraining's auc: 0.994006\ttraining's auc: 0.994006\tvalid_1's auc: 0.948382\tvalid_1's auc: 0.948382\n",
      "[5000]\ttraining's auc: 0.994301\ttraining's auc: 0.994301\tvalid_1's auc: 0.948504\tvalid_1's auc: 0.948504\n",
      "[5100]\ttraining's auc: 0.99457\ttraining's auc: 0.99457\tvalid_1's auc: 0.948667\tvalid_1's auc: 0.948667\n",
      "[5200]\ttraining's auc: 0.994802\ttraining's auc: 0.994802\tvalid_1's auc: 0.948824\tvalid_1's auc: 0.948824\n",
      "[5300]\ttraining's auc: 0.995006\ttraining's auc: 0.995006\tvalid_1's auc: 0.948949\tvalid_1's auc: 0.948949\n",
      "[5400]\ttraining's auc: 0.995195\ttraining's auc: 0.995195\tvalid_1's auc: 0.949057\tvalid_1's auc: 0.949057\n",
      "[5500]\ttraining's auc: 0.99538\ttraining's auc: 0.99538\tvalid_1's auc: 0.949136\tvalid_1's auc: 0.949136\n",
      "[5600]\ttraining's auc: 0.995617\ttraining's auc: 0.995617\tvalid_1's auc: 0.949252\tvalid_1's auc: 0.949252\n",
      "[5700]\ttraining's auc: 0.995777\ttraining's auc: 0.995777\tvalid_1's auc: 0.949336\tvalid_1's auc: 0.949336\n",
      "[5800]\ttraining's auc: 0.995975\ttraining's auc: 0.995975\tvalid_1's auc: 0.949424\tvalid_1's auc: 0.949424\n",
      "[5900]\ttraining's auc: 0.996141\ttraining's auc: 0.996141\tvalid_1's auc: 0.949515\tvalid_1's auc: 0.949515\n",
      "[6000]\ttraining's auc: 0.996315\ttraining's auc: 0.996315\tvalid_1's auc: 0.949637\tvalid_1's auc: 0.949637\n",
      "[6100]\ttraining's auc: 0.996462\ttraining's auc: 0.996462\tvalid_1's auc: 0.949754\tvalid_1's auc: 0.949754\n",
      "[6200]\ttraining's auc: 0.99659\ttraining's auc: 0.99659\tvalid_1's auc: 0.949841\tvalid_1's auc: 0.949841\n",
      "[6300]\ttraining's auc: 0.99673\ttraining's auc: 0.99673\tvalid_1's auc: 0.949897\tvalid_1's auc: 0.949897\n",
      "[6400]\ttraining's auc: 0.99688\ttraining's auc: 0.99688\tvalid_1's auc: 0.949975\tvalid_1's auc: 0.949975\n",
      "[6500]\ttraining's auc: 0.997031\ttraining's auc: 0.997031\tvalid_1's auc: 0.950021\tvalid_1's auc: 0.950021\n",
      "[6600]\ttraining's auc: 0.997137\ttraining's auc: 0.997137\tvalid_1's auc: 0.950098\tvalid_1's auc: 0.950098\n",
      "[6700]\ttraining's auc: 0.997251\ttraining's auc: 0.997251\tvalid_1's auc: 0.950154\tvalid_1's auc: 0.950154\n",
      "[6800]\ttraining's auc: 0.997357\ttraining's auc: 0.997357\tvalid_1's auc: 0.950195\tvalid_1's auc: 0.950195\n",
      "[6900]\ttraining's auc: 0.997477\ttraining's auc: 0.997477\tvalid_1's auc: 0.950235\tvalid_1's auc: 0.950235\n",
      "[7000]\ttraining's auc: 0.997595\ttraining's auc: 0.997595\tvalid_1's auc: 0.950268\tvalid_1's auc: 0.950268\n",
      "[7100]\ttraining's auc: 0.997697\ttraining's auc: 0.997697\tvalid_1's auc: 0.950321\tvalid_1's auc: 0.950321\n",
      "[7200]\ttraining's auc: 0.997809\ttraining's auc: 0.997809\tvalid_1's auc: 0.950395\tvalid_1's auc: 0.950395\n",
      "[7300]\ttraining's auc: 0.997937\ttraining's auc: 0.997937\tvalid_1's auc: 0.950452\tvalid_1's auc: 0.950452\n",
      "[7400]\ttraining's auc: 0.998023\ttraining's auc: 0.998023\tvalid_1's auc: 0.950505\tvalid_1's auc: 0.950505\n",
      "[7500]\ttraining's auc: 0.9981\ttraining's auc: 0.9981\tvalid_1's auc: 0.950531\tvalid_1's auc: 0.950531\n",
      "[7600]\ttraining's auc: 0.998186\ttraining's auc: 0.998186\tvalid_1's auc: 0.950534\tvalid_1's auc: 0.950534\n",
      "[7700]\ttraining's auc: 0.998261\ttraining's auc: 0.998261\tvalid_1's auc: 0.950571\tvalid_1's auc: 0.950571\n",
      "[7800]\ttraining's auc: 0.998347\ttraining's auc: 0.998347\tvalid_1's auc: 0.950613\tvalid_1's auc: 0.950613\n",
      "[7900]\ttraining's auc: 0.998421\ttraining's auc: 0.998421\tvalid_1's auc: 0.950631\tvalid_1's auc: 0.950631\n",
      "[8000]\ttraining's auc: 0.998505\ttraining's auc: 0.998505\tvalid_1's auc: 0.95066\tvalid_1's auc: 0.95066\n",
      "[8100]\ttraining's auc: 0.998577\ttraining's auc: 0.998577\tvalid_1's auc: 0.950663\tvalid_1's auc: 0.950663\n",
      "[8200]\ttraining's auc: 0.998644\ttraining's auc: 0.998644\tvalid_1's auc: 0.95068\tvalid_1's auc: 0.95068\n",
      "[8300]\ttraining's auc: 0.998712\ttraining's auc: 0.998712\tvalid_1's auc: 0.950664\tvalid_1's auc: 0.950664\n",
      "[8400]\ttraining's auc: 0.998789\ttraining's auc: 0.998789\tvalid_1's auc: 0.950672\tvalid_1's auc: 0.950672\n",
      "[8500]\ttraining's auc: 0.998856\ttraining's auc: 0.998856\tvalid_1's auc: 0.95067\tvalid_1's auc: 0.95067\n"
     ]
    },
    {
     "name": "stdout",
     "output_type": "stream",
     "text": [
      "[8600]\ttraining's auc: 0.998914\ttraining's auc: 0.998914\tvalid_1's auc: 0.950681\tvalid_1's auc: 0.950681\n",
      "[8700]\ttraining's auc: 0.998973\ttraining's auc: 0.998973\tvalid_1's auc: 0.950674\tvalid_1's auc: 0.950674\n",
      "[8800]\ttraining's auc: 0.99903\ttraining's auc: 0.99903\tvalid_1's auc: 0.950676\tvalid_1's auc: 0.950676\n",
      "[8900]\ttraining's auc: 0.999089\ttraining's auc: 0.999089\tvalid_1's auc: 0.950662\tvalid_1's auc: 0.950662\n",
      "[9000]\ttraining's auc: 0.999137\ttraining's auc: 0.999137\tvalid_1's auc: 0.95066\tvalid_1's auc: 0.95066\n",
      "Early stopping, best iteration is:\n",
      "[8574]\ttraining's auc: 0.998901\ttraining's auc: 0.998901\tvalid_1's auc: 0.950691\tvalid_1's auc: 0.950691\n",
      "CV mean score: 0.9386, std: 0.0128.\n"
     ]
    },
    {
     "data": {
      "image/png": "[encoded data removed]",
      "text/plain": [
       "<Figure size 1152x864 with 1 Axes>"
      ]
     },
     "metadata": {},
     "output_type": "display_data"
    }
   ],
   "source": [
    "result_dict = train_model_classification_vb(X=X, X_test=test, columns=use_for_train_features,\n",
    "                                             y=y, params=params, folds=folds,\n",
    "                                             model_type=train_options['model_type'], \n",
    "                                             categorial_columns = categorical_features,\n",
    "                                             plot_feature_importance=True,\n",
    "                                             verbose=100, early_stopping_rounds=train_options['early_stopping_rounds'],\n",
    "                                             n_estimators=train_options['n_estimators'], \n",
    "                                             averaging=train_options['averaging'],\n",
    "                                             n_jobs=-1, groups=X['DT_M'])\n"
   ]
  },
  {
   "cell_type": "code",
   "execution_count": 26,
   "metadata": {
    "ExecuteTime": {
     "end_time": "2019-09-30T13:53:08.356472Z",
     "start_time": "2019-09-30T13:53:07.895434Z"
    },
    "colab": {},
    "colab_type": "code",
    "id": "a9_qDMQcAnqI"
   },
   "outputs": [],
   "source": [
    "import pickle\n",
    "pickle.dump(result_dict,open(f'{data_path}/results_dict_lightgbm-work-1.pkl','wb'))"
   ]
  },
  {
   "cell_type": "code",
   "execution_count": 28,
   "metadata": {
    "ExecuteTime": {
     "end_time": "2019-09-30T13:54:00.455356Z",
     "start_time": "2019-09-30T13:53:47.174927Z"
    },
    "colab": {},
    "colab_type": "code",
    "id": "rpL8UKsMAnqM"
   },
   "outputs": [
    {
     "ename": "FileNotFoundError",
     "evalue": "[Errno 2] File b'E:/Kaggle/05-LabelEncoded-last/sample_submission.csv' does not exist: b'E:/Kaggle/05-LabelEncoded-last/sample_submission.csv'",
     "output_type": "error",
     "traceback": [
      "\u001b[1;31m---------------------------------------------------------------------------\u001b[0m",
      "\u001b[1;31mFileNotFoundError\u001b[0m                         Traceback (most recent call last)",
      "\u001b[1;32m<ipython-input-28-b4cf726f697d>\u001b[0m in \u001b[0;36m<module>\u001b[1;34m\u001b[0m\n\u001b[0;32m      3\u001b[0m \u001b[0mpd\u001b[0m\u001b[1;33m.\u001b[0m\u001b[0mDataFrame\u001b[0m\u001b[1;33m(\u001b[0m\u001b[0mresult_dict\u001b[0m\u001b[1;33m[\u001b[0m\u001b[1;34m'prediction'\u001b[0m\u001b[1;33m]\u001b[0m\u001b[1;33m,\u001b[0m \u001b[0mcolumns\u001b[0m\u001b[1;33m=\u001b[0m\u001b[1;33m[\u001b[0m\u001b[1;34m'isFraud'\u001b[0m\u001b[1;33m]\u001b[0m\u001b[1;33m,\u001b[0m \u001b[0mindex\u001b[0m\u001b[1;33m=\u001b[0m\u001b[0mtest\u001b[0m\u001b[1;33m.\u001b[0m\u001b[0mindex\u001b[0m\u001b[1;33m)\u001b[0m\u001b[1;33m.\u001b[0m\u001b[0mto_csv\u001b[0m\u001b[1;33m(\u001b[0m\u001b[1;34mf'{data_path}/prediction_lightgbm-work-1.csv'\u001b[0m\u001b[1;33m)\u001b[0m\u001b[1;33m\u001b[0m\u001b[0m\n\u001b[0;32m      4\u001b[0m \u001b[1;33m\u001b[0m\u001b[0m\n\u001b[1;32m----> 5\u001b[1;33m \u001b[0msample_submission\u001b[0m \u001b[1;33m=\u001b[0m \u001b[0mpd\u001b[0m\u001b[1;33m.\u001b[0m\u001b[0mread_csv\u001b[0m\u001b[1;33m(\u001b[0m\u001b[0mdata_path\u001b[0m \u001b[1;33m+\u001b[0m \u001b[1;34m'/sample_submission.csv'\u001b[0m\u001b[1;33m)\u001b[0m\u001b[1;33m.\u001b[0m\u001b[0mset_index\u001b[0m\u001b[1;33m(\u001b[0m\u001b[1;34m'TransactionID'\u001b[0m\u001b[1;33m)\u001b[0m\u001b[1;33m\u001b[0m\u001b[0m\n\u001b[0m\u001b[0;32m      6\u001b[0m \u001b[1;33m\u001b[0m\u001b[0m\n\u001b[0;32m      7\u001b[0m \u001b[0msub1\u001b[0m \u001b[1;33m=\u001b[0m \u001b[0mpd\u001b[0m\u001b[1;33m.\u001b[0m\u001b[0mDataFrame\u001b[0m\u001b[1;33m(\u001b[0m\u001b[0mresult_dict\u001b[0m\u001b[1;33m[\u001b[0m\u001b[1;34m'prediction'\u001b[0m\u001b[1;33m]\u001b[0m\u001b[1;33m,\u001b[0m \u001b[0mcolumns\u001b[0m\u001b[1;33m=\u001b[0m\u001b[1;33m[\u001b[0m\u001b[1;34m'isFraud'\u001b[0m\u001b[1;33m]\u001b[0m\u001b[1;33m,\u001b[0m \u001b[0mindex\u001b[0m\u001b[1;33m=\u001b[0m\u001b[0mtest\u001b[0m\u001b[1;33m.\u001b[0m\u001b[0mindex\u001b[0m\u001b[1;33m)\u001b[0m\u001b[1;33m\u001b[0m\u001b[0m\n",
      "\u001b[1;32mc:\\python36\\lib\\site-packages\\pandas\\io\\parsers.py\u001b[0m in \u001b[0;36mparser_f\u001b[1;34m(filepath_or_buffer, sep, delimiter, header, names, index_col, usecols, squeeze, prefix, mangle_dupe_cols, dtype, engine, converters, true_values, false_values, skipinitialspace, skiprows, skipfooter, nrows, na_values, keep_default_na, na_filter, verbose, skip_blank_lines, parse_dates, infer_datetime_format, keep_date_col, date_parser, dayfirst, iterator, chunksize, compression, thousands, decimal, lineterminator, quotechar, quoting, doublequote, escapechar, comment, encoding, dialect, tupleize_cols, error_bad_lines, warn_bad_lines, delim_whitespace, low_memory, memory_map, float_precision)\u001b[0m\n\u001b[0;32m    700\u001b[0m                     skip_blank_lines=skip_blank_lines)\n\u001b[0;32m    701\u001b[0m \u001b[1;33m\u001b[0m\u001b[0m\n\u001b[1;32m--> 702\u001b[1;33m         \u001b[1;32mreturn\u001b[0m \u001b[0m_read\u001b[0m\u001b[1;33m(\u001b[0m\u001b[0mfilepath_or_buffer\u001b[0m\u001b[1;33m,\u001b[0m \u001b[0mkwds\u001b[0m\u001b[1;33m)\u001b[0m\u001b[1;33m\u001b[0m\u001b[0m\n\u001b[0m\u001b[0;32m    703\u001b[0m \u001b[1;33m\u001b[0m\u001b[0m\n\u001b[0;32m    704\u001b[0m     \u001b[0mparser_f\u001b[0m\u001b[1;33m.\u001b[0m\u001b[0m__name__\u001b[0m \u001b[1;33m=\u001b[0m \u001b[0mname\u001b[0m\u001b[1;33m\u001b[0m\u001b[0m\n",
      "\u001b[1;32mc:\\python36\\lib\\site-packages\\pandas\\io\\parsers.py\u001b[0m in \u001b[0;36m_read\u001b[1;34m(filepath_or_buffer, kwds)\u001b[0m\n\u001b[0;32m    427\u001b[0m \u001b[1;33m\u001b[0m\u001b[0m\n\u001b[0;32m    428\u001b[0m     \u001b[1;31m# Create the parser.\u001b[0m\u001b[1;33m\u001b[0m\u001b[1;33m\u001b[0m\u001b[0m\n\u001b[1;32m--> 429\u001b[1;33m     \u001b[0mparser\u001b[0m \u001b[1;33m=\u001b[0m \u001b[0mTextFileReader\u001b[0m\u001b[1;33m(\u001b[0m\u001b[0mfilepath_or_buffer\u001b[0m\u001b[1;33m,\u001b[0m \u001b[1;33m**\u001b[0m\u001b[0mkwds\u001b[0m\u001b[1;33m)\u001b[0m\u001b[1;33m\u001b[0m\u001b[0m\n\u001b[0m\u001b[0;32m    430\u001b[0m \u001b[1;33m\u001b[0m\u001b[0m\n\u001b[0;32m    431\u001b[0m     \u001b[1;32mif\u001b[0m \u001b[0mchunksize\u001b[0m \u001b[1;32mor\u001b[0m \u001b[0miterator\u001b[0m\u001b[1;33m:\u001b[0m\u001b[1;33m\u001b[0m\u001b[0m\n",
      "\u001b[1;32mc:\\python36\\lib\\site-packages\\pandas\\io\\parsers.py\u001b[0m in \u001b[0;36m__init__\u001b[1;34m(self, f, engine, **kwds)\u001b[0m\n\u001b[0;32m    893\u001b[0m             \u001b[0mself\u001b[0m\u001b[1;33m.\u001b[0m\u001b[0moptions\u001b[0m\u001b[1;33m[\u001b[0m\u001b[1;34m'has_index_names'\u001b[0m\u001b[1;33m]\u001b[0m \u001b[1;33m=\u001b[0m \u001b[0mkwds\u001b[0m\u001b[1;33m[\u001b[0m\u001b[1;34m'has_index_names'\u001b[0m\u001b[1;33m]\u001b[0m\u001b[1;33m\u001b[0m\u001b[0m\n\u001b[0;32m    894\u001b[0m \u001b[1;33m\u001b[0m\u001b[0m\n\u001b[1;32m--> 895\u001b[1;33m         \u001b[0mself\u001b[0m\u001b[1;33m.\u001b[0m\u001b[0m_make_engine\u001b[0m\u001b[1;33m(\u001b[0m\u001b[0mself\u001b[0m\u001b[1;33m.\u001b[0m\u001b[0mengine\u001b[0m\u001b[1;33m)\u001b[0m\u001b[1;33m\u001b[0m\u001b[0m\n\u001b[0m\u001b[0;32m    896\u001b[0m \u001b[1;33m\u001b[0m\u001b[0m\n\u001b[0;32m    897\u001b[0m     \u001b[1;32mdef\u001b[0m \u001b[0mclose\u001b[0m\u001b[1;33m(\u001b[0m\u001b[0mself\u001b[0m\u001b[1;33m)\u001b[0m\u001b[1;33m:\u001b[0m\u001b[1;33m\u001b[0m\u001b[0m\n",
      "\u001b[1;32mc:\\python36\\lib\\site-packages\\pandas\\io\\parsers.py\u001b[0m in \u001b[0;36m_make_engine\u001b[1;34m(self, engine)\u001b[0m\n\u001b[0;32m   1120\u001b[0m     \u001b[1;32mdef\u001b[0m \u001b[0m_make_engine\u001b[0m\u001b[1;33m(\u001b[0m\u001b[0mself\u001b[0m\u001b[1;33m,\u001b[0m \u001b[0mengine\u001b[0m\u001b[1;33m=\u001b[0m\u001b[1;34m'c'\u001b[0m\u001b[1;33m)\u001b[0m\u001b[1;33m:\u001b[0m\u001b[1;33m\u001b[0m\u001b[0m\n\u001b[0;32m   1121\u001b[0m         \u001b[1;32mif\u001b[0m \u001b[0mengine\u001b[0m \u001b[1;33m==\u001b[0m \u001b[1;34m'c'\u001b[0m\u001b[1;33m:\u001b[0m\u001b[1;33m\u001b[0m\u001b[0m\n\u001b[1;32m-> 1122\u001b[1;33m             \u001b[0mself\u001b[0m\u001b[1;33m.\u001b[0m\u001b[0m_engine\u001b[0m \u001b[1;33m=\u001b[0m \u001b[0mCParserWrapper\u001b[0m\u001b[1;33m(\u001b[0m\u001b[0mself\u001b[0m\u001b[1;33m.\u001b[0m\u001b[0mf\u001b[0m\u001b[1;33m,\u001b[0m \u001b[1;33m**\u001b[0m\u001b[0mself\u001b[0m\u001b[1;33m.\u001b[0m\u001b[0moptions\u001b[0m\u001b[1;33m)\u001b[0m\u001b[1;33m\u001b[0m\u001b[0m\n\u001b[0m\u001b[0;32m   1123\u001b[0m         \u001b[1;32melse\u001b[0m\u001b[1;33m:\u001b[0m\u001b[1;33m\u001b[0m\u001b[0m\n\u001b[0;32m   1124\u001b[0m             \u001b[1;32mif\u001b[0m \u001b[0mengine\u001b[0m \u001b[1;33m==\u001b[0m \u001b[1;34m'python'\u001b[0m\u001b[1;33m:\u001b[0m\u001b[1;33m\u001b[0m\u001b[0m\n",
      "\u001b[1;32mc:\\python36\\lib\\site-packages\\pandas\\io\\parsers.py\u001b[0m in \u001b[0;36m__init__\u001b[1;34m(self, src, **kwds)\u001b[0m\n\u001b[0;32m   1851\u001b[0m         \u001b[0mkwds\u001b[0m\u001b[1;33m[\u001b[0m\u001b[1;34m'usecols'\u001b[0m\u001b[1;33m]\u001b[0m \u001b[1;33m=\u001b[0m \u001b[0mself\u001b[0m\u001b[1;33m.\u001b[0m\u001b[0musecols\u001b[0m\u001b[1;33m\u001b[0m\u001b[0m\n\u001b[0;32m   1852\u001b[0m \u001b[1;33m\u001b[0m\u001b[0m\n\u001b[1;32m-> 1853\u001b[1;33m         \u001b[0mself\u001b[0m\u001b[1;33m.\u001b[0m\u001b[0m_reader\u001b[0m \u001b[1;33m=\u001b[0m \u001b[0mparsers\u001b[0m\u001b[1;33m.\u001b[0m\u001b[0mTextReader\u001b[0m\u001b[1;33m(\u001b[0m\u001b[0msrc\u001b[0m\u001b[1;33m,\u001b[0m \u001b[1;33m**\u001b[0m\u001b[0mkwds\u001b[0m\u001b[1;33m)\u001b[0m\u001b[1;33m\u001b[0m\u001b[0m\n\u001b[0m\u001b[0;32m   1854\u001b[0m         \u001b[0mself\u001b[0m\u001b[1;33m.\u001b[0m\u001b[0munnamed_cols\u001b[0m \u001b[1;33m=\u001b[0m \u001b[0mself\u001b[0m\u001b[1;33m.\u001b[0m\u001b[0m_reader\u001b[0m\u001b[1;33m.\u001b[0m\u001b[0munnamed_cols\u001b[0m\u001b[1;33m\u001b[0m\u001b[0m\n\u001b[0;32m   1855\u001b[0m \u001b[1;33m\u001b[0m\u001b[0m\n",
      "\u001b[1;32mpandas\\_libs\\parsers.pyx\u001b[0m in \u001b[0;36mpandas._libs.parsers.TextReader.__cinit__\u001b[1;34m()\u001b[0m\n",
      "\u001b[1;32mpandas\\_libs\\parsers.pyx\u001b[0m in \u001b[0;36mpandas._libs.parsers.TextReader._setup_parser_source\u001b[1;34m()\u001b[0m\n",
      "\u001b[1;31mFileNotFoundError\u001b[0m: [Errno 2] File b'E:/Kaggle/05-LabelEncoded-last/sample_submission.csv' does not exist: b'E:/Kaggle/05-LabelEncoded-last/sample_submission.csv'"
     ]
    }
   ],
   "source": [
    "pd.DataFrame(result_dict['oof'], columns=['isFraud'], index=X.index).to_csv(f'{data_path}/oof_lightgbm-work-1.csv')\n",
    "\n",
    "pd.DataFrame(result_dict['prediction'], columns=['isFraud'], index=test.index).to_csv(f'{data_path}/prediction_lightgbm-work-1.csv')\n",
    "\n",
    "sample_submission = pd.read_csv(data_path + '/sample_submission.csv').set_index('TransactionID')\n",
    "\n",
    "sub1 = pd.DataFrame(result_dict['prediction'], columns=['isFraud'], index=test.index)\n",
    "\n",
    "sample_submission['isFraud'] = sub1#*0.5 + sub2*0.25 + sub3*0.25\n",
    "\n",
    "sample_submission.to_csv(f'{data_path}/lightgbm-work-1_sub.csv')"
   ]
  }
 ],
 "metadata": {
  "accelerator": "GPU",
  "colab": {
   "collapsed_sections": [],
   "machine_shape": "hm",
   "name": "Catboost.ipynb",
   "provenance": [],
   "toc_visible": true
  },
  "kernelspec": {
   "display_name": "Python 3",
   "language": "python",
   "name": "python3"
  },
  "language_info": {
   "codemirror_mode": {
    "name": "ipython",
    "version": 3
   },
   "file_extension": ".py",
   "mimetype": "text/x-python",
   "name": "python",
   "nbconvert_exporter": "python",
   "pygments_lexer": "ipython3",
   "version": "3.6.1"
  },
  "toc": {
   "base_numbering": 1,
   "nav_menu": {},
   "number_sections": true,
   "sideBar": true,
   "skip_h1_title": false,
   "title_cell": "Table of Contents",
   "title_sidebar": "Contents",
   "toc_cell": false,
   "toc_position": {},
   "toc_section_display": true,
   "toc_window_display": false
  },
  "varInspector": {
   "cols": {
    "lenName": 16,
    "lenType": 16,
    "lenVar": 40
   },
   "kernels_config": {
    "python": {
     "delete_cmd_postfix": "",
     "delete_cmd_prefix": "del ",
     "library": "var_list.py",
     "varRefreshCmd": "print(var_dic_list())"
    },
    "r": {
     "delete_cmd_postfix": ") ",
     "delete_cmd_prefix": "rm(",
     "library": "var_list.r",
     "varRefreshCmd": "cat(var_dic_list()) "
    }
   },
   "position": {
    "height": "760px",
    "left": "1530px",
    "right": "20px",
    "top": "120px",
    "width": "336px"
   },
   "types_to_exclude": [
    "module",
    "function",
    "builtin_function_or_method",
    "instance",
    "_Feature"
   ],
   "window_display": false
  }
 },
 "nbformat": 4,
 "nbformat_minor": 1
}
