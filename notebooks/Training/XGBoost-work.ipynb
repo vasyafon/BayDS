{
 "cells": [
  {
   "cell_type": "code",
   "execution_count": 2,
   "metadata": {
    "ExecuteTime": {
     "end_time": "2019-09-30T08:07:34.695144Z",
     "start_time": "2019-09-30T08:07:34.494155Z"
    },
    "colab": {
     "base_uri": "https://localhost:8080/",
     "height": 51
    },
    "colab_type": "code",
    "id": "9PhWyn4iAnpS",
    "outputId": "2287afe3-b5b6-4a1c-df92-f15cc91ea443"
   },
   "outputs": [
    {
     "name": "stdout",
     "output_type": "stream",
     "text": [
      "The autoreload extension is already loaded. To reload it, use:\n",
      "  %reload_ext autoreload\n"
     ]
    }
   ],
   "source": [
    "%load_ext autoreload\n",
    "%autoreload 2\n",
    "main_dir = r'f:\\Projects\\Prvate\\Baydin'\n",
    "\n",
    "data_path = r'E:/Kaggle/06-LabelEncodingSuperLast'\n",
    "import sys\n",
    "sys.path.append(main_dir)\n",
    "from typing import List, Set, Dict, Optional, Any, Tuple, Type, Union\n",
    "\n",
    "from BayDS.lib.pipeline import *\n",
    "from BayDS.lib.io import *\n",
    "\n",
    "import os\n"
   ]
  },
  {
   "cell_type": "markdown",
   "metadata": {
    "ExecuteTime": {
     "end_time": "2019-09-22T12:47:29.055553Z",
     "start_time": "2019-09-22T12:47:28.933527Z"
    },
    "colab_type": "text",
    "id": "xki7YKbUAnpc"
   },
   "source": [
    "## Code to make pipeline node"
   ]
  },
  {
   "cell_type": "code",
   "execution_count": 3,
   "metadata": {
    "ExecuteTime": {
     "end_time": "2019-09-30T08:07:52.972342Z",
     "start_time": "2019-09-30T08:07:36.143529Z"
    }
   },
   "outputs": [],
   "source": [
    "data = pd.read_pickle(f'{data_path}/data.pkl')"
   ]
  },
  {
   "cell_type": "code",
   "execution_count": 4,
   "metadata": {
    "ExecuteTime": {
     "end_time": "2019-09-30T08:09:15.572406Z",
     "start_time": "2019-09-30T08:08:50.546743Z"
    },
    "colab": {},
    "colab_type": "code",
    "id": "ruS3uWcIAnpj"
   },
   "outputs": [],
   "source": [
    "X = data[data.isFraud>=0].drop('isFraud',axis=1)\n",
    "test = data[data.isFraud<0].drop('isFraud',axis=1)\n",
    "y= data[data.isFraud>=0].isFraud"
   ]
  },
  {
   "cell_type": "code",
   "execution_count": 13,
   "metadata": {
    "ExecuteTime": {
     "end_time": "2019-09-30T08:09:20.265645Z",
     "start_time": "2019-09-30T08:09:19.967636Z"
    },
    "colab": {},
    "colab_type": "code",
    "id": "r9O_jvo7Anpr"
   },
   "outputs": [],
   "source": [
    "import yaml\n",
    "categorical_features = yaml.load(open(f'{data_path}/categorical_columns.yaml','r'))\n",
    "numerical_features = yaml.load(open(f'{data_path}/numerical_columns.yaml','r'))\n",
    "bad_features = yaml.load(open(f'{data_path}/bad_for_training_features.yaml','r'))\n",
    "\n",
    "categorical_features = [f for f in categorical_features if f not in bad_features]\n",
    "all_features =  [f for f in X.columns if f not in bad_features]"
   ]
  },
  {
   "cell_type": "code",
   "execution_count": 28,
   "metadata": {
    "ExecuteTime": {
     "end_time": "2019-09-30T14:20:43.144968Z",
     "start_time": "2019-09-30T14:20:42.781951Z"
    },
    "colab": {},
    "colab_type": "code",
    "id": "EVqmMr4nAnpx"
   },
   "outputs": [],
   "source": [
    "from BayDS.lib.training import *"
   ]
  },
  {
   "cell_type": "code",
   "execution_count": 7,
   "metadata": {
    "ExecuteTime": {
     "end_time": "2019-09-30T08:11:49.220466Z",
     "start_time": "2019-09-30T08:11:43.479066Z"
    }
   },
   "outputs": [
    {
     "name": "stdout",
     "output_type": "stream",
     "text": [
      "card_id 19226\n",
      "new_card_id 144827\n",
      "OSVersion 88\n",
      "device_version 380\n",
      "BrowserVersion 54\n",
      "id_13 56\n",
      "id_17 128\n",
      "id_19 569\n",
      "id_20 548\n",
      "id_30 88\n",
      "id_31 173\n",
      "id_33 462\n",
      "DeviceInfo 2800\n",
      "P_emaildomain 61\n",
      "R_emaildomain 61\n",
      "card1 9118\n",
      "card2 497\n",
      "card3 97\n",
      "card5 84\n",
      "addr1 442\n",
      "device_version 380\n",
      "id_02__id_20 270750\n",
      "id_02__D8 258079\n",
      "D11__DeviceInfo 3680\n",
      "DeviceInfo__P_emaildomain 8978\n",
      "P_emaildomain__C2 6793\n",
      "card2__dist1 31408\n",
      "card1__card5 18808\n",
      "card2__id_20 9240\n",
      "card5__P_emaildomain 1574\n",
      "addr1__card1 55370\n",
      "uid 11014\n",
      "uid2 11442\n",
      "uid3 52025\n",
      "uid4 129426\n",
      "uid5 91344\n",
      "bank_type 726\n",
      "product_type 30362\n"
     ]
    }
   ],
   "source": [
    "drop_big_categorical_features = []\n",
    "for col in categorical_features:\n",
    "    if len(data[col].value_counts()) > 50:\n",
    "        drop_big_categorical_features.append(col)\n",
    "        print(col, len(data[col].value_counts()))"
   ]
  },
  {
   "cell_type": "code",
   "execution_count": 8,
   "metadata": {
    "ExecuteTime": {
     "end_time": "2019-09-30T08:12:01.190950Z",
     "start_time": "2019-09-30T08:12:00.835941Z"
    },
    "colab": {},
    "colab_type": "code",
    "id": "J4nkE68IkCMr"
   },
   "outputs": [],
   "source": [
    "# X.drop(features_to_drop,axis=1,inplace=True)\n",
    "# test.drop(features_to_drop,axis=1,inplace=True)\n",
    "# use_for_train_features =  [f for f in all_features if f not in drop_big_categorical_features]"
   ]
  },
  {
   "cell_type": "code",
   "execution_count": 9,
   "metadata": {
    "ExecuteTime": {
     "end_time": "2019-09-30T08:12:13.184846Z",
     "start_time": "2019-09-30T08:12:12.818864Z"
    },
    "colab": {},
    "colab_type": "code",
    "id": "CzZ4o683lrLA"
   },
   "outputs": [],
   "source": [
    "# categorical_features =  [f for f in categorical_features if f not in drop_big_categorical_features]"
   ]
  },
  {
   "cell_type": "code",
   "execution_count": 14,
   "metadata": {},
   "outputs": [],
   "source": [
    "for f in categorical_features:\n",
    "    if f not in X.columns:\n",
    "        print(f\"Lost {f}\")\n",
    "#         categorical_features.remove(f)\n",
    "categorical_features = [f for f in categorical_features if f in X.columns]"
   ]
  },
  {
   "cell_type": "code",
   "execution_count": 15,
   "metadata": {},
   "outputs": [],
   "source": [
    "for f in numerical_features:\n",
    "    if f not in X.columns:\n",
    "        print(f\"Lost {f}\")\n",
    "#         numerical_features.remove(f)\n",
    "numerical_features = [f for f in numerical_features if f in X.columns]"
   ]
  },
  {
   "cell_type": "code",
   "execution_count": 16,
   "metadata": {
    "ExecuteTime": {
     "end_time": "2019-09-30T08:16:57.128775Z",
     "start_time": "2019-09-30T08:16:37.885593Z"
    }
   },
   "outputs": [],
   "source": [
    "for col in X.columns:\n",
    "    if str(X[col].dtype) == 'datetime64[ns]':\n",
    "        print (col, X[col].dtype)\n",
    "        X[col] = pd.to_timedelta(X[col]).map(lambda qq:qq.days)\n",
    "        test[col] = pd.to_timedelta(test[col]).map(lambda qq:qq.days)\n",
    "#         X[col] = X[col].astype(datetime.datetime)"
   ]
  },
  {
   "cell_type": "code",
   "execution_count": 17,
   "metadata": {
    "ExecuteTime": {
     "end_time": "2019-09-30T08:09:18.759112Z",
     "start_time": "2019-09-30T08:09:18.331614Z"
    },
    "colab": {},
    "colab_type": "code",
    "id": "VhChFEFRAnpn"
   },
   "outputs": [],
   "source": [
    "from sklearn.model_selection import GroupKFold\n",
    "\n",
    "NFOLDS = 6\n",
    "folds = GroupKFold(n_splits=NFOLDS)\n"
   ]
  },
  {
   "cell_type": "code",
   "execution_count": 26,
   "metadata": {
    "ExecuteTime": {
     "end_time": "2019-09-30T14:27:13.480626Z",
     "start_time": "2019-09-30T14:27:13.109589Z"
    },
    "colab": {},
    "colab_type": "code",
    "id": "a6YRNmj7AnqA"
   },
   "outputs": [],
   "source": [
    "params = {\n",
    "            'n_job': -1,\n",
    "            'max_depth': 8,\n",
    "            'learning_rate': 0.01,\n",
    "            'colsample_bytree': 0.5,\n",
    "            'random_state': 12,\n",
    "            'tree_method': 'gpu_hist',\n",
    "            'objective': 'binary:logistic',\n",
    "            \"eval_metric\":'auc'\n",
    "         }\n",
    "train_options = {\n",
    "        \"model_type\":'xgb',\n",
    "        \"params\": params,\n",
    "        'early_stopping_rounds': 500,\n",
    "        'n_estimators': 10000,\n",
    "        'averaging': 'usual',\n",
    "        'use_groups': False,\n",
    "        'fold_name': folds.__class__.__name__,\n",
    "        'n_splits': NFOLDS\n",
    "    }"
   ]
  },
  {
   "cell_type": "code",
   "execution_count": 30,
   "metadata": {
    "ExecuteTime": {
     "end_time": "2019-09-30T14:45:20.855611Z",
     "start_time": "2019-09-30T14:27:14.470627Z"
    },
    "colab": {
     "base_uri": "https://localhost:8080/",
     "height": 85
    },
    "colab_type": "code",
    "id": "vGP82_BAAnqE",
    "outputId": "c55ff1a3-9f50-4ea0-bb7c-56ef78bb306e"
   },
   "outputs": [
    {
     "name": "stdout",
     "output_type": "stream",
     "text": [
      "Fold 1 started at Tue Oct  1 10:34:45 2019\n",
      "[0]\ttrain-auc:0.838432\tvalid_data-auc:0.754978\n",
      "Multiple eval metrics have been passed: 'valid_data-auc' will be used for early stopping.\n",
      "\n",
      "Will train until valid_data-auc hasn't improved in 500 rounds.\n",
      "[500]\ttrain-auc:0.95798\tvalid_data-auc:0.884813\n",
      "[1000]\ttrain-auc:0.978554\tvalid_data-auc:0.904021\n",
      "[1500]\ttrain-auc:0.986519\tvalid_data-auc:0.909922\n",
      "[2000]\ttrain-auc:0.991291\tvalid_data-auc:0.912341\n",
      "[2500]\ttrain-auc:0.994277\tvalid_data-auc:0.913392\n",
      "[3000]\ttrain-auc:0.996292\tvalid_data-auc:0.913617\n",
      "[3500]\ttrain-auc:0.997758\tvalid_data-auc:0.913689\n",
      "Stopping. Best iteration:\n",
      "[3369]\ttrain-auc:0.997419\tvalid_data-auc:0.913753\n",
      "\n",
      "Fold 2 started at Tue Oct  1 10:44:49 2019\n",
      "[0]\ttrain-auc:0.817347\tvalid_data-auc:0.810479\n",
      "Multiple eval metrics have been passed: 'valid_data-auc' will be used for early stopping.\n",
      "\n",
      "Will train until valid_data-auc hasn't improved in 500 rounds.\n",
      "[500]\ttrain-auc:0.956033\tvalid_data-auc:0.915546\n",
      "[1000]\ttrain-auc:0.977667\tvalid_data-auc:0.928921\n",
      "[1500]\ttrain-auc:0.985849\tvalid_data-auc:0.93396\n",
      "[2000]\ttrain-auc:0.99092\tvalid_data-auc:0.936575\n",
      "[2500]\ttrain-auc:0.994033\tvalid_data-auc:0.937662\n",
      "[3000]\ttrain-auc:0.996083\tvalid_data-auc:0.937807\n",
      "[3500]\ttrain-auc:0.997542\tvalid_data-auc:0.938058\n",
      "Stopping. Best iteration:\n",
      "[3480]\ttrain-auc:0.997509\tvalid_data-auc:0.938106\n",
      "\n",
      "Fold 3 started at Tue Oct  1 10:55:13 2019\n",
      "[0]\ttrain-auc:0.812885\tvalid_data-auc:0.807723\n",
      "Multiple eval metrics have been passed: 'valid_data-auc' will be used for early stopping.\n",
      "\n",
      "Will train until valid_data-auc hasn't improved in 500 rounds.\n",
      "[500]\ttrain-auc:0.955168\tvalid_data-auc:0.917816\n",
      "[1000]\ttrain-auc:0.976325\tvalid_data-auc:0.932115\n",
      "[1500]\ttrain-auc:0.983851\tvalid_data-auc:0.936509\n",
      "[2000]\ttrain-auc:0.989181\tvalid_data-auc:0.93925\n",
      "[2500]\ttrain-auc:0.992996\tvalid_data-auc:0.940774\n",
      "[3000]\ttrain-auc:0.995484\tvalid_data-auc:0.941771\n",
      "[3500]\ttrain-auc:0.997065\tvalid_data-auc:0.942026\n",
      "[4000]\ttrain-auc:0.99815\tvalid_data-auc:0.942333\n",
      "Stopping. Best iteration:\n",
      "[3815]\ttrain-auc:0.997828\tvalid_data-auc:0.942474\n",
      "\n",
      "Fold 4 started at Tue Oct  1 11:06:39 2019\n",
      "[0]\ttrain-auc:0.804904\tvalid_data-auc:0.797468\n",
      "Multiple eval metrics have been passed: 'valid_data-auc' will be used for early stopping.\n",
      "\n",
      "Will train until valid_data-auc hasn't improved in 500 rounds.\n",
      "[500]\ttrain-auc:0.955254\tvalid_data-auc:0.910482\n",
      "[1000]\ttrain-auc:0.977776\tvalid_data-auc:0.925425\n",
      "[1500]\ttrain-auc:0.98542\tvalid_data-auc:0.929398\n",
      "[2000]\ttrain-auc:0.990439\tvalid_data-auc:0.931617\n",
      "[2500]\ttrain-auc:0.993982\tvalid_data-auc:0.933121\n",
      "[3000]\ttrain-auc:0.996061\tvalid_data-auc:0.933343\n",
      "[3500]\ttrain-auc:0.997475\tvalid_data-auc:0.933834\n",
      "[4000]\ttrain-auc:0.998376\tvalid_data-auc:0.933759\n",
      "Stopping. Best iteration:\n",
      "[3578]\ttrain-auc:0.997633\tvalid_data-auc:0.934031\n",
      "\n",
      "Fold 5 started at Tue Oct  1 11:17:36 2019\n",
      "[0]\ttrain-auc:0.811652\tvalid_data-auc:0.818925\n",
      "Multiple eval metrics have been passed: 'valid_data-auc' will be used for early stopping.\n",
      "\n",
      "Will train until valid_data-auc hasn't improved in 500 rounds.\n",
      "[500]\ttrain-auc:0.953839\tvalid_data-auc:0.932899\n",
      "[1000]\ttrain-auc:0.976042\tvalid_data-auc:0.941556\n",
      "[1500]\ttrain-auc:0.98393\tvalid_data-auc:0.944527\n",
      "[2000]\ttrain-auc:0.989478\tvalid_data-auc:0.946386\n",
      "[2500]\ttrain-auc:0.992814\tvalid_data-auc:0.947146\n",
      "[3000]\ttrain-auc:0.995363\tvalid_data-auc:0.947533\n",
      "[3500]\ttrain-auc:0.996952\tvalid_data-auc:0.947402\n",
      "Stopping. Best iteration:\n",
      "[3285]\ttrain-auc:0.996376\tvalid_data-auc:0.947597\n",
      "\n",
      "Fold 6 started at Tue Oct  1 11:27:57 2019\n",
      "[0]\ttrain-auc:0.808093\tvalid_data-auc:0.79107\n",
      "Multiple eval metrics have been passed: 'valid_data-auc' will be used for early stopping.\n",
      "\n",
      "Will train until valid_data-auc hasn't improved in 500 rounds.\n",
      "[500]\ttrain-auc:0.955322\tvalid_data-auc:0.919152\n",
      "[1000]\ttrain-auc:0.976426\tvalid_data-auc:0.936069\n",
      "[1500]\ttrain-auc:0.984054\tvalid_data-auc:0.942453\n",
      "[2000]\ttrain-auc:0.989529\tvalid_data-auc:0.946509\n",
      "[2500]\ttrain-auc:0.993148\tvalid_data-auc:0.948998\n",
      "[3000]\ttrain-auc:0.995456\tvalid_data-auc:0.950514\n",
      "[3500]\ttrain-auc:0.997062\tvalid_data-auc:0.951471\n",
      "[4000]\ttrain-auc:0.998198\tvalid_data-auc:0.951772\n",
      "[4500]\ttrain-auc:0.99887\tvalid_data-auc:0.95207\n",
      "[5000]\ttrain-auc:0.999293\tvalid_data-auc:0.952317\n",
      "[5500]\ttrain-auc:0.9996\tvalid_data-auc:0.952461\n",
      "[6000]\ttrain-auc:0.999759\tvalid_data-auc:0.952541\n",
      "[6500]\ttrain-auc:0.999856\tvalid_data-auc:0.952446\n",
      "Stopping. Best iteration:\n",
      "[6125]\ttrain-auc:0.999787\tvalid_data-auc:0.952591\n",
      "\n",
      "CV mean score: 0.9381, std: 0.0124.\n"
     ]
    }
   ],
   "source": [
    "result_dict = train_model_classification_vb( \n",
    "#                                              splits=1,\n",
    "                                             X=X, X_test=test, columns=use_for_train_features,\n",
    "                                             y=y, params=params, folds=folds,\n",
    "                                             model_type=train_options['model_type'], \n",
    "                                             categorial_columns = categorical_features,\n",
    "                                             plot_feature_importance=True,\n",
    "                                             verbose=500, early_stopping_rounds=train_options['early_stopping_rounds'],\n",
    "                                             n_estimators=train_options['n_estimators'], \n",
    "                                             averaging=train_options['averaging'],\n",
    "#                                              train_0_sample_coef=0.2, train_1_sample_coef=2.0,\n",
    "                                             n_jobs=-1, groups=X['DT_M'])\n"
   ]
  },
  {
   "cell_type": "code",
   "execution_count": 26,
   "metadata": {
    "ExecuteTime": {
     "end_time": "2019-09-30T13:53:08.356472Z",
     "start_time": "2019-09-30T13:53:07.895434Z"
    },
    "colab": {},
    "colab_type": "code",
    "id": "a9_qDMQcAnqI"
   },
   "outputs": [],
   "source": [
    "import pickle\n",
    "pickle.dump(result_dict,open(f'{data_path}/results_dict_xgb-work-1.pkl','wb'))"
   ]
  },
  {
   "cell_type": "code",
   "execution_count": 28,
   "metadata": {
    "ExecuteTime": {
     "end_time": "2019-09-30T13:54:00.455356Z",
     "start_time": "2019-09-30T13:53:47.174927Z"
    },
    "colab": {},
    "colab_type": "code",
    "id": "rpL8UKsMAnqM"
   },
   "outputs": [
    {
     "ename": "FileNotFoundError",
     "evalue": "[Errno 2] File b'E:/Kaggle/05-LabelEncoded-last/sample_submission.csv' does not exist: b'E:/Kaggle/05-LabelEncoded-last/sample_submission.csv'",
     "output_type": "error",
     "traceback": [
      "\u001b[1;31m---------------------------------------------------------------------------\u001b[0m",
      "\u001b[1;31mFileNotFoundError\u001b[0m                         Traceback (most recent call last)",
      "\u001b[1;32m<ipython-input-28-b4cf726f697d>\u001b[0m in \u001b[0;36m<module>\u001b[1;34m\u001b[0m\n\u001b[0;32m      3\u001b[0m \u001b[0mpd\u001b[0m\u001b[1;33m.\u001b[0m\u001b[0mDataFrame\u001b[0m\u001b[1;33m(\u001b[0m\u001b[0mresult_dict\u001b[0m\u001b[1;33m[\u001b[0m\u001b[1;34m'prediction'\u001b[0m\u001b[1;33m]\u001b[0m\u001b[1;33m,\u001b[0m \u001b[0mcolumns\u001b[0m\u001b[1;33m=\u001b[0m\u001b[1;33m[\u001b[0m\u001b[1;34m'isFraud'\u001b[0m\u001b[1;33m]\u001b[0m\u001b[1;33m,\u001b[0m \u001b[0mindex\u001b[0m\u001b[1;33m=\u001b[0m\u001b[0mtest\u001b[0m\u001b[1;33m.\u001b[0m\u001b[0mindex\u001b[0m\u001b[1;33m)\u001b[0m\u001b[1;33m.\u001b[0m\u001b[0mto_csv\u001b[0m\u001b[1;33m(\u001b[0m\u001b[1;34mf'{data_path}/prediction_lightgbm-work-1.csv'\u001b[0m\u001b[1;33m)\u001b[0m\u001b[1;33m\u001b[0m\u001b[0m\n\u001b[0;32m      4\u001b[0m \u001b[1;33m\u001b[0m\u001b[0m\n\u001b[1;32m----> 5\u001b[1;33m \u001b[0msample_submission\u001b[0m \u001b[1;33m=\u001b[0m \u001b[0mpd\u001b[0m\u001b[1;33m.\u001b[0m\u001b[0mread_csv\u001b[0m\u001b[1;33m(\u001b[0m\u001b[0mdata_path\u001b[0m \u001b[1;33m+\u001b[0m \u001b[1;34m'/sample_submission.csv'\u001b[0m\u001b[1;33m)\u001b[0m\u001b[1;33m.\u001b[0m\u001b[0mset_index\u001b[0m\u001b[1;33m(\u001b[0m\u001b[1;34m'TransactionID'\u001b[0m\u001b[1;33m)\u001b[0m\u001b[1;33m\u001b[0m\u001b[0m\n\u001b[0m\u001b[0;32m      6\u001b[0m \u001b[1;33m\u001b[0m\u001b[0m\n\u001b[0;32m      7\u001b[0m \u001b[0msub1\u001b[0m \u001b[1;33m=\u001b[0m \u001b[0mpd\u001b[0m\u001b[1;33m.\u001b[0m\u001b[0mDataFrame\u001b[0m\u001b[1;33m(\u001b[0m\u001b[0mresult_dict\u001b[0m\u001b[1;33m[\u001b[0m\u001b[1;34m'prediction'\u001b[0m\u001b[1;33m]\u001b[0m\u001b[1;33m,\u001b[0m \u001b[0mcolumns\u001b[0m\u001b[1;33m=\u001b[0m\u001b[1;33m[\u001b[0m\u001b[1;34m'isFraud'\u001b[0m\u001b[1;33m]\u001b[0m\u001b[1;33m,\u001b[0m \u001b[0mindex\u001b[0m\u001b[1;33m=\u001b[0m\u001b[0mtest\u001b[0m\u001b[1;33m.\u001b[0m\u001b[0mindex\u001b[0m\u001b[1;33m)\u001b[0m\u001b[1;33m\u001b[0m\u001b[0m\n",
      "\u001b[1;32mc:\\python36\\lib\\site-packages\\pandas\\io\\parsers.py\u001b[0m in \u001b[0;36mparser_f\u001b[1;34m(filepath_or_buffer, sep, delimiter, header, names, index_col, usecols, squeeze, prefix, mangle_dupe_cols, dtype, engine, converters, true_values, false_values, skipinitialspace, skiprows, skipfooter, nrows, na_values, keep_default_na, na_filter, verbose, skip_blank_lines, parse_dates, infer_datetime_format, keep_date_col, date_parser, dayfirst, iterator, chunksize, compression, thousands, decimal, lineterminator, quotechar, quoting, doublequote, escapechar, comment, encoding, dialect, tupleize_cols, error_bad_lines, warn_bad_lines, delim_whitespace, low_memory, memory_map, float_precision)\u001b[0m\n\u001b[0;32m    700\u001b[0m                     skip_blank_lines=skip_blank_lines)\n\u001b[0;32m    701\u001b[0m \u001b[1;33m\u001b[0m\u001b[0m\n\u001b[1;32m--> 702\u001b[1;33m         \u001b[1;32mreturn\u001b[0m \u001b[0m_read\u001b[0m\u001b[1;33m(\u001b[0m\u001b[0mfilepath_or_buffer\u001b[0m\u001b[1;33m,\u001b[0m \u001b[0mkwds\u001b[0m\u001b[1;33m)\u001b[0m\u001b[1;33m\u001b[0m\u001b[0m\n\u001b[0m\u001b[0;32m    703\u001b[0m \u001b[1;33m\u001b[0m\u001b[0m\n\u001b[0;32m    704\u001b[0m     \u001b[0mparser_f\u001b[0m\u001b[1;33m.\u001b[0m\u001b[0m__name__\u001b[0m \u001b[1;33m=\u001b[0m \u001b[0mname\u001b[0m\u001b[1;33m\u001b[0m\u001b[0m\n",
      "\u001b[1;32mc:\\python36\\lib\\site-packages\\pandas\\io\\parsers.py\u001b[0m in \u001b[0;36m_read\u001b[1;34m(filepath_or_buffer, kwds)\u001b[0m\n\u001b[0;32m    427\u001b[0m \u001b[1;33m\u001b[0m\u001b[0m\n\u001b[0;32m    428\u001b[0m     \u001b[1;31m# Create the parser.\u001b[0m\u001b[1;33m\u001b[0m\u001b[1;33m\u001b[0m\u001b[0m\n\u001b[1;32m--> 429\u001b[1;33m     \u001b[0mparser\u001b[0m \u001b[1;33m=\u001b[0m \u001b[0mTextFileReader\u001b[0m\u001b[1;33m(\u001b[0m\u001b[0mfilepath_or_buffer\u001b[0m\u001b[1;33m,\u001b[0m \u001b[1;33m**\u001b[0m\u001b[0mkwds\u001b[0m\u001b[1;33m)\u001b[0m\u001b[1;33m\u001b[0m\u001b[0m\n\u001b[0m\u001b[0;32m    430\u001b[0m \u001b[1;33m\u001b[0m\u001b[0m\n\u001b[0;32m    431\u001b[0m     \u001b[1;32mif\u001b[0m \u001b[0mchunksize\u001b[0m \u001b[1;32mor\u001b[0m \u001b[0miterator\u001b[0m\u001b[1;33m:\u001b[0m\u001b[1;33m\u001b[0m\u001b[0m\n",
      "\u001b[1;32mc:\\python36\\lib\\site-packages\\pandas\\io\\parsers.py\u001b[0m in \u001b[0;36m__init__\u001b[1;34m(self, f, engine, **kwds)\u001b[0m\n\u001b[0;32m    893\u001b[0m             \u001b[0mself\u001b[0m\u001b[1;33m.\u001b[0m\u001b[0moptions\u001b[0m\u001b[1;33m[\u001b[0m\u001b[1;34m'has_index_names'\u001b[0m\u001b[1;33m]\u001b[0m \u001b[1;33m=\u001b[0m \u001b[0mkwds\u001b[0m\u001b[1;33m[\u001b[0m\u001b[1;34m'has_index_names'\u001b[0m\u001b[1;33m]\u001b[0m\u001b[1;33m\u001b[0m\u001b[0m\n\u001b[0;32m    894\u001b[0m \u001b[1;33m\u001b[0m\u001b[0m\n\u001b[1;32m--> 895\u001b[1;33m         \u001b[0mself\u001b[0m\u001b[1;33m.\u001b[0m\u001b[0m_make_engine\u001b[0m\u001b[1;33m(\u001b[0m\u001b[0mself\u001b[0m\u001b[1;33m.\u001b[0m\u001b[0mengine\u001b[0m\u001b[1;33m)\u001b[0m\u001b[1;33m\u001b[0m\u001b[0m\n\u001b[0m\u001b[0;32m    896\u001b[0m \u001b[1;33m\u001b[0m\u001b[0m\n\u001b[0;32m    897\u001b[0m     \u001b[1;32mdef\u001b[0m \u001b[0mclose\u001b[0m\u001b[1;33m(\u001b[0m\u001b[0mself\u001b[0m\u001b[1;33m)\u001b[0m\u001b[1;33m:\u001b[0m\u001b[1;33m\u001b[0m\u001b[0m\n",
      "\u001b[1;32mc:\\python36\\lib\\site-packages\\pandas\\io\\parsers.py\u001b[0m in \u001b[0;36m_make_engine\u001b[1;34m(self, engine)\u001b[0m\n\u001b[0;32m   1120\u001b[0m     \u001b[1;32mdef\u001b[0m \u001b[0m_make_engine\u001b[0m\u001b[1;33m(\u001b[0m\u001b[0mself\u001b[0m\u001b[1;33m,\u001b[0m \u001b[0mengine\u001b[0m\u001b[1;33m=\u001b[0m\u001b[1;34m'c'\u001b[0m\u001b[1;33m)\u001b[0m\u001b[1;33m:\u001b[0m\u001b[1;33m\u001b[0m\u001b[0m\n\u001b[0;32m   1121\u001b[0m         \u001b[1;32mif\u001b[0m \u001b[0mengine\u001b[0m \u001b[1;33m==\u001b[0m \u001b[1;34m'c'\u001b[0m\u001b[1;33m:\u001b[0m\u001b[1;33m\u001b[0m\u001b[0m\n\u001b[1;32m-> 1122\u001b[1;33m             \u001b[0mself\u001b[0m\u001b[1;33m.\u001b[0m\u001b[0m_engine\u001b[0m \u001b[1;33m=\u001b[0m \u001b[0mCParserWrapper\u001b[0m\u001b[1;33m(\u001b[0m\u001b[0mself\u001b[0m\u001b[1;33m.\u001b[0m\u001b[0mf\u001b[0m\u001b[1;33m,\u001b[0m \u001b[1;33m**\u001b[0m\u001b[0mself\u001b[0m\u001b[1;33m.\u001b[0m\u001b[0moptions\u001b[0m\u001b[1;33m)\u001b[0m\u001b[1;33m\u001b[0m\u001b[0m\n\u001b[0m\u001b[0;32m   1123\u001b[0m         \u001b[1;32melse\u001b[0m\u001b[1;33m:\u001b[0m\u001b[1;33m\u001b[0m\u001b[0m\n\u001b[0;32m   1124\u001b[0m             \u001b[1;32mif\u001b[0m \u001b[0mengine\u001b[0m \u001b[1;33m==\u001b[0m \u001b[1;34m'python'\u001b[0m\u001b[1;33m:\u001b[0m\u001b[1;33m\u001b[0m\u001b[0m\n",
      "\u001b[1;32mc:\\python36\\lib\\site-packages\\pandas\\io\\parsers.py\u001b[0m in \u001b[0;36m__init__\u001b[1;34m(self, src, **kwds)\u001b[0m\n\u001b[0;32m   1851\u001b[0m         \u001b[0mkwds\u001b[0m\u001b[1;33m[\u001b[0m\u001b[1;34m'usecols'\u001b[0m\u001b[1;33m]\u001b[0m \u001b[1;33m=\u001b[0m \u001b[0mself\u001b[0m\u001b[1;33m.\u001b[0m\u001b[0musecols\u001b[0m\u001b[1;33m\u001b[0m\u001b[0m\n\u001b[0;32m   1852\u001b[0m \u001b[1;33m\u001b[0m\u001b[0m\n\u001b[1;32m-> 1853\u001b[1;33m         \u001b[0mself\u001b[0m\u001b[1;33m.\u001b[0m\u001b[0m_reader\u001b[0m \u001b[1;33m=\u001b[0m \u001b[0mparsers\u001b[0m\u001b[1;33m.\u001b[0m\u001b[0mTextReader\u001b[0m\u001b[1;33m(\u001b[0m\u001b[0msrc\u001b[0m\u001b[1;33m,\u001b[0m \u001b[1;33m**\u001b[0m\u001b[0mkwds\u001b[0m\u001b[1;33m)\u001b[0m\u001b[1;33m\u001b[0m\u001b[0m\n\u001b[0m\u001b[0;32m   1854\u001b[0m         \u001b[0mself\u001b[0m\u001b[1;33m.\u001b[0m\u001b[0munnamed_cols\u001b[0m \u001b[1;33m=\u001b[0m \u001b[0mself\u001b[0m\u001b[1;33m.\u001b[0m\u001b[0m_reader\u001b[0m\u001b[1;33m.\u001b[0m\u001b[0munnamed_cols\u001b[0m\u001b[1;33m\u001b[0m\u001b[0m\n\u001b[0;32m   1855\u001b[0m \u001b[1;33m\u001b[0m\u001b[0m\n",
      "\u001b[1;32mpandas\\_libs\\parsers.pyx\u001b[0m in \u001b[0;36mpandas._libs.parsers.TextReader.__cinit__\u001b[1;34m()\u001b[0m\n",
      "\u001b[1;32mpandas\\_libs\\parsers.pyx\u001b[0m in \u001b[0;36mpandas._libs.parsers.TextReader._setup_parser_source\u001b[1;34m()\u001b[0m\n",
      "\u001b[1;31mFileNotFoundError\u001b[0m: [Errno 2] File b'E:/Kaggle/05-LabelEncoded-last/sample_submission.csv' does not exist: b'E:/Kaggle/05-LabelEncoded-last/sample_submission.csv'"
     ]
    }
   ],
   "source": [
    "pd.DataFrame(result_dict['oof'], columns=['isFraud'], index=X.index).to_csv(f'{data_path}/oof_lightgbm-work-1.csv')\n",
    "\n",
    "pd.DataFrame(result_dict['prediction'], columns=['isFraud'], index=test.index).to_csv(f'{data_path}/prediction_lightgbm-work-1.csv')\n",
    "\n",
    "sample_submission = pd.read_csv(data_path + '/sample_submission.csv').set_index('TransactionID')\n",
    "\n",
    "sub1 = pd.DataFrame(result_dict['prediction'], columns=['isFraud'], index=test.index)\n",
    "\n",
    "sample_submission['isFraud'] = sub1#*0.5 + sub2*0.25 + sub3*0.25\n",
    "\n",
    "sample_submission.to_csv(f'{data_path}/lightgbm-work-1_sub.csv')"
   ]
  }
 ],
 "metadata": {
  "accelerator": "GPU",
  "colab": {
   "collapsed_sections": [],
   "machine_shape": "hm",
   "name": "Catboost.ipynb",
   "provenance": [],
   "toc_visible": true
  },
  "kernelspec": {
   "display_name": "Python 3",
   "language": "python",
   "name": "python3"
  },
  "language_info": {
   "codemirror_mode": {
    "name": "ipython",
    "version": 3
   },
   "file_extension": ".py",
   "mimetype": "text/x-python",
   "name": "python",
   "nbconvert_exporter": "python",
   "pygments_lexer": "ipython3",
   "version": "3.6.1"
  },
  "toc": {
   "base_numbering": 1,
   "nav_menu": {},
   "number_sections": true,
   "sideBar": true,
   "skip_h1_title": false,
   "title_cell": "Table of Contents",
   "title_sidebar": "Contents",
   "toc_cell": false,
   "toc_position": {},
   "toc_section_display": true,
   "toc_window_display": false
  },
  "varInspector": {
   "cols": {
    "lenName": 16,
    "lenType": 16,
    "lenVar": 40
   },
   "kernels_config": {
    "python": {
     "delete_cmd_postfix": "",
     "delete_cmd_prefix": "del ",
     "library": "var_list.py",
     "varRefreshCmd": "print(var_dic_list())"
    },
    "r": {
     "delete_cmd_postfix": ") ",
     "delete_cmd_prefix": "rm(",
     "library": "var_list.r",
     "varRefreshCmd": "cat(var_dic_list()) "
    }
   },
   "position": {
    "height": "760px",
    "left": "1530px",
    "right": "20px",
    "top": "120px",
    "width": "336px"
   },
   "types_to_exclude": [
    "module",
    "function",
    "builtin_function_or_method",
    "instance",
    "_Feature"
   ],
   "window_display": false
  }
 },
 "nbformat": 4,
 "nbformat_minor": 4
}
