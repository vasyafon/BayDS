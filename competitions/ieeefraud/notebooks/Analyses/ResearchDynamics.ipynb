{
 "cells": [
  {
   "cell_type": "code",
   "execution_count": 6,
   "metadata": {
    "ExecuteTime": {
     "end_time": "2019-09-22T20:07:13.514164Z",
     "start_time": "2019-09-22T20:07:13.378183Z"
    }
   },
   "outputs": [
    {
     "name": "stdout",
     "output_type": "stream",
     "text": [
      "The autoreload extension is already loaded. To reload it, use:\n",
      "  %reload_ext autoreload\n"
     ]
    }
   ],
   "source": [
    "%load_ext autoreload\n",
    "%autoreload 2\n",
    "main_dir = r'../../..'\n",
    "data_path = main_dir+'/data'\n",
    "import sys\n",
    "sys.path.append(main_dir)\n",
    "from typing import List, Set, Dict, Optional, Any, Tuple, Type, Union\n",
    "\n",
    "from BayDS.lib.pipeline import *\n",
    "from BayDS.lib.io import *\n",
    "import os\n"
   ]
  },
  {
   "cell_type": "code",
   "execution_count": 7,
   "metadata": {
    "ExecuteTime": {
     "end_time": "2019-09-22T20:07:18.507244Z",
     "start_time": "2019-09-22T20:07:13.516165Z"
    }
   },
   "outputs": [
    {
     "name": "stdout",
     "output_type": "stream",
     "text": [
      "---------------------------\n",
      "0: LoaderNode [2019-09-22 23:07:13]\n",
      "params:\n",
      " {'input_directory': '../../../Snapshots/1/Test', 'file': 'label_encoded_data.pkl'}\n",
      "---------------------------\n",
      "1: LoaderNode [2019-09-22 23:07:18]\n",
      "params:\n",
      " {'input_directory': '../../../Snapshots/Dynamic', 'file': 'oof_best_submit.csv'}\n",
      "---------------------------\n",
      "2: LoaderNode [2019-09-22 23:07:18]\n",
      "params:\n",
      " {'input_directory': '../../../Snapshots/Dynamic', 'file': 'ieee_with_additions.csv'}\n"
     ]
    }
   ],
   "source": [
    "data_dir = f'{main_dir}/Snapshots/1/Test'\n",
    "p = Pipeline(working_folder=f'{main_dir}/Snapshots/1/Dynamics')\n",
    "\n",
    "p.add_node(LoaderNode, None, 'data',\n",
    "           params={\n",
    "               'input_directory': data_dir,\n",
    "               'file': 'label_encoded_data.pkl'\n",
    "           })\n",
    "p.add_node(LoaderNode, None, 'oof',\n",
    "           params={\n",
    "               'input_directory': main_dir+'/Snapshots/Dynamic',\n",
    "               'file': 'oof_best_submit.csv'\n",
    "           })\n",
    "p.add_node(LoaderNode, None, 'predictions',\n",
    "           params={\n",
    "               'input_directory': main_dir+'/Snapshots/Dynamic',\n",
    "               'file': 'ieee_with_additions.csv'\n",
    "           })\n",
    "p.run(verbose=True)\n",
    "p.save()"
   ]
  },
  {
   "cell_type": "code",
   "execution_count": 8,
   "metadata": {
    "ExecuteTime": {
     "end_time": "2019-09-22T20:07:22.210297Z",
     "start_time": "2019-09-22T20:07:18.510246Z"
    }
   },
   "outputs": [],
   "source": [
    "df = p.data['data']\n",
    "df = df[['isFraud', 'new_card_id']]"
   ]
  },
  {
   "cell_type": "code",
   "execution_count": 9,
   "metadata": {
    "ExecuteTime": {
     "end_time": "2019-09-22T20:07:22.366303Z",
     "start_time": "2019-09-22T20:07:22.213303Z"
    }
   },
   "outputs": [
    {
     "data": {
      "text/plain": [
       "Int64Index([2987000, 2987001, 2987002, 2987003, 2987004, 2987005, 2987006,\n",
       "            2987007, 2987008, 2987009,\n",
       "            ...\n",
       "            4170230, 4170231, 4170232, 4170233, 4170234, 4170235, 4170236,\n",
       "            4170237, 4170238, 4170239],\n",
       "           dtype='int64', name='TransactionID', length=1097231)"
      ]
     },
     "execution_count": 9,
     "metadata": {},
     "output_type": "execute_result"
    }
   ],
   "source": [
    "pred = pd.concat([p.data['oof'].set_index('TransactionID')['score'],p.data['predictions'].set_index('TransactionID')['isFraud']],axis=0)#\n",
    "pred.index"
   ]
  },
  {
   "cell_type": "code",
   "execution_count": 10,
   "metadata": {
    "ExecuteTime": {
     "end_time": "2019-09-22T20:07:22.494316Z",
     "start_time": "2019-09-22T20:07:22.368301Z"
    }
   },
   "outputs": [
    {
     "data": {
      "text/plain": [
       "TransactionID\n",
       "2987000    0.013343\n",
       "2987001    0.008355\n",
       "2987002    0.003535\n",
       "2987003    0.001327\n",
       "2987004    0.002611\n",
       "             ...   \n",
       "4170235    0.003432\n",
       "4170236    0.002554\n",
       "4170237    0.003562\n",
       "4170238    0.003217\n",
       "4170239    0.002311\n",
       "Length: 1097231, dtype: float64"
      ]
     },
     "execution_count": 10,
     "metadata": {},
     "output_type": "execute_result"
    }
   ],
   "source": [
    "pred"
   ]
  },
  {
   "cell_type": "code",
   "execution_count": 11,
   "metadata": {
    "ExecuteTime": {
     "end_time": "2019-09-22T20:07:22.623340Z",
     "start_time": "2019-09-22T20:07:22.496303Z"
    }
   },
   "outputs": [
    {
     "name": "stderr",
     "output_type": "stream",
     "text": [
      "c:\\python37\\lib\\site-packages\\ipykernel_launcher.py:1: SettingWithCopyWarning: \n",
      "A value is trying to be set on a copy of a slice from a DataFrame.\n",
      "Try using .loc[row_indexer,col_indexer] = value instead\n",
      "\n",
      "See the caveats in the documentation: http://pandas.pydata.org/pandas-docs/stable/user_guide/indexing.html#returning-a-view-versus-a-copy\n",
      "  \"\"\"Entry point for launching an IPython kernel.\n"
     ]
    }
   ],
   "source": [
    "df['pred_0'] = pred"
   ]
  },
  {
   "cell_type": "code",
   "execution_count": 12,
   "metadata": {
    "ExecuteTime": {
     "end_time": "2019-09-22T20:07:22.764305Z",
     "start_time": "2019-09-22T20:07:22.625308Z"
    }
   },
   "outputs": [
    {
     "data": {
      "text/html": [
       "<div>\n",
       "<style scoped>\n",
       "    .dataframe tbody tr th:only-of-type {\n",
       "        vertical-align: middle;\n",
       "    }\n",
       "\n",
       "    .dataframe tbody tr th {\n",
       "        vertical-align: top;\n",
       "    }\n",
       "\n",
       "    .dataframe thead th {\n",
       "        text-align: right;\n",
       "    }\n",
       "</style>\n",
       "<table border=\"1\" class=\"dataframe\">\n",
       "  <thead>\n",
       "    <tr style=\"text-align: right;\">\n",
       "      <th></th>\n",
       "      <th>isFraud</th>\n",
       "      <th>new_card_id</th>\n",
       "      <th>pred_0</th>\n",
       "    </tr>\n",
       "    <tr>\n",
       "      <th>TransactionID</th>\n",
       "      <th></th>\n",
       "      <th></th>\n",
       "      <th></th>\n",
       "    </tr>\n",
       "  </thead>\n",
       "  <tbody>\n",
       "    <tr>\n",
       "      <td>2987000</td>\n",
       "      <td>0</td>\n",
       "      <td>130935</td>\n",
       "      <td>0.013343</td>\n",
       "    </tr>\n",
       "    <tr>\n",
       "      <td>2987001</td>\n",
       "      <td>0</td>\n",
       "      <td>47322</td>\n",
       "      <td>0.008355</td>\n",
       "    </tr>\n",
       "    <tr>\n",
       "      <td>2987002</td>\n",
       "      <td>0</td>\n",
       "      <td>40076</td>\n",
       "      <td>0.003535</td>\n",
       "    </tr>\n",
       "    <tr>\n",
       "      <td>2987003</td>\n",
       "      <td>0</td>\n",
       "      <td>9790</td>\n",
       "      <td>0.001327</td>\n",
       "    </tr>\n",
       "    <tr>\n",
       "      <td>2987004</td>\n",
       "      <td>0</td>\n",
       "      <td>113643</td>\n",
       "      <td>0.002611</td>\n",
       "    </tr>\n",
       "    <tr>\n",
       "      <td>...</td>\n",
       "      <td>...</td>\n",
       "      <td>...</td>\n",
       "      <td>...</td>\n",
       "    </tr>\n",
       "    <tr>\n",
       "      <td>4170235</td>\n",
       "      <td>-1</td>\n",
       "      <td>21517</td>\n",
       "      <td>0.003432</td>\n",
       "    </tr>\n",
       "    <tr>\n",
       "      <td>4170236</td>\n",
       "      <td>-1</td>\n",
       "      <td>9161</td>\n",
       "      <td>0.002554</td>\n",
       "    </tr>\n",
       "    <tr>\n",
       "      <td>4170237</td>\n",
       "      <td>-1</td>\n",
       "      <td>48339</td>\n",
       "      <td>0.003562</td>\n",
       "    </tr>\n",
       "    <tr>\n",
       "      <td>4170238</td>\n",
       "      <td>-1</td>\n",
       "      <td>132704</td>\n",
       "      <td>0.003217</td>\n",
       "    </tr>\n",
       "    <tr>\n",
       "      <td>4170239</td>\n",
       "      <td>-1</td>\n",
       "      <td>87266</td>\n",
       "      <td>0.002311</td>\n",
       "    </tr>\n",
       "  </tbody>\n",
       "</table>\n",
       "<p>1097231 rows × 3 columns</p>\n",
       "</div>"
      ],
      "text/plain": [
       "               isFraud  new_card_id    pred_0\n",
       "TransactionID                                \n",
       "2987000              0       130935  0.013343\n",
       "2987001              0        47322  0.008355\n",
       "2987002              0        40076  0.003535\n",
       "2987003              0         9790  0.001327\n",
       "2987004              0       113643  0.002611\n",
       "...                ...          ...       ...\n",
       "4170235             -1        21517  0.003432\n",
       "4170236             -1         9161  0.002554\n",
       "4170237             -1        48339  0.003562\n",
       "4170238             -1       132704  0.003217\n",
       "4170239             -1        87266  0.002311\n",
       "\n",
       "[1097231 rows x 3 columns]"
      ]
     },
     "execution_count": 12,
     "metadata": {},
     "output_type": "execute_result"
    }
   ],
   "source": [
    "df"
   ]
  },
  {
   "cell_type": "code",
   "execution_count": 13,
   "metadata": {
    "ExecuteTime": {
     "end_time": "2019-09-22T20:07:23.057311Z",
     "start_time": "2019-09-22T20:07:22.769305Z"
    }
   },
   "outputs": [],
   "source": [
    "test = df[['pred_0','new_card_id']].groupby('new_card_id').shift()"
   ]
  },
  {
   "cell_type": "code",
   "execution_count": 14,
   "metadata": {
    "ExecuteTime": {
     "end_time": "2019-09-22T20:07:37.010556Z",
     "start_time": "2019-09-22T20:07:23.059312Z"
    }
   },
   "outputs": [],
   "source": [
    "shifts = {}\n",
    "for shift in range(-40,40):\n",
    "    s = df[['pred_0','new_card_id']].groupby('new_card_id').shift(shift)['pred_0']\n",
    "    shifts[shift] = s"
   ]
  },
  {
   "cell_type": "code",
   "execution_count": 15,
   "metadata": {
    "ExecuteTime": {
     "end_time": "2019-09-22T20:07:41.370654Z",
     "start_time": "2019-09-22T20:07:40.770585Z"
    }
   },
   "outputs": [
    {
     "name": "stderr",
     "output_type": "stream",
     "text": [
      "c:\\python37\\lib\\site-packages\\ipykernel_launcher.py:3: SettingWithCopyWarning: \n",
      "A value is trying to be set on a copy of a slice from a DataFrame.\n",
      "Try using .loc[row_indexer,col_indexer] = value instead\n",
      "\n",
      "See the caveats in the documentation: http://pandas.pydata.org/pandas-docs/stable/user_guide/indexing.html#returning-a-view-versus-a-copy\n",
      "  This is separate from the ipykernel package so we can avoid doing imports until\n"
     ]
    }
   ],
   "source": [
    "for k,v in shifts.items():\n",
    "    if k!=0:\n",
    "        df[f'pred_{k}']=v"
   ]
  },
  {
   "cell_type": "code",
   "execution_count": 16,
   "metadata": {
    "ExecuteTime": {
     "end_time": "2019-09-22T20:07:44.871649Z",
     "start_time": "2019-09-22T20:07:42.800617Z"
    }
   },
   "outputs": [],
   "source": [
    "df = df.fillna(-1)"
   ]
  },
  {
   "cell_type": "code",
   "execution_count": 17,
   "metadata": {
    "ExecuteTime": {
     "end_time": "2019-09-22T20:07:47.291715Z",
     "start_time": "2019-09-22T20:07:45.840656Z"
    }
   },
   "outputs": [],
   "source": [
    "X = df[df.isFraud>=0].drop(['isFraud'],axis=1)\n",
    "y = df[df.isFraud>=0]['isFraud']\n",
    "test = df[df.isFraud<0].drop(['isFraud'],axis=1)\n"
   ]
  },
  {
   "cell_type": "code",
   "execution_count": null,
   "metadata": {},
   "outputs": [],
   "source": []
  },
  {
   "cell_type": "code",
   "execution_count": 18,
   "metadata": {
    "ExecuteTime": {
     "end_time": "2019-09-22T20:07:49.188711Z",
     "start_time": "2019-09-22T20:07:48.732703Z"
    }
   },
   "outputs": [
    {
     "data": {
      "text/html": [
       "<div>\n",
       "<style scoped>\n",
       "    .dataframe tbody tr th:only-of-type {\n",
       "        vertical-align: middle;\n",
       "    }\n",
       "\n",
       "    .dataframe tbody tr th {\n",
       "        vertical-align: top;\n",
       "    }\n",
       "\n",
       "    .dataframe thead th {\n",
       "        text-align: right;\n",
       "    }\n",
       "</style>\n",
       "<table border=\"1\" class=\"dataframe\">\n",
       "  <thead>\n",
       "    <tr style=\"text-align: right;\">\n",
       "      <th></th>\n",
       "      <th>new_card_id</th>\n",
       "      <th>pred_0</th>\n",
       "      <th>pred_-40</th>\n",
       "      <th>pred_-39</th>\n",
       "      <th>pred_-38</th>\n",
       "      <th>pred_-37</th>\n",
       "      <th>pred_-36</th>\n",
       "      <th>pred_-35</th>\n",
       "      <th>pred_-34</th>\n",
       "      <th>pred_-33</th>\n",
       "      <th>...</th>\n",
       "      <th>pred_30</th>\n",
       "      <th>pred_31</th>\n",
       "      <th>pred_32</th>\n",
       "      <th>pred_33</th>\n",
       "      <th>pred_34</th>\n",
       "      <th>pred_35</th>\n",
       "      <th>pred_36</th>\n",
       "      <th>pred_37</th>\n",
       "      <th>pred_38</th>\n",
       "      <th>pred_39</th>\n",
       "    </tr>\n",
       "    <tr>\n",
       "      <th>TransactionID</th>\n",
       "      <th></th>\n",
       "      <th></th>\n",
       "      <th></th>\n",
       "      <th></th>\n",
       "      <th></th>\n",
       "      <th></th>\n",
       "      <th></th>\n",
       "      <th></th>\n",
       "      <th></th>\n",
       "      <th></th>\n",
       "      <th></th>\n",
       "      <th></th>\n",
       "      <th></th>\n",
       "      <th></th>\n",
       "      <th></th>\n",
       "      <th></th>\n",
       "      <th></th>\n",
       "      <th></th>\n",
       "      <th></th>\n",
       "      <th></th>\n",
       "      <th></th>\n",
       "    </tr>\n",
       "  </thead>\n",
       "  <tbody>\n",
       "    <tr>\n",
       "      <td>2987000</td>\n",
       "      <td>130935</td>\n",
       "      <td>0.013343</td>\n",
       "      <td>-1.000000</td>\n",
       "      <td>-1.000000</td>\n",
       "      <td>-1.000000</td>\n",
       "      <td>-1.000000</td>\n",
       "      <td>-1.000000</td>\n",
       "      <td>-1.000000</td>\n",
       "      <td>-1.000000</td>\n",
       "      <td>-1.000000</td>\n",
       "      <td>...</td>\n",
       "      <td>-1.000000</td>\n",
       "      <td>-1.000000</td>\n",
       "      <td>-1.000000</td>\n",
       "      <td>-1.000000</td>\n",
       "      <td>-1.000000</td>\n",
       "      <td>-1.000000</td>\n",
       "      <td>-1.000000</td>\n",
       "      <td>-1.000000</td>\n",
       "      <td>-1.000000</td>\n",
       "      <td>-1.000000</td>\n",
       "    </tr>\n",
       "    <tr>\n",
       "      <td>2987001</td>\n",
       "      <td>47322</td>\n",
       "      <td>0.008355</td>\n",
       "      <td>0.013368</td>\n",
       "      <td>0.006630</td>\n",
       "      <td>0.002676</td>\n",
       "      <td>0.073622</td>\n",
       "      <td>0.000741</td>\n",
       "      <td>0.012029</td>\n",
       "      <td>0.001162</td>\n",
       "      <td>0.001448</td>\n",
       "      <td>...</td>\n",
       "      <td>-1.000000</td>\n",
       "      <td>-1.000000</td>\n",
       "      <td>-1.000000</td>\n",
       "      <td>-1.000000</td>\n",
       "      <td>-1.000000</td>\n",
       "      <td>-1.000000</td>\n",
       "      <td>-1.000000</td>\n",
       "      <td>-1.000000</td>\n",
       "      <td>-1.000000</td>\n",
       "      <td>-1.000000</td>\n",
       "    </tr>\n",
       "    <tr>\n",
       "      <td>2987002</td>\n",
       "      <td>40076</td>\n",
       "      <td>0.003535</td>\n",
       "      <td>0.002538</td>\n",
       "      <td>0.007914</td>\n",
       "      <td>0.001416</td>\n",
       "      <td>0.001098</td>\n",
       "      <td>0.005041</td>\n",
       "      <td>0.001437</td>\n",
       "      <td>0.000707</td>\n",
       "      <td>0.006101</td>\n",
       "      <td>...</td>\n",
       "      <td>-1.000000</td>\n",
       "      <td>-1.000000</td>\n",
       "      <td>-1.000000</td>\n",
       "      <td>-1.000000</td>\n",
       "      <td>-1.000000</td>\n",
       "      <td>-1.000000</td>\n",
       "      <td>-1.000000</td>\n",
       "      <td>-1.000000</td>\n",
       "      <td>-1.000000</td>\n",
       "      <td>-1.000000</td>\n",
       "    </tr>\n",
       "    <tr>\n",
       "      <td>2987003</td>\n",
       "      <td>9790</td>\n",
       "      <td>0.001327</td>\n",
       "      <td>0.002424</td>\n",
       "      <td>0.000991</td>\n",
       "      <td>0.000967</td>\n",
       "      <td>0.000996</td>\n",
       "      <td>0.000889</td>\n",
       "      <td>0.000912</td>\n",
       "      <td>0.001205</td>\n",
       "      <td>0.001039</td>\n",
       "      <td>...</td>\n",
       "      <td>-1.000000</td>\n",
       "      <td>-1.000000</td>\n",
       "      <td>-1.000000</td>\n",
       "      <td>-1.000000</td>\n",
       "      <td>-1.000000</td>\n",
       "      <td>-1.000000</td>\n",
       "      <td>-1.000000</td>\n",
       "      <td>-1.000000</td>\n",
       "      <td>-1.000000</td>\n",
       "      <td>-1.000000</td>\n",
       "    </tr>\n",
       "    <tr>\n",
       "      <td>2987004</td>\n",
       "      <td>113643</td>\n",
       "      <td>0.002611</td>\n",
       "      <td>-1.000000</td>\n",
       "      <td>-1.000000</td>\n",
       "      <td>-1.000000</td>\n",
       "      <td>-1.000000</td>\n",
       "      <td>-1.000000</td>\n",
       "      <td>-1.000000</td>\n",
       "      <td>-1.000000</td>\n",
       "      <td>-1.000000</td>\n",
       "      <td>...</td>\n",
       "      <td>-1.000000</td>\n",
       "      <td>-1.000000</td>\n",
       "      <td>-1.000000</td>\n",
       "      <td>-1.000000</td>\n",
       "      <td>-1.000000</td>\n",
       "      <td>-1.000000</td>\n",
       "      <td>-1.000000</td>\n",
       "      <td>-1.000000</td>\n",
       "      <td>-1.000000</td>\n",
       "      <td>-1.000000</td>\n",
       "    </tr>\n",
       "    <tr>\n",
       "      <td>...</td>\n",
       "      <td>...</td>\n",
       "      <td>...</td>\n",
       "      <td>...</td>\n",
       "      <td>...</td>\n",
       "      <td>...</td>\n",
       "      <td>...</td>\n",
       "      <td>...</td>\n",
       "      <td>...</td>\n",
       "      <td>...</td>\n",
       "      <td>...</td>\n",
       "      <td>...</td>\n",
       "      <td>...</td>\n",
       "      <td>...</td>\n",
       "      <td>...</td>\n",
       "      <td>...</td>\n",
       "      <td>...</td>\n",
       "      <td>...</td>\n",
       "      <td>...</td>\n",
       "      <td>...</td>\n",
       "      <td>...</td>\n",
       "      <td>...</td>\n",
       "    </tr>\n",
       "    <tr>\n",
       "      <td>3577535</td>\n",
       "      <td>36490</td>\n",
       "      <td>0.002267</td>\n",
       "      <td>-1.000000</td>\n",
       "      <td>-1.000000</td>\n",
       "      <td>-1.000000</td>\n",
       "      <td>-1.000000</td>\n",
       "      <td>-1.000000</td>\n",
       "      <td>-1.000000</td>\n",
       "      <td>-1.000000</td>\n",
       "      <td>-1.000000</td>\n",
       "      <td>...</td>\n",
       "      <td>-1.000000</td>\n",
       "      <td>-1.000000</td>\n",
       "      <td>-1.000000</td>\n",
       "      <td>-1.000000</td>\n",
       "      <td>-1.000000</td>\n",
       "      <td>-1.000000</td>\n",
       "      <td>-1.000000</td>\n",
       "      <td>-1.000000</td>\n",
       "      <td>-1.000000</td>\n",
       "      <td>-1.000000</td>\n",
       "    </tr>\n",
       "    <tr>\n",
       "      <td>3577536</td>\n",
       "      <td>115832</td>\n",
       "      <td>0.004644</td>\n",
       "      <td>-1.000000</td>\n",
       "      <td>-1.000000</td>\n",
       "      <td>-1.000000</td>\n",
       "      <td>-1.000000</td>\n",
       "      <td>-1.000000</td>\n",
       "      <td>-1.000000</td>\n",
       "      <td>-1.000000</td>\n",
       "      <td>-1.000000</td>\n",
       "      <td>...</td>\n",
       "      <td>-1.000000</td>\n",
       "      <td>-1.000000</td>\n",
       "      <td>-1.000000</td>\n",
       "      <td>-1.000000</td>\n",
       "      <td>-1.000000</td>\n",
       "      <td>-1.000000</td>\n",
       "      <td>-1.000000</td>\n",
       "      <td>-1.000000</td>\n",
       "      <td>-1.000000</td>\n",
       "      <td>-1.000000</td>\n",
       "    </tr>\n",
       "    <tr>\n",
       "      <td>3577537</td>\n",
       "      <td>46747</td>\n",
       "      <td>0.003130</td>\n",
       "      <td>0.022940</td>\n",
       "      <td>0.000839</td>\n",
       "      <td>0.003134</td>\n",
       "      <td>0.001307</td>\n",
       "      <td>0.004710</td>\n",
       "      <td>0.008165</td>\n",
       "      <td>0.005719</td>\n",
       "      <td>0.002745</td>\n",
       "      <td>...</td>\n",
       "      <td>0.002601</td>\n",
       "      <td>0.012045</td>\n",
       "      <td>0.001989</td>\n",
       "      <td>0.001560</td>\n",
       "      <td>0.001983</td>\n",
       "      <td>0.001599</td>\n",
       "      <td>0.005857</td>\n",
       "      <td>0.001936</td>\n",
       "      <td>0.014402</td>\n",
       "      <td>0.002610</td>\n",
       "    </tr>\n",
       "    <tr>\n",
       "      <td>3577538</td>\n",
       "      <td>18331</td>\n",
       "      <td>0.038192</td>\n",
       "      <td>-1.000000</td>\n",
       "      <td>-1.000000</td>\n",
       "      <td>-1.000000</td>\n",
       "      <td>-1.000000</td>\n",
       "      <td>-1.000000</td>\n",
       "      <td>-1.000000</td>\n",
       "      <td>-1.000000</td>\n",
       "      <td>-1.000000</td>\n",
       "      <td>...</td>\n",
       "      <td>-1.000000</td>\n",
       "      <td>-1.000000</td>\n",
       "      <td>-1.000000</td>\n",
       "      <td>-1.000000</td>\n",
       "      <td>-1.000000</td>\n",
       "      <td>-1.000000</td>\n",
       "      <td>-1.000000</td>\n",
       "      <td>-1.000000</td>\n",
       "      <td>-1.000000</td>\n",
       "      <td>-1.000000</td>\n",
       "    </tr>\n",
       "    <tr>\n",
       "      <td>3577539</td>\n",
       "      <td>3141</td>\n",
       "      <td>0.005253</td>\n",
       "      <td>0.001820</td>\n",
       "      <td>0.001514</td>\n",
       "      <td>0.002756</td>\n",
       "      <td>0.002756</td>\n",
       "      <td>0.002100</td>\n",
       "      <td>0.002494</td>\n",
       "      <td>0.004565</td>\n",
       "      <td>0.004708</td>\n",
       "      <td>...</td>\n",
       "      <td>0.123165</td>\n",
       "      <td>0.007860</td>\n",
       "      <td>0.049623</td>\n",
       "      <td>0.003291</td>\n",
       "      <td>0.031568</td>\n",
       "      <td>0.001143</td>\n",
       "      <td>0.003688</td>\n",
       "      <td>0.008729</td>\n",
       "      <td>0.004821</td>\n",
       "      <td>0.003245</td>\n",
       "    </tr>\n",
       "  </tbody>\n",
       "</table>\n",
       "<p>590540 rows × 81 columns</p>\n",
       "</div>"
      ],
      "text/plain": [
       "               new_card_id    pred_0  pred_-40  pred_-39  pred_-38  pred_-37  \\\n",
       "TransactionID                                                                  \n",
       "2987000             130935  0.013343 -1.000000 -1.000000 -1.000000 -1.000000   \n",
       "2987001              47322  0.008355  0.013368  0.006630  0.002676  0.073622   \n",
       "2987002              40076  0.003535  0.002538  0.007914  0.001416  0.001098   \n",
       "2987003               9790  0.001327  0.002424  0.000991  0.000967  0.000996   \n",
       "2987004             113643  0.002611 -1.000000 -1.000000 -1.000000 -1.000000   \n",
       "...                    ...       ...       ...       ...       ...       ...   \n",
       "3577535              36490  0.002267 -1.000000 -1.000000 -1.000000 -1.000000   \n",
       "3577536             115832  0.004644 -1.000000 -1.000000 -1.000000 -1.000000   \n",
       "3577537              46747  0.003130  0.022940  0.000839  0.003134  0.001307   \n",
       "3577538              18331  0.038192 -1.000000 -1.000000 -1.000000 -1.000000   \n",
       "3577539               3141  0.005253  0.001820  0.001514  0.002756  0.002756   \n",
       "\n",
       "               pred_-36  pred_-35  pred_-34  pred_-33  ...   pred_30  \\\n",
       "TransactionID                                          ...             \n",
       "2987000       -1.000000 -1.000000 -1.000000 -1.000000  ... -1.000000   \n",
       "2987001        0.000741  0.012029  0.001162  0.001448  ... -1.000000   \n",
       "2987002        0.005041  0.001437  0.000707  0.006101  ... -1.000000   \n",
       "2987003        0.000889  0.000912  0.001205  0.001039  ... -1.000000   \n",
       "2987004       -1.000000 -1.000000 -1.000000 -1.000000  ... -1.000000   \n",
       "...                 ...       ...       ...       ...  ...       ...   \n",
       "3577535       -1.000000 -1.000000 -1.000000 -1.000000  ... -1.000000   \n",
       "3577536       -1.000000 -1.000000 -1.000000 -1.000000  ... -1.000000   \n",
       "3577537        0.004710  0.008165  0.005719  0.002745  ...  0.002601   \n",
       "3577538       -1.000000 -1.000000 -1.000000 -1.000000  ... -1.000000   \n",
       "3577539        0.002100  0.002494  0.004565  0.004708  ...  0.123165   \n",
       "\n",
       "                pred_31   pred_32   pred_33   pred_34   pred_35   pred_36  \\\n",
       "TransactionID                                                               \n",
       "2987000       -1.000000 -1.000000 -1.000000 -1.000000 -1.000000 -1.000000   \n",
       "2987001       -1.000000 -1.000000 -1.000000 -1.000000 -1.000000 -1.000000   \n",
       "2987002       -1.000000 -1.000000 -1.000000 -1.000000 -1.000000 -1.000000   \n",
       "2987003       -1.000000 -1.000000 -1.000000 -1.000000 -1.000000 -1.000000   \n",
       "2987004       -1.000000 -1.000000 -1.000000 -1.000000 -1.000000 -1.000000   \n",
       "...                 ...       ...       ...       ...       ...       ...   \n",
       "3577535       -1.000000 -1.000000 -1.000000 -1.000000 -1.000000 -1.000000   \n",
       "3577536       -1.000000 -1.000000 -1.000000 -1.000000 -1.000000 -1.000000   \n",
       "3577537        0.012045  0.001989  0.001560  0.001983  0.001599  0.005857   \n",
       "3577538       -1.000000 -1.000000 -1.000000 -1.000000 -1.000000 -1.000000   \n",
       "3577539        0.007860  0.049623  0.003291  0.031568  0.001143  0.003688   \n",
       "\n",
       "                pred_37   pred_38   pred_39  \n",
       "TransactionID                                \n",
       "2987000       -1.000000 -1.000000 -1.000000  \n",
       "2987001       -1.000000 -1.000000 -1.000000  \n",
       "2987002       -1.000000 -1.000000 -1.000000  \n",
       "2987003       -1.000000 -1.000000 -1.000000  \n",
       "2987004       -1.000000 -1.000000 -1.000000  \n",
       "...                 ...       ...       ...  \n",
       "3577535       -1.000000 -1.000000 -1.000000  \n",
       "3577536       -1.000000 -1.000000 -1.000000  \n",
       "3577537        0.001936  0.014402  0.002610  \n",
       "3577538       -1.000000 -1.000000 -1.000000  \n",
       "3577539        0.008729  0.004821  0.003245  \n",
       "\n",
       "[590540 rows x 81 columns]"
      ]
     },
     "execution_count": 18,
     "metadata": {},
     "output_type": "execute_result"
    }
   ],
   "source": [
    "X"
   ]
  },
  {
   "cell_type": "code",
   "execution_count": 19,
   "metadata": {
    "ExecuteTime": {
     "end_time": "2019-09-22T20:09:08.692517Z",
     "start_time": "2019-09-22T20:09:08.569570Z"
    }
   },
   "outputs": [],
   "source": [
    "categorical_features = [c for c, col in enumerate(X.columns) if col in ['new_card_id']]\n"
   ]
  },
  {
   "cell_type": "code",
   "execution_count": 24,
   "metadata": {
    "ExecuteTime": {
     "end_time": "2019-09-22T20:11:45.594169Z",
     "start_time": "2019-09-22T20:11:45.296136Z"
    }
   },
   "outputs": [],
   "source": [
    "params = {'num_leaves': 200,\n",
    "          'min_child_weight': 0.03454472573214212,\n",
    "          'feature_fraction': 0.3797454081646243,\n",
    "          'bagging_fraction': 0.4181193142567742,\n",
    "          'min_data_in_leaf': 106,\n",
    "          'objective': 'binary',\n",
    "          'max_depth': -1,\n",
    "          'max_bin': 50,\n",
    "          'learning_rate': 0.02,\n",
    "          \"boosting_type\": \"gbdt\",\n",
    "          \"bagging_seed\": 11,\n",
    "          \"metric\": 'auc',\n",
    "          \"verbosity\": -1,\n",
    "          'reg_alpha': 0.5899927210061127,\n",
    "          'reg_lambda': 0.8485237330340494,\n",
    "          'random_state': 47, \n",
    "          'categorical_feature': categorical_features,\n",
    "         }\n"
   ]
  },
  {
   "cell_type": "code",
   "execution_count": 25,
   "metadata": {
    "ExecuteTime": {
     "end_time": "2019-09-22T20:11:47.773080Z",
     "start_time": "2019-09-22T20:11:47.504255Z"
    }
   },
   "outputs": [],
   "source": [
    "from sklearn.model_selection import KFold\n",
    "n_fold = 5\n",
    "# folds = TimeSeriesSplit(n_splits=n_fold)\n",
    "folds = KFold(n_splits=5)"
   ]
  },
  {
   "cell_type": "code",
   "execution_count": 26,
   "metadata": {
    "ExecuteTime": {
     "end_time": "2019-09-22T20:11:49.856790Z",
     "start_time": "2019-09-22T20:11:49.567739Z"
    }
   },
   "outputs": [],
   "source": [
    "from BayDS.lib.training import *"
   ]
  },
  {
   "cell_type": "code",
   "execution_count": 27,
   "metadata": {
    "ExecuteTime": {
     "end_time": "2019-09-22T20:40:56.482463Z",
     "start_time": "2019-09-22T20:11:53.420640Z"
    }
   },
   "outputs": [
    {
     "name": "stdout",
     "output_type": "stream",
     "text": [
      "Fold 1 started at Sun Sep 22 23:11:53 2019\n",
      "Training until validation scores don't improve for 1000 rounds.\n",
      "[100]\ttraining's auc: 0.969329\ttraining's auc: 0.969328\tvalid_1's auc: 0.91521\tvalid_1's auc: 0.91521\n",
      "[200]\ttraining's auc: 0.977903\ttraining's auc: 0.977903\tvalid_1's auc: 0.918651\tvalid_1's auc: 0.918656\n",
      "[300]\ttraining's auc: 0.98284\ttraining's auc: 0.98284\tvalid_1's auc: 0.919468\tvalid_1's auc: 0.919466\n",
      "[400]\ttraining's auc: 0.985739\ttraining's auc: 0.985739\tvalid_1's auc: 0.919876\tvalid_1's auc: 0.919878\n",
      "[500]\ttraining's auc: 0.987801\ttraining's auc: 0.987801\tvalid_1's auc: 0.920242\tvalid_1's auc: 0.920246\n",
      "[600]\ttraining's auc: 0.989185\ttraining's auc: 0.989185\tvalid_1's auc: 0.920194\tvalid_1's auc: 0.92019\n",
      "[700]\ttraining's auc: 0.990299\ttraining's auc: 0.990298\tvalid_1's auc: 0.919914\tvalid_1's auc: 0.919914\n",
      "[800]\ttraining's auc: 0.991403\ttraining's auc: 0.991403\tvalid_1's auc: 0.919596\tvalid_1's auc: 0.919597\n",
      "[900]\ttraining's auc: 0.992121\ttraining's auc: 0.992122\tvalid_1's auc: 0.919192\tvalid_1's auc: 0.919191\n",
      "[1000]\ttraining's auc: 0.99286\ttraining's auc: 0.992861\tvalid_1's auc: 0.918863\tvalid_1's auc: 0.918862\n",
      "[1100]\ttraining's auc: 0.993492\ttraining's auc: 0.993492\tvalid_1's auc: 0.918197\tvalid_1's auc: 0.918197\n",
      "[1200]\ttraining's auc: 0.994075\ttraining's auc: 0.994075\tvalid_1's auc: 0.917664\tvalid_1's auc: 0.917664\n",
      "[1300]\ttraining's auc: 0.99456\ttraining's auc: 0.99456\tvalid_1's auc: 0.916942\tvalid_1's auc: 0.916941\n",
      "[1400]\ttraining's auc: 0.994923\ttraining's auc: 0.994923\tvalid_1's auc: 0.916413\tvalid_1's auc: 0.916413\n",
      "[1500]\ttraining's auc: 0.995305\ttraining's auc: 0.995305\tvalid_1's auc: 0.915739\tvalid_1's auc: 0.91574\n",
      "Early stopping, best iteration is:\n",
      "[515]\ttraining's auc: 0.988015\ttraining's auc: 0.988015\tvalid_1's auc: 0.920363\tvalid_1's auc: 0.92037\n",
      "Fold 2 started at Sun Sep 22 23:19:13 2019\n",
      "Training until validation scores don't improve for 1000 rounds.\n",
      "[100]\ttraining's auc: 0.967587\ttraining's auc: 0.967586\tvalid_1's auc: 0.936205\tvalid_1's auc: 0.936203\n",
      "[200]\ttraining's auc: 0.976733\ttraining's auc: 0.976734\tvalid_1's auc: 0.938455\tvalid_1's auc: 0.938454\n",
      "[300]\ttraining's auc: 0.981816\ttraining's auc: 0.981817\tvalid_1's auc: 0.937899\tvalid_1's auc: 0.937899\n",
      "[400]\ttraining's auc: 0.984766\ttraining's auc: 0.984768\tvalid_1's auc: 0.936797\tvalid_1's auc: 0.936798\n",
      "[500]\ttraining's auc: 0.986996\ttraining's auc: 0.986996\tvalid_1's auc: 0.935533\tvalid_1's auc: 0.935533\n",
      "[600]\ttraining's auc: 0.988606\ttraining's auc: 0.988606\tvalid_1's auc: 0.933998\tvalid_1's auc: 0.933997\n",
      "[700]\ttraining's auc: 0.989908\ttraining's auc: 0.989907\tvalid_1's auc: 0.932598\tvalid_1's auc: 0.932598\n",
      "[800]\ttraining's auc: 0.990834\ttraining's auc: 0.990834\tvalid_1's auc: 0.93084\tvalid_1's auc: 0.93084\n",
      "[900]\ttraining's auc: 0.991682\ttraining's auc: 0.991682\tvalid_1's auc: 0.929505\tvalid_1's auc: 0.929504\n",
      "[1000]\ttraining's auc: 0.992458\ttraining's auc: 0.992458\tvalid_1's auc: 0.927896\tvalid_1's auc: 0.927896\n",
      "[1100]\ttraining's auc: 0.993126\ttraining's auc: 0.993126\tvalid_1's auc: 0.926413\tvalid_1's auc: 0.926413\n",
      "[1200]\ttraining's auc: 0.993752\ttraining's auc: 0.993752\tvalid_1's auc: 0.924901\tvalid_1's auc: 0.924901\n",
      "Early stopping, best iteration is:\n",
      "[243]\ttraining's auc: 0.979199\ttraining's auc: 0.9792\tvalid_1's auc: 0.938863\tvalid_1's auc: 0.938863\n",
      "Fold 3 started at Sun Sep 22 23:24:52 2019\n",
      "Training until validation scores don't improve for 1000 rounds.\n",
      "[100]\ttraining's auc: 0.968152\ttraining's auc: 0.968153\tvalid_1's auc: 0.933771\tvalid_1's auc: 0.933773\n",
      "[200]\ttraining's auc: 0.9771\ttraining's auc: 0.977098\tvalid_1's auc: 0.935717\tvalid_1's auc: 0.935718\n",
      "[300]\ttraining's auc: 0.982081\ttraining's auc: 0.982082\tvalid_1's auc: 0.93576\tvalid_1's auc: 0.935761\n",
      "[400]\ttraining's auc: 0.985154\ttraining's auc: 0.985154\tvalid_1's auc: 0.93526\tvalid_1's auc: 0.935259\n",
      "[500]\ttraining's auc: 0.987255\ttraining's auc: 0.987255\tvalid_1's auc: 0.934697\tvalid_1's auc: 0.934697\n",
      "[600]\ttraining's auc: 0.988733\ttraining's auc: 0.988733\tvalid_1's auc: 0.934289\tvalid_1's auc: 0.93429\n",
      "[700]\ttraining's auc: 0.989923\ttraining's auc: 0.989923\tvalid_1's auc: 0.933664\tvalid_1's auc: 0.933665\n",
      "[800]\ttraining's auc: 0.990886\ttraining's auc: 0.990886\tvalid_1's auc: 0.932737\tvalid_1's auc: 0.932736\n",
      "[900]\ttraining's auc: 0.991677\ttraining's auc: 0.991677\tvalid_1's auc: 0.932028\tvalid_1's auc: 0.932029\n",
      "[1000]\ttraining's auc: 0.992477\ttraining's auc: 0.992477\tvalid_1's auc: 0.93127\tvalid_1's auc: 0.93127\n",
      "[1100]\ttraining's auc: 0.993116\ttraining's auc: 0.993116\tvalid_1's auc: 0.930419\tvalid_1's auc: 0.93042\n",
      "[1200]\ttraining's auc: 0.993697\ttraining's auc: 0.993697\tvalid_1's auc: 0.929658\tvalid_1's auc: 0.929658\n",
      "Early stopping, best iteration is:\n",
      "[243]\ttraining's auc: 0.979456\ttraining's auc: 0.979456\tvalid_1's auc: 0.936165\tvalid_1's auc: 0.936165\n",
      "Fold 4 started at Sun Sep 22 23:30:31 2019\n",
      "Training until validation scores don't improve for 1000 rounds.\n",
      "[100]\ttraining's auc: 0.9658\ttraining's auc: 0.965801\tvalid_1's auc: 0.951052\tvalid_1's auc: 0.951049\n",
      "[200]\ttraining's auc: 0.974952\ttraining's auc: 0.974952\tvalid_1's auc: 0.952058\tvalid_1's auc: 0.952057\n",
      "[300]\ttraining's auc: 0.980276\ttraining's auc: 0.980277\tvalid_1's auc: 0.951322\tvalid_1's auc: 0.951321\n",
      "[400]\ttraining's auc: 0.983579\ttraining's auc: 0.983579\tvalid_1's auc: 0.950234\tvalid_1's auc: 0.950233\n",
      "[500]\ttraining's auc: 0.986044\ttraining's auc: 0.986044\tvalid_1's auc: 0.949264\tvalid_1's auc: 0.949263\n",
      "[600]\ttraining's auc: 0.987712\ttraining's auc: 0.987711\tvalid_1's auc: 0.948235\tvalid_1's auc: 0.948236\n",
      "[700]\ttraining's auc: 0.98906\ttraining's auc: 0.98906\tvalid_1's auc: 0.947251\tvalid_1's auc: 0.94725\n",
      "[800]\ttraining's auc: 0.990149\ttraining's auc: 0.990149\tvalid_1's auc: 0.946069\tvalid_1's auc: 0.946068\n",
      "[900]\ttraining's auc: 0.991031\ttraining's auc: 0.991032\tvalid_1's auc: 0.945045\tvalid_1's auc: 0.945045\n",
      "[1000]\ttraining's auc: 0.991794\ttraining's auc: 0.991794\tvalid_1's auc: 0.943973\tvalid_1's auc: 0.943973\n",
      "[1100]\ttraining's auc: 0.99244\ttraining's auc: 0.99244\tvalid_1's auc: 0.942789\tvalid_1's auc: 0.942789\n",
      "[1200]\ttraining's auc: 0.993102\ttraining's auc: 0.993102\tvalid_1's auc: 0.941637\tvalid_1's auc: 0.941637\n",
      "Early stopping, best iteration is:\n",
      "[232]\ttraining's auc: 0.976861\ttraining's auc: 0.97686\tvalid_1's auc: 0.95226\tvalid_1's auc: 0.95226\n",
      "Fold 5 started at Sun Sep 22 23:36:08 2019\n",
      "Training until validation scores don't improve for 1000 rounds.\n",
      "[100]\ttraining's auc: 0.968455\ttraining's auc: 0.968453\tvalid_1's auc: 0.935404\tvalid_1's auc: 0.935408\n",
      "[200]\ttraining's auc: 0.977546\ttraining's auc: 0.977546\tvalid_1's auc: 0.935401\tvalid_1's auc: 0.935401\n",
      "[300]\ttraining's auc: 0.982469\ttraining's auc: 0.98247\tvalid_1's auc: 0.933981\tvalid_1's auc: 0.933981\n",
      "[400]\ttraining's auc: 0.9854\ttraining's auc: 0.985399\tvalid_1's auc: 0.932375\tvalid_1's auc: 0.932375\n",
      "[500]\ttraining's auc: 0.987516\ttraining's auc: 0.987516\tvalid_1's auc: 0.930889\tvalid_1's auc: 0.93089\n",
      "[600]\ttraining's auc: 0.989048\ttraining's auc: 0.989047\tvalid_1's auc: 0.929842\tvalid_1's auc: 0.929844\n",
      "[700]\ttraining's auc: 0.990252\ttraining's auc: 0.990252\tvalid_1's auc: 0.928732\tvalid_1's auc: 0.928733\n",
      "[800]\ttraining's auc: 0.991267\ttraining's auc: 0.991268\tvalid_1's auc: 0.927365\tvalid_1's auc: 0.927365\n",
      "[900]\ttraining's auc: 0.992124\ttraining's auc: 0.992124\tvalid_1's auc: 0.926193\tvalid_1's auc: 0.926192\n",
      "[1000]\ttraining's auc: 0.992866\ttraining's auc: 0.992867\tvalid_1's auc: 0.924941\tvalid_1's auc: 0.924941\n",
      "Early stopping, best iteration is:\n",
      "[16]\ttraining's auc: 0.957766\ttraining's auc: 0.957765\tvalid_1's auc: 0.936379\tvalid_1's auc: 0.93638\n",
      "CV mean score: 0.9368, std: 0.0101.\n"
     ]
    },
    {
     "data": {
      "image/png": "[encoded data removed]",
      "text/plain": [
       "<Figure size 1152x864 with 1 Axes>"
      ]
     },
     "metadata": {
      "needs_background": "light"
     },
     "output_type": "display_data"
    }
   ],
   "source": [
    "result_dict_lgb = train_model_classification(X=X, X_test=test, y=y, params=params, folds=folds, model_type='lgb', eval_metric='auc', plot_feature_importance=True,\n",
    "                                                      verbose=100, early_stopping_rounds=1000, n_estimators=5000, averaging='usual', groups=None)"
   ]
  },
  {
   "cell_type": "code",
   "execution_count": 28,
   "metadata": {
    "ExecuteTime": {
     "end_time": "2019-09-23T05:03:58.800803Z",
     "start_time": "2019-09-23T05:03:58.489797Z"
    }
   },
   "outputs": [],
   "source": [
    "import pickle\n",
    "pickle.dump(result_dict_lgb, open(f'{p.working_folder}/results_dict_lgbm_40.pkl','wb'))"
   ]
  },
  {
   "cell_type": "code",
   "execution_count": 29,
   "metadata": {
    "ExecuteTime": {
     "end_time": "2019-09-23T05:04:00.888489Z",
     "start_time": "2019-09-23T05:04:00.621482Z"
    }
   },
   "outputs": [],
   "source": [
    "# test = test.sort_values('Date')\n",
    "test['prediction'] = result_dict_lgb['prediction']"
   ]
  },
  {
   "cell_type": "code",
   "execution_count": 30,
   "metadata": {
    "ExecuteTime": {
     "end_time": "2019-09-23T05:04:05.372293Z",
     "start_time": "2019-09-23T05:04:02.742104Z"
    }
   },
   "outputs": [],
   "source": [
    "# folder_path = './data/'\n",
    "sub = pd.read_csv(f'{data_path}/sample_submission.csv')\n",
    "sub['isFraud'] = pd.merge(sub, test['prediction'], on='TransactionID')['prediction']\n",
    "sub.to_csv(f'{p.working_folder}/submission_dynamic_lgbm_40.csv', index=False)"
   ]
  }
 ],
 "metadata": {
  "kernelspec": {
   "display_name": "Python 3",
   "language": "python",
   "name": "python3"
  },
  "language_info": {
   "codemirror_mode": {
    "name": "ipython",
    "version": 3
   },
   "file_extension": ".py",
   "mimetype": "text/x-python",
   "name": "python",
   "nbconvert_exporter": "python",
   "pygments_lexer": "ipython3",
   "version": "3.7.4"
  },
  "toc": {
   "base_numbering": 1,
   "nav_menu": {},
   "number_sections": true,
   "sideBar": true,
   "skip_h1_title": false,
   "title_cell": "Table of Contents",
   "title_sidebar": "Contents",
   "toc_cell": false,
   "toc_position": {},
   "toc_section_display": true,
   "toc_window_display": false
  },
  "varInspector": {
   "cols": {
    "lenName": 16,
    "lenType": 16,
    "lenVar": 40
   },
   "kernels_config": {
    "python": {
     "delete_cmd_postfix": "",
     "delete_cmd_prefix": "del ",
     "library": "var_list.py",
     "varRefreshCmd": "print(var_dic_list())"
    },
    "r": {
     "delete_cmd_postfix": ") ",
     "delete_cmd_prefix": "rm(",
     "library": "var_list.r",
     "varRefreshCmd": "cat(var_dic_list()) "
    }
   },
   "types_to_exclude": [
    "module",
    "function",
    "builtin_function_or_method",
    "instance",
    "_Feature"
   ],
   "window_display": false
  }
 },
 "nbformat": 4,
 "nbformat_minor": 2
}
