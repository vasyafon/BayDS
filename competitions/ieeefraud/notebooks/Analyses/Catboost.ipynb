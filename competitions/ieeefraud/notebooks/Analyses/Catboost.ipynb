{
 "cells": [
  {
   "cell_type": "code",
   "execution_count": 1,
   "metadata": {
    "ExecuteTime": {
     "end_time": "2019-09-29T16:46:34.217582Z",
     "start_time": "2019-09-29T16:46:30.166898Z"
    }
   },
   "outputs": [],
   "source": [
    "%load_ext autoreload\n",
    "%autoreload 2\n",
    "main_dir = r'../../..'\n",
    "data_path = main_dir+'/data'\n",
    "import sys\n",
    "sys.path.append(main_dir)\n",
    "from typing import List, Set, Dict, Optional, Any, Tuple, Type, Union\n",
    "\n",
    "from BayDS.lib.pipeline import *\n",
    "from BayDS.lib.io import *\n",
    "\n",
    "import os\n"
   ]
  },
  {
   "cell_type": "code",
   "execution_count": 2,
   "metadata": {
    "ExecuteTime": {
     "end_time": "2019-09-29T16:10:16.399974Z",
     "start_time": "2019-09-29T16:10:07.798093Z"
    }
   },
   "outputs": [
    {
     "name": "stdout",
     "output_type": "stream",
     "text": [
      "---------------------------\n",
      "0: LoaderNode [2019-09-29 19:10:07]\n",
      "params:\n",
      " {'input_directory': '../../../Snapshots/1/05-LabelEncoded-last', 'file': 'label_encoded_data.pkl'}\n",
      "---------------------------\n",
      "1: LoaderNode [2019-09-29 19:10:16]\n",
      "params:\n",
      " {'input_directory': '../../../Snapshots/1/05-LabelEncoded-last', 'file': 'numerical_columns.yaml'}\n",
      "---------------------------\n",
      "2: LoaderNode [2019-09-29 19:10:16]\n",
      "params:\n",
      " {'input_directory': '../../../Snapshots/1/05-LabelEncoded-last', 'file': 'categorical_columns.yaml'}\n",
      "---------------------------\n",
      "3: LoaderNode [2019-09-29 19:10:16]\n",
      "params:\n",
      " {'input_directory': '../../../Snapshots/1/05-LabelEncoded-last', 'file': 'bad_for_training_features.yaml'}\n"
     ]
    }
   ],
   "source": [
    "data_dir = f'{main_dir}/Snapshots/1/05-LabelEncoded-last'\n",
    "p = Pipeline(working_folder=f'{main_dir}/Snapshots/1/Catboost')\n",
    "\n",
    "p.add_node(LoaderNode, None, 'data',\n",
    "           params={\n",
    "               'input_directory': data_dir,\n",
    "               'file': 'label_encoded_data.pkl'\n",
    "           })\n",
    "p.add_node(LoaderNode, None, 'numerical_columns',\n",
    "           params={\n",
    "               'input_directory': data_dir,\n",
    "               'file': 'numerical_columns.yaml'\n",
    "           })\n",
    "p.add_node(LoaderNode, None, 'categorical_columns',\n",
    "           params={\n",
    "               'input_directory': data_dir,\n",
    "               'file': 'categorical_columns.yaml'\n",
    "           })\n",
    "p.add_node(LoaderNode, None, 'bad_for_training_features',\n",
    "           params={\n",
    "               'input_directory': data_dir,\n",
    "               'file': 'bad_for_training_features.yaml'\n",
    "           })\n",
    "p.save()\n",
    "p.run(verbose=True)\n",
    "\n",
    "bad_features = p.data['bad_for_training_features']\n",
    "\n",
    "if 'isFraud' in bad_features:\n",
    "    bad_features.remove('isFraud')\n",
    "\n",
    "p.save()\n"
   ]
  },
  {
   "cell_type": "markdown",
   "metadata": {
    "ExecuteTime": {
     "end_time": "2019-09-22T12:47:29.055553Z",
     "start_time": "2019-09-22T12:47:28.933527Z"
    }
   },
   "source": [
    "## Code to make pipeline node"
   ]
  },
  {
   "cell_type": "code",
   "execution_count": 4,
   "metadata": {
    "ExecuteTime": {
     "end_time": "2019-09-29T16:12:24.486510Z",
     "start_time": "2019-09-29T16:12:01.076819Z"
    }
   },
   "outputs": [],
   "source": [
    "# df = p.data['data']\n",
    "train = p.data['data'][p.data['data'].isFraud >= 0]\n",
    "test =  p.data['data'][p.data['data'].isFraud < 0]\n",
    "\n",
    "\n",
    "X = train.drop('isFraud',axis=1)\n",
    "y = train['isFraud']\n",
    "\n",
    "test =  test.drop('isFraud',axis=1)\n",
    "\n",
    "X.replace(np.inf, np.nan, inplace=True)\n",
    "X.replace(-np.inf, np.nan, inplace=True)\n",
    "test.replace(np.inf, np.nan, inplace=True)\n",
    "test.replace(-np.inf, np.nan, inplace=True)\n",
    "\n",
    "# categorical_features = [c for c, col in enumerate(X.columns) if col in p.data['categorical_columns']]\n",
    "\n",
    "p.data = None\n",
    "train_idx = train.index\n",
    "del train\n",
    "gc.collect()\n",
    "\n",
    "for col in X.columns:\n",
    "    if str(X[col].dtype) == 'datetime64[ns]':\n",
    "        print (col, X[col].dtype)\n",
    "        X[col] = pd.to_timedelta(X[col]).map(lambda qq:qq.days)\n",
    "        test[col] = pd.to_timedelta(test[col]).map(lambda qq:qq.days)\n",
    "#         X[col] = X[col].astype(datetime.datetime)\n",
    "\n",
    "for col in X.columns:\n",
    "    if X[col].dtype == np.float64:\n",
    "        print (col)\n",
    "        X[col] = X[col].astype(np.float32)\n",
    "        test[col] = test[col].astype(np.float32)\n",
    "#         test[col] = pd.to_timedelta(test[col]).map(lambda qq:qq.days)\n",
    "#         X[col] = X[col].astype(datetime.datetime)\n",
    "\n",
    "X.to_pickle(r'e:\\Kaggle\\temp\\X.pkl')\n",
    "test.to_pickle(r'e:\\Kaggle\\temp\\test.pkl')\n",
    "y.to_pickle(r'e:\\Kaggle\\temp\\y.pkl')"
   ]
  },
  {
   "cell_type": "code",
   "execution_count": 2,
   "metadata": {
    "ExecuteTime": {
     "end_time": "2019-09-29T16:46:51.539385Z",
     "start_time": "2019-09-29T16:46:35.706608Z"
    }
   },
   "outputs": [],
   "source": [
    "X = pd.read_pickle(r'e:\\Kaggle\\temp\\X.pkl')\n",
    "test= pd.read_pickle(r'e:\\Kaggle\\temp\\test.pkl')\n",
    "y= pd.read_pickle(r'e:\\Kaggle\\temp\\y.pkl')"
   ]
  },
  {
   "cell_type": "code",
   "execution_count": 3,
   "metadata": {
    "ExecuteTime": {
     "end_time": "2019-09-29T16:46:54.414514Z",
     "start_time": "2019-09-29T16:46:54.264467Z"
    }
   },
   "outputs": [],
   "source": [
    "from sklearn.model_selection import GroupKFold\n",
    "\n",
    "NFOLDS = 6\n",
    "folds = GroupKFold(n_splits=NFOLDS)\n"
   ]
  },
  {
   "cell_type": "code",
   "execution_count": 4,
   "metadata": {
    "ExecuteTime": {
     "end_time": "2019-09-29T16:46:57.314526Z",
     "start_time": "2019-09-29T16:46:57.072523Z"
    }
   },
   "outputs": [],
   "source": [
    "import yaml\n",
    "categorical_features = yaml.load(open(r'd:\\Documents\\Private\\Kaggle\\Baydin\\Snapshots\\1\\05-LabelEncoded-last\\categorical_columns.yaml','r'),Loader=yaml.FullLoader)\n",
    "numerical_features = yaml.load(open(r'd:\\Documents\\Private\\Kaggle\\Baydin\\Snapshots\\1\\05-LabelEncoded-last\\numerical_columns.yaml','r'),Loader=yaml.FullLoader)\n",
    "bad_features = yaml.load(open(r'd:\\Documents\\Private\\Kaggle\\Baydin\\Snapshots\\1\\05-LabelEncoded-last\\bad_for_training_features.yaml','r'),Loader=yaml.FullLoader)\n",
    "\n",
    "categorical_features = [f for f in categorical_features if f not in bad_features]\n",
    "all_features =  [f for f in X.columns if f not in bad_features]"
   ]
  },
  {
   "cell_type": "code",
   "execution_count": 5,
   "metadata": {
    "ExecuteTime": {
     "end_time": "2019-09-29T16:47:04.981596Z",
     "start_time": "2019-09-29T16:47:00.107575Z"
    }
   },
   "outputs": [
    {
     "name": "stderr",
     "output_type": "stream",
     "text": [
      "Using TensorFlow backend.\n",
      "c:\\python37\\lib\\site-packages\\tensorflow\\python\\framework\\dtypes.py:516: FutureWarning: Passing (type, 1) or '1type' as a synonym of type is deprecated; in a future version of numpy, it will be understood as (type, (1,)) / '(1,)type'.\n",
      "  _np_qint8 = np.dtype([(\"qint8\", np.int8, 1)])\n",
      "c:\\python37\\lib\\site-packages\\tensorflow\\python\\framework\\dtypes.py:517: FutureWarning: Passing (type, 1) or '1type' as a synonym of type is deprecated; in a future version of numpy, it will be understood as (type, (1,)) / '(1,)type'.\n",
      "  _np_quint8 = np.dtype([(\"quint8\", np.uint8, 1)])\n",
      "c:\\python37\\lib\\site-packages\\tensorflow\\python\\framework\\dtypes.py:518: FutureWarning: Passing (type, 1) or '1type' as a synonym of type is deprecated; in a future version of numpy, it will be understood as (type, (1,)) / '(1,)type'.\n",
      "  _np_qint16 = np.dtype([(\"qint16\", np.int16, 1)])\n",
      "c:\\python37\\lib\\site-packages\\tensorflow\\python\\framework\\dtypes.py:519: FutureWarning: Passing (type, 1) or '1type' as a synonym of type is deprecated; in a future version of numpy, it will be understood as (type, (1,)) / '(1,)type'.\n",
      "  _np_quint16 = np.dtype([(\"quint16\", np.uint16, 1)])\n",
      "c:\\python37\\lib\\site-packages\\tensorflow\\python\\framework\\dtypes.py:520: FutureWarning: Passing (type, 1) or '1type' as a synonym of type is deprecated; in a future version of numpy, it will be understood as (type, (1,)) / '(1,)type'.\n",
      "  _np_qint32 = np.dtype([(\"qint32\", np.int32, 1)])\n",
      "c:\\python37\\lib\\site-packages\\tensorflow\\python\\framework\\dtypes.py:525: FutureWarning: Passing (type, 1) or '1type' as a synonym of type is deprecated; in a future version of numpy, it will be understood as (type, (1,)) / '(1,)type'.\n",
      "  np_resource = np.dtype([(\"resource\", np.ubyte, 1)])\n",
      "c:\\python37\\lib\\site-packages\\tensorboard\\compat\\tensorflow_stub\\dtypes.py:541: FutureWarning: Passing (type, 1) or '1type' as a synonym of type is deprecated; in a future version of numpy, it will be understood as (type, (1,)) / '(1,)type'.\n",
      "  _np_qint8 = np.dtype([(\"qint8\", np.int8, 1)])\n",
      "c:\\python37\\lib\\site-packages\\tensorboard\\compat\\tensorflow_stub\\dtypes.py:542: FutureWarning: Passing (type, 1) or '1type' as a synonym of type is deprecated; in a future version of numpy, it will be understood as (type, (1,)) / '(1,)type'.\n",
      "  _np_quint8 = np.dtype([(\"quint8\", np.uint8, 1)])\n",
      "c:\\python37\\lib\\site-packages\\tensorboard\\compat\\tensorflow_stub\\dtypes.py:543: FutureWarning: Passing (type, 1) or '1type' as a synonym of type is deprecated; in a future version of numpy, it will be understood as (type, (1,)) / '(1,)type'.\n",
      "  _np_qint16 = np.dtype([(\"qint16\", np.int16, 1)])\n",
      "c:\\python37\\lib\\site-packages\\tensorboard\\compat\\tensorflow_stub\\dtypes.py:544: FutureWarning: Passing (type, 1) or '1type' as a synonym of type is deprecated; in a future version of numpy, it will be understood as (type, (1,)) / '(1,)type'.\n",
      "  _np_quint16 = np.dtype([(\"quint16\", np.uint16, 1)])\n",
      "c:\\python37\\lib\\site-packages\\tensorboard\\compat\\tensorflow_stub\\dtypes.py:545: FutureWarning: Passing (type, 1) or '1type' as a synonym of type is deprecated; in a future version of numpy, it will be understood as (type, (1,)) / '(1,)type'.\n",
      "  _np_qint32 = np.dtype([(\"qint32\", np.int32, 1)])\n",
      "c:\\python37\\lib\\site-packages\\tensorboard\\compat\\tensorflow_stub\\dtypes.py:550: FutureWarning: Passing (type, 1) or '1type' as a synonym of type is deprecated; in a future version of numpy, it will be understood as (type, (1,)) / '(1,)type'.\n",
      "  np_resource = np.dtype([(\"resource\", np.ubyte, 1)])\n"
     ]
    }
   ],
   "source": [
    "from BayDS.lib.training import *"
   ]
  },
  {
   "cell_type": "code",
   "execution_count": null,
   "metadata": {},
   "outputs": [],
   "source": [
    "# nans_groups = {}\n",
    "# temp_df = train.isna()\n",
    "# temp_df2 = test.isna()\n",
    "\n",
    "# nans_df = pd.concat([temp_df, temp_df2])\n",
    "\n",
    "# for col in list(nans_df):\n",
    "#     cur_group = nans_df[col].sum()\n",
    "#     if cur_group>0:\n",
    "#         try:\n",
    "#             nans_groups[cur_group].append(col)\n",
    "#         except:\n",
    "#             nans_groups[cur_group]=[col]\n",
    "\n",
    "# add_category = []\n",
    "# for col in nans_groups:\n",
    "#     if len(nans_groups[col])>1:\n",
    "#         train['nan_group_'+str(col)] = np.where(temp_df[nans_groups[col]].sum(axis=1)>0,1,0).astype(np.int8)\n",
    "#         test['nan_group_'+str(col)]  = np.where(temp_df2[nans_groups[col]].sum(axis=1)>0,1,0).astype(np.int8)\n",
    "#         add_category.append('nan_group_'+str(col))"
   ]
  },
  {
   "cell_type": "code",
   "execution_count": 24,
   "metadata": {
    "ExecuteTime": {
     "end_time": "2019-09-29T16:40:59.626724Z",
     "start_time": "2019-09-29T16:39:00.070556Z"
    },
    "collapsed": true
   },
   "outputs": [
    {
     "name": "stdout",
     "output_type": "stream",
     "text": [
      "Column: BrowserAge  | Dominator: -999.0\n",
      "Column: card3_global_count  | Dominator: 956845\n",
      "Column: D6_global_count  | Dominator: 899261\n",
      "Column: D7_global_count  | Dominator: 998181\n",
      "Column: D8_global_count  | Dominator: 947967\n",
      "Column: D9_global_count  | Dominator: 947967\n",
      "Column: D12_global_count  | Dominator: 963260\n",
      "Column: D13_global_count  | Dominator: 911895\n",
      "Column: D14_global_count  | Dominator: 919850\n",
      "Column: C3_global_count  | Dominator: 1081890\n",
      "Column: C7_global_count  | Dominator: 961237\n",
      "Column: device_version_global_count  | Dominator: -999.0\n",
      "Column: id_30_global_count  | Dominator: 949007\n",
      "Column: id_33_global_count  | Dominator: 953271\n",
      "Column: OS_global_count  | Dominator: 949007\n",
      "Column: OSVersion_global_count  | Dominator: 949007\n",
      "Column: addr2_global_count  | Dominator: 956415\n",
      "Column: dist2_global_count  | Dominator: 1023168\n",
      "Column: id_14_global_count  | Dominator: 945830\n",
      "Column: id_18_global_count  | Dominator: 1001243\n",
      "Column: id_21_global_count  | Dominator: 1087013\n",
      "Column: id_22_global_count  | Dominator: 1087000\n",
      "Column: id_23_global_count  | Dominator: 1087000\n",
      "Column: id_24_global_count  | Dominator: 1087744\n",
      "Column: id_25_global_count  | Dominator: 1087060\n",
      "Column: id_26_global_count  | Dominator: 1087021\n",
      "Column: id_27_global_count  | Dominator: 1087000\n",
      "Column: id_32_global_count  | Dominator: 948974\n",
      "Column: id_34_global_count  | Dominator: 947251\n",
      "Column: D6_to_mean_groupby_uid  | Dominator: -999.0\n",
      "Column: D6_to_std_groupby_uid  | Dominator: 0.0\n",
      "Column: D6_to_minmax_groupby_uid  | Dominator: 0.0\n",
      "Column: D6_to_stdscore_groupby_uid  | Dominator: 0.0\n",
      "Column: D7_to_mean_groupby_uid  | Dominator: -999.0\n",
      "Column: D7_to_std_groupby_uid  | Dominator: 0.0\n",
      "Column: D7_to_minmax_groupby_uid  | Dominator: 0.0\n",
      "Column: D7_to_stdscore_groupby_uid  | Dominator: 0.0\n",
      "Column: D8_to_minmax_groupby_uid  | Dominator: 0.0\n",
      "Column: D9_to_mean_groupby_uid  | Dominator: -999.0\n",
      "Column: D9_to_std_groupby_uid  | Dominator: 0.0\n",
      "Column: D9_to_minmax_groupby_uid  | Dominator: 0.0\n",
      "Column: D9_to_stdscore_groupby_uid  | Dominator: 0.0\n",
      "Column: D12_to_mean_groupby_uid  | Dominator: -999.0\n",
      "Column: D12_to_std_groupby_uid  | Dominator: 0.0\n",
      "Column: D12_to_minmax_groupby_uid  | Dominator: 0.0\n",
      "Column: D12_to_stdscore_groupby_uid  | Dominator: 0.0\n",
      "Column: D13_to_mean_groupby_uid  | Dominator: -999.0\n",
      "Column: D13_to_std_groupby_uid  | Dominator: 0.0\n",
      "Column: D13_to_minmax_groupby_uid  | Dominator: 0.0\n",
      "Column: D13_to_stdscore_groupby_uid  | Dominator: 0.0\n",
      "Column: D14_to_mean_groupby_uid  | Dominator: -999.0\n",
      "Column: D14_to_std_groupby_uid  | Dominator: 0.0\n",
      "Column: D14_to_minmax_groupby_uid  | Dominator: 0.0\n",
      "Column: D14_to_stdscore_groupby_uid  | Dominator: 0.0\n",
      "Column: D6_to_mean_groupby_uid2  | Dominator: -999.0\n",
      "Column: D6_to_std_groupby_uid2  | Dominator: 0.0\n",
      "Column: D6_to_minmax_groupby_uid2  | Dominator: 0.0\n",
      "Column: D6_to_stdscore_groupby_uid2  | Dominator: 0.0\n",
      "Column: D7_to_mean_groupby_uid2  | Dominator: -999.0\n",
      "Column: D7_to_std_groupby_uid2  | Dominator: 0.0\n",
      "Column: D7_to_minmax_groupby_uid2  | Dominator: 0.0\n",
      "Column: D7_to_stdscore_groupby_uid2  | Dominator: 0.0\n",
      "Column: D8_to_minmax_groupby_uid2  | Dominator: 0.0\n",
      "Column: D9_to_mean_groupby_uid2  | Dominator: -999.0\n",
      "Column: D9_to_std_groupby_uid2  | Dominator: 0.0\n",
      "Column: D9_to_minmax_groupby_uid2  | Dominator: 0.0\n",
      "Column: D9_to_stdscore_groupby_uid2  | Dominator: 0.0\n",
      "Column: D12_to_mean_groupby_uid2  | Dominator: -999.0\n",
      "Column: D12_to_std_groupby_uid2  | Dominator: 0.0\n",
      "Column: D12_to_minmax_groupby_uid2  | Dominator: 0.0\n",
      "Column: D12_to_stdscore_groupby_uid2  | Dominator: 0.0\n",
      "Column: D13_to_mean_groupby_uid2  | Dominator: -999.0\n",
      "Column: D13_to_std_groupby_uid2  | Dominator: 0.0\n",
      "Column: D13_to_minmax_groupby_uid2  | Dominator: 0.0\n",
      "Column: D13_to_stdscore_groupby_uid2  | Dominator: 0.0\n",
      "Column: D14_to_mean_groupby_uid2  | Dominator: -999.0\n",
      "Column: D14_to_std_groupby_uid2  | Dominator: 0.0\n",
      "Column: D14_to_minmax_groupby_uid2  | Dominator: 0.0\n",
      "Column: D14_to_stdscore_groupby_uid2  | Dominator: 0.0\n",
      "Column: D6_to_mean_groupby_uid3  | Dominator: -999.0\n",
      "Column: D6_to_std_groupby_uid3  | Dominator: 0.0\n",
      "Column: D6_to_minmax_groupby_uid3  | Dominator: 0.0\n",
      "Column: D6_to_stdscore_groupby_uid3  | Dominator: 0.0\n",
      "Column: D7_to_mean_groupby_uid3  | Dominator: -999.0\n",
      "Column: D7_to_std_groupby_uid3  | Dominator: 0.0\n",
      "Column: D7_to_minmax_groupby_uid3  | Dominator: 0.0\n",
      "Column: D7_to_stdscore_groupby_uid3  | Dominator: 0.0\n",
      "Column: D8_to_minmax_groupby_uid3  | Dominator: 0.0\n",
      "Column: D9_to_mean_groupby_uid3  | Dominator: -999.0\n",
      "Column: D9_to_std_groupby_uid3  | Dominator: 0.0\n",
      "Column: D9_to_minmax_groupby_uid3  | Dominator: 0.0\n",
      "Column: D9_to_stdscore_groupby_uid3  | Dominator: 0.0\n",
      "Column: D12_to_mean_groupby_uid3  | Dominator: -999.0\n",
      "Column: D12_to_std_groupby_uid3  | Dominator: 0.0\n",
      "Column: D12_to_minmax_groupby_uid3  | Dominator: 0.0\n",
      "Column: D12_to_stdscore_groupby_uid3  | Dominator: 0.0\n"
     ]
    },
    {
     "ename": "KeyboardInterrupt",
     "evalue": "",
     "output_type": "error",
     "traceback": [
      "\u001b[1;31m---------------------------------------------------------------------------\u001b[0m",
      "\u001b[1;31mKeyboardInterrupt\u001b[0m                         Traceback (most recent call last)",
      "\u001b[1;32m<ipython-input-24-f04fe22aaf79>\u001b[0m in \u001b[0;36m<module>\u001b[1;34m\u001b[0m\n\u001b[0;32m      6\u001b[0m             \u001b[0mcur_dominator\u001b[0m \u001b[1;33m=\u001b[0m \u001b[0mX\u001b[0m\u001b[1;33m[\u001b[0m\u001b[0mcol\u001b[0m\u001b[1;33m]\u001b[0m\u001b[1;33m.\u001b[0m\u001b[0mfillna\u001b[0m\u001b[1;33m(\u001b[0m\u001b[1;33m-\u001b[0m\u001b[1;36m999\u001b[0m\u001b[1;33m)\u001b[0m\u001b[1;33m.\u001b[0m\u001b[0mvalue_counts\u001b[0m\u001b[1;33m(\u001b[0m\u001b[1;33m)\u001b[0m\u001b[1;33m.\u001b[0m\u001b[0mindex\u001b[0m\u001b[1;33m[\u001b[0m\u001b[1;36m0\u001b[0m\u001b[1;33m]\u001b[0m\u001b[1;33m\u001b[0m\u001b[1;33m\u001b[0m\u001b[0m\n\u001b[0;32m      7\u001b[0m             \u001b[0mprint\u001b[0m\u001b[1;33m(\u001b[0m\u001b[1;34m'Column:'\u001b[0m\u001b[1;33m,\u001b[0m \u001b[0mcol\u001b[0m\u001b[1;33m,\u001b[0m \u001b[1;34m' | Dominator:'\u001b[0m\u001b[1;33m,\u001b[0m \u001b[0mcur_dominator\u001b[0m\u001b[1;33m)\u001b[0m\u001b[1;33m\u001b[0m\u001b[1;33m\u001b[0m\u001b[0m\n\u001b[1;32m----> 8\u001b[1;33m             \u001b[0mX\u001b[0m\u001b[1;33m[\u001b[0m\u001b[0mcol\u001b[0m\u001b[1;33m]\u001b[0m \u001b[1;33m=\u001b[0m \u001b[0mnp\u001b[0m\u001b[1;33m.\u001b[0m\u001b[0mwhere\u001b[0m\u001b[1;33m(\u001b[0m\u001b[0mX\u001b[0m\u001b[1;33m[\u001b[0m\u001b[0mcol\u001b[0m\u001b[1;33m]\u001b[0m\u001b[1;33m.\u001b[0m\u001b[0mfillna\u001b[0m\u001b[1;33m(\u001b[0m\u001b[1;33m-\u001b[0m\u001b[1;36m999\u001b[0m\u001b[1;33m)\u001b[0m\u001b[1;33m==\u001b[0m\u001b[0mcur_dominator\u001b[0m\u001b[1;33m,\u001b[0m\u001b[1;36m1\u001b[0m\u001b[1;33m,\u001b[0m\u001b[1;36m0\u001b[0m\u001b[1;33m)\u001b[0m\u001b[1;33m\u001b[0m\u001b[1;33m\u001b[0m\u001b[0m\n\u001b[0m\u001b[0;32m      9\u001b[0m             \u001b[0mtest\u001b[0m\u001b[1;33m[\u001b[0m\u001b[0mcol\u001b[0m\u001b[1;33m]\u001b[0m \u001b[1;33m=\u001b[0m \u001b[0mnp\u001b[0m\u001b[1;33m.\u001b[0m\u001b[0mwhere\u001b[0m\u001b[1;33m(\u001b[0m\u001b[0mtest\u001b[0m\u001b[1;33m[\u001b[0m\u001b[0mcol\u001b[0m\u001b[1;33m]\u001b[0m\u001b[1;33m.\u001b[0m\u001b[0mfillna\u001b[0m\u001b[1;33m(\u001b[0m\u001b[1;33m-\u001b[0m\u001b[1;36m999\u001b[0m\u001b[1;33m)\u001b[0m\u001b[1;33m==\u001b[0m\u001b[0mcur_dominator\u001b[0m\u001b[1;33m,\u001b[0m\u001b[1;36m1\u001b[0m\u001b[1;33m,\u001b[0m\u001b[1;36m0\u001b[0m\u001b[1;33m)\u001b[0m\u001b[1;33m\u001b[0m\u001b[1;33m\u001b[0m\u001b[0m\n\u001b[0;32m     10\u001b[0m \u001b[1;33m\u001b[0m\u001b[0m\n",
      "\u001b[1;32mc:\\python37\\lib\\site-packages\\pandas\\core\\frame.py\u001b[0m in \u001b[0;36m__setitem__\u001b[1;34m(self, key, value)\u001b[0m\n\u001b[0;32m   3470\u001b[0m         \u001b[1;32melse\u001b[0m\u001b[1;33m:\u001b[0m\u001b[1;33m\u001b[0m\u001b[1;33m\u001b[0m\u001b[0m\n\u001b[0;32m   3471\u001b[0m             \u001b[1;31m# set column\u001b[0m\u001b[1;33m\u001b[0m\u001b[1;33m\u001b[0m\u001b[1;33m\u001b[0m\u001b[0m\n\u001b[1;32m-> 3472\u001b[1;33m             \u001b[0mself\u001b[0m\u001b[1;33m.\u001b[0m\u001b[0m_set_item\u001b[0m\u001b[1;33m(\u001b[0m\u001b[0mkey\u001b[0m\u001b[1;33m,\u001b[0m \u001b[0mvalue\u001b[0m\u001b[1;33m)\u001b[0m\u001b[1;33m\u001b[0m\u001b[1;33m\u001b[0m\u001b[0m\n\u001b[0m\u001b[0;32m   3473\u001b[0m \u001b[1;33m\u001b[0m\u001b[0m\n\u001b[0;32m   3474\u001b[0m     \u001b[1;32mdef\u001b[0m \u001b[0m_setitem_slice\u001b[0m\u001b[1;33m(\u001b[0m\u001b[0mself\u001b[0m\u001b[1;33m,\u001b[0m \u001b[0mkey\u001b[0m\u001b[1;33m,\u001b[0m \u001b[0mvalue\u001b[0m\u001b[1;33m)\u001b[0m\u001b[1;33m:\u001b[0m\u001b[1;33m\u001b[0m\u001b[1;33m\u001b[0m\u001b[0m\n",
      "\u001b[1;32mc:\\python37\\lib\\site-packages\\pandas\\core\\frame.py\u001b[0m in \u001b[0;36m_set_item\u001b[1;34m(self, key, value)\u001b[0m\n\u001b[0;32m   3548\u001b[0m         \u001b[0mself\u001b[0m\u001b[1;33m.\u001b[0m\u001b[0m_ensure_valid_index\u001b[0m\u001b[1;33m(\u001b[0m\u001b[0mvalue\u001b[0m\u001b[1;33m)\u001b[0m\u001b[1;33m\u001b[0m\u001b[1;33m\u001b[0m\u001b[0m\n\u001b[0;32m   3549\u001b[0m         \u001b[0mvalue\u001b[0m \u001b[1;33m=\u001b[0m \u001b[0mself\u001b[0m\u001b[1;33m.\u001b[0m\u001b[0m_sanitize_column\u001b[0m\u001b[1;33m(\u001b[0m\u001b[0mkey\u001b[0m\u001b[1;33m,\u001b[0m \u001b[0mvalue\u001b[0m\u001b[1;33m)\u001b[0m\u001b[1;33m\u001b[0m\u001b[1;33m\u001b[0m\u001b[0m\n\u001b[1;32m-> 3550\u001b[1;33m         \u001b[0mNDFrame\u001b[0m\u001b[1;33m.\u001b[0m\u001b[0m_set_item\u001b[0m\u001b[1;33m(\u001b[0m\u001b[0mself\u001b[0m\u001b[1;33m,\u001b[0m \u001b[0mkey\u001b[0m\u001b[1;33m,\u001b[0m \u001b[0mvalue\u001b[0m\u001b[1;33m)\u001b[0m\u001b[1;33m\u001b[0m\u001b[1;33m\u001b[0m\u001b[0m\n\u001b[0m\u001b[0;32m   3551\u001b[0m \u001b[1;33m\u001b[0m\u001b[0m\n\u001b[0;32m   3552\u001b[0m         \u001b[1;31m# check if we are modifying a copy\u001b[0m\u001b[1;33m\u001b[0m\u001b[1;33m\u001b[0m\u001b[1;33m\u001b[0m\u001b[0m\n",
      "\u001b[1;32mc:\\python37\\lib\\site-packages\\pandas\\core\\generic.py\u001b[0m in \u001b[0;36m_set_item\u001b[1;34m(self, key, value)\u001b[0m\n\u001b[0;32m   3379\u001b[0m \u001b[1;33m\u001b[0m\u001b[0m\n\u001b[0;32m   3380\u001b[0m     \u001b[1;32mdef\u001b[0m \u001b[0m_set_item\u001b[0m\u001b[1;33m(\u001b[0m\u001b[0mself\u001b[0m\u001b[1;33m,\u001b[0m \u001b[0mkey\u001b[0m\u001b[1;33m,\u001b[0m \u001b[0mvalue\u001b[0m\u001b[1;33m)\u001b[0m\u001b[1;33m:\u001b[0m\u001b[1;33m\u001b[0m\u001b[1;33m\u001b[0m\u001b[0m\n\u001b[1;32m-> 3381\u001b[1;33m         \u001b[0mself\u001b[0m\u001b[1;33m.\u001b[0m\u001b[0m_data\u001b[0m\u001b[1;33m.\u001b[0m\u001b[0mset\u001b[0m\u001b[1;33m(\u001b[0m\u001b[0mkey\u001b[0m\u001b[1;33m,\u001b[0m \u001b[0mvalue\u001b[0m\u001b[1;33m)\u001b[0m\u001b[1;33m\u001b[0m\u001b[1;33m\u001b[0m\u001b[0m\n\u001b[0m\u001b[0;32m   3382\u001b[0m         \u001b[0mself\u001b[0m\u001b[1;33m.\u001b[0m\u001b[0m_clear_item_cache\u001b[0m\u001b[1;33m(\u001b[0m\u001b[1;33m)\u001b[0m\u001b[1;33m\u001b[0m\u001b[1;33m\u001b[0m\u001b[0m\n\u001b[0;32m   3383\u001b[0m \u001b[1;33m\u001b[0m\u001b[0m\n",
      "\u001b[1;32mc:\\python37\\lib\\site-packages\\pandas\\core\\internals\\managers.py\u001b[0m in \u001b[0;36mset\u001b[1;34m(self, item, value)\u001b[0m\n\u001b[0;32m   1098\u001b[0m                 \u001b[1;32melse\u001b[0m\u001b[1;33m:\u001b[0m\u001b[1;33m\u001b[0m\u001b[1;33m\u001b[0m\u001b[0m\n\u001b[0;32m   1099\u001b[0m                     \u001b[0mself\u001b[0m\u001b[1;33m.\u001b[0m\u001b[0m_blklocs\u001b[0m\u001b[1;33m[\u001b[0m\u001b[0mblk\u001b[0m\u001b[1;33m.\u001b[0m\u001b[0mmgr_locs\u001b[0m\u001b[1;33m.\u001b[0m\u001b[0mindexer\u001b[0m\u001b[1;33m]\u001b[0m \u001b[1;33m=\u001b[0m \u001b[1;33m-\u001b[0m\u001b[1;36m1\u001b[0m\u001b[1;33m\u001b[0m\u001b[1;33m\u001b[0m\u001b[0m\n\u001b[1;32m-> 1100\u001b[1;33m                     \u001b[0mblk\u001b[0m\u001b[1;33m.\u001b[0m\u001b[0mdelete\u001b[0m\u001b[1;33m(\u001b[0m\u001b[0mblk_locs\u001b[0m\u001b[1;33m)\u001b[0m\u001b[1;33m\u001b[0m\u001b[1;33m\u001b[0m\u001b[0m\n\u001b[0m\u001b[0;32m   1101\u001b[0m                     \u001b[0mself\u001b[0m\u001b[1;33m.\u001b[0m\u001b[0m_blklocs\u001b[0m\u001b[1;33m[\u001b[0m\u001b[0mblk\u001b[0m\u001b[1;33m.\u001b[0m\u001b[0mmgr_locs\u001b[0m\u001b[1;33m.\u001b[0m\u001b[0mindexer\u001b[0m\u001b[1;33m]\u001b[0m \u001b[1;33m=\u001b[0m \u001b[0mnp\u001b[0m\u001b[1;33m.\u001b[0m\u001b[0marange\u001b[0m\u001b[1;33m(\u001b[0m\u001b[0mlen\u001b[0m\u001b[1;33m(\u001b[0m\u001b[0mblk\u001b[0m\u001b[1;33m)\u001b[0m\u001b[1;33m)\u001b[0m\u001b[1;33m\u001b[0m\u001b[1;33m\u001b[0m\u001b[0m\n\u001b[0;32m   1102\u001b[0m \u001b[1;33m\u001b[0m\u001b[0m\n",
      "\u001b[1;32mc:\\python37\\lib\\site-packages\\pandas\\core\\internals\\blocks.py\u001b[0m in \u001b[0;36mdelete\u001b[1;34m(self, loc)\u001b[0m\n\u001b[0;32m    384\u001b[0m         \u001b[0mDelete\u001b[0m \u001b[0mgiven\u001b[0m \u001b[0mloc\u001b[0m\u001b[1;33m(\u001b[0m\u001b[1;33m-\u001b[0m\u001b[0ms\u001b[0m\u001b[1;33m)\u001b[0m \u001b[1;32mfrom\u001b[0m \u001b[0mblock\u001b[0m \u001b[1;32min\u001b[0m\u001b[1;33m-\u001b[0m\u001b[0mplace\u001b[0m\u001b[1;33m.\u001b[0m\u001b[1;33m\u001b[0m\u001b[1;33m\u001b[0m\u001b[0m\n\u001b[0;32m    385\u001b[0m         \"\"\"\n\u001b[1;32m--> 386\u001b[1;33m         \u001b[0mself\u001b[0m\u001b[1;33m.\u001b[0m\u001b[0mvalues\u001b[0m \u001b[1;33m=\u001b[0m \u001b[0mnp\u001b[0m\u001b[1;33m.\u001b[0m\u001b[0mdelete\u001b[0m\u001b[1;33m(\u001b[0m\u001b[0mself\u001b[0m\u001b[1;33m.\u001b[0m\u001b[0mvalues\u001b[0m\u001b[1;33m,\u001b[0m \u001b[0mloc\u001b[0m\u001b[1;33m,\u001b[0m \u001b[1;36m0\u001b[0m\u001b[1;33m)\u001b[0m\u001b[1;33m\u001b[0m\u001b[1;33m\u001b[0m\u001b[0m\n\u001b[0m\u001b[0;32m    387\u001b[0m         \u001b[0mself\u001b[0m\u001b[1;33m.\u001b[0m\u001b[0mmgr_locs\u001b[0m \u001b[1;33m=\u001b[0m \u001b[0mself\u001b[0m\u001b[1;33m.\u001b[0m\u001b[0mmgr_locs\u001b[0m\u001b[1;33m.\u001b[0m\u001b[0mdelete\u001b[0m\u001b[1;33m(\u001b[0m\u001b[0mloc\u001b[0m\u001b[1;33m)\u001b[0m\u001b[1;33m\u001b[0m\u001b[1;33m\u001b[0m\u001b[0m\n\u001b[0;32m    388\u001b[0m \u001b[1;33m\u001b[0m\u001b[0m\n",
      "\u001b[1;32m<__array_function__ internals>\u001b[0m in \u001b[0;36mdelete\u001b[1;34m(*args, **kwargs)\u001b[0m\n",
      "\u001b[1;32mc:\\python37\\lib\\site-packages\\numpy\\lib\\function_base.py\u001b[0m in \u001b[0;36mdelete\u001b[1;34m(arr, obj, axis)\u001b[0m\n\u001b[0;32m   4422\u001b[0m         \u001b[0mkeep\u001b[0m\u001b[1;33m[\u001b[0m\u001b[0mobj\u001b[0m\u001b[1;33m,\u001b[0m \u001b[1;33m]\u001b[0m \u001b[1;33m=\u001b[0m \u001b[1;32mFalse\u001b[0m\u001b[1;33m\u001b[0m\u001b[1;33m\u001b[0m\u001b[0m\n\u001b[0;32m   4423\u001b[0m         \u001b[0mslobj\u001b[0m\u001b[1;33m[\u001b[0m\u001b[0maxis\u001b[0m\u001b[1;33m]\u001b[0m \u001b[1;33m=\u001b[0m \u001b[0mkeep\u001b[0m\u001b[1;33m\u001b[0m\u001b[1;33m\u001b[0m\u001b[0m\n\u001b[1;32m-> 4424\u001b[1;33m         \u001b[0mnew\u001b[0m \u001b[1;33m=\u001b[0m \u001b[0marr\u001b[0m\u001b[1;33m[\u001b[0m\u001b[0mtuple\u001b[0m\u001b[1;33m(\u001b[0m\u001b[0mslobj\u001b[0m\u001b[1;33m)\u001b[0m\u001b[1;33m]\u001b[0m\u001b[1;33m\u001b[0m\u001b[1;33m\u001b[0m\u001b[0m\n\u001b[0m\u001b[0;32m   4425\u001b[0m \u001b[1;33m\u001b[0m\u001b[0m\n\u001b[0;32m   4426\u001b[0m     \u001b[1;32mif\u001b[0m \u001b[0mwrap\u001b[0m\u001b[1;33m:\u001b[0m\u001b[1;33m\u001b[0m\u001b[1;33m\u001b[0m\u001b[0m\n",
      "\u001b[1;31mKeyboardInterrupt\u001b[0m: "
     ]
    }
   ],
   "source": [
    "# total_items = len(X)\n",
    "# keep_cols = ['isFraud','C3_fq_enc']\n",
    "# for col in numerical_features:\n",
    "#         cur_dominator = list(X[col].fillna(-999).value_counts())[0]\n",
    "#         if (cur_dominator/total_items > 0.85) and (col not in keep_cols):\n",
    "#             cur_dominator = X[col].fillna(-999).value_counts().index[0]\n",
    "#             print('Column:', col, ' | Dominator:', cur_dominator)\n",
    "#             X[col] = np.where(X[col].fillna(-999)==cur_dominator,1,0)\n",
    "#             test[col] = np.where(test[col].fillna(-999)==cur_dominator,1,0)\n",
    "\n",
    "#             X[col] = X[col].fillna(-999).astype(int)\n",
    "#             test[col] = test[col].fillna(-999).astype(int)\n",
    "\n",
    "#             if col not in categorical_features:\n",
    "#                 categorical_features.append(col)"
   ]
  },
  {
   "cell_type": "code",
   "execution_count": 6,
   "metadata": {
    "ExecuteTime": {
     "end_time": "2019-09-29T16:47:08.793666Z",
     "start_time": "2019-09-29T16:47:08.542646Z"
    }
   },
   "outputs": [],
   "source": [
    "params = {\n",
    "#                 'n_estimators':5000,\n",
    "                'learning_rate': 0.07,\n",
    "                'eval_metric':'AUC',\n",
    "                'loss_function':'Logloss',\n",
    "                'random_seed':42,\n",
    "                'metric_period':500,\n",
    "                'od_wait':500,\n",
    "                'task_type':'GPU',\n",
    "                'depth': 8,\n",
    "                #'colsample_bylevel':0.7,\n",
    "                } \n",
    "n_fold = 6\n",
    "folds = GroupKFold(n_splits=n_fold)\n",
    "train_options = {\n",
    "    \"model_type\":'cat',\n",
    "    \"params\": params,\n",
    "    'early_stopping_rounds': 1000,\n",
    "    'n_estimators': 5000,\n",
    "    'averaging': 'usual',\n",
    "    'use_groups': False,\n",
    "    'fold_name': folds.__class__.__name__,\n",
    "    'n_splits': n_fold\n",
    "    \n",
    "}"
   ]
  },
  {
   "cell_type": "code",
   "execution_count": 7,
   "metadata": {
    "ExecuteTime": {
     "end_time": "2019-09-29T18:52:09.818405Z",
     "start_time": "2019-09-29T16:47:12.187747Z"
    }
   },
   "outputs": [
    {
     "name": "stdout",
     "output_type": "stream",
     "text": [
      "Fold 1 started at Sun Sep 29 19:47:16 2019\n",
      "0:\tlearn: 0.8914227\ttest: 0.7816849\tbest: 0.7816849 (0)\ttotal: 2.75s\tremaining: 3h 48m 52s\n",
      "500:\tlearn: 0.9787215\ttest: 0.9237576\tbest: 0.9238504 (493)\ttotal: 18m 4s\tremaining: 2h 42m 21s\n",
      "1000:\tlearn: 0.9831299\ttest: 0.9302061\tbest: 0.9302672 (992)\ttotal: 36m 7s\tremaining: 2h 24m 17s\n",
      "1500:\tlearn: 0.9863489\ttest: 0.9328698\tbest: 0.9329494 (1479)\ttotal: 54m 5s\tremaining: 2h 6m 5s\n",
      "2000:\tlearn: 0.9892587\ttest: 0.9342164\tbest: 0.9342164 (2000)\ttotal: 1h 12m 18s\tremaining: 1h 48m 23s\n",
      "2500:\tlearn: 0.9915988\ttest: 0.9343024\tbest: 0.9344447 (2491)\ttotal: 1h 30m 36s\tremaining: 1h 30m 31s\n",
      "3000:\tlearn: 0.9935500\ttest: 0.9352641\tbest: 0.9354221 (2893)\ttotal: 1h 48m 50s\tremaining: 1h 12m 29s\n",
      "bestTest = 0.9354220629\n",
      "bestIteration = 2893\n",
      "Shrink model to first 2894 iterations.\n"
     ]
    },
    {
     "ename": "CatBoostError",
     "evalue": "bad allocation",
     "output_type": "error",
     "traceback": [
      "\u001b[1;31m---------------------------------------------------------------------------\u001b[0m",
      "\u001b[1;31mCatBoostError\u001b[0m                             Traceback (most recent call last)",
      "\u001b[1;32m<ipython-input-7-e9bc0a21d322>\u001b[0m in \u001b[0;36m<module>\u001b[1;34m\u001b[0m\n\u001b[0;32m      7\u001b[0m                                              \u001b[0mn_estimators\u001b[0m\u001b[1;33m=\u001b[0m\u001b[0mtrain_options\u001b[0m\u001b[1;33m[\u001b[0m\u001b[1;34m'n_estimators'\u001b[0m\u001b[1;33m]\u001b[0m\u001b[1;33m,\u001b[0m\u001b[1;33m\u001b[0m\u001b[1;33m\u001b[0m\u001b[0m\n\u001b[0;32m      8\u001b[0m                                              \u001b[0maveraging\u001b[0m\u001b[1;33m=\u001b[0m\u001b[0mtrain_options\u001b[0m\u001b[1;33m[\u001b[0m\u001b[1;34m'averaging'\u001b[0m\u001b[1;33m]\u001b[0m\u001b[1;33m,\u001b[0m\u001b[1;33m\u001b[0m\u001b[1;33m\u001b[0m\u001b[0m\n\u001b[1;32m----> 9\u001b[1;33m                                              n_jobs=-1, groups=X['DT_M'])\n\u001b[0m",
      "\u001b[1;32md:\\Documents\\Private\\Kaggle\\Baydin\\BayDS\\lib\\training\\train_model_classification_vb.py\u001b[0m in \u001b[0;36mtrain_model_classification_vb\u001b[1;34m(X, X_test, y, params, folds, model_type, eval_metric, columns, plot_feature_importance, model, verbose, early_stopping_rounds, n_estimators, splits, averaging, n_jobs, groups, train_1_sample_coef, train_0_sample_coef, categorial_columns, categorial_encoder)\u001b[0m\n\u001b[0;32m    172\u001b[0m             model.fit(X_train, y_train, eval_set=(X_valid, y_valid), cat_features=categorial_columns,\n\u001b[0;32m    173\u001b[0m                       \u001b[0muse_best_model\u001b[0m\u001b[1;33m=\u001b[0m\u001b[1;32mTrue\u001b[0m\u001b[1;33m,\u001b[0m\u001b[1;33m\u001b[0m\u001b[1;33m\u001b[0m\u001b[0m\n\u001b[1;32m--> 174\u001b[1;33m                       verbose=True)\n\u001b[0m\u001b[0;32m    175\u001b[0m \u001b[1;33m\u001b[0m\u001b[0m\n\u001b[0;32m    176\u001b[0m             \u001b[0my_pred_valid\u001b[0m \u001b[1;33m=\u001b[0m \u001b[0mmodel\u001b[0m\u001b[1;33m.\u001b[0m\u001b[0mpredict_proba\u001b[0m\u001b[1;33m(\u001b[0m\u001b[0mX_valid\u001b[0m\u001b[1;33m)\u001b[0m\u001b[1;33m[\u001b[0m\u001b[1;33m:\u001b[0m\u001b[1;33m,\u001b[0m \u001b[1;36m1\u001b[0m\u001b[1;33m]\u001b[0m\u001b[1;33m\u001b[0m\u001b[1;33m\u001b[0m\u001b[0m\n",
      "\u001b[1;32mc:\\python37\\lib\\site-packages\\catboost\\core.py\u001b[0m in \u001b[0;36mfit\u001b[1;34m(self, X, y, cat_features, sample_weight, baseline, use_best_model, eval_set, verbose, logging_level, plot, column_description, verbose_eval, metric_period, silent, early_stopping_rounds, save_snapshot, snapshot_file, snapshot_interval, init_model)\u001b[0m\n\u001b[0;32m   3461\u001b[0m         self._fit(X, y, cat_features, None, sample_weight, None, None, None, None, baseline, use_best_model,\n\u001b[0;32m   3462\u001b[0m                   \u001b[0meval_set\u001b[0m\u001b[1;33m,\u001b[0m \u001b[0mverbose\u001b[0m\u001b[1;33m,\u001b[0m \u001b[0mlogging_level\u001b[0m\u001b[1;33m,\u001b[0m \u001b[0mplot\u001b[0m\u001b[1;33m,\u001b[0m \u001b[0mcolumn_description\u001b[0m\u001b[1;33m,\u001b[0m \u001b[0mverbose_eval\u001b[0m\u001b[1;33m,\u001b[0m \u001b[0mmetric_period\u001b[0m\u001b[1;33m,\u001b[0m\u001b[1;33m\u001b[0m\u001b[1;33m\u001b[0m\u001b[0m\n\u001b[1;32m-> 3463\u001b[1;33m                   silent, early_stopping_rounds, save_snapshot, snapshot_file, snapshot_interval, init_model)\n\u001b[0m\u001b[0;32m   3464\u001b[0m         \u001b[1;32mreturn\u001b[0m \u001b[0mself\u001b[0m\u001b[1;33m\u001b[0m\u001b[1;33m\u001b[0m\u001b[0m\n\u001b[0;32m   3465\u001b[0m \u001b[1;33m\u001b[0m\u001b[0m\n",
      "\u001b[1;32mc:\\python37\\lib\\site-packages\\catboost\\core.py\u001b[0m in \u001b[0;36m_fit\u001b[1;34m(self, X, y, cat_features, pairs, sample_weight, group_id, group_weight, subgroup_id, pairs_weight, baseline, use_best_model, eval_set, verbose, logging_level, plot, column_description, verbose_eval, metric_period, silent, early_stopping_rounds, save_snapshot, snapshot_file, snapshot_interval, init_model)\u001b[0m\n\u001b[0;32m   1398\u001b[0m                 \u001b[0mparams\u001b[0m\u001b[1;33m,\u001b[0m\u001b[1;33m\u001b[0m\u001b[1;33m\u001b[0m\u001b[0m\n\u001b[0;32m   1399\u001b[0m                 \u001b[0mallow_clear_pool\u001b[0m\u001b[1;33m,\u001b[0m\u001b[1;33m\u001b[0m\u001b[1;33m\u001b[0m\u001b[0m\n\u001b[1;32m-> 1400\u001b[1;33m                 \u001b[0mtrain_params\u001b[0m\u001b[1;33m[\u001b[0m\u001b[1;34m\"init_model\"\u001b[0m\u001b[1;33m]\u001b[0m\u001b[1;33m\u001b[0m\u001b[1;33m\u001b[0m\u001b[0m\n\u001b[0m\u001b[0;32m   1401\u001b[0m             )\n\u001b[0;32m   1402\u001b[0m \u001b[1;33m\u001b[0m\u001b[0m\n",
      "\u001b[1;32mc:\\python37\\lib\\site-packages\\catboost\\core.py\u001b[0m in \u001b[0;36m_train\u001b[1;34m(self, train_pool, test_pool, params, allow_clear_pool, init_model)\u001b[0m\n\u001b[0;32m    960\u001b[0m \u001b[1;33m\u001b[0m\u001b[0m\n\u001b[0;32m    961\u001b[0m     \u001b[1;32mdef\u001b[0m \u001b[0m_train\u001b[0m\u001b[1;33m(\u001b[0m\u001b[0mself\u001b[0m\u001b[1;33m,\u001b[0m \u001b[0mtrain_pool\u001b[0m\u001b[1;33m,\u001b[0m \u001b[0mtest_pool\u001b[0m\u001b[1;33m,\u001b[0m \u001b[0mparams\u001b[0m\u001b[1;33m,\u001b[0m \u001b[0mallow_clear_pool\u001b[0m\u001b[1;33m,\u001b[0m \u001b[0minit_model\u001b[0m\u001b[1;33m)\u001b[0m\u001b[1;33m:\u001b[0m\u001b[1;33m\u001b[0m\u001b[1;33m\u001b[0m\u001b[0m\n\u001b[1;32m--> 962\u001b[1;33m         \u001b[0mself\u001b[0m\u001b[1;33m.\u001b[0m\u001b[0m_object\u001b[0m\u001b[1;33m.\u001b[0m\u001b[0m_train\u001b[0m\u001b[1;33m(\u001b[0m\u001b[0mtrain_pool\u001b[0m\u001b[1;33m,\u001b[0m \u001b[0mtest_pool\u001b[0m\u001b[1;33m,\u001b[0m \u001b[0mparams\u001b[0m\u001b[1;33m,\u001b[0m \u001b[0mallow_clear_pool\u001b[0m\u001b[1;33m,\u001b[0m \u001b[0minit_model\u001b[0m\u001b[1;33m.\u001b[0m\u001b[0m_object\u001b[0m \u001b[1;32mif\u001b[0m \u001b[0minit_model\u001b[0m \u001b[1;32melse\u001b[0m \u001b[1;32mNone\u001b[0m\u001b[1;33m)\u001b[0m\u001b[1;33m\u001b[0m\u001b[1;33m\u001b[0m\u001b[0m\n\u001b[0m\u001b[0;32m    963\u001b[0m         \u001b[0mself\u001b[0m\u001b[1;33m.\u001b[0m\u001b[0m_set_trained_model_attributes\u001b[0m\u001b[1;33m(\u001b[0m\u001b[1;33m)\u001b[0m\u001b[1;33m\u001b[0m\u001b[1;33m\u001b[0m\u001b[0m\n\u001b[0;32m    964\u001b[0m \u001b[1;33m\u001b[0m\u001b[0m\n",
      "\u001b[1;32m_catboost.pyx\u001b[0m in \u001b[0;36m_catboost._CatBoost._train\u001b[1;34m()\u001b[0m\n",
      "\u001b[1;32m_catboost.pyx\u001b[0m in \u001b[0;36m_catboost._CatBoost._train\u001b[1;34m()\u001b[0m\n",
      "\u001b[1;31mCatBoostError\u001b[0m: bad allocation"
     ]
    }
   ],
   "source": [
    "result_dict_cb_new_id = train_model_classification_vb(X=X, X_test=test, columns=all_features,\n",
    "                                                   y=y, params=params, folds=folds,\n",
    "                                             model_type=train_options['model_type'], \n",
    "                                             categorial_columns = categorical_features,\n",
    "                                             plot_feature_importance=True,\n",
    "                                             verbose=100, early_stopping_rounds=train_options['early_stopping_rounds'],\n",
    "                                             n_estimators=train_options['n_estimators'], \n",
    "                                             averaging=train_options['averaging'],\n",
    "                                             n_jobs=-1, groups=X['DT_M'])\n"
   ]
  },
  {
   "cell_type": "code",
   "execution_count": null,
   "metadata": {},
   "outputs": [],
   "source": []
  },
  {
   "cell_type": "code",
   "execution_count": 11,
   "metadata": {
    "ExecuteTime": {
     "end_time": "2019-09-26T19:50:55.341125Z",
     "start_time": "2019-09-26T19:50:50.509344Z"
    }
   },
   "outputs": [],
   "source": [
    "pd.DataFrame(result_dict_lgb['oof'], columns=['isFraud'], index=train_idx).to_csv(f'{main_dir}/Snapshots/1/Training2509/oof_all_data_best_lgb.csv')\n",
    "\n",
    "pd.DataFrame(result_dict_lgb['prediction'], columns=['isFraud'], index=test.index).to_csv(f'{main_dir}/Snapshots/1/Training2509/prediction_all_data_best_lgb.csv')\n",
    "\n",
    "sample_submission = pd.read_csv(data_path + '/sample_submission.csv').set_index('TransactionID')\n",
    "\n",
    "sub1 = pd.DataFrame(result_dict_lgb['prediction'], columns=['isFraud'], index=test.index)\n",
    "\n",
    "sample_submission['isFraud'] = sub1#*0.5 + sub2*0.25 + sub3*0.25\n",
    "\n",
    "sample_submission.to_csv(f'{main_dir}/lgb_sub.csv')"
   ]
  }
 ],
 "metadata": {
  "kernelspec": {
   "display_name": "Python 3",
   "language": "python",
   "name": "python3"
  },
  "toc": {
   "base_numbering": 1,
   "nav_menu": {},
   "number_sections": true,
   "sideBar": true,
   "skip_h1_title": false,
   "title_cell": "Table of Contents",
   "title_sidebar": "Contents",
   "toc_cell": false,
   "toc_position": {},
   "toc_section_display": true,
   "toc_window_display": false
  },
  "varInspector": {
   "cols": {
    "lenName": 16,
    "lenType": 16,
    "lenVar": 40
   },
   "kernels_config": {
    "python": {
     "delete_cmd_postfix": "",
     "delete_cmd_prefix": "del ",
     "library": "var_list.py",
     "varRefreshCmd": "print(var_dic_list())"
    },
    "r": {
     "delete_cmd_postfix": ") ",
     "delete_cmd_prefix": "rm(",
     "library": "var_list.r",
     "varRefreshCmd": "cat(var_dic_list()) "
    }
   },
   "position": {
    "height": "760px",
    "left": "1530px",
    "right": "20px",
    "top": "120px",
    "width": "336px"
   },
   "types_to_exclude": [
    "module",
    "function",
    "builtin_function_or_method",
    "instance",
    "_Feature"
   ],
   "window_display": false
  }
 },
 "nbformat": 4,
 "nbformat_minor": 2
}
