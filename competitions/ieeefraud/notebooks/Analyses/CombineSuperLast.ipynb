{
 "cells": [
  {
   "cell_type": "code",
   "execution_count": 1,
   "metadata": {
    "ExecuteTime": {
     "end_time": "2019-09-30T19:57:56.452738Z",
     "start_time": "2019-09-30T19:57:53.232626Z"
    }
   },
   "outputs": [],
   "source": [
    "%load_ext autoreload\n",
    "%autoreload 2\n",
    "main_dir = r'../../..'\n",
    "data_path = main_dir+'/data'\n",
    "import sys\n",
    "sys.path.append(main_dir)\n",
    "from typing import List, Set, Dict, Optional, Any, Tuple, Type, Union\n",
    "\n",
    "from BayDS.lib.pipeline import *\n",
    "from BayDS.lib.io import *\n",
    "\n",
    "import os\n"
   ]
  },
  {
   "cell_type": "code",
   "execution_count": 2,
   "metadata": {
    "ExecuteTime": {
     "end_time": "2019-09-30T19:58:11.071919Z",
     "start_time": "2019-09-30T19:57:56.739708Z"
    },
    "scrolled": true
   },
   "outputs": [
    {
     "name": "stdout",
     "output_type": "stream",
     "text": [
      "---------------------------\n",
      "0: LoaderNode [2019-09-30 22:57:56]\n",
      "params:\n",
      " {'input_directory': 'e:/kaggle/05-LabelEncoded-last', 'file': 'label_encoded_data.pkl'}\n",
      "---------------------------\n",
      "1: LoaderNode [2019-09-30 22:58:10]\n",
      "params:\n",
      " {'input_directory': 'e:/kaggle/05-LabelEncoded-last', 'file': 'numerical_columns.yaml'}\n",
      "---------------------------\n",
      "2: LoaderNode [2019-09-30 22:58:10]\n",
      "params:\n",
      " {'input_directory': 'e:/kaggle/05-LabelEncoded-last', 'file': 'categorical_columns.yaml'}\n",
      "---------------------------\n",
      "3: LoaderNode [2019-09-30 22:58:11]\n",
      "params:\n",
      " {'input_directory': 'e:/kaggle/05-LabelEncoded-last', 'file': 'bad_for_training_features.yaml'}\n"
     ]
    }
   ],
   "source": [
    "data_dir = f'e:/kaggle/05-LabelEncoded-last'\n",
    "p = Pipeline(working_folder=f'{main_dir}/Snapshots/1/TestC5')\n",
    "\n",
    "p.add_node(LoaderNode, None, 'data',\n",
    "           params={\n",
    "               'input_directory': data_dir,\n",
    "               'file': 'label_encoded_data.pkl'\n",
    "           })\n",
    "p.add_node(LoaderNode, None, 'numerical_columns',\n",
    "           params={\n",
    "               'input_directory': data_dir,\n",
    "               'file': 'numerical_columns.yaml'\n",
    "           })\n",
    "p.add_node(LoaderNode, None, 'categorical_columns',\n",
    "           params={\n",
    "               'input_directory': data_dir,\n",
    "               'file': 'categorical_columns.yaml'\n",
    "           })\n",
    "p.add_node(LoaderNode, None, 'bad_for_training_features',\n",
    "           params={\n",
    "               'input_directory': data_dir,\n",
    "               'file': 'bad_for_training_features.yaml'\n",
    "           })\n",
    "p.save()\n",
    "p.run(verbose=True)"
   ]
  },
  {
   "cell_type": "code",
   "execution_count": 11,
   "metadata": {
    "ExecuteTime": {
     "end_time": "2019-09-30T20:15:37.558802Z",
     "start_time": "2019-09-30T20:15:31.780732Z"
    },
    "code_folding": [
     1
    ]
   },
   "outputs": [
    {
     "name": "stdout",
     "output_type": "stream",
     "text": [
      "---------------------------\n",
      "10: DropFeaturesNode [2019-09-30 23:15:31]\n",
      "params:\n",
      " {'drop': ['C3_global_count', 'C5_by_new_card_id_ws10_to_std', 'C5_by_new_card_id_ws1d_to_std', 'C5_by_new_card_id_ws2d_to_std', 'C5_by_new_card_id_ws30d_to_std', 'C5_by_new_card_id_ws3d_to_std', 'C5_by_new_card_id_ws5_to_std', 'C5_by_new_card_id_ws7d_to_std', 'C7', 'C7_global_count', 'D10_to_std_groupby_uid4', 'D11_to_minmax_groupby_uid2', 'D11_to_minmax_groupby_uid5', 'D11_to_std_groupby_bank_type', 'D12', 'D12_global_count', 'D12_to_mean_groupby_bank_type', 'D12_to_mean_groupby_new_card_id', 'D12_to_mean_groupby_uid', 'D12_to_mean_groupby_uid2', 'D12_to_mean_groupby_uid3', 'D12_to_mean_groupby_uid4', 'D12_to_mean_groupby_uid5', 'D12_to_minmax_groupby_bank_type', 'D12_to_minmax_groupby_new_card_id', 'D12_to_minmax_groupby_uid', 'D12_to_minmax_groupby_uid2', 'D12_to_minmax_groupby_uid3', 'D12_to_minmax_groupby_uid4', 'D12_to_minmax_groupby_uid5', 'D12_to_std_groupby_bank_type', 'D12_to_std_groupby_new_card_id', 'D12_to_std_groupby_uid', 'D12_to_std_groupby_uid2', 'D12_to_std_groupby_uid3', 'D12_to_std_groupby_uid4', 'D12_to_std_groupby_uid5', 'D13', 'D13_global_count', 'D13_to_mean_groupby_bank_type', 'D13_to_mean_groupby_new_card_id', 'D13_to_mean_groupby_uid', 'D13_to_mean_groupby_uid2', 'D13_to_mean_groupby_uid3', 'D13_to_mean_groupby_uid4', 'D13_to_mean_groupby_uid5', 'D13_to_minmax_groupby_bank_type', 'D13_to_minmax_groupby_new_card_id', 'D13_to_minmax_groupby_uid', 'D13_to_minmax_groupby_uid2', 'D13_to_minmax_groupby_uid3', 'D13_to_minmax_groupby_uid4', 'D13_to_minmax_groupby_uid5', 'D13_to_std_groupby_bank_type', 'D13_to_std_groupby_new_card_id', 'D13_to_std_groupby_uid', 'D13_to_std_groupby_uid2', 'D13_to_std_groupby_uid3', 'D13_to_std_groupby_uid4', 'D13_to_std_groupby_uid5', 'D14_global_count', 'D14_to_minmax_groupby_bank_type', 'D14_to_minmax_groupby_new_card_id', 'D14_to_minmax_groupby_uid', 'D14_to_minmax_groupby_uid2', 'D14_to_minmax_groupby_uid3', 'D14_to_minmax_groupby_uid4', 'D14_to_minmax_groupby_uid5', 'D14_to_std_groupby_bank_type', 'D14_to_std_groupby_new_card_id', 'D14_to_std_groupby_uid', 'D14_to_std_groupby_uid2', 'D14_to_std_groupby_uid3', 'D14_to_std_groupby_uid4', 'D14_to_std_groupby_uid5', 'D14_to_stdscore_groupby_uid', 'D14_to_stdscore_groupby_uid2', 'D14_to_stdscore_groupby_uid3', 'D14_to_stdscore_groupby_uid4', 'D14_to_stdscore_groupby_uid5', 'D1_to_std_groupby_uid4', 'D3_global_count', 'D3_to_minmax_groupby_bank_type', 'D3_to_minmax_groupby_uid5', 'D3_to_std_groupby_bank_type', 'D3_to_std_groupby_uid', 'D3_to_std_groupby_uid2', 'D3_to_std_groupby_uid3', 'D3_to_std_groupby_uid4', 'D3_to_std_groupby_uid5', 'D5_global_count', 'D5_to_minmax_groupby_bank_type', 'D5_to_minmax_groupby_new_card_id', 'D5_to_minmax_groupby_uid', 'D5_to_minmax_groupby_uid2', 'D5_to_minmax_groupby_uid3', 'D5_to_minmax_groupby_uid4', 'D5_to_minmax_groupby_uid5', 'D5_to_std_groupby_bank_type', 'D5_to_std_groupby_uid', 'D5_to_std_groupby_uid2', 'D5_to_std_groupby_uid3', 'D5_to_std_groupby_uid4', 'D5_to_std_groupby_uid5', 'D6_global_count', 'D6_to_mean_groupby_bank_type', 'D6_to_mean_groupby_uid', 'D6_to_mean_groupby_uid2', 'D6_to_mean_groupby_uid3', 'D6_to_mean_groupby_uid4', 'D6_to_mean_groupby_uid5', 'D6_to_minmax_groupby_bank_type', 'D6_to_minmax_groupby_new_card_id', 'D6_to_minmax_groupby_uid', 'D6_to_minmax_groupby_uid2', 'D6_to_minmax_groupby_uid3', 'D6_to_minmax_groupby_uid4', 'D6_to_minmax_groupby_uid5', 'D6_to_std_groupby_bank_type', 'D6_to_std_groupby_new_card_id', 'D6_to_std_groupby_uid', 'D6_to_std_groupby_uid2', 'D6_to_std_groupby_uid3', 'D6_to_std_groupby_uid4', 'D6_to_std_groupby_uid5', 'D6_to_stdscore_groupby_new_card_id', 'D7', 'D7_global_count', 'D7_to_mean_groupby_bank_type', 'D7_to_mean_groupby_new_card_id', 'D7_to_mean_groupby_uid', 'D7_to_mean_groupby_uid2', 'D7_to_mean_groupby_uid3', 'D7_to_mean_groupby_uid4', 'D7_to_mean_groupby_uid5', 'D7_to_minmax_groupby_bank_type', 'D7_to_minmax_groupby_new_card_id', 'D7_to_minmax_groupby_uid', 'D7_to_minmax_groupby_uid2', 'D7_to_minmax_groupby_uid3', 'D7_to_minmax_groupby_uid4', 'D7_to_minmax_groupby_uid5', 'D7_to_std_groupby_bank_type', 'D7_to_std_groupby_new_card_id', 'D7_to_std_groupby_uid', 'D7_to_std_groupby_uid2', 'D7_to_std_groupby_uid3', 'D7_to_std_groupby_uid4', 'D7_to_std_groupby_uid5', 'D7_to_stdscore_groupby_bank_type', 'D7_to_stdscore_groupby_new_card_id', 'D7_to_stdscore_groupby_uid', 'D7_to_stdscore_groupby_uid2', 'D7_to_stdscore_groupby_uid3', 'D7_to_stdscore_groupby_uid4', 'D7_to_stdscore_groupby_uid5', 'D8', 'D8_not_same_day', 'D9_not_na', 'D9_to_minmax_groupby_bank_type', 'D9_to_minmax_groupby_new_card_id', 'D9_to_minmax_groupby_uid', 'D9_to_minmax_groupby_uid2', 'D9_to_minmax_groupby_uid3', 'D9_to_minmax_groupby_uid4', 'D9_to_minmax_groupby_uid5', 'D9_to_stdscore_groupby_uid4', 'D9_to_stdscore_groupby_uid5', 'DeviceType_global_count', 'M1', 'M_sum', 'OS_global_count', 'R_emaildomain_suffix', 'TransactionAmt_Log', 'TransactionAmt_Log1p', 'TransactionAmt_check', 'V_PCA_15_10', 'V_PCA_15_7', 'V_PCA_314_12', 'V_PCA_314_4', 'V_PCA_820866_2', 'V_PCA_820866_4', 'V_PCA_840073_3', 'V_PCA_938449_0', 'V_PCA_938449_2', 'V_PCA_938449_3', 'V_PCA_938449_4', 'V_PCA_939501_1', 'addr2', 'addr2_C5count', 'addr2_amtcount', 'addr2_global_count', 'card3_global_count', 'id_07', 'id_08', 'id_10', 'id_11', 'id_12', 'id_12_global_count', 'id_15', 'id_15_global_count', 'id_16', 'id_16_global_count', 'id_17_global_count', 'id_21', 'id_21_global_count', 'id_22', 'id_22_global_count', 'id_23', 'id_23_global_count', 'id_24', 'id_24_global_count', 'id_25', 'id_25_global_count', 'id_26', 'id_26_global_count', 'id_27', 'id_27_global_count', 'id_28', 'id_28_global_count', 'id_29', 'id_29_global_count', 'id_32', 'id_32_global_count', 'id_34', 'id_34_global_count', 'id_35', 'id_36', 'id_36_global_count', 'id_37', 'id_37_global_count', 'id_38', 'id_38_global_count', 'isNight', 'is_holiday', 'lastest_browser']}\n"
     ]
    }
   ],
   "source": [
    "features_to_remove = ['C3_global_count',\n",
    " 'C5_by_new_card_id_ws10_to_std',\n",
    " 'C5_by_new_card_id_ws1d_to_std',\n",
    " 'C5_by_new_card_id_ws2d_to_std',\n",
    " 'C5_by_new_card_id_ws30d_to_std',\n",
    " 'C5_by_new_card_id_ws3d_to_std',\n",
    " 'C5_by_new_card_id_ws5_to_std',\n",
    " 'C5_by_new_card_id_ws7d_to_std',\n",
    " 'C7',\n",
    " 'C7_global_count',\n",
    " 'D10_to_std_groupby_uid4',\n",
    " 'D11_to_minmax_groupby_uid2',\n",
    " 'D11_to_minmax_groupby_uid5',\n",
    " 'D11_to_std_groupby_bank_type',\n",
    " 'D12',\n",
    " 'D12_global_count',\n",
    " 'D12_to_mean_groupby_bank_type',\n",
    " 'D12_to_mean_groupby_new_card_id',\n",
    " 'D12_to_mean_groupby_uid',\n",
    " 'D12_to_mean_groupby_uid2',\n",
    " 'D12_to_mean_groupby_uid3',\n",
    " 'D12_to_mean_groupby_uid4',\n",
    " 'D12_to_mean_groupby_uid5',\n",
    " 'D12_to_minmax_groupby_bank_type',\n",
    " 'D12_to_minmax_groupby_new_card_id',\n",
    " 'D12_to_minmax_groupby_uid',\n",
    " 'D12_to_minmax_groupby_uid2',\n",
    " 'D12_to_minmax_groupby_uid3',\n",
    " 'D12_to_minmax_groupby_uid4',\n",
    " 'D12_to_minmax_groupby_uid5',\n",
    " 'D12_to_std_groupby_bank_type',\n",
    " 'D12_to_std_groupby_new_card_id',\n",
    " 'D12_to_std_groupby_uid',\n",
    " 'D12_to_std_groupby_uid2',\n",
    " 'D12_to_std_groupby_uid3',\n",
    " 'D12_to_std_groupby_uid4',\n",
    " 'D12_to_std_groupby_uid5',\n",
    " 'D13',\n",
    " 'D13_global_count',\n",
    " 'D13_to_mean_groupby_bank_type',\n",
    " 'D13_to_mean_groupby_new_card_id',\n",
    " 'D13_to_mean_groupby_uid',\n",
    " 'D13_to_mean_groupby_uid2',\n",
    " 'D13_to_mean_groupby_uid3',\n",
    " 'D13_to_mean_groupby_uid4',\n",
    " 'D13_to_mean_groupby_uid5',\n",
    " 'D13_to_minmax_groupby_bank_type',\n",
    " 'D13_to_minmax_groupby_new_card_id',\n",
    " 'D13_to_minmax_groupby_uid',\n",
    " 'D13_to_minmax_groupby_uid2',\n",
    " 'D13_to_minmax_groupby_uid3',\n",
    " 'D13_to_minmax_groupby_uid4',\n",
    " 'D13_to_minmax_groupby_uid5',\n",
    " 'D13_to_std_groupby_bank_type',\n",
    " 'D13_to_std_groupby_new_card_id',\n",
    " 'D13_to_std_groupby_uid',\n",
    " 'D13_to_std_groupby_uid2',\n",
    " 'D13_to_std_groupby_uid3',\n",
    " 'D13_to_std_groupby_uid4',\n",
    " 'D13_to_std_groupby_uid5',\n",
    " 'D14_global_count',\n",
    " 'D14_to_minmax_groupby_bank_type',\n",
    " 'D14_to_minmax_groupby_new_card_id',\n",
    " 'D14_to_minmax_groupby_uid',\n",
    " 'D14_to_minmax_groupby_uid2',\n",
    " 'D14_to_minmax_groupby_uid3',\n",
    " 'D14_to_minmax_groupby_uid4',\n",
    " 'D14_to_minmax_groupby_uid5',\n",
    " 'D14_to_std_groupby_bank_type',\n",
    " 'D14_to_std_groupby_new_card_id',\n",
    " 'D14_to_std_groupby_uid',\n",
    " 'D14_to_std_groupby_uid2',\n",
    " 'D14_to_std_groupby_uid3',\n",
    " 'D14_to_std_groupby_uid4',\n",
    " 'D14_to_std_groupby_uid5',\n",
    " 'D14_to_stdscore_groupby_uid',\n",
    " 'D14_to_stdscore_groupby_uid2',\n",
    " 'D14_to_stdscore_groupby_uid3',\n",
    " 'D14_to_stdscore_groupby_uid4',\n",
    " 'D14_to_stdscore_groupby_uid5',\n",
    " 'D1_to_std_groupby_uid4',\n",
    " 'D3_global_count',\n",
    " 'D3_to_minmax_groupby_bank_type',\n",
    " 'D3_to_minmax_groupby_uid5',\n",
    " 'D3_to_std_groupby_bank_type',\n",
    " 'D3_to_std_groupby_uid',\n",
    " 'D3_to_std_groupby_uid2',\n",
    " 'D3_to_std_groupby_uid3',\n",
    " 'D3_to_std_groupby_uid4',\n",
    " 'D3_to_std_groupby_uid5',\n",
    " 'D5_global_count',\n",
    " 'D5_to_minmax_groupby_bank_type',\n",
    " 'D5_to_minmax_groupby_new_card_id',\n",
    " 'D5_to_minmax_groupby_uid',\n",
    " 'D5_to_minmax_groupby_uid2',\n",
    " 'D5_to_minmax_groupby_uid3',\n",
    " 'D5_to_minmax_groupby_uid4',\n",
    " 'D5_to_minmax_groupby_uid5',\n",
    " 'D5_to_std_groupby_bank_type',\n",
    " 'D5_to_std_groupby_uid',\n",
    " 'D5_to_std_groupby_uid2',\n",
    " 'D5_to_std_groupby_uid3',\n",
    " 'D5_to_std_groupby_uid4',\n",
    " 'D5_to_std_groupby_uid5',\n",
    " 'D6_global_count',\n",
    " 'D6_to_mean_groupby_bank_type',\n",
    " 'D6_to_mean_groupby_uid',\n",
    " 'D6_to_mean_groupby_uid2',\n",
    " 'D6_to_mean_groupby_uid3',\n",
    " 'D6_to_mean_groupby_uid4',\n",
    " 'D6_to_mean_groupby_uid5',\n",
    " 'D6_to_minmax_groupby_bank_type',\n",
    " 'D6_to_minmax_groupby_new_card_id',\n",
    " 'D6_to_minmax_groupby_uid',\n",
    " 'D6_to_minmax_groupby_uid2',\n",
    " 'D6_to_minmax_groupby_uid3',\n",
    " 'D6_to_minmax_groupby_uid4',\n",
    " 'D6_to_minmax_groupby_uid5',\n",
    " 'D6_to_std_groupby_bank_type',\n",
    " 'D6_to_std_groupby_new_card_id',\n",
    " 'D6_to_std_groupby_uid',\n",
    " 'D6_to_std_groupby_uid2',\n",
    " 'D6_to_std_groupby_uid3',\n",
    " 'D6_to_std_groupby_uid4',\n",
    " 'D6_to_std_groupby_uid5',\n",
    " 'D6_to_stdscore_groupby_new_card_id',\n",
    " 'D7',\n",
    " 'D7_global_count',\n",
    " 'D7_to_mean_groupby_bank_type',\n",
    " 'D7_to_mean_groupby_new_card_id',\n",
    " 'D7_to_mean_groupby_uid',\n",
    " 'D7_to_mean_groupby_uid2',\n",
    " 'D7_to_mean_groupby_uid3',\n",
    " 'D7_to_mean_groupby_uid4',\n",
    " 'D7_to_mean_groupby_uid5',\n",
    " 'D7_to_minmax_groupby_bank_type',\n",
    " 'D7_to_minmax_groupby_new_card_id',\n",
    " 'D7_to_minmax_groupby_uid',\n",
    " 'D7_to_minmax_groupby_uid2',\n",
    " 'D7_to_minmax_groupby_uid3',\n",
    " 'D7_to_minmax_groupby_uid4',\n",
    " 'D7_to_minmax_groupby_uid5',\n",
    " 'D7_to_std_groupby_bank_type',\n",
    " 'D7_to_std_groupby_new_card_id',\n",
    " 'D7_to_std_groupby_uid',\n",
    " 'D7_to_std_groupby_uid2',\n",
    " 'D7_to_std_groupby_uid3',\n",
    " 'D7_to_std_groupby_uid4',\n",
    " 'D7_to_std_groupby_uid5',\n",
    " 'D7_to_stdscore_groupby_bank_type',\n",
    " 'D7_to_stdscore_groupby_new_card_id',\n",
    " 'D7_to_stdscore_groupby_uid',\n",
    " 'D7_to_stdscore_groupby_uid2',\n",
    " 'D7_to_stdscore_groupby_uid3',\n",
    " 'D7_to_stdscore_groupby_uid4',\n",
    " 'D7_to_stdscore_groupby_uid5',\n",
    " 'D8',\n",
    " 'D8_not_same_day',\n",
    " 'D9_not_na',\n",
    " 'D9_to_minmax_groupby_bank_type',\n",
    " 'D9_to_minmax_groupby_new_card_id',\n",
    " 'D9_to_minmax_groupby_uid',\n",
    " 'D9_to_minmax_groupby_uid2',\n",
    " 'D9_to_minmax_groupby_uid3',\n",
    " 'D9_to_minmax_groupby_uid4',\n",
    " 'D9_to_minmax_groupby_uid5',\n",
    " 'D9_to_stdscore_groupby_uid4',\n",
    " 'D9_to_stdscore_groupby_uid5',\n",
    " 'DeviceType_global_count',\n",
    " 'M1',\n",
    " 'M_sum',\n",
    " 'OS_global_count',\n",
    " 'R_emaildomain_suffix',\n",
    " 'TransactionAmt_Log',\n",
    " 'TransactionAmt_Log1p',\n",
    " 'TransactionAmt_check',\n",
    " 'V_PCA_15_10',\n",
    " 'V_PCA_15_7',\n",
    " 'V_PCA_314_12',\n",
    " 'V_PCA_314_4',\n",
    " 'V_PCA_820866_2',\n",
    " 'V_PCA_820866_4',\n",
    " 'V_PCA_840073_3',\n",
    " 'V_PCA_938449_0',\n",
    " 'V_PCA_938449_2',\n",
    " 'V_PCA_938449_3',\n",
    " 'V_PCA_938449_4',\n",
    " 'V_PCA_939501_1',\n",
    " 'addr2',\n",
    " 'addr2_C5count',\n",
    " 'addr2_amtcount',\n",
    " 'addr2_global_count',\n",
    " 'card3_global_count',\n",
    " 'id_07',\n",
    " 'id_08',\n",
    " 'id_10',\n",
    " 'id_11',\n",
    " 'id_12',\n",
    " 'id_12_global_count',\n",
    " 'id_15',\n",
    " 'id_15_global_count',\n",
    " 'id_16',\n",
    " 'id_16_global_count',\n",
    " 'id_17_global_count',\n",
    " 'id_21',\n",
    " 'id_21_global_count',\n",
    " 'id_22',\n",
    " 'id_22_global_count',\n",
    " 'id_23',\n",
    " 'id_23_global_count',\n",
    " 'id_24',\n",
    " 'id_24_global_count',\n",
    " 'id_25',\n",
    " 'id_25_global_count',\n",
    " 'id_26',\n",
    " 'id_26_global_count',\n",
    " 'id_27',\n",
    " 'id_27_global_count',\n",
    " 'id_28',\n",
    " 'id_28_global_count',\n",
    " 'id_29',\n",
    " 'id_29_global_count',\n",
    " 'id_32',\n",
    " 'id_32_global_count',\n",
    " 'id_34',\n",
    " 'id_34_global_count',\n",
    " 'id_35',\n",
    " 'id_36',\n",
    " 'id_36_global_count',\n",
    " 'id_37',\n",
    " 'id_37_global_count',\n",
    " 'id_38',\n",
    " 'id_38_global_count',\n",
    " 'isNight',\n",
    " 'is_holiday',\n",
    " 'lastest_browser']\n",
    "p.add_node(DropFeaturesNode, ('data','numerical_columns','categorical_columns'),\n",
    "            ('data','numerical_columns','categorical_columns'),\n",
    "           params={\n",
    "               'drop': features_to_remove,\n",
    "           })\n",
    "p.save()\n",
    "p.run(verbose=True)\n"
   ]
  },
  {
   "cell_type": "code",
   "execution_count": 5,
   "metadata": {
    "ExecuteTime": {
     "end_time": "2019-09-30T20:02:56.802054Z",
     "start_time": "2019-09-30T20:02:56.678048Z"
    }
   },
   "outputs": [],
   "source": [
    "p.add_node(LoaderNode, None, 'tramt_diff',\n",
    "           params={\n",
    "               'input_directory': data_dir,\n",
    "               'file': 'tramt_diff.pkl'\n",
    "           })\n",
    "p.add_node(LoaderNode, None, 'magic_C',\n",
    "           params={\n",
    "               'input_directory': data_dir,\n",
    "               'file': 'magic_C.pkl'\n",
    "           })\n",
    "p.add_node(JoinNode,\n",
    "           ('magic_C', 'tramt_diff'),\n",
    "           'add',\n",
    "           params={\n",
    "               'on': 'TransactionID'\n",
    "           })\n",
    "p.add_node(JoinNode,\n",
    "           ('data', 'add'),\n",
    "           'data',\n",
    "           params={\n",
    "               'on': 'TransactionID'\n",
    "           })\n",
    "p.add_node(EraserNode, params={\n",
    "    'remove_keys': ['magic_C', 'tramt_diff', 'add']\n",
    "})"
   ]
  },
  {
   "cell_type": "code",
   "execution_count": 6,
   "metadata": {
    "ExecuteTime": {
     "end_time": "2019-09-30T20:08:42.297395Z",
     "start_time": "2019-09-30T20:03:03.055669Z"
    }
   },
   "outputs": [
    {
     "name": "stdout",
     "output_type": "stream",
     "text": [
      "---------------------------\n",
      "5: LoaderNode [2019-09-30 23:03:03]\n",
      "params:\n",
      " {'input_directory': 'e:/kaggle/05-LabelEncoded-last', 'file': 'tramt_diff.pkl'}\n",
      "---------------------------\n",
      "6: LoaderNode [2019-09-30 23:03:03]\n",
      "params:\n",
      " {'input_directory': 'e:/kaggle/05-LabelEncoded-last', 'file': 'magic_C.pkl'}\n",
      "---------------------------\n",
      "7: JoinNode [2019-09-30 23:03:03]\n",
      "params:\n",
      " {'on': 'TransactionID'}\n",
      "---------------------------\n",
      "8: JoinNode [2019-09-30 23:03:04]\n",
      "params:\n",
      " {'on': 'TransactionID'}\n",
      "---------------------------\n",
      "9: EraserNode [2019-09-30 23:08:42]\n",
      "params:\n",
      " {'remove_keys': ['magic_C', 'tramt_diff', 'add']}\n"
     ]
    }
   ],
   "source": [
    "p.save()\n",
    "p.run(verbose=True)"
   ]
  },
  {
   "cell_type": "code",
   "execution_count": 7,
   "metadata": {
    "ExecuteTime": {
     "end_time": "2019-09-30T20:09:54.968647Z",
     "start_time": "2019-09-30T20:08:42.803403Z"
    }
   },
   "outputs": [
    {
     "name": "stdout",
     "output_type": "stream",
     "text": [
      "Saving data\n",
      "Saving numerical_columns\n",
      "Saving categorical_columns\n",
      "Saving bad_for_training_features\n"
     ]
    }
   ],
   "source": [
    "p.save_data()"
   ]
  },
  {
   "cell_type": "code",
   "execution_count": 12,
   "metadata": {
    "ExecuteTime": {
     "end_time": "2019-09-30T20:15:42.667946Z",
     "start_time": "2019-09-30T20:15:42.543919Z"
    }
   },
   "outputs": [],
   "source": [
    "numerical_features = p.data['numerical_columns']\n",
    "categorical_features = p.data['categorical_columns']\n",
    "all_features = numerical_features+categorical_features\n",
    "new_features = [f for f in p.data['data'].columns if f not in all_features]\n"
   ]
  },
  {
   "cell_type": "code",
   "execution_count": 16,
   "metadata": {
    "ExecuteTime": {
     "end_time": "2019-09-30T20:16:19.665587Z",
     "start_time": "2019-09-30T20:16:19.530579Z"
    },
    "scrolled": true
   },
   "outputs": [
    {
     "name": "stdout",
     "output_type": "stream",
     "text": [
      "- isFraud\n",
      "- uid_C1_percent\n",
      "- uid_C2_percent\n",
      "- uid_C3_percent\n",
      "- uid_C4_percent\n",
      "- uid_C5_percent\n",
      "- uid_C6_percent\n",
      "- uid_C7_percent\n",
      "- uid_C8_percent\n",
      "- uid_C9_percent\n",
      "- uid_C10_percent\n",
      "- uid_C11_percent\n",
      "- uid_C12_percent\n",
      "- uid_C13_percent\n",
      "- uid_C14_percent\n",
      "- TransactionAmt_diff_by_new_card_id\n",
      "\n"
     ]
    }
   ],
   "source": [
    "import yaml\n",
    "print(yaml.dump(new_features))\n"
   ]
  }
 ],
 "metadata": {
  "kernelspec": {
   "display_name": "Python 3",
   "language": "python",
   "name": "python3"
  },
  "language_info": {
   "codemirror_mode": {
    "name": "ipython",
    "version": 3
   },
   "file_extension": ".py",
   "mimetype": "text/x-python",
   "name": "python",
   "nbconvert_exporter": "python",
   "pygments_lexer": "ipython3",
   "version": "3.7.4"
  },
  "toc": {
   "base_numbering": 1,
   "nav_menu": {},
   "number_sections": true,
   "sideBar": true,
   "skip_h1_title": false,
   "title_cell": "Table of Contents",
   "title_sidebar": "Contents",
   "toc_cell": false,
   "toc_position": {},
   "toc_section_display": true,
   "toc_window_display": false
  },
  "varInspector": {
   "cols": {
    "lenName": 16,
    "lenType": 16,
    "lenVar": 40
   },
   "kernels_config": {
    "python": {
     "delete_cmd_postfix": "",
     "delete_cmd_prefix": "del ",
     "library": "var_list.py",
     "varRefreshCmd": "print(var_dic_list())"
    },
    "r": {
     "delete_cmd_postfix": ") ",
     "delete_cmd_prefix": "rm(",
     "library": "var_list.r",
     "varRefreshCmd": "cat(var_dic_list()) "
    }
   },
   "types_to_exclude": [
    "module",
    "function",
    "builtin_function_or_method",
    "instance",
    "_Feature"
   ],
   "window_display": false
  }
 },
 "nbformat": 4,
 "nbformat_minor": 2
}
