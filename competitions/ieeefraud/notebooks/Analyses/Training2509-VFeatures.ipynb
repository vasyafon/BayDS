{
 "cells": [
  {
   "cell_type": "code",
   "execution_count": 2,
   "metadata": {
    "ExecuteTime": {
     "end_time": "2019-09-28T09:51:26.415590Z",
     "start_time": "2019-09-28T09:51:22.957524Z"
    }
   },
   "outputs": [],
   "source": [
    "%load_ext autoreload\n",
    "%autoreload 2\n",
    "main_dir = r'../../..'\n",
    "data_path = main_dir+'/data'\n",
    "import sys\n",
    "sys.path.append(main_dir)\n",
    "from typing import List, Set, Dict, Optional, Any, Tuple, Type, Union\n",
    "\n",
    "from BayDS.lib.pipeline import *\n",
    "from BayDS.lib.io import *\n",
    "\n",
    "import os\n"
   ]
  },
  {
   "cell_type": "code",
   "execution_count": 20,
   "metadata": {
    "ExecuteTime": {
     "end_time": "2019-09-28T10:36:02.113918Z",
     "start_time": "2019-09-28T10:36:01.800913Z"
    }
   },
   "outputs": [],
   "source": [
    "working_folder=f'{main_dir}/Snapshots/1/Training2509_Vfeat'"
   ]
  },
  {
   "cell_type": "code",
   "execution_count": 4,
   "metadata": {
    "ExecuteTime": {
     "end_time": "2019-09-28T09:54:46.571618Z",
     "start_time": "2019-09-28T09:53:59.542985Z"
    }
   },
   "outputs": [
    {
     "name": "stdout",
     "output_type": "stream",
     "text": [
      "---------------------------\n",
      "0: LoaderNode [2019-09-28 12:54:00]\n",
      "params:\n",
      " {'input_directory': '../../../Snapshots/1/Training2509', 'file': 'data.pkl'}\n",
      "---------------------------\n",
      "1: LoaderNode [2019-09-28 12:54:02]\n",
      "params:\n",
      " {'input_directory': '../../../Snapshots/1/Training2509', 'file': 'numerical_columns.yaml'}\n",
      "---------------------------\n",
      "2: LoaderNode [2019-09-28 12:54:02]\n",
      "params:\n",
      " {'input_directory': '../../../Snapshots/1/Training2509', 'file': 'categorical_columns.yaml'}\n",
      "---------------------------\n",
      "3: LoaderNode [2019-09-28 12:54:02]\n",
      "params:\n",
      " {'input_directory': '../../../Snapshots/1/VFeatures', 'file': 'v_features_reduced.pkl'}\n",
      "---------------------------\n",
      "4: LoaderNode [2019-09-28 12:54:04]\n",
      "params:\n",
      " {'input_directory': '../../../Snapshots/1/VFeatures', 'file': 'v_features_reduced.pkl'}\n",
      "---------------------------\n",
      "5: JoinNode [2019-09-28 12:54:05]\n",
      "params:\n",
      " {'on': 'TransactionID'}\n",
      "---------------------------\n",
      "6: EraserNode [2019-09-28 12:54:46]\n",
      "params:\n",
      " {'remove_keys': ['v_features']}\n"
     ]
    }
   ],
   "source": [
    "data_dir = f'{main_dir}/Snapshots/1/Training2509'\n",
    "v_dir = f'{main_dir}/Snapshots/1/VFeatures'\n",
    "p = Pipeline(working_folder=f'{main_dir}/Snapshots/1/Training2509_Vfeat')\n",
    "\n",
    "p.add_node(LoaderNode, None, 'data',\n",
    "           params={\n",
    "               'input_directory': data_dir,\n",
    "               'file': 'data.pkl'\n",
    "           })\n",
    "p.add_node(LoaderNode, None, 'numerical_columns',\n",
    "           params={\n",
    "               'input_directory': data_dir,\n",
    "               'file': 'numerical_columns.yaml'\n",
    "           })\n",
    "p.add_node(LoaderNode, None, 'categorical_columns',\n",
    "           params={\n",
    "               'input_directory': data_dir,\n",
    "               'file': 'categorical_columns.yaml'\n",
    "           })\n",
    "p.add_node(LoaderNode, None, 'v_features',\n",
    "           params={\n",
    "               'input_directory': v_dir,\n",
    "               'file': 'v_features_reduced.pkl'\n",
    "           })\n",
    "p.add_node(LoaderNode, None, 'v_features',\n",
    "           params={\n",
    "               'input_directory': v_dir,\n",
    "               'file': 'v_features_reduced.pkl'\n",
    "           })\n",
    "p.add_node(JoinNode,\n",
    "           ('data', 'v_features'),\n",
    "           'data',\n",
    "           params={\n",
    "               'on': 'TransactionID'\n",
    "           })\n",
    "p.add_node(EraserNode,\n",
    "           params={\n",
    "    'remove_keys': ['v_features']\n",
    "})\n",
    "p.save()\n",
    "p.run()\n",
    "\n",
    "VFeatures_to_remove = [f'V{i}' for i in range(1,340)]\n",
    "VFeatures_to_remove = [vf for vf in VFeatures_to_remove if vf in p.data['data'].columns]\n",
    "p.add_node(EraserNode,\n",
    "           params={\n",
    "    'remove_keys': ['v_features']\n",
    "})\n",
    "p.save()\n",
    "\n",
    "p.add_node(DropFeaturesNode,\n",
    "           ('data','numerical_columns','categorical_columns'),\n",
    "           ('data','numerical_columns','categorical_columns'),\n",
    "           params={\n",
    "               'drop': VFeatures_to_remove,\n",
    "           })\n",
    "p.save()\n",
    "p.run(verbose=True)\n",
    "\n",
    "p.data['numerical_columns'].extend([col for col in p.data['data'].columns if col.startswith('V_PCA')])\n",
    "p.save_data()"
   ]
  },
  {
   "cell_type": "code",
   "execution_count": 12,
   "metadata": {
    "ExecuteTime": {
     "end_time": "2019-09-28T10:01:16.786102Z",
     "start_time": "2019-09-28T10:01:14.365040Z"
    }
   },
   "outputs": [
    {
     "name": "stdout",
     "output_type": "stream",
     "text": [
      "---------------------------\n",
      "8: DownsamplingTrainNode [2019-09-28 13:01:14]\n",
      "params:\n",
      " {'strategy': 'reduction_factor', 'reduction_factor': 0.2}\n"
     ]
    }
   ],
   "source": [
    "p.add_node(DownsamplingTrainNode, 'data', 'train_data',\n",
    "          params={\n",
    "               'strategy':'reduction_factor',\n",
    "               'reduction_factor': 0.2,\n",
    "           })\n",
    "p.save()\n",
    "p.run(verbose=True)"
   ]
  },
  {
   "cell_type": "markdown",
   "metadata": {
    "ExecuteTime": {
     "end_time": "2019-09-22T12:47:29.055553Z",
     "start_time": "2019-09-22T12:47:28.933527Z"
    }
   },
   "source": [
    "## Code to make pipeline node"
   ]
  },
  {
   "cell_type": "code",
   "execution_count": 13,
   "metadata": {
    "ExecuteTime": {
     "end_time": "2019-09-28T10:01:20.455734Z",
     "start_time": "2019-09-28T10:01:19.355663Z"
    }
   },
   "outputs": [],
   "source": [
    "# df = p.data['data']\n",
    "train = p.data['train_data'][p.data['train_data'].isFraud >= 0]\n",
    "test =  p.data['data'][p.data['data'].isFraud < 0]\n"
   ]
  },
  {
   "cell_type": "code",
   "execution_count": 14,
   "metadata": {
    "ExecuteTime": {
     "end_time": "2019-09-28T10:02:12.429545Z",
     "start_time": "2019-09-28T10:01:23.310388Z"
    }
   },
   "outputs": [
    {
     "data": {
      "text/plain": [
       "0"
      ]
     },
     "execution_count": 14,
     "metadata": {},
     "output_type": "execute_result"
    }
   ],
   "source": [
    "X = train.drop('isFraud',axis=1)\n",
    "y = train['isFraud']\n",
    "\n",
    "test =  test.drop('isFraud',axis=1)\n",
    "\n",
    "X.replace(np.inf, np.nan, inplace=True)\n",
    "X.replace(-np.inf, np.nan, inplace=True)\n",
    "test.replace(np.inf, np.nan, inplace=True)\n",
    "test.replace(-np.inf, np.nan, inplace=True)\n",
    "\n",
    "categorical_features = [c for c, col in enumerate(X.columns) if col in p.data['categorical_columns']]\n",
    "\n",
    "del p\n",
    "train_idx = train.index\n",
    "del train\n",
    "gc.collect()"
   ]
  },
  {
   "cell_type": "code",
   "execution_count": null,
   "metadata": {},
   "outputs": [],
   "source": []
  },
  {
   "cell_type": "code",
   "execution_count": 15,
   "metadata": {
    "ExecuteTime": {
     "end_time": "2019-09-28T10:02:19.796702Z",
     "start_time": "2019-09-28T10:02:13.085554Z"
    }
   },
   "outputs": [
    {
     "name": "stdout",
     "output_type": "stream",
     "text": [
      "start_date datetime64[ns]\n"
     ]
    },
    {
     "name": "stderr",
     "output_type": "stream",
     "text": [
      "c:\\python37\\lib\\site-packages\\pandas\\util\\_decorators.py:208: FutureWarning: Passing datetime64-dtype data to TimedeltaIndex is deprecated, will raise a TypeError in a future version\n",
      "  return func(*args, **kwargs)\n"
     ]
    }
   ],
   "source": [
    "for col in X.columns:\n",
    "    if str(X[col].dtype) == 'datetime64[ns]':\n",
    "        print (col, X[col].dtype)\n",
    "        X[col] = pd.to_timedelta(X[col]).map(lambda qq:qq.days)\n",
    "        test[col] = pd.to_timedelta(test[col]).map(lambda qq:qq.days)\n",
    "#         X[col] = X[col].astype(datetime.datetime)"
   ]
  },
  {
   "cell_type": "code",
   "execution_count": 16,
   "metadata": {
    "ExecuteTime": {
     "end_time": "2019-09-28T10:02:20.607890Z",
     "start_time": "2019-09-28T10:02:20.422037Z"
    }
   },
   "outputs": [],
   "source": [
    "from sklearn.model_selection import KFold\n",
    "n_fold = 5\n",
    "# folds = TimeSeriesSplit(n_splits=n_fold)\n",
    "folds = KFold(n_splits=5)"
   ]
  },
  {
   "cell_type": "code",
   "execution_count": 17,
   "metadata": {
    "ExecuteTime": {
     "end_time": "2019-09-28T10:02:28.018374Z",
     "start_time": "2019-09-28T10:02:21.222919Z"
    },
    "scrolled": true
   },
   "outputs": [
    {
     "name": "stderr",
     "output_type": "stream",
     "text": [
      "Using TensorFlow backend.\n",
      "c:\\python37\\lib\\site-packages\\tensorflow\\python\\framework\\dtypes.py:516: FutureWarning: Passing (type, 1) or '1type' as a synonym of type is deprecated; in a future version of numpy, it will be understood as (type, (1,)) / '(1,)type'.\n",
      "  _np_qint8 = np.dtype([(\"qint8\", np.int8, 1)])\n",
      "c:\\python37\\lib\\site-packages\\tensorflow\\python\\framework\\dtypes.py:517: FutureWarning: Passing (type, 1) or '1type' as a synonym of type is deprecated; in a future version of numpy, it will be understood as (type, (1,)) / '(1,)type'.\n",
      "  _np_quint8 = np.dtype([(\"quint8\", np.uint8, 1)])\n",
      "c:\\python37\\lib\\site-packages\\tensorflow\\python\\framework\\dtypes.py:518: FutureWarning: Passing (type, 1) or '1type' as a synonym of type is deprecated; in a future version of numpy, it will be understood as (type, (1,)) / '(1,)type'.\n",
      "  _np_qint16 = np.dtype([(\"qint16\", np.int16, 1)])\n",
      "c:\\python37\\lib\\site-packages\\tensorflow\\python\\framework\\dtypes.py:519: FutureWarning: Passing (type, 1) or '1type' as a synonym of type is deprecated; in a future version of numpy, it will be understood as (type, (1,)) / '(1,)type'.\n",
      "  _np_quint16 = np.dtype([(\"quint16\", np.uint16, 1)])\n",
      "c:\\python37\\lib\\site-packages\\tensorflow\\python\\framework\\dtypes.py:520: FutureWarning: Passing (type, 1) or '1type' as a synonym of type is deprecated; in a future version of numpy, it will be understood as (type, (1,)) / '(1,)type'.\n",
      "  _np_qint32 = np.dtype([(\"qint32\", np.int32, 1)])\n",
      "c:\\python37\\lib\\site-packages\\tensorflow\\python\\framework\\dtypes.py:525: FutureWarning: Passing (type, 1) or '1type' as a synonym of type is deprecated; in a future version of numpy, it will be understood as (type, (1,)) / '(1,)type'.\n",
      "  np_resource = np.dtype([(\"resource\", np.ubyte, 1)])\n",
      "c:\\python37\\lib\\site-packages\\tensorboard\\compat\\tensorflow_stub\\dtypes.py:541: FutureWarning: Passing (type, 1) or '1type' as a synonym of type is deprecated; in a future version of numpy, it will be understood as (type, (1,)) / '(1,)type'.\n",
      "  _np_qint8 = np.dtype([(\"qint8\", np.int8, 1)])\n",
      "c:\\python37\\lib\\site-packages\\tensorboard\\compat\\tensorflow_stub\\dtypes.py:542: FutureWarning: Passing (type, 1) or '1type' as a synonym of type is deprecated; in a future version of numpy, it will be understood as (type, (1,)) / '(1,)type'.\n",
      "  _np_quint8 = np.dtype([(\"quint8\", np.uint8, 1)])\n",
      "c:\\python37\\lib\\site-packages\\tensorboard\\compat\\tensorflow_stub\\dtypes.py:543: FutureWarning: Passing (type, 1) or '1type' as a synonym of type is deprecated; in a future version of numpy, it will be understood as (type, (1,)) / '(1,)type'.\n",
      "  _np_qint16 = np.dtype([(\"qint16\", np.int16, 1)])\n",
      "c:\\python37\\lib\\site-packages\\tensorboard\\compat\\tensorflow_stub\\dtypes.py:544: FutureWarning: Passing (type, 1) or '1type' as a synonym of type is deprecated; in a future version of numpy, it will be understood as (type, (1,)) / '(1,)type'.\n",
      "  _np_quint16 = np.dtype([(\"quint16\", np.uint16, 1)])\n",
      "c:\\python37\\lib\\site-packages\\tensorboard\\compat\\tensorflow_stub\\dtypes.py:545: FutureWarning: Passing (type, 1) or '1type' as a synonym of type is deprecated; in a future version of numpy, it will be understood as (type, (1,)) / '(1,)type'.\n",
      "  _np_qint32 = np.dtype([(\"qint32\", np.int32, 1)])\n",
      "c:\\python37\\lib\\site-packages\\tensorboard\\compat\\tensorflow_stub\\dtypes.py:550: FutureWarning: Passing (type, 1) or '1type' as a synonym of type is deprecated; in a future version of numpy, it will be understood as (type, (1,)) / '(1,)type'.\n",
      "  np_resource = np.dtype([(\"resource\", np.ubyte, 1)])\n"
     ]
    }
   ],
   "source": [
    "from BayDS.lib.training import *"
   ]
  },
  {
   "cell_type": "code",
   "execution_count": 18,
   "metadata": {
    "ExecuteTime": {
     "end_time": "2019-09-28T10:02:29.453349Z",
     "start_time": "2019-09-28T10:02:28.938368Z"
    }
   },
   "outputs": [
    {
     "data": {
      "text/html": [
       "<div>\n",
       "<style scoped>\n",
       "    .dataframe tbody tr th:only-of-type {\n",
       "        vertical-align: middle;\n",
       "    }\n",
       "\n",
       "    .dataframe tbody tr th {\n",
       "        vertical-align: top;\n",
       "    }\n",
       "\n",
       "    .dataframe thead th {\n",
       "        text-align: right;\n",
       "    }\n",
       "</style>\n",
       "<table border=\"1\" class=\"dataframe\">\n",
       "  <thead>\n",
       "    <tr style=\"text-align: right;\">\n",
       "      <th></th>\n",
       "      <th>TransactionAmt</th>\n",
       "      <th>ProductCD</th>\n",
       "      <th>card1</th>\n",
       "      <th>card2</th>\n",
       "      <th>card3</th>\n",
       "      <th>card4</th>\n",
       "      <th>card5</th>\n",
       "      <th>card6</th>\n",
       "      <th>addr1</th>\n",
       "      <th>addr2</th>\n",
       "      <th>...</th>\n",
       "      <th>V_PCA_7300_2</th>\n",
       "      <th>V_PCA_7300_3</th>\n",
       "      <th>V_PCA_7300_4</th>\n",
       "      <th>V_PCA_7300_5</th>\n",
       "      <th>V_PCA_7300_6</th>\n",
       "      <th>V_PCA_938449_0</th>\n",
       "      <th>V_PCA_938449_1</th>\n",
       "      <th>V_PCA_938449_2</th>\n",
       "      <th>V_PCA_938449_3</th>\n",
       "      <th>V_PCA_938449_4</th>\n",
       "    </tr>\n",
       "    <tr>\n",
       "      <th>TransactionID</th>\n",
       "      <th></th>\n",
       "      <th></th>\n",
       "      <th></th>\n",
       "      <th></th>\n",
       "      <th></th>\n",
       "      <th></th>\n",
       "      <th></th>\n",
       "      <th></th>\n",
       "      <th></th>\n",
       "      <th></th>\n",
       "      <th></th>\n",
       "      <th></th>\n",
       "      <th></th>\n",
       "      <th></th>\n",
       "      <th></th>\n",
       "      <th></th>\n",
       "      <th></th>\n",
       "      <th></th>\n",
       "      <th></th>\n",
       "      <th></th>\n",
       "      <th></th>\n",
       "    </tr>\n",
       "  </thead>\n",
       "  <tbody>\n",
       "    <tr>\n",
       "      <td>3663549</td>\n",
       "      <td>31.950000762939453</td>\n",
       "      <td>0</td>\n",
       "      <td>835</td>\n",
       "      <td>1</td>\n",
       "      <td>0</td>\n",
       "      <td>0</td>\n",
       "      <td>0</td>\n",
       "      <td>0</td>\n",
       "      <td>39</td>\n",
       "      <td>0</td>\n",
       "      <td>...</td>\n",
       "      <td>0.289877096546962</td>\n",
       "      <td>-0.091256422005949</td>\n",
       "      <td>-0.048587506672797</td>\n",
       "      <td>-0.327969201196197</td>\n",
       "      <td>0.268264935518528</td>\n",
       "      <td>-0.21751675032623</td>\n",
       "      <td>-0.029469075241344</td>\n",
       "      <td>-0.011814284460428</td>\n",
       "      <td>0.065417129464098</td>\n",
       "      <td>0.00576887808051</td>\n",
       "    </tr>\n",
       "    <tr>\n",
       "      <td>3663550</td>\n",
       "      <td>49.000000000000000</td>\n",
       "      <td>0</td>\n",
       "      <td>90</td>\n",
       "      <td>1</td>\n",
       "      <td>0</td>\n",
       "      <td>0</td>\n",
       "      <td>0</td>\n",
       "      <td>0</td>\n",
       "      <td>1</td>\n",
       "      <td>0</td>\n",
       "      <td>...</td>\n",
       "      <td>0.289877096546962</td>\n",
       "      <td>-0.091256422005949</td>\n",
       "      <td>-0.048587506672797</td>\n",
       "      <td>-0.327969201196197</td>\n",
       "      <td>0.268264935518528</td>\n",
       "      <td>-0.21751675032623</td>\n",
       "      <td>-0.029469075241344</td>\n",
       "      <td>-0.011814284460428</td>\n",
       "      <td>0.065417129464098</td>\n",
       "      <td>0.00576887808051</td>\n",
       "    </tr>\n",
       "    <tr>\n",
       "      <td>3663551</td>\n",
       "      <td>171.000000000000000</td>\n",
       "      <td>0</td>\n",
       "      <td>1372</td>\n",
       "      <td>491</td>\n",
       "      <td>0</td>\n",
       "      <td>0</td>\n",
       "      <td>0</td>\n",
       "      <td>0</td>\n",
       "      <td>20</td>\n",
       "      <td>0</td>\n",
       "      <td>...</td>\n",
       "      <td>0.435701383846913</td>\n",
       "      <td>0.482920556506507</td>\n",
       "      <td>0.071794738036895</td>\n",
       "      <td>-0.310699981388025</td>\n",
       "      <td>0.209688942982483</td>\n",
       "      <td>-0.21751675032623</td>\n",
       "      <td>-0.029469075241344</td>\n",
       "      <td>-0.011814284460428</td>\n",
       "      <td>0.065417129464098</td>\n",
       "      <td>0.00576887808051</td>\n",
       "    </tr>\n",
       "    <tr>\n",
       "      <td>3663552</td>\n",
       "      <td>284.950012207031250</td>\n",
       "      <td>0</td>\n",
       "      <td>97</td>\n",
       "      <td>9</td>\n",
       "      <td>0</td>\n",
       "      <td>0</td>\n",
       "      <td>2</td>\n",
       "      <td>0</td>\n",
       "      <td>26</td>\n",
       "      <td>0</td>\n",
       "      <td>...</td>\n",
       "      <td>1.156214447308747</td>\n",
       "      <td>-0.572542517636750</td>\n",
       "      <td>-0.405083322746114</td>\n",
       "      <td>-0.443071511941646</td>\n",
       "      <td>-1.069088333420431</td>\n",
       "      <td>-0.21751675032623</td>\n",
       "      <td>-0.029469075241344</td>\n",
       "      <td>-0.011814284460428</td>\n",
       "      <td>0.065417129464098</td>\n",
       "      <td>0.00576887808051</td>\n",
       "    </tr>\n",
       "    <tr>\n",
       "      <td>3663553</td>\n",
       "      <td>67.949996948242188</td>\n",
       "      <td>0</td>\n",
       "      <td>65</td>\n",
       "      <td>53</td>\n",
       "      <td>0</td>\n",
       "      <td>1</td>\n",
       "      <td>4</td>\n",
       "      <td>0</td>\n",
       "      <td>4</td>\n",
       "      <td>0</td>\n",
       "      <td>...</td>\n",
       "      <td>-0.220960831206074</td>\n",
       "      <td>0.205546821712036</td>\n",
       "      <td>-1.297690083700719</td>\n",
       "      <td>-0.369940819878188</td>\n",
       "      <td>-0.321228011155513</td>\n",
       "      <td>-0.21751675032623</td>\n",
       "      <td>-0.029469075241344</td>\n",
       "      <td>-0.011814284460428</td>\n",
       "      <td>0.065417129464098</td>\n",
       "      <td>0.00576887808051</td>\n",
       "    </tr>\n",
       "    <tr>\n",
       "      <td>...</td>\n",
       "      <td>...</td>\n",
       "      <td>...</td>\n",
       "      <td>...</td>\n",
       "      <td>...</td>\n",
       "      <td>...</td>\n",
       "      <td>...</td>\n",
       "      <td>...</td>\n",
       "      <td>...</td>\n",
       "      <td>...</td>\n",
       "      <td>...</td>\n",
       "      <td>...</td>\n",
       "      <td>...</td>\n",
       "      <td>...</td>\n",
       "      <td>...</td>\n",
       "      <td>...</td>\n",
       "      <td>...</td>\n",
       "      <td>...</td>\n",
       "      <td>...</td>\n",
       "      <td>...</td>\n",
       "      <td>...</td>\n",
       "      <td>...</td>\n",
       "    </tr>\n",
       "    <tr>\n",
       "      <td>4170235</td>\n",
       "      <td>94.679000854492188</td>\n",
       "      <td>1</td>\n",
       "      <td>39</td>\n",
       "      <td>20</td>\n",
       "      <td>1</td>\n",
       "      <td>1</td>\n",
       "      <td>1</td>\n",
       "      <td>0</td>\n",
       "      <td>49</td>\n",
       "      <td>2</td>\n",
       "      <td>...</td>\n",
       "      <td>-0.179606723596003</td>\n",
       "      <td>-0.107766062387079</td>\n",
       "      <td>0.304612144255083</td>\n",
       "      <td>0.281329416125136</td>\n",
       "      <td>-0.141240009573960</td>\n",
       "      <td>-0.21751675032623</td>\n",
       "      <td>-0.029469075241344</td>\n",
       "      <td>-0.011814284460428</td>\n",
       "      <td>0.065417129464098</td>\n",
       "      <td>0.00576887808051</td>\n",
       "    </tr>\n",
       "    <tr>\n",
       "      <td>4170236</td>\n",
       "      <td>12.173000335693359</td>\n",
       "      <td>1</td>\n",
       "      <td>12</td>\n",
       "      <td>13</td>\n",
       "      <td>1</td>\n",
       "      <td>1</td>\n",
       "      <td>1</td>\n",
       "      <td>0</td>\n",
       "      <td>0</td>\n",
       "      <td>1</td>\n",
       "      <td>...</td>\n",
       "      <td>-2.792772457110790</td>\n",
       "      <td>0.919287913055914</td>\n",
       "      <td>-2.266050544534329</td>\n",
       "      <td>-1.643547985875535</td>\n",
       "      <td>-0.577320356638508</td>\n",
       "      <td>-0.21751675032623</td>\n",
       "      <td>-0.029469075241344</td>\n",
       "      <td>-0.011814284460428</td>\n",
       "      <td>0.065417129464098</td>\n",
       "      <td>0.00576887808051</td>\n",
       "    </tr>\n",
       "    <tr>\n",
       "      <td>4170237</td>\n",
       "      <td>49.000000000000000</td>\n",
       "      <td>0</td>\n",
       "      <td>147</td>\n",
       "      <td>3</td>\n",
       "      <td>0</td>\n",
       "      <td>0</td>\n",
       "      <td>0</td>\n",
       "      <td>0</td>\n",
       "      <td>18</td>\n",
       "      <td>0</td>\n",
       "      <td>...</td>\n",
       "      <td>-0.179606723596003</td>\n",
       "      <td>-0.107766062387079</td>\n",
       "      <td>0.304612144255083</td>\n",
       "      <td>0.281329416125136</td>\n",
       "      <td>-0.141240009573960</td>\n",
       "      <td>-0.21751675032623</td>\n",
       "      <td>-0.029469075241344</td>\n",
       "      <td>-0.011814284460428</td>\n",
       "      <td>0.065417129464098</td>\n",
       "      <td>0.00576887808051</td>\n",
       "    </tr>\n",
       "    <tr>\n",
       "      <td>4170238</td>\n",
       "      <td>202.000000000000000</td>\n",
       "      <td>0</td>\n",
       "      <td>9690</td>\n",
       "      <td>286</td>\n",
       "      <td>0</td>\n",
       "      <td>1</td>\n",
       "      <td>1</td>\n",
       "      <td>0</td>\n",
       "      <td>32</td>\n",
       "      <td>0</td>\n",
       "      <td>...</td>\n",
       "      <td>-0.179606723596003</td>\n",
       "      <td>-0.107766062387079</td>\n",
       "      <td>0.304612144255083</td>\n",
       "      <td>0.281329416125136</td>\n",
       "      <td>-0.141240009573960</td>\n",
       "      <td>-0.21751675032623</td>\n",
       "      <td>-0.029469075241344</td>\n",
       "      <td>-0.011814284460428</td>\n",
       "      <td>0.065417129464098</td>\n",
       "      <td>0.00576887808051</td>\n",
       "    </tr>\n",
       "    <tr>\n",
       "      <td>4170239</td>\n",
       "      <td>24.346000671386719</td>\n",
       "      <td>1</td>\n",
       "      <td>743</td>\n",
       "      <td>224</td>\n",
       "      <td>5</td>\n",
       "      <td>0</td>\n",
       "      <td>25</td>\n",
       "      <td>1</td>\n",
       "      <td>0</td>\n",
       "      <td>1</td>\n",
       "      <td>...</td>\n",
       "      <td>-0.179606723596003</td>\n",
       "      <td>-0.107766062387079</td>\n",
       "      <td>0.304612144255083</td>\n",
       "      <td>0.281329416125136</td>\n",
       "      <td>-0.141240009573960</td>\n",
       "      <td>-0.21751675032623</td>\n",
       "      <td>-0.029469075241344</td>\n",
       "      <td>-0.011814284460428</td>\n",
       "      <td>0.065417129464098</td>\n",
       "      <td>0.00576887808051</td>\n",
       "    </tr>\n",
       "  </tbody>\n",
       "</table>\n",
       "<p>506691 rows × 373 columns</p>\n",
       "</div>"
      ],
      "text/plain": [
       "                    TransactionAmt  ProductCD  card1  card2  card3  card4  \\\n",
       "TransactionID                                                               \n",
       "3663549         31.950000762939453          0    835      1      0      0   \n",
       "3663550         49.000000000000000          0     90      1      0      0   \n",
       "3663551        171.000000000000000          0   1372    491      0      0   \n",
       "3663552        284.950012207031250          0     97      9      0      0   \n",
       "3663553         67.949996948242188          0     65     53      0      1   \n",
       "...                            ...        ...    ...    ...    ...    ...   \n",
       "4170235         94.679000854492188          1     39     20      1      1   \n",
       "4170236         12.173000335693359          1     12     13      1      1   \n",
       "4170237         49.000000000000000          0    147      3      0      0   \n",
       "4170238        202.000000000000000          0   9690    286      0      1   \n",
       "4170239         24.346000671386719          1    743    224      5      0   \n",
       "\n",
       "               card5  card6  addr1  addr2  ...       V_PCA_7300_2  \\\n",
       "TransactionID                              ...                      \n",
       "3663549            0      0     39      0  ...  0.289877096546962   \n",
       "3663550            0      0      1      0  ...  0.289877096546962   \n",
       "3663551            0      0     20      0  ...  0.435701383846913   \n",
       "3663552            2      0     26      0  ...  1.156214447308747   \n",
       "3663553            4      0      4      0  ... -0.220960831206074   \n",
       "...              ...    ...    ...    ...  ...                ...   \n",
       "4170235            1      0     49      2  ... -0.179606723596003   \n",
       "4170236            1      0      0      1  ... -2.792772457110790   \n",
       "4170237            0      0     18      0  ... -0.179606723596003   \n",
       "4170238            1      0     32      0  ... -0.179606723596003   \n",
       "4170239           25      1      0      1  ... -0.179606723596003   \n",
       "\n",
       "                    V_PCA_7300_3       V_PCA_7300_4       V_PCA_7300_5  \\\n",
       "TransactionID                                                            \n",
       "3663549       -0.091256422005949 -0.048587506672797 -0.327969201196197   \n",
       "3663550       -0.091256422005949 -0.048587506672797 -0.327969201196197   \n",
       "3663551        0.482920556506507  0.071794738036895 -0.310699981388025   \n",
       "3663552       -0.572542517636750 -0.405083322746114 -0.443071511941646   \n",
       "3663553        0.205546821712036 -1.297690083700719 -0.369940819878188   \n",
       "...                          ...                ...                ...   \n",
       "4170235       -0.107766062387079  0.304612144255083  0.281329416125136   \n",
       "4170236        0.919287913055914 -2.266050544534329 -1.643547985875535   \n",
       "4170237       -0.107766062387079  0.304612144255083  0.281329416125136   \n",
       "4170238       -0.107766062387079  0.304612144255083  0.281329416125136   \n",
       "4170239       -0.107766062387079  0.304612144255083  0.281329416125136   \n",
       "\n",
       "                    V_PCA_7300_6    V_PCA_938449_0     V_PCA_938449_1  \\\n",
       "TransactionID                                                           \n",
       "3663549        0.268264935518528 -0.21751675032623 -0.029469075241344   \n",
       "3663550        0.268264935518528 -0.21751675032623 -0.029469075241344   \n",
       "3663551        0.209688942982483 -0.21751675032623 -0.029469075241344   \n",
       "3663552       -1.069088333420431 -0.21751675032623 -0.029469075241344   \n",
       "3663553       -0.321228011155513 -0.21751675032623 -0.029469075241344   \n",
       "...                          ...               ...                ...   \n",
       "4170235       -0.141240009573960 -0.21751675032623 -0.029469075241344   \n",
       "4170236       -0.577320356638508 -0.21751675032623 -0.029469075241344   \n",
       "4170237       -0.141240009573960 -0.21751675032623 -0.029469075241344   \n",
       "4170238       -0.141240009573960 -0.21751675032623 -0.029469075241344   \n",
       "4170239       -0.141240009573960 -0.21751675032623 -0.029469075241344   \n",
       "\n",
       "                  V_PCA_938449_2     V_PCA_938449_3    V_PCA_938449_4  \n",
       "TransactionID                                                          \n",
       "3663549       -0.011814284460428  0.065417129464098  0.00576887808051  \n",
       "3663550       -0.011814284460428  0.065417129464098  0.00576887808051  \n",
       "3663551       -0.011814284460428  0.065417129464098  0.00576887808051  \n",
       "3663552       -0.011814284460428  0.065417129464098  0.00576887808051  \n",
       "3663553       -0.011814284460428  0.065417129464098  0.00576887808051  \n",
       "...                          ...                ...               ...  \n",
       "4170235       -0.011814284460428  0.065417129464098  0.00576887808051  \n",
       "4170236       -0.011814284460428  0.065417129464098  0.00576887808051  \n",
       "4170237       -0.011814284460428  0.065417129464098  0.00576887808051  \n",
       "4170238       -0.011814284460428  0.065417129464098  0.00576887808051  \n",
       "4170239       -0.011814284460428  0.065417129464098  0.00576887808051  \n",
       "\n",
       "[506691 rows x 373 columns]"
      ]
     },
     "execution_count": 18,
     "metadata": {},
     "output_type": "execute_result"
    }
   ],
   "source": [
    "test"
   ]
  },
  {
   "cell_type": "code",
   "execution_count": 19,
   "metadata": {
    "ExecuteTime": {
     "end_time": "2019-09-28T10:36:00.677925Z",
     "start_time": "2019-09-28T10:02:30.376364Z"
    },
    "scrolled": false
   },
   "outputs": [
    {
     "name": "stdout",
     "output_type": "stream",
     "text": [
      "Fold 1 started at Sat Sep 28 13:02:32 2019\n",
      "Training until validation scores don't improve for 200 rounds.\n",
      "[100]\ttraining's auc: 0.961645\ttraining's auc: 0.961645\tvalid_1's auc: 0.881704\tvalid_1's auc: 0.881704\n",
      "[200]\ttraining's auc: 0.976394\ttraining's auc: 0.976394\tvalid_1's auc: 0.8901\tvalid_1's auc: 0.8901\n",
      "[300]\ttraining's auc: 0.987196\ttraining's auc: 0.987196\tvalid_1's auc: 0.896746\tvalid_1's auc: 0.896746\n",
      "[400]\ttraining's auc: 0.993658\ttraining's auc: 0.993658\tvalid_1's auc: 0.901686\tvalid_1's auc: 0.901686\n",
      "[500]\ttraining's auc: 0.997089\ttraining's auc: 0.997089\tvalid_1's auc: 0.90582\tvalid_1's auc: 0.90582\n",
      "[600]\ttraining's auc: 0.998771\ttraining's auc: 0.998771\tvalid_1's auc: 0.907848\tvalid_1's auc: 0.907848\n",
      "[700]\ttraining's auc: 0.999509\ttraining's auc: 0.999509\tvalid_1's auc: 0.909152\tvalid_1's auc: 0.909152\n",
      "[800]\ttraining's auc: 0.999814\ttraining's auc: 0.999814\tvalid_1's auc: 0.910069\tvalid_1's auc: 0.910069\n",
      "[900]\ttraining's auc: 0.999935\ttraining's auc: 0.999935\tvalid_1's auc: 0.910399\tvalid_1's auc: 0.910399\n",
      "[1000]\ttraining's auc: 0.999981\ttraining's auc: 0.999981\tvalid_1's auc: 0.910696\tvalid_1's auc: 0.910696\n",
      "[1100]\ttraining's auc: 0.999995\ttraining's auc: 0.999995\tvalid_1's auc: 0.910889\tvalid_1's auc: 0.910889\n",
      "[1200]\ttraining's auc: 0.999999\ttraining's auc: 0.999999\tvalid_1's auc: 0.911083\tvalid_1's auc: 0.911083\n",
      "[1300]\ttraining's auc: 1\ttraining's auc: 1\tvalid_1's auc: 0.911269\tvalid_1's auc: 0.911269\n",
      "[1400]\ttraining's auc: 1\ttraining's auc: 1\tvalid_1's auc: 0.911432\tvalid_1's auc: 0.911432\n",
      "[1500]\ttraining's auc: 1\ttraining's auc: 1\tvalid_1's auc: 0.911513\tvalid_1's auc: 0.911513\n",
      "[1600]\ttraining's auc: 1\ttraining's auc: 1\tvalid_1's auc: 0.911456\tvalid_1's auc: 0.911456\n",
      "Early stopping, best iteration is:\n",
      "[1440]\ttraining's auc: 1\ttraining's auc: 1\tvalid_1's auc: 0.911543\tvalid_1's auc: 0.911543\n",
      "Fold 2 started at Sat Sep 28 13:09:16 2019\n",
      "Training until validation scores don't improve for 200 rounds.\n",
      "[100]\ttraining's auc: 0.960325\ttraining's auc: 0.960325\tvalid_1's auc: 0.912954\tvalid_1's auc: 0.912954\n",
      "[200]\ttraining's auc: 0.9759\ttraining's auc: 0.9759\tvalid_1's auc: 0.920801\tvalid_1's auc: 0.920801\n",
      "[300]\ttraining's auc: 0.986921\ttraining's auc: 0.986921\tvalid_1's auc: 0.927946\tvalid_1's auc: 0.927946\n",
      "[400]\ttraining's auc: 0.993654\ttraining's auc: 0.993654\tvalid_1's auc: 0.933554\tvalid_1's auc: 0.933554\n",
      "[500]\ttraining's auc: 0.997191\ttraining's auc: 0.997191\tvalid_1's auc: 0.93757\tvalid_1's auc: 0.93757\n",
      "[600]\ttraining's auc: 0.998842\ttraining's auc: 0.998842\tvalid_1's auc: 0.940164\tvalid_1's auc: 0.940164\n",
      "[700]\ttraining's auc: 0.999568\ttraining's auc: 0.999568\tvalid_1's auc: 0.941793\tvalid_1's auc: 0.941793\n",
      "[800]\ttraining's auc: 0.999854\ttraining's auc: 0.999854\tvalid_1's auc: 0.942849\tvalid_1's auc: 0.942849\n",
      "[900]\ttraining's auc: 0.999957\ttraining's auc: 0.999957\tvalid_1's auc: 0.943486\tvalid_1's auc: 0.943486\n",
      "[1000]\ttraining's auc: 0.999989\ttraining's auc: 0.999989\tvalid_1's auc: 0.944039\tvalid_1's auc: 0.944039\n",
      "[1100]\ttraining's auc: 0.999998\ttraining's auc: 0.999998\tvalid_1's auc: 0.94437\tvalid_1's auc: 0.94437\n",
      "[1200]\ttraining's auc: 1\ttraining's auc: 1\tvalid_1's auc: 0.944618\tvalid_1's auc: 0.944618\n",
      "[1300]\ttraining's auc: 1\ttraining's auc: 1\tvalid_1's auc: 0.944824\tvalid_1's auc: 0.944824\n",
      "[1400]\ttraining's auc: 1\ttraining's auc: 1\tvalid_1's auc: 0.944949\tvalid_1's auc: 0.944949\n",
      "[1500]\ttraining's auc: 1\ttraining's auc: 1\tvalid_1's auc: 0.94503\tvalid_1's auc: 0.94503\n",
      "[1600]\ttraining's auc: 1\ttraining's auc: 1\tvalid_1's auc: 0.945036\tvalid_1's auc: 0.945036\n",
      "Early stopping, best iteration is:\n",
      "[1435]\ttraining's auc: 1\ttraining's auc: 1\tvalid_1's auc: 0.944993\tvalid_1's auc: 0.944993\n",
      "Fold 3 started at Sat Sep 28 13:15:48 2019\n",
      "Training until validation scores don't improve for 200 rounds.\n",
      "[100]\ttraining's auc: 0.962194\ttraining's auc: 0.962194\tvalid_1's auc: 0.909986\tvalid_1's auc: 0.909986\n",
      "[200]\ttraining's auc: 0.977182\ttraining's auc: 0.977182\tvalid_1's auc: 0.917954\tvalid_1's auc: 0.917954\n",
      "[300]\ttraining's auc: 0.987741\ttraining's auc: 0.987741\tvalid_1's auc: 0.924832\tvalid_1's auc: 0.924832\n",
      "[400]\ttraining's auc: 0.994136\ttraining's auc: 0.994136\tvalid_1's auc: 0.929733\tvalid_1's auc: 0.929733\n",
      "[500]\ttraining's auc: 0.997381\ttraining's auc: 0.997381\tvalid_1's auc: 0.932351\tvalid_1's auc: 0.932351\n",
      "[600]\ttraining's auc: 0.998916\ttraining's auc: 0.998916\tvalid_1's auc: 0.933821\tvalid_1's auc: 0.933821\n",
      "[700]\ttraining's auc: 0.99959\ttraining's auc: 0.99959\tvalid_1's auc: 0.934643\tvalid_1's auc: 0.934643\n",
      "[800]\ttraining's auc: 0.99986\ttraining's auc: 0.99986\tvalid_1's auc: 0.935182\tvalid_1's auc: 0.935182\n",
      "[900]\ttraining's auc: 0.999958\ttraining's auc: 0.999958\tvalid_1's auc: 0.935632\tvalid_1's auc: 0.935632\n",
      "[1000]\ttraining's auc: 0.999989\ttraining's auc: 0.999989\tvalid_1's auc: 0.935824\tvalid_1's auc: 0.935824\n",
      "[1100]\ttraining's auc: 0.999998\ttraining's auc: 0.999998\tvalid_1's auc: 0.936049\tvalid_1's auc: 0.936049\n",
      "[1200]\ttraining's auc: 1\ttraining's auc: 1\tvalid_1's auc: 0.936077\tvalid_1's auc: 0.936077\n",
      "[1300]\ttraining's auc: 1\ttraining's auc: 1\tvalid_1's auc: 0.936197\tvalid_1's auc: 0.936197\n",
      "[1400]\ttraining's auc: 1\ttraining's auc: 1\tvalid_1's auc: 0.936243\tvalid_1's auc: 0.936243\n",
      "[1500]\ttraining's auc: 1\ttraining's auc: 1\tvalid_1's auc: 0.936306\tvalid_1's auc: 0.936306\n",
      "[1600]\ttraining's auc: 1\ttraining's auc: 1\tvalid_1's auc: 0.936421\tvalid_1's auc: 0.936421\n",
      "Early stopping, best iteration is:\n",
      "[1408]\ttraining's auc: 1\ttraining's auc: 1\tvalid_1's auc: 0.936269\tvalid_1's auc: 0.936269\n",
      "Fold 4 started at Sat Sep 28 13:22:31 2019\n",
      "Training until validation scores don't improve for 200 rounds.\n",
      "[100]\ttraining's auc: 0.960888\ttraining's auc: 0.960888\tvalid_1's auc: 0.923456\tvalid_1's auc: 0.923456\n",
      "[200]\ttraining's auc: 0.976594\ttraining's auc: 0.976594\tvalid_1's auc: 0.931922\tvalid_1's auc: 0.931922\n",
      "[300]\ttraining's auc: 0.987583\ttraining's auc: 0.987583\tvalid_1's auc: 0.938988\tvalid_1's auc: 0.938988\n",
      "[400]\ttraining's auc: 0.994105\ttraining's auc: 0.994105\tvalid_1's auc: 0.944578\tvalid_1's auc: 0.944578\n",
      "[500]\ttraining's auc: 0.997388\ttraining's auc: 0.997388\tvalid_1's auc: 0.947816\tvalid_1's auc: 0.947816\n",
      "[600]\ttraining's auc: 0.998925\ttraining's auc: 0.998925\tvalid_1's auc: 0.949808\tvalid_1's auc: 0.949808\n",
      "[700]\ttraining's auc: 0.999594\ttraining's auc: 0.999594\tvalid_1's auc: 0.951163\tvalid_1's auc: 0.951163\n",
      "[800]\ttraining's auc: 0.999865\ttraining's auc: 0.999865\tvalid_1's auc: 0.951934\tvalid_1's auc: 0.951934\n",
      "[900]\ttraining's auc: 0.999961\ttraining's auc: 0.999961\tvalid_1's auc: 0.952633\tvalid_1's auc: 0.952633\n",
      "[1000]\ttraining's auc: 0.999991\ttraining's auc: 0.999991\tvalid_1's auc: 0.953052\tvalid_1's auc: 0.953052\n",
      "[1100]\ttraining's auc: 0.999998\ttraining's auc: 0.999998\tvalid_1's auc: 0.953289\tvalid_1's auc: 0.953289\n",
      "[1200]\ttraining's auc: 1\ttraining's auc: 1\tvalid_1's auc: 0.953481\tvalid_1's auc: 0.953481\n",
      "[1300]\ttraining's auc: 1\ttraining's auc: 1\tvalid_1's auc: 0.953567\tvalid_1's auc: 0.953567\n",
      "[1400]\ttraining's auc: 1\ttraining's auc: 1\tvalid_1's auc: 0.953632\tvalid_1's auc: 0.953632\n",
      "[1500]\ttraining's auc: 1\ttraining's auc: 1\tvalid_1's auc: 0.953687\tvalid_1's auc: 0.953687\n",
      "[1600]\ttraining's auc: 1\ttraining's auc: 1\tvalid_1's auc: 0.9537\tvalid_1's auc: 0.9537\n",
      "Early stopping, best iteration is:\n",
      "[1400]\ttraining's auc: 1\ttraining's auc: 1\tvalid_1's auc: 0.953632\tvalid_1's auc: 0.953632\n",
      "Fold 5 started at Sat Sep 28 13:29:18 2019\n",
      "Training until validation scores don't improve for 200 rounds.\n",
      "[100]\ttraining's auc: 0.961758\ttraining's auc: 0.961758\tvalid_1's auc: 0.900921\tvalid_1's auc: 0.900921\n",
      "[200]\ttraining's auc: 0.976886\ttraining's auc: 0.976886\tvalid_1's auc: 0.910673\tvalid_1's auc: 0.910673\n",
      "[300]\ttraining's auc: 0.98761\ttraining's auc: 0.98761\tvalid_1's auc: 0.916696\tvalid_1's auc: 0.916696\n",
      "[400]\ttraining's auc: 0.994033\ttraining's auc: 0.994033\tvalid_1's auc: 0.921892\tvalid_1's auc: 0.921892\n",
      "[500]\ttraining's auc: 0.997359\ttraining's auc: 0.997359\tvalid_1's auc: 0.925087\tvalid_1's auc: 0.925087\n",
      "[600]\ttraining's auc: 0.998896\ttraining's auc: 0.998896\tvalid_1's auc: 0.927031\tvalid_1's auc: 0.927031\n",
      "[700]\ttraining's auc: 0.999574\ttraining's auc: 0.999574\tvalid_1's auc: 0.928199\tvalid_1's auc: 0.928199\n",
      "[800]\ttraining's auc: 0.999848\ttraining's auc: 0.999848\tvalid_1's auc: 0.929054\tvalid_1's auc: 0.929054\n"
     ]
    },
    {
     "name": "stdout",
     "output_type": "stream",
     "text": [
      "[900]\ttraining's auc: 0.999953\ttraining's auc: 0.999953\tvalid_1's auc: 0.929863\tvalid_1's auc: 0.929863\n",
      "[1000]\ttraining's auc: 0.999988\ttraining's auc: 0.999988\tvalid_1's auc: 0.930259\tvalid_1's auc: 0.930259\n",
      "[1100]\ttraining's auc: 0.999998\ttraining's auc: 0.999998\tvalid_1's auc: 0.93063\tvalid_1's auc: 0.93063\n",
      "[1200]\ttraining's auc: 1\ttraining's auc: 1\tvalid_1's auc: 0.930913\tvalid_1's auc: 0.930913\n",
      "[1300]\ttraining's auc: 1\ttraining's auc: 1\tvalid_1's auc: 0.931091\tvalid_1's auc: 0.931091\n",
      "[1400]\ttraining's auc: 1\ttraining's auc: 1\tvalid_1's auc: 0.931213\tvalid_1's auc: 0.931213\n",
      "[1500]\ttraining's auc: 1\ttraining's auc: 1\tvalid_1's auc: 0.931404\tvalid_1's auc: 0.931404\n",
      "Early stopping, best iteration is:\n",
      "[1389]\ttraining's auc: 1\ttraining's auc: 1\tvalid_1's auc: 0.931181\tvalid_1's auc: 0.931181\n",
      "CV mean score: 0.9355, std: 0.0142.\n"
     ]
    },
    {
     "data": {
      "image/png": "[encoded data removed]",
      "text/plain": [
       "<Figure size 1152x864 with 1 Axes>"
      ]
     },
     "metadata": {
      "needs_background": "light"
     },
     "output_type": "display_data"
    }
   ],
   "source": [
    "gc.collect()\n",
    "params = {'num_leaves': 491,\n",
    "          'min_child_weight': 0.03454472573214212,\n",
    "          'feature_fraction': 0.3797454081646243,\n",
    "          'bagging_fraction': 0.4181193142567742,\n",
    "          'min_data_in_leaf': 106,\n",
    "          'objective': 'binary',\n",
    "          'max_depth': -1,\n",
    "          'learning_rate': 0.01,\n",
    "          \"boosting_type\": \"gbdt\",\n",
    "          \"bagging_seed\": 11,\n",
    "          \"metric\": 'auc',\n",
    "          \"verbosity\": -1,\n",
    "          'reg_alpha': 0.3899927210061127,\n",
    "          'reg_lambda': 0.6485237330340494,\n",
    "          'random_state': 47, \n",
    "         }\n",
    "result_dict_lgb = train_model_classification(X=X, X_test=test, y=y, params=params, folds=folds, model_type='lgb', eval_metric='auc', plot_feature_importance=True,\n",
    "                                                      verbose=100, early_stopping_rounds=200, n_estimators=10000, averaging='usual', n_jobs=-1, groups=None)"
   ]
  },
  {
   "cell_type": "code",
   "execution_count": 21,
   "metadata": {
    "ExecuteTime": {
     "end_time": "2019-09-28T10:36:26.860700Z",
     "start_time": "2019-09-28T10:36:22.297648Z"
    }
   },
   "outputs": [],
   "source": [
    "pd.DataFrame(result_dict_lgb['oof'], columns=['isFraud'], index=train_idx).to_csv(f'{working_folder}/oof.csv')\n",
    "\n",
    "pd.DataFrame(result_dict_lgb['prediction'], columns=['isFraud'], index=test.index).to_csv(f'{working_folder}/prediction.csv')\n",
    "\n",
    "sample_submission = pd.read_csv(data_path + '/sample_submission.csv').set_index('TransactionID')\n",
    "\n",
    "sub1 = pd.DataFrame(result_dict_lgb['prediction'], columns=['isFraud'], index=test.index)\n",
    "\n",
    "sample_submission['isFraud'] = sub1#*0.5 + sub2*0.25 + sub3*0.25\n",
    "\n",
    "sample_submission.to_csv(f'{working_folder}/lgb_sub.csv')"
   ]
  },
  {
   "cell_type": "code",
   "execution_count": 26,
   "metadata": {
    "ExecuteTime": {
     "end_time": "2019-09-28T10:39:06.030303Z",
     "start_time": "2019-09-28T10:39:05.759268Z"
    }
   },
   "outputs": [
    {
     "name": "stdout",
     "output_type": "stream",
     "text": [
      "0.9458047905780911\n"
     ]
    }
   ],
   "source": [
    "cv = np.array(result_dict_lgb['scores'])\n",
    "coef = np.array([ 0.02316714,  0.11418089,  0.45246619, -0.43529977,  0.86800837])\n",
    "pred_cv = sum(cv*coef)\n",
    "print(pred_cv)"
   ]
  }
 ],
 "metadata": {
  "kernelspec": {
   "display_name": "Python 3",
   "language": "python",
   "name": "python3"
  },
  "language_info": {
   "codemirror_mode": {
    "name": "ipython",
    "version": 3
   },
   "file_extension": ".py",
   "mimetype": "text/x-python",
   "name": "python",
   "nbconvert_exporter": "python",
   "pygments_lexer": "ipython3",
   "version": "3.7.4"
  },
  "toc": {
   "base_numbering": 1,
   "nav_menu": {},
   "number_sections": true,
   "sideBar": true,
   "skip_h1_title": false,
   "title_cell": "Table of Contents",
   "title_sidebar": "Contents",
   "toc_cell": false,
   "toc_position": {},
   "toc_section_display": true,
   "toc_window_display": false
  },
  "varInspector": {
   "cols": {
    "lenName": 16,
    "lenType": 16,
    "lenVar": 40
   },
   "kernels_config": {
    "python": {
     "delete_cmd_postfix": "",
     "delete_cmd_prefix": "del ",
     "library": "var_list.py",
     "varRefreshCmd": "print(var_dic_list())"
    },
    "r": {
     "delete_cmd_postfix": ") ",
     "delete_cmd_prefix": "rm(",
     "library": "var_list.r",
     "varRefreshCmd": "cat(var_dic_list()) "
    }
   },
   "position": {
    "height": "760px",
    "left": "1530px",
    "right": "20px",
    "top": "120px",
    "width": "336px"
   },
   "types_to_exclude": [
    "module",
    "function",
    "builtin_function_or_method",
    "instance",
    "_Feature"
   ],
   "window_display": false
  }
 },
 "nbformat": 4,
 "nbformat_minor": 2
}
