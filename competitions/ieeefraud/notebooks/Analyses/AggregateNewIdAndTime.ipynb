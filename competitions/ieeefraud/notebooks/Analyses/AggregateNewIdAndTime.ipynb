{
 "cells": [
  {
   "cell_type": "code",
   "execution_count": 1,
   "metadata": {
    "ExecuteTime": {
     "end_time": "2019-09-24T18:59:41.655419Z",
     "start_time": "2019-09-24T18:59:40.658420Z"
    }
   },
   "outputs": [],
   "source": [
    "main_dir = r'../../..'\n",
    "data_path = main_dir+'/data'\n",
    "import sys\n",
    "sys.path.append(main_dir)\n",
    "from typing import List, Set, Dict, Optional, Any, Tuple, Type, Union\n",
    "\n",
    "from BayDS.lib.pipeline import *\n",
    "from BayDS.lib.io import *\n",
    "import os\n"
   ]
  },
  {
   "cell_type": "code",
   "execution_count": 2,
   "metadata": {
    "ExecuteTime": {
     "end_time": "2019-09-24T18:59:50.842413Z",
     "start_time": "2019-09-24T18:59:43.048413Z"
    }
   },
   "outputs": [
    {
     "name": "stdout",
     "output_type": "stream",
     "text": [
      "---------------------------\n",
      "0: LoaderNode [2019-09-24 21:59:43]\n",
      "params:\n",
      " {'input_directory': '../../../Snapshots/1/06-NewIdJoint', 'file': 'data.pkl'}\n",
      "---------------------------\n",
      "1: LoaderNode [2019-09-24 21:59:50]\n",
      "params:\n",
      " {'input_directory': '../../../Snapshots/1/06-NewIdJoint', 'file': 'numerical_columns.yaml'}\n",
      "---------------------------\n",
      "2: LoaderNode [2019-09-24 21:59:50]\n",
      "params:\n",
      " {'input_directory': '../../../Snapshots/1/06-NewIdJoint', 'file': 'categorical_columns.yaml'}\n"
     ]
    }
   ],
   "source": [
    "data_dir = f'{main_dir}/Snapshots/1/06-NewIdJoint'\n",
    "p = Pipeline(working_folder=f'{main_dir}/Snapshots/1/TimeAggs24.09')\n",
    "\n",
    "p.add_node(LoaderNode, None, 'data',\n",
    "           params={\n",
    "               'input_directory': data_dir,\n",
    "               'file': 'data.pkl'\n",
    "           })\n",
    "p.add_node(LoaderNode, None, 'numerical_columns',\n",
    "           params={\n",
    "               'input_directory': data_dir,\n",
    "               'file': 'numerical_columns.yaml'\n",
    "           })\n",
    "p.add_node(LoaderNode, None, 'categorical_columns',\n",
    "           params={\n",
    "               'input_directory': data_dir,\n",
    "               'file': 'categorical_columns.yaml'\n",
    "           })\n",
    "\n",
    "p.run()"
   ]
  },
  {
   "cell_type": "code",
   "execution_count": 3,
   "metadata": {
    "ExecuteTime": {
     "end_time": "2019-09-24T19:25:43.908456Z",
     "start_time": "2019-09-24T19:00:24.017789Z"
    }
   },
   "outputs": [
    {
     "name": "stdout",
     "output_type": "stream",
     "text": [
      "---------------------------\n",
      "3: AddTransactionFrequenciesNode [2019-09-24 22:00:24]\n",
      "params:\n",
      " None\n",
      ".\n",
      ".\n",
      ".\n",
      ".\n",
      ".\n",
      ".\n",
      ".\n",
      ".\n",
      "Saving transaction_frequencies\n"
     ]
    }
   ],
   "source": [
    "p.add_node(AddTransactionFrequenciesNode, \n",
    "           ('data', 'numerical_columns', 'categorical_columns'),\n",
    "           'transaction_frequencies'        \n",
    "           )\n",
    "p.run()\n",
    "p.save_data(only_keys=['transaction_frequencies'])"
   ]
  },
  {
   "cell_type": "code",
   "execution_count": 5,
   "metadata": {
    "ExecuteTime": {
     "end_time": "2019-09-24T18:54:04.441371Z",
     "start_time": "2019-09-24T18:54:04.425356Z"
    }
   },
   "outputs": [
    {
     "data": {
      "text/html": [
       "<div>\n",
       "<style scoped>\n",
       "    .dataframe tbody tr th:only-of-type {\n",
       "        vertical-align: middle;\n",
       "    }\n",
       "\n",
       "    .dataframe tbody tr th {\n",
       "        vertical-align: top;\n",
       "    }\n",
       "\n",
       "    .dataframe thead th {\n",
       "        text-align: right;\n",
       "    }\n",
       "</style>\n",
       "<table border=\"1\" class=\"dataframe\">\n",
       "  <thead>\n",
       "    <tr style=\"text-align: right;\">\n",
       "      <th></th>\n",
       "      <th>Transaction_freq_1d_past</th>\n",
       "      <th>Transaction_freq_2d_past</th>\n",
       "      <th>Transaction_freq_3d_past</th>\n",
       "      <th>Transaction_freq_7d_past</th>\n",
       "      <th>Transaction_freq_30d_past</th>\n",
       "      <th>Transaction_freq_5_past</th>\n",
       "      <th>Transaction_freq_5_center</th>\n",
       "      <th>Transaction_freq_10_past</th>\n",
       "      <th>Transaction_freq_10_center</th>\n",
       "      <th>Transaction_freq_100_past</th>\n",
       "      <th>Transaction_freq_100_center</th>\n",
       "    </tr>\n",
       "    <tr>\n",
       "      <th>TransactionID</th>\n",
       "      <th></th>\n",
       "      <th></th>\n",
       "      <th></th>\n",
       "      <th></th>\n",
       "      <th></th>\n",
       "      <th></th>\n",
       "      <th></th>\n",
       "      <th></th>\n",
       "      <th></th>\n",
       "      <th></th>\n",
       "      <th></th>\n",
       "    </tr>\n",
       "  </thead>\n",
       "  <tbody>\n",
       "    <tr>\n",
       "      <th>2987107</th>\n",
       "      <td>0.0</td>\n",
       "      <td>0.0</td>\n",
       "      <td>0.0</td>\n",
       "      <td>0.0</td>\n",
       "      <td>0.0</td>\n",
       "      <td>0.0</td>\n",
       "      <td>276.512130</td>\n",
       "      <td>0.0</td>\n",
       "      <td>470.435944</td>\n",
       "      <td>0.0</td>\n",
       "      <td>3231.052714</td>\n",
       "    </tr>\n",
       "    <tr>\n",
       "      <th>2987122</th>\n",
       "      <td>0.0</td>\n",
       "      <td>0.0</td>\n",
       "      <td>0.0</td>\n",
       "      <td>0.0</td>\n",
       "      <td>0.0</td>\n",
       "      <td>0.0</td>\n",
       "      <td>616.421111</td>\n",
       "      <td>0.0</td>\n",
       "      <td>837.770139</td>\n",
       "      <td>0.0</td>\n",
       "      <td>837.770139</td>\n",
       "    </tr>\n",
       "    <tr>\n",
       "      <th>2987161</th>\n",
       "      <td>0.0</td>\n",
       "      <td>0.0</td>\n",
       "      <td>0.0</td>\n",
       "      <td>0.0</td>\n",
       "      <td>0.0</td>\n",
       "      <td>0.0</td>\n",
       "      <td>2693.618611</td>\n",
       "      <td>0.0</td>\n",
       "      <td>4516.755389</td>\n",
       "      <td>0.0</td>\n",
       "      <td>6236.844722</td>\n",
       "    </tr>\n",
       "    <tr>\n",
       "      <th>2987174</th>\n",
       "      <td>0.0</td>\n",
       "      <td>0.0</td>\n",
       "      <td>0.0</td>\n",
       "      <td>0.0</td>\n",
       "      <td>0.0</td>\n",
       "      <td>0.0</td>\n",
       "      <td>179.819352</td>\n",
       "      <td>0.0</td>\n",
       "      <td>476.508833</td>\n",
       "      <td>0.0</td>\n",
       "      <td>2665.241544</td>\n",
       "    </tr>\n",
       "    <tr>\n",
       "      <th>2987225</th>\n",
       "      <td>0.0</td>\n",
       "      <td>0.0</td>\n",
       "      <td>0.0</td>\n",
       "      <td>0.0</td>\n",
       "      <td>0.0</td>\n",
       "      <td>0.0</td>\n",
       "      <td>15.158796</td>\n",
       "      <td>0.0</td>\n",
       "      <td>21.757944</td>\n",
       "      <td>0.0</td>\n",
       "      <td>227.386433</td>\n",
       "    </tr>\n",
       "  </tbody>\n",
       "</table>\n",
       "</div>"
      ],
      "text/plain": [
       "               Transaction_freq_1d_past  Transaction_freq_2d_past  \\\n",
       "TransactionID                                                       \n",
       "2987107                             0.0                       0.0   \n",
       "2987122                             0.0                       0.0   \n",
       "2987161                             0.0                       0.0   \n",
       "2987174                             0.0                       0.0   \n",
       "2987225                             0.0                       0.0   \n",
       "\n",
       "               Transaction_freq_3d_past  Transaction_freq_7d_past  \\\n",
       "TransactionID                                                       \n",
       "2987107                             0.0                       0.0   \n",
       "2987122                             0.0                       0.0   \n",
       "2987161                             0.0                       0.0   \n",
       "2987174                             0.0                       0.0   \n",
       "2987225                             0.0                       0.0   \n",
       "\n",
       "               Transaction_freq_30d_past  Transaction_freq_5_past  \\\n",
       "TransactionID                                                       \n",
       "2987107                              0.0                      0.0   \n",
       "2987122                              0.0                      0.0   \n",
       "2987161                              0.0                      0.0   \n",
       "2987174                              0.0                      0.0   \n",
       "2987225                              0.0                      0.0   \n",
       "\n",
       "               Transaction_freq_5_center  Transaction_freq_10_past  \\\n",
       "TransactionID                                                        \n",
       "2987107                       276.512130                       0.0   \n",
       "2987122                       616.421111                       0.0   \n",
       "2987161                      2693.618611                       0.0   \n",
       "2987174                       179.819352                       0.0   \n",
       "2987225                        15.158796                       0.0   \n",
       "\n",
       "               Transaction_freq_10_center  Transaction_freq_100_past  \\\n",
       "TransactionID                                                          \n",
       "2987107                        470.435944                        0.0   \n",
       "2987122                        837.770139                        0.0   \n",
       "2987161                       4516.755389                        0.0   \n",
       "2987174                        476.508833                        0.0   \n",
       "2987225                         21.757944                        0.0   \n",
       "\n",
       "               Transaction_freq_100_center  \n",
       "TransactionID                               \n",
       "2987107                        3231.052714  \n",
       "2987122                         837.770139  \n",
       "2987161                        6236.844722  \n",
       "2987174                        2665.241544  \n",
       "2987225                         227.386433  "
      ]
     },
     "execution_count": 5,
     "metadata": {},
     "output_type": "execute_result"
    }
   ],
   "source": [
    "p.data['transaction_frequencies'].head()"
   ]
  },
  {
   "cell_type": "code",
   "execution_count": 10,
   "metadata": {
    "ExecuteTime": {
     "end_time": "2019-09-24T18:55:28.201633Z",
     "start_time": "2019-09-24T18:55:28.191623Z"
    }
   },
   "outputs": [],
   "source": [
    "test = p.data['data']\n",
    "test = test[test['new_card_id'] == 0][['Date']]"
   ]
  },
  {
   "cell_type": "code",
   "execution_count": 13,
   "metadata": {
    "ExecuteTime": {
     "end_time": "2019-09-24T18:56:25.163747Z",
     "start_time": "2019-09-24T18:56:25.145750Z"
    }
   },
   "outputs": [
    {
     "data": {
      "text/html": [
       "<div>\n",
       "<style scoped>\n",
       "    .dataframe tbody tr th:only-of-type {\n",
       "        vertical-align: middle;\n",
       "    }\n",
       "\n",
       "    .dataframe tbody tr th {\n",
       "        vertical-align: top;\n",
       "    }\n",
       "\n",
       "    .dataframe thead th {\n",
       "        text-align: right;\n",
       "    }\n",
       "</style>\n",
       "<table border=\"1\" class=\"dataframe\">\n",
       "  <thead>\n",
       "    <tr style=\"text-align: right;\">\n",
       "      <th></th>\n",
       "      <th>Date</th>\n",
       "      <th>Transaction_freq_1d_past</th>\n",
       "      <th>Transaction_freq_2d_past</th>\n",
       "      <th>Transaction_freq_3d_past</th>\n",
       "      <th>Transaction_freq_7d_past</th>\n",
       "      <th>Transaction_freq_30d_past</th>\n",
       "      <th>Transaction_freq_5_past</th>\n",
       "      <th>Transaction_freq_5_center</th>\n",
       "      <th>Transaction_freq_10_past</th>\n",
       "      <th>Transaction_freq_10_center</th>\n",
       "      <th>Transaction_freq_100_past</th>\n",
       "      <th>Transaction_freq_100_center</th>\n",
       "    </tr>\n",
       "    <tr>\n",
       "      <th>TransactionID</th>\n",
       "      <th></th>\n",
       "      <th></th>\n",
       "      <th></th>\n",
       "      <th></th>\n",
       "      <th></th>\n",
       "      <th></th>\n",
       "      <th></th>\n",
       "      <th></th>\n",
       "      <th></th>\n",
       "      <th></th>\n",
       "      <th></th>\n",
       "      <th></th>\n",
       "    </tr>\n",
       "  </thead>\n",
       "  <tbody>\n",
       "    <tr>\n",
       "      <th>2987107</th>\n",
       "      <td>2017-12-02 00:30:58</td>\n",
       "      <td>0.0</td>\n",
       "      <td>0.0</td>\n",
       "      <td>0.000000</td>\n",
       "      <td>0.000000</td>\n",
       "      <td>0.000000</td>\n",
       "      <td>0.000000</td>\n",
       "      <td>276.512130</td>\n",
       "      <td>0.000000</td>\n",
       "      <td>470.435944</td>\n",
       "      <td>0.000000</td>\n",
       "      <td>3231.052714</td>\n",
       "    </tr>\n",
       "    <tr>\n",
       "      <th>3052707</th>\n",
       "      <td>2017-12-18 01:02:45</td>\n",
       "      <td>0.0</td>\n",
       "      <td>0.0</td>\n",
       "      <td>0.000000</td>\n",
       "      <td>0.000000</td>\n",
       "      <td>192.264861</td>\n",
       "      <td>192.264861</td>\n",
       "      <td>332.289514</td>\n",
       "      <td>192.264861</td>\n",
       "      <td>575.037454</td>\n",
       "      <td>192.264861</td>\n",
       "      <td>3231.052714</td>\n",
       "    </tr>\n",
       "    <tr>\n",
       "      <th>3063714</th>\n",
       "      <td>2017-12-20 13:31:22</td>\n",
       "      <td>0.0</td>\n",
       "      <td>0.0</td>\n",
       "      <td>30.238472</td>\n",
       "      <td>30.238472</td>\n",
       "      <td>276.512130</td>\n",
       "      <td>276.512130</td>\n",
       "      <td>470.435944</td>\n",
       "      <td>276.512130</td>\n",
       "      <td>662.661746</td>\n",
       "      <td>276.512130</td>\n",
       "      <td>3231.052714</td>\n",
       "    </tr>\n",
       "    <tr>\n",
       "      <th>3077305</th>\n",
       "      <td>2017-12-22 20:08:16</td>\n",
       "      <td>0.0</td>\n",
       "      <td>0.0</td>\n",
       "      <td>27.307500</td>\n",
       "      <td>58.522963</td>\n",
       "      <td>332.289514</td>\n",
       "      <td>332.289514</td>\n",
       "      <td>305.515222</td>\n",
       "      <td>332.289514</td>\n",
       "      <td>767.783854</td>\n",
       "      <td>332.289514</td>\n",
       "      <td>3231.052714</td>\n",
       "    </tr>\n",
       "    <tr>\n",
       "      <th>3160462</th>\n",
       "      <td>2018-01-13 15:32:16</td>\n",
       "      <td>0.0</td>\n",
       "      <td>0.0</td>\n",
       "      <td>0.000000</td>\n",
       "      <td>0.000000</td>\n",
       "      <td>203.515208</td>\n",
       "      <td>470.435944</td>\n",
       "      <td>405.813833</td>\n",
       "      <td>470.435944</td>\n",
       "      <td>851.911667</td>\n",
       "      <td>470.435944</td>\n",
       "      <td>3231.052714</td>\n",
       "    </tr>\n",
       "  </tbody>\n",
       "</table>\n",
       "</div>"
      ],
      "text/plain": [
       "                             Date  Transaction_freq_1d_past  \\\n",
       "TransactionID                                                 \n",
       "2987107       2017-12-02 00:30:58                       0.0   \n",
       "3052707       2017-12-18 01:02:45                       0.0   \n",
       "3063714       2017-12-20 13:31:22                       0.0   \n",
       "3077305       2017-12-22 20:08:16                       0.0   \n",
       "3160462       2018-01-13 15:32:16                       0.0   \n",
       "\n",
       "               Transaction_freq_2d_past  Transaction_freq_3d_past  \\\n",
       "TransactionID                                                       \n",
       "2987107                             0.0                  0.000000   \n",
       "3052707                             0.0                  0.000000   \n",
       "3063714                             0.0                 30.238472   \n",
       "3077305                             0.0                 27.307500   \n",
       "3160462                             0.0                  0.000000   \n",
       "\n",
       "               Transaction_freq_7d_past  Transaction_freq_30d_past  \\\n",
       "TransactionID                                                        \n",
       "2987107                        0.000000                   0.000000   \n",
       "3052707                        0.000000                 192.264861   \n",
       "3063714                       30.238472                 276.512130   \n",
       "3077305                       58.522963                 332.289514   \n",
       "3160462                        0.000000                 203.515208   \n",
       "\n",
       "               Transaction_freq_5_past  Transaction_freq_5_center  \\\n",
       "TransactionID                                                       \n",
       "2987107                       0.000000                 276.512130   \n",
       "3052707                     192.264861                 332.289514   \n",
       "3063714                     276.512130                 470.435944   \n",
       "3077305                     332.289514                 305.515222   \n",
       "3160462                     470.435944                 405.813833   \n",
       "\n",
       "               Transaction_freq_10_past  Transaction_freq_10_center  \\\n",
       "TransactionID                                                         \n",
       "2987107                        0.000000                  470.435944   \n",
       "3052707                      192.264861                  575.037454   \n",
       "3063714                      276.512130                  662.661746   \n",
       "3077305                      332.289514                  767.783854   \n",
       "3160462                      470.435944                  851.911667   \n",
       "\n",
       "               Transaction_freq_100_past  Transaction_freq_100_center  \n",
       "TransactionID                                                          \n",
       "2987107                         0.000000                  3231.052714  \n",
       "3052707                       192.264861                  3231.052714  \n",
       "3063714                       276.512130                  3231.052714  \n",
       "3077305                       332.289514                  3231.052714  \n",
       "3160462                       470.435944                  3231.052714  "
      ]
     },
     "execution_count": 13,
     "metadata": {},
     "output_type": "execute_result"
    }
   ],
   "source": [
    "test.join(p.data['transaction_frequencies']).head()"
   ]
  },
  {
   "cell_type": "markdown",
   "metadata": {},
   "source": [
    "## Node contents were made here"
   ]
  },
  {
   "cell_type": "code",
   "execution_count": null,
   "metadata": {
    "ExecuteTime": {
     "end_time": "2019-09-24T18:42:17.543828Z",
     "start_time": "2019-09-24T18:42:17.485828Z"
    }
   },
   "outputs": [],
   "source": [
    "all_cols = set(p.data['data'].columns)\n",
    "missing = all_cols - ( set(p.data['categorical_columns']) | set(p.data['numerical_columns'] ))\n",
    "try:\n",
    "    assert len(missing) == 0\n",
    "except AssertionError:\n",
    "    print(yaml.dump(list(missing)))    \n",
    "spare =( set(p.data['categorical_columns']) | set(p.data['numerical_columns'] )) -  all_cols\n",
    "try:\n",
    "    assert len(spare) == 0\n",
    "except AssertionError:\n",
    "    print(yaml.dump(list(spare)))"
   ]
  },
  {
   "cell_type": "code",
   "execution_count": null,
   "metadata": {
    "ExecuteTime": {
     "end_time": "2019-09-24T18:42:19.332174Z",
     "start_time": "2019-09-24T18:42:19.268159Z"
    }
   },
   "outputs": [],
   "source": [
    "data = p.data['data'][['Date', 'new_card_id']]"
   ]
  },
  {
   "cell_type": "code",
   "execution_count": null,
   "metadata": {
    "ExecuteTime": {
     "end_time": "2019-09-24T18:42:22.343750Z",
     "start_time": "2019-09-24T18:42:21.867766Z"
    }
   },
   "outputs": [],
   "source": [
    "group_by_feature = 'new_card_id'\n",
    "check_data = data.reset_index().set_index([group_by_feature, 'Date'])\n",
    "duplicate_transactions = check_data[check_data.index.duplicated()]['TransactionID'].values\n",
    "while len(duplicate_transactions) > 0:\n",
    "    print(f\"Found {len(duplicate_transactions)} duplicate transactions\")\n",
    "    for itid, tid in enumerate(duplicate_transactions):\n",
    "        print(itid)\n",
    "        q = data.loc[tid]\n",
    "        date = q['Date']\n",
    "        card_id = q[group_by_feature]\n",
    "        alldup = data[data['Date'] == date]\n",
    "        alldup = alldup[alldup[group_by_feature] == card_id]\n",
    "        #     print(alldup.index)\n",
    "        for it, idx in enumerate(alldup.index):\n",
    "            #         print(idx)\n",
    "            data.loc[idx, 'Date'] += pd.Timedelta(seconds=it)\n",
    "    check_data = data.reset_index().set_index([group_by_feature, 'Date'])\n",
    "    duplicate_transactions = check_data[check_data.index.duplicated()]['TransactionID'].values"
   ]
  },
  {
   "cell_type": "code",
   "execution_count": null,
   "metadata": {
    "ExecuteTime": {
     "end_time": "2019-09-24T18:43:35.973248Z",
     "start_time": "2019-09-24T18:43:35.846234Z"
    }
   },
   "outputs": [],
   "source": [
    "data.loc[:,'hours'] =  (data.Date - data.Date.iloc[0]).dt.total_seconds() / 3600"
   ]
  },
  {
   "cell_type": "code",
   "execution_count": null,
   "metadata": {
    "ExecuteTime": {
     "end_time": "2019-09-24T18:44:40.884126Z",
     "start_time": "2019-09-24T18:44:40.827126Z"
    }
   },
   "outputs": [],
   "source": [
    "# transaction_velocity_agg = lambda x: (x - x.iloc[0] ).mean()\n",
    "def transaction_velocity_agg(x):\n",
    "    return ((x - x.iloc[0])).mean()"
   ]
  },
  {
   "cell_type": "code",
   "execution_count": null,
   "metadata": {
    "ExecuteTime": {
     "end_time": "2019-09-24T18:44:09.000691Z",
     "start_time": "2019-09-24T18:44:08.941691Z"
    }
   },
   "outputs": [],
   "source": [
    "small = data[data.new_card_id < 3]"
   ]
  },
  {
   "cell_type": "code",
   "execution_count": null,
   "metadata": {
    "ExecuteTime": {
     "end_time": "2019-09-24T18:44:10.046630Z",
     "start_time": "2019-09-24T18:44:09.983631Z"
    }
   },
   "outputs": [],
   "source": [
    "small.head()"
   ]
  },
  {
   "cell_type": "code",
   "execution_count": null,
   "metadata": {
    "ExecuteTime": {
     "end_time": "2019-09-24T18:44:42.660805Z",
     "start_time": "2019-09-24T18:44:42.580791Z"
    }
   },
   "outputs": [],
   "source": [
    "# gb = df[df['new_card_id'] == 0] \n",
    "gb = small.reset_index().groupby(['new_card_id'])\n",
    "q = gb.rolling(3, on='Date', min_periods=1, center=True)['hours'].agg(transaction_velocity_agg)\n"
   ]
  },
  {
   "cell_type": "code",
   "execution_count": null,
   "metadata": {
    "ExecuteTime": {
     "end_time": "2019-09-24T18:44:43.744680Z",
     "start_time": "2019-09-24T18:44:43.684666Z"
    }
   },
   "outputs": [],
   "source": [
    "q.head()"
   ]
  },
  {
   "cell_type": "code",
   "execution_count": null,
   "metadata": {
    "ExecuteTime": {
     "end_time": "2019-09-24T18:44:52.464564Z",
     "start_time": "2019-09-24T18:44:52.397563Z"
    }
   },
   "outputs": [],
   "source": [
    "small = small.reset_index().set_index(['new_card_id', 'Date'])\n",
    "small['Transaction_freq_3_center'] = q"
   ]
  },
  {
   "cell_type": "code",
   "execution_count": null,
   "metadata": {
    "ExecuteTime": {
     "end_time": "2019-09-24T18:44:53.758717Z",
     "start_time": "2019-09-24T18:44:53.700717Z"
    }
   },
   "outputs": [],
   "source": [
    "small = small.set_index('TransactionID')"
   ]
  },
  {
   "cell_type": "code",
   "execution_count": null,
   "metadata": {
    "ExecuteTime": {
     "end_time": "2019-09-24T18:44:54.817787Z",
     "start_time": "2019-09-24T18:44:54.755800Z"
    }
   },
   "outputs": [],
   "source": [
    "small"
   ]
  },
  {
   "cell_type": "code",
   "execution_count": null,
   "metadata": {
    "ExecuteTime": {
     "end_time": "2019-09-24T18:10:24.511722Z",
     "start_time": "2019-09-24T18:10:24.434718Z"
    }
   },
   "outputs": [],
   "source": [
    "df.reset_index()"
   ]
  },
  {
   "cell_type": "code",
   "execution_count": null,
   "metadata": {
    "ExecuteTime": {
     "end_time": "2019-09-24T17:55:25.395627Z",
     "start_time": "2019-09-24T17:55:25.326625Z"
    }
   },
   "outputs": [],
   "source": [
    "q.rename(columns={'Date':'D1'})"
   ]
  },
  {
   "cell_type": "code",
   "execution_count": null,
   "metadata": {
    "ExecuteTime": {
     "end_time": "2019-09-24T17:56:00.128364Z",
     "start_time": "2019-09-24T17:56:00.054379Z"
    }
   },
   "outputs": [],
   "source": [
    "pd.DataFrame(q)"
   ]
  },
  {
   "cell_type": "code",
   "execution_count": null,
   "metadata": {
    "ExecuteTime": {
     "end_time": "2019-09-24T17:52:34.255769Z",
     "start_time": "2019-09-24T17:52:34.149764Z"
    }
   },
   "outputs": [],
   "source": [
    "q.reset_index()"
   ]
  },
  {
   "cell_type": "code",
   "execution_count": null,
   "metadata": {
    "ExecuteTime": {
     "end_time": "2019-09-24T17:51:12.582534Z",
     "start_time": "2019-09-24T17:51:12.411538Z"
    }
   },
   "outputs": [],
   "source": [
    "gb.head()"
   ]
  },
  {
   "cell_type": "code",
   "execution_count": null,
   "metadata": {},
   "outputs": [],
   "source": []
  },
  {
   "cell_type": "code",
   "execution_count": null,
   "metadata": {
    "ExecuteTime": {
     "end_time": "2019-09-24T17:24:08.042787Z",
     "start_time": "2019-09-24T17:24:07.980787Z"
    }
   },
   "outputs": [],
   "source": [
    "# pd.to_timedelta(gb['Date'])\n",
    "q = (gb['Date'] - gb['Date'].iloc[0] ).dt.total_seconds().mean() / 3600\n",
    "q"
   ]
  },
  {
   "cell_type": "code",
   "execution_count": null,
   "metadata": {
    "ExecuteTime": {
     "end_time": "2019-09-24T17:26:55.467011Z",
     "start_time": "2019-09-24T17:26:55.404025Z"
    }
   },
   "outputs": [],
   "source": [
    "gb['Date'].agg(lambda x: (x - x.iloc[0] ).dt.total_seconds().mean() / 3600)"
   ]
  }
 ],
 "metadata": {
  "kernelspec": {
   "display_name": "Python 3",
   "language": "python",
   "name": "python3"
  },
  "language_info": {
   "codemirror_mode": {
    "name": "ipython",
    "version": 3
   },
   "file_extension": ".py",
   "mimetype": "text/x-python",
   "name": "python",
   "nbconvert_exporter": "python",
   "pygments_lexer": "ipython3",
   "version": "3.6.5"
  },
  "toc": {
   "base_numbering": 1,
   "nav_menu": {},
   "number_sections": true,
   "sideBar": true,
   "skip_h1_title": false,
   "title_cell": "Table of Contents",
   "title_sidebar": "Contents",
   "toc_cell": false,
   "toc_position": {},
   "toc_section_display": true,
   "toc_window_display": false
  },
  "varInspector": {
   "cols": {
    "lenName": 16,
    "lenType": 16,
    "lenVar": 40
   },
   "kernels_config": {
    "python": {
     "delete_cmd_postfix": "",
     "delete_cmd_prefix": "del ",
     "library": "var_list.py",
     "varRefreshCmd": "print(var_dic_list())"
    },
    "r": {
     "delete_cmd_postfix": ") ",
     "delete_cmd_prefix": "rm(",
     "library": "var_list.r",
     "varRefreshCmd": "cat(var_dic_list()) "
    }
   },
   "types_to_exclude": [
    "module",
    "function",
    "builtin_function_or_method",
    "instance",
    "_Feature"
   ],
   "window_display": false
  }
 },
 "nbformat": 4,
 "nbformat_minor": 2
}
