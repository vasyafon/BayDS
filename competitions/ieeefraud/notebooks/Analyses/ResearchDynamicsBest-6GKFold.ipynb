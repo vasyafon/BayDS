{
 "cells": [
  {
   "cell_type": "code",
   "execution_count": 1,
   "metadata": {
    "ExecuteTime": {
     "end_time": "2019-10-01T17:25:10.200305Z",
     "start_time": "2019-10-01T17:25:05.002866Z"
    }
   },
   "outputs": [],
   "source": [
    "%load_ext autoreload\n",
    "%autoreload 2\n",
    "main_dir = r'../../..'\n",
    "data_path = main_dir+'/data'\n",
    "import sys\n",
    "sys.path.append(main_dir)\n",
    "from typing import List, Set, Dict, Optional, Any, Tuple, Type, Union\n",
    "\n",
    "from BayDS.lib.pipeline import *\n",
    "from BayDS.lib.io import *\n",
    "import os\n"
   ]
  },
  {
   "cell_type": "code",
   "execution_count": 3,
   "metadata": {
    "ExecuteTime": {
     "end_time": "2019-10-01T17:26:59.243331Z",
     "start_time": "2019-10-01T17:26:44.092070Z"
    }
   },
   "outputs": [
    {
     "name": "stdout",
     "output_type": "stream",
     "text": [
      "---------------------------\n",
      "0: LoaderNode [2019-10-01 20:26:44]\n",
      "params:\n",
      " {'input_directory': 'e:/kaggle/05-LabelEncoded-last', 'file': 'label_encoded_data.pkl'}\n",
      "---------------------------\n",
      "1: LoaderNode [2019-10-01 20:26:58]\n",
      "params:\n",
      " {'input_directory': '../../../data/sub', 'file': 'oof_catboost-work.csv'}\n",
      "---------------------------\n",
      "2: LoaderNode [2019-10-01 20:26:59]\n",
      "params:\n",
      " {'input_directory': '../../../data/sub', 'file': 'prediction-catboost-work.csv'}\n"
     ]
    }
   ],
   "source": [
    "data_dir = f'e:/kaggle/05-LabelEncoded-last'\n",
    "p = Pipeline(working_folder=f'{main_dir}/Snapshots/1/catboost_last_dynamics')\n",
    "\n",
    "p.add_node(LoaderNode, None, 'data',\n",
    "           params={\n",
    "               'input_directory': data_dir,\n",
    "               'file': 'label_encoded_data.pkl'\n",
    "           })\n",
    "p.add_node(LoaderNode, None, 'oof',\n",
    "           params={\n",
    "               'input_directory': main_dir+'/data/sub',\n",
    "               'file': 'oof_catboost-work.csv'\n",
    "           })\n",
    "p.add_node(LoaderNode, None, 'predictions',\n",
    "           params={\n",
    "               'input_directory': main_dir+'/data/sub',\n",
    "               'file': 'prediction-catboost-work.csv'\n",
    "           })\n",
    "p.run(verbose=True)\n",
    "p.save()"
   ]
  },
  {
   "cell_type": "code",
   "execution_count": 4,
   "metadata": {
    "ExecuteTime": {
     "end_time": "2019-10-01T17:27:17.068400Z",
     "start_time": "2019-10-01T17:26:59.593166Z"
    }
   },
   "outputs": [],
   "source": [
    "df = p.data['data']\n",
    "DT_M=df['DT_M']\n",
    "df = df[['isFraud', 'new_card_id']]\n"
   ]
  },
  {
   "cell_type": "code",
   "execution_count": 5,
   "metadata": {
    "ExecuteTime": {
     "end_time": "2019-10-01T17:27:17.793412Z",
     "start_time": "2019-10-01T17:27:17.624412Z"
    }
   },
   "outputs": [
    {
     "data": {
      "text/plain": [
       "Int64Index([2987000, 2987001, 2987002, 2987003, 2987004, 2987005, 2987006,\n",
       "            2987007, 2987008, 2987009,\n",
       "            ...\n",
       "            4170230, 4170231, 4170232, 4170233, 4170234, 4170235, 4170236,\n",
       "            4170237, 4170238, 4170239],\n",
       "           dtype='int64', name='TransactionID', length=1097231)"
      ]
     },
     "execution_count": 5,
     "metadata": {},
     "output_type": "execute_result"
    }
   ],
   "source": [
    "pred = pd.concat([p.data['oof'].set_index('TransactionID')['isFraud'],p.data['predictions'].set_index('TransactionID')['isFraud']],axis=0)#\n",
    "pred.index"
   ]
  },
  {
   "cell_type": "code",
   "execution_count": 6,
   "metadata": {
    "ExecuteTime": {
     "end_time": "2019-10-01T17:27:18.238128Z",
     "start_time": "2019-10-01T17:27:18.078418Z"
    }
   },
   "outputs": [
    {
     "name": "stderr",
     "output_type": "stream",
     "text": [
      "c:\\python37\\lib\\site-packages\\ipykernel_launcher.py:1: SettingWithCopyWarning: \n",
      "A value is trying to be set on a copy of a slice from a DataFrame.\n",
      "Try using .loc[row_indexer,col_indexer] = value instead\n",
      "\n",
      "See the caveats in the documentation: http://pandas.pydata.org/pandas-docs/stable/user_guide/indexing.html#returning-a-view-versus-a-copy\n",
      "  \"\"\"Entry point for launching an IPython kernel.\n"
     ]
    }
   ],
   "source": [
    "df['pred_0'] = pred"
   ]
  },
  {
   "cell_type": "code",
   "execution_count": 7,
   "metadata": {
    "ExecuteTime": {
     "end_time": "2019-10-01T17:27:18.809113Z",
     "start_time": "2019-10-01T17:27:18.503124Z"
    }
   },
   "outputs": [],
   "source": [
    "test = df[['pred_0','new_card_id']].groupby('new_card_id').shift()"
   ]
  },
  {
   "cell_type": "code",
   "execution_count": 8,
   "metadata": {
    "ExecuteTime": {
     "end_time": "2019-10-01T17:27:26.148999Z",
     "start_time": "2019-10-01T17:27:19.096118Z"
    }
   },
   "outputs": [],
   "source": [
    "shifts = {}\n",
    "for shift in range(-20,20):\n",
    "    s = df[['pred_0','new_card_id']].groupby('new_card_id').shift(shift)['pred_0']\n",
    "    shifts[shift] = s"
   ]
  },
  {
   "cell_type": "code",
   "execution_count": 9,
   "metadata": {
    "ExecuteTime": {
     "end_time": "2019-10-01T17:27:26.887073Z",
     "start_time": "2019-10-01T17:27:26.511004Z"
    }
   },
   "outputs": [
    {
     "name": "stderr",
     "output_type": "stream",
     "text": [
      "c:\\python37\\lib\\site-packages\\ipykernel_launcher.py:3: SettingWithCopyWarning: \n",
      "A value is trying to be set on a copy of a slice from a DataFrame.\n",
      "Try using .loc[row_indexer,col_indexer] = value instead\n",
      "\n",
      "See the caveats in the documentation: http://pandas.pydata.org/pandas-docs/stable/user_guide/indexing.html#returning-a-view-versus-a-copy\n",
      "  This is separate from the ipykernel package so we can avoid doing imports until\n"
     ]
    }
   ],
   "source": [
    "for k,v in shifts.items():\n",
    "    if k!=0:\n",
    "        df[f'pred_{k}']=v"
   ]
  },
  {
   "cell_type": "code",
   "execution_count": 10,
   "metadata": {
    "ExecuteTime": {
     "end_time": "2019-10-01T17:27:29.575063Z",
     "start_time": "2019-10-01T17:27:28.366030Z"
    }
   },
   "outputs": [],
   "source": [
    "df = df.fillna(-1)"
   ]
  },
  {
   "cell_type": "code",
   "execution_count": 11,
   "metadata": {
    "ExecuteTime": {
     "end_time": "2019-10-01T17:27:31.216069Z",
     "start_time": "2019-10-01T17:27:30.382062Z"
    }
   },
   "outputs": [],
   "source": [
    "X = df[df.isFraud>=0].drop(['isFraud'],axis=1)\n",
    "y = df[df.isFraud>=0]['isFraud']\n",
    "test = df[df.isFraud<0].drop(['isFraud'],axis=1)\n"
   ]
  },
  {
   "cell_type": "code",
   "execution_count": null,
   "metadata": {},
   "outputs": [],
   "source": []
  },
  {
   "cell_type": "code",
   "execution_count": 13,
   "metadata": {
    "ExecuteTime": {
     "end_time": "2019-10-01T17:27:35.037126Z",
     "start_time": "2019-10-01T17:27:34.577119Z"
    }
   },
   "outputs": [
    {
     "data": {
      "text/html": [
       "<div>\n",
       "<style scoped>\n",
       "    .dataframe tbody tr th:only-of-type {\n",
       "        vertical-align: middle;\n",
       "    }\n",
       "\n",
       "    .dataframe tbody tr th {\n",
       "        vertical-align: top;\n",
       "    }\n",
       "\n",
       "    .dataframe thead th {\n",
       "        text-align: right;\n",
       "    }\n",
       "</style>\n",
       "<table border=\"1\" class=\"dataframe\">\n",
       "  <thead>\n",
       "    <tr style=\"text-align: right;\">\n",
       "      <th></th>\n",
       "      <th>new_card_id</th>\n",
       "      <th>pred_0</th>\n",
       "      <th>pred_-20</th>\n",
       "      <th>pred_-19</th>\n",
       "      <th>pred_-18</th>\n",
       "      <th>pred_-17</th>\n",
       "      <th>pred_-16</th>\n",
       "      <th>pred_-15</th>\n",
       "      <th>pred_-14</th>\n",
       "      <th>pred_-13</th>\n",
       "      <th>...</th>\n",
       "      <th>pred_10</th>\n",
       "      <th>pred_11</th>\n",
       "      <th>pred_12</th>\n",
       "      <th>pred_13</th>\n",
       "      <th>pred_14</th>\n",
       "      <th>pred_15</th>\n",
       "      <th>pred_16</th>\n",
       "      <th>pred_17</th>\n",
       "      <th>pred_18</th>\n",
       "      <th>pred_19</th>\n",
       "    </tr>\n",
       "    <tr>\n",
       "      <th>TransactionID</th>\n",
       "      <th></th>\n",
       "      <th></th>\n",
       "      <th></th>\n",
       "      <th></th>\n",
       "      <th></th>\n",
       "      <th></th>\n",
       "      <th></th>\n",
       "      <th></th>\n",
       "      <th></th>\n",
       "      <th></th>\n",
       "      <th></th>\n",
       "      <th></th>\n",
       "      <th></th>\n",
       "      <th></th>\n",
       "      <th></th>\n",
       "      <th></th>\n",
       "      <th></th>\n",
       "      <th></th>\n",
       "      <th></th>\n",
       "      <th></th>\n",
       "      <th></th>\n",
       "    </tr>\n",
       "  </thead>\n",
       "  <tbody>\n",
       "    <tr>\n",
       "      <td>2987000</td>\n",
       "      <td>121195</td>\n",
       "      <td>0.012611</td>\n",
       "      <td>-1.000000</td>\n",
       "      <td>-1.000000</td>\n",
       "      <td>-1.000000</td>\n",
       "      <td>-1.000000</td>\n",
       "      <td>-1.000000</td>\n",
       "      <td>-1.000000</td>\n",
       "      <td>-1.000000</td>\n",
       "      <td>-1.000000</td>\n",
       "      <td>...</td>\n",
       "      <td>-1.000000</td>\n",
       "      <td>-1.000000</td>\n",
       "      <td>-1.000000</td>\n",
       "      <td>-1.000000</td>\n",
       "      <td>-1.000000</td>\n",
       "      <td>-1.000000</td>\n",
       "      <td>-1.000000</td>\n",
       "      <td>-1.000000</td>\n",
       "      <td>-1.000000</td>\n",
       "      <td>-1.000000</td>\n",
       "    </tr>\n",
       "    <tr>\n",
       "      <td>2987001</td>\n",
       "      <td>137</td>\n",
       "      <td>0.004732</td>\n",
       "      <td>0.008908</td>\n",
       "      <td>0.000253</td>\n",
       "      <td>0.006473</td>\n",
       "      <td>0.002604</td>\n",
       "      <td>0.154815</td>\n",
       "      <td>0.046569</td>\n",
       "      <td>0.037790</td>\n",
       "      <td>0.012151</td>\n",
       "      <td>...</td>\n",
       "      <td>-1.000000</td>\n",
       "      <td>-1.000000</td>\n",
       "      <td>-1.000000</td>\n",
       "      <td>-1.000000</td>\n",
       "      <td>-1.000000</td>\n",
       "      <td>-1.000000</td>\n",
       "      <td>-1.000000</td>\n",
       "      <td>-1.000000</td>\n",
       "      <td>-1.000000</td>\n",
       "      <td>-1.000000</td>\n",
       "    </tr>\n",
       "    <tr>\n",
       "      <td>2987002</td>\n",
       "      <td>105</td>\n",
       "      <td>0.001594</td>\n",
       "      <td>0.001539</td>\n",
       "      <td>0.000843</td>\n",
       "      <td>0.011326</td>\n",
       "      <td>0.006053</td>\n",
       "      <td>0.002692</td>\n",
       "      <td>0.003929</td>\n",
       "      <td>0.003869</td>\n",
       "      <td>0.004442</td>\n",
       "      <td>...</td>\n",
       "      <td>-1.000000</td>\n",
       "      <td>-1.000000</td>\n",
       "      <td>-1.000000</td>\n",
       "      <td>-1.000000</td>\n",
       "      <td>-1.000000</td>\n",
       "      <td>-1.000000</td>\n",
       "      <td>-1.000000</td>\n",
       "      <td>-1.000000</td>\n",
       "      <td>-1.000000</td>\n",
       "      <td>-1.000000</td>\n",
       "    </tr>\n",
       "    <tr>\n",
       "      <td>2987003</td>\n",
       "      <td>531</td>\n",
       "      <td>0.000934</td>\n",
       "      <td>0.000820</td>\n",
       "      <td>0.000755</td>\n",
       "      <td>0.000475</td>\n",
       "      <td>0.002261</td>\n",
       "      <td>0.002590</td>\n",
       "      <td>0.002336</td>\n",
       "      <td>0.000885</td>\n",
       "      <td>0.001571</td>\n",
       "      <td>...</td>\n",
       "      <td>-1.000000</td>\n",
       "      <td>-1.000000</td>\n",
       "      <td>-1.000000</td>\n",
       "      <td>-1.000000</td>\n",
       "      <td>-1.000000</td>\n",
       "      <td>-1.000000</td>\n",
       "      <td>-1.000000</td>\n",
       "      <td>-1.000000</td>\n",
       "      <td>-1.000000</td>\n",
       "      <td>-1.000000</td>\n",
       "    </tr>\n",
       "    <tr>\n",
       "      <td>2987004</td>\n",
       "      <td>9072</td>\n",
       "      <td>0.002054</td>\n",
       "      <td>-1.000000</td>\n",
       "      <td>-1.000000</td>\n",
       "      <td>-1.000000</td>\n",
       "      <td>-1.000000</td>\n",
       "      <td>-1.000000</td>\n",
       "      <td>0.020027</td>\n",
       "      <td>0.003390</td>\n",
       "      <td>0.003720</td>\n",
       "      <td>...</td>\n",
       "      <td>-1.000000</td>\n",
       "      <td>-1.000000</td>\n",
       "      <td>-1.000000</td>\n",
       "      <td>-1.000000</td>\n",
       "      <td>-1.000000</td>\n",
       "      <td>-1.000000</td>\n",
       "      <td>-1.000000</td>\n",
       "      <td>-1.000000</td>\n",
       "      <td>-1.000000</td>\n",
       "      <td>-1.000000</td>\n",
       "    </tr>\n",
       "    <tr>\n",
       "      <td>...</td>\n",
       "      <td>...</td>\n",
       "      <td>...</td>\n",
       "      <td>...</td>\n",
       "      <td>...</td>\n",
       "      <td>...</td>\n",
       "      <td>...</td>\n",
       "      <td>...</td>\n",
       "      <td>...</td>\n",
       "      <td>...</td>\n",
       "      <td>...</td>\n",
       "      <td>...</td>\n",
       "      <td>...</td>\n",
       "      <td>...</td>\n",
       "      <td>...</td>\n",
       "      <td>...</td>\n",
       "      <td>...</td>\n",
       "      <td>...</td>\n",
       "      <td>...</td>\n",
       "      <td>...</td>\n",
       "      <td>...</td>\n",
       "      <td>...</td>\n",
       "    </tr>\n",
       "    <tr>\n",
       "      <td>3577535</td>\n",
       "      <td>112861</td>\n",
       "      <td>0.002398</td>\n",
       "      <td>-1.000000</td>\n",
       "      <td>-1.000000</td>\n",
       "      <td>-1.000000</td>\n",
       "      <td>-1.000000</td>\n",
       "      <td>-1.000000</td>\n",
       "      <td>-1.000000</td>\n",
       "      <td>-1.000000</td>\n",
       "      <td>-1.000000</td>\n",
       "      <td>...</td>\n",
       "      <td>-1.000000</td>\n",
       "      <td>-1.000000</td>\n",
       "      <td>-1.000000</td>\n",
       "      <td>-1.000000</td>\n",
       "      <td>-1.000000</td>\n",
       "      <td>-1.000000</td>\n",
       "      <td>-1.000000</td>\n",
       "      <td>-1.000000</td>\n",
       "      <td>-1.000000</td>\n",
       "      <td>-1.000000</td>\n",
       "    </tr>\n",
       "    <tr>\n",
       "      <td>3577536</td>\n",
       "      <td>17127</td>\n",
       "      <td>0.002329</td>\n",
       "      <td>-1.000000</td>\n",
       "      <td>-1.000000</td>\n",
       "      <td>-1.000000</td>\n",
       "      <td>-1.000000</td>\n",
       "      <td>-1.000000</td>\n",
       "      <td>-1.000000</td>\n",
       "      <td>-1.000000</td>\n",
       "      <td>-1.000000</td>\n",
       "      <td>...</td>\n",
       "      <td>-1.000000</td>\n",
       "      <td>-1.000000</td>\n",
       "      <td>-1.000000</td>\n",
       "      <td>-1.000000</td>\n",
       "      <td>-1.000000</td>\n",
       "      <td>-1.000000</td>\n",
       "      <td>-1.000000</td>\n",
       "      <td>-1.000000</td>\n",
       "      <td>-1.000000</td>\n",
       "      <td>-1.000000</td>\n",
       "    </tr>\n",
       "    <tr>\n",
       "      <td>3577537</td>\n",
       "      <td>202</td>\n",
       "      <td>0.002747</td>\n",
       "      <td>0.002042</td>\n",
       "      <td>0.502319</td>\n",
       "      <td>0.102548</td>\n",
       "      <td>0.007464</td>\n",
       "      <td>0.004479</td>\n",
       "      <td>0.002619</td>\n",
       "      <td>0.003162</td>\n",
       "      <td>0.012614</td>\n",
       "      <td>...</td>\n",
       "      <td>0.003796</td>\n",
       "      <td>0.002516</td>\n",
       "      <td>0.005924</td>\n",
       "      <td>0.003820</td>\n",
       "      <td>0.004301</td>\n",
       "      <td>0.004906</td>\n",
       "      <td>0.011828</td>\n",
       "      <td>0.011292</td>\n",
       "      <td>0.006670</td>\n",
       "      <td>0.003985</td>\n",
       "    </tr>\n",
       "    <tr>\n",
       "      <td>3577538</td>\n",
       "      <td>4547</td>\n",
       "      <td>0.000903</td>\n",
       "      <td>-1.000000</td>\n",
       "      <td>-1.000000</td>\n",
       "      <td>-1.000000</td>\n",
       "      <td>-1.000000</td>\n",
       "      <td>-1.000000</td>\n",
       "      <td>-1.000000</td>\n",
       "      <td>-1.000000</td>\n",
       "      <td>-1.000000</td>\n",
       "      <td>...</td>\n",
       "      <td>0.003604</td>\n",
       "      <td>0.003911</td>\n",
       "      <td>0.002604</td>\n",
       "      <td>0.024572</td>\n",
       "      <td>0.013747</td>\n",
       "      <td>0.010483</td>\n",
       "      <td>0.052671</td>\n",
       "      <td>0.016909</td>\n",
       "      <td>0.010368</td>\n",
       "      <td>-1.000000</td>\n",
       "    </tr>\n",
       "    <tr>\n",
       "      <td>3577539</td>\n",
       "      <td>3</td>\n",
       "      <td>0.009698</td>\n",
       "      <td>0.010212</td>\n",
       "      <td>0.003689</td>\n",
       "      <td>0.005294</td>\n",
       "      <td>0.003284</td>\n",
       "      <td>0.075385</td>\n",
       "      <td>0.001703</td>\n",
       "      <td>0.003024</td>\n",
       "      <td>0.016763</td>\n",
       "      <td>...</td>\n",
       "      <td>0.010089</td>\n",
       "      <td>0.000393</td>\n",
       "      <td>0.057778</td>\n",
       "      <td>0.071714</td>\n",
       "      <td>0.642245</td>\n",
       "      <td>0.007983</td>\n",
       "      <td>0.020002</td>\n",
       "      <td>0.007668</td>\n",
       "      <td>0.016170</td>\n",
       "      <td>0.005728</td>\n",
       "    </tr>\n",
       "  </tbody>\n",
       "</table>\n",
       "<p>590540 rows × 41 columns</p>\n",
       "</div>"
      ],
      "text/plain": [
       "               new_card_id    pred_0  pred_-20  pred_-19  pred_-18  pred_-17  \\\n",
       "TransactionID                                                                  \n",
       "2987000             121195  0.012611 -1.000000 -1.000000 -1.000000 -1.000000   \n",
       "2987001                137  0.004732  0.008908  0.000253  0.006473  0.002604   \n",
       "2987002                105  0.001594  0.001539  0.000843  0.011326  0.006053   \n",
       "2987003                531  0.000934  0.000820  0.000755  0.000475  0.002261   \n",
       "2987004               9072  0.002054 -1.000000 -1.000000 -1.000000 -1.000000   \n",
       "...                    ...       ...       ...       ...       ...       ...   \n",
       "3577535             112861  0.002398 -1.000000 -1.000000 -1.000000 -1.000000   \n",
       "3577536              17127  0.002329 -1.000000 -1.000000 -1.000000 -1.000000   \n",
       "3577537                202  0.002747  0.002042  0.502319  0.102548  0.007464   \n",
       "3577538               4547  0.000903 -1.000000 -1.000000 -1.000000 -1.000000   \n",
       "3577539                  3  0.009698  0.010212  0.003689  0.005294  0.003284   \n",
       "\n",
       "               pred_-16  pred_-15  pred_-14  pred_-13  ...   pred_10  \\\n",
       "TransactionID                                          ...             \n",
       "2987000       -1.000000 -1.000000 -1.000000 -1.000000  ... -1.000000   \n",
       "2987001        0.154815  0.046569  0.037790  0.012151  ... -1.000000   \n",
       "2987002        0.002692  0.003929  0.003869  0.004442  ... -1.000000   \n",
       "2987003        0.002590  0.002336  0.000885  0.001571  ... -1.000000   \n",
       "2987004       -1.000000  0.020027  0.003390  0.003720  ... -1.000000   \n",
       "...                 ...       ...       ...       ...  ...       ...   \n",
       "3577535       -1.000000 -1.000000 -1.000000 -1.000000  ... -1.000000   \n",
       "3577536       -1.000000 -1.000000 -1.000000 -1.000000  ... -1.000000   \n",
       "3577537        0.004479  0.002619  0.003162  0.012614  ...  0.003796   \n",
       "3577538       -1.000000 -1.000000 -1.000000 -1.000000  ...  0.003604   \n",
       "3577539        0.075385  0.001703  0.003024  0.016763  ...  0.010089   \n",
       "\n",
       "                pred_11   pred_12   pred_13   pred_14   pred_15   pred_16  \\\n",
       "TransactionID                                                               \n",
       "2987000       -1.000000 -1.000000 -1.000000 -1.000000 -1.000000 -1.000000   \n",
       "2987001       -1.000000 -1.000000 -1.000000 -1.000000 -1.000000 -1.000000   \n",
       "2987002       -1.000000 -1.000000 -1.000000 -1.000000 -1.000000 -1.000000   \n",
       "2987003       -1.000000 -1.000000 -1.000000 -1.000000 -1.000000 -1.000000   \n",
       "2987004       -1.000000 -1.000000 -1.000000 -1.000000 -1.000000 -1.000000   \n",
       "...                 ...       ...       ...       ...       ...       ...   \n",
       "3577535       -1.000000 -1.000000 -1.000000 -1.000000 -1.000000 -1.000000   \n",
       "3577536       -1.000000 -1.000000 -1.000000 -1.000000 -1.000000 -1.000000   \n",
       "3577537        0.002516  0.005924  0.003820  0.004301  0.004906  0.011828   \n",
       "3577538        0.003911  0.002604  0.024572  0.013747  0.010483  0.052671   \n",
       "3577539        0.000393  0.057778  0.071714  0.642245  0.007983  0.020002   \n",
       "\n",
       "                pred_17   pred_18   pred_19  \n",
       "TransactionID                                \n",
       "2987000       -1.000000 -1.000000 -1.000000  \n",
       "2987001       -1.000000 -1.000000 -1.000000  \n",
       "2987002       -1.000000 -1.000000 -1.000000  \n",
       "2987003       -1.000000 -1.000000 -1.000000  \n",
       "2987004       -1.000000 -1.000000 -1.000000  \n",
       "...                 ...       ...       ...  \n",
       "3577535       -1.000000 -1.000000 -1.000000  \n",
       "3577536       -1.000000 -1.000000 -1.000000  \n",
       "3577537        0.011292  0.006670  0.003985  \n",
       "3577538        0.016909  0.010368 -1.000000  \n",
       "3577539        0.007668  0.016170  0.005728  \n",
       "\n",
       "[590540 rows x 41 columns]"
      ]
     },
     "execution_count": 13,
     "metadata": {},
     "output_type": "execute_result"
    }
   ],
   "source": [
    "X"
   ]
  },
  {
   "cell_type": "code",
   "execution_count": 14,
   "metadata": {
    "ExecuteTime": {
     "end_time": "2019-10-01T17:27:36.687186Z",
     "start_time": "2019-10-01T17:27:36.556148Z"
    }
   },
   "outputs": [],
   "source": [
    "categorical_features = [c for c, col in enumerate(X.columns) if col in ['new_card_id']]\n"
   ]
  },
  {
   "cell_type": "code",
   "execution_count": 15,
   "metadata": {
    "ExecuteTime": {
     "end_time": "2019-10-01T17:27:38.333191Z",
     "start_time": "2019-10-01T17:27:38.194170Z"
    }
   },
   "outputs": [],
   "source": [
    "params = {'learning_rate': 0.02,\n",
    "          \"boosting_type\": \"gbdt\",\n",
    "          \"bagging_seed\": 11,\n",
    "          \"metric\": 'auc',\n",
    "          \"verbosity\": -1,\n",
    "          'reg_alpha': 0.5899927210061127,\n",
    "          'reg_lambda': 0.8485237330340494,\n",
    "          'random_state': 47, \n",
    "#           'categorical_feature': categorical_features,\n",
    "         }\n"
   ]
  },
  {
   "cell_type": "code",
   "execution_count": 16,
   "metadata": {
    "ExecuteTime": {
     "end_time": "2019-10-01T17:27:40.306505Z",
     "start_time": "2019-10-01T17:27:39.842198Z"
    }
   },
   "outputs": [],
   "source": [
    "from sklearn.model_selection import GroupKFold\n",
    "n_fold = 6\n",
    "# folds = TimeSeriesSplit(n_splits=n_fold)\n",
    "folds = GroupKFold(n_splits=n_fold)"
   ]
  },
  {
   "cell_type": "code",
   "execution_count": 17,
   "metadata": {
    "ExecuteTime": {
     "end_time": "2019-10-01T17:27:41.964464Z",
     "start_time": "2019-10-01T17:27:41.828480Z"
    }
   },
   "outputs": [
    {
     "data": {
      "text/plain": [
       "(590540, 41)"
      ]
     },
     "execution_count": 17,
     "metadata": {},
     "output_type": "execute_result"
    }
   ],
   "source": [
    "X.shape"
   ]
  },
  {
   "cell_type": "code",
   "execution_count": null,
   "metadata": {
    "ExecuteTime": {
     "end_time": "2019-09-30T17:59:55.541759Z",
     "start_time": "2019-09-30T17:59:55.262753Z"
    }
   },
   "outputs": [],
   "source": []
  },
  {
   "cell_type": "code",
   "execution_count": 18,
   "metadata": {
    "ExecuteTime": {
     "end_time": "2019-10-01T17:27:51.157293Z",
     "start_time": "2019-10-01T17:27:43.500488Z"
    }
   },
   "outputs": [
    {
     "name": "stderr",
     "output_type": "stream",
     "text": [
      "Using TensorFlow backend.\n",
      "c:\\python37\\lib\\site-packages\\tensorflow\\python\\framework\\dtypes.py:516: FutureWarning: Passing (type, 1) or '1type' as a synonym of type is deprecated; in a future version of numpy, it will be understood as (type, (1,)) / '(1,)type'.\n",
      "  _np_qint8 = np.dtype([(\"qint8\", np.int8, 1)])\n",
      "c:\\python37\\lib\\site-packages\\tensorflow\\python\\framework\\dtypes.py:517: FutureWarning: Passing (type, 1) or '1type' as a synonym of type is deprecated; in a future version of numpy, it will be understood as (type, (1,)) / '(1,)type'.\n",
      "  _np_quint8 = np.dtype([(\"quint8\", np.uint8, 1)])\n",
      "c:\\python37\\lib\\site-packages\\tensorflow\\python\\framework\\dtypes.py:518: FutureWarning: Passing (type, 1) or '1type' as a synonym of type is deprecated; in a future version of numpy, it will be understood as (type, (1,)) / '(1,)type'.\n",
      "  _np_qint16 = np.dtype([(\"qint16\", np.int16, 1)])\n",
      "c:\\python37\\lib\\site-packages\\tensorflow\\python\\framework\\dtypes.py:519: FutureWarning: Passing (type, 1) or '1type' as a synonym of type is deprecated; in a future version of numpy, it will be understood as (type, (1,)) / '(1,)type'.\n",
      "  _np_quint16 = np.dtype([(\"quint16\", np.uint16, 1)])\n",
      "c:\\python37\\lib\\site-packages\\tensorflow\\python\\framework\\dtypes.py:520: FutureWarning: Passing (type, 1) or '1type' as a synonym of type is deprecated; in a future version of numpy, it will be understood as (type, (1,)) / '(1,)type'.\n",
      "  _np_qint32 = np.dtype([(\"qint32\", np.int32, 1)])\n",
      "c:\\python37\\lib\\site-packages\\tensorflow\\python\\framework\\dtypes.py:525: FutureWarning: Passing (type, 1) or '1type' as a synonym of type is deprecated; in a future version of numpy, it will be understood as (type, (1,)) / '(1,)type'.\n",
      "  np_resource = np.dtype([(\"resource\", np.ubyte, 1)])\n",
      "c:\\python37\\lib\\site-packages\\tensorboard\\compat\\tensorflow_stub\\dtypes.py:541: FutureWarning: Passing (type, 1) or '1type' as a synonym of type is deprecated; in a future version of numpy, it will be understood as (type, (1,)) / '(1,)type'.\n",
      "  _np_qint8 = np.dtype([(\"qint8\", np.int8, 1)])\n",
      "c:\\python37\\lib\\site-packages\\tensorboard\\compat\\tensorflow_stub\\dtypes.py:542: FutureWarning: Passing (type, 1) or '1type' as a synonym of type is deprecated; in a future version of numpy, it will be understood as (type, (1,)) / '(1,)type'.\n",
      "  _np_quint8 = np.dtype([(\"quint8\", np.uint8, 1)])\n",
      "c:\\python37\\lib\\site-packages\\tensorboard\\compat\\tensorflow_stub\\dtypes.py:543: FutureWarning: Passing (type, 1) or '1type' as a synonym of type is deprecated; in a future version of numpy, it will be understood as (type, (1,)) / '(1,)type'.\n",
      "  _np_qint16 = np.dtype([(\"qint16\", np.int16, 1)])\n",
      "c:\\python37\\lib\\site-packages\\tensorboard\\compat\\tensorflow_stub\\dtypes.py:544: FutureWarning: Passing (type, 1) or '1type' as a synonym of type is deprecated; in a future version of numpy, it will be understood as (type, (1,)) / '(1,)type'.\n",
      "  _np_quint16 = np.dtype([(\"quint16\", np.uint16, 1)])\n",
      "c:\\python37\\lib\\site-packages\\tensorboard\\compat\\tensorflow_stub\\dtypes.py:545: FutureWarning: Passing (type, 1) or '1type' as a synonym of type is deprecated; in a future version of numpy, it will be understood as (type, (1,)) / '(1,)type'.\n",
      "  _np_qint32 = np.dtype([(\"qint32\", np.int32, 1)])\n",
      "c:\\python37\\lib\\site-packages\\tensorboard\\compat\\tensorflow_stub\\dtypes.py:550: FutureWarning: Passing (type, 1) or '1type' as a synonym of type is deprecated; in a future version of numpy, it will be understood as (type, (1,)) / '(1,)type'.\n",
      "  np_resource = np.dtype([(\"resource\", np.ubyte, 1)])\n"
     ]
    }
   ],
   "source": [
    "from BayDS.lib.training import *"
   ]
  },
  {
   "cell_type": "code",
   "execution_count": 19,
   "metadata": {
    "ExecuteTime": {
     "end_time": "2019-10-01T17:45:38.992909Z",
     "start_time": "2019-10-01T17:27:52.854261Z"
    }
   },
   "outputs": [
    {
     "name": "stdout",
     "output_type": "stream",
     "text": [
      "Fold 1 started at Tue Oct  1 20:27:53 2019\n",
      "Training until validation scores don't improve for 300 rounds.\n",
      "[100]\ttraining's auc: 0.964336\ttraining's auc: 0.964196\tvalid_1's auc: 0.940111\tvalid_1's auc: 0.940084\n",
      "[200]\ttraining's auc: 0.967651\ttraining's auc: 0.967578\tvalid_1's auc: 0.940104\tvalid_1's auc: 0.940116\n",
      "[300]\ttraining's auc: 0.96944\ttraining's auc: 0.96944\tvalid_1's auc: 0.940391\tvalid_1's auc: 0.940394\n",
      "[400]\ttraining's auc: 0.970955\ttraining's auc: 0.970955\tvalid_1's auc: 0.940177\tvalid_1's auc: 0.940177\n",
      "Early stopping, best iteration is:\n",
      "[111]\ttraining's auc: 0.964843\ttraining's auc: 0.964822\tvalid_1's auc: 0.940444\tvalid_1's auc: 0.940482\n",
      "Fold 2 started at Tue Oct  1 20:29:17 2019\n",
      "Training until validation scores don't improve for 300 rounds.\n",
      "[100]\ttraining's auc: 0.961111\ttraining's auc: 0.961099\tvalid_1's auc: 0.957228\tvalid_1's auc: 0.957238\n",
      "[200]\ttraining's auc: 0.96404\ttraining's auc: 0.964024\tvalid_1's auc: 0.957835\tvalid_1's auc: 0.957821\n",
      "[300]\ttraining's auc: 0.966184\ttraining's auc: 0.966184\tvalid_1's auc: 0.958054\tvalid_1's auc: 0.958064\n",
      "[400]\ttraining's auc: 0.967839\ttraining's auc: 0.967838\tvalid_1's auc: 0.958122\tvalid_1's auc: 0.958123\n",
      "[500]\ttraining's auc: 0.969554\ttraining's auc: 0.969554\tvalid_1's auc: 0.95815\tvalid_1's auc: 0.95815\n",
      "[600]\ttraining's auc: 0.971019\ttraining's auc: 0.971019\tvalid_1's auc: 0.9581\tvalid_1's auc: 0.9581\n",
      "[700]\ttraining's auc: 0.972512\ttraining's auc: 0.972512\tvalid_1's auc: 0.958059\tvalid_1's auc: 0.958059\n",
      "Early stopping, best iteration is:\n",
      "[416]\ttraining's auc: 0.968106\ttraining's auc: 0.968106\tvalid_1's auc: 0.958163\tvalid_1's auc: 0.958164\n",
      "Fold 3 started at Tue Oct  1 20:31:46 2019\n",
      "Training until validation scores don't improve for 300 rounds.\n",
      "[100]\ttraining's auc: 0.959776\ttraining's auc: 0.959821\tvalid_1's auc: 0.960005\tvalid_1's auc: 0.95985\n",
      "[200]\ttraining's auc: 0.962898\ttraining's auc: 0.962896\tvalid_1's auc: 0.961427\tvalid_1's auc: 0.961427\n",
      "[300]\ttraining's auc: 0.965018\ttraining's auc: 0.965018\tvalid_1's auc: 0.961731\tvalid_1's auc: 0.96173\n",
      "[400]\ttraining's auc: 0.966935\ttraining's auc: 0.966935\tvalid_1's auc: 0.961904\tvalid_1's auc: 0.961903\n",
      "[500]\ttraining's auc: 0.968835\ttraining's auc: 0.968836\tvalid_1's auc: 0.961942\tvalid_1's auc: 0.961943\n",
      "[600]\ttraining's auc: 0.970401\ttraining's auc: 0.970401\tvalid_1's auc: 0.961911\tvalid_1's auc: 0.961911\n",
      "[700]\ttraining's auc: 0.971706\ttraining's auc: 0.971705\tvalid_1's auc: 0.961884\tvalid_1's auc: 0.961884\n",
      "[800]\ttraining's auc: 0.97283\ttraining's auc: 0.972829\tvalid_1's auc: 0.961845\tvalid_1's auc: 0.961846\n",
      "Early stopping, best iteration is:\n",
      "[537]\ttraining's auc: 0.969476\ttraining's auc: 0.969476\tvalid_1's auc: 0.961961\tvalid_1's auc: 0.961961\n",
      "Fold 4 started at Tue Oct  1 20:34:45 2019\n",
      "Training until validation scores don't improve for 300 rounds.\n",
      "[100]\ttraining's auc: 0.96108\ttraining's auc: 0.961091\tvalid_1's auc: 0.951563\tvalid_1's auc: 0.951553\n",
      "[200]\ttraining's auc: 0.96396\ttraining's auc: 0.963969\tvalid_1's auc: 0.953046\tvalid_1's auc: 0.953045\n",
      "[300]\ttraining's auc: 0.965655\ttraining's auc: 0.965656\tvalid_1's auc: 0.953615\tvalid_1's auc: 0.953614\n",
      "[400]\ttraining's auc: 0.967367\ttraining's auc: 0.967367\tvalid_1's auc: 0.953914\tvalid_1's auc: 0.953914\n",
      "[500]\ttraining's auc: 0.968949\ttraining's auc: 0.968949\tvalid_1's auc: 0.954118\tvalid_1's auc: 0.954119\n",
      "[600]\ttraining's auc: 0.970705\ttraining's auc: 0.970706\tvalid_1's auc: 0.954246\tvalid_1's auc: 0.954246\n",
      "[700]\ttraining's auc: 0.971972\ttraining's auc: 0.971972\tvalid_1's auc: 0.95428\tvalid_1's auc: 0.954281\n",
      "[800]\ttraining's auc: 0.973132\ttraining's auc: 0.973132\tvalid_1's auc: 0.954321\tvalid_1's auc: 0.954322\n",
      "[900]\ttraining's auc: 0.974345\ttraining's auc: 0.974346\tvalid_1's auc: 0.954337\tvalid_1's auc: 0.954338\n",
      "[1000]\ttraining's auc: 0.9755\ttraining's auc: 0.975501\tvalid_1's auc: 0.954293\tvalid_1's auc: 0.954293\n",
      "[1100]\ttraining's auc: 0.976592\ttraining's auc: 0.976593\tvalid_1's auc: 0.954231\tvalid_1's auc: 0.954232\n",
      "Early stopping, best iteration is:\n",
      "[891]\ttraining's auc: 0.974223\ttraining's auc: 0.974223\tvalid_1's auc: 0.954369\tvalid_1's auc: 0.954368\n",
      "Fold 5 started at Tue Oct  1 20:39:09 2019\n",
      "Training until validation scores don't improve for 300 rounds.\n",
      "[100]\ttraining's auc: 0.959208\ttraining's auc: 0.959212\tvalid_1's auc: 0.964372\tvalid_1's auc: 0.964382\n",
      "[200]\ttraining's auc: 0.96219\ttraining's auc: 0.96219\tvalid_1's auc: 0.965092\tvalid_1's auc: 0.965097\n",
      "[300]\ttraining's auc: 0.964316\ttraining's auc: 0.964316\tvalid_1's auc: 0.965762\tvalid_1's auc: 0.96577\n",
      "[400]\ttraining's auc: 0.966173\ttraining's auc: 0.966173\tvalid_1's auc: 0.966025\tvalid_1's auc: 0.966026\n",
      "[500]\ttraining's auc: 0.968053\ttraining's auc: 0.968053\tvalid_1's auc: 0.966005\tvalid_1's auc: 0.966005\n",
      "[600]\ttraining's auc: 0.969625\ttraining's auc: 0.969625\tvalid_1's auc: 0.966002\tvalid_1's auc: 0.966002\n",
      "[700]\ttraining's auc: 0.970927\ttraining's auc: 0.970927\tvalid_1's auc: 0.965934\tvalid_1's auc: 0.965933\n",
      "[800]\ttraining's auc: 0.972508\ttraining's auc: 0.972508\tvalid_1's auc: 0.965888\tvalid_1's auc: 0.965888\n",
      "Early stopping, best iteration is:\n",
      "[556]\ttraining's auc: 0.968983\ttraining's auc: 0.968983\tvalid_1's auc: 0.966038\tvalid_1's auc: 0.966037\n",
      "Fold 6 started at Tue Oct  1 20:42:20 2019\n",
      "Training until validation scores don't improve for 300 rounds.\n",
      "[100]\ttraining's auc: 0.958008\ttraining's auc: 0.95802\tvalid_1's auc: 0.970747\tvalid_1's auc: 0.970716\n",
      "[200]\ttraining's auc: 0.96114\ttraining's auc: 0.961145\tvalid_1's auc: 0.971472\tvalid_1's auc: 0.971388\n",
      "[300]\ttraining's auc: 0.963209\ttraining's auc: 0.963209\tvalid_1's auc: 0.971757\tvalid_1's auc: 0.971757\n",
      "[400]\ttraining's auc: 0.964989\ttraining's auc: 0.964989\tvalid_1's auc: 0.971843\tvalid_1's auc: 0.971843\n",
      "[500]\ttraining's auc: 0.966792\ttraining's auc: 0.966792\tvalid_1's auc: 0.971883\tvalid_1's auc: 0.971882\n",
      "[600]\ttraining's auc: 0.968535\ttraining's auc: 0.968535\tvalid_1's auc: 0.971898\tvalid_1's auc: 0.971899\n",
      "[700]\ttraining's auc: 0.970094\ttraining's auc: 0.970094\tvalid_1's auc: 0.971851\tvalid_1's auc: 0.971851\n",
      "[800]\ttraining's auc: 0.971472\ttraining's auc: 0.971472\tvalid_1's auc: 0.971794\tvalid_1's auc: 0.971794\n",
      "Early stopping, best iteration is:\n",
      "[584]\ttraining's auc: 0.96825\ttraining's auc: 0.96825\tvalid_1's auc: 0.971919\tvalid_1's auc: 0.971919\n",
      "CV mean score: 0.9588, std: 0.0099.\n"
     ]
    },
    {
     "data": {
      "image/png": "[encoded data removed]",
      "text/plain": [
       "<Figure size 1152x864 with 1 Axes>"
      ]
     },
     "metadata": {
      "needs_background": "light"
     },
     "output_type": "display_data"
    }
   ],
   "source": [
    "result_dict_lgb = train_model_classification(X=X, X_test=test, y=y, params=params, folds=folds, model_type='lgb', eval_metric='auc', plot_feature_importance=True,\n",
    "                                                      verbose=100, early_stopping_rounds=300, n_estimators=5000, averaging='usual', groups=DT_M.loc[X.index])"
   ]
  },
  {
   "cell_type": "code",
   "execution_count": 20,
   "metadata": {
    "ExecuteTime": {
     "end_time": "2019-10-01T17:45:40.956019Z",
     "start_time": "2019-10-01T17:45:40.677960Z"
    }
   },
   "outputs": [],
   "source": [
    "import pickle\n",
    "pickle.dump(result_dict_lgb, open(f'{p.working_folder}/results_dict_cat_work_6folds_20.pkl','wb'))"
   ]
  },
  {
   "cell_type": "code",
   "execution_count": 22,
   "metadata": {
    "ExecuteTime": {
     "end_time": "2019-10-01T17:45:44.829061Z",
     "start_time": "2019-10-01T17:45:44.571059Z"
    }
   },
   "outputs": [],
   "source": [
    "# test = test.sort_values('Date')\n",
    "test['prediction'] = result_dict_lgb['prediction']"
   ]
  },
  {
   "cell_type": "code",
   "execution_count": 23,
   "metadata": {
    "ExecuteTime": {
     "end_time": "2019-10-01T17:45:48.728206Z",
     "start_time": "2019-10-01T17:45:46.525082Z"
    }
   },
   "outputs": [],
   "source": [
    "oof = pd.DataFrame(index=X.index)\n",
    "oof['isFraud'] = result_dict_lgb['oof']\n",
    "oof.to_csv(f'{p.working_folder}/oof_dynamic_cat_work_6folds_20.csv')"
   ]
  },
  {
   "cell_type": "code",
   "execution_count": 24,
   "metadata": {
    "ExecuteTime": {
     "end_time": "2019-10-01T17:45:53.152166Z",
     "start_time": "2019-10-01T17:45:50.511139Z"
    }
   },
   "outputs": [],
   "source": [
    "# folder_path = './data/'\n",
    "sub = pd.read_csv(f'{data_path}/sample_submission.csv')\n",
    "sub['isFraud'] = pd.merge(sub, test['prediction'], on='TransactionID')['prediction']\n",
    "sub.to_csv(f'{p.working_folder}/submission_dynamic_cat_work_6folds_20.csv', index=False)"
   ]
  }
 ],
 "metadata": {
  "kernelspec": {
   "display_name": "Python 3",
   "language": "python",
   "name": "python3"
  },
  "language_info": {
   "codemirror_mode": {
    "name": "ipython",
    "version": 3
   },
   "file_extension": ".py",
   "mimetype": "text/x-python",
   "name": "python",
   "nbconvert_exporter": "python",
   "pygments_lexer": "ipython3",
   "version": "3.7.4"
  },
  "toc": {
   "base_numbering": 1,
   "nav_menu": {},
   "number_sections": true,
   "sideBar": true,
   "skip_h1_title": false,
   "title_cell": "Table of Contents",
   "title_sidebar": "Contents",
   "toc_cell": false,
   "toc_position": {},
   "toc_section_display": true,
   "toc_window_display": false
  },
  "varInspector": {
   "cols": {
    "lenName": 16,
    "lenType": 16,
    "lenVar": 40
   },
   "kernels_config": {
    "python": {
     "delete_cmd_postfix": "",
     "delete_cmd_prefix": "del ",
     "library": "var_list.py",
     "varRefreshCmd": "print(var_dic_list())"
    },
    "r": {
     "delete_cmd_postfix": ") ",
     "delete_cmd_prefix": "rm(",
     "library": "var_list.r",
     "varRefreshCmd": "cat(var_dic_list()) "
    }
   },
   "types_to_exclude": [
    "module",
    "function",
    "builtin_function_or_method",
    "instance",
    "_Feature"
   ],
   "window_display": false
  }
 },
 "nbformat": 4,
 "nbformat_minor": 2
}
