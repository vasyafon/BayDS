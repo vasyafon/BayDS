{
 "cells": [
  {
   "cell_type": "code",
<<<<<<< HEAD
   "execution_count": 1,
=======
   "execution_count": 21,
>>>>>>> 2f11713cbb43c8146c4c4e0e6bc5f4057c9b0dfa
   "metadata": {
    "ExecuteTime": {
     "end_time": "2019-10-01T18:59:32.433269Z",
     "start_time": "2019-10-01T18:59:31.898082Z"
    }
   },
   "outputs": [],
   "source": [
    "import pandas as pd\n",
    "import pickle\n",
<<<<<<< HEAD
    "working_folder = r'd:\\Documents\\Private\\Kaggle\\Baydin\\Snapshots\\1\\Lgbm9522'\n",
    "data_path = r'd:\\Documents\\Private\\Kaggle\\Baydin\\Data'"
=======
    "import yaml\n",
    "working_folder = r'e:\\Kaggle\\05-LabelEncoded-last\\res'\n",
    "data_path = r'f:\\Projects\\Prvate\\Baydin\\Data'\n",
    "main_dir = r'../../..'\n",
    "import sys\n",
    "sys.path.append(main_dir)"
>>>>>>> 2f11713cbb43c8146c4c4e0e6bc5f4057c9b0dfa
   ]
  },
  {
   "cell_type": "code",
<<<<<<< HEAD
   "execution_count": 2,
=======
   "execution_count": 19,
>>>>>>> 2f11713cbb43c8146c4c4e0e6bc5f4057c9b0dfa
   "metadata": {
    "ExecuteTime": {
     "end_time": "2019-10-01T18:59:32.866462Z",
     "start_time": "2019-10-01T18:59:32.834446Z"
    }
   },
   "outputs": [],
   "source": [
<<<<<<< HEAD
    "results_dict = pickle.load((open(r'd:\\Documents\\Private\\Kaggle\\Baydin\\Snapshots\\1\\Dynamics_pca_timefreq_09504\\results_dict_lgbm_20_train2_best.pkl ','rb')))"
=======
    "results_dict_path = r'e:\\Kaggle\\05-LabelEncoded-last\\results_dict_catboost.pkl'\n",
    "results_dict = pickle.load((open(results_dict_path,'rb')))"
>>>>>>> 2f11713cbb43c8146c4c4e0e6bc5f4057c9b0dfa
   ]
  },
  {
   "cell_type": "code",
   "execution_count": 22,
   "metadata": {
    "ExecuteTime": {
     "end_time": "2019-10-01T19:00:17.129638Z",
     "start_time": "2019-10-01T18:59:33.905239Z"
    }
   },
   "outputs": [],
   "source": [
    "train_idx = pd.read_csv(data_path + '/train_transaction.csv').set_index('TransactionID').index\n",
    "test_idx = pd.read_csv(data_path + '/test_transaction.csv').set_index('TransactionID').index"
   ]
  },
  {
   "cell_type": "code",
   "execution_count": 4,
   "metadata": {
    "ExecuteTime": {
     "end_time": "2019-10-01T19:01:14.848703Z",
     "start_time": "2019-10-01T19:01:12.916657Z"
    }
   },
   "outputs": [],
   "source": [
    "pd.DataFrame(results_dict['oof'], columns=['isFraud'], index=train_idx).to_csv(f'{working_folder}/oof.csv')"
   ]
  },
  {
   "cell_type": "code",
<<<<<<< HEAD
   "execution_count": 5,
=======
   "execution_count": 23,
>>>>>>> 2f11713cbb43c8146c4c4e0e6bc5f4057c9b0dfa
   "metadata": {
    "ExecuteTime": {
     "end_time": "2019-10-01T19:01:16.799678Z",
     "start_time": "2019-10-01T19:01:14.877642Z"
    }
   },
   "outputs": [],
   "source": [
    "pd.DataFrame(results_dict['prediction'], columns=['isFraud'], index=test_idx).to_csv(f'{working_folder}/prediction.csv')\n",
<<<<<<< HEAD
    "\n",
    "sample_submission = pd.read_csv(data_path + '/sample_submission.csv').set_index('TransactionID')"
   ]
  },
  {
   "cell_type": "code",
   "execution_count": 6,
   "metadata": {
    "ExecuteTime": {
     "end_time": "2019-10-01T19:01:18.626700Z",
     "start_time": "2019-10-01T19:01:16.835653Z"
    }
   },
   "outputs": [],
   "source": [
=======
    "sample_submission = pd.read_csv(data_path + '/sample_submission.csv').set_index('TransactionID')\n",
>>>>>>> 2f11713cbb43c8146c4c4e0e6bc5f4057c9b0dfa
    "sub1 = pd.DataFrame(results_dict['prediction'], columns=['isFraud'], index=test_idx)\n",
    "sample_submission['isFraud'] = sub1#*0.5 + sub2*0.25 + sub3*0.25\n",
    "sample_submission.to_csv(f'{working_folder}/submission.csv')"
   ]
  },
  {
   "cell_type": "code",
<<<<<<< HEAD
   "execution_count": 7,
   "metadata": {
    "ExecuteTime": {
     "end_time": "2019-10-01T19:01:18.699668Z",
     "start_time": "2019-10-01T19:01:18.668695Z"
=======
   "execution_count": 24,
   "metadata": {
    "ExecuteTime": {
     "end_time": "2019-09-30T05:01:39.290331Z",
     "start_time": "2019-09-30T05:01:37.481338Z"
>>>>>>> 2f11713cbb43c8146c4c4e0e6bc5f4057c9b0dfa
    }
   },
   "outputs": [
    {
     "data": {
      "text/plain": [
       "dict_keys(['oof', 'prediction', 'scores'])"
      ]
     },
<<<<<<< HEAD
     "execution_count": 7,
=======
     "execution_count": 24,
>>>>>>> 2f11713cbb43c8146c4c4e0e6bc5f4057c9b0dfa
     "metadata": {},
     "output_type": "execute_result"
    }
   ],
   "source": [
    "results_dict.keys()"
   ]
  },
  {
   "cell_type": "code",
   "execution_count": 25,
   "metadata": {},
   "outputs": [],
   "source": [
    "if 'top_columns' in results_dict:\n",
    "    yaml.dump(list(results_dict['top_columns']),open(f\"{working_folder}/top_columns.yaml\",'w'))\n"
   ]
  },
  {
   "cell_type": "code",
   "execution_count": 26,
   "metadata": {},
   "outputs": [],
   "source": [
    "if 'feature_importance' in results_dict:\n",
    "    from BayDS.lib.training import plot_importance\n",
    "    plot_importance (results_dict,file=f'{working_folder}/importance.svg')"
   ]
  }
 ],
 "metadata": {
  "kernelspec": {
   "display_name": "Python 3",
   "language": "python",
   "name": "python3"
  },
  "language_info": {
   "codemirror_mode": {
    "name": "ipython",
    "version": 3
   },
   "file_extension": ".py",
   "mimetype": "text/x-python",
   "name": "python",
   "nbconvert_exporter": "python",
   "pygments_lexer": "ipython3",
   "version": "3.6.1"
  },
  "toc": {
   "base_numbering": 1,
   "nav_menu": {},
   "number_sections": true,
   "sideBar": true,
   "skip_h1_title": false,
   "title_cell": "Table of Contents",
   "title_sidebar": "Contents",
   "toc_cell": false,
   "toc_position": {},
   "toc_section_display": true,
   "toc_window_display": false
  },
  "varInspector": {
   "cols": {
    "lenName": 16,
    "lenType": 16,
    "lenVar": 40
   },
   "kernels_config": {
    "python": {
     "delete_cmd_postfix": "",
     "delete_cmd_prefix": "del ",
     "library": "var_list.py",
     "varRefreshCmd": "print(var_dic_list())"
    },
    "r": {
     "delete_cmd_postfix": ") ",
     "delete_cmd_prefix": "rm(",
     "library": "var_list.r",
     "varRefreshCmd": "cat(var_dic_list()) "
    }
   },
   "position": {
    "height": "760px",
    "left": "1530px",
    "right": "20px",
    "top": "120px",
    "width": "336px"
   },
   "types_to_exclude": [
    "module",
    "function",
    "builtin_function_or_method",
    "instance",
    "_Feature"
   ],
   "window_display": false
  }
 },
 "nbformat": 4,
 "nbformat_minor": 4
}
