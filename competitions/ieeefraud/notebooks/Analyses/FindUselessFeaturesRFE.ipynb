{
 "cells": [
  {
   "cell_type": "code",
   "execution_count": 1,
   "metadata": {
    "ExecuteTime": {
     "end_time": "2019-09-29T20:21:52.655171Z",
     "start_time": "2019-09-29T20:21:48.318483Z"
    }
   },
   "outputs": [],
   "source": [
    "%load_ext autoreload\n",
    "%autoreload 2\n",
    "main_dir = r'../../..'\n",
    "data_path = main_dir+'/data'\n",
    "import sys\n",
    "sys.path.append(main_dir)\n",
    "from typing import List, Set, Dict, Optional, Any, Tuple, Type, Union\n",
    "\n",
    "from BayDS.lib.pipeline import *\n",
    "from BayDS.lib.io import *\n",
    "import os\n"
   ]
  },
  {
   "cell_type": "code",
   "execution_count": 2,
   "metadata": {
    "ExecuteTime": {
     "end_time": "2019-09-29T20:22:01.824106Z",
     "start_time": "2019-09-29T20:21:52.658169Z"
    }
   },
   "outputs": [
    {
     "name": "stdout",
     "output_type": "stream",
     "text": [
      "---------------------------\n",
      "0: LoaderNode [2019-09-29 23:21:52]\n",
      "params:\n",
      " {'input_directory': '../../../Snapshots/1/05-LabelEncoded-last', 'file': 'label_encoded_data.pkl'}\n",
      "---------------------------\n",
      "1: LoaderNode [2019-09-29 23:22:01]\n",
      "params:\n",
      " {'input_directory': '../../../Snapshots/1/05-LabelEncoded-last', 'file': 'numerical_columns.yaml'}\n",
      "---------------------------\n",
      "2: LoaderNode [2019-09-29 23:22:01]\n",
      "params:\n",
      " {'input_directory': '../../../Snapshots/1/05-LabelEncoded-last', 'file': 'categorical_columns.yaml'}\n",
      "---------------------------\n",
      "3: LoaderNode [2019-09-29 23:22:01]\n",
      "params:\n",
      " {'input_directory': '../../../Snapshots/1/05-LabelEncoded-last', 'file': 'bad_for_training_features.yaml'}\n"
     ]
    }
   ],
   "source": [
    "data_dir =f'{main_dir}/Snapshots/1/05-LabelEncoded-last'\n",
    "p = Pipeline(working_folder=f'{main_dir}/Snapshots/1/FindUselessLast')\n",
    "\n",
    "p.add_node(LoaderNode, None, 'data',\n",
    "           params={\n",
    "               'input_directory': data_dir,\n",
    "               'file': 'label_encoded_data.pkl'\n",
    "           })\n",
    "p.add_node(LoaderNode, None, 'numerical_columns',\n",
    "           params={\n",
    "               'input_directory': data_dir,\n",
    "               'file': 'numerical_columns.yaml'\n",
    "           })\n",
    "p.add_node(LoaderNode, None, 'categorical_columns',\n",
    "           params={\n",
    "               'input_directory': data_dir,\n",
    "               'file': 'categorical_columns.yaml'\n",
    "           })\n",
    "p.add_node(LoaderNode, None, 'bad_for_training_features',\n",
    "           params={\n",
    "               'input_directory': data_dir,\n",
    "               'file': 'bad_for_training_features.yaml'\n",
    "           })\n",
    "p.save()\n",
    "p.run(verbose=True)\n",
    "\n",
    "bad_features = p.data['bad_for_training_features']\n",
    "\n",
    "if 'isFraud' in bad_features:\n",
    "    bad_features.remove('isFraud')\n",
    "\n",
    "p.save()\n",
    "p.run(verbose=True)"
   ]
  },
  {
   "cell_type": "code",
   "execution_count": 3,
   "metadata": {
    "ExecuteTime": {
     "end_time": "2019-09-29T20:22:14.050232Z",
     "start_time": "2019-09-29T20:22:01.827104Z"
    }
   },
   "outputs": [
    {
     "name": "stdout",
     "output_type": "stream",
     "text": [
      "---------------------------\n",
      "4: DropFeaturesNode [2019-09-29 23:22:01]\n",
      "params:\n",
      " {'drop': ['BrowserAge', 'D8_to_mean_groupby_uid', 'D8_to_mean_groupby_uid2', 'D8_to_mean_groupby_uid3', 'D8_to_mean_groupby_uid4', 'D8_to_mean_groupby_uid5', 'D1_to_mean_groupby_new_card_id', 'D1_to_stdscore_groupby_new_card_id', 'D2_to_mean_groupby_new_card_id', 'D2_to_stdscore_groupby_new_card_id', 'D8_to_mean_groupby_new_card_id', 'D8_to_mean_groupby_bank_type', 'Date', 'TransactionDT', 'DT_M', 'DT_W', 'DT_D', 'Transaction_freq_5_past', 'Transaction_freq_10_past', 'Transaction_freq_100_past']}\n"
     ]
    }
   ],
   "source": [
    "p.add_node(DropFeaturesNode, \n",
    "           ('data', 'numerical_columns','categorical_columns'),\n",
    "           params={\n",
    "               'drop': bad_features,\n",
    "           })\n",
    "\n",
    "p.save()\n",
    "p.run(verbose=True)"
   ]
  },
  {
   "cell_type": "code",
   "execution_count": 4,
   "metadata": {
    "ExecuteTime": {
     "end_time": "2019-09-29T20:22:20.857241Z",
     "start_time": "2019-09-29T20:22:14.052196Z"
    }
   },
   "outputs": [
    {
     "name": "stdout",
     "output_type": "stream",
     "text": [
      "---------------------------\n",
      "5: DownsamplingTrainNode [2019-09-29 23:22:14]\n",
      "params:\n",
      " {'strategy': 'reduction_factor', 'reduction_factor': 0.2}\n"
     ]
    }
   ],
   "source": [
    "p.add_node(DownsamplingTrainNode, 'data', 'data',\n",
    "          params={\n",
    "              'strategy':'reduction_factor',\n",
    "              'reduction_factor':0.2\n",
    "          })\n",
    "p.save()\n",
    "p.run(verbose=True)"
   ]
  },
  {
   "cell_type": "markdown",
   "metadata": {
    "ExecuteTime": {
     "end_time": "2019-09-22T12:47:29.055553Z",
     "start_time": "2019-09-22T12:47:28.933527Z"
    }
   },
   "source": [
    "## Code to make pipeline node"
   ]
  },
  {
   "cell_type": "code",
   "execution_count": 5,
   "metadata": {
    "ExecuteTime": {
     "end_time": "2019-09-29T20:22:20.993210Z",
     "start_time": "2019-09-29T20:22:20.860236Z"
    }
   },
   "outputs": [],
   "source": [
    "df = p.data['data']"
   ]
  },
  {
   "cell_type": "code",
   "execution_count": 6,
   "metadata": {
    "ExecuteTime": {
     "end_time": "2019-09-29T20:22:40.345329Z",
     "start_time": "2019-09-29T20:22:20.996210Z"
    }
   },
   "outputs": [],
   "source": [
    "from sklearn.feature_selection import RFECV\n",
    "train_ids = df[df.isFraud >= 0].index\n",
    "X = df.loc[train_ids].drop('isFraud',axis=1)\n",
    "y = df.loc[train_ids,'isFraud']\n",
    "X.replace(np.inf, np.nan, inplace=True)\n",
    "X.replace(-np.inf, np.nan, inplace=True)\n",
    "X.fillna(-999, inplace=True)"
   ]
  },
  {
   "cell_type": "code",
   "execution_count": 7,
   "metadata": {
    "ExecuteTime": {
     "end_time": "2019-09-29T20:22:43.129315Z",
     "start_time": "2019-09-29T20:22:40.348273Z"
    }
   },
   "outputs": [
    {
     "name": "stdout",
     "output_type": "stream",
     "text": [
      "Date datetime64[ns]\n"
     ]
    },
    {
     "name": "stderr",
     "output_type": "stream",
     "text": [
      "c:\\python37\\lib\\site-packages\\pandas\\util\\_decorators.py:208: FutureWarning: Passing datetime64-dtype data to TimedeltaIndex is deprecated, will raise a TypeError in a future version\n",
      "  return func(*args, **kwargs)\n"
     ]
    },
    {
     "name": "stdout",
     "output_type": "stream",
     "text": [
      "start_date datetime64[ns]\n"
     ]
    }
   ],
   "source": [
    "for col in X.columns:\n",
    "    if str(X[col].dtype) == 'datetime64[ns]':\n",
    "        print (col, X[col].dtype)\n",
    "        X[col] = pd.to_timedelta(X[col]).map(lambda qq:qq.days)\n",
    "#         X[col] = X[col].astype(datetime.datetime)"
   ]
  },
  {
   "cell_type": "code",
   "execution_count": 8,
   "metadata": {
    "ExecuteTime": {
     "end_time": "2019-09-29T20:22:43.261310Z",
     "start_time": "2019-09-29T20:22:43.131253Z"
    }
   },
   "outputs": [],
   "source": [
    "params = {'num_leaves': 100,\n",
    "          'min_child_weight': 0.03454472573214212,\n",
    "          'feature_fraction': 0.3797454081646243,\n",
    "          'bagging_fraction': 0.4181193142567742,\n",
    "          'min_data_in_leaf': 106,\n",
    "          'objective': 'binary',\n",
    "          'max_depth': 8,\n",
    "          'learning_rate': 0.006883242363721497,\n",
    "          \"boosting_type\": \"gbdt\",\n",
    "          \"bagging_seed\": 11,\n",
    "          \"metric\": 'auc',\n",
    "          \"verbosity\": -1,\n",
    "          'reg_alpha': 0.3899927210061127,\n",
    "          'reg_lambda': 0.6485237330340494,\n",
    "          'random_state': 0,\n",
    "          'n_jobs': -1,\n",
    "          'n_estimators':500\n",
    "         }"
   ]
  },
  {
   "cell_type": "code",
   "execution_count": 9,
   "metadata": {
    "ExecuteTime": {
     "end_time": "2019-09-29T20:22:43.555284Z",
     "start_time": "2019-09-29T20:22:43.263265Z"
    }
   },
   "outputs": [],
   "source": [
    "import lightgbm as lgb \n",
    "from sklearn.model_selection import KFold\n",
    "clf = lgb.LGBMClassifier(**params)\n",
    "rfe = RFECV(estimator=clf, step=10, cv=KFold(n_splits=2, shuffle=False), scoring='roc_auc', verbose=2)"
   ]
  },
  {
   "cell_type": "code",
   "execution_count": 10,
   "metadata": {
    "ExecuteTime": {
     "end_time": "2019-09-29T22:42:10.664977Z",
     "start_time": "2019-09-29T20:22:43.557251Z"
    }
   },
   "outputs": [
    {
     "name": "stdout",
     "output_type": "stream",
     "text": [
      "Fitting estimator with 947 features.\n",
      "Fitting estimator with 937 features.\n",
      "Fitting estimator with 927 features.\n",
      "Fitting estimator with 917 features.\n",
      "Fitting estimator with 907 features.\n",
      "Fitting estimator with 897 features.\n",
      "Fitting estimator with 887 features.\n",
      "Fitting estimator with 877 features.\n",
      "Fitting estimator with 867 features.\n",
      "Fitting estimator with 857 features.\n",
      "Fitting estimator with 847 features.\n",
      "Fitting estimator with 837 features.\n",
      "Fitting estimator with 827 features.\n",
      "Fitting estimator with 817 features.\n",
      "Fitting estimator with 807 features.\n",
      "Fitting estimator with 797 features.\n",
      "Fitting estimator with 787 features.\n",
      "Fitting estimator with 777 features.\n",
      "Fitting estimator with 767 features.\n",
      "Fitting estimator with 757 features.\n",
      "Fitting estimator with 747 features.\n",
      "Fitting estimator with 737 features.\n",
      "Fitting estimator with 727 features.\n",
      "Fitting estimator with 717 features.\n",
      "Fitting estimator with 707 features.\n",
      "Fitting estimator with 697 features.\n",
      "Fitting estimator with 687 features.\n",
      "Fitting estimator with 677 features.\n",
      "Fitting estimator with 667 features.\n",
      "Fitting estimator with 657 features.\n",
      "Fitting estimator with 647 features.\n",
      "Fitting estimator with 637 features.\n",
      "Fitting estimator with 627 features.\n",
      "Fitting estimator with 617 features.\n",
      "Fitting estimator with 607 features.\n",
      "Fitting estimator with 597 features.\n",
      "Fitting estimator with 587 features.\n",
      "Fitting estimator with 577 features.\n",
      "Fitting estimator with 567 features.\n",
      "Fitting estimator with 557 features.\n",
      "Fitting estimator with 547 features.\n",
      "Fitting estimator with 537 features.\n",
      "Fitting estimator with 527 features.\n",
      "Fitting estimator with 517 features.\n",
      "Fitting estimator with 507 features.\n",
      "Fitting estimator with 497 features.\n",
      "Fitting estimator with 487 features.\n",
      "Fitting estimator with 477 features.\n",
      "Fitting estimator with 467 features.\n",
      "Fitting estimator with 457 features.\n",
      "Fitting estimator with 447 features.\n",
      "Fitting estimator with 437 features.\n",
      "Fitting estimator with 427 features.\n",
      "Fitting estimator with 417 features.\n",
      "Fitting estimator with 407 features.\n",
      "Fitting estimator with 397 features.\n",
      "Fitting estimator with 387 features.\n",
      "Fitting estimator with 377 features.\n",
      "Fitting estimator with 367 features.\n",
      "Fitting estimator with 357 features.\n",
      "Fitting estimator with 347 features.\n",
      "Fitting estimator with 337 features.\n",
      "Fitting estimator with 327 features.\n",
      "Fitting estimator with 317 features.\n",
      "Fitting estimator with 307 features.\n",
      "Fitting estimator with 297 features.\n",
      "Fitting estimator with 287 features.\n",
      "Fitting estimator with 277 features.\n",
      "Fitting estimator with 267 features.\n",
      "Fitting estimator with 257 features.\n",
      "Fitting estimator with 247 features.\n",
      "Fitting estimator with 237 features.\n",
      "Fitting estimator with 227 features.\n",
      "Fitting estimator with 217 features.\n",
      "Fitting estimator with 207 features.\n",
      "Fitting estimator with 197 features.\n",
      "Fitting estimator with 187 features.\n",
      "Fitting estimator with 177 features.\n",
      "Fitting estimator with 167 features.\n",
      "Fitting estimator with 157 features.\n",
      "Fitting estimator with 147 features.\n",
      "Fitting estimator with 137 features.\n",
      "Fitting estimator with 127 features.\n",
      "Fitting estimator with 117 features.\n",
      "Fitting estimator with 107 features.\n",
      "Fitting estimator with 97 features.\n",
      "Fitting estimator with 87 features.\n",
      "Fitting estimator with 77 features.\n",
      "Fitting estimator with 67 features.\n",
      "Fitting estimator with 57 features.\n",
      "Fitting estimator with 47 features.\n",
      "Fitting estimator with 37 features.\n",
      "Fitting estimator with 27 features.\n",
      "Fitting estimator with 17 features.\n",
      "Fitting estimator with 7 features.\n",
      "Fitting estimator with 947 features.\n",
      "Fitting estimator with 937 features.\n",
      "Fitting estimator with 927 features.\n",
      "Fitting estimator with 917 features.\n",
      "Fitting estimator with 907 features.\n",
      "Fitting estimator with 897 features.\n",
      "Fitting estimator with 887 features.\n",
      "Fitting estimator with 877 features.\n",
      "Fitting estimator with 867 features.\n",
      "Fitting estimator with 857 features.\n",
      "Fitting estimator with 847 features.\n",
      "Fitting estimator with 837 features.\n",
      "Fitting estimator with 827 features.\n",
      "Fitting estimator with 817 features.\n",
      "Fitting estimator with 807 features.\n",
      "Fitting estimator with 797 features.\n",
      "Fitting estimator with 787 features.\n",
      "Fitting estimator with 777 features.\n",
      "Fitting estimator with 767 features.\n",
      "Fitting estimator with 757 features.\n",
      "Fitting estimator with 747 features.\n",
      "Fitting estimator with 737 features.\n",
      "Fitting estimator with 727 features.\n",
      "Fitting estimator with 717 features.\n",
      "Fitting estimator with 707 features.\n",
      "Fitting estimator with 697 features.\n",
      "Fitting estimator with 687 features.\n",
      "Fitting estimator with 677 features.\n",
      "Fitting estimator with 667 features.\n",
      "Fitting estimator with 657 features.\n",
      "Fitting estimator with 647 features.\n",
      "Fitting estimator with 637 features.\n",
      "Fitting estimator with 627 features.\n",
      "Fitting estimator with 617 features.\n",
      "Fitting estimator with 607 features.\n",
      "Fitting estimator with 597 features.\n",
      "Fitting estimator with 587 features.\n",
      "Fitting estimator with 577 features.\n",
      "Fitting estimator with 567 features.\n",
      "Fitting estimator with 557 features.\n",
      "Fitting estimator with 547 features.\n",
      "Fitting estimator with 537 features.\n",
      "Fitting estimator with 527 features.\n",
      "Fitting estimator with 517 features.\n",
      "Fitting estimator with 507 features.\n",
      "Fitting estimator with 497 features.\n",
      "Fitting estimator with 487 features.\n",
      "Fitting estimator with 477 features.\n",
      "Fitting estimator with 467 features.\n",
      "Fitting estimator with 457 features.\n",
      "Fitting estimator with 447 features.\n",
      "Fitting estimator with 437 features.\n",
      "Fitting estimator with 427 features.\n",
      "Fitting estimator with 417 features.\n",
      "Fitting estimator with 407 features.\n",
      "Fitting estimator with 397 features.\n",
      "Fitting estimator with 387 features.\n",
      "Fitting estimator with 377 features.\n",
      "Fitting estimator with 367 features.\n",
      "Fitting estimator with 357 features.\n",
      "Fitting estimator with 347 features.\n",
      "Fitting estimator with 337 features.\n",
      "Fitting estimator with 327 features.\n",
      "Fitting estimator with 317 features.\n",
      "Fitting estimator with 307 features.\n",
      "Fitting estimator with 297 features.\n",
      "Fitting estimator with 287 features.\n",
      "Fitting estimator with 277 features.\n",
      "Fitting estimator with 267 features.\n",
      "Fitting estimator with 257 features.\n",
      "Fitting estimator with 247 features.\n",
      "Fitting estimator with 237 features.\n",
      "Fitting estimator with 227 features.\n",
      "Fitting estimator with 217 features.\n",
      "Fitting estimator with 207 features.\n",
      "Fitting estimator with 197 features.\n",
      "Fitting estimator with 187 features.\n",
      "Fitting estimator with 177 features.\n",
      "Fitting estimator with 167 features.\n",
      "Fitting estimator with 157 features.\n",
      "Fitting estimator with 147 features.\n",
      "Fitting estimator with 137 features.\n",
      "Fitting estimator with 127 features.\n",
      "Fitting estimator with 117 features.\n",
      "Fitting estimator with 107 features.\n",
      "Fitting estimator with 97 features.\n",
      "Fitting estimator with 87 features.\n",
      "Fitting estimator with 77 features.\n",
      "Fitting estimator with 67 features.\n",
      "Fitting estimator with 57 features.\n",
      "Fitting estimator with 47 features.\n",
      "Fitting estimator with 37 features.\n",
      "Fitting estimator with 27 features.\n",
      "Fitting estimator with 17 features.\n",
      "Fitting estimator with 7 features.\n",
      "Fitting estimator with 947 features.\n",
      "Fitting estimator with 937 features.\n",
      "Fitting estimator with 927 features.\n",
      "Fitting estimator with 917 features.\n",
      "Fitting estimator with 907 features.\n",
      "Fitting estimator with 897 features.\n",
      "Fitting estimator with 887 features.\n",
      "Fitting estimator with 877 features.\n",
      "Fitting estimator with 867 features.\n",
      "Fitting estimator with 857 features.\n",
      "Fitting estimator with 847 features.\n",
      "Fitting estimator with 837 features.\n",
      "Fitting estimator with 827 features.\n",
      "Fitting estimator with 817 features.\n",
      "Fitting estimator with 807 features.\n",
      "Fitting estimator with 797 features.\n",
      "Fitting estimator with 787 features.\n",
      "Fitting estimator with 777 features.\n",
      "Fitting estimator with 767 features.\n",
      "Fitting estimator with 757 features.\n",
      "Fitting estimator with 747 features.\n",
      "Fitting estimator with 737 features.\n",
      "Fitting estimator with 727 features.\n",
      "Fitting estimator with 717 features.\n",
      "Fitting estimator with 707 features.\n",
      "Fitting estimator with 697 features.\n",
      "Fitting estimator with 687 features.\n",
      "Fitting estimator with 677 features.\n",
      "Fitting estimator with 667 features.\n",
      "Fitting estimator with 657 features.\n",
      "Fitting estimator with 647 features.\n"
     ]
    },
    {
     "ename": "OSError",
     "evalue": "exception: access violation reading 0x0000000000000278",
     "output_type": "error",
     "traceback": [
      "\u001b[1;31m---------------------------------------------------------------------------\u001b[0m",
      "\u001b[1;31mLightGBMError\u001b[0m                             Traceback (most recent call last)",
      "\u001b[1;32mc:\\python37\\lib\\site-packages\\lightgbm\\engine.py\u001b[0m in \u001b[0;36mtrain\u001b[1;34m(params, train_set, num_boost_round, valid_sets, valid_names, fobj, feval, init_model, feature_name, categorical_feature, early_stopping_rounds, evals_result, verbose_eval, learning_rates, keep_training_booster, callbacks)\u001b[0m\n\u001b[0;32m    196\u001b[0m     \u001b[1;32mtry\u001b[0m\u001b[1;33m:\u001b[0m\u001b[1;33m\u001b[0m\u001b[1;33m\u001b[0m\u001b[0m\n\u001b[1;32m--> 197\u001b[1;33m         \u001b[0mbooster\u001b[0m \u001b[1;33m=\u001b[0m \u001b[0mBooster\u001b[0m\u001b[1;33m(\u001b[0m\u001b[0mparams\u001b[0m\u001b[1;33m=\u001b[0m\u001b[0mparams\u001b[0m\u001b[1;33m,\u001b[0m \u001b[0mtrain_set\u001b[0m\u001b[1;33m=\u001b[0m\u001b[0mtrain_set\u001b[0m\u001b[1;33m)\u001b[0m\u001b[1;33m\u001b[0m\u001b[1;33m\u001b[0m\u001b[0m\n\u001b[0m\u001b[0;32m    198\u001b[0m         \u001b[1;32mif\u001b[0m \u001b[0mis_valid_contain_train\u001b[0m\u001b[1;33m:\u001b[0m\u001b[1;33m\u001b[0m\u001b[1;33m\u001b[0m\u001b[0m\n",
      "\u001b[1;32mc:\\python37\\lib\\site-packages\\lightgbm\\basic.py\u001b[0m in \u001b[0;36m__init__\u001b[1;34m(self, params, train_set, model_file, silent)\u001b[0m\n\u001b[0;32m   1551\u001b[0m             _safe_call(_LIB.LGBM_BoosterCreate(\n\u001b[1;32m-> 1552\u001b[1;33m                 \u001b[0mtrain_set\u001b[0m\u001b[1;33m.\u001b[0m\u001b[0mconstruct\u001b[0m\u001b[1;33m(\u001b[0m\u001b[1;33m)\u001b[0m\u001b[1;33m.\u001b[0m\u001b[0mhandle\u001b[0m\u001b[1;33m,\u001b[0m\u001b[1;33m\u001b[0m\u001b[1;33m\u001b[0m\u001b[0m\n\u001b[0m\u001b[0;32m   1553\u001b[0m                 \u001b[0mc_str\u001b[0m\u001b[1;33m(\u001b[0m\u001b[0mparams_str\u001b[0m\u001b[1;33m)\u001b[0m\u001b[1;33m,\u001b[0m\u001b[1;33m\u001b[0m\u001b[1;33m\u001b[0m\u001b[0m\n",
      "\u001b[1;32mc:\\python37\\lib\\site-packages\\lightgbm\\basic.py\u001b[0m in \u001b[0;36mconstruct\u001b[1;34m(self)\u001b[0m\n\u001b[0;32m   1000\u001b[0m                                 \u001b[0msilent\u001b[0m\u001b[1;33m=\u001b[0m\u001b[0mself\u001b[0m\u001b[1;33m.\u001b[0m\u001b[0msilent\u001b[0m\u001b[1;33m,\u001b[0m \u001b[0mfeature_name\u001b[0m\u001b[1;33m=\u001b[0m\u001b[0mself\u001b[0m\u001b[1;33m.\u001b[0m\u001b[0mfeature_name\u001b[0m\u001b[1;33m,\u001b[0m\u001b[1;33m\u001b[0m\u001b[1;33m\u001b[0m\u001b[0m\n\u001b[1;32m-> 1001\u001b[1;33m                                 categorical_feature=self.categorical_feature, params=self.params)\n\u001b[0m\u001b[0;32m   1002\u001b[0m             \u001b[1;32mif\u001b[0m \u001b[0mself\u001b[0m\u001b[1;33m.\u001b[0m\u001b[0mfree_raw_data\u001b[0m\u001b[1;33m:\u001b[0m\u001b[1;33m\u001b[0m\u001b[1;33m\u001b[0m\u001b[0m\n",
      "\u001b[1;32mc:\\python37\\lib\\site-packages\\lightgbm\\basic.py\u001b[0m in \u001b[0;36m_lazy_init\u001b[1;34m(self, data, label, reference, weight, group, init_score, predictor, silent, feature_name, categorical_feature, params)\u001b[0m\n\u001b[0;32m    790\u001b[0m         \u001b[1;32melif\u001b[0m \u001b[0misinstance\u001b[0m\u001b[1;33m(\u001b[0m\u001b[0mdata\u001b[0m\u001b[1;33m,\u001b[0m \u001b[0mnp\u001b[0m\u001b[1;33m.\u001b[0m\u001b[0mndarray\u001b[0m\u001b[1;33m)\u001b[0m\u001b[1;33m:\u001b[0m\u001b[1;33m\u001b[0m\u001b[1;33m\u001b[0m\u001b[0m\n\u001b[1;32m--> 791\u001b[1;33m             \u001b[0mself\u001b[0m\u001b[1;33m.\u001b[0m\u001b[0m__init_from_np2d\u001b[0m\u001b[1;33m(\u001b[0m\u001b[0mdata\u001b[0m\u001b[1;33m,\u001b[0m \u001b[0mparams_str\u001b[0m\u001b[1;33m,\u001b[0m \u001b[0mref_dataset\u001b[0m\u001b[1;33m)\u001b[0m\u001b[1;33m\u001b[0m\u001b[1;33m\u001b[0m\u001b[0m\n\u001b[0m\u001b[0;32m    792\u001b[0m         \u001b[1;32melif\u001b[0m \u001b[0misinstance\u001b[0m\u001b[1;33m(\u001b[0m\u001b[0mdata\u001b[0m\u001b[1;33m,\u001b[0m \u001b[0mlist\u001b[0m\u001b[1;33m)\u001b[0m \u001b[1;32mand\u001b[0m \u001b[0mlen\u001b[0m\u001b[1;33m(\u001b[0m\u001b[0mdata\u001b[0m\u001b[1;33m)\u001b[0m \u001b[1;33m>\u001b[0m \u001b[1;36m0\u001b[0m \u001b[1;32mand\u001b[0m \u001b[0mall\u001b[0m\u001b[1;33m(\u001b[0m\u001b[0misinstance\u001b[0m\u001b[1;33m(\u001b[0m\u001b[0mx\u001b[0m\u001b[1;33m,\u001b[0m \u001b[0mnp\u001b[0m\u001b[1;33m.\u001b[0m\u001b[0mndarray\u001b[0m\u001b[1;33m)\u001b[0m \u001b[1;32mfor\u001b[0m \u001b[0mx\u001b[0m \u001b[1;32min\u001b[0m \u001b[0mdata\u001b[0m\u001b[1;33m)\u001b[0m\u001b[1;33m:\u001b[0m\u001b[1;33m\u001b[0m\u001b[1;33m\u001b[0m\u001b[0m\n",
      "\u001b[1;32mc:\\python37\\lib\\site-packages\\lightgbm\\basic.py\u001b[0m in \u001b[0;36m__init_from_np2d\u001b[1;34m(self, mat, params_str, ref_dataset)\u001b[0m\n\u001b[0;32m    854\u001b[0m             \u001b[0mref_dataset\u001b[0m\u001b[1;33m,\u001b[0m\u001b[1;33m\u001b[0m\u001b[1;33m\u001b[0m\u001b[0m\n\u001b[1;32m--> 855\u001b[1;33m             ctypes.byref(self.handle)))\n\u001b[0m\u001b[0;32m    856\u001b[0m         \u001b[1;32mreturn\u001b[0m \u001b[0mself\u001b[0m\u001b[1;33m\u001b[0m\u001b[1;33m\u001b[0m\u001b[0m\n",
      "\u001b[1;32mc:\\python37\\lib\\site-packages\\lightgbm\\basic.py\u001b[0m in \u001b[0;36m_safe_call\u001b[1;34m(ret)\u001b[0m\n\u001b[0;32m     45\u001b[0m     \u001b[1;32mif\u001b[0m \u001b[0mret\u001b[0m \u001b[1;33m!=\u001b[0m \u001b[1;36m0\u001b[0m\u001b[1;33m:\u001b[0m\u001b[1;33m\u001b[0m\u001b[1;33m\u001b[0m\u001b[0m\n\u001b[1;32m---> 46\u001b[1;33m         \u001b[1;32mraise\u001b[0m \u001b[0mLightGBMError\u001b[0m\u001b[1;33m(\u001b[0m\u001b[0mdecode_string\u001b[0m\u001b[1;33m(\u001b[0m\u001b[0m_LIB\u001b[0m\u001b[1;33m.\u001b[0m\u001b[0mLGBM_GetLastError\u001b[0m\u001b[1;33m(\u001b[0m\u001b[1;33m)\u001b[0m\u001b[1;33m)\u001b[0m\u001b[1;33m)\u001b[0m\u001b[1;33m\u001b[0m\u001b[1;33m\u001b[0m\u001b[0m\n\u001b[0m\u001b[0;32m     47\u001b[0m \u001b[1;33m\u001b[0m\u001b[0m\n",
      "\u001b[1;31mLightGBMError\u001b[0m: bad allocation",
      "\nDuring handling of the above exception, another exception occurred:\n",
      "\u001b[1;31mOSError\u001b[0m                                   Traceback (most recent call last)",
      "\u001b[1;32m<ipython-input-10-7b519e5c0e77>\u001b[0m in \u001b[0;36m<module>\u001b[1;34m\u001b[0m\n\u001b[1;32m----> 1\u001b[1;33m \u001b[0mrfe\u001b[0m\u001b[1;33m.\u001b[0m\u001b[0mfit\u001b[0m\u001b[1;33m(\u001b[0m\u001b[0mX\u001b[0m\u001b[1;33m,\u001b[0m \u001b[0my\u001b[0m\u001b[1;33m)\u001b[0m\u001b[1;33m\u001b[0m\u001b[1;33m\u001b[0m\u001b[0m\n\u001b[0m",
      "\u001b[1;32mc:\\python37\\lib\\site-packages\\sklearn\\feature_selection\\rfe.py\u001b[0m in \u001b[0;36mfit\u001b[1;34m(self, X, y, groups)\u001b[0m\n\u001b[0;32m    534\u001b[0m                   verbose=self.verbose)\n\u001b[0;32m    535\u001b[0m \u001b[1;33m\u001b[0m\u001b[0m\n\u001b[1;32m--> 536\u001b[1;33m         \u001b[0mrfe\u001b[0m\u001b[1;33m.\u001b[0m\u001b[0mfit\u001b[0m\u001b[1;33m(\u001b[0m\u001b[0mX\u001b[0m\u001b[1;33m,\u001b[0m \u001b[0my\u001b[0m\u001b[1;33m)\u001b[0m\u001b[1;33m\u001b[0m\u001b[1;33m\u001b[0m\u001b[0m\n\u001b[0m\u001b[0;32m    537\u001b[0m \u001b[1;33m\u001b[0m\u001b[0m\n\u001b[0;32m    538\u001b[0m         \u001b[1;31m# Set final attributes\u001b[0m\u001b[1;33m\u001b[0m\u001b[1;33m\u001b[0m\u001b[1;33m\u001b[0m\u001b[0m\n",
      "\u001b[1;32mc:\\python37\\lib\\site-packages\\sklearn\\feature_selection\\rfe.py\u001b[0m in \u001b[0;36mfit\u001b[1;34m(self, X, y)\u001b[0m\n\u001b[0;32m    142\u001b[0m             \u001b[0mThe\u001b[0m \u001b[0mtarget\u001b[0m \u001b[0mvalues\u001b[0m\u001b[1;33m.\u001b[0m\u001b[1;33m\u001b[0m\u001b[1;33m\u001b[0m\u001b[0m\n\u001b[0;32m    143\u001b[0m         \"\"\"\n\u001b[1;32m--> 144\u001b[1;33m         \u001b[1;32mreturn\u001b[0m \u001b[0mself\u001b[0m\u001b[1;33m.\u001b[0m\u001b[0m_fit\u001b[0m\u001b[1;33m(\u001b[0m\u001b[0mX\u001b[0m\u001b[1;33m,\u001b[0m \u001b[0my\u001b[0m\u001b[1;33m)\u001b[0m\u001b[1;33m\u001b[0m\u001b[1;33m\u001b[0m\u001b[0m\n\u001b[0m\u001b[0;32m    145\u001b[0m \u001b[1;33m\u001b[0m\u001b[0m\n\u001b[0;32m    146\u001b[0m     \u001b[1;32mdef\u001b[0m \u001b[0m_fit\u001b[0m\u001b[1;33m(\u001b[0m\u001b[0mself\u001b[0m\u001b[1;33m,\u001b[0m \u001b[0mX\u001b[0m\u001b[1;33m,\u001b[0m \u001b[0my\u001b[0m\u001b[1;33m,\u001b[0m \u001b[0mstep_score\u001b[0m\u001b[1;33m=\u001b[0m\u001b[1;32mNone\u001b[0m\u001b[1;33m)\u001b[0m\u001b[1;33m:\u001b[0m\u001b[1;33m\u001b[0m\u001b[1;33m\u001b[0m\u001b[0m\n",
      "\u001b[1;32mc:\\python37\\lib\\site-packages\\sklearn\\feature_selection\\rfe.py\u001b[0m in \u001b[0;36m_fit\u001b[1;34m(self, X, y, step_score)\u001b[0m\n\u001b[0;32m    181\u001b[0m                 \u001b[0mprint\u001b[0m\u001b[1;33m(\u001b[0m\u001b[1;34m\"Fitting estimator with %d features.\"\u001b[0m \u001b[1;33m%\u001b[0m \u001b[0mnp\u001b[0m\u001b[1;33m.\u001b[0m\u001b[0msum\u001b[0m\u001b[1;33m(\u001b[0m\u001b[0msupport_\u001b[0m\u001b[1;33m)\u001b[0m\u001b[1;33m)\u001b[0m\u001b[1;33m\u001b[0m\u001b[1;33m\u001b[0m\u001b[0m\n\u001b[0;32m    182\u001b[0m \u001b[1;33m\u001b[0m\u001b[0m\n\u001b[1;32m--> 183\u001b[1;33m             \u001b[0mestimator\u001b[0m\u001b[1;33m.\u001b[0m\u001b[0mfit\u001b[0m\u001b[1;33m(\u001b[0m\u001b[0mX\u001b[0m\u001b[1;33m[\u001b[0m\u001b[1;33m:\u001b[0m\u001b[1;33m,\u001b[0m \u001b[0mfeatures\u001b[0m\u001b[1;33m]\u001b[0m\u001b[1;33m,\u001b[0m \u001b[0my\u001b[0m\u001b[1;33m)\u001b[0m\u001b[1;33m\u001b[0m\u001b[1;33m\u001b[0m\u001b[0m\n\u001b[0m\u001b[0;32m    184\u001b[0m \u001b[1;33m\u001b[0m\u001b[0m\n\u001b[0;32m    185\u001b[0m             \u001b[1;31m# Get coefs\u001b[0m\u001b[1;33m\u001b[0m\u001b[1;33m\u001b[0m\u001b[1;33m\u001b[0m\u001b[0m\n",
      "\u001b[1;32mc:\\python37\\lib\\site-packages\\lightgbm\\sklearn.py\u001b[0m in \u001b[0;36mfit\u001b[1;34m(self, X, y, sample_weight, init_score, eval_set, eval_names, eval_sample_weight, eval_class_weight, eval_init_score, eval_metric, early_stopping_rounds, verbose, feature_name, categorical_feature, callbacks)\u001b[0m\n\u001b[0;32m    742\u001b[0m                                         \u001b[0mverbose\u001b[0m\u001b[1;33m=\u001b[0m\u001b[0mverbose\u001b[0m\u001b[1;33m,\u001b[0m \u001b[0mfeature_name\u001b[0m\u001b[1;33m=\u001b[0m\u001b[0mfeature_name\u001b[0m\u001b[1;33m,\u001b[0m\u001b[1;33m\u001b[0m\u001b[1;33m\u001b[0m\u001b[0m\n\u001b[0;32m    743\u001b[0m                                         \u001b[0mcategorical_feature\u001b[0m\u001b[1;33m=\u001b[0m\u001b[0mcategorical_feature\u001b[0m\u001b[1;33m,\u001b[0m\u001b[1;33m\u001b[0m\u001b[1;33m\u001b[0m\u001b[0m\n\u001b[1;32m--> 744\u001b[1;33m                                         callbacks=callbacks)\n\u001b[0m\u001b[0;32m    745\u001b[0m         \u001b[1;32mreturn\u001b[0m \u001b[0mself\u001b[0m\u001b[1;33m\u001b[0m\u001b[1;33m\u001b[0m\u001b[0m\n\u001b[0;32m    746\u001b[0m \u001b[1;33m\u001b[0m\u001b[0m\n",
      "\u001b[1;32mc:\\python37\\lib\\site-packages\\lightgbm\\sklearn.py\u001b[0m in \u001b[0;36mfit\u001b[1;34m(self, X, y, sample_weight, init_score, group, eval_set, eval_names, eval_sample_weight, eval_class_weight, eval_init_score, eval_group, eval_metric, early_stopping_rounds, verbose, feature_name, categorical_feature, callbacks)\u001b[0m\n\u001b[0;32m    542\u001b[0m                               \u001b[0mverbose_eval\u001b[0m\u001b[1;33m=\u001b[0m\u001b[0mverbose\u001b[0m\u001b[1;33m,\u001b[0m \u001b[0mfeature_name\u001b[0m\u001b[1;33m=\u001b[0m\u001b[0mfeature_name\u001b[0m\u001b[1;33m,\u001b[0m\u001b[1;33m\u001b[0m\u001b[1;33m\u001b[0m\u001b[0m\n\u001b[0;32m    543\u001b[0m                               \u001b[0mcategorical_feature\u001b[0m\u001b[1;33m=\u001b[0m\u001b[0mcategorical_feature\u001b[0m\u001b[1;33m,\u001b[0m\u001b[1;33m\u001b[0m\u001b[1;33m\u001b[0m\u001b[0m\n\u001b[1;32m--> 544\u001b[1;33m                               callbacks=callbacks)\n\u001b[0m\u001b[0;32m    545\u001b[0m \u001b[1;33m\u001b[0m\u001b[0m\n\u001b[0;32m    546\u001b[0m         \u001b[1;32mif\u001b[0m \u001b[0mevals_result\u001b[0m\u001b[1;33m:\u001b[0m\u001b[1;33m\u001b[0m\u001b[1;33m\u001b[0m\u001b[0m\n",
      "\u001b[1;32mc:\\python37\\lib\\site-packages\\lightgbm\\engine.py\u001b[0m in \u001b[0;36mtrain\u001b[1;34m(params, train_set, num_boost_round, valid_sets, valid_names, fobj, feval, init_model, feature_name, categorical_feature, early_stopping_rounds, evals_result, verbose_eval, learning_rates, keep_training_booster, callbacks)\u001b[0m\n\u001b[0;32m    201\u001b[0m             \u001b[0mbooster\u001b[0m\u001b[1;33m.\u001b[0m\u001b[0madd_valid\u001b[0m\u001b[1;33m(\u001b[0m\u001b[0mvalid_set\u001b[0m\u001b[1;33m,\u001b[0m \u001b[0mname_valid_set\u001b[0m\u001b[1;33m)\u001b[0m\u001b[1;33m\u001b[0m\u001b[1;33m\u001b[0m\u001b[0m\n\u001b[0;32m    202\u001b[0m     \u001b[1;32mfinally\u001b[0m\u001b[1;33m:\u001b[0m\u001b[1;33m\u001b[0m\u001b[1;33m\u001b[0m\u001b[0m\n\u001b[1;32m--> 203\u001b[1;33m         \u001b[0mtrain_set\u001b[0m\u001b[1;33m.\u001b[0m\u001b[0m_reverse_update_params\u001b[0m\u001b[1;33m(\u001b[0m\u001b[1;33m)\u001b[0m\u001b[1;33m\u001b[0m\u001b[1;33m\u001b[0m\u001b[0m\n\u001b[0m\u001b[0;32m    204\u001b[0m         \u001b[1;32mfor\u001b[0m \u001b[0mvalid_set\u001b[0m \u001b[1;32min\u001b[0m \u001b[0mreduced_valid_sets\u001b[0m\u001b[1;33m:\u001b[0m\u001b[1;33m\u001b[0m\u001b[1;33m\u001b[0m\u001b[0m\n\u001b[0;32m    205\u001b[0m             \u001b[0mvalid_set\u001b[0m\u001b[1;33m.\u001b[0m\u001b[0m_reverse_update_params\u001b[0m\u001b[1;33m(\u001b[0m\u001b[1;33m)\u001b[0m\u001b[1;33m\u001b[0m\u001b[1;33m\u001b[0m\u001b[0m\n",
      "\u001b[1;32mc:\\python37\\lib\\site-packages\\lightgbm\\basic.py\u001b[0m in \u001b[0;36m_reverse_update_params\u001b[1;34m(self)\u001b[0m\n\u001b[0;32m   1095\u001b[0m         \u001b[0mself\u001b[0m\u001b[1;33m.\u001b[0m\u001b[0mparams_back_up\u001b[0m \u001b[1;33m=\u001b[0m \u001b[1;32mNone\u001b[0m\u001b[1;33m\u001b[0m\u001b[1;33m\u001b[0m\u001b[0m\n\u001b[0;32m   1096\u001b[0m         \u001b[1;32mif\u001b[0m \u001b[0mself\u001b[0m\u001b[1;33m.\u001b[0m\u001b[0mhandle\u001b[0m \u001b[1;32mis\u001b[0m \u001b[1;32mnot\u001b[0m \u001b[1;32mNone\u001b[0m \u001b[1;32mand\u001b[0m \u001b[0mself\u001b[0m\u001b[1;33m.\u001b[0m\u001b[0mparams\u001b[0m \u001b[1;32mis\u001b[0m \u001b[1;32mnot\u001b[0m \u001b[1;32mNone\u001b[0m\u001b[1;33m:\u001b[0m\u001b[1;33m\u001b[0m\u001b[1;33m\u001b[0m\u001b[0m\n\u001b[1;32m-> 1097\u001b[1;33m             \u001b[0m_safe_call\u001b[0m\u001b[1;33m(\u001b[0m\u001b[0m_LIB\u001b[0m\u001b[1;33m.\u001b[0m\u001b[0mLGBM_DatasetUpdateParam\u001b[0m\u001b[1;33m(\u001b[0m\u001b[0mself\u001b[0m\u001b[1;33m.\u001b[0m\u001b[0mhandle\u001b[0m\u001b[1;33m,\u001b[0m \u001b[0mc_str\u001b[0m\u001b[1;33m(\u001b[0m\u001b[0mparam_dict_to_str\u001b[0m\u001b[1;33m(\u001b[0m\u001b[0mself\u001b[0m\u001b[1;33m.\u001b[0m\u001b[0mparams\u001b[0m\u001b[1;33m)\u001b[0m\u001b[1;33m)\u001b[0m\u001b[1;33m)\u001b[0m\u001b[1;33m)\u001b[0m\u001b[1;33m\u001b[0m\u001b[1;33m\u001b[0m\u001b[0m\n\u001b[0m\u001b[0;32m   1098\u001b[0m         \u001b[1;32mreturn\u001b[0m \u001b[0mself\u001b[0m\u001b[1;33m\u001b[0m\u001b[1;33m\u001b[0m\u001b[0m\n\u001b[0;32m   1099\u001b[0m \u001b[1;33m\u001b[0m\u001b[0m\n",
      "\u001b[1;31mOSError\u001b[0m: exception: access violation reading 0x0000000000000278"
     ]
    }
   ],
   "source": [
    "rfe.fit(X, y)"
   ]
  },
  {
   "cell_type": "code",
   "execution_count": null,
   "metadata": {
    "ExecuteTime": {
     "end_time": "2019-09-29T22:42:10.680979Z",
     "start_time": "2019-09-29T20:21:48.341Z"
    }
   },
   "outputs": [],
   "source": [
    "import matplotlib.pyplot as plt\n",
    "%matplotlib notebook\n",
    "plt.figure(figsize=(9,4))\n",
    "plt.xlabel(\"Number of features selected\")\n",
    "plt.ylabel(\"Cross validation score\")\n",
    "plt.plot(range(1, len(rfe.grid_scores_) + 1), rfe.grid_scores_)\n"
   ]
  },
  {
   "cell_type": "code",
   "execution_count": null,
   "metadata": {
    "ExecuteTime": {
     "end_time": "2019-09-29T22:42:10.682981Z",
     "start_time": "2019-09-29T20:21:48.343Z"
    }
   },
   "outputs": [],
   "source": [
    "rfe.ranking_ == 1\n",
    "for i,col in enumerate(X.columns):\n",
    "    if rfe.ranking_[i] == 1:\n",
    "        print(col,rfe.ranking_[i])"
   ]
  },
  {
   "cell_type": "code",
   "execution_count": null,
   "metadata": {
    "ExecuteTime": {
     "end_time": "2019-09-29T22:42:10.684980Z",
     "start_time": "2019-09-29T20:21:48.345Z"
    }
   },
   "outputs": [],
   "source": [
    "ranking = {}\n",
    "for i,col in enumerate(X.columns):\n",
    "        ranking[col] = int(rfe.ranking_[i])"
   ]
  },
  {
   "cell_type": "code",
   "execution_count": null,
   "metadata": {
    "ExecuteTime": {
     "end_time": "2019-09-29T22:42:10.685980Z",
     "start_time": "2019-09-29T20:21:48.346Z"
    }
   },
   "outputs": [],
   "source": [
    "ranking"
   ]
  },
  {
   "cell_type": "code",
   "execution_count": null,
   "metadata": {
    "ExecuteTime": {
     "end_time": "2019-09-29T22:42:10.687979Z",
     "start_time": "2019-09-29T20:21:48.348Z"
    }
   },
   "outputs": [],
   "source": [
    "import yaml\n",
    "\n",
    "yaml.dump(ranking, open(p.working_folder+'/rfe.yaml','w'))"
   ]
  }
 ],
 "metadata": {
  "kernelspec": {
   "display_name": "Python 3",
   "language": "python",
   "name": "python3"
  },
  "language_info": {
   "codemirror_mode": {
    "name": "ipython",
    "version": 3
   },
   "file_extension": ".py",
   "mimetype": "text/x-python",
   "name": "python",
   "nbconvert_exporter": "python",
   "pygments_lexer": "ipython3",
   "version": "3.7.4"
  },
  "toc": {
   "base_numbering": 1,
   "nav_menu": {},
   "number_sections": true,
   "sideBar": true,
   "skip_h1_title": false,
   "title_cell": "Table of Contents",
   "title_sidebar": "Contents",
   "toc_cell": false,
   "toc_position": {},
   "toc_section_display": true,
   "toc_window_display": false
  },
  "varInspector": {
   "cols": {
    "lenName": 16,
    "lenType": 16,
    "lenVar": 40
   },
   "kernels_config": {
    "python": {
     "delete_cmd_postfix": "",
     "delete_cmd_prefix": "del ",
     "library": "var_list.py",
     "varRefreshCmd": "print(var_dic_list())"
    },
    "r": {
     "delete_cmd_postfix": ") ",
     "delete_cmd_prefix": "rm(",
     "library": "var_list.r",
     "varRefreshCmd": "cat(var_dic_list()) "
    }
   },
   "types_to_exclude": [
    "module",
    "function",
    "builtin_function_or_method",
    "instance",
    "_Feature"
   ],
   "window_display": false
  }
 },
 "nbformat": 4,
 "nbformat_minor": 2
}
