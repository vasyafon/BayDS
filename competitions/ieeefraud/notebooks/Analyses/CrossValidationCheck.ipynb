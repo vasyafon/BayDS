{
 "cells": [
  {
   "cell_type": "code",
   "execution_count": 1,
   "metadata": {
    "ExecuteTime": {
     "end_time": "2019-09-28T07:04:15.479473Z",
     "start_time": "2019-09-28T07:04:15.413671Z"
    }
   },
   "outputs": [],
   "source": [
    "import yaml\n"
   ]
  },
  {
   "cell_type": "code",
   "execution_count": 7,
   "metadata": {
    "ExecuteTime": {
     "end_time": "2019-09-28T07:06:19.290068Z",
     "start_time": "2019-09-28T07:06:19.285078Z"
    }
   },
   "outputs": [],
   "source": [
    "main_path = r'../../..'\n",
    "data_path = main_path+'/data'\n",
    "import sys\n",
    "sys.path.append(main_path)\n"
   ]
  },
  {
   "cell_type": "code",
   "execution_count": 11,
   "metadata": {
    "ExecuteTime": {
     "end_time": "2019-09-28T07:07:22.651942Z",
     "start_time": "2019-09-28T07:07:22.646937Z"
    }
   },
   "outputs": [],
   "source": [
    "from BayDS.lib.training import fast_auc"
   ]
  },
  {
   "cell_type": "code",
   "execution_count": 14,
   "metadata": {
    "ExecuteTime": {
     "end_time": "2019-09-28T07:10:24.292990Z",
     "start_time": "2019-09-28T07:10:24.288988Z"
    }
   },
   "outputs": [],
   "source": [
    "from sklearn.model_selection import KFold\n",
    "import pandas as pd"
   ]
  },
  {
   "cell_type": "code",
   "execution_count": 73,
   "metadata": {
    "ExecuteTime": {
     "end_time": "2019-09-28T07:52:54.113974Z",
     "start_time": "2019-09-28T07:52:54.100973Z"
    }
   },
   "outputs": [],
   "source": [
    "working_folder = '../../../data/sub'\n",
    "lb = yaml.load(open(f'{working_folder}/lb.yaml','r'),Loader=yaml.FullLoader)"
   ]
  },
  {
   "cell_type": "code",
   "execution_count": 74,
   "metadata": {
    "ExecuteTime": {
     "end_time": "2019-09-28T07:52:56.895016Z",
     "start_time": "2019-09-28T07:52:56.770014Z"
    }
   },
   "outputs": [],
   "source": [
    "target = pd.read_csv(f'{working_folder}/target.csv').set_index('TransactionID')"
   ]
  },
  {
   "cell_type": "code",
   "execution_count": 72,
   "metadata": {
    "ExecuteTime": {
     "end_time": "2019-09-28T07:49:30.287690Z",
     "start_time": "2019-09-28T07:49:28.167697Z"
    }
   },
   "outputs": [],
   "source": [
    "# st = pd.read_pickle(f'{working_folder}/undefined/stacked.pkl')\n",
    "# st['oof'].shape\n",
    "# stacked_oof = pd.DataFrame(index=target.index)\n",
    "# stacked_oof['isFraud'] = st['oof']\n",
    "# stacked_oof.to_csv(f'{working_folder}/stacked_oof.csv')"
   ]
  },
  {
   "cell_type": "code",
   "execution_count": 75,
   "metadata": {
    "ExecuteTime": {
     "end_time": "2019-09-28T07:53:01.107438Z",
     "start_time": "2019-09-28T07:53:01.100438Z"
    }
   },
   "outputs": [
    {
     "data": {
      "text/plain": [
       "[{'oofFile': 'oof_all_data_best_lgb_26.csv',\n",
       "  'predictionFile': 'prediction_all_data_best_lgb_26.csv',\n",
       "  'score': 0.9459},\n",
       " {'oofFile': 'oof_all_data_best_lgb_timefreq.csv',\n",
       "  'predictionFile': 'prediction_all_data_best_lgb_timefreq.csv',\n",
       "  'score': 0.9504},\n",
       " {'oofFile': 'oof_all_data_best_lgb.csv',\n",
       "  'predictionFile': 'prediction_all_data_best_lgb.csv',\n",
       "  'score': 0.9484},\n",
       " {'oofFile': 'oof_lgb_new_card_id_del_mean020_v3.csv',\n",
       "  'predictionFile': 'lgb_new_card_id_del_mean020_v3.csv',\n",
       "  'score': 0.947},\n",
       " {'oofFile': 'oof_best_submit_09469.csv',\n",
       "  'predictionFile': 'submission_09469.csv',\n",
       "  'score': 0.9469},\n",
       " {'oofFile': 'stacked_oof.csv',\n",
       "  'predictionFile': 'stacked.csv',\n",
       "  'score': 0.939}]"
      ]
     },
     "execution_count": 75,
     "metadata": {},
     "output_type": "execute_result"
    }
   ],
   "source": [
    "lb"
   ]
  },
  {
   "cell_type": "code",
   "execution_count": 76,
   "metadata": {
    "ExecuteTime": {
     "end_time": "2019-09-28T07:53:05.754681Z",
     "start_time": "2019-09-28T07:53:03.761496Z"
    }
   },
   "outputs": [
    {
     "name": "stdout",
     "output_type": "stream",
     "text": [
      "*** 0: 0.9459 -- oof_all_data_best_lgb_26.csv\n",
      "0.9120146257737021\n",
      "0.9445642303513123\n",
      "0.9353198507224967\n",
      "0.9523825555833152\n",
      "0.9310722289065904\n",
      "*** 1: 0.9504 -- oof_all_data_best_lgb_timefreq.csv\n",
      "0.9200897137273757\n",
      "0.9436437284124829\n",
      "0.9408082617580837\n",
      "0.956501557348579\n",
      "0.93628500194496\n",
      "*** 2: 0.9484 -- oof_all_data_best_lgb.csv\n",
      "0.918912852526571\n",
      "0.9419404308890484\n",
      "0.9369641794849076\n",
      "0.9553157368036542\n",
      "0.9360824321466477\n",
      "*** 3: 0.947 -- oof_lgb_new_card_id_del_mean020_v3.csv\n",
      "0.9129049159819259\n",
      "0.9423006368296207\n",
      "0.9367266085128249\n",
      "0.9544686181601808\n",
      "0.932655036015369\n",
      "*** 4: 0.9469 -- oof_best_submit_09469.csv\n",
      "0.9212245167648406\n",
      "0.9404617392759979\n",
      "0.9366978794048867\n",
      "0.9526967014398073\n",
      "0.9301525414489835\n",
      "*** 5: 0.939 -- stacked_oof.csv\n",
      "0.933775394649654\n",
      "0.9482903382075164\n",
      "0.9429304633256416\n",
      "0.9551325404552266\n",
      "0.920039782700944\n"
     ]
    }
   ],
   "source": [
    "X = []\n",
    "y = []\n",
    "for isub, sub in enumerate(lb):\n",
    "    print(f'*** {isub}: {sub[\"score\"]} -- {sub[\"oofFile\"]}'  )\n",
    "    folds = KFold(n_splits=5)\n",
    "    pfile = f\"{working_folder}/{sub['oofFile']}\"\n",
    "    oof = pd.read_csv(pfile).set_index('TransactionID')\n",
    "\n",
    "    splitter = folds.split(oof)\n",
    "    oof_aucs = []      \n",
    "    for ifold,(train_idx, val_idx) in enumerate(splitter):\n",
    "    #     print(ifold,val_idx)\n",
    "        val_idx_trans = oof.iloc[val_idx].index  \n",
    "        val_x = oof['isFraud'].loc[val_idx_trans]\n",
    "        val_y = target['isFraud'].loc[val_idx_trans]\n",
    "        auc = fast_auc(val_y,val_x)\n",
    "        print(auc)\n",
    "        oof_aucs.append(auc)\n",
    "    X.append(oof_aucs)\n",
    "    y.append(sub['score'])\n",
    "    "
   ]
  },
  {
   "cell_type": "code",
   "execution_count": 77,
   "metadata": {
    "ExecuteTime": {
     "end_time": "2019-09-28T07:53:08.356726Z",
     "start_time": "2019-09-28T07:53:08.352755Z"
    }
   },
   "outputs": [],
   "source": [
    "X = np.array(X)\n",
    "y = np.array(y)"
   ]
  },
  {
   "cell_type": "code",
   "execution_count": 88,
   "metadata": {
    "ExecuteTime": {
     "end_time": "2019-09-28T08:56:19.882502Z",
     "start_time": "2019-09-28T08:56:19.876472Z"
    }
   },
   "outputs": [
    {
     "name": "stdout",
     "output_type": "stream",
     "text": [
      "[0.9459 0.9504 0.9484 0.947  0.9469 0.939 ] [0.94578715 0.95108418 0.94946346 0.94665166 0.94522056 0.93938696]\n"
     ]
    }
   ],
   "source": [
    "from sklearn.linear_model import LinearRegression,Ridge\n",
    "lr = LinearRegression(fit_intercept = False)\n",
    "lr.fit(X[:,:],y)\n",
    "y_pred = lr.predict(X[:,:])\n",
    "print(y,y_pred)"
   ]
  },
  {
   "cell_type": "code",
   "execution_count": 89,
   "metadata": {
    "ExecuteTime": {
     "end_time": "2019-09-28T08:56:22.471519Z",
     "start_time": "2019-09-28T08:56:22.464520Z"
    }
   },
   "outputs": [
    {
     "data": {
      "text/plain": [
       "array([ 0.02316714,  0.11418089,  0.45246619, -0.43529977,  0.86800837])"
      ]
     },
     "execution_count": 89,
     "metadata": {},
     "output_type": "execute_result"
    }
   ],
   "source": [
    "lr.coef_"
   ]
  }
 ],
 "metadata": {
  "kernelspec": {
   "display_name": "Python 3",
   "language": "python",
   "name": "python3"
  },
  "language_info": {
   "codemirror_mode": {
    "name": "ipython",
    "version": 3
   },
   "file_extension": ".py",
   "mimetype": "text/x-python",
   "name": "python",
   "nbconvert_exporter": "python",
   "pygments_lexer": "ipython3",
   "version": "3.7.4"
  },
  "toc": {
   "base_numbering": 1,
   "nav_menu": {},
   "number_sections": true,
   "sideBar": true,
   "skip_h1_title": false,
   "title_cell": "Table of Contents",
   "title_sidebar": "Contents",
   "toc_cell": false,
   "toc_position": {},
   "toc_section_display": true,
   "toc_window_display": false
  },
  "varInspector": {
   "cols": {
    "lenName": 16,
    "lenType": 16,
    "lenVar": 40
   },
   "kernels_config": {
    "python": {
     "delete_cmd_postfix": "",
     "delete_cmd_prefix": "del ",
     "library": "var_list.py",
     "varRefreshCmd": "print(var_dic_list())"
    },
    "r": {
     "delete_cmd_postfix": ") ",
     "delete_cmd_prefix": "rm(",
     "library": "var_list.r",
     "varRefreshCmd": "cat(var_dic_list()) "
    }
   },
   "types_to_exclude": [
    "module",
    "function",
    "builtin_function_or_method",
    "instance",
    "_Feature"
   ],
   "window_display": false
  }
 },
 "nbformat": 4,
 "nbformat_minor": 2
}
