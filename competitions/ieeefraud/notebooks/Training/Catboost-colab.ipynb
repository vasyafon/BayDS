{
 "cells": [
  {
   "cell_type": "code",
   "execution_count": 0,
   "metadata": {
    "colab": {
     "base_uri": "https://localhost:8080/",
     "height": 34
    },
    "colab_type": "code",
    "id": "c9j2XE_ijlJF",
    "outputId": "20158460-dea6-417a-d493-63a8a0b7ba2b"
   },
   "outputs": [
    {
     "name": "stdout",
     "output_type": "stream",
     "text": [
      "Drive already mounted at /content/drive; to attempt to forcibly remount, call drive.mount(\"/content/drive\", force_remount=True).\n"
     ]
    }
   ],
   "source": [
    "from google.colab import drive\n",
    "drive.mount('/content/drive')"
   ]
  },
  {
   "cell_type": "code",
   "execution_count": 0,
   "metadata": {
    "colab": {
     "base_uri": "https://localhost:8080/",
     "height": 272
    },
    "colab_type": "code",
    "id": "N8wB9bWFBXZM",
    "outputId": "53f919bd-3ed9-456a-91cf-e2aeed262ef9"
   },
   "outputs": [
    {
     "name": "stdout",
     "output_type": "stream",
     "text": [
      "Requirement already satisfied: catboost in /usr/local/lib/python3.6/dist-packages (0.17.3)\n",
      "Requirement already satisfied: scipy in /usr/local/lib/python3.6/dist-packages (from catboost) (1.3.1)\n",
      "Requirement already satisfied: graphviz in /usr/local/lib/python3.6/dist-packages (from catboost) (0.10.1)\n",
      "Requirement already satisfied: plotly in /usr/local/lib/python3.6/dist-packages (from catboost) (4.1.1)\n",
      "Requirement already satisfied: matplotlib in /usr/local/lib/python3.6/dist-packages (from catboost) (3.0.3)\n",
      "Requirement already satisfied: numpy>=1.16.0 in /usr/local/lib/python3.6/dist-packages (from catboost) (1.16.5)\n",
      "Requirement already satisfied: pandas>=0.24.0 in /usr/local/lib/python3.6/dist-packages (from catboost) (0.24.2)\n",
      "Requirement already satisfied: six in /usr/local/lib/python3.6/dist-packages (from catboost) (1.12.0)\n",
      "Requirement already satisfied: retrying>=1.3.3 in /usr/local/lib/python3.6/dist-packages (from plotly->catboost) (1.3.3)\n",
      "Requirement already satisfied: python-dateutil>=2.1 in /usr/local/lib/python3.6/dist-packages (from matplotlib->catboost) (2.5.3)\n",
      "Requirement already satisfied: cycler>=0.10 in /usr/local/lib/python3.6/dist-packages (from matplotlib->catboost) (0.10.0)\n",
      "Requirement already satisfied: kiwisolver>=1.0.1 in /usr/local/lib/python3.6/dist-packages (from matplotlib->catboost) (1.1.0)\n",
      "Requirement already satisfied: pyparsing!=2.0.4,!=2.1.2,!=2.1.6,>=2.0.1 in /usr/local/lib/python3.6/dist-packages (from matplotlib->catboost) (2.4.2)\n",
      "Requirement already satisfied: pytz>=2011k in /usr/local/lib/python3.6/dist-packages (from pandas>=0.24.0->catboost) (2018.9)\n",
      "Requirement already satisfied: setuptools in /usr/local/lib/python3.6/dist-packages (from kiwisolver>=1.0.1->matplotlib->catboost) (41.2.0)\n"
     ]
    }
   ],
   "source": [
    "!pip install catboost"
   ]
  },
  {
   "cell_type": "code",
   "execution_count": 0,
   "metadata": {
    "ExecuteTime": {
     "end_time": "2019-09-29T16:46:34.217582Z",
     "start_time": "2019-09-29T16:46:30.166898Z"
    },
    "colab": {
     "base_uri": "https://localhost:8080/",
     "height": 51
    },
    "colab_type": "code",
    "id": "9PhWyn4iAnpS",
    "outputId": "2287afe3-b5b6-4a1c-df92-f15cc91ea443"
   },
   "outputs": [
    {
     "name": "stdout",
     "output_type": "stream",
     "text": [
      "The autoreload extension is already loaded. To reload it, use:\n",
      "  %reload_ext autoreload\n"
     ]
    }
   ],
   "source": [
    "%load_ext autoreload\n",
    "%autoreload 2\n",
    "main_dir = r'/content/drive/My Drive/Kaggle'\n",
    "\n",
    "data_path = r'/content/drive/My Drive/Kaggle/Data/final_fe'\n",
    "import sys\n",
    "sys.path.append(main_dir)\n",
    "from typing import List, Set, Dict, Optional, Any, Tuple, Type, Union\n",
    "\n",
    "from BayDS.lib.pipeline import *\n",
    "from BayDS.lib.io import *\n",
    "\n",
    "import os\n"
   ]
  },
  {
   "cell_type": "markdown",
   "metadata": {
    "ExecuteTime": {
     "end_time": "2019-09-22T12:47:29.055553Z",
     "start_time": "2019-09-22T12:47:28.933527Z"
    },
    "colab_type": "text",
    "id": "xki7YKbUAnpc"
   },
   "source": [
    "## Code to make pipeline node"
   ]
  },
  {
   "cell_type": "code",
   "execution_count": 0,
   "metadata": {
    "ExecuteTime": {
     "end_time": "2019-09-29T16:46:51.539385Z",
     "start_time": "2019-09-29T16:46:35.706608Z"
    },
    "colab": {},
    "colab_type": "code",
    "id": "ruS3uWcIAnpj"
   },
   "outputs": [],
   "source": [
    "X = pd.read_pickle(f'{data_path}/X.pkl')\n",
    "test= pd.read_pickle(f'{data_path}/test.pkl')\n",
    "y= pd.read_pickle(f'{data_path}/y.pkl')"
   ]
  },
  {
   "cell_type": "code",
   "execution_count": 0,
   "metadata": {
    "ExecuteTime": {
     "end_time": "2019-09-29T16:46:54.414514Z",
     "start_time": "2019-09-29T16:46:54.264467Z"
    },
    "colab": {},
    "colab_type": "code",
    "id": "VhChFEFRAnpn"
   },
   "outputs": [],
   "source": [
    "from sklearn.model_selection import GroupKFold\n",
    "\n",
    "NFOLDS = 6\n",
    "folds = GroupKFold(n_splits=NFOLDS)\n"
   ]
  },
  {
   "cell_type": "code",
   "execution_count": 0,
   "metadata": {
    "ExecuteTime": {
     "end_time": "2019-09-29T16:46:57.314526Z",
     "start_time": "2019-09-29T16:46:57.072523Z"
    },
    "colab": {},
    "colab_type": "code",
    "id": "r9O_jvo7Anpr"
   },
   "outputs": [],
   "source": [
    "import yaml\n",
    "categorical_features = yaml.load(open(f'{data_path}/categorical_columns.yaml','r'))\n",
    "numerical_features = yaml.load(open(f'{data_path}/numerical_columns.yaml','r'))\n",
    "bad_features = yaml.load(open(f'{data_path}/bad_for_training_features.yaml','r'))\n",
    "\n",
    "categorical_features = [f for f in categorical_features if f not in bad_features]\n",
    "all_features =  [f for f in X.columns if f not in bad_features]"
   ]
  },
  {
   "cell_type": "code",
   "execution_count": 0,
   "metadata": {
    "ExecuteTime": {
     "end_time": "2019-09-29T16:47:04.981596Z",
     "start_time": "2019-09-29T16:47:00.107575Z"
    },
    "colab": {},
    "colab_type": "code",
    "id": "EVqmMr4nAnpx"
   },
   "outputs": [],
   "source": [
    "from BayDS.lib.training import *"
   ]
  },
  {
   "cell_type": "code",
   "execution_count": 0,
   "metadata": {
    "colab": {},
    "colab_type": "code",
    "id": "Qaxs4jImkj4u"
   },
   "outputs": [],
   "source": [
    "important_features = pd.read_pickle(f'{data_path}/important_features.pkl')"
   ]
  },
  {
   "cell_type": "code",
   "execution_count": 0,
   "metadata": {
    "colab": {},
    "colab_type": "code",
    "id": "wX-eHX_qj0Y9"
   },
   "outputs": [],
   "source": [
    "features_to_drop = [f for f in X.columns if f not in important_features.index]"
   ]
  },
  {
   "cell_type": "code",
   "execution_count": 0,
   "metadata": {
    "colab": {},
    "colab_type": "code",
    "id": "J4nkE68IkCMr"
   },
   "outputs": [],
   "source": [
    "# X.drop(features_to_drop,axis=1,inplace=True)\n",
    "# test.drop(features_to_drop,axis=1,inplace=True)\n",
    "all_features =  [f for f in all_features if f in important_features.index]"
   ]
  },
  {
   "cell_type": "code",
   "execution_count": 0,
   "metadata": {
    "colab": {},
    "colab_type": "code",
    "id": "CzZ4o683lrLA"
   },
   "outputs": [],
   "source": [
    "\n",
    "categorical_features =  [f for f in categorical_features if f in important_features.index]"
   ]
  },
  {
   "cell_type": "code",
   "execution_count": 0,
   "metadata": {
    "colab": {
     "base_uri": "https://localhost:8080/",
     "height": 34
    },
    "colab_type": "code",
    "id": "0wgYGvRElYxH",
    "outputId": "142e9f68-b855-482f-d114-a2178ec92ac0"
   },
   "outputs": [
    {
     "data": {
      "text/plain": [
       "Index(['importance'], dtype='object')"
      ]
     },
     "execution_count": 44,
     "metadata": {
      "tags": []
     },
     "output_type": "execute_result"
    }
   ],
   "source": [
    "important_features.columns"
   ]
  },
  {
   "cell_type": "code",
   "execution_count": 0,
   "metadata": {
    "colab": {},
    "colab_type": "code",
    "id": "Fwxb3yx7Anp2"
   },
   "outputs": [],
   "source": [
    "# nans_groups = {}\n",
    "# temp_df = train.isna()\n",
    "# temp_df2 = test.isna()\n",
    "\n",
    "# nans_df = pd.concat([temp_df, temp_df2])\n",
    "\n",
    "# for col in list(nans_df):\n",
    "#     cur_group = nans_df[col].sum()\n",
    "#     if cur_group>0:\n",
    "#         try:\n",
    "#             nans_groups[cur_group].append(col)\n",
    "#         except:\n",
    "#             nans_groups[cur_group]=[col]\n",
    "\n",
    "# add_category = []\n",
    "# for col in nans_groups:\n",
    "#     if len(nans_groups[col])>1:\n",
    "#         train['nan_group_'+str(col)] = np.where(temp_df[nans_groups[col]].sum(axis=1)>0,1,0).astype(np.int8)\n",
    "#         test['nan_group_'+str(col)]  = np.where(temp_df2[nans_groups[col]].sum(axis=1)>0,1,0).astype(np.int8)\n",
    "#         add_category.append('nan_group_'+str(col))"
   ]
  },
  {
   "cell_type": "code",
   "execution_count": 0,
   "metadata": {
    "ExecuteTime": {
     "end_time": "2019-09-29T16:40:59.626724Z",
     "start_time": "2019-09-29T16:39:00.070556Z"
    },
    "colab": {},
    "colab_type": "code",
    "id": "y7cDOLN1Anp6"
   },
   "outputs": [],
   "source": [
    "# total_items = len(X)\n",
    "# keep_cols = ['isFraud','C3_fq_enc']\n",
    "# for col in numerical_features:\n",
    "#         cur_dominator = list(X[col].fillna(-999).value_counts())[0]\n",
    "#         if (cur_dominator/total_items > 0.85) and (col not in keep_cols):\n",
    "#             cur_dominator = X[col].fillna(-999).value_counts().index[0]\n",
    "#             print('Column:', col, ' | Dominator:', cur_dominator)\n",
    "#             X[col] = np.where(X[col].fillna(-999)==cur_dominator,1,0)\n",
    "#             test[col] = np.where(test[col].fillna(-999)==cur_dominator,1,0)\n",
    "\n",
    "#             X[col] = X[col].fillna(-999).astype(int)\n",
    "#             test[col] = test[col].fillna(-999).astype(int)\n",
    "\n",
    "#             if col not in categorical_features:\n",
    "#                 categorical_features.append(col)"
   ]
  },
  {
   "cell_type": "code",
   "execution_count": 0,
   "metadata": {
    "ExecuteTime": {
     "end_time": "2019-09-29T16:47:08.793666Z",
     "start_time": "2019-09-29T16:47:08.542646Z"
    },
    "colab": {},
    "colab_type": "code",
    "id": "a6YRNmj7AnqA"
   },
   "outputs": [],
   "source": [
    "params = {\n",
    "#                 'n_estimators':5000,\n",
    "                'learning_rate': 0.01,\n",
    "                'eval_metric':'AUC',\n",
    "                'loss_function':'Logloss',\n",
    "                'random_seed':42,\n",
    "                'metric_period':500,\n",
    "                'od_wait':500,\n",
    "                'task_type':'GPU',\n",
    "                'depth': 8,\n",
    "                #'colsample_bylevel':0.7,\n",
    "                } \n",
    "n_fold = 6\n",
    "folds = GroupKFold(n_splits=n_fold)\n",
    "train_options = {\n",
    "    \"model_type\":'cat',\n",
    "    \"params\": params,\n",
    "    'early_stopping_rounds': 1000,\n",
    "    'n_estimators': 15000,\n",
    "    'averaging': 'usual',\n",
    "    'use_groups': False,\n",
    "    'fold_name': folds.__class__.__name__,\n",
    "    'n_splits': n_fold\n",
    "    \n",
    "}"
   ]
  },
  {
   "cell_type": "code",
   "execution_count": 0,
   "metadata": {
    "ExecuteTime": {
     "start_time": "2019-09-29T16:47:03.188Z"
    },
    "colab": {
     "base_uri": "https://localhost:8080/",
     "height": 85
    },
    "colab_type": "code",
    "id": "vGP82_BAAnqE",
    "outputId": "c55ff1a3-9f50-4ea0-bb7c-56ef78bb306e"
   },
   "outputs": [
    {
     "name": "stdout",
     "output_type": "stream",
     "text": [
      "Fold 1 started at Mon Sep 30 05:13:56 2019\n",
      "0:\tlearn: 0.9114607\ttest: 0.7821377\tbest: 0.7821377 (0)\ttotal: 571ms\tremaining: 2h 22m 44s\n",
      "500:\tlearn: 0.9670880\ttest: 0.8775412\tbest: 0.8775412 (500)\ttotal: 3m 36s\tremaining: 1h 44m 20s\n",
      "1000:\tlearn: 0.9735100\ttest: 0.9055785\tbest: 0.9055785 (1000)\ttotal: 7m 26s\tremaining: 1h 43m 58s\n"
     ]
    }
   ],
   "source": [
    "result_dict_cb_new_id = train_model_classification_vb(X=X, X_test=test, columns=all_features,\n",
    "                                                   y=y, params=params, folds=folds,\n",
    "                                             model_type=train_options['model_type'], \n",
    "                                             categorial_columns = categorical_features,\n",
    "                                             plot_feature_importance=True,\n",
    "                                             verbose=100, early_stopping_rounds=train_options['early_stopping_rounds'],\n",
    "                                             n_estimators=train_options['n_estimators'], \n",
    "                                             averaging=train_options['averaging'],\n",
    "                                             n_jobs=-1, groups=X['DT_M'])\n"
   ]
  },
  {
   "cell_type": "code",
   "execution_count": 0,
   "metadata": {
    "colab": {},
    "colab_type": "code",
    "id": "a9_qDMQcAnqI"
   },
   "outputs": [],
   "source": [
    "import pickle\n",
    "pickle.dump(result_dict_cb_new_id,open(f'{data_path}/results_dict_catboost.pkl','wb'))"
   ]
  },
  {
   "cell_type": "code",
   "execution_count": 0,
   "metadata": {
    "ExecuteTime": {
     "end_time": "2019-09-26T19:50:55.341125Z",
     "start_time": "2019-09-26T19:50:50.509344Z"
    },
    "colab": {},
    "colab_type": "code",
    "id": "rpL8UKsMAnqM"
   },
   "outputs": [],
   "source": [
    "pd.DataFrame(result_dict_cb_new_id['oof'], columns=['isFraud'], index=X.index).to_csv(f'{data_path}/oof_all_data_best_lgb.csv')\n",
    "\n",
    "pd.DataFrame(result_dict_cb_new_id['prediction'], columns=['isFraud'], index=test.index).to_csv(f'{data_path}/prediction_all_data_best_lgb.csv')\n",
    "\n",
    "sample_submission = pd.read_csv(data_path + '/sample_submission.csv').set_index('TransactionID')\n",
    "\n",
    "sub1 = pd.DataFrame(result_dict_cb_new_id['prediction'], columns=['isFraud'], index=test.index)\n",
    "\n",
    "sample_submission['isFraud'] = sub1#*0.5 + sub2*0.25 + sub3*0.25\n",
    "\n",
    "sample_submission.to_csv(f'{data_path}/catfinal_sub.csv')"
   ]
  }
 ],
 "metadata": {
  "accelerator": "GPU",
  "colab": {
   "collapsed_sections": [],
   "machine_shape": "hm",
   "name": "Catboost.ipynb",
   "provenance": [],
   "toc_visible": true
  },
  "kernelspec": {
   "display_name": "Python 3",
   "language": "python",
   "name": "python3"
  },
  "language_info": {
   "codemirror_mode": {
    "name": "ipython",
    "version": 3
   },
   "file_extension": ".py",
   "mimetype": "text/x-python",
   "name": "python",
   "nbconvert_exporter": "python",
   "pygments_lexer": "ipython3",
   "version": "3.6.1"
  },
  "toc": {
   "base_numbering": 1,
   "nav_menu": {},
   "number_sections": true,
   "sideBar": true,
   "skip_h1_title": false,
   "title_cell": "Table of Contents",
   "title_sidebar": "Contents",
   "toc_cell": false,
   "toc_position": {},
   "toc_section_display": true,
   "toc_window_display": false
  },
  "varInspector": {
   "cols": {
    "lenName": 16,
    "lenType": 16,
    "lenVar": 40
   },
   "kernels_config": {
    "python": {
     "delete_cmd_postfix": "",
     "delete_cmd_prefix": "del ",
     "library": "var_list.py",
     "varRefreshCmd": "print(var_dic_list())"
    },
    "r": {
     "delete_cmd_postfix": ") ",
     "delete_cmd_prefix": "rm(",
     "library": "var_list.r",
     "varRefreshCmd": "cat(var_dic_list()) "
    }
   },
   "position": {
    "height": "760px",
    "left": "1530px",
    "right": "20px",
    "top": "120px",
    "width": "336px"
   },
   "types_to_exclude": [
    "module",
    "function",
    "builtin_function_or_method",
    "instance",
    "_Feature"
   ],
   "window_display": false
  }
 },
 "nbformat": 4,
 "nbformat_minor": 1
}
