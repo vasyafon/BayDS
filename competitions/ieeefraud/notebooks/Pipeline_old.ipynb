{
 "cells": [
  {
   "cell_type": "code",
   "execution_count": null,
   "metadata": {
    "ExecuteTime": {
     "end_time": "2019-09-23T09:33:18.939930Z",
     "start_time": "2019-09-23T09:33:18.844150Z"
    }
   },
   "outputs": [],
   "source": [
    "%load_ext autoreload\n",
    "%autoreload 2"
   ]
  },
  {
   "cell_type": "code",
   "execution_count": 2,
   "metadata": {
    "ExecuteTime": {
     "end_time": "2019-09-23T09:33:22.271078Z",
     "start_time": "2019-09-23T09:33:19.897968Z"
    }
   },
   "outputs": [],
   "source": [
    "main_path = r'../..'\n",
    "data_path = main_path+'/data'\n",
    "import sys\n",
    "sys.path.append(main_path)\n",
    "from BayDS.lib.pipeline import *\n",
    "from BayDS.lib.pipeline.ieee_fraud_nodes import *\n",
    "from typing import List, Set, Dict, Optional, Any, Tuple, Type, Union\n",
    "from BayDS.lib.io import *\n",
    "import os"
   ]
  },
  {
   "cell_type": "code",
   "execution_count": 3,
   "metadata": {
    "ExecuteTime": {
     "end_time": "2019-09-23T09:33:24.119483Z",
     "start_time": "2019-09-23T09:33:23.913191Z"
    }
   },
   "outputs": [],
   "source": [
    "# main_dir = r'd:\\Documents\\Private\\Kaggle\\Baydin'\n",
    "main_dir = main_path\n",
    "# main_dir = r'f:\\my\\Prog\\kaggle\\Baydin'\n",
    "data_dir = f'{main_dir}/Data'"
   ]
  },
  {
   "cell_type": "markdown",
   "metadata": {},
   "source": [
    "## Pipeline 1: Processing raw, add NanCounts and reduce mem usage"
   ]
  },
  {
   "cell_type": "code",
   "execution_count": null,
   "metadata": {
    "ExecuteTime": {
     "end_time": "2019-09-23T08:49:57.566201Z",
     "start_time": "2019-09-23T08:36:45.025709Z"
    }
   },
   "outputs": [],
   "source": [
    "p = Pipeline(working_folder=f'{main_dir}/Snapshots/1/01-JoinReduceMem')\n",
    "\n",
    "p.add_node(IEEEFraudTransactionLoaderNode, None, 'transactions',\n",
    "           params={\n",
    "               'input_directory': data_dir\n",
    "           })\n",
    "\n",
    "p.add_node(IEEEFraudIdentityLoaderNode, None, 'identity',\n",
    "           params={\n",
    "               'input_directory': data_dir\n",
    "           })\n",
    "\n",
    "p.add_node(AddNaNCountNode, 'transactions', 'transactions',\n",
    "           params={\n",
    "               'name': 'NanTransactionCount'\n",
    "           })\n",
    "p.add_node(AddNaNCountNode, 'identity', 'identity',\n",
    "           params={\n",
    "               'name': 'NanIdentityCount'\n",
    "           })\n",
    "p.add_node(JoinNode,\n",
    "           ('transactions', 'identity'),\n",
    "           'data',\n",
    "           params={\n",
    "               'on': 'TransactionID'\n",
    "           })\n",
    "\n",
    "p.add_node(EraserNode, params={\n",
    "    'remove_keys': ['transactions', 'identity']\n",
    "})\n",
    "p.add_node(ReduceMemoryUsageNode,\n",
    "           'data', 'data',\n",
    "           params={\n",
    "               'verbose': True\n",
    "           })\n",
    "p.run(verbose=True)\n",
    "print(p.data['data'].columns)\n",
    "p.save_data('pickle')"
   ]
  },
  {
   "cell_type": "markdown",
   "metadata": {},
   "source": [
    "## Pipeline 2: Add all to our best result"
   ]
  },
  {
   "cell_type": "code",
   "execution_count": 4,
   "metadata": {
    "ExecuteTime": {
     "end_time": "2019-09-23T09:56:43.145918Z",
     "start_time": "2019-09-23T09:33:25.786634Z"
    }
   },
   "outputs": [
    {
     "name": "stdout",
     "output_type": "stream",
     "text": [
      "---------------------------\n",
      "0: LoaderNode [2019-09-23 12:33:26]\n",
      "params:\n",
      " {'input_directory': '../../Snapshots/1/01-JoinReduceMem', 'file': 'data.pkl'}\n",
      "---------------------------\n",
      "1: TimeTransformNode [2019-09-23 12:33:32]\n",
      "params:\n",
      " None\n",
      "---------------------------\n",
      "2: SomeAggregatesFromAnyaNode [2019-09-23 12:33:38]\n",
      "params:\n",
      " None\n"
     ]
    },
    {
     "name": "stderr",
     "output_type": "stream",
     "text": [
      "../..\\BayDS\\lib\\pipeline\\ieee_fraud_nodes.py:357: SettingWithCopyWarning: \n",
      "A value is trying to be set on a copy of a slice from a DataFrame.\n",
      "Try using .loc[row_indexer,col_indexer] = value instead\n",
      "\n",
      "See the caveats in the documentation: http://pandas.pydata.org/pandas-docs/stable/indexing.html#indexing-view-versus-copy\n",
      "  temp_df[new_column] = temp_df[col].astype(str) + '_' + (temp_df[period]).astype(str)\n"
     ]
    },
    {
     "name": "stdout",
     "output_type": "stream",
     "text": [
      "---------------------------\n",
      "3: EmailTransformNode [2019-09-23 12:37:54]\n",
      "params:\n",
      " None\n",
      "---------------------------\n",
      "4: AddDeviceOSInfoNode [2019-09-23 12:37:56]\n",
      "params:\n",
      " None\n"
     ]
    },
    {
     "name": "stderr",
     "output_type": "stream",
     "text": [
      "../..\\BayDS\\lib\\pipeline\\ieee_fraud_nodes.py:635: UserWarning: Boolean Series key will be reindexed to match DataFrame index.\n",
      "  idx = data[data.Browser == browser][data.BrowserVersion.isin(browser_map.keys())].index\n",
      "c:\\python36\\lib\\site-packages\\pandas\\core\\indexing.py:543: SettingWithCopyWarning: \n",
      "A value is trying to be set on a copy of a slice from a DataFrame.\n",
      "Try using .loc[row_indexer,col_indexer] = value instead\n",
      "\n",
      "See the caveats in the documentation: http://pandas.pydata.org/pandas-docs/stable/indexing.html#indexing-view-versus-copy\n",
      "  self.obj[item] = s\n"
     ]
    },
    {
     "name": "stdout",
     "output_type": "stream",
     "text": [
      "---------------------------\n",
      "5: AddCardIdNode [2019-09-23 12:38:42]\n",
      "params:\n",
      " None\n",
      "---------------------------\n",
      "6: AddNewCardIdNode [2019-09-23 12:38:46]\n",
      "params:\n",
      " None\n",
      "5%\n",
      "10%\n",
      "15%\n",
      "20%\n",
      "25%\n",
      "30%\n",
      "35%\n",
      "40%\n",
      "50%\n",
      "55%\n",
      "60%\n",
      "100%\n",
      "5%\n",
      "10%\n",
      "15%\n",
      "20%\n",
      "25%\n",
      "30%\n",
      "35%\n",
      "40%\n",
      "45%\n",
      "50%\n",
      "55%\n",
      "60%\n",
      "65%\n",
      "70%\n",
      "75%\n",
      "80%\n",
      "85%\n",
      "90%\n",
      "95%\n",
      "---------------------------\n",
      "7: AddTemporalAggregates [2019-09-23 12:43:47]\n",
      "params:\n",
      " {'features': ['TransactionAmt', 'C5', 'C8'], 'group_by': 'new_card_id'}\n",
      "TransactionAmt\n",
      ".\n",
      ".\n",
      ".\n",
      ".\n",
      ".\n",
      ".\n",
      ".\n",
      ".\n",
      "C5\n",
      ".\n",
      ".\n",
      ".\n",
      ".\n",
      ".\n",
      ".\n",
      ".\n",
      ".\n",
      "C8\n",
      ".\n",
      ".\n",
      ".\n",
      ".\n",
      ".\n",
      ".\n",
      ".\n",
      ".\n",
      "Saving numerical_columns\n",
      "Saving categorical_columns\n",
      "Saving useless_columns\n",
      "Saving data\n"
     ]
    }
   ],
   "source": [
    "data_dir =f'{main_dir}/Snapshots/1/01-JoinReduceMem'\n",
    "\n",
    "p = Pipeline(working_folder=f'{main_dir}/Snapshots/1/full-fe')\n",
    "\n",
    "p.add_node(LoaderNode, None, 'data',\n",
    "           params={\n",
    "               'input_directory': data_dir,\n",
    "               'file': 'data.pkl'\n",
    "           })\n",
    "p.add_node(TimeTransformNode, 'data')\n",
    "p.add_node(SomeAggregatesFromAnyaNode, 'data')\n",
    "# todo: check LatestBrowser generation\n",
    "p.add_node(EmailTransformNode, 'data')\n",
    "\n",
    "numerical_cols = ['id_%02d' % i for i in range(1,12)] + [\"V%d\"%i for i in range(1,340)] + [\"D%d\"%i for i in range(1,16)] + [\"C%d\"%i for i in range(1,15)]  + ['dist1','TransactionAmt', 'NanIdentityCount', 'NanTransactionCount', '_Weekdays', '_Hours', '_Days', 'Date', 'dist2']\n",
    "label_cols = ['M1', 'M2', 'M3','M4', 'M5', 'M6', 'M7', 'M8', 'M9', 'card4', 'card6', 'ProductCD'] + ['id_%02d'%i for i in (12,15,16,28,29,32,34,35,36,37,38)]\n",
    "label_cols += ['id_13', 'id_14', 'id_17', 'id_18', 'id_19', 'id_20', 'id_21', 'id_22', 'id_23', 'id_24', 'id_25', 'id_26', 'id_27',\n",
    "            'id_30', 'id_31',  'id_33', 'DeviceType', 'DeviceInfo', 'P_emaildomain',\n",
    "            'R_emaildomain', 'card1', 'card2', 'card3',  'card5', 'addr1', 'addr2', \n",
    "            'P_emaildomain_bin', 'P_emaildomain_suffix', 'R_emaildomain_bin', 'R_emaildomain_suffix']\n",
    "\n",
    "#add_from Anya Features\n",
    "numerical_cols+=['TransactionDT', 'Weekdays', 'Hours', 'Days','DT_M', 'DT_W', 'DT_D','id_02_to_mean_card1', 'id_02_to_mean_card4', 'id_02_to_std_card1', 'id_02_to_std_card4', 'D15_to_mean_card1', 'D15_to_mean_card4', 'D15_to_std_card1', 'D15_to_std_card4', 'D15_to_mean_addr1', 'D15_to_std_addr1', 'TransactionAmt_to_mean_card1', 'TransactionAmt_to_mean_card4', 'TransactionAmt_to_std_card1', 'TransactionAmt_to_std_card4', 'TransactionAmt_decimal','nulls1','screen_width', 'screen_height','TransactionAmt_Log', 'card1_count_full',   'Transaction_day_of_week', 'Transaction_hour', 'id_01_count_dist', 'id_31_count_dist', 'id_33_count_dist', 'id_36_count_dist', 'card2_count_full', 'card3_count_full', 'card4_count_full', 'card5_count_full', 'card6_count_full', 'addr1_count_full', 'addr2_count_full', 'id_36_count_full', 'M_sum', 'M_na', 'ProductCD_target_mean', 'M4_target_mean',  'card1_TransactionAmt_mean', 'card1_TransactionAmt_std', 'card2_TransactionAmt_mean', 'card2_TransactionAmt_std', 'card3_TransactionAmt_mean', 'card3_TransactionAmt_std', 'card5_TransactionAmt_mean', 'card5_TransactionAmt_std', 'uid_TransactionAmt_mean', 'uid_TransactionAmt_std', 'uid2_TransactionAmt_mean', 'uid2_TransactionAmt_std', 'uid3_TransactionAmt_mean', 'uid3_TransactionAmt_std', 'card1_fq_enc', 'card2_fq_enc', 'card3_fq_enc', 'card5_fq_enc', 'C1_fq_enc', 'C2_fq_enc', 'C3_fq_enc', 'C4_fq_enc', 'C5_fq_enc', 'C6_fq_enc', 'C7_fq_enc', 'C8_fq_enc', 'C9_fq_enc', 'C10_fq_enc', 'C11_fq_enc', 'C12_fq_enc', 'C13_fq_enc', 'C14_fq_enc', 'D1_fq_enc', 'D2_fq_enc', 'D3_fq_enc', 'D4_fq_enc', 'D5_fq_enc', 'D6_fq_enc', 'D7_fq_enc', 'D8_fq_enc', 'addr1_fq_enc', 'addr2_fq_enc', 'dist1_fq_enc', 'dist2_fq_enc', 'P_emaildomain_fq_enc', 'R_emaildomain_fq_enc', 'DeviceInfo_fq_enc', 'id_30_fq_enc', 'version_id_30_fq_enc', 'version_id_31_fq_enc', 'id_33_fq_enc', 'uid_fq_enc', 'uid2_fq_enc', 'uid3_fq_enc', 'DT_M_total', 'DT_W_total', 'DT_D_total', 'card1_DT_M', 'card2_DT_M', 'card3_DT_M', 'card5_DT_M', 'uid_DT_M', 'uid2_DT_M', 'uid3_DT_M', 'card1_DT_W', 'card2_DT_W', 'card3_DT_W', 'card5_DT_W', 'uid_DT_W', 'uid2_DT_W', 'uid3_DT_W', 'card1_DT_D', 'card2_DT_D', 'card3_DT_D', 'card5_DT_D', 'uid_DT_D', 'uid2_DT_D', 'uid3_DT_D']\n",
    "label_cols+=['isNight','lastest_browser', 'device_name', 'device_version', 'OS_id_30', 'version_id_30', 'browser_id_31', 'version_id_31', 'had_id', 'id_02__id_20', 'id_02__D8', 'D11__DeviceInfo', 'DeviceInfo__P_emaildomain', 'P_emaildomain__C2', 'card2__dist1', 'card1__card5', 'card2__id_20', 'card5__P_emaildomain', 'addr1__card1','uid', 'uid2', 'uid3']\n",
    "strange_cols = ['Transaction_day_of_week', 'Transaction_hour']\n",
    "\n",
    "p.data['numerical_columns'] = numerical_cols\n",
    "p.data['categorical_columns'] = label_cols\n",
    "p.data['useless_columns'] = strange_cols\n",
    "\n",
    "p.add_node(AddDeviceOSInfoNode, ('data', 'numerical_columns', 'categorical_columns'))\n",
    "p.add_node(AddCardIdNode, ('data', 'numerical_columns', 'categorical_columns'))\n",
    "p.add_node(AddNewCardIdNode, ('data', 'numerical_columns', 'categorical_columns'))\n",
    "p.add_node(AddTemporalAggregates, input_key=('data', 'numerical_columns', 'categorical_columns'),\n",
    "           params={\n",
    "               'features':['TransactionAmt', 'C5', 'C8'],\n",
    "               'group_by': 'new_card_id'\n",
    "           })\n",
    "p.save()\n",
    "p.run()\n",
    "p.save_data()\n",
    "# del p\n",
    "# gc.collect()"
   ]
  },
  {
   "cell_type": "markdown",
   "metadata": {
    "ExecuteTime": {
     "end_time": "2019-09-19T17:43:19.676559Z",
     "start_time": "2019-09-19T17:43:19.581567Z"
    }
   },
   "source": [
    "## Test new node"
   ]
  },
  {
   "cell_type": "code",
   "execution_count": 7,
   "metadata": {
    "ExecuteTime": {
     "end_time": "2019-09-23T09:59:58.921074Z",
     "start_time": "2019-09-23T09:59:58.581064Z"
    }
   },
   "outputs": [],
   "source": [
    "add = p.data['data'][['new_card_id', 'start_date']]\n",
    "add.to_pickle(f'{p.working_folder}/new_card_id.pkl')"
   ]
  },
  {
   "cell_type": "code",
   "execution_count": 6,
   "metadata": {
    "ExecuteTime": {
     "end_time": "2019-09-23T09:59:25.891444Z",
     "start_time": "2019-09-23T09:59:25.674439Z"
    }
   },
   "outputs": [],
   "source": []
  },
  {
   "cell_type": "code",
   "execution_count": null,
   "metadata": {
    "ExecuteTime": {
     "end_time": "2019-09-19T17:51:49.328808Z",
     "start_time": "2019-09-19T17:50:12.341211Z"
    }
   },
   "outputs": [],
   "source": [
    "data_dir =f'{main_dir}/Snapshots/1/02-FeatureEngineering'\n",
    "\n",
    "p = Pipeline(working_folder=f'{main_dir}/Snapshots/1/03-AddBrowser')\n",
    "\n",
    "p.add_node(LoaderNode, None, 'data',\n",
    "           params={\n",
    "               'input_directory': data_dir,\n",
    "               'file': 'data.pkl'\n",
    "           })\n",
    "p.add_node(LoaderNode, None, 'numerical_columns',\n",
    "           params={\n",
    "               'input_directory': data_dir,\n",
    "               'file': 'numerical_columns.yaml'\n",
    "           })\n",
    "p.add_node(LoaderNode, None, 'categorical_columns',\n",
    "           params={\n",
    "               'input_directory': data_dir,\n",
    "               'file': 'categorical_columns.yaml'\n",
    "           })\n",
    "\n",
    "p.add_node(AddDeviceOSInfoNode, ('data', 'numerical_columns', 'categorical_columns'))\n",
    "p.save()\n",
    "p.run(verbose=True)\n",
    "p.save_data()"
   ]
  },
  {
   "cell_type": "code",
   "execution_count": null,
   "metadata": {
    "ExecuteTime": {
     "end_time": "2019-09-19T18:13:39.364102Z",
     "start_time": "2019-09-19T18:13:08.847871Z"
    }
   },
   "outputs": [],
   "source": [
    "# data_dir =f'{main_dir}/Snapshots/1/03-AddBrowser'\n",
    "\n",
    "# p = Pipeline(working_folder=f'{main_dir}/Snapshots/1/03-AddBrowser')\n",
    "\n",
    "# p.add_node(LoaderNode, None, 'data',\n",
    "#            params={\n",
    "#                'input_directory': data_dir,\n",
    "#                'file': 'data.pkl'\n",
    "#            })\n",
    "# p.add_node(LoaderNode, None, 'numerical_columns',\n",
    "#            params={\n",
    "#                'input_directory': data_dir,\n",
    "#                'file': 'numerical_columns.yaml'\n",
    "#            })\n",
    "# p.add_node(LoaderNode, None, 'categorical_columns',\n",
    "#            params={\n",
    "#                'input_directory': data_dir,\n",
    "#                'file': 'categorical_columns.yaml'\n",
    "#            })\n",
    "\n",
    "# p.add_node(AddCardIdNode, ('data', 'numerical_columns', 'categorical_columns'))\n",
    "# # p.save()\n",
    "# p.run(verbose=True)\n",
    "# p.save_data()"
   ]
  },
  {
   "cell_type": "markdown",
   "metadata": {},
   "source": [
    "### Rubbish"
   ]
  },
  {
   "cell_type": "code",
   "execution_count": null,
   "metadata": {
    "ExecuteTime": {
     "end_time": "2019-09-19T17:20:54.873022Z",
     "start_time": "2019-09-19T17:20:54.820022Z"
    },
    "code_folding": [
     0
    ]
   },
   "outputs": [],
   "source": [
    "# df = p.data['data']\n",
    "# set_cols = set(numerical_cols) | set(label_cols)\n",
    "# string = \"\"\n",
    "# for col in df.columns:\n",
    "#     if col not in set_cols:\n",
    "#         print(col, df[col].dtype)\n",
    "#         string += f\"'{col}', \"\n",
    "# print(string)"
   ]
  },
  {
   "cell_type": "code",
   "execution_count": null,
   "metadata": {
    "ExecuteTime": {
     "end_time": "2019-09-19T18:04:50.615161Z",
     "start_time": "2019-09-19T18:04:50.338161Z"
    }
   },
   "outputs": [],
   "source": [
    "del p\n",
    "gc.collect()"
   ]
  },
  {
   "cell_type": "code",
   "execution_count": null,
   "metadata": {
    "ExecuteTime": {
     "end_time": "2019-09-19T17:09:50.621446Z",
     "start_time": "2019-09-19T17:09:50.563432Z"
    },
    "code_folding": [
     0
    ]
   },
   "outputs": [],
   "source": [
    "# unclassified_cols = ['TransactionDT', 'Weekdays', 'Hours', 'Days', 'isNight', 'DT_M', 'DT_W', 'DT_D', 'id_02_to_mean_card1', 'id_02_to_mean_card4', 'id_02_to_std_card1', 'id_02_to_std_card4', 'D15_to_mean_card1', 'D15_to_mean_card4', 'D15_to_std_card1', 'D15_to_std_card4', 'D15_to_mean_addr1', 'D15_to_std_addr1', 'TransactionAmt_to_mean_card1', 'TransactionAmt_to_mean_card4', 'TransactionAmt_to_std_card1', 'TransactionAmt_to_std_card4', 'TransactionAmt_decimal', 'nulls1', 'lastest_browser', 'device_name', 'device_version', 'OS_id_30', 'version_id_30', 'browser_id_31', 'version_id_31', 'screen_width', 'screen_height', 'had_id', 'TransactionAmt_Log', 'card1_count_full', 'Transaction_day_of_week', 'Transaction_hour', 'id_02__id_20', 'id_02__D8', 'D11__DeviceInfo', 'DeviceInfo__P_emaildomain', 'P_emaildomain__C2', 'card2__dist1', 'card1__card5', 'card2__id_20', 'card5__P_emaildomain', 'addr1__card1', 'id_01_count_dist', 'id_31_count_dist', 'id_33_count_dist', 'id_36_count_dist', 'card2_count_full', 'card3_count_full', 'card4_count_full', 'card5_count_full', 'card6_count_full', 'addr1_count_full', 'addr2_count_full', 'id_36_count_full', 'M_sum', 'M_na', 'ProductCD_target_mean', 'M4_target_mean', 'uid', 'uid2', 'uid3', 'card1_TransactionAmt_mean', 'card1_TransactionAmt_std', 'card2_TransactionAmt_mean', 'card2_TransactionAmt_std', 'card3_TransactionAmt_mean', 'card3_TransactionAmt_std', 'card5_TransactionAmt_mean', 'card5_TransactionAmt_std', 'uid_TransactionAmt_mean', 'uid_TransactionAmt_std', 'uid2_TransactionAmt_mean', 'uid2_TransactionAmt_std', 'uid3_TransactionAmt_mean', 'uid3_TransactionAmt_std', 'card1_fq_enc', 'card2_fq_enc', 'card3_fq_enc', 'card5_fq_enc', 'C1_fq_enc', 'C2_fq_enc', 'C3_fq_enc', 'C4_fq_enc', 'C5_fq_enc', 'C6_fq_enc', 'C7_fq_enc', 'C8_fq_enc', 'C9_fq_enc', 'C10_fq_enc', 'C11_fq_enc', 'C12_fq_enc', 'C13_fq_enc', 'C14_fq_enc', 'D1_fq_enc', 'D2_fq_enc', 'D3_fq_enc', 'D4_fq_enc', 'D5_fq_enc', 'D6_fq_enc', 'D7_fq_enc', 'D8_fq_enc', 'addr1_fq_enc', 'addr2_fq_enc', 'dist1_fq_enc', 'dist2_fq_enc', 'P_emaildomain_fq_enc', 'R_emaildomain_fq_enc', 'DeviceInfo_fq_enc', 'id_30_fq_enc', 'version_id_30_fq_enc', 'version_id_31_fq_enc', 'id_33_fq_enc', 'uid_fq_enc', 'uid2_fq_enc', 'uid3_fq_enc', 'DT_M_total', 'DT_W_total', 'DT_D_total', 'card1_DT_M', 'card2_DT_M', 'card3_DT_M', 'card5_DT_M', 'uid_DT_M', 'uid2_DT_M', 'uid3_DT_M', 'card1_DT_W', 'card2_DT_W', 'card3_DT_W', 'card5_DT_W', 'uid_DT_W', 'uid2_DT_W', 'uid3_DT_W', 'card1_DT_D', 'card2_DT_D', 'card3_DT_D', 'card5_DT_D', 'uid_DT_D', 'uid2_DT_D', 'uid3_DT_D']\n"
   ]
  },
  {
   "cell_type": "code",
   "execution_count": null,
   "metadata": {
    "code_folding": [
     0
    ]
   },
   "outputs": [],
   "source": [
    "# unclassified_cols1 = [   'id_02_to_mean_card1', 'id_02_to_mean_card4', 'id_02_to_std_card1', 'id_02_to_std_card4', 'D15_to_mean_card1', 'D15_to_mean_card4', 'D15_to_std_card1', 'D15_to_std_card4', 'D15_to_mean_addr1', 'D15_to_std_addr1', 'TransactionAmt_to_mean_card1', 'TransactionAmt_to_mean_card4', 'TransactionAmt_to_std_card1', 'TransactionAmt_to_std_card4', 'TransactionAmt_decimal', 'nulls1', 'lastest_browser', 'device_name', 'device_version', 'OS_id_30', 'version_id_30', 'browser_id_31', 'version_id_31', 'screen_width', 'screen_height', 'had_id', 'TransactionAmt_Log', 'card1_count_full', 'Transaction_day_of_week', 'Transaction_hour', 'id_02__id_20', 'id_02__D8', 'D11__DeviceInfo', 'DeviceInfo__P_emaildomain', 'P_emaildomain__C2', 'card2__dist1', 'card1__card5', 'card2__id_20', 'card5__P_emaildomain', 'addr1__card1', 'id_01_count_dist', 'id_31_count_dist', 'id_33_count_dist', 'id_36_count_dist', 'card2_count_full', 'card3_count_full', 'card4_count_full', 'card5_count_full', 'card6_count_full', 'addr1_count_full', 'addr2_count_full', 'id_36_count_full', 'M_sum', 'M_na', 'ProductCD_target_mean', 'M4_target_mean', 'uid', 'uid2', 'uid3', 'card1_TransactionAmt_mean', 'card1_TransactionAmt_std', 'card2_TransactionAmt_mean', 'card2_TransactionAmt_std', 'card3_TransactionAmt_mean', 'card3_TransactionAmt_std', 'card5_TransactionAmt_mean', 'card5_TransactionAmt_std', 'uid_TransactionAmt_mean', 'uid_TransactionAmt_std', 'uid2_TransactionAmt_mean', 'uid2_TransactionAmt_std', 'uid3_TransactionAmt_mean', 'uid3_TransactionAmt_std', 'card1_fq_enc', 'card2_fq_enc', 'card3_fq_enc', 'card5_fq_enc', 'C1_fq_enc', 'C2_fq_enc', 'C3_fq_enc', 'C4_fq_enc', 'C5_fq_enc', 'C6_fq_enc', 'C7_fq_enc', 'C8_fq_enc', 'C9_fq_enc', 'C10_fq_enc', 'C11_fq_enc', 'C12_fq_enc', 'C13_fq_enc', 'C14_fq_enc', 'D1_fq_enc', 'D2_fq_enc', 'D3_fq_enc', 'D4_fq_enc', 'D5_fq_enc', 'D6_fq_enc', 'D7_fq_enc', 'D8_fq_enc', 'addr1_fq_enc', 'addr2_fq_enc', 'dist1_fq_enc', 'dist2_fq_enc', 'P_emaildomain_fq_enc', 'R_emaildomain_fq_enc', 'DeviceInfo_fq_enc', 'id_30_fq_enc', 'version_id_30_fq_enc', 'version_id_31_fq_enc', 'id_33_fq_enc', 'uid_fq_enc', 'uid2_fq_enc', 'uid3_fq_enc', 'DT_M_total', 'DT_W_total', 'DT_D_total', 'card1_DT_M', 'card2_DT_M', 'card3_DT_M', 'card5_DT_M', 'uid_DT_M', 'uid2_DT_M', 'uid3_DT_M', 'card1_DT_W', 'card2_DT_W', 'card3_DT_W', 'card5_DT_W', 'uid_DT_W', 'uid2_DT_W', 'uid3_DT_W', 'card1_DT_D', 'card2_DT_D', 'card3_DT_D', 'card5_DT_D', 'uid_DT_D', 'uid2_DT_D', 'uid3_DT_D']\n"
   ]
  },
  {
   "cell_type": "code",
   "execution_count": null,
   "metadata": {
    "code_folding": [
     0
    ]
   },
   "outputs": [],
   "source": [
    "# numerical_cols+=['TransactionDT', 'Weekdays', 'Hours', 'Days','DT_M', 'DT_W', 'DT_D','id_02_to_mean_card1', 'id_02_to_mean_card4', 'id_02_to_std_card1', 'id_02_to_std_card4', 'D15_to_mean_card1', 'D15_to_mean_card4', 'D15_to_std_card1', 'D15_to_std_card4', 'D15_to_mean_addr1', 'D15_to_std_addr1', 'TransactionAmt_to_mean_card1', 'TransactionAmt_to_mean_card4', 'TransactionAmt_to_std_card1', 'TransactionAmt_to_std_card4', 'TransactionAmt_decimal','nulls1','screen_width', 'screen_height','TransactionAmt_Log', 'card1_count_full',   'Transaction_day_of_week', 'Transaction_hour', 'id_01_count_dist', 'id_31_count_dist', 'id_33_count_dist', 'id_36_count_dist', 'card2_count_full', 'card3_count_full', 'card4_count_full', 'card5_count_full', 'card6_count_full', 'addr1_count_full', 'addr2_count_full', 'id_36_count_full', 'M_sum', 'M_na', 'ProductCD_target_mean', 'M4_target_mean',  'card1_TransactionAmt_mean', 'card1_TransactionAmt_std', 'card2_TransactionAmt_mean', 'card2_TransactionAmt_std', 'card3_TransactionAmt_mean', 'card3_TransactionAmt_std', 'card5_TransactionAmt_mean', 'card5_TransactionAmt_std', 'uid_TransactionAmt_mean', 'uid_TransactionAmt_std', 'uid2_TransactionAmt_mean', 'uid2_TransactionAmt_std', 'uid3_TransactionAmt_mean', 'uid3_TransactionAmt_std', 'card1_fq_enc', 'card2_fq_enc', 'card3_fq_enc', 'card5_fq_enc', 'C1_fq_enc', 'C2_fq_enc', 'C3_fq_enc', 'C4_fq_enc', 'C5_fq_enc', 'C6_fq_enc', 'C7_fq_enc', 'C8_fq_enc', 'C9_fq_enc', 'C10_fq_enc', 'C11_fq_enc', 'C12_fq_enc', 'C13_fq_enc', 'C14_fq_enc', 'D1_fq_enc', 'D2_fq_enc', 'D3_fq_enc', 'D4_fq_enc', 'D5_fq_enc', 'D6_fq_enc', 'D7_fq_enc', 'D8_fq_enc', 'addr1_fq_enc', 'addr2_fq_enc', 'dist1_fq_enc', 'dist2_fq_enc', 'P_emaildomain_fq_enc', 'R_emaildomain_fq_enc', 'DeviceInfo_fq_enc', 'id_30_fq_enc', 'version_id_30_fq_enc', 'version_id_31_fq_enc', 'id_33_fq_enc', 'uid_fq_enc', 'uid2_fq_enc', 'uid3_fq_enc', 'DT_M_total', 'DT_W_total', 'DT_D_total', 'card1_DT_M', 'card2_DT_M', 'card3_DT_M', 'card5_DT_M', 'uid_DT_M', 'uid2_DT_M', 'uid3_DT_M', 'card1_DT_W', 'card2_DT_W', 'card3_DT_W', 'card5_DT_W', 'uid_DT_W', 'uid2_DT_W', 'uid3_DT_W', 'card1_DT_D', 'card2_DT_D', 'card3_DT_D', 'card5_DT_D', 'uid_DT_D', 'uid2_DT_D', 'uid3_DT_D']\n",
    "# label_cols+=['isNight','lastest_browser', 'device_name', 'device_version', 'OS_id_30', 'version_id_30', 'browser_id_31', 'version_id_31', 'had_id', 'id_02__id_20', 'id_02__D8', 'D11__DeviceInfo', 'DeviceInfo__P_emaildomain', 'P_emaildomain__C2', 'card2__dist1', 'card1__card5', 'card2__id_20', 'card5__P_emaildomain', 'addr1__card1','uid', 'uid2', 'uid3']\n",
    "# strange_cols = ['Transaction_day_of_week', 'Transaction_hour']"
   ]
  },
  {
   "cell_type": "markdown",
   "metadata": {},
   "source": [
    "## Pipeline 3: Add temporal aggregates (merged)"
   ]
  },
  {
   "cell_type": "code",
   "execution_count": null,
   "metadata": {
    "ExecuteTime": {
     "end_time": "2019-09-19T18:47:26.926607Z",
     "start_time": "2019-09-19T18:43:32.922628Z"
    }
   },
   "outputs": [],
   "source": [
    "data_dir =f'{main_dir}/Snapshots/1/99'\n",
    "\n",
    "p = Pipeline(working_folder=f'{main_dir}/Snapshots/1/04-Temporal')\n",
    "\n",
    "p.add_node(LoaderNode, None, 'data',\n",
    "           params={\n",
    "               'input_directory': data_dir,\n",
    "               'file': 'data.pkl'\n",
    "           })\n",
    "p.add_node(LoaderNode, None, 'numerical_columns',\n",
    "           params={\n",
    "               'input_directory': data_dir,\n",
    "               'file': 'numerical_columns.yaml'\n",
    "           })\n",
    "p.add_node(LoaderNode, None, 'categorical_columns',\n",
    "           params={\n",
    "               'input_directory': data_dir,\n",
    "               'file': 'categorical_columns.yaml'\n",
    "           })\n",
    "\n",
    "p.add_node(AddTemporalAggregates, input_key=('data', 'numerical_columns', 'categorical_columns'),\n",
    "           params={\n",
    "               'features':['TransactionAmt']\n",
    "           }\n",
    "          )\n",
    "p.save()\n",
    "p.run(verbose=True)\n",
    "p.save_data()"
   ]
  },
  {
   "cell_type": "markdown",
   "metadata": {},
   "source": [
    "## Encode categorial features"
   ]
  },
  {
   "cell_type": "code",
   "execution_count": null,
   "metadata": {
    "ExecuteTime": {
     "end_time": "2019-09-21T16:54:20.416427Z",
     "start_time": "2019-09-21T16:52:05.168804Z"
    }
   },
   "outputs": [],
   "source": [
    "data_dir =f'{main_dir}/Snapshots/1/99'\n",
    "\n",
    "p = Pipeline(working_folder=f'{main_dir}/Snapshots/1/05-LabelEncoded')\n",
    "\n",
    "p.add_node(LoaderNode, None, 'data',\n",
    "           params={\n",
    "               'input_directory': data_dir,\n",
    "               'file': 'data.pkl'\n",
    "           })\n",
    "p.add_node(LoaderNode, None, 'numerical_columns',\n",
    "           params={\n",
    "               'input_directory': data_dir,\n",
    "               'file': 'numerical_columns.yaml'\n",
    "           })\n",
    "p.add_node(LoaderNode, None, 'categorical_columns',\n",
    "           params={\n",
    "               'input_directory': data_dir,\n",
    "               'file': 'categorical_columns.yaml'\n",
    "           })\n",
    "\n",
    "p.add_node(LabelEncoderNode, input_key=('data', 'numerical_columns', 'categorical_columns'),\n",
    "           output_key=\"label_encoded_data\"\n",
    "          )\n",
    "p.add_node(EraserNode, params={\n",
    "    'remove_keys': ['data']\n",
    "})\n",
    "p.save()\n",
    "p.run(verbose=True)\n",
    "p.save_data()"
   ]
  },
  {
   "cell_type": "code",
   "execution_count": null,
   "metadata": {
    "ExecuteTime": {
     "end_time": "2019-09-21T17:02:07.361281Z",
     "start_time": "2019-09-21T17:01:22.043791Z"
    }
   },
   "outputs": [],
   "source": [
    "p.save_data()"
   ]
  }
 ],
 "metadata": {
  "kernelspec": {
   "display_name": "Python 3",
   "language": "python",
   "name": "python3"
  },
  "language_info": {
   "codemirror_mode": {
    "name": "ipython",
    "version": 3
   },
   "file_extension": ".py",
   "mimetype": "text/x-python",
   "name": "python",
   "nbconvert_exporter": "python",
   "pygments_lexer": "ipython3",
   "version": "3.6.5"
  },
  "toc": {
   "base_numbering": 1,
   "nav_menu": {},
   "number_sections": true,
   "sideBar": true,
   "skip_h1_title": false,
   "title_cell": "Table of Contents",
   "title_sidebar": "Contents",
   "toc_cell": false,
   "toc_position": {},
   "toc_section_display": true,
   "toc_window_display": false
  },
  "varInspector": {
   "cols": {
    "lenName": 16,
    "lenType": 16,
    "lenVar": 40
   },
   "kernels_config": {
    "python": {
     "delete_cmd_postfix": "",
     "delete_cmd_prefix": "del ",
     "library": "var_list.py",
     "varRefreshCmd": "print(var_dic_list())"
    },
    "r": {
     "delete_cmd_postfix": ") ",
     "delete_cmd_prefix": "rm(",
     "library": "var_list.r",
     "varRefreshCmd": "cat(var_dic_list()) "
    }
   },
   "position": {
    "height": "706px",
    "left": "1005px",
    "right": "20px",
    "top": "132px",
    "width": "350px"
   },
   "types_to_exclude": [
    "module",
    "function",
    "builtin_function_or_method",
    "instance",
    "_Feature"
   ],
   "window_display": false
  }
 },
 "nbformat": 4,
 "nbformat_minor": 2
}
