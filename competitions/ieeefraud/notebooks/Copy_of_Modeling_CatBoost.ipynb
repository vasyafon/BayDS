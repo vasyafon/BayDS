{
 "cells": [
  {
   "cell_type": "markdown",
   "metadata": {
    "colab_type": "text",
    "id": "view-in-github"
   },
   "source": [
    "<a href=\"https://colab.research.google.com/github/vasyafon/BayDS/blob/master/Copy_of_Modeling_CatBoost.ipynb\" target=\"_parent\"><img src=\"https://colab.research.google.com/assets/colab-badge.svg\" alt=\"Open In Colab\"/></a>"
   ]
  },
  {
   "cell_type": "code",
   "execution_count": 0,
   "metadata": {
    "colab": {},
    "colab_type": "code",
    "id": "dolmWv41lh5x"
   },
   "outputs": [],
   "source": []
  },
  {
   "cell_type": "code",
   "execution_count": 1,
   "metadata": {
    "ExecuteTime": {
     "end_time": "2019-09-03T19:54:17.083790Z",
     "start_time": "2019-09-03T19:54:13.426679Z"
    },
    "colab": {
     "base_uri": "https://localhost:8080/",
     "height": 51
    },
    "colab_type": "code",
    "id": "Hv_N0TjTlgtq",
    "outputId": "d460cfe3-5e38-4e99-de5d-c72529e4e750"
   },
   "outputs": [],
   "source": [
    "%load_ext autoreload\n",
    "%autoreload 2\n",
    "\n",
    "import numpy as np\n",
    "import pandas as pd\n",
    "import os\n",
    "\n",
    "import matplotlib.pyplot as plt\n",
    "%matplotlib inline\n",
    "from tqdm import tqdm_notebook\n",
    "from sklearn.preprocessing import StandardScaler\n",
    "from sklearn.svm import NuSVR, SVR\n",
    "from sklearn.metrics import mean_absolute_error\n",
    "pd.options.display.precision = 15\n",
    "\n",
    "import lightgbm as lgb\n",
    "import xgboost as xgb\n",
    "import time\n",
    "import datetime\n",
    "from catboost import CatBoostRegressor\n",
    "from sklearn.preprocessing import LabelEncoder\n",
    "from sklearn.model_selection import StratifiedKFold, KFold, RepeatedKFold, GroupKFold, GridSearchCV, train_test_split, TimeSeriesSplit\n",
    "from sklearn import metrics\n",
    "from sklearn import linear_model\n",
    "import gc\n",
    "import seaborn as sns\n",
    "import warnings\n",
    "warnings.filterwarnings(\"ignore\")\n",
    "\n",
    "import matplotlib.pyplot as plt\n",
    "%matplotlib inline\n",
    "\n"
   ]
  },
  {
   "cell_type": "code",
   "execution_count": 4,
   "metadata": {
    "ExecuteTime": {
     "end_time": "2019-09-03T19:54:29.250675Z",
     "start_time": "2019-09-03T19:54:29.143656Z"
    },
    "colab": {},
    "colab_type": "code",
    "id": "cpWvZtbqlgtx"
   },
   "outputs": [],
   "source": [
    "main_path = r'../../'"
   ]
  },
  {
   "cell_type": "code",
   "execution_count": 5,
   "metadata": {
    "ExecuteTime": {
     "end_time": "2019-09-03T19:54:33.710715Z",
     "start_time": "2019-09-03T19:54:30.605629Z"
    },
    "colab": {
     "base_uri": "https://localhost:8080/",
     "height": 34
    },
    "colab_type": "code",
    "id": "ifZoL8Txlgt0",
    "outputId": "37fffb63-ab8e-48ff-b8e5-70c1974059dd"
   },
   "outputs": [
    {
     "name": "stderr",
     "output_type": "stream",
     "text": [
      "Using TensorFlow backend.\n"
     ]
    }
   ],
   "source": [
    "import sys\n",
    "sys.path.append(main_path)\n",
    "from BayDS import *"
   ]
  },
  {
   "cell_type": "code",
   "execution_count": 6,
   "metadata": {
    "ExecuteTime": {
     "end_time": "2019-09-03T19:54:34.463643Z",
     "start_time": "2019-09-03T19:54:34.226646Z"
    },
    "colab": {},
    "colab_type": "code",
    "id": "fuekcPmPlgt2"
   },
   "outputs": [],
   "source": [
    "experiment_name = 'cat_boost_1'\n",
    "main_learning_folder = main_path+'/Snapshots/'+experiment_name\n"
   ]
  },
  {
   "cell_type": "code",
   "execution_count": 8,
   "metadata": {
    "ExecuteTime": {
     "end_time": "2019-09-03T20:00:27.489865Z",
     "start_time": "2019-09-03T20:00:23.850792Z"
    },
    "colab": {},
    "colab_type": "code",
    "id": "KLJiWsd3lgt4"
   },
   "outputs": [],
   "source": [
    "train = pd.read_pickle(f'{main_path}/Data/train_09457_with_additions.pkl')\n",
    "test = pd.read_pickle(f'{main_path}/Data/test_09457_with_additions.pkl')\n"
   ]
  },
  {
   "cell_type": "code",
   "execution_count": 9,
   "metadata": {
    "ExecuteTime": {
     "end_time": "2019-09-03T20:00:52.755860Z",
     "start_time": "2019-09-03T20:00:30.277710Z"
    },
    "colab": {
     "base_uri": "https://localhost:8080/",
     "height": 34
    },
    "colab_type": "code",
    "id": "-ftaHuGSlgt7",
    "outputId": "65741517-8bf2-48b9-9825-08a4847f6040"
   },
   "outputs": [
    {
     "data": {
      "text/plain": [
       "48"
      ]
     },
     "execution_count": 9,
     "metadata": {},
     "output_type": "execute_result"
    }
   ],
   "source": [
    "X = train.sort_values('TransactionDT').drop(['isFraud', 'TransactionDT'], axis=1)\n",
    "y = train.sort_values('TransactionDT')['isFraud'].astype(np.uint8)\n",
    "test = test.sort_values('TransactionDT').drop(['TransactionDT'], axis=1)\n",
    "\n",
    "X.drop('Date', axis=1, inplace=True)\n",
    "X=X.astype(np.float32)\n",
    "test.drop('Date', axis=1, inplace=True)\n",
    "test=test.astype(np.float32)\n",
    "del train\n",
    "gc.collect()"
   ]
  },
  {
   "cell_type": "code",
   "execution_count": 10,
   "metadata": {
    "ExecuteTime": {
     "end_time": "2019-09-03T20:00:53.780855Z",
     "start_time": "2019-09-03T20:00:53.540846Z"
    },
    "colab": {},
    "colab_type": "code",
    "id": "dl3xfh1zlgt_"
   },
   "outputs": [],
   "source": [
    "# Setting model_folder\n",
    "model_name = 'catboost-test'\n",
    "model_folder = f'{main_learning_folder}/{model_name}'\n",
    "if not os.path.exists(model_folder):\n",
    "    os.makedirs(model_folder)"
   ]
  },
  {
   "cell_type": "code",
   "execution_count": 11,
   "metadata": {
    "ExecuteTime": {
     "end_time": "2019-09-03T20:00:54.716856Z",
     "start_time": "2019-09-03T20:00:54.487846Z"
    },
    "colab": {},
    "colab_type": "code",
    "id": "2Gme0dbklguB"
   },
   "outputs": [],
   "source": [
    "n_fold = 5\n",
    "# folds = TimeSeriesSplit(n_splits=n_fold)\n",
    "folds = KFold(n_splits=n_fold)\n",
    "# folds = GroupKFold(n_splits=5)\n",
    "# groups = pd.read_pickle('./groups.pkl').values"
   ]
  },
  {
   "cell_type": "code",
   "execution_count": 15,
   "metadata": {
    "ExecuteTime": {
     "end_time": "2019-09-03T20:01:14.055656Z",
     "start_time": "2019-09-03T20:01:13.781656Z"
    },
    "colab": {},
    "colab_type": "code",
    "id": "yZx59hlZlguD"
   },
   "outputs": [],
   "source": [
    "params = {\n",
    "          'grow_policy':'Lossguide',\n",
    "           'max_leaves':256,\n",
    "           'od_type':'Iter',\n",
    "#            'num_leaves': 256,\n",
    "          'od_wait':200, \n",
    "#           'is_unbalance':True,\n",
    "#           'feature_fraction':0.8,\n",
    "          'max_leaves':256,\n",
    "#           'verbosity':1,\n",
    "#           'min_data_in_leaf': 106,\n",
    "          'objective': 'Logloss',\n",
    "          'learning_rate': 0.01,\n",
    "#           'loss_function':'Logloss',\n",
    "          'use_best_model':True,\n",
    "          \"logging_level\": 'Verbose',\n",
    "          'random_state': 47,\n",
    "#           'bootstrap_type': 'Bayesian',\n",
    "          'task_type': 'GPU',\n",
    "         }\n",
    "train_options = {\n",
    "    \"model_type\":'cat',\n",
    "    \"params\": params,\n",
    "    'early_stopping_rounds': 200,\n",
    "    'n_estimators': 3000,\n",
    "    'averaging': 'usual',\n",
    "    'use_groups': False,\n",
    "    'fold_name': folds.__class__.__name__,\n",
    "    'n_splits': n_fold\n",
    "    \n",
    "}"
   ]
  },
  {
   "cell_type": "code",
   "execution_count": 16,
   "metadata": {
    "ExecuteTime": {
     "end_time": "2019-09-03T20:01:16.453031Z",
     "start_time": "2019-09-03T20:01:16.214994Z"
    },
    "colab": {},
    "colab_type": "code",
    "id": "-Nx1Gn8IlguG"
   },
   "outputs": [],
   "source": [
    "import json\n",
    "with open(f'{model_folder}/training_params.json', 'w') as f:\n",
    "    q = json.dumps(train_options,indent=2)\n",
    "    f.write(q)"
   ]
  },
  {
   "cell_type": "code",
   "execution_count": 17,
   "metadata": {
    "ExecuteTime": {
     "end_time": "2019-09-03T20:26:07.116395Z",
     "start_time": "2019-09-03T20:01:17.548620Z"
    },
    "colab": {
     "base_uri": "https://localhost:8080/",
     "height": 462
    },
    "colab_type": "code",
    "id": "pEDtLYOElguI",
    "outputId": "07149712-a417-4c48-8d3a-7715f2957ba5"
   },
   "outputs": [
    {
     "name": "stdout",
     "output_type": "stream",
     "text": [
      "187\n",
      "Fold 1 started at Tue Sep  3 23:01:18 2019\n",
      "Fold 2 started at Tue Sep  3 23:06:18 2019\n",
      "Fold 3 started at Tue Sep  3 23:10:40 2019\n",
      "Fold 4 started at Tue Sep  3 23:15:35 2019\n",
      "Fold 5 started at Tue Sep  3 23:20:33 2019\n",
      "CV mean score: 0.6757, std: 0.0060.\n"
     ]
    }
   ],
   "source": [
    "print(gc.collect())\n",
    "result_dict_lgb = train_model_classification(X=X, X_test=test, y=y, params=params, folds=folds,\n",
    "                                             model_type=train_options['model_type'], \n",
    "                                             plot_feature_importance=True,\n",
    "                                             verbose=500, early_stopping_rounds=train_options['early_stopping_rounds'],\n",
    "                                             n_estimators=train_options['n_estimators'], \n",
    "                                             averaging=train_options['averaging'],\n",
    "                                             n_jobs=-1, groups=None)"
   ]
  },
  {
   "cell_type": "code",
   "execution_count": 18,
   "metadata": {
    "ExecuteTime": {
     "end_time": "2019-09-03T20:26:08.355481Z",
     "start_time": "2019-09-03T20:26:08.101402Z"
    },
    "colab": {},
    "colab_type": "code",
    "id": "m7QiG2XHlguM"
   },
   "outputs": [],
   "source": [
    "import pickle\n",
    "with open(f'{model_folder}/results_dict.pkl', 'wb') as f:\n",
    "#     q = json.dumps(result_dict_lgb,indent=2)\n",
    "    pickle.dump(result_dict_lgb,f)\n",
    "#     f.write(q)"
   ]
  }
 ],
 "metadata": {
  "colab": {
   "include_colab_link": true,
   "name": "Copy of Modeling-CatBoost.ipynb",
   "provenance": [],
   "version": "0.3.2"
  },
  "kernelspec": {
   "display_name": "Python 3",
   "language": "python",
   "name": "python3"
  },
  "language_info": {
   "codemirror_mode": {
    "name": "ipython",
    "version": 3
   },
   "file_extension": ".py",
   "mimetype": "text/x-python",
   "name": "python",
   "nbconvert_exporter": "python",
   "pygments_lexer": "ipython3",
   "version": "3.6.5"
  },
  "toc": {
   "base_numbering": 1,
   "nav_menu": {},
   "number_sections": true,
   "sideBar": true,
   "skip_h1_title": false,
   "title_cell": "Table of Contents",
   "title_sidebar": "Contents",
   "toc_cell": false,
   "toc_position": {},
   "toc_section_display": true,
   "toc_window_display": false
  },
  "varInspector": {
   "cols": {
    "lenName": 16,
    "lenType": 16,
    "lenVar": 40
   },
   "kernels_config": {
    "python": {
     "delete_cmd_postfix": "",
     "delete_cmd_prefix": "del ",
     "library": "var_list.py",
     "varRefreshCmd": "print(var_dic_list())"
    },
    "r": {
     "delete_cmd_postfix": ") ",
     "delete_cmd_prefix": "rm(",
     "library": "var_list.r",
     "varRefreshCmd": "cat(var_dic_list()) "
    }
   },
   "position": {
    "height": "754px",
    "left": "1522px",
    "right": "20px",
    "top": "120px",
    "width": "344px"
   },
   "types_to_exclude": [
    "module",
    "function",
    "builtin_function_or_method",
    "instance",
    "_Feature"
   ],
   "window_display": true
  }
 },
 "nbformat": 4,
 "nbformat_minor": 1
}
