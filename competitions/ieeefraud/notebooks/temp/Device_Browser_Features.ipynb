{
 "cells": [
  {
   "cell_type": "markdown",
   "metadata": {},
   "source": [
    "# Analyze devices and browsers\n",
    "\n"
   ]
  },
  {
   "cell_type": "code",
   "execution_count": 2,
   "metadata": {
    "ExecuteTime": {
     "end_time": "2019-08-14T17:50:12.816630Z",
     "start_time": "2019-08-14T17:50:11.838629Z"
    }
   },
   "outputs": [],
   "source": [
    "import numpy as np\n",
    "import pandas as pd\n",
    "import os\n",
    "import pickle\n",
    "\n",
    "import matplotlib.pyplot as plt\n",
    "%matplotlib inline\n",
    "from tqdm import tqdm_notebook\n",
    "from sklearn.preprocessing import StandardScaler\n",
    "from sklearn.svm import NuSVR, SVR\n",
    "from sklearn.metrics import mean_absolute_error\n",
    "pd.options.display.precision = 15\n",
    "\n",
    "from sklearn.preprocessing import minmax_scale\n",
    "from sklearn.decomposition import PCA\n",
    "from sklearn.cluster import KMeans\n",
    "from scipy.spatial.distance import cdist, pdist\n",
    "\n",
    "import lightgbm as lgb\n",
    "import xgboost as xgb\n",
    "import time\n",
    "import datetime\n",
    "from catboost import CatBoostRegressor\n",
    "from sklearn.preprocessing import LabelEncoder, OneHotEncoder\n",
    "from sklearn.model_selection import StratifiedKFold, KFold, RepeatedKFold, GroupKFold, GridSearchCV, train_test_split, TimeSeriesSplit\n",
    "from sklearn import metrics\n",
    "from sklearn import linear_model\n",
    "import gc\n",
    "import seaborn as sns\n",
    "import warnings\n",
    "warnings.filterwarnings(\"ignore\")\n",
    "\n",
    "import eli5\n",
    "import shap\n",
    "from IPython.display import HTML\n",
    "import json\n",
    "import altair as alt\n",
    "\n",
    "import networkx as nx\n",
    "import matplotlib.pyplot as plt\n",
    "%matplotlib inline\n",
    "\n",
    "# alt.renderers.enable('notebook')"
   ]
  },
  {
   "cell_type": "code",
   "execution_count": 90,
   "metadata": {
    "ExecuteTime": {
     "end_time": "2019-08-12T17:36:59.864933Z",
     "start_time": "2019-08-12T17:36:58.856938Z"
    }
   },
   "outputs": [],
   "source": [
    "folder_path = './data/'\n",
    "files = [f'{folder_path}train_identity.csv', \n",
    "         f'{folder_path}test_identity.csv']\n",
    "\n",
    "from functions import load_data\n",
    "train_identity,  test_identity = map(load_data, files)\n",
    "\n",
    "train_identity.drop(['id_%02d'%i for i in list(range(1,30)) + list(range(34,39))+[32]],axis=1,inplace=True)\n",
    "test_identity.drop(['id_%02d'%i for i in list(range(1,30)) + list(range(34,39))+[32]],axis=1,inplace=True)\n",
    "\n",
    "data = pd.concat([train_identity, test_identity], axis=0, sort=False )\n",
    "data.set_index('TransactionID',inplace=True)\n",
    "\n",
    "del train_identity\n",
    "del test_identity"
   ]
  },
  {
   "cell_type": "code",
   "execution_count": 91,
   "metadata": {
    "ExecuteTime": {
     "end_time": "2019-08-12T17:36:59.871938Z",
     "start_time": "2019-08-12T17:36:59.865936Z"
    }
   },
   "outputs": [],
   "source": [
    "data['OS'] = np.NaN\n",
    "data['OSVersion'] = np.NaN"
   ]
  },
  {
   "cell_type": "code",
   "execution_count": 92,
   "metadata": {
    "ExecuteTime": {
     "end_time": "2019-08-12T17:36:59.902934Z",
     "start_time": "2019-08-12T17:36:59.873934Z"
    }
   },
   "outputs": [
    {
     "data": {
      "text/plain": [
       "Windows 10          42170\n",
       "Windows 7           23478\n",
       "iOS 12.1.0           6349\n",
       "Mac OS X 10_12_6     3884\n",
       "iOS 11.2.1           3824\n",
       "                    ...  \n",
       "Mac OS X 10_12_2       51\n",
       "Mac OS X 10_6_8        50\n",
       "func                   21\n",
       "other                  19\n",
       "Windows                 6\n",
       "Name: id_30, Length: 87, dtype: int64"
      ]
     },
     "execution_count": 92,
     "metadata": {},
     "output_type": "execute_result"
    }
   ],
   "source": [
    "data['id_30'].value_counts()"
   ]
  },
  {
   "cell_type": "code",
   "execution_count": 93,
   "metadata": {
    "ExecuteTime": {
     "end_time": "2019-08-12T17:36:59.933933Z",
     "start_time": "2019-08-12T17:36:59.904934Z"
    }
   },
   "outputs": [],
   "source": [
    "def create_dev_map_dict():\n",
    "    import re\n",
    "    vc = data['id_30'].value_counts()\n",
    "    id_30_to_OS = {}\n",
    "    id_30_to_OSVersion = {}\n",
    "    for s in vc.index:\n",
    "        M = re.match(r'Windows\\s+(\\S+)',s)\n",
    "        if M is not None:\n",
    "            id_30_to_OS[s] = 'Windows'\n",
    "            id_30_to_OSVersion[s] = M.groups()[0]\n",
    "            continue\n",
    "        M = re.match(r'iOS\\s+(\\S+)',s)\n",
    "        if M is not None:\n",
    "            id_30_to_OS[s] = 'iOS'\n",
    "            id_30_to_OSVersion[s] = M.groups()[0]\n",
    "            continue\n",
    "        M = re.match(r'Mac OS X\\s+(\\S+)',s)\n",
    "        if M is not None:\n",
    "            id_30_to_OS[s] = 'Mac'\n",
    "            id_30_to_OSVersion[s] = M.groups()[0]\n",
    "            continue   \n",
    "        M = re.match(r'Android\\s+(\\S+)',s)\n",
    "        if M is not None:\n",
    "            id_30_to_OS[s] = 'Android '\n",
    "            id_30_to_OSVersion[s] = M.groups()[0]\n",
    "            continue         \n",
    "        id_30_to_OS[s] = s\n",
    "    \n",
    "    return id_30_to_OS, id_30_to_OSVersion\n",
    "\n",
    "id_30_to_OS, id_30_to_OSVersion = create_dev_map_dict()\n"
   ]
  },
  {
   "cell_type": "code",
   "execution_count": 94,
   "metadata": {
    "ExecuteTime": {
     "end_time": "2019-08-12T17:37:00.735933Z",
     "start_time": "2019-08-12T17:36:59.935934Z"
    }
   },
   "outputs": [],
   "source": [
    "found_index = data.loc[data['id_30'].isin(id_30_to_OS.keys())].index\n",
    "data.loc[found_index,'OS'] = data.loc[found_index]['id_30'].replace(id_30_to_OS)\n",
    "data.loc[found_index,'OSVersion'] = data.loc[found_index]['id_30'].replace(id_30_to_OSVersion)"
   ]
  },
  {
   "cell_type": "code",
   "execution_count": 95,
   "metadata": {
    "ExecuteTime": {
     "end_time": "2019-08-12T17:37:00.747935Z",
     "start_time": "2019-08-12T17:37:00.736934Z"
    }
   },
   "outputs": [
    {
     "data": {
      "text/html": [
       "<div>\n",
       "<style scoped>\n",
       "    .dataframe tbody tr th:only-of-type {\n",
       "        vertical-align: middle;\n",
       "    }\n",
       "\n",
       "    .dataframe tbody tr th {\n",
       "        vertical-align: top;\n",
       "    }\n",
       "\n",
       "    .dataframe thead th {\n",
       "        text-align: right;\n",
       "    }\n",
       "</style>\n",
       "<table border=\"1\" class=\"dataframe\">\n",
       "  <thead>\n",
       "    <tr style=\"text-align: right;\">\n",
       "      <th></th>\n",
       "      <th>id_30</th>\n",
       "      <th>id_31</th>\n",
       "      <th>id_33</th>\n",
       "      <th>DeviceType</th>\n",
       "      <th>DeviceInfo</th>\n",
       "      <th>OS</th>\n",
       "      <th>OSVersion</th>\n",
       "    </tr>\n",
       "    <tr>\n",
       "      <th>TransactionID</th>\n",
       "      <th></th>\n",
       "      <th></th>\n",
       "      <th></th>\n",
       "      <th></th>\n",
       "      <th></th>\n",
       "      <th></th>\n",
       "      <th></th>\n",
       "    </tr>\n",
       "  </thead>\n",
       "  <tbody>\n",
       "    <tr>\n",
       "      <th>2987004</th>\n",
       "      <td>Android 7.0</td>\n",
       "      <td>samsung browser 6.2</td>\n",
       "      <td>2220x1080</td>\n",
       "      <td>mobile</td>\n",
       "      <td>SAMSUNG SM-G892A Build/NRD90M</td>\n",
       "      <td>Android</td>\n",
       "      <td>7.0</td>\n",
       "    </tr>\n",
       "    <tr>\n",
       "      <th>2987008</th>\n",
       "      <td>iOS 11.1.2</td>\n",
       "      <td>mobile safari 11.0</td>\n",
       "      <td>1334x750</td>\n",
       "      <td>mobile</td>\n",
       "      <td>iOS Device</td>\n",
       "      <td>iOS</td>\n",
       "      <td>11.1.2</td>\n",
       "    </tr>\n",
       "    <tr>\n",
       "      <th>2987010</th>\n",
       "      <td>NaN</td>\n",
       "      <td>chrome 62.0</td>\n",
       "      <td>NaN</td>\n",
       "      <td>desktop</td>\n",
       "      <td>Windows</td>\n",
       "      <td>NaN</td>\n",
       "      <td>NaN</td>\n",
       "    </tr>\n",
       "    <tr>\n",
       "      <th>2987011</th>\n",
       "      <td>NaN</td>\n",
       "      <td>chrome 62.0</td>\n",
       "      <td>NaN</td>\n",
       "      <td>desktop</td>\n",
       "      <td>NaN</td>\n",
       "      <td>NaN</td>\n",
       "      <td>NaN</td>\n",
       "    </tr>\n",
       "    <tr>\n",
       "      <th>2987016</th>\n",
       "      <td>Mac OS X 10_11_6</td>\n",
       "      <td>chrome 62.0</td>\n",
       "      <td>1280x800</td>\n",
       "      <td>desktop</td>\n",
       "      <td>MacOS</td>\n",
       "      <td>Mac</td>\n",
       "      <td>10_11_6</td>\n",
       "    </tr>\n",
       "  </tbody>\n",
       "</table>\n",
       "</div>"
      ],
      "text/plain": [
       "                          id_30                id_31      id_33 DeviceType  \\\n",
       "TransactionID                                                                \n",
       "2987004             Android 7.0  samsung browser 6.2  2220x1080     mobile   \n",
       "2987008              iOS 11.1.2   mobile safari 11.0   1334x750     mobile   \n",
       "2987010                     NaN          chrome 62.0        NaN    desktop   \n",
       "2987011                     NaN          chrome 62.0        NaN    desktop   \n",
       "2987016        Mac OS X 10_11_6          chrome 62.0   1280x800    desktop   \n",
       "\n",
       "                                  DeviceInfo        OS OSVersion  \n",
       "TransactionID                                                     \n",
       "2987004        SAMSUNG SM-G892A Build/NRD90M  Android        7.0  \n",
       "2987008                           iOS Device       iOS    11.1.2  \n",
       "2987010                              Windows       NaN       NaN  \n",
       "2987011                                  NaN       NaN       NaN  \n",
       "2987016                                MacOS       Mac   10_11_6  "
      ]
     },
     "execution_count": 95,
     "metadata": {},
     "output_type": "execute_result"
    }
   ],
   "source": [
    "data.head()"
   ]
  },
  {
   "cell_type": "code",
   "execution_count": 96,
   "metadata": {
    "ExecuteTime": {
     "end_time": "2019-08-12T17:37:02.564933Z",
     "start_time": "2019-08-12T17:37:00.749937Z"
    }
   },
   "outputs": [],
   "source": [
    "data['screen_width'] = data['id_33'].str.split('x', expand=True)[0]\n",
    "data['screen_height'] = data['id_33'].str.split('x', expand=True)[1]"
   ]
  },
  {
   "cell_type": "code",
   "execution_count": 97,
   "metadata": {
    "ExecuteTime": {
     "end_time": "2019-08-12T17:37:08.282935Z",
     "start_time": "2019-08-12T17:37:02.565934Z"
    }
   },
   "outputs": [],
   "source": [
    "data['device_name'] = data['DeviceInfo'].str.split('/', expand=True)[0]\n",
    "data['device_version'] = data['DeviceInfo'].str.split('/', expand=True)[1]\n",
    "    \n",
    "data.loc[data['device_name'].str.contains('SM', na=False), 'device_name'] = 'Samsung'\n",
    "data.loc[data['device_name'].str.contains('SAMSUNG', na=False), 'device_name'] = 'Samsung'\n",
    "data.loc[data['device_name'].str.contains('GT-', na=False), 'device_name'] = 'Samsung'\n",
    "data.loc[data['device_name'].str.contains('Moto G', na=False), 'device_name'] = 'Motorola'\n",
    "data.loc[data['device_name'].str.contains('Moto', na=False), 'device_name'] = 'Motorola'\n",
    "data.loc[data['device_name'].str.contains('moto', na=False), 'device_name'] = 'Motorola'\n",
    "data.loc[data['device_name'].str.contains('LG-', na=False), 'device_name'] = 'LG'\n",
    "data.loc[data['device_name'].str.contains('rv:', na=False), 'device_name'] = 'RV'\n",
    "data.loc[data['device_name'].str.contains('HUAWEI', na=False), 'device_name'] = 'Huawei'\n",
    "data.loc[data['device_name'].str.contains('ALE-', na=False), 'device_name'] = 'Huawei'\n",
    "data.loc[data['device_name'].str.contains('-L', na=False), 'device_name'] = 'Huawei'\n",
    "data.loc[data['device_name'].str.contains('Blade', na=False), 'device_name'] = 'ZTE'\n",
    "data.loc[data['device_name'].str.contains('BLADE', na=False), 'device_name'] = 'ZTE'\n",
    "data.loc[data['device_name'].str.contains('Linux', na=False), 'device_name'] = 'Linux'\n",
    "data.loc[data['device_name'].str.contains('XT', na=False), 'device_name'] = 'Sony'\n",
    "data.loc[data['device_name'].str.contains('HTC', na=False), 'device_name'] = 'HTC'\n",
    "data.loc[data['device_name'].str.contains('ASUS', na=False), 'device_name'] = 'Asus'\n",
    "data.loc[data.device_name.isin(data.device_name.value_counts()[data.device_name.value_counts() < 200].index), 'device_name'] = \"Others\"\n"
   ]
  },
  {
   "cell_type": "code",
   "execution_count": 99,
   "metadata": {
    "ExecuteTime": {
     "end_time": "2019-08-12T17:38:12.152685Z",
     "start_time": "2019-08-12T17:38:12.149684Z"
    }
   },
   "outputs": [],
   "source": [
    "cols = ['OS','OSVersion',\t'screen_width',\t'screen_height'\t,'device_name',\t'device_version']"
   ]
  },
  {
   "cell_type": "code",
   "execution_count": 100,
   "metadata": {
    "ExecuteTime": {
     "end_time": "2019-08-12T17:38:14.014726Z",
     "start_time": "2019-08-12T17:38:13.791727Z"
    }
   },
   "outputs": [],
   "source": [
    "with pd.HDFStore('./hdf/Store.h5') as store:\n",
    "    for col in cols:\n",
    "        store[f'features/{col}'] = data[col]"
   ]
  },
  {
   "cell_type": "code",
   "execution_count": 18,
   "metadata": {
    "ExecuteTime": {
     "end_time": "2019-08-12T16:42:21.250394Z",
     "start_time": "2019-08-12T16:42:21.223392Z"
    }
   },
   "outputs": [
    {
     "data": {
      "text/plain": [
       "mobile safari 11.0     23655\n",
       "chrome 63.0            22168\n",
       "chrome 70.0            16054\n",
       "ie 11.0 for desktop    14203\n",
       "mobile safari 12.0     13098\n",
       "                       ...  \n",
       "Nokia/Lumia                1\n",
       "rim                        1\n",
       "seamonkey                  1\n",
       "iron                       1\n",
       "Cherry                     1\n",
       "Name: id_31, Length: 172, dtype: int64"
      ]
     },
     "execution_count": 18,
     "metadata": {},
     "output_type": "execute_result"
    }
   ],
   "source": [
    "data['id_31'].value_counts()"
   ]
  },
  {
   "cell_type": "code",
   "execution_count": 45,
   "metadata": {
    "ExecuteTime": {
     "end_time": "2019-08-12T16:50:26.126881Z",
     "start_time": "2019-08-12T16:50:26.057884Z"
    }
   },
   "outputs": [],
   "source": [
    "def create_browser_map_dict():\n",
    "    import re\n",
    "    vc = data['id_31'].value_counts()\n",
    "    id_31_to_Browser = {}\n",
    "    id_31_to_BrowserVersion = {}\n",
    "    for s in vc.index:\n",
    "        M = re.match(r'mobile safari\\s+(\\S+)',s)\n",
    "        if M is not None:\n",
    "            id_31_to_Browser[s] = 'mobile safari'\n",
    "            id_31_to_BrowserVersion[s] = M.groups()[0]\n",
    "            continue\n",
    "        M = re.match(r'chrome\\s+(\\S+)',s)\n",
    "        if M is not None:\n",
    "            id_31_to_Browser[s] = 'chrome'\n",
    "            id_31_to_BrowserVersion[s] = M.groups()[0]\n",
    "            continue    \n",
    "        M = re.match(r'ie (\\S+) for desktop',s)\n",
    "        if M is not None:\n",
    "            id_31_to_Browser[s] = 'ie desktop'\n",
    "            id_31_to_BrowserVersion[s] = M.groups()[0]\n",
    "            continue\n",
    "        M = re.match(r'safari generic',s)\n",
    "        if M is not None:\n",
    "            id_31_to_Browser[s] = 'safari'\n",
    "            id_31_to_BrowserVersion[s] = np.NaN\n",
    "            continue              \n",
    "        M = re.match(r'safari (\\S+)',s)\n",
    "        if M is not None:\n",
    "            id_31_to_Browser[s] = 'safari'\n",
    "            id_31_to_BrowserVersion[s] = M.groups()[0]\n",
    "            continue              \n",
    "        M = re.match(r'edge (\\S+)',s)\n",
    "        if M is not None:\n",
    "            id_31_to_Browser[s] = 'edge'\n",
    "            id_31_to_BrowserVersion[s] = M.groups()[0]\n",
    "            continue       \n",
    "        M = re.match(r'firefox (\\S+)',s)\n",
    "        if M is not None:\n",
    "            id_31_to_Browser[s] = 'firefox'\n",
    "            id_31_to_BrowserVersion[s] = M.groups()[0]\n",
    "            continue \n",
    "        M = re.match(r'samsung browser (\\S+)',s)\n",
    "        if M is not None:\n",
    "            id_31_to_Browser[s] = 'samsung browser'\n",
    "            id_31_to_BrowserVersion[s] = M.groups()[0]\n",
    "            continue   \n",
    "        M = re.match(r'ie (\\S+) for tablet',s)\n",
    "        if M is not None:\n",
    "            id_31_to_Browser[s] = 'ie tablet'\n",
    "            id_31_to_BrowserVersion[s] = M.groups()[0]\n",
    "            continue             \n",
    "        M = re.match(r'google search application (\\S+)',s)\n",
    "        if M is not None:\n",
    "            id_31_to_Browser[s] = 'google search application'\n",
    "            id_31_to_BrowserVersion[s] = M.groups()[0]\n",
    "            continue    \n",
    "        M = re.match(r'android webview (\\S+)',s)\n",
    "        if M is not None:\n",
    "            id_31_to_Browser[s] = 'android webview'\n",
    "            id_31_to_BrowserVersion[s] = M.groups()[0]\n",
    "            continue\n",
    "        M = re.match(r'android browser (\\S+)',s)\n",
    "        if M is not None:\n",
    "            id_31_to_Browser[s] = 'android browser'\n",
    "            id_31_to_BrowserVersion[s] = M.groups()[0]\n",
    "            continue               \n",
    "        M = re.match(r'opera (\\S+)',s)\n",
    "        if M is not None:\n",
    "            id_31_to_Browser[s] = 'opera'\n",
    "            id_31_to_BrowserVersion[s] = M.groups()[0]\n",
    "            continue               \n",
    "        M = re.match(r'Generic/Android (\\S+)',s)\n",
    "        if M is not None:\n",
    "            id_31_to_Browser[s] = 'Generic/Android'\n",
    "            id_31_to_BrowserVersion[s] = M.groups()[0]\n",
    "            continue               \n",
    "        id_31_to_Browser[s] = s\n",
    "        id_31_to_BrowserVersion[s] = np.NaN\n",
    "        \n",
    "        \n",
    "    return id_31_to_Browser, id_31_to_BrowserVersion\n",
    "\n",
    "id_31_to_Browser, id_31_to_BrowserVersion = create_browser_map_dict()\n"
   ]
  },
  {
   "cell_type": "code",
   "execution_count": 46,
   "metadata": {
    "ExecuteTime": {
     "end_time": "2019-08-12T16:50:36.411252Z",
     "start_time": "2019-08-12T16:50:34.199254Z"
    }
   },
   "outputs": [],
   "source": [
    "data['Browser'] = np.NaN\n",
    "data['BrowserVersion'] = np.NaN\n",
    "found_index = data.loc[data['id_31'].isin(id_31_to_Browser.keys())].index\n",
    "data.loc[found_index,'Browser'] = data.loc[found_index]['id_31'].replace(id_31_to_Browser)\n",
    "data.loc[found_index, 'BrowserVersion'] = data['id_31'].replace(id_31_to_BrowserVersion)"
   ]
  },
  {
   "cell_type": "code",
   "execution_count": 47,
   "metadata": {
    "ExecuteTime": {
     "end_time": "2019-08-12T16:50:36.656253Z",
     "start_time": "2019-08-12T16:50:36.447253Z"
    }
   },
   "outputs": [],
   "source": [
    "data.loc[data.Browser.isin(data.Browser.value_counts()[data.Browser.value_counts() < 10].index), 'Browser'] = \"other\""
   ]
  },
  {
   "cell_type": "code",
   "execution_count": 51,
   "metadata": {
    "ExecuteTime": {
     "end_time": "2019-08-12T16:51:19.543258Z",
     "start_time": "2019-08-12T16:51:19.510259Z"
    }
   },
   "outputs": [
    {
     "name": "stdout",
     "output_type": "stream",
     "text": [
      "['17.0', '16.0', '15.0', '14.0', '13.0', '18.0']\n",
      "edge[\"13\"]=\"\"\n",
      "edge[\"14\"]=\"\"\n",
      "edge[\"15\"]=\"\"\n",
      "edge[\"16\"]=\"\"\n",
      "edge[\"17\"]=\"\"\n",
      "edge[\"18\"]=\"\"\n"
     ]
    }
   ],
   "source": [
    "l = list(data[data.Browser == 'edge']['BrowserVersion'].value_counts().index)\n",
    "print(l)\n",
    "# l.remove('mobile')\n",
    "# l.remove('generic')\n",
    "# l.remove('chrome')\n",
    "for v in sorted([int(float(i)) for i in l]):\n",
    "    print(f'edge[\"{v}\"]=\"\"')"
   ]
  },
  {
   "cell_type": "code",
   "execution_count": 52,
   "metadata": {
    "ExecuteTime": {
     "end_time": "2019-08-12T16:51:26.933263Z",
     "start_time": "2019-08-12T16:51:26.927262Z"
    }
   },
   "outputs": [],
   "source": [
    "edge = {}\n",
    "edge[\"13\"]=\"2015-09-18\"\n",
    "edge[\"14\"]=\"2016-02-18\"\n",
    "edge[\"15\"]=\"2016-10-07\"\n",
    "edge[\"16\"]=\"2017-09-26\"\n",
    "edge[\"17\"]=\"2018-04-30\"\n",
    "edge[\"18\"]=\"2018-11-13\"\n",
    "edge_map={}\n",
    "for k,v in edge.items():\n",
    "    edge_map[str(k)+'.0'] = datetime.datetime.strptime(v, \"%Y-%m-%d\")"
   ]
  },
  {
   "cell_type": "code",
   "execution_count": 53,
   "metadata": {
    "ExecuteTime": {
     "end_time": "2019-08-12T16:51:30.844181Z",
     "start_time": "2019-08-12T16:51:30.838182Z"
    }
   },
   "outputs": [],
   "source": [
    "firefox = {}\n",
    "firefox[\"47\"]=\"2016-06-07\"\n",
    "firefox[\"48\"]=\"2016-08-01\"\n",
    "firefox[\"52\"]=\"2017-03-07\"\n",
    "firefox[\"55\"]=\"2017-08-08\"\n",
    "firefox[\"56\"]=\"2017-09-28\"\n",
    "firefox[\"57\"]=\"2017-11-14\"\n",
    "firefox[\"58\"]=\"2018-01-23\"\n",
    "firefox[\"59\"]=\"2018-03-13\"\n",
    "firefox[\"60\"]=\"2018-05-09\"\n",
    "firefox[\"61\"]=\"2018-06-26\"\n",
    "firefox[\"62\"]=\"2018-09-05\"\n",
    "firefox[\"63\"]=\"2018-10-23\"\n",
    "firefox[\"64\"]=\"2018-12-11\"\n",
    "firefox_map={}\n",
    "for k,v in firefox.items():\n",
    "    firefox_map[str(k)+'.0'] = datetime.datetime.strptime(v, \"%Y-%m-%d\")"
   ]
  },
  {
   "cell_type": "code",
   "execution_count": 54,
   "metadata": {
    "ExecuteTime": {
     "end_time": "2019-08-12T16:51:32.917184Z",
     "start_time": "2019-08-12T16:51:32.912181Z"
    }
   },
   "outputs": [],
   "source": [
    "safari = {}\n",
    "safari[\"9\"]=\"2015-09-30\"\n",
    "safari[\"10\"]=\"2016-09-20\"\n",
    "safari[\"11\"]=\"2017-09-19\"\n",
    "safari[\"12\"]=\"2018-09-17\"\n",
    "safari_map={}\n",
    "for k,v in safari.items():\n",
    "    safari_map[str(k)+'.0'] = datetime.datetime.strptime(v, \"%Y-%m-%d\")"
   ]
  },
  {
   "cell_type": "code",
   "execution_count": 55,
   "metadata": {
    "ExecuteTime": {
     "end_time": "2019-08-12T16:51:34.612183Z",
     "start_time": "2019-08-12T16:51:34.601180Z"
    }
   },
   "outputs": [],
   "source": [
    "chrome = {}\n",
    "chrome[\"39\"]=\"2014-11-18\"\n",
    "chrome[\"43\"]=\"2015-05-19\"\n",
    "chrome[\"46\"]=\"2015-10-13\"\n",
    "chrome[\"49\"]=\"2016-03-02\"\n",
    "chrome[\"50\"]=\"2016-04-13\"\n",
    "chrome[\"51\"]=\"2016-05-25\"\n",
    "chrome[\"52\"]=\"2016-07-20\"\n",
    "chrome[\"53\"]=\"2016-08-31\"\n",
    "chrome[\"54\"]=\"2016-10-12\"\n",
    "chrome[\"55\"]=\"2016-12-01\"\n",
    "chrome[\"56\"]=\"2017-01-25\"\n",
    "chrome[\"57\"]=\"2017-03-09\"\n",
    "chrome[\"58\"]=\"2017-04-19\"\n",
    "chrome[\"59\"]=\"2017-06-05\"\n",
    "chrome[\"60\"]=\"2017-07-25\"\n",
    "chrome[\"61\"]=\"2017-09-05\"\n",
    "chrome[\"62\"]=\"2017-10-17\"\n",
    "chrome[\"63\"]=\"2017-12-05\"\n",
    "chrome[\"64\"]=\"2018-01-24\"\n",
    "chrome[\"65\"]=\"2018-03-06\"\n",
    "chrome[\"66\"]=\"2018-04-17\"\n",
    "chrome[\"67\"]=\"2018-05-29\"\n",
    "chrome[\"68\"]=\"2018-07-24\"\n",
    "chrome[\"69\"]=\"2018-09-04\"\n",
    "chrome[\"70\"]=\"2018-10-16\"\n",
    "chrome[\"71\"]=\"2018-12-04\"\n",
    "chrome_map={}\n",
    "for k,v in chrome.items():\n",
    "    chrome_map[str(k)+'.0'] = datetime.datetime.strptime(v, \"%Y-%m-%d\")"
   ]
  },
  {
   "cell_type": "code",
   "execution_count": 56,
   "metadata": {
    "ExecuteTime": {
     "end_time": "2019-08-12T16:51:36.900181Z",
     "start_time": "2019-08-12T16:51:36.895180Z"
    }
   },
   "outputs": [],
   "source": [
    "data['BrowserAge'] = np.NaN"
   ]
  },
  {
   "cell_type": "code",
   "execution_count": 57,
   "metadata": {
    "ExecuteTime": {
     "end_time": "2019-08-12T16:51:40.623180Z",
     "start_time": "2019-08-12T16:51:40.256183Z"
    }
   },
   "outputs": [],
   "source": [
    "with pd.HDFStore('./hdf/Store.h5',complib='blosc:blosclz') as store:\n",
    "    full_data = store['initial/encoded']\n"
   ]
  },
  {
   "cell_type": "code",
   "execution_count": 58,
   "metadata": {
    "ExecuteTime": {
     "end_time": "2019-08-12T16:51:42.467179Z",
     "start_time": "2019-08-12T16:51:42.178182Z"
    }
   },
   "outputs": [],
   "source": [
    "# full_data['Date']\n",
    "data = pd.merge(data, full_data['Date'], on='TransactionID', how='left')"
   ]
  },
  {
   "cell_type": "code",
   "execution_count": 158,
   "metadata": {},
   "outputs": [],
   "source": []
  },
  {
   "cell_type": "code",
   "execution_count": 60,
   "metadata": {
    "ExecuteTime": {
     "end_time": "2019-08-12T16:51:50.378182Z",
     "start_time": "2019-08-12T16:51:50.375180Z"
    }
   },
   "outputs": [
    {
     "data": {
      "text/plain": [
       "{'39.0': datetime.datetime(2014, 11, 18, 0, 0),\n",
       " '43.0': datetime.datetime(2015, 5, 19, 0, 0),\n",
       " '46.0': datetime.datetime(2015, 10, 13, 0, 0),\n",
       " '49.0': datetime.datetime(2016, 3, 2, 0, 0),\n",
       " '50.0': datetime.datetime(2016, 4, 13, 0, 0),\n",
       " '51.0': datetime.datetime(2016, 5, 25, 0, 0),\n",
       " '52.0': datetime.datetime(2016, 7, 20, 0, 0),\n",
       " '53.0': datetime.datetime(2016, 8, 31, 0, 0),\n",
       " '54.0': datetime.datetime(2016, 10, 12, 0, 0),\n",
       " '55.0': datetime.datetime(2016, 12, 1, 0, 0),\n",
       " '56.0': datetime.datetime(2017, 1, 25, 0, 0),\n",
       " '57.0': datetime.datetime(2017, 3, 9, 0, 0),\n",
       " '58.0': datetime.datetime(2017, 4, 19, 0, 0),\n",
       " '59.0': datetime.datetime(2017, 6, 5, 0, 0),\n",
       " '60.0': datetime.datetime(2017, 7, 25, 0, 0),\n",
       " '61.0': datetime.datetime(2017, 9, 5, 0, 0),\n",
       " '62.0': datetime.datetime(2017, 10, 17, 0, 0),\n",
       " '63.0': datetime.datetime(2017, 12, 5, 0, 0),\n",
       " '64.0': datetime.datetime(2018, 1, 24, 0, 0),\n",
       " '65.0': datetime.datetime(2018, 3, 6, 0, 0),\n",
       " '66.0': datetime.datetime(2018, 4, 17, 0, 0),\n",
       " '67.0': datetime.datetime(2018, 5, 29, 0, 0),\n",
       " '68.0': datetime.datetime(2018, 7, 24, 0, 0),\n",
       " '69.0': datetime.datetime(2018, 9, 4, 0, 0),\n",
       " '70.0': datetime.datetime(2018, 10, 16, 0, 0),\n",
       " '71.0': datetime.datetime(2018, 12, 4, 0, 0)}"
      ]
     },
     "execution_count": 60,
     "metadata": {},
     "output_type": "execute_result"
    }
   ],
   "source": [
    "chrome_map"
   ]
  },
  {
   "cell_type": "code",
   "execution_count": 86,
   "metadata": {
    "ExecuteTime": {
     "end_time": "2019-08-12T17:13:11.129601Z",
     "start_time": "2019-08-12T17:13:10.544600Z"
    }
   },
   "outputs": [],
   "source": [
    "supported_browsers = [\n",
    "    ('chrome', chrome_map),\n",
    "    ('safari', safari_map),\n",
    "    ('edge', edge_map),\n",
    "    ('firefox',firefox_map)\n",
    "]\n",
    "for browser, browser_map in supported_browsers:\n",
    "    idx = data[data.Browser == browser][data.BrowserVersion.isin(browser_map.keys())].index\n",
    "    fdata = data[data.Browser == browser]\n",
    "    fdata.loc[idx,'BrowserAge'] = ((fdata.loc[idx]['Date'].astype('datetime64[s]') -  (fdata.loc[idx]['BrowserVersion'].replace(browser_map)).astype('datetime64[s]')))/ np.timedelta64(1, 'D')\n"
   ]
  },
  {
   "cell_type": "code",
   "execution_count": 88,
   "metadata": {
    "ExecuteTime": {
     "end_time": "2019-08-12T17:14:42.551937Z",
     "start_time": "2019-08-12T17:14:42.533937Z"
    }
   },
   "outputs": [],
   "source": [
    "cols = ['Browser', 'BrowserVersion', 'BrowserAge']\n",
    "with pd.HDFStore('./hdf/Store.h5') as store:\n",
    "    for col in cols:\n",
    "        store[f'features/{col}'] = fdata[col]"
   ]
  },
  {
   "cell_type": "code",
   "execution_count": 5,
   "metadata": {
    "ExecuteTime": {
     "end_time": "2019-08-14T17:41:23.555811Z",
     "start_time": "2019-08-14T17:41:23.547811Z"
    }
   },
   "outputs": [
    {
     "data": {
      "text/plain": [
       "57.0       3331\n",
       "63.0       1899\n",
       "61.0       1321\n",
       "64.0       1251\n",
       "59.0       1152\n",
       "62.0       1107\n",
       "58.0        851\n",
       "52.0        621\n",
       "60.0        607\n",
       "55.0        528\n",
       "48.0        254\n",
       "mobile      223\n",
       "56.0        156\n",
       "generic     110\n",
       "47.0         51\n",
       "Name: BrowserVersion, dtype: int64"
      ]
     },
     "execution_count": 5,
     "metadata": {},
     "output_type": "execute_result"
    }
   ],
   "source": [
    "d.value_counts()"
   ]
  },
  {
   "cell_type": "code",
   "execution_count": 16,
   "metadata": {
    "ExecuteTime": {
     "end_time": "2019-08-14T17:53:54.398637Z",
     "start_time": "2019-08-14T17:53:53.915638Z"
    }
   },
   "outputs": [
    {
     "name": "stdout",
     "output_type": "stream",
     "text": [
      "Browser\n",
      "BrowserAge\n",
      "BrowserVersion\n",
      "OS\n",
      "OSVersion\n",
      "device_name\n",
      "device_version\n",
      "screen_height\n",
      "screen_width\n"
     ]
    }
   ],
   "source": [
    "from functions import LabelEncoderPopularity\n",
    "#encode\n",
    "categorial = ['Browser',  'OS', 'OSVersion', 'device_name', 'device_version']\n",
    "numerical = ['BrowserAge', 'BrowserVersion', 'screen_height', 'screen_width']\n",
    "with pd.HDFStore('./hdf/Store.h5') as store:\n",
    "    num_features = store.get_node('features')\n",
    "    for feature in num_features:\n",
    "        feature_name = feature._v_name\n",
    "        print(feature_name)\n",
    "        d = store.select(feature._v_pathname)\n",
    "        if feature_name in numerical:\n",
    "            if feature_name == 'BrowserVersion':\n",
    "                d.replace({'mobile': 100, 'generic': 0}, inplace=True)\n",
    "            d = d.astype(np.float32)\n",
    "        elif feature_name in categorial:\n",
    "            L = LabelEncoderPopularity(convert_nan=True)\n",
    "            L.fit(d)\n",
    "            d = L.transform(d)\n",
    "        else:\n",
    "            print ('Unknown ', feature_name)\n",
    "            break\n",
    "#         print('features_encoded/'+feature_name)\n",
    "        store.put(f'encodedFeatures/{feature_name}',d)\n",
    "            "
   ]
  }
 ],
 "metadata": {
  "kernelspec": {
   "display_name": "Python 3",
   "language": "python",
   "name": "python3"
  },
  "language_info": {
   "codemirror_mode": {
    "name": "ipython",
    "version": 3
   },
   "file_extension": ".py",
   "mimetype": "text/x-python",
   "name": "python",
   "nbconvert_exporter": "python",
   "pygments_lexer": "ipython3",
   "version": "3.6.5"
  },
  "toc": {
   "base_numbering": 1,
   "nav_menu": {},
   "number_sections": true,
   "sideBar": true,
   "skip_h1_title": false,
   "title_cell": "Table of Contents",
   "title_sidebar": "Contents",
   "toc_cell": false,
   "toc_position": {},
   "toc_section_display": true,
   "toc_window_display": false
  },
  "varInspector": {
   "cols": {
    "lenName": 16,
    "lenType": 16,
    "lenVar": 40
   },
   "kernels_config": {
    "python": {
     "delete_cmd_postfix": "",
     "delete_cmd_prefix": "del ",
     "library": "var_list.py",
     "varRefreshCmd": "print(var_dic_list())"
    },
    "r": {
     "delete_cmd_postfix": ") ",
     "delete_cmd_prefix": "rm(",
     "library": "var_list.r",
     "varRefreshCmd": "cat(var_dic_list()) "
    }
   },
   "types_to_exclude": [
    "module",
    "function",
    "builtin_function_or_method",
    "instance",
    "_Feature"
   ],
   "window_display": false
  }
 },
 "nbformat": 4,
 "nbformat_minor": 4
}
