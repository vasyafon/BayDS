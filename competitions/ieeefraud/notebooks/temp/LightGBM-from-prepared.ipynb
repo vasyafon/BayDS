{
 "cells": [
  {
   "cell_type": "code",
   "execution_count": 1,
   "metadata": {
    "ExecuteTime": {
     "end_time": "2019-08-14T18:02:15.811760Z",
     "start_time": "2019-08-14T18:02:14.083761Z"
    }
   },
   "outputs": [
    {
     "data": {
      "text/plain": [
       "RendererRegistry.enable('notebook')"
      ]
     },
     "execution_count": 1,
     "metadata": {},
     "output_type": "execute_result"
    }
   ],
   "source": [
    "import numpy as np\n",
    "import pandas as pd\n",
    "import os\n",
    "\n",
    "import matplotlib.pyplot as plt\n",
    "%matplotlib inline\n",
    "from tqdm import tqdm_notebook\n",
    "from sklearn.preprocessing import StandardScaler\n",
    "from sklearn.svm import NuSVR, SVR\n",
    "from sklearn.metrics import mean_absolute_error\n",
    "pd.options.display.precision = 15\n",
    "\n",
    "import lightgbm as lgb\n",
    "import xgboost as xgb\n",
    "import time\n",
    "import datetime\n",
    "from catboost import CatBoostRegressor\n",
    "from sklearn.preprocessing import LabelEncoder\n",
    "from sklearn.model_selection import StratifiedKFold, KFold, RepeatedKFold, GroupKFold, GridSearchCV, train_test_split, TimeSeriesSplit\n",
    "from sklearn import metrics\n",
    "from sklearn import linear_model\n",
    "import gc\n",
    "import seaborn as sns\n",
    "import warnings\n",
    "warnings.filterwarnings(\"ignore\")\n",
    "\n",
    "import eli5\n",
    "import shap\n",
    "from IPython.display import HTML\n",
    "import json\n",
    "import altair as alt\n",
    "\n",
    "import networkx as nx\n",
    "import matplotlib.pyplot as plt\n",
    "%matplotlib inline\n",
    "\n",
    "alt.renderers.enable('notebook')"
   ]
  },
  {
   "cell_type": "code",
   "execution_count": 2,
   "metadata": {
    "ExecuteTime": {
     "end_time": "2019-08-14T18:02:26.934479Z",
     "start_time": "2019-08-14T18:02:26.738480Z"
    }
   },
   "outputs": [],
   "source": [
    "from lib.training import *"
   ]
  },
  {
   "cell_type": "code",
   "execution_count": 3,
   "metadata": {
    "ExecuteTime": {
     "end_time": "2019-08-14T18:12:00.933315Z",
     "start_time": "2019-08-14T18:12:00.559315Z"
    }
   },
   "outputs": [],
   "source": [
    "data_name = '1408'\n",
    "with pd.HDFStore('./hdf/LearningSets.h5',complib='blosc:blosclz') as store:\n",
    "    data = store[f'{data_name}/data']\n",
    "    categorial_features = list(store[f'{data_name}/categorial_features'].values.flatten())\n",
    "    numerical_features = list(store[f'{data_name}/numerical_features'].values.flatten())"
   ]
  },
  {
   "cell_type": "code",
   "execution_count": 14,
   "metadata": {
    "ExecuteTime": {
     "end_time": "2019-08-14T18:20:54.407589Z",
     "start_time": "2019-08-14T18:20:52.592592Z"
    }
   },
   "outputs": [],
   "source": [
    "X = data[data['isFraud'] >= 0].drop(['isFraud','Date'],axis=1)\n",
    "y = data[data['isFraud'] >= 0]['isFraud'].astype(np.bool)\n",
    "X_test = data[data['isFraud'] < 0].drop(['isFraud','Date'],axis=1)   "
   ]
  },
  {
   "cell_type": "code",
   "execution_count": 8,
   "metadata": {
    "ExecuteTime": {
     "end_time": "2019-08-14T18:20:10.365259Z",
     "start_time": "2019-08-14T18:20:10.362260Z"
    }
   },
   "outputs": [],
   "source": [
    "n_fold = 5\n",
    "# folds = TimeSeriesSplit(n_splits=n_fold)\n",
    "folds = KFold(n_splits=5)\n",
    "# folds = GroupKFold(n_splits=5)\n",
    "# groups = pd.read_pickle('./groups.pkl').values"
   ]
  },
  {
   "cell_type": "code",
   "execution_count": 9,
   "metadata": {
    "ExecuteTime": {
     "end_time": "2019-08-14T18:20:12.852837Z",
     "start_time": "2019-08-14T18:20:12.848837Z"
    }
   },
   "outputs": [],
   "source": [
    "categorical_columns = [c for c, col in enumerate(X.columns) if col in categorial_features]"
   ]
  },
  {
   "cell_type": "code",
   "execution_count": 10,
   "metadata": {
    "ExecuteTime": {
     "end_time": "2019-08-14T18:20:14.747841Z",
     "start_time": "2019-08-14T18:20:14.742839Z"
    }
   },
   "outputs": [
    {
     "data": {
      "text/html": [
       "[1, 2, 3, 4, 5, 6, 7, 8, 9, 11, 12, 40, 41, 42, 43, 44, 45, 46, 47, 268, 269, 270, 271, 272, 273, 274, 275, 276, 277, 278, 279, 280, 281, 282, 283, 284, 285, 286, 287, 288, 289, 290, 291, 292, 293, 294, 299, 300, 301, 302, 303, 306, 307, 308, 309]"
      ],
      "text/plain": [
       "[1,\n",
       " 2,\n",
       " 3,\n",
       " 4,\n",
       " 5,\n",
       " 6,\n",
       " 7,\n",
       " 8,\n",
       " 9,\n",
       " 11,\n",
       " 12,\n",
       " 40,\n",
       " 41,\n",
       " 42,\n",
       " 43,\n",
       " 44,\n",
       " 45,\n",
       " 46,\n",
       " 47,\n",
       " 268,\n",
       " 269,\n",
       " 270,\n",
       " 271,\n",
       " 272,\n",
       " 273,\n",
       " 274,\n",
       " 275,\n",
       " 276,\n",
       " 277,\n",
       " 278,\n",
       " 279,\n",
       " 280,\n",
       " 281,\n",
       " 282,\n",
       " 283,\n",
       " 284,\n",
       " 285,\n",
       " 286,\n",
       " 287,\n",
       " 288,\n",
       " 289,\n",
       " 290,\n",
       " 291,\n",
       " 292,\n",
       " 293,\n",
       " 294,\n",
       " 299,\n",
       " 300,\n",
       " 301,\n",
       " 302,\n",
       " 303,\n",
       " 306,\n",
       " 307,\n",
       " 308,\n",
       " 309]"
      ]
     },
     "execution_count": 10,
     "metadata": {},
     "output_type": "execute_result"
    }
   ],
   "source": [
    "categorical_columns\n"
   ]
  },
  {
   "cell_type": "code",
   "execution_count": 17,
   "metadata": {
    "ExecuteTime": {
     "end_time": "2019-08-14T18:49:01.002659Z",
     "start_time": "2019-08-14T18:23:49.221301Z"
    }
   },
   "outputs": [
    {
     "name": "stdout",
     "output_type": "stream",
     "text": [
      "Fold 1 started at Wed Aug 14 21:23:49 2019\n",
      "Training until validation scores don't improve for 200 rounds.\n",
      "[500]\ttraining's auc: 0.999598\ttraining's auc: 0.999598\tvalid_1's auc: 0.909531\tvalid_1's auc: 0.909531\n",
      "[1000]\ttraining's auc: 1\ttraining's auc: 1\tvalid_1's auc: 0.911287\tvalid_1's auc: 0.911287\n",
      "Early stopping, best iteration is:\n",
      "[1267]\ttraining's auc: 1\ttraining's auc: 1\tvalid_1's auc: 0.91241\tvalid_1's auc: 0.91241\n",
      "Fold 2 started at Wed Aug 14 21:35:34 2019\n",
      "Training until validation scores don't improve for 200 rounds.\n",
      "Early stopping, best iteration is:\n",
      "[205]\ttraining's auc: 0.993682\ttraining's auc: 0.993682\tvalid_1's auc: 0.933639\tvalid_1's auc: 0.933639\n",
      "Fold 3 started at Wed Aug 14 21:38:50 2019\n",
      "Training until validation scores don't improve for 200 rounds.\n",
      "Early stopping, best iteration is:\n",
      "[182]\ttraining's auc: 0.992266\ttraining's auc: 0.992266\tvalid_1's auc: 0.930865\tvalid_1's auc: 0.930865\n",
      "Fold 4 started at Wed Aug 14 21:41:51 2019\n",
      "Training until validation scores don't improve for 200 rounds.\n",
      "Early stopping, best iteration is:\n",
      "[248]\ttraining's auc: 0.99602\ttraining's auc: 0.99602\tvalid_1's auc: 0.949129\tvalid_1's auc: 0.949129\n",
      "Fold 5 started at Wed Aug 14 21:45:28 2019\n",
      "Training until validation scores don't improve for 200 rounds.\n",
      "Early stopping, best iteration is:\n",
      "[248]\ttraining's auc: 0.995788\ttraining's auc: 0.995788\tvalid_1's auc: 0.924352\tvalid_1's auc: 0.924352\n",
      "CV mean score: 0.9301, std: 0.0120.\n"
     ]
    },
    {
     "data": {
      "image/png": "[encoded data removed]",
      "text/plain": [
       "<Figure size 1152x864 with 1 Axes>"
      ]
     },
     "metadata": {
      "needs_background": "light"
     },
     "output_type": "display_data"
    }
   ],
   "source": [
    "params = {'num_leaves': 300,\n",
    "          'min_child_weight': 0.03454472573214212,\n",
    "          'feature_fraction': 0.3797454081646243,\n",
    "          'bagging_fraction': 0.4181193142567742,\n",
    "          'min_data_in_leaf': 106,\n",
    "          'objective': 'binary',\n",
    "          'max_depth': -1,\n",
    "          'learning_rate': 0.03,\n",
    "          \"boosting_type\": \"gbdt\",\n",
    "          \"bagging_seed\": 11,\n",
    "          \"metric\": 'auc',\n",
    "          \"verbosity\": -1,\n",
    "          'reg_alpha': 0.3899927210061127,\n",
    "          'reg_lambda': 0.6485237330340494,\n",
    "          'random_state': 47,\n",
    "          'categorical_feature': categorical_columns,\n",
    "#           'device': 'gpu'\n",
    "         }\n",
    "result_dict_lgb = train_model_classification(X=X, X_test=X_test, y=y, params=params, folds=folds, model_type='lgb', eval_metric='auc', plot_feature_importance=True,\n",
    "                                                      verbose=500, early_stopping_rounds=200, n_estimators=5000, averaging='usual', n_jobs=-1, groups=None)"
   ]
  },
  {
   "cell_type": "code",
   "execution_count": 17,
   "metadata": {},
   "outputs": [],
   "source": [
    "# cat_params = {'num_leaves': 256,\n",
    "#           'min_child_samples': 79,\n",
    "#           'objective': 'CrossEntropy',\n",
    "#           'max_depth': 13,\n",
    "#           'learning_rate': 0.03,\n",
    "#           \"boosting_type\": \"Ordered\",\n",
    "#           'reg_lambda': 0.3,\n",
    "#           'task_type':'GPU'\n",
    "#          }\n",
    "# result_dict_cat = train_model_classification(X=X, X_test=X_test, y=y, params=cat_params, folds=folds, model_type='cat', eval_metric='auc', plot_feature_importance=True,\n",
    "#                                                       verbose=500, early_stopping_rounds=200, n_estimators=5000, averaging='usual', n_jobs=-1)"
   ]
  },
  {
   "cell_type": "code",
   "execution_count": 18,
   "metadata": {},
   "outputs": [],
   "source": [
    "test = test.sort_values('Date')\n",
    "test['prediction'] = result_dict_lgb['prediction']"
   ]
  },
  {
   "cell_type": "code",
   "execution_count": 19,
   "metadata": {},
   "outputs": [
    {
     "data": {
      "text/plain": [
       "array([[0.00016328],\n",
       "       [0.00085254],\n",
       "       [0.00030675],\n",
       "       ...,\n",
       "       [0.00320967],\n",
       "       [0.00153367],\n",
       "       [0.00099229]])"
      ]
     },
     "execution_count": 19,
     "metadata": {},
     "output_type": "execute_result"
    }
   ],
   "source": [
    "result_dict_lgb['prediction']\n"
   ]
  },
  {
   "cell_type": "code",
   "execution_count": 20,
   "metadata": {},
   "outputs": [
    {
     "data": {
      "text/html": [
       "<div>\n",
       "<style scoped>\n",
       "    .dataframe tbody tr th:only-of-type {\n",
       "        vertical-align: middle;\n",
       "    }\n",
       "\n",
       "    .dataframe tbody tr th {\n",
       "        vertical-align: top;\n",
       "    }\n",
       "\n",
       "    .dataframe thead th {\n",
       "        text-align: right;\n",
       "    }\n",
       "</style>\n",
       "<table border=\"1\" class=\"dataframe\">\n",
       "  <thead>\n",
       "    <tr style=\"text-align: right;\">\n",
       "      <th></th>\n",
       "      <th>TransactionAmt</th>\n",
       "      <th>ProductCD</th>\n",
       "      <th>card1</th>\n",
       "      <th>card2</th>\n",
       "      <th>card3</th>\n",
       "      <th>card4</th>\n",
       "      <th>card5</th>\n",
       "      <th>card6</th>\n",
       "      <th>addr1</th>\n",
       "      <th>addr2</th>\n",
       "      <th>...</th>\n",
       "      <th>card_id</th>\n",
       "      <th>TransactionAmt_to_mean_card_id</th>\n",
       "      <th>TransactionAmt_to_std_card_id</th>\n",
       "      <th>dist1_to_mean_card_id</th>\n",
       "      <th>dist1_to_std_card_id</th>\n",
       "      <th>dist2_to_mean_card_id</th>\n",
       "      <th>dist2_to_std_card_id</th>\n",
       "      <th>_Hours_to_mean_card_id</th>\n",
       "      <th>_Hours_to_std_card_id</th>\n",
       "      <th>prediction</th>\n",
       "    </tr>\n",
       "    <tr>\n",
       "      <th>TransactionID</th>\n",
       "      <th></th>\n",
       "      <th></th>\n",
       "      <th></th>\n",
       "      <th></th>\n",
       "      <th></th>\n",
       "      <th></th>\n",
       "      <th></th>\n",
       "      <th></th>\n",
       "      <th></th>\n",
       "      <th></th>\n",
       "      <th></th>\n",
       "      <th></th>\n",
       "      <th></th>\n",
       "      <th></th>\n",
       "      <th></th>\n",
       "      <th></th>\n",
       "      <th></th>\n",
       "      <th></th>\n",
       "      <th></th>\n",
       "      <th></th>\n",
       "      <th></th>\n",
       "    </tr>\n",
       "  </thead>\n",
       "  <tbody>\n",
       "    <tr>\n",
       "      <th>3663549</th>\n",
       "      <td>31.953125</td>\n",
       "      <td>4</td>\n",
       "      <td>442</td>\n",
       "      <td>11</td>\n",
       "      <td>50</td>\n",
       "      <td>3</td>\n",
       "      <td>126</td>\n",
       "      <td>2</td>\n",
       "      <td>70</td>\n",
       "      <td>80</td>\n",
       "      <td>...</td>\n",
       "      <td>844</td>\n",
       "      <td>0.28662109375</td>\n",
       "      <td>0.251708984375</td>\n",
       "      <td>0.008880615234375</td>\n",
       "      <td>0.005661010742188</td>\n",
       "      <td>NaN</td>\n",
       "      <td>NaN</td>\n",
       "      <td>0.0</td>\n",
       "      <td>0.0</td>\n",
       "      <td>0.000163281022142</td>\n",
       "    </tr>\n",
       "    <tr>\n",
       "      <th>3663550</th>\n",
       "      <td>49.000000</td>\n",
       "      <td>4</td>\n",
       "      <td>11471</td>\n",
       "      <td>11</td>\n",
       "      <td>50</td>\n",
       "      <td>3</td>\n",
       "      <td>126</td>\n",
       "      <td>2</td>\n",
       "      <td>199</td>\n",
       "      <td>80</td>\n",
       "      <td>...</td>\n",
       "      <td>86</td>\n",
       "      <td>0.31933593750</td>\n",
       "      <td>0.000000000000</td>\n",
       "      <td>0.035461425781250</td>\n",
       "      <td>0.000000000000000</td>\n",
       "      <td>NaN</td>\n",
       "      <td>NaN</td>\n",
       "      <td>0.0</td>\n",
       "      <td>0.0</td>\n",
       "      <td>0.000852535644590</td>\n",
       "    </tr>\n",
       "    <tr>\n",
       "      <th>3663551</th>\n",
       "      <td>171.000000</td>\n",
       "      <td>4</td>\n",
       "      <td>11668</td>\n",
       "      <td>474</td>\n",
       "      <td>50</td>\n",
       "      <td>3</td>\n",
       "      <td>126</td>\n",
       "      <td>2</td>\n",
       "      <td>372</td>\n",
       "      <td>80</td>\n",
       "      <td>...</td>\n",
       "      <td>1403</td>\n",
       "      <td>1.23339843750</td>\n",
       "      <td>1.261718750000</td>\n",
       "      <td>2.183593750000000</td>\n",
       "      <td>0.000000000000000</td>\n",
       "      <td>NaN</td>\n",
       "      <td>NaN</td>\n",
       "      <td>0.0</td>\n",
       "      <td>0.0</td>\n",
       "      <td>0.000306745314989</td>\n",
       "    </tr>\n",
       "    <tr>\n",
       "      <th>3663552</th>\n",
       "      <td>285.000000</td>\n",
       "      <td>4</td>\n",
       "      <td>1069</td>\n",
       "      <td>260</td>\n",
       "      <td>50</td>\n",
       "      <td>3</td>\n",
       "      <td>66</td>\n",
       "      <td>2</td>\n",
       "      <td>105</td>\n",
       "      <td>80</td>\n",
       "      <td>...</td>\n",
       "      <td>93</td>\n",
       "      <td>3.17382812500</td>\n",
       "      <td>2.183593750000</td>\n",
       "      <td>0.187744140625000</td>\n",
       "      <td>0.000000000000000</td>\n",
       "      <td>NaN</td>\n",
       "      <td>NaN</td>\n",
       "      <td>0.0</td>\n",
       "      <td>0.0</td>\n",
       "      <td>0.000102925418759</td>\n",
       "    </tr>\n",
       "    <tr>\n",
       "      <th>3663553</th>\n",
       "      <td>67.937500</td>\n",
       "      <td>4</td>\n",
       "      <td>8674</td>\n",
       "      <td>352</td>\n",
       "      <td>50</td>\n",
       "      <td>2</td>\n",
       "      <td>17</td>\n",
       "      <td>2</td>\n",
       "      <td>164</td>\n",
       "      <td>80</td>\n",
       "      <td>...</td>\n",
       "      <td>64</td>\n",
       "      <td>0.58740234375</td>\n",
       "      <td>0.316650390625</td>\n",
       "      <td>0.062225341796875</td>\n",
       "      <td>0.000000000000000</td>\n",
       "      <td>NaN</td>\n",
       "      <td>NaN</td>\n",
       "      <td>0.0</td>\n",
       "      <td>0.0</td>\n",
       "      <td>0.000189674552193</td>\n",
       "    </tr>\n",
       "  </tbody>\n",
       "</table>\n",
       "<p>5 rows × 451 columns</p>\n",
       "</div>"
      ],
      "text/plain": [
       "               TransactionAmt  ProductCD  card1  card2  card3  card4  card5  \\\n",
       "TransactionID                                                                 \n",
       "3663549             31.953125          4    442     11     50      3    126   \n",
       "3663550             49.000000          4  11471     11     50      3    126   \n",
       "3663551            171.000000          4  11668    474     50      3    126   \n",
       "3663552            285.000000          4   1069    260     50      3     66   \n",
       "3663553             67.937500          4   8674    352     50      2     17   \n",
       "\n",
       "               card6  addr1  addr2  ...  card_id  \\\n",
       "TransactionID                       ...            \n",
       "3663549            2     70     80  ...      844   \n",
       "3663550            2    199     80  ...       86   \n",
       "3663551            2    372     80  ...     1403   \n",
       "3663552            2    105     80  ...       93   \n",
       "3663553            2    164     80  ...       64   \n",
       "\n",
       "               TransactionAmt_to_mean_card_id  TransactionAmt_to_std_card_id  \\\n",
       "TransactionID                                                                  \n",
       "3663549                         0.28662109375                 0.251708984375   \n",
       "3663550                         0.31933593750                 0.000000000000   \n",
       "3663551                         1.23339843750                 1.261718750000   \n",
       "3663552                         3.17382812500                 2.183593750000   \n",
       "3663553                         0.58740234375                 0.316650390625   \n",
       "\n",
       "               dist1_to_mean_card_id  dist1_to_std_card_id  \\\n",
       "TransactionID                                                \n",
       "3663549            0.008880615234375     0.005661010742188   \n",
       "3663550            0.035461425781250     0.000000000000000   \n",
       "3663551            2.183593750000000     0.000000000000000   \n",
       "3663552            0.187744140625000     0.000000000000000   \n",
       "3663553            0.062225341796875     0.000000000000000   \n",
       "\n",
       "               dist2_to_mean_card_id  dist2_to_std_card_id  \\\n",
       "TransactionID                                                \n",
       "3663549                          NaN                   NaN   \n",
       "3663550                          NaN                   NaN   \n",
       "3663551                          NaN                   NaN   \n",
       "3663552                          NaN                   NaN   \n",
       "3663553                          NaN                   NaN   \n",
       "\n",
       "               _Hours_to_mean_card_id  _Hours_to_std_card_id  \\\n",
       "TransactionID                                                  \n",
       "3663549                           0.0                    0.0   \n",
       "3663550                           0.0                    0.0   \n",
       "3663551                           0.0                    0.0   \n",
       "3663552                           0.0                    0.0   \n",
       "3663553                           0.0                    0.0   \n",
       "\n",
       "                      prediction  \n",
       "TransactionID                     \n",
       "3663549        0.000163281022142  \n",
       "3663550        0.000852535644590  \n",
       "3663551        0.000306745314989  \n",
       "3663552        0.000102925418759  \n",
       "3663553        0.000189674552193  \n",
       "\n",
       "[5 rows x 451 columns]"
      ]
     },
     "execution_count": 20,
     "metadata": {},
     "output_type": "execute_result"
    }
   ],
   "source": [
    "test.head()"
   ]
  },
  {
   "cell_type": "code",
   "execution_count": 21,
   "metadata": {},
   "outputs": [],
   "source": [
    "folder_path = './data/'\n",
    "sub = pd.read_csv(f'{folder_path}sample_submission.csv')\n",
    "sub['isFraud'] = pd.merge(sub, test, on='TransactionID')['prediction']\n",
    "sub.to_csv('submission_7_filter_kfold.csv', index=False)"
   ]
  }
 ],
 "metadata": {
  "kernelspec": {
   "display_name": "Python 3",
   "language": "python",
   "name": "python3"
  },
  "language_info": {
   "codemirror_mode": {
    "name": "ipython",
    "version": 3
   },
   "file_extension": ".py",
   "mimetype": "text/x-python",
   "name": "python",
   "nbconvert_exporter": "python",
   "pygments_lexer": "ipython3",
   "version": "3.6.5"
  },
  "toc": {
   "base_numbering": 1,
   "nav_menu": {},
   "number_sections": true,
   "sideBar": true,
   "skip_h1_title": false,
   "title_cell": "Table of Contents",
   "title_sidebar": "Contents",
   "toc_cell": false,
   "toc_position": {},
   "toc_section_display": true,
   "toc_window_display": false
  },
  "varInspector": {
   "cols": {
    "lenName": 16,
    "lenType": 16,
    "lenVar": 40
   },
   "kernels_config": {
    "python": {
     "delete_cmd_postfix": "",
     "delete_cmd_prefix": "del ",
     "library": "var_list.py",
     "varRefreshCmd": "print(var_dic_list())"
    },
    "r": {
     "delete_cmd_postfix": ") ",
     "delete_cmd_prefix": "rm(",
     "library": "var_list.r",
     "varRefreshCmd": "cat(var_dic_list()) "
    }
   },
   "types_to_exclude": [
    "module",
    "function",
    "builtin_function_or_method",
    "instance",
    "_Feature"
   ],
   "window_display": false
  }
 },
 "nbformat": 4,
 "nbformat_minor": 4
}
