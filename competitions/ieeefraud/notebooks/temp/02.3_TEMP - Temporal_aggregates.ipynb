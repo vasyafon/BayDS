{
 "cells": [
  {
   "cell_type": "code",
   "execution_count": 2,
   "metadata": {
    "ExecuteTime": {
     "end_time": "2019-08-18T12:48:48.693250Z",
     "start_time": "2019-08-18T12:48:48.660251Z"
    }
   },
   "outputs": [],
   "source": [
    "%load_ext autoreload\n",
    "%autoreload 2"
   ]
  },
  {
   "cell_type": "code",
   "execution_count": 3,
   "metadata": {
    "ExecuteTime": {
     "end_time": "2019-08-18T12:48:52.941651Z",
     "start_time": "2019-08-18T12:48:50.011439Z"
    }
   },
   "outputs": [
    {
     "data": {
      "text/plain": [
       "RendererRegistry.enable('notebook')"
      ]
     },
     "execution_count": 3,
     "metadata": {},
     "output_type": "execute_result"
    }
   ],
   "source": [
    "import numpy as np\n",
    "import pandas as pd\n",
    "import os\n",
    "import pickle\n",
    "\n",
    "import matplotlib.pyplot as plt\n",
    "%matplotlib inline\n",
    "from tqdm import tqdm_notebook\n",
    "from sklearn.preprocessing import StandardScaler\n",
    "from sklearn.svm import NuSVR, SVR\n",
    "from sklearn.metrics import mean_absolute_error\n",
    "pd.options.display.precision = 15\n",
    "\n",
    "import lightgbm as lgb\n",
    "import xgboost as xgb\n",
    "import time\n",
    "import datetime\n",
    "from catboost import CatBoostRegressor\n",
    "from sklearn.preprocessing import LabelEncoder, OneHotEncoder\n",
    "from sklearn.model_selection import StratifiedKFold, KFold, RepeatedKFold, GroupKFold, GridSearchCV, train_test_split, TimeSeriesSplit\n",
    "from sklearn import metrics\n",
    "from sklearn import linear_model\n",
    "import gc\n",
    "import seaborn as sns\n",
    "import warnings\n",
    "warnings.filterwarnings(\"ignore\")\n",
    "\n",
    "import eli5\n",
    "import shap\n",
    "from IPython.display import HTML\n",
    "import json\n",
    "import altair as alt\n",
    "\n",
    "import networkx as nx\n",
    "import matplotlib.pyplot as plt\n",
    "%matplotlib inline\n",
    "\n",
    "alt.renderers.enable('notebook')"
   ]
  },
  {
   "cell_type": "code",
   "execution_count": 4,
   "metadata": {
    "ExecuteTime": {
     "end_time": "2019-08-18T12:49:52.884014Z",
     "start_time": "2019-08-18T12:49:51.401500Z"
    }
   },
   "outputs": [],
   "source": [
    "# with pd.HDFStore('./hdf/Store.h5',complib='blosc:blosclz') as store:\n",
    "#     categorial_features = list(store['initial/categorial_features'].values.flatten())\n",
    "#     numerical_features = list(store['initial/numerical_features'].values.flatten())\n",
    "categorial_features = json.load(open('pickles/categorial_features.json','r'))\n",
    "numerical_features = json.load(open('pickles/numerical_features.json','r'))"
   ]
  },
  {
   "cell_type": "code",
   "execution_count": 5,
   "metadata": {},
   "outputs": [],
   "source": [
    "from BayDS import *\n"
   ]
  },
  {
   "cell_type": "code",
   "execution_count": 6,
   "metadata": {},
   "outputs": [],
   "source": [
    "# with pd.HDFStore('./hdf/pre-aggregate.h5') as store:\n",
    "#     data = store[f'data']\n"
   ]
  },
  {
   "cell_type": "code",
   "execution_count": 108,
   "metadata": {},
   "outputs": [],
   "source": [
    "# # Fixing same data timestamps for same card_id\n",
    "# check_data = data.reset_index().set_index(['card_id','Date'])\n",
    "\n",
    "# duplicate_transactions = check_data[check_data.index.duplicated()]['TransactionID'].values\n",
    "\n",
    "# for itid,tid in enumerate(duplicate_transactions):\n",
    "#     print(itid)\n",
    "    \n",
    "#     q = data.loc[tid]\n",
    "#     date = q['Date']\n",
    "#     card_id = q['card_id']\n",
    "#     alldup = data[data['Date']==date]\n",
    "#     alldup = alldup[alldup['card_id']==card_id]\n",
    "# #     print(alldup.index)\n",
    "#     for it,idx in enumerate(alldup.index):\n",
    "# #         print(idx)\n",
    "#         data.ix[idx,'Date']+= pd.Timedelta(seconds=it)\n",
    "# #     print(data.loc[alldup.index])\n",
    "# #     break"
   ]
  },
  {
   "cell_type": "code",
   "execution_count": 109,
   "metadata": {},
   "outputs": [],
   "source": [
    "# with pd.HDFStore('./hdf/pre-aggregate-no-duplicates.h5') as store:\n",
    "#     store[f'data'] = data"
   ]
  },
  {
   "cell_type": "code",
   "execution_count": null,
   "metadata": {},
   "outputs": [],
   "source": [
    "with pd.HDFStore('./hdf/pre-aggregate-no-duplicates.h5') as store:\n",
    "    data = store[f'data']\n"
   ]
  },
  {
   "cell_type": "code",
   "execution_count": 110,
   "metadata": {},
   "outputs": [],
   "source": [
    "# data_slice = data[['card_id','Date','TransactionAmt']]\n",
    "# q = data_slice.groupby(['card_id']).rolling(2,on='Date', min_periods=1)['TransactionAmt'].sum()"
   ]
  },
  {
   "cell_type": "code",
   "execution_count": 158,
   "metadata": {},
   "outputs": [],
   "source": [
    "def aggregate_with_time(data, group_column,num_feature, window_size=5):\n",
    "    data_slice = data[['Date',group_column,num_feature]].reset_index()\n",
    "    gb = data_slice.groupby([group_column])\n",
    "    q = gb.rolling(window_size,on='Date', min_periods=1)[num_feature].agg(['mean','std'])\n",
    "    ds = data_slice.set_index(['card_id','Date'])\n",
    "    ds = ds.join(q)\n",
    "    ds = ds.set_index('TransactionID').sort_index()\n",
    "    to_mean = ds[num_feature] / ds['mean']\n",
    "    to_std = ds[num_feature] / ds['std']\n",
    "    df = pd.DataFrame(index=data.index)\n",
    "    df[f'{num_feature}_by_{group_column}_ws{window_size}_to_mean'] = to_mean\n",
    "    df[f'{num_feature}_by_{group_column}_ws{window_size}_to_std'] = to_std\n",
    "    return df\n",
    "    "
   ]
  },
  {
   "cell_type": "code",
   "execution_count": 157,
   "metadata": {},
   "outputs": [
    {
     "data": {
      "text/html": [
       "<div>\n",
       "<style scoped>\n",
       "    .dataframe tbody tr th:only-of-type {\n",
       "        vertical-align: middle;\n",
       "    }\n",
       "\n",
       "    .dataframe tbody tr th {\n",
       "        vertical-align: top;\n",
       "    }\n",
       "\n",
       "    .dataframe thead th {\n",
       "        text-align: right;\n",
       "    }\n",
       "</style>\n",
       "<table border=\"1\" class=\"dataframe\">\n",
       "  <thead>\n",
       "    <tr style=\"text-align: right;\">\n",
       "      <th></th>\n",
       "      <th>TransactionAmt_by_card_id_window_5_to_mean</th>\n",
       "      <th>TransactionAmt_by_card_id_window_5_to_std</th>\n",
       "    </tr>\n",
       "    <tr>\n",
       "      <th>TransactionID</th>\n",
       "      <th></th>\n",
       "      <th></th>\n",
       "    </tr>\n",
       "  </thead>\n",
       "  <tbody>\n",
       "    <tr>\n",
       "      <td>2987000</td>\n",
       "      <td>1.000000000000000</td>\n",
       "      <td>NaN</td>\n",
       "    </tr>\n",
       "    <tr>\n",
       "      <td>2987001</td>\n",
       "      <td>1.000000000000000</td>\n",
       "      <td>NaN</td>\n",
       "    </tr>\n",
       "    <tr>\n",
       "      <td>2987002</td>\n",
       "      <td>1.000000000000000</td>\n",
       "      <td>NaN</td>\n",
       "    </tr>\n",
       "    <tr>\n",
       "      <td>2987003</td>\n",
       "      <td>1.000000000000000</td>\n",
       "      <td>NaN</td>\n",
       "    </tr>\n",
       "    <tr>\n",
       "      <td>2987004</td>\n",
       "      <td>1.000000000000000</td>\n",
       "      <td>NaN</td>\n",
       "    </tr>\n",
       "    <tr>\n",
       "      <td>...</td>\n",
       "      <td>...</td>\n",
       "      <td>...</td>\n",
       "    </tr>\n",
       "    <tr>\n",
       "      <td>4170235</td>\n",
       "      <td>2.535564853556485</td>\n",
       "      <td>2.866565109310470</td>\n",
       "    </tr>\n",
       "    <tr>\n",
       "      <td>4170236</td>\n",
       "      <td>0.602847856368983</td>\n",
       "      <td>1.184392382711580</td>\n",
       "    </tr>\n",
       "    <tr>\n",
       "      <td>4170237</td>\n",
       "      <td>0.424656050265410</td>\n",
       "      <td>0.629227222802077</td>\n",
       "    </tr>\n",
       "    <tr>\n",
       "      <td>4170238</td>\n",
       "      <td>2.315186246418338</td>\n",
       "      <td>2.640522875816993</td>\n",
       "    </tr>\n",
       "    <tr>\n",
       "      <td>4170239</td>\n",
       "      <td>0.148290565750400</td>\n",
       "      <td>0.206657003142942</td>\n",
       "    </tr>\n",
       "  </tbody>\n",
       "</table>\n",
       "<p>1097231 rows × 2 columns</p>\n",
       "</div>"
      ],
      "text/plain": [
       "               TransactionAmt_by_card_id_window_5_to_mean  \\\n",
       "TransactionID                                               \n",
       "2987000                                 1.000000000000000   \n",
       "2987001                                 1.000000000000000   \n",
       "2987002                                 1.000000000000000   \n",
       "2987003                                 1.000000000000000   \n",
       "2987004                                 1.000000000000000   \n",
       "...                                                   ...   \n",
       "4170235                                 2.535564853556485   \n",
       "4170236                                 0.602847856368983   \n",
       "4170237                                 0.424656050265410   \n",
       "4170238                                 2.315186246418338   \n",
       "4170239                                 0.148290565750400   \n",
       "\n",
       "               TransactionAmt_by_card_id_window_5_to_std  \n",
       "TransactionID                                             \n",
       "2987000                                              NaN  \n",
       "2987001                                              NaN  \n",
       "2987002                                              NaN  \n",
       "2987003                                              NaN  \n",
       "2987004                                              NaN  \n",
       "...                                                  ...  \n",
       "4170235                                2.866565109310470  \n",
       "4170236                                1.184392382711580  \n",
       "4170237                                0.629227222802077  \n",
       "4170238                                2.640522875816993  \n",
       "4170239                                0.206657003142942  \n",
       "\n",
       "[1097231 rows x 2 columns]"
      ]
     },
     "execution_count": 157,
     "metadata": {},
     "output_type": "execute_result"
    }
   ],
   "source": [
    "aggregate_with_time(data, 'card_id','TransactionAmt')\n"
   ]
  },
  {
   "cell_type": "code",
   "execution_count": 154,
   "metadata": {},
   "outputs": [
    {
     "data": {
      "text/plain": [
       "TransactionID\n",
       "2987000                  NaN\n",
       "2987001                  NaN\n",
       "2987002                  NaN\n",
       "2987003                  NaN\n",
       "2987004                  NaN\n",
       "                 ...        \n",
       "4170235    2.866565109310470\n",
       "4170236    1.184392382711580\n",
       "4170237    0.629227222802077\n",
       "4170238    2.640522875816993\n",
       "4170239    0.206657003142942\n",
       "Length: 1097231, dtype: float64"
      ]
     },
     "execution_count": 154,
     "metadata": {},
     "output_type": "execute_result"
    }
   ],
   "source": [
    "to_std"
   ]
  },
  {
   "cell_type": "code",
   "execution_count": 138,
   "metadata": {},
   "outputs": [
    {
     "data": {
      "text/plain": [
       "0           68.500000\n",
       "1           29.000000\n",
       "2           59.000000\n",
       "3           50.000000\n",
       "4           50.000000\n",
       "              ...    \n",
       "1097226     94.687500\n",
       "1097227     12.171875\n",
       "1097228     49.000000\n",
       "1097229    202.000000\n",
       "1097230     24.343750\n",
       "Name: TransactionAmt, Length: 1097231, dtype: float16"
      ]
     },
     "execution_count": 138,
     "metadata": {},
     "output_type": "execute_result"
    }
   ],
   "source": [
    "data_slice['TransactionAmt'] "
   ]
  },
  {
   "cell_type": "code",
   "execution_count": null,
   "metadata": {},
   "outputs": [],
   "source": []
  },
  {
   "cell_type": "code",
   "execution_count": 19,
   "metadata": {},
   "outputs": [
    {
     "data": {
      "text/plain": [
       "card_id  Date               \n",
       "0        2017-12-02 00:30:58         NaN\n",
       "         2017-12-02 00:35:38    306.0000\n",
       "         2017-12-02 00:44:45    187.9375\n",
       "         2017-12-02 00:47:30    215.8750\n",
       "         2017-12-02 00:59:29    150.9375\n",
       "Name: TransactionAmt, dtype: float64"
      ]
     },
     "execution_count": 19,
     "metadata": {},
     "output_type": "execute_result"
    }
   ],
   "source": [
    "q.head()"
   ]
  },
  {
   "cell_type": "code",
   "execution_count": 26,
   "metadata": {},
   "outputs": [
    {
     "data": {
      "text/plain": [
       "card_id  Date               \n",
       "0        2017-12-02 00:30:58    226.00000\n",
       "         2017-12-02 00:35:38    153.00000\n",
       "         2017-12-02 00:44:45     93.96875\n",
       "         2017-12-02 00:47:30    107.93750\n",
       "         2017-12-02 00:59:29     75.46875\n",
       "                                  ...    \n",
       "19224    2018-09-29 14:11:47     78.46875\n",
       "19225    2017-12-10 20:21:46    226.00000\n",
       "         2018-01-31 15:58:56    142.50000\n",
       "         2018-02-17 16:46:32     88.00000\n",
       "         2018-09-16 00:15:50    226.00000\n",
       "Name: TransactionAmt, Length: 1097231, dtype: float64"
      ]
     },
     "execution_count": 26,
     "metadata": {},
     "output_type": "execute_result"
    }
   ],
   "source": [
    "data_slice.groupby(['card_id']).rolling(2,on='Date', min_periods=1)['TransactionAmt'].mean()"
   ]
  },
  {
   "cell_type": "code",
   "execution_count": 13,
   "metadata": {},
   "outputs": [
    {
     "data": {
      "text/plain": [
       "TransactionID\n",
       "2987000     68.500000\n",
       "2987001     29.000000\n",
       "2987002     59.000000\n",
       "2987003     50.000000\n",
       "2987004     50.000000\n",
       "              ...    \n",
       "4170235     94.687500\n",
       "4170236     12.171875\n",
       "4170237     49.000000\n",
       "4170238    202.000000\n",
       "4170239     24.343750\n",
       "Name: TransactionAmt, Length: 1097231, dtype: float16"
      ]
     },
     "execution_count": 13,
     "metadata": {},
     "output_type": "execute_result"
    }
   ],
   "source": [
    "data['TransactionAmt']"
   ]
  },
  {
   "cell_type": "markdown",
   "metadata": {},
   "source": [
    "# Temporal Numerical Aggregates"
   ]
  },
  {
   "cell_type": "code",
   "execution_count": null,
   "metadata": {},
   "outputs": [],
   "source": [
    "def add_temporal_numerical_aggregate(df, target_column, group_column):\n",
    "    to_mean = pd.DataFrame()\n",
    "    to_mean[f'{target_column}_to_mean_{group_column}'] = df[target_column] / df.groupby([group_column])[target_column].transform('mean')\n"
   ]
  },
  {
   "cell_type": "code",
   "execution_count": 65,
   "metadata": {
    "ExecuteTime": {
     "end_time": "2019-08-18T12:52:41.125594Z",
     "start_time": "2019-08-18T12:52:23.306832Z"
    }
   },
   "outputs": [],
   "source": [
    "def add_categorial_aggregate(df, target_column, group_column):\n",
    "    print(target_column, group_column)\n",
    "    data_slice = df[[group_column,target_column]]\n",
    "    gb = data_slice.groupby([group_column,target_column])[target_column].transform('count') /  data_slice.groupby([group_column])[target_column].transform('count')\n",
    "    return gb\n",
    "    \n",
    "#     if scoring:\n",
    "#         new_score = quick_score2(df,categorial_features,addition=to_mean,categorial_features_in_addition=[])\n",
    "#         delta_score = new_score - score\n",
    "#         with open('./hdf/num_agg_scores.csv','a') as f:\n",
    "#             f.write(f'{target_column}_to_mean_{group_column}, {delta_score}\\n')\n",
    "#     if save:\n",
    "#         with pd.HDFStore('./hdf/engineering.h5') as store:\n",
    "#             store[f'numerical/{target_column}_to_std_{group_column}'] = to_mean[[f'{target_column}_to_mean_{group_column}']]\n",
    "\n",
    "#     to_std = pd.DataFrame()\n",
    "#     to_std[f'{target_column}_to_std_{group_column}'] = df[target_column] / data.groupby([group_column])[target_column].transform('std')\n",
    "#     if scoring:\n",
    "#         new_score = quick_score2(df,categorial_features,addition=to_std,categorial_features_in_addition=[])\n",
    "#         delta_score = new_score - score\n",
    "#         with open('./hdf/num_agg_scores.csv','a') as f:\n",
    "#             f.write(f'{target_column}_to_std_{group_column}, {delta_score}\\n')\n",
    "#     if save:\n",
    "#         with pd.HDFStore('./hdf/engineering.h5') as store:\n",
    "#             store[f'numerical/{target_column}_to_std_{group_column}'] = to_std[[f'{target_column}_to_std_{group_column}']]\n",
    "#     return to_mean.join(to_std)\n",
    "    \n",
    "# add_numerical_aggregate(data,'TransactionAmt', 'card_id')\n",
    "# add_numerical_aggregate(data,'dist1', 'card_id')\n",
    "# add_numerical_aggregate(data,'_Hours', 'card_id')\n",
    "\n",
    "\n",
    "\n"
   ]
  },
  {
   "cell_type": "code",
   "execution_count": 68,
   "metadata": {},
   "outputs": [
    {
     "name": "stdout",
     "output_type": "stream",
     "text": [
      "id_13 card_id\n",
      "id_14 card_id\n",
      "id_17 card_id\n",
      "id_18 card_id\n",
      "id_19 card_id\n",
      "id_20 card_id\n",
      "id_21 card_id\n",
      "id_22 card_id\n",
      "id_23 card_id\n",
      "id_24 card_id\n",
      "id_25 card_id\n",
      "id_26 card_id\n",
      "id_27 card_id\n",
      "id_30 card_id\n",
      "Exception \"['id_30'] not in index\"\n",
      "id_31 card_id\n",
      "Exception \"['id_31'] not in index\"\n",
      "id_33 card_id\n",
      "DeviceType card_id\n",
      "DeviceInfo card_id\n",
      "P_emaildomain card_id\n",
      "Exception \"['P_emaildomain'] not in index\"\n",
      "R_emaildomain card_id\n",
      "Exception \"['R_emaildomain'] not in index\"\n",
      "card1 card_id\n",
      "card2 card_id\n",
      "card3 card_id\n",
      "card5 card_id\n",
      "addr1 card_id\n",
      "addr2 card_id\n",
      "P_emaildomain_bin card_id\n",
      "P_emaildomain_suffix card_id\n",
      "R_emaildomain_bin card_id\n",
      "R_emaildomain_suffix card_id\n",
      "M1 card_id\n",
      "Exception \"['M1'] not in index\"\n",
      "M2 card_id\n",
      "M3 card_id\n",
      "M4 card_id\n",
      "M5 card_id\n",
      "M6 card_id\n",
      "M7 card_id\n",
      "M8 card_id\n",
      "M9 card_id\n",
      "card4 card_id\n",
      "card6 card_id\n",
      "ProductCD card_id\n",
      "id_12 card_id\n",
      "id_15 card_id\n",
      "id_16 card_id\n",
      "id_28 card_id\n",
      "id_29 card_id\n",
      "id_32 card_id\n",
      "id_34 card_id\n",
      "id_35 card_id\n",
      "id_36 card_id\n",
      "id_37 card_id\n",
      "id_38 card_id\n"
     ]
    }
   ],
   "source": [
    "cat_aggs = pd.DataFrame(index=data.index)\n",
    "# started = False\n",
    "for cat_feature in categorial_features:\n",
    "#     if not started and num_feature != 'V1':\n",
    "#         continue\n",
    "#     started = True\n",
    "    for group_feature in ['card_id']:\n",
    "        try:\n",
    "            cat_aggs[f'{cat_feature}_freq_groupby_{group_feature}']=add_categorial_aggregate(data,cat_feature, group_feature)\n",
    "        except Exception as ex:\n",
    "            print('Exception', ex)\n",
    "            "
   ]
  },
  {
   "cell_type": "code",
   "execution_count": 69,
   "metadata": {},
   "outputs": [
    {
     "data": {
      "text/html": [
       "<div>\n",
       "<style scoped>\n",
       "    .dataframe tbody tr th:only-of-type {\n",
       "        vertical-align: middle;\n",
       "    }\n",
       "\n",
       "    .dataframe tbody tr th {\n",
       "        vertical-align: top;\n",
       "    }\n",
       "\n",
       "    .dataframe thead th {\n",
       "        text-align: right;\n",
       "    }\n",
       "</style>\n",
       "<table border=\"1\" class=\"dataframe\">\n",
       "  <thead>\n",
       "    <tr style=\"text-align: right;\">\n",
       "      <th></th>\n",
       "      <th>id_13_freq_groupby_card_id</th>\n",
       "      <th>id_14_freq_groupby_card_id</th>\n",
       "      <th>id_17_freq_groupby_card_id</th>\n",
       "      <th>id_18_freq_groupby_card_id</th>\n",
       "      <th>id_19_freq_groupby_card_id</th>\n",
       "      <th>id_20_freq_groupby_card_id</th>\n",
       "      <th>id_21_freq_groupby_card_id</th>\n",
       "      <th>id_22_freq_groupby_card_id</th>\n",
       "      <th>id_23_freq_groupby_card_id</th>\n",
       "      <th>id_24_freq_groupby_card_id</th>\n",
       "      <th>...</th>\n",
       "      <th>id_15_freq_groupby_card_id</th>\n",
       "      <th>id_16_freq_groupby_card_id</th>\n",
       "      <th>id_28_freq_groupby_card_id</th>\n",
       "      <th>id_29_freq_groupby_card_id</th>\n",
       "      <th>id_32_freq_groupby_card_id</th>\n",
       "      <th>id_34_freq_groupby_card_id</th>\n",
       "      <th>id_35_freq_groupby_card_id</th>\n",
       "      <th>id_36_freq_groupby_card_id</th>\n",
       "      <th>id_37_freq_groupby_card_id</th>\n",
       "      <th>id_38_freq_groupby_card_id</th>\n",
       "    </tr>\n",
       "    <tr>\n",
       "      <th>TransactionID</th>\n",
       "      <th></th>\n",
       "      <th></th>\n",
       "      <th></th>\n",
       "      <th></th>\n",
       "      <th></th>\n",
       "      <th></th>\n",
       "      <th></th>\n",
       "      <th></th>\n",
       "      <th></th>\n",
       "      <th></th>\n",
       "      <th></th>\n",
       "      <th></th>\n",
       "      <th></th>\n",
       "      <th></th>\n",
       "      <th></th>\n",
       "      <th></th>\n",
       "      <th></th>\n",
       "      <th></th>\n",
       "      <th></th>\n",
       "      <th></th>\n",
       "      <th></th>\n",
       "    </tr>\n",
       "  </thead>\n",
       "  <tbody>\n",
       "    <tr>\n",
       "      <td>2987000</td>\n",
       "      <td>1.000000000000000</td>\n",
       "      <td>1.000000000000000</td>\n",
       "      <td>1.000000000000000</td>\n",
       "      <td>1.000000000000000</td>\n",
       "      <td>1.000000000000000</td>\n",
       "      <td>1.000000000000000</td>\n",
       "      <td>1.000000000000000</td>\n",
       "      <td>1.000000000000000</td>\n",
       "      <td>1.000000000000000</td>\n",
       "      <td>1.000000000000000</td>\n",
       "      <td>...</td>\n",
       "      <td>1.000000000000000</td>\n",
       "      <td>1.000000000000000</td>\n",
       "      <td>1.000000000000000</td>\n",
       "      <td>1.000000000000000</td>\n",
       "      <td>1.000000000000000</td>\n",
       "      <td>1.000000000000000</td>\n",
       "      <td>1.000000000000000</td>\n",
       "      <td>1.000000000000000</td>\n",
       "      <td>1.000000000000000</td>\n",
       "      <td>1.000000000000000</td>\n",
       "    </tr>\n",
       "    <tr>\n",
       "      <td>2987001</td>\n",
       "      <td>0.929216867469880</td>\n",
       "      <td>0.914909638554217</td>\n",
       "      <td>0.914156626506024</td>\n",
       "      <td>0.966867469879518</td>\n",
       "      <td>0.914156626506024</td>\n",
       "      <td>0.914156626506024</td>\n",
       "      <td>0.993222891566265</td>\n",
       "      <td>0.993222891566265</td>\n",
       "      <td>0.993222891566265</td>\n",
       "      <td>0.993222891566265</td>\n",
       "      <td>...</td>\n",
       "      <td>0.914156626506024</td>\n",
       "      <td>0.914156626506024</td>\n",
       "      <td>0.914156626506024</td>\n",
       "      <td>0.914156626506024</td>\n",
       "      <td>0.915662650602410</td>\n",
       "      <td>0.915662650602410</td>\n",
       "      <td>0.914156626506024</td>\n",
       "      <td>0.914156626506024</td>\n",
       "      <td>0.914156626506024</td>\n",
       "      <td>0.914156626506024</td>\n",
       "    </tr>\n",
       "    <tr>\n",
       "      <td>2987002</td>\n",
       "      <td>0.996082820369334</td>\n",
       "      <td>0.994963626189144</td>\n",
       "      <td>0.994963626189144</td>\n",
       "      <td>0.998880805819810</td>\n",
       "      <td>0.994963626189144</td>\n",
       "      <td>0.994963626189144</td>\n",
       "      <td>0.999440402909905</td>\n",
       "      <td>0.999440402909905</td>\n",
       "      <td>0.999440402909905</td>\n",
       "      <td>0.999440402909905</td>\n",
       "      <td>...</td>\n",
       "      <td>0.994404029099049</td>\n",
       "      <td>0.994963626189144</td>\n",
       "      <td>0.994404029099049</td>\n",
       "      <td>0.994404029099049</td>\n",
       "      <td>0.994963626189144</td>\n",
       "      <td>0.994404029099049</td>\n",
       "      <td>0.994404029099049</td>\n",
       "      <td>0.994404029099049</td>\n",
       "      <td>0.994404029099049</td>\n",
       "      <td>0.994404029099049</td>\n",
       "    </tr>\n",
       "    <tr>\n",
       "      <td>2987003</td>\n",
       "      <td>0.947908445146014</td>\n",
       "      <td>0.919757958431992</td>\n",
       "      <td>0.920021047092870</td>\n",
       "      <td>0.969481715338069</td>\n",
       "      <td>0.920021047092870</td>\n",
       "      <td>0.920021047092870</td>\n",
       "      <td>0.995527492765062</td>\n",
       "      <td>0.995527492765062</td>\n",
       "      <td>0.995527492765062</td>\n",
       "      <td>0.995527492765062</td>\n",
       "      <td>...</td>\n",
       "      <td>0.918047882136280</td>\n",
       "      <td>0.919363325440674</td>\n",
       "      <td>0.918179426466719</td>\n",
       "      <td>0.918179426466719</td>\n",
       "      <td>0.919757958431992</td>\n",
       "      <td>0.921468034727703</td>\n",
       "      <td>0.918047882136280</td>\n",
       "      <td>0.918047882136280</td>\n",
       "      <td>0.918047882136280</td>\n",
       "      <td>0.918047882136280</td>\n",
       "    </tr>\n",
       "    <tr>\n",
       "      <td>2987004</td>\n",
       "      <td>0.833333333333333</td>\n",
       "      <td>0.066666666666667</td>\n",
       "      <td>0.333333333333333</td>\n",
       "      <td>0.900000000000000</td>\n",
       "      <td>0.066666666666667</td>\n",
       "      <td>0.033333333333333</td>\n",
       "      <td>1.000000000000000</td>\n",
       "      <td>1.000000000000000</td>\n",
       "      <td>1.000000000000000</td>\n",
       "      <td>1.000000000000000</td>\n",
       "      <td>...</td>\n",
       "      <td>0.166666666666667</td>\n",
       "      <td>0.166666666666667</td>\n",
       "      <td>0.133333333333333</td>\n",
       "      <td>0.133333333333333</td>\n",
       "      <td>0.066666666666667</td>\n",
       "      <td>0.333333333333333</td>\n",
       "      <td>0.333333333333333</td>\n",
       "      <td>0.266666666666667</td>\n",
       "      <td>0.266666666666667</td>\n",
       "      <td>0.300000000000000</td>\n",
       "    </tr>\n",
       "  </tbody>\n",
       "</table>\n",
       "<p>5 rows × 48 columns</p>\n",
       "</div>"
      ],
      "text/plain": [
       "               id_13_freq_groupby_card_id  id_14_freq_groupby_card_id  \\\n",
       "TransactionID                                                           \n",
       "2987000                 1.000000000000000           1.000000000000000   \n",
       "2987001                 0.929216867469880           0.914909638554217   \n",
       "2987002                 0.996082820369334           0.994963626189144   \n",
       "2987003                 0.947908445146014           0.919757958431992   \n",
       "2987004                 0.833333333333333           0.066666666666667   \n",
       "\n",
       "               id_17_freq_groupby_card_id  id_18_freq_groupby_card_id  \\\n",
       "TransactionID                                                           \n",
       "2987000                 1.000000000000000           1.000000000000000   \n",
       "2987001                 0.914156626506024           0.966867469879518   \n",
       "2987002                 0.994963626189144           0.998880805819810   \n",
       "2987003                 0.920021047092870           0.969481715338069   \n",
       "2987004                 0.333333333333333           0.900000000000000   \n",
       "\n",
       "               id_19_freq_groupby_card_id  id_20_freq_groupby_card_id  \\\n",
       "TransactionID                                                           \n",
       "2987000                 1.000000000000000           1.000000000000000   \n",
       "2987001                 0.914156626506024           0.914156626506024   \n",
       "2987002                 0.994963626189144           0.994963626189144   \n",
       "2987003                 0.920021047092870           0.920021047092870   \n",
       "2987004                 0.066666666666667           0.033333333333333   \n",
       "\n",
       "               id_21_freq_groupby_card_id  id_22_freq_groupby_card_id  \\\n",
       "TransactionID                                                           \n",
       "2987000                 1.000000000000000           1.000000000000000   \n",
       "2987001                 0.993222891566265           0.993222891566265   \n",
       "2987002                 0.999440402909905           0.999440402909905   \n",
       "2987003                 0.995527492765062           0.995527492765062   \n",
       "2987004                 1.000000000000000           1.000000000000000   \n",
       "\n",
       "               id_23_freq_groupby_card_id  id_24_freq_groupby_card_id  ...  \\\n",
       "TransactionID                                                          ...   \n",
       "2987000                 1.000000000000000           1.000000000000000  ...   \n",
       "2987001                 0.993222891566265           0.993222891566265  ...   \n",
       "2987002                 0.999440402909905           0.999440402909905  ...   \n",
       "2987003                 0.995527492765062           0.995527492765062  ...   \n",
       "2987004                 1.000000000000000           1.000000000000000  ...   \n",
       "\n",
       "               id_15_freq_groupby_card_id  id_16_freq_groupby_card_id  \\\n",
       "TransactionID                                                           \n",
       "2987000                 1.000000000000000           1.000000000000000   \n",
       "2987001                 0.914156626506024           0.914156626506024   \n",
       "2987002                 0.994404029099049           0.994963626189144   \n",
       "2987003                 0.918047882136280           0.919363325440674   \n",
       "2987004                 0.166666666666667           0.166666666666667   \n",
       "\n",
       "               id_28_freq_groupby_card_id  id_29_freq_groupby_card_id  \\\n",
       "TransactionID                                                           \n",
       "2987000                 1.000000000000000           1.000000000000000   \n",
       "2987001                 0.914156626506024           0.914156626506024   \n",
       "2987002                 0.994404029099049           0.994404029099049   \n",
       "2987003                 0.918179426466719           0.918179426466719   \n",
       "2987004                 0.133333333333333           0.133333333333333   \n",
       "\n",
       "               id_32_freq_groupby_card_id  id_34_freq_groupby_card_id  \\\n",
       "TransactionID                                                           \n",
       "2987000                 1.000000000000000           1.000000000000000   \n",
       "2987001                 0.915662650602410           0.915662650602410   \n",
       "2987002                 0.994963626189144           0.994404029099049   \n",
       "2987003                 0.919757958431992           0.921468034727703   \n",
       "2987004                 0.066666666666667           0.333333333333333   \n",
       "\n",
       "               id_35_freq_groupby_card_id  id_36_freq_groupby_card_id  \\\n",
       "TransactionID                                                           \n",
       "2987000                 1.000000000000000           1.000000000000000   \n",
       "2987001                 0.914156626506024           0.914156626506024   \n",
       "2987002                 0.994404029099049           0.994404029099049   \n",
       "2987003                 0.918047882136280           0.918047882136280   \n",
       "2987004                 0.333333333333333           0.266666666666667   \n",
       "\n",
       "               id_37_freq_groupby_card_id  id_38_freq_groupby_card_id  \n",
       "TransactionID                                                          \n",
       "2987000                 1.000000000000000           1.000000000000000  \n",
       "2987001                 0.914156626506024           0.914156626506024  \n",
       "2987002                 0.994404029099049           0.994404029099049  \n",
       "2987003                 0.918047882136280           0.918047882136280  \n",
       "2987004                 0.266666666666667           0.300000000000000  \n",
       "\n",
       "[5 rows x 48 columns]"
      ]
     },
     "execution_count": 69,
     "metadata": {},
     "output_type": "execute_result"
    }
   ],
   "source": [
    "cat_aggs.head()"
   ]
  },
  {
   "cell_type": "code",
   "execution_count": 70,
   "metadata": {},
   "outputs": [],
   "source": [
    "cat_aggs = cat_aggs.astype(np.float32)"
   ]
  },
  {
   "cell_type": "code",
   "execution_count": 71,
   "metadata": {},
   "outputs": [],
   "source": [
    "with pd.HDFStore('./hdf/categorial_aggregations.h5',complib='blosc:blosclz') as store:\n",
    "    store.put('cat_aggs', cat_aggs)\n",
    "    "
   ]
  },
  {
   "cell_type": "markdown",
   "metadata": {},
   "source": [
    "0) Treat categorial features accurately, find very diverse and unite them\n",
    "\n",
    "1) Убрать коррелирующие фичи\n",
    "\n",
    "2) Убрать ту из них что даёт меньший джини\n",
    "\n",
    "3) TimeKFold instead of StratifiedKFold"
   ]
  }
 ],
 "metadata": {
  "kernelspec": {
   "display_name": "Python 3",
   "language": "python",
   "name": "python3"
  },
  "language_info": {
   "codemirror_mode": {
    "name": "ipython",
    "version": 3
   },
   "file_extension": ".py",
   "mimetype": "text/x-python",
   "name": "python",
   "nbconvert_exporter": "python",
   "pygments_lexer": "ipython3",
   "version": "3.6.5"
  },
  "toc": {
   "base_numbering": 1,
   "nav_menu": {},
   "number_sections": true,
   "sideBar": true,
   "skip_h1_title": false,
   "title_cell": "Table of Contents",
   "title_sidebar": "Contents",
   "toc_cell": false,
   "toc_position": {},
   "toc_section_display": true,
   "toc_window_display": false
  },
  "varInspector": {
   "cols": {
    "lenName": 16,
    "lenType": 16,
    "lenVar": 40
   },
   "kernels_config": {
    "python": {
     "delete_cmd_postfix": "",
     "delete_cmd_prefix": "del ",
     "library": "var_list.py",
     "varRefreshCmd": "print(var_dic_list())"
    },
    "r": {
     "delete_cmd_postfix": ") ",
     "delete_cmd_prefix": "rm(",
     "library": "var_list.r",
     "varRefreshCmd": "cat(var_dic_list()) "
    }
   },
   "types_to_exclude": [
    "module",
    "function",
    "builtin_function_or_method",
    "instance",
    "_Feature"
   ],
   "window_display": false
  }
 },
 "nbformat": 4,
 "nbformat_minor": 4
}
