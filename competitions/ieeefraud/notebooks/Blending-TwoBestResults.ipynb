{
 "cells": [
  {
   "cell_type": "code",
   "execution_count": 1,
   "metadata": {
    "ExecuteTime": {
     "end_time": "2019-09-12T17:06:27.379824Z",
     "start_time": "2019-09-12T17:06:23.101817Z"
    }
   },
   "outputs": [
    {
     "name": "stderr",
     "output_type": "stream",
     "text": [
      "Using TensorFlow backend.\n"
     ]
    }
   ],
   "source": [
    "%load_ext autoreload\n",
    "%autoreload 2\n",
    "import numpy as np\n",
    "import pandas as pd\n",
    "import os\n",
    "import matplotlib.pyplot as plt\n",
    "%matplotlib inline\n",
    "from tqdm import tqdm_notebook\n",
    "from sklearn.preprocessing import StandardScaler\n",
    "import lightgbm as lgb\n",
    "from sklearn.preprocessing import LabelEncoder\n",
    "from sklearn.model_selection import StratifiedKFold, KFold, RepeatedKFold, GroupKFold, GridSearchCV, train_test_split, TimeSeriesSplit\n",
    "from sklearn import metrics\n",
    "from sklearn import linear_model\n",
    "import gc\n",
    "import warnings\n",
    "warnings.filterwarnings(\"ignore\")\n",
    "import pickle\n",
    "import sys\n",
    "main_path = r'../..'\n",
    "sys.path.append(main_path)\n",
    "from BayDS import *"
   ]
  },
  {
   "cell_type": "code",
   "execution_count": 2,
   "metadata": {
    "ExecuteTime": {
     "end_time": "2019-09-12T17:06:27.648827Z",
     "start_time": "2019-09-12T17:06:27.381836Z"
    }
   },
   "outputs": [],
   "source": [
    "main_folder = r'../../Snapshots/Stacking/data'\n",
    "model_folder = r'../../Snapshots/Stacking/12.09'"
   ]
  },
  {
   "cell_type": "code",
   "execution_count": 3,
   "metadata": {
    "ExecuteTime": {
     "end_time": "2019-09-12T17:06:33.046692Z",
     "start_time": "2019-09-12T17:06:27.651828Z"
    }
   },
   "outputs": [],
   "source": [
    "train = pd.read_pickle(f'../../Data/train_09457_with_additions.pkl')\n",
    "test = pd.read_pickle(f'../../Data/test_09457_with_additions.pkl')\n"
   ]
  },
  {
   "cell_type": "code",
   "execution_count": 4,
   "metadata": {
    "ExecuteTime": {
     "end_time": "2019-09-12T17:06:33.459670Z",
     "start_time": "2019-09-12T17:06:33.048635Z"
    }
   },
   "outputs": [
    {
     "name": "stdout",
     "output_type": "stream",
     "text": [
      "keras-1 0.9369870255428566\n",
      "keras-4 0.9384344028402574\n",
      "keras-4Layer 0.9318094575694726\n"
     ]
    }
   ],
   "source": [
    "L = os.listdir(main_folder)\n",
    "oof = pd.DataFrame(index=train.index)\n",
    "prediction = pd.DataFrame(index=test.index)\n",
    "for experiment_name in L:\n",
    "    experiment_folder = os.path.join(main_folder,experiment_name)\n",
    "    if not os.path.exists(f'{experiment_folder}/results_dict.pkl'):\n",
    "        continue\n",
    "    results_dict = pd.read_pickle(f'{experiment_folder}/results_dict.pkl')\n",
    "    print(experiment_name, sum(results_dict['scores'])/len(results_dict['scores']))\n",
    "    oof[experiment_name] = results_dict['oof'][:,0]\n",
    "    prediction[experiment_name] = results_dict['prediction'][:,0]\n",
    "y = train.isFraud\n",
    "    "
   ]
  },
  {
   "cell_type": "code",
   "execution_count": 6,
   "metadata": {
    "ExecuteTime": {
     "end_time": "2019-09-12T17:06:44.665915Z",
     "start_time": "2019-09-12T17:06:44.038915Z"
    }
   },
   "outputs": [],
   "source": [
    "# add best lgbm model\n",
    "oof_lgbm = pd.read_csv(main_folder+'/Best09457/oof_best_submit.csv')\n",
    "sub = pd.read_csv(main_folder+'/Best09457/ieee_with_additions.csv')\n",
    "oof_lgbm.set_index('TransactionID', inplace=True)\n",
    "sub.set_index('TransactionID', inplace=True)\n",
    "assert(np.all(oof_lgbm.index == oof.index))\n",
    "assert(np.all(sub.index == prediction.index))"
   ]
  },
  {
   "cell_type": "code",
   "execution_count": 7,
   "metadata": {
    "ExecuteTime": {
     "end_time": "2019-09-12T17:06:46.428963Z",
     "start_time": "2019-09-12T17:06:46.167927Z"
    }
   },
   "outputs": [],
   "source": [
    "oof['BestLGBM'] = oof_lgbm['score']\n",
    "prediction['BestLGBM'] = sub['isFraud']\n"
   ]
  },
  {
   "cell_type": "code",
   "execution_count": 8,
   "metadata": {
    "ExecuteTime": {
     "end_time": "2019-09-12T17:06:48.390941Z",
     "start_time": "2019-09-12T17:06:47.841938Z"
    }
   },
   "outputs": [],
   "source": [
    "del train\n",
    "del test"
   ]
  },
  {
   "cell_type": "code",
   "execution_count": 9,
   "metadata": {
    "ExecuteTime": {
     "end_time": "2019-09-12T17:06:49.216949Z",
     "start_time": "2019-09-12T17:06:48.959950Z"
    }
   },
   "outputs": [],
   "source": [
    "n_fold = 5\n",
    "folds = KFold(n_splits=n_fold)"
   ]
  },
  {
   "cell_type": "code",
   "execution_count": 10,
   "metadata": {
    "ExecuteTime": {
     "end_time": "2019-09-12T17:06:50.269718Z",
     "start_time": "2019-09-12T17:06:50.008687Z"
    }
   },
   "outputs": [
    {
     "data": {
      "text/plain": [
       "(506691, 4)"
      ]
     },
     "execution_count": 10,
     "metadata": {},
     "output_type": "execute_result"
    }
   ],
   "source": [
    "prediction.shape"
   ]
  },
  {
   "cell_type": "code",
   "execution_count": 11,
   "metadata": {
    "ExecuteTime": {
     "end_time": "2019-09-12T17:06:51.999725Z",
     "start_time": "2019-09-12T17:06:50.848694Z"
    }
   },
   "outputs": [
    {
     "name": "stdout",
     "output_type": "stream",
     "text": [
      "keras-1 0.9333670008488467\n",
      "keras-4 0.935259000160181\n",
      "keras-4Layer 0.9282044589502246\n",
      "BestLGBM 0.9369916830129429\n"
     ]
    }
   ],
   "source": [
    "for col in oof.columns:\n",
    "    print(col,fast_auc(y,oof[col]))"
   ]
  },
  {
   "cell_type": "markdown",
   "metadata": {},
   "source": [
    "## Blending"
   ]
  },
  {
   "cell_type": "code",
   "execution_count": 18,
   "metadata": {
    "ExecuteTime": {
     "end_time": "2019-09-12T17:09:08.594044Z",
     "start_time": "2019-09-12T17:09:08.327012Z"
    }
   },
   "outputs": [],
   "source": []
  },
  {
   "cell_type": "code",
   "execution_count": 42,
   "metadata": {
    "ExecuteTime": {
     "end_time": "2019-09-12T17:20:40.186050Z",
     "start_time": "2019-09-12T17:20:39.808009Z"
    }
   },
   "outputs": [
    {
     "data": {
      "text/plain": [
       "0.9369916830129429"
      ]
     },
     "execution_count": 42,
     "metadata": {},
     "output_type": "execute_result"
    }
   ],
   "source": [
    "def blend_auc(alpha):\n",
    "    blend = oof['keras-4']*(1-alpha)+oof['BestLGBM']*alpha\n",
    "    return fast_auc(y,blend)\n",
    "blend_auc(1)"
   ]
  },
  {
   "cell_type": "code",
   "execution_count": 43,
   "metadata": {
    "ExecuteTime": {
     "end_time": "2019-09-12T17:20:51.055006Z",
     "start_time": "2019-09-12T17:20:46.347804Z"
    }
   },
   "outputs": [],
   "source": [
    "L = np.linspace(0,1,50)\n",
    "scores = [blend_auc(l) for l in L]"
   ]
  },
  {
   "cell_type": "code",
   "execution_count": 44,
   "metadata": {
    "ExecuteTime": {
     "end_time": "2019-09-12T17:20:52.134047Z",
     "start_time": "2019-09-12T17:20:51.683000Z"
    }
   },
   "outputs": [
    {
     "data": {
      "text/plain": [
       "[<matplotlib.lines.Line2D at 0x251827bb688>]"
      ]
     },
     "execution_count": 44,
     "metadata": {},
     "output_type": "execute_result"
    },
    {
     "data": {
      "image/png": "[encoded data removed]",
      "text/plain": [
       "<Figure size 432x288 with 1 Axes>"
      ]
     },
     "metadata": {
      "needs_background": "light"
     },
     "output_type": "display_data"
    }
   ],
   "source": [
    "plt.plot(L,scores)"
   ]
  },
  {
   "cell_type": "code",
   "execution_count": 31,
   "metadata": {
    "ExecuteTime": {
     "end_time": "2019-09-12T17:16:21.432548Z",
     "start_time": "2019-09-12T17:16:21.167943Z"
    }
   },
   "outputs": [],
   "source": [
    "from scipy.optimize import minimize"
   ]
  },
  {
   "cell_type": "code",
   "execution_count": 38,
   "metadata": {
    "ExecuteTime": {
     "end_time": "2019-09-12T17:19:39.901541Z",
     "start_time": "2019-09-12T17:19:37.456425Z"
    }
   },
   "outputs": [],
   "source": [
    "alpha_min = minimize(blend_auc,0.5,method='L-BFGS-B',options={'disp':1})"
   ]
  },
  {
   "cell_type": "code",
   "execution_count": 39,
   "metadata": {
    "ExecuteTime": {
     "end_time": "2019-09-12T17:19:41.471221Z",
     "start_time": "2019-09-12T17:19:41.177216Z"
    }
   },
   "outputs": [
    {
     "data": {
      "text/plain": [
       "      fun: -0.9491430602369693\n",
       " hess_inv: <1x1 LbfgsInvHessProduct with dtype=float64>\n",
       "      jac: array([0.])\n",
       "  message: b'CONVERGENCE: NORM_OF_PROJECTED_GRADIENT_<=_PGTOL'\n",
       "     nfev: 24\n",
       "      nit: 2\n",
       "   status: 0\n",
       "  success: True\n",
       "        x: array([0.58379335])"
      ]
     },
     "execution_count": 39,
     "metadata": {},
     "output_type": "execute_result"
    }
   ],
   "source": [
    "alpha_min"
   ]
  },
  {
   "cell_type": "code",
   "execution_count": 21,
   "metadata": {
    "ExecuteTime": {
     "end_time": "2019-09-12T17:09:46.692973Z",
     "start_time": "2019-09-12T17:09:46.432967Z"
    }
   },
   "outputs": [
    {
     "data": {
      "text/plain": [
       "Int64Index([3663549, 3663550, 3663551, 3663552, 3663553, 3663554, 3663555,\n",
       "            3663556, 3663557, 3663558,\n",
       "            ...\n",
       "            4170230, 4170231, 4170232, 4170233, 4170234, 4170235, 4170236,\n",
       "            4170237, 4170238, 4170239],\n",
       "           dtype='int64', name='TransactionID', length=506691)"
      ]
     },
     "execution_count": 21,
     "metadata": {},
     "output_type": "execute_result"
    }
   ],
   "source": [
    "blend.index"
   ]
  },
  {
   "cell_type": "code",
   "execution_count": 22,
   "metadata": {
    "ExecuteTime": {
     "end_time": "2019-09-12T17:09:57.854384Z",
     "start_time": "2019-09-12T17:09:57.562383Z"
    }
   },
   "outputs": [
    {
     "data": {
      "text/plain": [
       "RangeIndex(start=0, stop=506691, step=1)"
      ]
     },
     "execution_count": 22,
     "metadata": {},
     "output_type": "execute_result"
    }
   ],
   "source": [
    "sub.index"
   ]
  },
  {
   "cell_type": "code",
   "execution_count": 25,
   "metadata": {
    "ExecuteTime": {
     "end_time": "2019-09-12T17:11:09.809382Z",
     "start_time": "2019-09-12T17:11:07.733299Z"
    }
   },
   "outputs": [],
   "source": [
    "sub = pd.read_csv(f'../../data/sample_submission.csv')\n",
    "sub.set_index('TransactionID',inplace=True)\n",
    "sub['isFraud'] = blend['blend']\n",
    "sub.to_csv(f'{model_folder}/blender.csv')"
   ]
  },
  {
   "cell_type": "code",
   "execution_count": 22,
   "metadata": {
    "ExecuteTime": {
     "end_time": "2019-09-06T20:45:09.251891Z",
     "start_time": "2019-09-06T20:45:09.079876Z"
    }
   },
   "outputs": [],
   "source": [
    "import pickle\n",
    "with open(f'{model_folder}/results_dict.pkl', 'wb') as f:\n",
    "#     q = json.dumps(result_dict_lgb,indent=2)\n",
    "    pickle.dump(result_dict_keras,f)\n",
    "#     f.write(q)"
   ]
  }
 ],
 "metadata": {
  "kernelspec": {
   "display_name": "Python 3",
   "language": "python",
   "name": "python3"
  },
  "language_info": {
   "codemirror_mode": {
    "name": "ipython",
    "version": 3
   },
   "file_extension": ".py",
   "mimetype": "text/x-python",
   "name": "python",
   "nbconvert_exporter": "python",
   "pygments_lexer": "ipython3",
   "version": "3.7.4"
  },
  "toc": {
   "base_numbering": 1,
   "nav_menu": {},
   "number_sections": true,
   "sideBar": true,
   "skip_h1_title": false,
   "title_cell": "Table of Contents",
   "title_sidebar": "Contents",
   "toc_cell": false,
   "toc_position": {},
   "toc_section_display": true,
   "toc_window_display": false
  },
  "varInspector": {
   "cols": {
    "lenName": 16,
    "lenType": 16,
    "lenVar": 40
   },
   "kernels_config": {
    "python": {
     "delete_cmd_postfix": "",
     "delete_cmd_prefix": "del ",
     "library": "var_list.py",
     "varRefreshCmd": "print(var_dic_list())"
    },
    "r": {
     "delete_cmd_postfix": ") ",
     "delete_cmd_prefix": "rm(",
     "library": "var_list.r",
     "varRefreshCmd": "cat(var_dic_list()) "
    }
   },
   "types_to_exclude": [
    "module",
    "function",
    "builtin_function_or_method",
    "instance",
    "_Feature"
   ],
   "window_display": false
  }
 },
 "nbformat": 4,
 "nbformat_minor": 2
}
