{
 "cells": [
  {
   "cell_type": "code",
   "execution_count": 1,
   "metadata": {
    "ExecuteTime": {
     "end_time": "2019-09-11T18:21:35.810420Z",
     "start_time": "2019-09-11T18:21:34.423422Z"
    }
   },
   "outputs": [],
   "source": [
    "import pandas as pd\n",
    "from sklearn.model_selection import KFold\n",
    "import json"
   ]
  },
  {
   "cell_type": "code",
   "execution_count": 2,
   "metadata": {
    "ExecuteTime": {
     "end_time": "2019-09-11T18:21:39.665420Z",
     "start_time": "2019-09-11T18:21:36.018423Z"
    }
   },
   "outputs": [
    {
     "name": "stderr",
     "output_type": "stream",
     "text": [
      "Using TensorFlow backend.\n",
      "c:\\python36\\lib\\site-packages\\tensorflow\\python\\framework\\dtypes.py:516: FutureWarning: Passing (type, 1) or '1type' as a synonym of type is deprecated; in a future version of numpy, it will be understood as (type, (1,)) / '(1,)type'.\n",
      "  _np_qint8 = np.dtype([(\"qint8\", np.int8, 1)])\n",
      "c:\\python36\\lib\\site-packages\\tensorflow\\python\\framework\\dtypes.py:517: FutureWarning: Passing (type, 1) or '1type' as a synonym of type is deprecated; in a future version of numpy, it will be understood as (type, (1,)) / '(1,)type'.\n",
      "  _np_quint8 = np.dtype([(\"quint8\", np.uint8, 1)])\n",
      "c:\\python36\\lib\\site-packages\\tensorflow\\python\\framework\\dtypes.py:518: FutureWarning: Passing (type, 1) or '1type' as a synonym of type is deprecated; in a future version of numpy, it will be understood as (type, (1,)) / '(1,)type'.\n",
      "  _np_qint16 = np.dtype([(\"qint16\", np.int16, 1)])\n",
      "c:\\python36\\lib\\site-packages\\tensorflow\\python\\framework\\dtypes.py:519: FutureWarning: Passing (type, 1) or '1type' as a synonym of type is deprecated; in a future version of numpy, it will be understood as (type, (1,)) / '(1,)type'.\n",
      "  _np_quint16 = np.dtype([(\"quint16\", np.uint16, 1)])\n",
      "c:\\python36\\lib\\site-packages\\tensorflow\\python\\framework\\dtypes.py:520: FutureWarning: Passing (type, 1) or '1type' as a synonym of type is deprecated; in a future version of numpy, it will be understood as (type, (1,)) / '(1,)type'.\n",
      "  _np_qint32 = np.dtype([(\"qint32\", np.int32, 1)])\n",
      "c:\\python36\\lib\\site-packages\\tensorflow\\python\\framework\\dtypes.py:525: FutureWarning: Passing (type, 1) or '1type' as a synonym of type is deprecated; in a future version of numpy, it will be understood as (type, (1,)) / '(1,)type'.\n",
      "  np_resource = np.dtype([(\"resource\", np.ubyte, 1)])\n",
      "c:\\python36\\lib\\site-packages\\tensorboard\\compat\\tensorflow_stub\\dtypes.py:541: FutureWarning: Passing (type, 1) or '1type' as a synonym of type is deprecated; in a future version of numpy, it will be understood as (type, (1,)) / '(1,)type'.\n",
      "  _np_qint8 = np.dtype([(\"qint8\", np.int8, 1)])\n",
      "c:\\python36\\lib\\site-packages\\tensorboard\\compat\\tensorflow_stub\\dtypes.py:542: FutureWarning: Passing (type, 1) or '1type' as a synonym of type is deprecated; in a future version of numpy, it will be understood as (type, (1,)) / '(1,)type'.\n",
      "  _np_quint8 = np.dtype([(\"quint8\", np.uint8, 1)])\n",
      "c:\\python36\\lib\\site-packages\\tensorboard\\compat\\tensorflow_stub\\dtypes.py:543: FutureWarning: Passing (type, 1) or '1type' as a synonym of type is deprecated; in a future version of numpy, it will be understood as (type, (1,)) / '(1,)type'.\n",
      "  _np_qint16 = np.dtype([(\"qint16\", np.int16, 1)])\n",
      "c:\\python36\\lib\\site-packages\\tensorboard\\compat\\tensorflow_stub\\dtypes.py:544: FutureWarning: Passing (type, 1) or '1type' as a synonym of type is deprecated; in a future version of numpy, it will be understood as (type, (1,)) / '(1,)type'.\n",
      "  _np_quint16 = np.dtype([(\"quint16\", np.uint16, 1)])\n",
      "c:\\python36\\lib\\site-packages\\tensorboard\\compat\\tensorflow_stub\\dtypes.py:545: FutureWarning: Passing (type, 1) or '1type' as a synonym of type is deprecated; in a future version of numpy, it will be understood as (type, (1,)) / '(1,)type'.\n",
      "  _np_qint32 = np.dtype([(\"qint32\", np.int32, 1)])\n",
      "c:\\python36\\lib\\site-packages\\tensorboard\\compat\\tensorflow_stub\\dtypes.py:550: FutureWarning: Passing (type, 1) or '1type' as a synonym of type is deprecated; in a future version of numpy, it will be understood as (type, (1,)) / '(1,)type'.\n",
      "  np_resource = np.dtype([(\"resource\", np.ubyte, 1)])\n"
     ]
    }
   ],
   "source": [
    "main_path = r'../..'\n",
    "\n",
    "import sys\n",
    "sys.path.append(main_path)\n",
    "from BayDS import *"
   ]
  },
  {
   "cell_type": "code",
   "execution_count": 3,
   "metadata": {
    "ExecuteTime": {
     "end_time": "2019-09-11T18:21:39.944423Z",
     "start_time": "2019-09-11T18:21:39.694423Z"
    }
   },
   "outputs": [],
   "source": [
    "Xscore = pd.read_csv('oof_best_submit.csv').set_index('TransactionID')"
   ]
  },
  {
   "cell_type": "code",
   "execution_count": 4,
   "metadata": {
    "ExecuteTime": {
     "end_time": "2019-09-11T18:22:24.473421Z",
     "start_time": "2019-09-11T18:21:42.617427Z"
    }
   },
   "outputs": [],
   "source": [
    "X_score_agg =  pd.read_csv('X_score_agg.csv').set_index('TransactionID')"
   ]
  },
  {
   "cell_type": "code",
   "execution_count": 5,
   "metadata": {
    "ExecuteTime": {
     "end_time": "2019-09-11T18:22:26.281437Z",
     "start_time": "2019-09-11T18:22:24.748422Z"
    }
   },
   "outputs": [],
   "source": [
    "y = pd.read_pickle(f'f:/my/Prog/kaggle/Baydin/Data/y.pkl')\n"
   ]
  },
  {
   "cell_type": "code",
   "execution_count": 6,
   "metadata": {
    "ExecuteTime": {
     "end_time": "2019-09-11T18:22:26.500423Z",
     "start_time": "2019-09-11T18:22:26.496423Z"
    }
   },
   "outputs": [],
   "source": [
    "all_features = list(X_score_agg.columns)"
   ]
  },
  {
   "cell_type": "code",
   "execution_count": 7,
   "metadata": {
    "ExecuteTime": {
     "end_time": "2019-09-11T18:22:26.708421Z",
     "start_time": "2019-09-11T18:22:26.702423Z"
    }
   },
   "outputs": [],
   "source": [
    "n_fold = 5\n",
    "folds = KFold(n_splits=n_fold)\n",
    "params = {\n",
    "#           'num_leaves': 491,\n",
    "#           'min_child_weight': 0.03454472573214212,\n",
    "#           'feature_fraction': 0.3797454081646243,\n",
    "#           'bagging_fraction': 0.4181193142567742,\n",
    "#           'min_data_in_leaf': 106,\n",
    "          'objective': 'binary',\n",
    "          'max_depth': -1,\n",
    "          'learning_rate': 0.03,\n",
    "          \"boosting_type\": \"gbdt\",\n",
    "          \"bagging_seed\": 11,\n",
    "          \"metric\": 'auc',\n",
    "          \"verbosity\": -1,\n",
    "#           'reg_alpha': 0.3899927210061127,\n",
    "#           'reg_lambda': 0.6485237330340494,\n",
    "          'random_state': 47, \n",
    "         }\n",
    "\n",
    "train_options = {\n",
    "    \"model_type\":'lgb',\n",
    "    \"params\": params,\n",
    "    \"eval_metric\":'auc',\n",
    "    'early_stopping_rounds': 200,\n",
    "    'n_estimators': 1000,\n",
    "    'averaging': 'usual',\n",
    "    'use_groups': False,\n",
    "    'fold_name': folds.__class__.__name__,\n",
    "    'n_splits': 1\n",
    "}"
   ]
  },
  {
   "cell_type": "code",
   "execution_count": 8,
   "metadata": {
    "ExecuteTime": {
     "end_time": "2019-09-11T18:22:26.946426Z",
     "start_time": "2019-09-11T18:22:26.938423Z"
    }
   },
   "outputs": [],
   "source": [
    "with open('../../Data/individual_auc_from_aggregates.csv','a') as logger:\n",
    "    logger.write('feature_name, auc\\n')"
   ]
  },
  {
   "cell_type": "code",
   "execution_count": null,
   "metadata": {
    "ExecuteTime": {
     "start_time": "2019-09-11T18:14:45.151Z"
    }
   },
   "outputs": [
    {
     "name": "stdout",
     "output_type": "stream",
     "text": [
      "TransactionAmt_by_card_id_ws1d_to_mean\n",
      "Fold 5 started at Wed Sep 11 21:14:45 2019\n",
      "Training until validation scores don't improve for 200 rounds.\n",
      "Early stopping, best iteration is:\n",
      "[114]\ttraining's auc: 0.936864\ttraining's auc: 0.936909\tvalid_1's auc: 0.927138\tvalid_1's auc: 0.92719\n",
      "CV mean score: 0.9271, std: 0.0000.\n",
      "TransactionAmt_by_card_id_ws1d_to_mean - 4.2825412114866346e-05\n",
      "TransactionAmt_by_card_id_ws1d_to_std\n",
      "Fold 5 started at Wed Sep 11 21:15:22 2019\n",
      "Training until validation scores don't improve for 200 rounds.\n",
      "Early stopping, best iteration is:\n",
      "[157]\ttraining's auc: 0.938618\ttraining's auc: 0.938618\tvalid_1's auc: 0.92671\tvalid_1's auc: 0.926722\n",
      "CV mean score: 0.9267, std: 0.0000.\n",
      "TransactionAmt_by_card_id_ws1d_to_std - -0.0003847393511883235\n",
      "TransactionAmt_by_card_id_ws2d_to_mean\n",
      "Fold 5 started at Wed Sep 11 21:16:04 2019\n",
      "Training until validation scores don't improve for 200 rounds.\n",
      "Early stopping, best iteration is:\n",
      "[102]\ttraining's auc: 0.936522\ttraining's auc: 0.936556\tvalid_1's auc: 0.926983\tvalid_1's auc: 0.926917\n",
      "CV mean score: 0.9270, std: 0.0000.\n",
      "TransactionAmt_by_card_id_ws2d_to_mean - -0.00011174177800421514\n",
      "TransactionAmt_by_card_id_ws2d_to_std\n",
      "Fold 5 started at Wed Sep 11 21:16:39 2019\n",
      "Training until validation scores don't improve for 200 rounds.\n",
      "Early stopping, best iteration is:\n",
      "[69]\ttraining's auc: 0.936134\ttraining's auc: 0.936137\tvalid_1's auc: 0.926634\tvalid_1's auc: 0.926684\n",
      "CV mean score: 0.9266, std: 0.0000.\n",
      "TransactionAmt_by_card_id_ws2d_to_std - -0.00046116853089173127\n",
      "TransactionAmt_by_card_id_ws3d_to_mean\n",
      "Fold 5 started at Wed Sep 11 21:17:11 2019\n",
      "Training until validation scores don't improve for 200 rounds.\n",
      "Early stopping, best iteration is:\n",
      "[125]\ttraining's auc: 0.937277\ttraining's auc: 0.937347\tvalid_1's auc: 0.927092\tvalid_1's auc: 0.92704\n",
      "CV mean score: 0.9271, std: 0.0000.\n",
      "TransactionAmt_by_card_id_ws3d_to_mean - -3.578403707682476e-06\n",
      "TransactionAmt_by_card_id_ws3d_to_std\n",
      "Fold 5 started at Wed Sep 11 21:17:50 2019\n",
      "Training until validation scores don't improve for 200 rounds.\n",
      "Early stopping, best iteration is:\n",
      "[26]\ttraining's auc: 0.935274\ttraining's auc: 0.935366\tvalid_1's auc: 0.926556\tvalid_1's auc: 0.926704\n",
      "CV mean score: 0.9266, std: 0.0000.\n",
      "TransactionAmt_by_card_id_ws3d_to_std - -0.0005394586531319856\n",
      "TransactionAmt_by_card_id_ws7d_to_mean\n",
      "Fold 5 started at Wed Sep 11 21:18:16 2019\n",
      "Training until validation scores don't improve for 200 rounds.\n",
      "Early stopping, best iteration is:\n",
      "[39]\ttraining's auc: 0.935439\ttraining's auc: 0.935561\tvalid_1's auc: 0.92693\tvalid_1's auc: 0.926958\n",
      "CV mean score: 0.9269, std: 0.0000.\n",
      "TransactionAmt_by_card_id_ws7d_to_mean - -0.00016540488793248542\n",
      "TransactionAmt_by_card_id_ws7d_to_std\n",
      "Fold 5 started at Wed Sep 11 21:18:43 2019\n",
      "Training until validation scores don't improve for 200 rounds.\n",
      "Early stopping, best iteration is:\n",
      "[11]\ttraining's auc: 0.934426\ttraining's auc: 0.934579\tvalid_1's auc: 0.926691\tvalid_1's auc: 0.926457\n",
      "CV mean score: 0.9267, std: 0.0000.\n",
      "TransactionAmt_by_card_id_ws7d_to_std - -0.0004040575529350443\n",
      "TransactionAmt_by_card_id_ws30d_to_mean\n",
      "Fold 5 started at Wed Sep 11 21:19:07 2019\n",
      "Training until validation scores don't improve for 200 rounds.\n",
      "Early stopping, best iteration is:\n",
      "[103]\ttraining's auc: 0.936717\ttraining's auc: 0.936793\tvalid_1's auc: 0.926825\tvalid_1's auc: 0.926885\n",
      "CV mean score: 0.9268, std: 0.0000.\n",
      "TransactionAmt_by_card_id_ws30d_to_mean - -0.00027026926960360687\n",
      "TransactionAmt_by_card_id_ws30d_to_std\n",
      "Fold 5 started at Wed Sep 11 21:19:43 2019\n",
      "Training until validation scores don't improve for 200 rounds.\n",
      "Early stopping, best iteration is:\n",
      "[83]\ttraining's auc: 0.93617\ttraining's auc: 0.936137\tvalid_1's auc: 0.926842\tvalid_1's auc: 0.926951\n",
      "CV mean score: 0.9268, std: 0.0000.\n",
      "TransactionAmt_by_card_id_ws30d_to_std - -0.00025353696887819854\n",
      "TransactionAmt_by_card_id_ws5_to_mean\n",
      "Fold 5 started at Wed Sep 11 21:20:17 2019\n",
      "Training until validation scores don't improve for 200 rounds.\n",
      "Early stopping, best iteration is:\n",
      "[142]\ttraining's auc: 0.937882\ttraining's auc: 0.937875\tvalid_1's auc: 0.926831\tvalid_1's auc: 0.926824\n",
      "CV mean score: 0.9268, std: 0.0000.\n",
      "TransactionAmt_by_card_id_ws5_to_mean - -0.0002641330138636322\n",
      "TransactionAmt_by_card_id_ws5_to_std\n",
      "Fold 5 started at Wed Sep 11 21:20:57 2019\n",
      "Training until validation scores don't improve for 200 rounds.\n"
     ]
    }
   ],
   "source": [
    "for fname in all_features:\n",
    "    print(fname) \n",
    "    X = X_score_agg[[fname]]\n",
    "    result_dict_lgb = train_model_classification(X=X, X_test=None, y=y, params=params, folds=folds,\n",
    "                                             model_type=train_options['model_type'], \n",
    "                                             eval_metric=train_options['eval_metric'],\n",
    "                                             plot_feature_importance=False,\n",
    "                                             verbose=-1, early_stopping_rounds=train_options['early_stopping_rounds'],\n",
    "                                             n_estimators=train_options['n_estimators'], \n",
    "                                             averaging=train_options['averaging'],\n",
    "                                             splits = train_options['n_splits'],\n",
    "                                             n_jobs=-1, groups=None)\n",
    "    auc = result_dict_lgb['scores'][0] \n",
    "    print(f'{fname} - {auc}') \n",
    "    with open('../../Data/individual_auc_from_aggregates.csv','a') as logger:\n",
    "        logger.write(f'{fname}, {auc}\\n')\n",
    "    "
   ]
  },
  {
   "cell_type": "code",
   "execution_count": 43,
   "metadata": {
    "ExecuteTime": {
     "end_time": "2019-09-11T18:09:06.756980Z",
     "start_time": "2019-09-11T18:09:06.751980Z"
    }
   },
   "outputs": [
    {
     "data": {
      "text/plain": [
       "{'oof': array([[0.        ],\n",
       "        [0.        ],\n",
       "        [0.        ],\n",
       "        ...,\n",
       "        [0.00503485],\n",
       "        [0.07737692],\n",
       "        [0.0080698 ]]), 'scores': [0.9271380119605033]}"
      ]
     },
     "execution_count": 43,
     "metadata": {},
     "output_type": "execute_result"
    }
   ],
   "source": [
    "result_dict_lgb"
   ]
  },
  {
   "cell_type": "code",
   "execution_count": null,
   "metadata": {},
   "outputs": [],
   "source": []
  }
 ],
 "metadata": {
  "kernelspec": {
   "display_name": "Python 3",
   "language": "python",
   "name": "python3"
  },
  "language_info": {
   "codemirror_mode": {
    "name": "ipython",
    "version": 3
   },
   "file_extension": ".py",
   "mimetype": "text/x-python",
   "name": "python",
   "nbconvert_exporter": "python",
   "pygments_lexer": "ipython3",
   "version": "3.6.5"
  },
  "toc": {
   "base_numbering": 1,
   "nav_menu": {},
   "number_sections": true,
   "sideBar": true,
   "skip_h1_title": false,
   "title_cell": "Table of Contents",
   "title_sidebar": "Contents",
   "toc_cell": false,
   "toc_position": {},
   "toc_section_display": true,
   "toc_window_display": false
  },
  "varInspector": {
   "cols": {
    "lenName": 16,
    "lenType": 16,
    "lenVar": 40
   },
   "kernels_config": {
    "python": {
     "delete_cmd_postfix": "",
     "delete_cmd_prefix": "del ",
     "library": "var_list.py",
     "varRefreshCmd": "print(var_dic_list())"
    },
    "r": {
     "delete_cmd_postfix": ") ",
     "delete_cmd_prefix": "rm(",
     "library": "var_list.r",
     "varRefreshCmd": "cat(var_dic_list()) "
    }
   },
   "types_to_exclude": [
    "module",
    "function",
    "builtin_function_or_method",
    "instance",
    "_Feature"
   ],
   "window_display": false
  }
 },
 "nbformat": 4,
 "nbformat_minor": 2
}
